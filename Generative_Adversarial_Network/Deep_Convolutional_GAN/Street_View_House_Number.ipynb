{
  "nbformat": 4,
  "nbformat_minor": 0,
  "metadata": {
    "kernelspec": {
      "display_name": "Python 3",
      "language": "python",
      "name": "python3"
    },
    "language_info": {
      "codemirror_mode": {
        "name": "ipython",
        "version": 3
      },
      "file_extension": ".py",
      "mimetype": "text/x-python",
      "name": "python",
      "nbconvert_exporter": "python",
      "pygments_lexer": "ipython3",
      "version": "3.6.3"
    },
    "colab": {
      "name": "DCGAN_Solution.ipynb",
      "provenance": [],
      "include_colab_link": true
    },
    "widgets": {
      "application/vnd.jupyter.widget-state+json": {
        "a5b45616571347258fcf6a65c0560bf5": {
          "model_module": "@jupyter-widgets/controls",
          "model_name": "HBoxModel",
          "state": {
            "_view_name": "HBoxView",
            "_dom_classes": [],
            "_model_name": "HBoxModel",
            "_view_module": "@jupyter-widgets/controls",
            "_model_module_version": "1.5.0",
            "_view_count": null,
            "_view_module_version": "1.5.0",
            "box_style": "",
            "layout": "IPY_MODEL_8c487aa582b74453b34187dc48d219e6",
            "_model_module": "@jupyter-widgets/controls",
            "children": [
              "IPY_MODEL_5eee4a35a78e4475ba102282dd46ce2b",
              "IPY_MODEL_fbe2c7b77fcb4a8d9001f2fcbeafc51a"
            ]
          }
        },
        "8c487aa582b74453b34187dc48d219e6": {
          "model_module": "@jupyter-widgets/base",
          "model_name": "LayoutModel",
          "state": {
            "_view_name": "LayoutView",
            "grid_template_rows": null,
            "right": null,
            "justify_content": null,
            "_view_module": "@jupyter-widgets/base",
            "overflow": null,
            "_model_module_version": "1.2.0",
            "_view_count": null,
            "flex_flow": null,
            "width": null,
            "min_width": null,
            "border": null,
            "align_items": null,
            "bottom": null,
            "_model_module": "@jupyter-widgets/base",
            "top": null,
            "grid_column": null,
            "overflow_y": null,
            "overflow_x": null,
            "grid_auto_flow": null,
            "grid_area": null,
            "grid_template_columns": null,
            "flex": null,
            "_model_name": "LayoutModel",
            "justify_items": null,
            "grid_row": null,
            "max_height": null,
            "align_content": null,
            "visibility": null,
            "align_self": null,
            "height": null,
            "min_height": null,
            "padding": null,
            "grid_auto_rows": null,
            "grid_gap": null,
            "max_width": null,
            "order": null,
            "_view_module_version": "1.2.0",
            "grid_template_areas": null,
            "object_position": null,
            "object_fit": null,
            "grid_auto_columns": null,
            "margin": null,
            "display": null,
            "left": null
          }
        },
        "5eee4a35a78e4475ba102282dd46ce2b": {
          "model_module": "@jupyter-widgets/controls",
          "model_name": "FloatProgressModel",
          "state": {
            "_view_name": "ProgressView",
            "style": "IPY_MODEL_aacfa861741e4674b7e5922b040a7231",
            "_dom_classes": [],
            "description": "",
            "_model_name": "FloatProgressModel",
            "bar_style": "info",
            "max": 1,
            "_view_module": "@jupyter-widgets/controls",
            "_model_module_version": "1.5.0",
            "value": 1,
            "_view_count": null,
            "_view_module_version": "1.5.0",
            "orientation": "horizontal",
            "min": 0,
            "description_tooltip": null,
            "_model_module": "@jupyter-widgets/controls",
            "layout": "IPY_MODEL_a34b8d03924b499f9ec46d47053f5043"
          }
        },
        "fbe2c7b77fcb4a8d9001f2fcbeafc51a": {
          "model_module": "@jupyter-widgets/controls",
          "model_name": "HTMLModel",
          "state": {
            "_view_name": "HTMLView",
            "style": "IPY_MODEL_d09345de1a034509bf49db10eca75b50",
            "_dom_classes": [],
            "description": "",
            "_model_name": "HTMLModel",
            "placeholder": "​",
            "_view_module": "@jupyter-widgets/controls",
            "_model_module_version": "1.5.0",
            "value": " 182042624/? [00:30&lt;00:00, 15744760.52it/s]",
            "_view_count": null,
            "_view_module_version": "1.5.0",
            "description_tooltip": null,
            "_model_module": "@jupyter-widgets/controls",
            "layout": "IPY_MODEL_20d336ca582848ed876c70c785baee36"
          }
        },
        "aacfa861741e4674b7e5922b040a7231": {
          "model_module": "@jupyter-widgets/controls",
          "model_name": "ProgressStyleModel",
          "state": {
            "_view_name": "StyleView",
            "_model_name": "ProgressStyleModel",
            "description_width": "initial",
            "_view_module": "@jupyter-widgets/base",
            "_model_module_version": "1.5.0",
            "_view_count": null,
            "_view_module_version": "1.2.0",
            "bar_color": null,
            "_model_module": "@jupyter-widgets/controls"
          }
        },
        "a34b8d03924b499f9ec46d47053f5043": {
          "model_module": "@jupyter-widgets/base",
          "model_name": "LayoutModel",
          "state": {
            "_view_name": "LayoutView",
            "grid_template_rows": null,
            "right": null,
            "justify_content": null,
            "_view_module": "@jupyter-widgets/base",
            "overflow": null,
            "_model_module_version": "1.2.0",
            "_view_count": null,
            "flex_flow": null,
            "width": null,
            "min_width": null,
            "border": null,
            "align_items": null,
            "bottom": null,
            "_model_module": "@jupyter-widgets/base",
            "top": null,
            "grid_column": null,
            "overflow_y": null,
            "overflow_x": null,
            "grid_auto_flow": null,
            "grid_area": null,
            "grid_template_columns": null,
            "flex": null,
            "_model_name": "LayoutModel",
            "justify_items": null,
            "grid_row": null,
            "max_height": null,
            "align_content": null,
            "visibility": null,
            "align_self": null,
            "height": null,
            "min_height": null,
            "padding": null,
            "grid_auto_rows": null,
            "grid_gap": null,
            "max_width": null,
            "order": null,
            "_view_module_version": "1.2.0",
            "grid_template_areas": null,
            "object_position": null,
            "object_fit": null,
            "grid_auto_columns": null,
            "margin": null,
            "display": null,
            "left": null
          }
        },
        "d09345de1a034509bf49db10eca75b50": {
          "model_module": "@jupyter-widgets/controls",
          "model_name": "DescriptionStyleModel",
          "state": {
            "_view_name": "StyleView",
            "_model_name": "DescriptionStyleModel",
            "description_width": "",
            "_view_module": "@jupyter-widgets/base",
            "_model_module_version": "1.5.0",
            "_view_count": null,
            "_view_module_version": "1.2.0",
            "_model_module": "@jupyter-widgets/controls"
          }
        },
        "20d336ca582848ed876c70c785baee36": {
          "model_module": "@jupyter-widgets/base",
          "model_name": "LayoutModel",
          "state": {
            "_view_name": "LayoutView",
            "grid_template_rows": null,
            "right": null,
            "justify_content": null,
            "_view_module": "@jupyter-widgets/base",
            "overflow": null,
            "_model_module_version": "1.2.0",
            "_view_count": null,
            "flex_flow": null,
            "width": null,
            "min_width": null,
            "border": null,
            "align_items": null,
            "bottom": null,
            "_model_module": "@jupyter-widgets/base",
            "top": null,
            "grid_column": null,
            "overflow_y": null,
            "overflow_x": null,
            "grid_auto_flow": null,
            "grid_area": null,
            "grid_template_columns": null,
            "flex": null,
            "_model_name": "LayoutModel",
            "justify_items": null,
            "grid_row": null,
            "max_height": null,
            "align_content": null,
            "visibility": null,
            "align_self": null,
            "height": null,
            "min_height": null,
            "padding": null,
            "grid_auto_rows": null,
            "grid_gap": null,
            "max_width": null,
            "order": null,
            "_view_module_version": "1.2.0",
            "grid_template_areas": null,
            "object_position": null,
            "object_fit": null,
            "grid_auto_columns": null,
            "margin": null,
            "display": null,
            "left": null
          }
        }
      }
    }
  },
  "cells": [
    {
      "cell_type": "markdown",
      "metadata": {
        "id": "view-in-github",
        "colab_type": "text"
      },
      "source": [
        "<a href=\"https://colab.research.google.com/github/MengOonLee/BertelsmannAITrack/blob/master/Generative_Adversarial_Network/Deep_Convolutional_GAN/Street_View_House_Number.ipynb\" target=\"_parent\"><img src=\"https://colab.research.google.com/assets/colab-badge.svg\" alt=\"Open In Colab\"/></a>"
      ]
    },
    {
      "cell_type": "markdown",
      "metadata": {
        "id": "J9VO6PX_C39v",
        "colab_type": "text"
      },
      "source": [
        "# Deep Convolutional GANs\n",
        "\n",
        "In this notebook, you'll build a GAN using convolutional layers in the generator and discriminator. This is called a Deep Convolutional GAN, or DCGAN for short. The DCGAN architecture was first explored in 2016 and has seen impressive results in generating new images; you can read the [original paper, here](https://arxiv.org/pdf/1511.06434.pdf).\n",
        "\n",
        "You'll be training DCGAN on the [Street View House Numbers](http://ufldl.stanford.edu/housenumbers/) (SVHN) dataset. These are color images of house numbers collected from Google street view. SVHN images are in color and much more variable than MNIST. \n",
        "\n",
        "<img src='https://github.com/udacity/deep-learning-v2-pytorch/blob/master/dcgan-svhn/assets/svhn_dcgan.png?raw=1'/>\n",
        "\n",
        "So, our goal is to create a DCGAN that can generate new, realistic-looking images of house numbers. We'll go through the following steps to do this:\n",
        "* Load in and pre-process the house numbers dataset\n",
        "* Define discriminator and generator networks\n",
        "* Train these adversarial networks\n",
        "* Visualize the loss over time and some sample, generated images\n",
        "\n",
        "#### Deeper Convolutional Networks\n",
        "\n",
        "Since this dataset is more complex than our MNIST data, we'll need a deeper network to accurately identify patterns in these images and be able to generate new ones. Specifically, we'll use a series of convolutional or transpose convolutional layers in the discriminator and generator. It's also necessary to use batch normalization to get these convolutional networks to train. \n",
        "\n",
        "Besides these changes in network structure, training the discriminator and generator networks should be the same as before. That is, the discriminator will alternate training on real and fake (generated) images, and the generator will aim to trick the discriminator into thinking that its generated images are real!"
      ]
    },
    {
      "cell_type": "code",
      "metadata": {
        "id": "EfCkmPBFC39y",
        "colab_type": "code",
        "colab": {}
      },
      "source": [
        "# import libraries\n",
        "import matplotlib.pyplot as plt\n",
        "import numpy as np\n",
        "import pickle as pkl\n",
        "\n",
        "%matplotlib inline"
      ],
      "execution_count": 1,
      "outputs": []
    },
    {
      "cell_type": "markdown",
      "metadata": {
        "id": "mI984UBkC398",
        "colab_type": "text"
      },
      "source": [
        "## Getting the data\n",
        "\n",
        "Here you can download the SVHN dataset. It's a dataset built-in to the PyTorch datasets library. We can load in training data, transform it into Tensor datatypes, then create dataloaders to batch our data into a desired size."
      ]
    },
    {
      "cell_type": "code",
      "metadata": {
        "id": "vNXiSc1EC399",
        "colab_type": "code",
        "colab": {
          "base_uri": "https://localhost:8080/",
          "height": 66,
          "referenced_widgets": [
            "a5b45616571347258fcf6a65c0560bf5",
            "8c487aa582b74453b34187dc48d219e6",
            "5eee4a35a78e4475ba102282dd46ce2b",
            "fbe2c7b77fcb4a8d9001f2fcbeafc51a",
            "aacfa861741e4674b7e5922b040a7231",
            "a34b8d03924b499f9ec46d47053f5043",
            "d09345de1a034509bf49db10eca75b50",
            "20d336ca582848ed876c70c785baee36"
          ]
        },
        "outputId": "d55a8830-fed2-4202-d395-a89d341a33d8"
      },
      "source": [
        "import torch\n",
        "from torchvision import datasets\n",
        "from torchvision import transforms\n",
        "\n",
        "# Tensor transform\n",
        "transform = transforms.ToTensor()\n",
        "\n",
        "# SVHN training datasets\n",
        "svhn_train = datasets.SVHN(root='data/', split='train', download=True, transform=transform)\n",
        "\n",
        "batch_size = 128\n",
        "num_workers = 0\n",
        "\n",
        "# build DataLoaders for SVHN dataset\n",
        "train_loader = torch.utils.data.DataLoader(dataset=svhn_train,\n",
        "                                          batch_size=batch_size,\n",
        "                                          shuffle=True,\n",
        "                                          num_workers=num_workers)\n"
      ],
      "execution_count": 2,
      "outputs": [
        {
          "output_type": "stream",
          "text": [
            "Downloading http://ufldl.stanford.edu/housenumbers/train_32x32.mat to data/train_32x32.mat\n"
          ],
          "name": "stdout"
        },
        {
          "output_type": "display_data",
          "data": {
            "application/vnd.jupyter.widget-view+json": {
              "model_id": "a5b45616571347258fcf6a65c0560bf5",
              "version_minor": 0,
              "version_major": 2
            },
            "text/plain": [
              "HBox(children=(FloatProgress(value=1.0, bar_style='info', max=1.0), HTML(value='')))"
            ]
          },
          "metadata": {
            "tags": []
          }
        }
      ]
    },
    {
      "cell_type": "markdown",
      "metadata": {
        "id": "6dQzFnsHC3-L",
        "colab_type": "text"
      },
      "source": [
        "### Visualize the Data\n",
        "\n",
        "Here I'm showing a small sample of the images. Each of these is 32x32 with 3 color channels (RGB). These are the real, training images that we'll pass to the discriminator. Notice that each image has _one_ associated, numerical label."
      ]
    },
    {
      "cell_type": "code",
      "metadata": {
        "id": "wvPkZTznC3-N",
        "colab_type": "code",
        "colab": {
          "base_uri": "https://localhost:8080/",
          "height": 168
        },
        "outputId": "290a050a-a0ab-4df7-cfd5-fdedeef096b0"
      },
      "source": [
        "# obtain one batch of training images\n",
        "dataiter = iter(train_loader)\n",
        "images, labels = dataiter.next()\n",
        "\n",
        "# plot the images in the batch, along with the corresponding labels\n",
        "fig = plt.figure(figsize=(25, 4))\n",
        "plot_size=20\n",
        "for idx in np.arange(plot_size):\n",
        "    ax = fig.add_subplot(2, plot_size/2, idx+1, xticks=[], yticks=[])\n",
        "    ax.imshow(np.transpose(images[idx], (1, 2, 0)))\n",
        "    # print out the correct label for each image\n",
        "    # .item() gets the value contained in a Tensor\n",
        "    ax.set_title(str(labels[idx].item()))"
      ],
      "execution_count": 3,
      "outputs": [
        {
          "output_type": "display_data",
          "data": {
            "image/png": "[encoded data removed]",
            "text/plain": [
              "<Figure size 1800x288 with 20 Axes>"
            ]
          },
          "metadata": {
            "tags": []
          }
        }
      ]
    },
    {
      "cell_type": "markdown",
      "metadata": {
        "id": "qWrq079nC3-U",
        "colab_type": "text"
      },
      "source": [
        "### Pre-processing: scaling from -1 to 1\n",
        "\n",
        "We need to do a bit of pre-processing; we know that the output of our `tanh` activated generator will contain pixel values in a range from -1 to 1, and so, we need to rescale our training images to a range of -1 to 1. (Right now, they are in a range from 0-1.)"
      ]
    },
    {
      "cell_type": "code",
      "metadata": {
        "id": "jckw7D8mC3-V",
        "colab_type": "code",
        "colab": {
          "base_uri": "https://localhost:8080/",
          "height": 51
        },
        "outputId": "88c069ac-c14f-4e9a-91ea-cdae09a30cbb"
      },
      "source": [
        "# current range\n",
        "img = images[0]\n",
        "\n",
        "print('Min: ', img.min())\n",
        "print('Max: ', img.max())"
      ],
      "execution_count": 4,
      "outputs": [
        {
          "output_type": "stream",
          "text": [
            "Min:  tensor(0.0627)\n",
            "Max:  tensor(0.7373)\n"
          ],
          "name": "stdout"
        }
      ]
    },
    {
      "cell_type": "code",
      "metadata": {
        "id": "sQ9pv2NHC3-v",
        "colab_type": "code",
        "colab": {}
      },
      "source": [
        "# helper scale function\n",
        "def scale(x, feature_range=(-1, 1)):\n",
        "    ''' Scale takes in an image x and returns that image, scaled\n",
        "       with a feature_range of pixel values from -1 to 1. \n",
        "       This function assumes that the input x is already scaled from 0-1.'''\n",
        "    # assume x is scaled to (0, 1)\n",
        "    # scale to feature_range and return scaled x\n",
        "    min, max = feature_range\n",
        "    x = x * (max - min) + min\n",
        "    return x\n"
      ],
      "execution_count": 5,
      "outputs": []
    },
    {
      "cell_type": "code",
      "metadata": {
        "id": "YDZxWUs9C3-3",
        "colab_type": "code",
        "colab": {
          "base_uri": "https://localhost:8080/",
          "height": 51
        },
        "outputId": "3a3e77a7-eb90-45df-bb93-2db96983babe"
      },
      "source": [
        "# scaled range\n",
        "scaled_img = scale(img)\n",
        "\n",
        "print('Scaled min: ', scaled_img.min())\n",
        "print('Scaled max: ', scaled_img.max())"
      ],
      "execution_count": 6,
      "outputs": [
        {
          "output_type": "stream",
          "text": [
            "Scaled min:  tensor(-0.8745)\n",
            "Scaled max:  tensor(0.4745)\n"
          ],
          "name": "stdout"
        }
      ]
    },
    {
      "cell_type": "markdown",
      "metadata": {
        "id": "saNysP9aC3_G",
        "colab_type": "text"
      },
      "source": [
        "---\n",
        "# Define the Model\n",
        "\n",
        "A GAN is comprised of two adversarial networks, a discriminator and a generator."
      ]
    },
    {
      "cell_type": "markdown",
      "metadata": {
        "id": "hPO9BuRqC3_H",
        "colab_type": "text"
      },
      "source": [
        "## Discriminator\n",
        "\n",
        "Here you'll build the discriminator. This is a convolutional classifier like you've built before, only without any maxpooling layers. \n",
        "* The inputs to the discriminator are 32x32x3 tensor images\n",
        "* You'll want a few convolutional, hidden layers\n",
        "* Then a fully connected layer for the output; as before, we want a sigmoid output, but we'll add that in the loss function, [BCEWithLogitsLoss](https://pytorch.org/docs/stable/nn.html#bcewithlogitsloss), later\n",
        "\n",
        "<img src='https://github.com/udacity/deep-learning-v2-pytorch/blob/master/dcgan-svhn/assets/conv_discriminator.png?raw=1'/>\n",
        "\n",
        "For the depths of the convolutional layers I suggest starting with 32 filters in the first layer, then double that depth as you add layers (to 64, 128, etc.). Note that in the DCGAN paper, they did all the downsampling using only strided convolutional layers with no maxpooling layers.\n",
        "\n",
        "You'll also want to use batch normalization with [nn.BatchNorm2d](https://pytorch.org/docs/stable/nn.html#batchnorm2d) on each layer **except** the first convolutional layer and final, linear output layer.\n",
        "\n",
        "#### Helper `conv` function \n",
        "\n",
        "In general, each layer should look something like convolution > batch norm > leaky ReLU, and so we'll define a function to put these layers together. This function will create a sequential series of a convolutional + an optional batch norm layer. We'll create these using PyTorch's [Sequential container](https://pytorch.org/docs/stable/nn.html#sequential), which takes in a list of layers and creates layers according to the order that they are passed in to the Sequential constructor.\n",
        "\n",
        "Note: It is also suggested that you use a **kernel_size of 4** and a **stride of 2** for strided convolutions."
      ]
    },
    {
      "cell_type": "code",
      "metadata": {
        "id": "Vozu4zH_C3_J",
        "colab_type": "code",
        "colab": {}
      },
      "source": [
        "import torch.nn as nn\n",
        "import torch.nn.functional as F\n",
        "\n",
        "# helper conv function\n",
        "def conv(in_channels, out_channels, kernel_size, stride=2, padding=1, batch_norm=True):\n",
        "    \"\"\"Creates a convolutional layer, with optional batch normalization.\n",
        "    \"\"\"\n",
        "    layers = []\n",
        "    conv_layer = nn.Conv2d(in_channels, out_channels, \n",
        "                           kernel_size, stride, padding, bias=False)\n",
        "    \n",
        "    # append conv layer\n",
        "    layers.append(conv_layer)\n",
        "\n",
        "    if batch_norm:\n",
        "        # append batchnorm layer\n",
        "        layers.append(nn.BatchNorm2d(out_channels))\n",
        "     \n",
        "    # using Sequential container\n",
        "    return nn.Sequential(*layers)\n"
      ],
      "execution_count": 7,
      "outputs": []
    },
    {
      "cell_type": "code",
      "metadata": {
        "id": "PupWCbgqC3_R",
        "colab_type": "code",
        "colab": {}
      },
      "source": [
        "class Discriminator(nn.Module):\n",
        "\n",
        "    def __init__(self, conv_dim=32):\n",
        "        super(Discriminator, self).__init__()\n",
        "\n",
        "        # complete init function\n",
        "        self.conv_dim = conv_dim\n",
        "\n",
        "        # 32x32 input\n",
        "        self.conv1 = conv(3, conv_dim, 4, batch_norm=False) # first layer, no batch_norm\n",
        "        # 16x16 out\n",
        "        self.conv2 = conv(conv_dim, conv_dim*2, 4)\n",
        "        # 8x8 out\n",
        "        self.conv3 = conv(conv_dim*2, conv_dim*4, 4)\n",
        "        # 4x4 out\n",
        "        \n",
        "        # final, fully-connected layer\n",
        "        self.fc = nn.Linear(conv_dim*4*4*4, 1)\n",
        "\n",
        "    def forward(self, x):\n",
        "        # all hidden layers + leaky relu activation\n",
        "        out = F.leaky_relu(self.conv1(x), 0.2)\n",
        "        out = F.leaky_relu(self.conv2(out), 0.2)\n",
        "        out = F.leaky_relu(self.conv3(out), 0.2)\n",
        "        \n",
        "        # flatten\n",
        "        out = out.view(-1, self.conv_dim*4*4*4)\n",
        "        \n",
        "        # final output layer\n",
        "        out = self.fc(out)        \n",
        "        return out\n",
        "    "
      ],
      "execution_count": 8,
      "outputs": []
    },
    {
      "cell_type": "markdown",
      "metadata": {
        "id": "vWPNGmuNC3_b",
        "colab_type": "text"
      },
      "source": [
        "## Generator\n",
        "\n",
        "Next, you'll build the generator network. The input will be our noise vector `z`, as before. And, the output will be a $tanh$ output, but this time with size 32x32 which is the size of our SVHN images.\n",
        "\n",
        "<img src='https://github.com/udacity/deep-learning-v2-pytorch/blob/master/dcgan-svhn/assets/conv_generator.png?raw=1'/>\n",
        "\n",
        "What's new here is we'll use transpose convolutional layers to create our new images. \n",
        "* The first layer is a fully connected layer which is reshaped into a deep and narrow layer, something like 4x4x512. \n",
        "* Then, we use batch normalization and a leaky ReLU activation. \n",
        "* Next is a series of [transpose convolutional layers](https://pytorch.org/docs/stable/nn.html#convtranspose2d), where you typically halve the depth and double the width and height of the previous layer. \n",
        "* And, we'll apply batch normalization and ReLU to all but the last of these hidden layers. Where we will just apply a `tanh` activation.\n",
        "\n",
        "#### Helper `deconv` function\n",
        "\n",
        "For each of these layers, the general scheme is transpose convolution > batch norm > ReLU, and so we'll define a function to put these layers together. This function will create a sequential series of a transpose convolutional + an optional batch norm layer. We'll create these using PyTorch's Sequential container, which takes in a list of layers and creates layers according to the order that they are passed in to the Sequential constructor.\n",
        "\n",
        "Note: It is also suggested that you use a **kernel_size of 4** and a **stride of 2** for transpose convolutions."
      ]
    },
    {
      "cell_type": "code",
      "metadata": {
        "id": "6fO-nAnXC3_d",
        "colab_type": "code",
        "colab": {}
      },
      "source": [
        "# helper deconv function\n",
        "def deconv(in_channels, out_channels, kernel_size, stride=2, padding=1, batch_norm=True):\n",
        "    \"\"\"Creates a transposed-convolutional layer, with optional batch normalization.\n",
        "    \"\"\"\n",
        "    # create a sequence of transpose + optional batch norm layers\n",
        "    layers = []\n",
        "    transpose_conv_layer = nn.ConvTranspose2d(in_channels, out_channels, \n",
        "                                              kernel_size, stride, padding, bias=False)\n",
        "    # append transpose convolutional layer\n",
        "    layers.append(transpose_conv_layer)\n",
        "    \n",
        "    if batch_norm:\n",
        "        # append batchnorm layer\n",
        "        layers.append(nn.BatchNorm2d(out_channels))\n",
        "        \n",
        "    return nn.Sequential(*layers)\n"
      ],
      "execution_count": null,
      "outputs": []
    },
    {
      "cell_type": "code",
      "metadata": {
        "id": "sGOeXaPKC3_k",
        "colab_type": "code",
        "colab": {}
      },
      "source": [
        "class Generator(nn.Module):\n",
        "    \n",
        "    def __init__(self, z_size, conv_dim=32):\n",
        "        super(Generator, self).__init__()\n",
        "\n",
        "        # complete init function\n",
        "        \n",
        "        self.conv_dim = conv_dim\n",
        "        \n",
        "        # first, fully-connected layer\n",
        "        self.fc = nn.Linear(z_size, conv_dim*4*4*4)\n",
        "\n",
        "        # transpose conv layers\n",
        "        self.t_conv1 = deconv(conv_dim*4, conv_dim*2, 4)\n",
        "        self.t_conv2 = deconv(conv_dim*2, conv_dim, 4)\n",
        "        self.t_conv3 = deconv(conv_dim, 3, 4, batch_norm=False)\n",
        "        \n",
        "\n",
        "    def forward(self, x):\n",
        "        # fully-connected + reshape \n",
        "        out = self.fc(x)\n",
        "        out = out.view(-1, self.conv_dim*4, 4, 4) # (batch_size, depth, 4, 4)\n",
        "        \n",
        "        # hidden transpose conv layers + relu\n",
        "        out = F.relu(self.t_conv1(out))\n",
        "        out = F.relu(self.t_conv2(out))\n",
        "        \n",
        "        # last layer + tanh activation\n",
        "        out = self.t_conv3(out)\n",
        "        out = F.tanh(out)\n",
        "        \n",
        "        return out\n",
        "    "
      ],
      "execution_count": null,
      "outputs": []
    },
    {
      "cell_type": "markdown",
      "metadata": {
        "collapsed": true,
        "id": "GAMMCNKKC3_0",
        "colab_type": "text"
      },
      "source": [
        "## Build complete network\n",
        "\n",
        "Define your models' hyperparameters and instantiate the discriminator and generator from the classes defined above. Make sure you've passed in the correct input arguments."
      ]
    },
    {
      "cell_type": "code",
      "metadata": {
        "id": "-87T3ePdC3_2",
        "colab_type": "code",
        "colab": {},
        "outputId": "b8954c72-24e4-42d4-f80a-9ac586eed900"
      },
      "source": [
        "# define hyperparams\n",
        "conv_dim = 32\n",
        "z_size = 100\n",
        "\n",
        "# define discriminator and generator\n",
        "D = Discriminator(conv_dim)\n",
        "G = Generator(z_size=z_size, conv_dim=conv_dim)\n",
        "\n",
        "print(D)\n",
        "print()\n",
        "print(G)"
      ],
      "execution_count": null,
      "outputs": [
        {
          "output_type": "stream",
          "text": [
            "Discriminator(\n",
            "  (conv1): Sequential(\n",
            "    (0): Conv2d(3, 32, kernel_size=(4, 4), stride=(2, 2), padding=(1, 1), bias=False)\n",
            "  )\n",
            "  (conv2): Sequential(\n",
            "    (0): Conv2d(32, 64, kernel_size=(4, 4), stride=(2, 2), padding=(1, 1), bias=False)\n",
            "    (1): BatchNorm2d(64, eps=1e-05, momentum=0.1, affine=True, track_running_stats=True)\n",
            "  )\n",
            "  (conv3): Sequential(\n",
            "    (0): Conv2d(64, 128, kernel_size=(4, 4), stride=(2, 2), padding=(1, 1), bias=False)\n",
            "    (1): BatchNorm2d(128, eps=1e-05, momentum=0.1, affine=True, track_running_stats=True)\n",
            "  )\n",
            "  (fc): Linear(in_features=2048, out_features=1, bias=True)\n",
            ")\n",
            "\n",
            "Generator(\n",
            "  (fc): Linear(in_features=100, out_features=2048, bias=True)\n",
            "  (t_conv1): Sequential(\n",
            "    (0): ConvTranspose2d(128, 64, kernel_size=(4, 4), stride=(2, 2), padding=(1, 1), bias=False)\n",
            "    (1): BatchNorm2d(64, eps=1e-05, momentum=0.1, affine=True, track_running_stats=True)\n",
            "  )\n",
            "  (t_conv2): Sequential(\n",
            "    (0): ConvTranspose2d(64, 32, kernel_size=(4, 4), stride=(2, 2), padding=(1, 1), bias=False)\n",
            "    (1): BatchNorm2d(32, eps=1e-05, momentum=0.1, affine=True, track_running_stats=True)\n",
            "  )\n",
            "  (t_conv3): Sequential(\n",
            "    (0): ConvTranspose2d(32, 3, kernel_size=(4, 4), stride=(2, 2), padding=(1, 1), bias=False)\n",
            "  )\n",
            ")\n"
          ],
          "name": "stdout"
        }
      ]
    },
    {
      "cell_type": "markdown",
      "metadata": {
        "id": "XTDD_qfWC4AB",
        "colab_type": "text"
      },
      "source": [
        "### Training on GPU\n",
        "\n",
        "Check if you can train on GPU. If you can, set this as a variable and move your models to GPU. \n",
        "> Later, we'll also move any inputs our models and loss functions see (real_images, z, and ground truth labels) to GPU as well."
      ]
    },
    {
      "cell_type": "code",
      "metadata": {
        "id": "pIAjSnyVC4AE",
        "colab_type": "code",
        "colab": {},
        "outputId": "cc93e13b-8806-4734-aa93-e51486bc1e59"
      },
      "source": [
        "train_on_gpu = torch.cuda.is_available()\n",
        "\n",
        "if train_on_gpu:\n",
        "    # move models to GPU\n",
        "    G.cuda()\n",
        "    D.cuda()\n",
        "    print('GPU available for training. Models moved to GPU')\n",
        "else:\n",
        "    print('Training on CPU.')\n",
        "    "
      ],
      "execution_count": null,
      "outputs": [
        {
          "output_type": "stream",
          "text": [
            "GPU available for training. Models moved to GPU\n"
          ],
          "name": "stdout"
        }
      ]
    },
    {
      "cell_type": "markdown",
      "metadata": {
        "id": "GR0H-qRiC4AL",
        "colab_type": "text"
      },
      "source": [
        "---\n",
        "## Discriminator and Generator Losses\n",
        "\n",
        "Now we need to calculate the losses. And this will be exactly the same as before.\n",
        "\n",
        "### Discriminator Losses\n",
        "\n",
        "> * For the discriminator, the total loss is the sum of the losses for real and fake images, `d_loss = d_real_loss + d_fake_loss`. \n",
        "* Remember that we want the discriminator to output 1 for real images and 0 for fake images, so we need to set up the losses to reflect that.\n",
        "\n",
        "The losses will by binary cross entropy loss with logits, which we can get with [BCEWithLogitsLoss](https://pytorch.org/docs/stable/nn.html#bcewithlogitsloss). This combines a `sigmoid` activation function **and** and binary cross entropy loss in one function.\n",
        "\n",
        "For the real images, we want `D(real_images) = 1`. That is, we want the discriminator to classify the the real images with a label = 1, indicating that these are real. The discriminator loss for the fake data is similar. We want `D(fake_images) = 0`, where the fake images are the _generator output_, `fake_images = G(z)`. \n",
        "\n",
        "### Generator Loss\n",
        "\n",
        "The generator loss will look similar only with flipped labels. The generator's goal is to get `D(fake_images) = 1`. In this case, the labels are **flipped** to represent that the generator is trying to fool the discriminator into thinking that the images it generates (fakes) are real!"
      ]
    },
    {
      "cell_type": "code",
      "metadata": {
        "id": "B0Bgw2lwC4AM",
        "colab_type": "code",
        "colab": {}
      },
      "source": [
        "def real_loss(D_out, smooth=False):\n",
        "    batch_size = D_out.size(0)\n",
        "    # label smoothing\n",
        "    if smooth:\n",
        "        # smooth, real labels = 0.9\n",
        "        labels = torch.ones(batch_size)*0.9\n",
        "    else:\n",
        "        labels = torch.ones(batch_size) # real labels = 1\n",
        "    # move labels to GPU if available     \n",
        "    if train_on_gpu:\n",
        "        labels = labels.cuda()\n",
        "    # binary cross entropy with logits loss\n",
        "    criterion = nn.BCEWithLogitsLoss()\n",
        "    # calculate loss\n",
        "    loss = criterion(D_out.squeeze(), labels)\n",
        "    return loss\n",
        "\n",
        "def fake_loss(D_out):\n",
        "    batch_size = D_out.size(0)\n",
        "    labels = torch.zeros(batch_size) # fake labels = 0\n",
        "    if train_on_gpu:\n",
        "        labels = labels.cuda()\n",
        "    criterion = nn.BCEWithLogitsLoss()\n",
        "    # calculate loss\n",
        "    loss = criterion(D_out.squeeze(), labels)\n",
        "    return loss"
      ],
      "execution_count": null,
      "outputs": []
    },
    {
      "cell_type": "markdown",
      "metadata": {
        "id": "bqY7i8WiC4AV",
        "colab_type": "text"
      },
      "source": [
        "## Optimizers\n",
        "\n",
        "Not much new here, but notice how I am using a small learning rate and custom parameters for the Adam optimizers, This is based on some research into DCGAN model convergence.\n",
        "\n",
        "### Hyperparameters\n",
        "\n",
        "GANs are very sensitive to hyperparameters. A lot of experimentation goes into finding the best hyperparameters such that the generator and discriminator don't overpower each other. Try out your own hyperparameters or read [the DCGAN paper](https://arxiv.org/pdf/1511.06434.pdf) to see what worked for them."
      ]
    },
    {
      "cell_type": "code",
      "metadata": {
        "id": "x-MfJDyMC4AX",
        "colab_type": "code",
        "colab": {}
      },
      "source": [
        "import torch.optim as optim\n",
        "\n",
        "# params\n",
        "lr = 0.0002\n",
        "beta1=0.5\n",
        "beta2=0.999 # default value\n",
        "\n",
        "# Create optimizers for the discriminator and generator\n",
        "d_optimizer = optim.Adam(D.parameters(), lr, [beta1, beta2])\n",
        "g_optimizer = optim.Adam(G.parameters(), lr, [beta1, beta2])"
      ],
      "execution_count": null,
      "outputs": []
    },
    {
      "cell_type": "markdown",
      "metadata": {
        "id": "xPvPX5juC4Ac",
        "colab_type": "text"
      },
      "source": [
        "---\n",
        "## Training\n",
        "\n",
        "Training will involve alternating between training the discriminator and the generator. We'll use our functions `real_loss` and `fake_loss` to help us calculate the discriminator losses in all of the following cases.\n",
        "\n",
        "### Discriminator training\n",
        "1. Compute the discriminator loss on real, training images        \n",
        "2. Generate fake images\n",
        "3. Compute the discriminator loss on fake, generated images     \n",
        "4. Add up real and fake loss\n",
        "5. Perform backpropagation + an optimization step to update the discriminator's weights\n",
        "\n",
        "### Generator training\n",
        "1. Generate fake images\n",
        "2. Compute the discriminator loss on fake images, using **flipped** labels!\n",
        "3. Perform backpropagation + an optimization step to update the generator's weights\n",
        "\n",
        "#### Saving Samples\n",
        "\n",
        "As we train, we'll also print out some loss statistics and save some generated \"fake\" samples.\n",
        "\n",
        "**Evaluation mode**\n",
        "\n",
        "Notice that, when we call our generator to create the samples to display, we set our model to evaluation mode: `G.eval()`. That's so the batch normalization layers will use the population statistics rather than the batch statistics (as they do during training), *and* so dropout layers will operate in eval() mode; not turning off any nodes for generating samples."
      ]
    },
    {
      "cell_type": "code",
      "metadata": {
        "id": "T9nwqNwsC4Ae",
        "colab_type": "code",
        "colab": {},
        "outputId": "aaaa2570-5e9b-435f-d28d-a2465d29c7ed"
      },
      "source": [
        "import pickle as pkl\n",
        "\n",
        "# training hyperparams\n",
        "num_epochs = 50\n",
        "\n",
        "# keep track of loss and generated, \"fake\" samples\n",
        "samples = []\n",
        "losses = []\n",
        "\n",
        "print_every = 300\n",
        "\n",
        "# Get some fixed data for sampling. These are images that are held\n",
        "# constant throughout training, and allow us to inspect the model's performance\n",
        "sample_size=16\n",
        "fixed_z = np.random.uniform(-1, 1, size=(sample_size, z_size))\n",
        "fixed_z = torch.from_numpy(fixed_z).float()\n",
        "\n",
        "# train the network\n",
        "for epoch in range(num_epochs):\n",
        "    \n",
        "    for batch_i, (real_images, _) in enumerate(train_loader):\n",
        "                \n",
        "        batch_size = real_images.size(0)\n",
        "        \n",
        "        # important rescaling step\n",
        "        real_images = scale(real_images)\n",
        "        \n",
        "        # ============================================\n",
        "        #            TRAIN THE DISCRIMINATOR\n",
        "        # ============================================\n",
        "        \n",
        "        d_optimizer.zero_grad()\n",
        "        \n",
        "        # 1. Train with real images\n",
        "\n",
        "        # Compute the discriminator losses on real images \n",
        "        if train_on_gpu:\n",
        "            real_images = real_images.cuda()\n",
        "        \n",
        "        D_real = D(real_images)\n",
        "        d_real_loss = real_loss(D_real)\n",
        "        \n",
        "        # 2. Train with fake images\n",
        "        \n",
        "        # Generate fake images\n",
        "        z = np.random.uniform(-1, 1, size=(batch_size, z_size))\n",
        "        z = torch.from_numpy(z).float()\n",
        "        # move x to GPU, if available\n",
        "        if train_on_gpu:\n",
        "            z = z.cuda()\n",
        "        fake_images = G(z)\n",
        "        \n",
        "        # Compute the discriminator losses on fake images            \n",
        "        D_fake = D(fake_images)\n",
        "        d_fake_loss = fake_loss(D_fake)\n",
        "        \n",
        "        # add up loss and perform backprop\n",
        "        d_loss = d_real_loss + d_fake_loss\n",
        "        d_loss.backward()\n",
        "        d_optimizer.step()\n",
        "        \n",
        "        \n",
        "        # =========================================\n",
        "        #            TRAIN THE GENERATOR\n",
        "        # =========================================\n",
        "        g_optimizer.zero_grad()\n",
        "        \n",
        "        # 1. Train with fake images and flipped labels\n",
        "        \n",
        "        # Generate fake images\n",
        "        z = np.random.uniform(-1, 1, size=(batch_size, z_size))\n",
        "        z = torch.from_numpy(z).float()\n",
        "        if train_on_gpu:\n",
        "            z = z.cuda()\n",
        "        fake_images = G(z)\n",
        "        \n",
        "        # Compute the discriminator losses on fake images \n",
        "        # using flipped labels!\n",
        "        D_fake = D(fake_images)\n",
        "        g_loss = real_loss(D_fake) # use real loss to flip labels\n",
        "        \n",
        "        # perform backprop\n",
        "        g_loss.backward()\n",
        "        g_optimizer.step()\n",
        "\n",
        "        # Print some loss stats\n",
        "        if batch_i % print_every == 0:\n",
        "            # append discriminator loss and generator loss\n",
        "            losses.append((d_loss.item(), g_loss.item()))\n",
        "            # print discriminator and generator loss\n",
        "            print('Epoch [{:5d}/{:5d}] | d_loss: {:6.4f} | g_loss: {:6.4f}'.format(\n",
        "                    epoch+1, num_epochs, d_loss.item(), g_loss.item()))\n",
        "\n",
        "    \n",
        "    ## AFTER EACH EPOCH##    \n",
        "    # generate and save sample, fake images\n",
        "    G.eval() # for generating samples\n",
        "    if train_on_gpu:\n",
        "        fixed_z = fixed_z.cuda()\n",
        "    samples_z = G(fixed_z)\n",
        "    samples.append(samples_z)\n",
        "    G.train() # back to training mode\n",
        "\n",
        "\n",
        "# Save training generator samples\n",
        "with open('train_samples.pkl', 'wb') as f:\n",
        "    pkl.dump(samples, f)"
      ],
      "execution_count": null,
      "outputs": [
        {
          "output_type": "stream",
          "text": [
            "Epoch [    1/   50] | d_loss: 1.3871 | g_loss: 0.7894\n",
            "Epoch [    1/   50] | d_loss: 0.8700 | g_loss: 2.5015\n",
            "Epoch [    2/   50] | d_loss: 1.0024 | g_loss: 1.4002\n",
            "Epoch [    2/   50] | d_loss: 1.2057 | g_loss: 1.1445\n",
            "Epoch [    3/   50] | d_loss: 0.9766 | g_loss: 1.0346\n",
            "Epoch [    3/   50] | d_loss: 0.9508 | g_loss: 0.9849\n",
            "Epoch [    4/   50] | d_loss: 1.0338 | g_loss: 1.2916\n",
            "Epoch [    4/   50] | d_loss: 0.7476 | g_loss: 1.7354\n",
            "Epoch [    5/   50] | d_loss: 0.8847 | g_loss: 1.9047\n",
            "Epoch [    5/   50] | d_loss: 0.9131 | g_loss: 2.6848\n",
            "Epoch [    6/   50] | d_loss: 0.3747 | g_loss: 2.0961\n",
            "Epoch [    6/   50] | d_loss: 0.5761 | g_loss: 1.4796\n",
            "Epoch [    7/   50] | d_loss: 1.0538 | g_loss: 2.5600\n",
            "Epoch [    7/   50] | d_loss: 0.5655 | g_loss: 1.1675\n",
            "Epoch [    8/   50] | d_loss: 1.1302 | g_loss: 0.6184\n",
            "Epoch [    8/   50] | d_loss: 0.6106 | g_loss: 1.3510\n",
            "Epoch [    9/   50] | d_loss: 0.9274 | g_loss: 2.9446\n",
            "Epoch [    9/   50] | d_loss: 0.4790 | g_loss: 2.1970\n",
            "Epoch [   10/   50] | d_loss: 0.5220 | g_loss: 2.5080\n",
            "Epoch [   10/   50] | d_loss: 0.4743 | g_loss: 1.6137\n",
            "Epoch [   11/   50] | d_loss: 0.7634 | g_loss: 2.0439\n",
            "Epoch [   11/   50] | d_loss: 0.4358 | g_loss: 2.0743\n",
            "Epoch [   12/   50] | d_loss: 0.9056 | g_loss: 2.8160\n",
            "Epoch [   12/   50] | d_loss: 0.3225 | g_loss: 2.2658\n",
            "Epoch [   13/   50] | d_loss: 0.5460 | g_loss: 2.8996\n",
            "Epoch [   13/   50] | d_loss: 0.2596 | g_loss: 2.5365\n",
            "Epoch [   14/   50] | d_loss: 0.5203 | g_loss: 2.7283\n",
            "Epoch [   14/   50] | d_loss: 0.4269 | g_loss: 2.0782\n",
            "Epoch [   15/   50] | d_loss: 0.7738 | g_loss: 1.0159\n",
            "Epoch [   15/   50] | d_loss: 0.4269 | g_loss: 1.9207\n",
            "Epoch [   16/   50] | d_loss: 0.4112 | g_loss: 2.8402\n",
            "Epoch [   16/   50] | d_loss: 0.3925 | g_loss: 1.5451\n",
            "Epoch [   17/   50] | d_loss: 0.3715 | g_loss: 1.7045\n",
            "Epoch [   17/   50] | d_loss: 0.7009 | g_loss: 3.0560\n",
            "Epoch [   18/   50] | d_loss: 0.3727 | g_loss: 2.4927\n",
            "Epoch [   18/   50] | d_loss: 0.3543 | g_loss: 2.8200\n",
            "Epoch [   19/   50] | d_loss: 0.3737 | g_loss: 2.0694\n",
            "Epoch [   19/   50] | d_loss: 0.3062 | g_loss: 2.7253\n",
            "Epoch [   20/   50] | d_loss: 0.4124 | g_loss: 1.9771\n",
            "Epoch [   20/   50] | d_loss: 0.6703 | g_loss: 2.5589\n",
            "Epoch [   21/   50] | d_loss: 0.2947 | g_loss: 1.9481\n",
            "Epoch [   21/   50] | d_loss: 0.4341 | g_loss: 2.1836\n",
            "Epoch [   22/   50] | d_loss: 0.2596 | g_loss: 2.4994\n",
            "Epoch [   22/   50] | d_loss: 0.2450 | g_loss: 2.8164\n",
            "Epoch [   23/   50] | d_loss: 0.3782 | g_loss: 3.0394\n",
            "Epoch [   23/   50] | d_loss: 0.3612 | g_loss: 2.5715\n",
            "Epoch [   24/   50] | d_loss: 0.1769 | g_loss: 3.6052\n",
            "Epoch [   24/   50] | d_loss: 0.2952 | g_loss: 3.0570\n",
            "Epoch [   25/   50] | d_loss: 0.4618 | g_loss: 4.1390\n",
            "Epoch [   25/   50] | d_loss: 0.2637 | g_loss: 3.1937\n",
            "Epoch [   26/   50] | d_loss: 0.2144 | g_loss: 2.7835\n",
            "Epoch [   26/   50] | d_loss: 0.2960 | g_loss: 3.2470\n",
            "Epoch [   27/   50] | d_loss: 0.4798 | g_loss: 2.2351\n",
            "Epoch [   27/   50] | d_loss: 0.2642 | g_loss: 3.3904\n",
            "Epoch [   28/   50] | d_loss: 0.3362 | g_loss: 3.4251\n",
            "Epoch [   28/   50] | d_loss: 0.8281 | g_loss: 4.0355\n",
            "Epoch [   29/   50] | d_loss: 0.3406 | g_loss: 2.9678\n",
            "Epoch [   29/   50] | d_loss: 0.1694 | g_loss: 3.6185\n",
            "Epoch [   30/   50] | d_loss: 0.1856 | g_loss: 2.3010\n",
            "Epoch [   30/   50] | d_loss: 0.8694 | g_loss: 3.1096\n",
            "Epoch [   31/   50] | d_loss: 0.4050 | g_loss: 1.9086\n",
            "Epoch [   31/   50] | d_loss: 0.2215 | g_loss: 2.7986\n",
            "Epoch [   32/   50] | d_loss: 1.9408 | g_loss: 9.9110\n",
            "Epoch [   32/   50] | d_loss: 0.2688 | g_loss: 3.3067\n",
            "Epoch [   33/   50] | d_loss: 0.2684 | g_loss: 3.6979\n",
            "Epoch [   33/   50] | d_loss: 0.3910 | g_loss: 2.7411\n",
            "Epoch [   34/   50] | d_loss: 0.3097 | g_loss: 2.4075\n",
            "Epoch [   34/   50] | d_loss: 0.1618 | g_loss: 3.0312\n",
            "Epoch [   35/   50] | d_loss: 0.3315 | g_loss: 2.3083\n",
            "Epoch [   35/   50] | d_loss: 0.2600 | g_loss: 4.0688\n",
            "Epoch [   36/   50] | d_loss: 0.2050 | g_loss: 2.5516\n",
            "Epoch [   36/   50] | d_loss: 0.1700 | g_loss: 3.3212\n",
            "Epoch [   37/   50] | d_loss: 0.3518 | g_loss: 3.2154\n",
            "Epoch [   37/   50] | d_loss: 0.2002 | g_loss: 2.3394\n",
            "Epoch [   38/   50] | d_loss: 0.2736 | g_loss: 3.9040\n",
            "Epoch [   38/   50] | d_loss: 0.2298 | g_loss: 2.2667\n",
            "Epoch [   39/   50] | d_loss: 0.7857 | g_loss: 2.6393\n",
            "Epoch [   39/   50] | d_loss: 0.1813 | g_loss: 3.2973\n",
            "Epoch [   40/   50] | d_loss: 0.1523 | g_loss: 3.3429\n",
            "Epoch [   40/   50] | d_loss: 0.2379 | g_loss: 3.4967\n",
            "Epoch [   41/   50] | d_loss: 0.1664 | g_loss: 4.0548\n",
            "Epoch [   41/   50] | d_loss: 0.7907 | g_loss: 2.7059\n",
            "Epoch [   42/   50] | d_loss: 0.2806 | g_loss: 3.2769\n",
            "Epoch [   42/   50] | d_loss: 0.3690 | g_loss: 4.7627\n",
            "Epoch [   43/   50] | d_loss: 0.1582 | g_loss: 3.7862\n",
            "Epoch [   43/   50] | d_loss: 0.2007 | g_loss: 1.8766\n",
            "Epoch [   44/   50] | d_loss: 0.6256 | g_loss: 4.1040\n",
            "Epoch [   44/   50] | d_loss: 0.6256 | g_loss: 4.5599\n",
            "Epoch [   45/   50] | d_loss: 0.1694 | g_loss: 3.1243\n",
            "Epoch [   45/   50] | d_loss: 0.2005 | g_loss: 2.0720\n",
            "Epoch [   46/   50] | d_loss: 0.3385 | g_loss: 3.6107\n",
            "Epoch [   46/   50] | d_loss: 0.1430 | g_loss: 3.3863\n",
            "Epoch [   47/   50] | d_loss: 2.3355 | g_loss: 4.3694\n",
            "Epoch [   47/   50] | d_loss: 0.2589 | g_loss: 3.8996\n",
            "Epoch [   48/   50] | d_loss: 0.4828 | g_loss: 2.7014\n",
            "Epoch [   48/   50] | d_loss: 0.3688 | g_loss: 3.0661\n",
            "Epoch [   49/   50] | d_loss: 3.1969 | g_loss: 7.7299\n",
            "Epoch [   49/   50] | d_loss: 0.3317 | g_loss: 4.3268\n",
            "Epoch [   50/   50] | d_loss: 0.2904 | g_loss: 2.4885\n",
            "Epoch [   50/   50] | d_loss: 0.2320 | g_loss: 2.1839\n"
          ],
          "name": "stdout"
        }
      ]
    },
    {
      "cell_type": "markdown",
      "metadata": {
        "id": "yEJVGb8JC4A1",
        "colab_type": "text"
      },
      "source": [
        "## Training loss\n",
        "\n",
        "Here we'll plot the training losses for the generator and discriminator, recorded after each epoch."
      ]
    },
    {
      "cell_type": "code",
      "metadata": {
        "id": "121KoV-8C4A4",
        "colab_type": "code",
        "colab": {},
        "outputId": "a4fddd54-0502-4953-9c84-4a7f2888f75d"
      },
      "source": [
        "fig, ax = plt.subplots()\n",
        "losses = np.array(losses)\n",
        "plt.plot(losses.T[0], label='Discriminator', alpha=0.5)\n",
        "plt.plot(losses.T[1], label='Generator', alpha=0.5)\n",
        "plt.title(\"Training Losses\")\n",
        "plt.legend()"
      ],
      "execution_count": null,
      "outputs": [
        {
          "output_type": "execute_result",
          "data": {
            "text/plain": [
              "<matplotlib.legend.Legend at 0x7f17062edc18>"
            ]
          },
          "metadata": {
            "tags": []
          },
          "execution_count": 16
        },
        {
          "output_type": "display_data",
          "data": {
            "image/png": "[encoded data removed]",
            "text/plain": [
              "<matplotlib.figure.Figure at 0x7f170646c278>"
            ]
          },
          "metadata": {
            "tags": [],
            "needs_background": "light"
          }
        }
      ]
    },
    {
      "cell_type": "markdown",
      "metadata": {
        "collapsed": true,
        "id": "-OQ_uCxzC4BF",
        "colab_type": "text"
      },
      "source": [
        "## Generator samples from training\n",
        "\n",
        "Here we can view samples of images from the generator. We'll look at the images we saved during training."
      ]
    },
    {
      "cell_type": "code",
      "metadata": {
        "id": "IvsKfo6QC4BH",
        "colab_type": "code",
        "colab": {}
      },
      "source": [
        "# helper function for viewing a list of passed in sample images\n",
        "def view_samples(epoch, samples):\n",
        "    fig, axes = plt.subplots(figsize=(16,4), nrows=2, ncols=8, sharey=True, sharex=True)\n",
        "    for ax, img in zip(axes.flatten(), samples[epoch]):\n",
        "        img = img.detach().cpu().numpy()\n",
        "        img = np.transpose(img, (1, 2, 0))\n",
        "        img = ((img +1)*255 / (2)).astype(np.uint8) # rescale to pixel range (0-255)\n",
        "        ax.xaxis.set_visible(False)\n",
        "        ax.yaxis.set_visible(False)\n",
        "        im = ax.imshow(img.reshape((32,32,3)))"
      ],
      "execution_count": null,
      "outputs": []
    },
    {
      "cell_type": "code",
      "metadata": {
        "scrolled": true,
        "id": "rNIHdMfBC4BO",
        "colab_type": "code",
        "colab": {},
        "outputId": "494162b5-1e48-470a-bdce-2d8b2f0bda86"
      },
      "source": [
        "_ = view_samples(-1, samples)"
      ],
      "execution_count": null,
      "outputs": [
        {
          "output_type": "display_data",
          "data": {
            "image/png": "[encoded data removed]",
            "text/plain": [
              "<matplotlib.figure.Figure at 0x7f1704036860>"
            ]
          },
          "metadata": {
            "tags": [],
            "needs_background": "light"
          }
        }
      ]
    },
    {
      "cell_type": "code",
      "metadata": {
        "id": "-a2SFfYhC4BW",
        "colab_type": "code",
        "colab": {}
      },
      "source": [
        ""
      ],
      "execution_count": null,
      "outputs": []
    }
  ]
}