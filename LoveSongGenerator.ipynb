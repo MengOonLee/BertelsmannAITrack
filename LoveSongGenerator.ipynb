{
  "nbformat": 4,
  "nbformat_minor": 0,
  "metadata": {
    "kernelspec": {
      "name": "python3",
      "display_name": "Python 3"
    },
    "language_info": {
      "codemirror_mode": {
        "name": "ipython",
        "version": 3
      },
      "file_extension": ".py",
      "mimetype": "text/x-python",
      "name": "python",
      "nbconvert_exporter": "python",
      "pygments_lexer": "ipython3",
      "version": "3.6.6"
    },
    "colab": {
      "name": "Signs.ipynb",
      "provenance": [],
      "include_colab_link": true
    },
    "accelerator": "GPU"
  },
  "cells": [
    {
      "cell_type": "markdown",
      "metadata": {
        "id": "view-in-github",
        "colab_type": "text"
      },
      "source": [
        "<a href=\"https://colab.research.google.com/github/MengOonLee/BertelsmannAITrack/blob/MyLoveSong/LoveSongGenerator.ipynb\" target=\"_parent\"><img src=\"https://colab.research.google.com/assets/colab-badge.svg\" alt=\"Open In Colab\"/></a>"
      ]
    },
    {
      "cell_type": "code",
      "metadata": {
        "id": "Kc3Yy3f4tyH3",
        "colab_type": "code",
        "colab": {}
      },
      "source": [
        "# First let's load in our required resources for data loading and model creation.\n",
        "import numpy as np\n",
        "import torch\n",
        "from torch import nn\n",
        "import torch.nn.functional as F"
      ],
      "execution_count": 0,
      "outputs": []
    },
    {
      "cell_type": "code",
      "metadata": {
        "id": "Kbd3Bnm0AqWb",
        "colab_type": "code",
        "colab": {}
      },
      "source": [
        "# Then, we'll download the LoveSongs.txt and convert it into integers for our network to use.\n",
        "%%bash\n",
        "\n",
        "wget -qO LoveSongs.txt --no-check-certificate 'https://docs.google.com/uc?export=download&id=1-B1H4krto65n8hA3Qmm2UZ0_TZO2JE3t'"
      ],
      "execution_count": 0,
      "outputs": []
    },
    {
      "cell_type": "code",
      "metadata": {
        "id": "LI62b9QzDKfF",
        "colab_type": "code",
        "colab": {
          "base_uri": "https://localhost:8080/",
          "height": 34
        },
        "outputId": "9054ce14-de0d-4fe1-d092-32dd23a1a492"
      },
      "source": [
        "# open text file and read in data as `text`\n",
        "with open('LoveSongs.txt', 'r') as f:\n",
        "    text = f.read()\n",
        "\n",
        "# Let's check out the first 100 characters, make sure everything is peachy.\n",
        "text[:100]"
      ],
      "execution_count": 4,
      "outputs": [
        {
          "output_type": "execute_result",
          "data": {
            "text/plain": [
              "\"Doesn't take much to make me happy\\nAnd make me smile with glee \\nNever never will I feel discouraged \""
            ]
          },
          "metadata": {
            "tags": []
          },
          "execution_count": 4
        }
      ]
    },
    {
      "cell_type": "code",
      "metadata": {
        "id": "6303di7fuyXq",
        "colab_type": "code",
        "colab": {
          "base_uri": "https://localhost:8080/",
          "height": 119
        },
        "outputId": "5de90c36-a9ec-403f-88af-f2d79c083361"
      },
      "source": [
        "# encode the text and map each character to an integer and vice versa\n",
        "\n",
        "# we create two dictionaries:\n",
        "# 1. int2char, which maps integers to characters\n",
        "# 2. char2int, which maps characters to unique integers\n",
        "chars = tuple(set(text))\n",
        "int2char = dict(enumerate(chars))\n",
        "char2int = {ch: ii for ii, ch in int2char.items()}\n",
        "\n",
        "# encode the text\n",
        "encoded = np.array([char2int[ch] for ch in text])\n",
        "\n",
        "encoded[:100]"
      ],
      "execution_count": 5,
      "outputs": [
        {
          "output_type": "execute_result",
          "data": {
            "text/plain": [
              "array([23, 97, 56, 61, 24, 46, 68, 34, 68, 10, 54, 56, 34, 41, 78, 38, 73,\n",
              "       34, 68, 97, 34, 41, 10, 54, 56, 34, 41, 56, 34, 73, 10,  4,  4, 89,\n",
              "       87, 80, 24, 65, 34, 41, 10, 54, 56, 34, 41, 56, 34, 61, 41, 25, 64,\n",
              "       56, 34, 17, 25, 68, 73, 34, 58, 64, 56, 56, 34, 87, 33, 56, 32, 56,\n",
              "       71, 34, 24, 56, 32, 56, 71, 34, 17, 25, 64, 64, 34, 50, 34, 44, 56,\n",
              "       56, 64, 34, 65, 25, 61, 38, 97, 78, 71, 10, 58, 56, 65, 34])"
            ]
          },
          "metadata": {
            "tags": []
          },
          "execution_count": 5
        }
      ]
    },
    {
      "cell_type": "code",
      "metadata": {
        "id": "CI-A72txvAoU",
        "colab_type": "code",
        "colab": {}
      },
      "source": [
        "def one_hot_encode(arr, n_labels):\n",
        "    \n",
        "    # Initialize the the encoded array\n",
        "    one_hot = np.zeros((arr.size, n_labels), dtype=np.float32)\n",
        "    \n",
        "    # Fill the appropriate elements with ones\n",
        "    one_hot[np.arange(one_hot.shape[0]), arr.flatten()] = 1.\n",
        "    \n",
        "    # Finally reshape it to get back to the original array\n",
        "    one_hot = one_hot.reshape((*arr.shape, n_labels))\n",
        "    \n",
        "    return one_hot"
      ],
      "execution_count": 0,
      "outputs": []
    },
    {
      "cell_type": "code",
      "metadata": {
        "id": "gFYHUilqvNoB",
        "colab_type": "code",
        "colab": {}
      },
      "source": [
        "def get_batches(arr, batch_size, seq_length):\n",
        "    '''Create a generator that returns batches of size\n",
        "       batch_size x seq_length from arr.\n",
        "       \n",
        "       Arguments\n",
        "       ---------\n",
        "       arr: Array you want to make batches from\n",
        "       batch_size: Batch size, the number of sequences per batch\n",
        "       seq_length: Number of encoded chars in a sequence\n",
        "    '''\n",
        "    \n",
        "    batch_size_total = batch_size * seq_length\n",
        "    ## Get the number of batches we can make\n",
        "    n_batches = len(arr)//batch_size_total\n",
        "    \n",
        "    ## Keep only enough characters to make full batches\n",
        "    arr = arr[:n_batches * batch_size_total]\n",
        "    \n",
        "    ## Reshape into batch_size rows\n",
        "    arr = arr.reshape((batch_size, -1))\n",
        "    \n",
        "    ## Iterate over the batches using a window of size seq_length\n",
        "    for n in range(0, arr.shape[1], seq_length):\n",
        "        # The features\n",
        "        x = arr[:, n:n+seq_length]\n",
        "        # The targets, shifted by one\n",
        "        y = np.zeros_like(x)\n",
        "        try:\n",
        "            y[:, :-1], y[:, -1] = x[:, 1:], arr[:, n+seq_length]\n",
        "        except IndexError:\n",
        "            y[:, :-1], y[:, -1] = x[:, 1:], arr[:, 0]\n",
        "        yield x, y"
      ],
      "execution_count": 0,
      "outputs": []
    },
    {
      "cell_type": "code",
      "metadata": {
        "id": "QC6HWOA3vuIa",
        "colab_type": "code",
        "colab": {
          "base_uri": "https://localhost:8080/",
          "height": 34
        },
        "outputId": "2e0e12c9-969b-4be5-93f1-4ead5c4210a2"
      },
      "source": [
        "# check if GPU is available\n",
        "train_on_gpu = torch.cuda.is_available()\n",
        "if(train_on_gpu):\n",
        "    print('Training on GPU!')\n",
        "else: \n",
        "    print('No GPU available, training on CPU; consider making n_epochs very small.')"
      ],
      "execution_count": 10,
      "outputs": [
        {
          "output_type": "stream",
          "text": [
            "Training on GPU!\n"
          ],
          "name": "stdout"
        }
      ]
    },
    {
      "cell_type": "code",
      "metadata": {
        "id": "GDM6_bRiv38u",
        "colab_type": "code",
        "colab": {}
      },
      "source": [
        "class CharRNN(nn.Module):\n",
        "    \n",
        "    def __init__(self, tokens, n_hidden=256, n_layers=2,\n",
        "                               drop_prob=0.5, lr=0.001):\n",
        "        super().__init__()\n",
        "        self.drop_prob = drop_prob\n",
        "        self.n_layers = n_layers\n",
        "        self.n_hidden = n_hidden\n",
        "        self.lr = lr\n",
        "        \n",
        "        # creating character dictionaries\n",
        "        self.chars = tokens\n",
        "        self.int2char = dict(enumerate(self.chars))\n",
        "        self.char2int = {ch: ii for ii, ch in self.int2char.items()}\n",
        "        \n",
        "        ## define the layers of the model\n",
        "        ## define the LSTM\n",
        "        self.lstm = nn.LSTM(len(self.chars), n_hidden, n_layers, \n",
        "                            dropout=drop_prob, batch_first=True)\n",
        "        \n",
        "        ## define a dropout layer\n",
        "        self.dropout = nn.Dropout(drop_prob)\n",
        "        \n",
        "        ## define the final, fully-connected output layer\n",
        "        self.fc = nn.Linear(n_hidden, len(self.chars))\n",
        "    \n",
        "    def forward(self, x, hidden):\n",
        "        ''' Forward pass through the network. \n",
        "            These inputs are x, and the hidden/cell state `hidden`. '''\n",
        "                \n",
        "        ## Get the outputs and the new hidden state from the lstm\n",
        "        r_output, hidden = self.lstm(x, hidden)\n",
        "\n",
        "        ## pass through a dropout layer\n",
        "        out = self.dropout(r_output)\n",
        "        \n",
        "        # Stack up LSTM outputs using view\n",
        "        # you may need to use contiguous to reshape the output\n",
        "        out = out.contiguous().view(-1, self.n_hidden)\n",
        "        \n",
        "        ## put x through the fully-connected layer\n",
        "        out = self.fc(out)\n",
        "        \n",
        "        # return the final output and the hidden state\n",
        "        return out, hidden\n",
        "    \n",
        "    \n",
        "    def init_hidden(self, batch_size):\n",
        "        ''' Initializes hidden state '''\n",
        "        # Create two new tensors with sizes n_layers x batch_size x n_hidden,\n",
        "        # initialized to zero, for hidden state and cell state of LSTM\n",
        "        weight = next(self.parameters()).data\n",
        "        \n",
        "        if (train_on_gpu):\n",
        "            hidden = (weight.new(self.n_layers, batch_size, self.n_hidden).zero_().cuda(),\n",
        "                  weight.new(self.n_layers, batch_size, self.n_hidden).zero_().cuda())\n",
        "        else:\n",
        "            hidden = (weight.new(self.n_layers, batch_size, self.n_hidden).zero_(),\n",
        "                      weight.new(self.n_layers, batch_size, self.n_hidden).zero_())\n",
        "        \n",
        "        return hidden"
      ],
      "execution_count": 0,
      "outputs": []
    },
    {
      "cell_type": "code",
      "metadata": {
        "id": "ixPFe7uCwLP8",
        "colab_type": "code",
        "colab": {}
      },
      "source": [
        "def train(net, data, epochs=10, batch_size=10, seq_length=50, lr=0.001, clip=5, val_frac=0.1, print_every=10):\n",
        "    ''' Training a network \n",
        "    \n",
        "        Arguments\n",
        "        ---------\n",
        "        \n",
        "        net: CharRNN network\n",
        "        data: text data to train the network\n",
        "        epochs: Number of epochs to train\n",
        "        batch_size: Number of mini-sequences per mini-batch, aka batch size\n",
        "        seq_length: Number of character steps per mini-batch\n",
        "        lr: learning rate\n",
        "        clip: gradient clipping\n",
        "        val_frac: Fraction of data to hold out for validation\n",
        "        print_every: Number of steps for printing training and validation loss\n",
        "    \n",
        "    '''\n",
        "    net.train()\n",
        "    \n",
        "    opt = torch.optim.Adam(net.parameters(), lr=lr)\n",
        "    criterion = nn.CrossEntropyLoss()\n",
        "    \n",
        "    # create training and validation data\n",
        "    val_idx = int(len(data)*(1-val_frac))\n",
        "    data, val_data = data[:val_idx], data[val_idx:]\n",
        "    \n",
        "    if(train_on_gpu):\n",
        "        net.cuda()\n",
        "    \n",
        "    counter = 0\n",
        "    n_chars = len(net.chars)\n",
        "    for e in range(epochs):\n",
        "        # initialize hidden state\n",
        "        h = net.init_hidden(batch_size)\n",
        "        \n",
        "        for x, y in get_batches(data, batch_size, seq_length):\n",
        "            counter += 1\n",
        "            \n",
        "            # One-hot encode our data and make them Torch tensors\n",
        "            x = one_hot_encode(x, n_chars)\n",
        "            inputs, targets = torch.from_numpy(x), torch.from_numpy(y)\n",
        "            \n",
        "            if(train_on_gpu):\n",
        "                inputs, targets = inputs.cuda(), targets.cuda()\n",
        "\n",
        "            # Creating new variables for the hidden state, otherwise\n",
        "            # we'd backprop through the entire training history\n",
        "            h = tuple([each.data for each in h])\n",
        "\n",
        "            # zero accumulated gradients\n",
        "            net.zero_grad()\n",
        "            \n",
        "            # get the output from the model\n",
        "            output, h = net(inputs, h)\n",
        "            \n",
        "            # calculate the loss and perform backprop\n",
        "            loss = criterion(output, targets.view(batch_size*seq_length).long())\n",
        "            loss.backward()\n",
        "            # `clip_grad_norm` helps prevent the exploding gradient problem in RNNs / LSTMs.\n",
        "            nn.utils.clip_grad_norm_(net.parameters(), clip)\n",
        "            opt.step()\n",
        "            \n",
        "            # loss stats\n",
        "            if counter % print_every == 0:\n",
        "                # Get validation loss\n",
        "                val_h = net.init_hidden(batch_size)\n",
        "                val_losses = []\n",
        "                net.eval()\n",
        "                for x, y in get_batches(val_data, batch_size, seq_length):\n",
        "                    # One-hot encode our data and make them Torch tensors\n",
        "                    x = one_hot_encode(x, n_chars)\n",
        "                    x, y = torch.from_numpy(x), torch.from_numpy(y)\n",
        "                    \n",
        "                    # Creating new variables for the hidden state, otherwise\n",
        "                    # we'd backprop through the entire training history\n",
        "                    val_h = tuple([each.data for each in val_h])\n",
        "                    \n",
        "                    inputs, targets = x, y\n",
        "                    if(train_on_gpu):\n",
        "                        inputs, targets = inputs.cuda(), targets.cuda()\n",
        "\n",
        "                    output, val_h = net(inputs, val_h)\n",
        "                    val_loss = criterion(output, targets.view(batch_size*seq_length).long())\n",
        "                \n",
        "                    val_losses.append(val_loss.item())\n",
        "                \n",
        "                net.train() # reset to train mode after iterationg through validation data\n",
        "                \n",
        "                print(\"Epoch: {}/{}...\".format(e+1, epochs),\n",
        "                      \"Step: {}...\".format(counter),\n",
        "                      \"Loss: {:.4f}...\".format(loss.item()),\n",
        "                      \"Val Loss: {:.4f}\".format(np.mean(val_losses)))"
      ],
      "execution_count": 0,
      "outputs": []
    },
    {
      "cell_type": "code",
      "metadata": {
        "id": "RiZtJvRjwcVI",
        "colab_type": "code",
        "colab": {
          "base_uri": "https://localhost:8080/",
          "height": 102
        },
        "outputId": "e8ca2d57-0746-410f-b1ee-6912ca450dd9"
      },
      "source": [
        "## et your model hyperparameters\n",
        "# define and print the net\n",
        "n_hidden=512\n",
        "n_layers=2\n",
        "\n",
        "net = CharRNN(chars, n_hidden, n_layers)\n",
        "print(net)"
      ],
      "execution_count": 13,
      "outputs": [
        {
          "output_type": "stream",
          "text": [
            "CharRNN(\n",
            "  (lstm): LSTM(99, 512, num_layers=2, batch_first=True, dropout=0.5)\n",
            "  (dropout): Dropout(p=0.5, inplace=False)\n",
            "  (fc): Linear(in_features=512, out_features=99, bias=True)\n",
            ")\n"
          ],
          "name": "stdout"
        }
      ]
    },
    {
      "cell_type": "code",
      "metadata": {
        "id": "f7iZgOQJwjuR",
        "colab_type": "code",
        "colab": {
          "base_uri": "https://localhost:8080/",
          "height": 1000
        },
        "outputId": "49022258-7e95-4a97-8ce4-056e5fc2e11e"
      },
      "source": [
        "# Set your training hyperparameters!\n",
        "batch_size = 128\n",
        "seq_length = 100\n",
        "n_epochs = 20 # start small if you are just testing initial behavior\n",
        "\n",
        "# train the model\n",
        "train(net, encoded, epochs=n_epochs, batch_size=batch_size, seq_length=seq_length, lr=0.001, print_every=10)"
      ],
      "execution_count": 14,
      "outputs": [
        {
          "output_type": "stream",
          "text": [
            "Epoch: 1/20... Step: 10... Loss: 3.2879... Val Loss: 3.3033\n",
            "Epoch: 1/20... Step: 20... Loss: 3.2035... Val Loss: 3.2148\n",
            "Epoch: 1/20... Step: 30... Loss: 3.1755... Val Loss: 3.2007\n",
            "Epoch: 1/20... Step: 40... Loss: 3.1650... Val Loss: 3.1966\n",
            "Epoch: 1/20... Step: 50... Loss: 3.1331... Val Loss: 3.1953\n",
            "Epoch: 1/20... Step: 60... Loss: 3.1606... Val Loss: 3.1945\n",
            "Epoch: 2/20... Step: 70... Loss: 3.1459... Val Loss: 3.1897\n",
            "Epoch: 2/20... Step: 80... Loss: 3.1429... Val Loss: 3.1838\n",
            "Epoch: 2/20... Step: 90... Loss: 3.1200... Val Loss: 3.1752\n",
            "Epoch: 2/20... Step: 100... Loss: 3.0947... Val Loss: 3.1483\n",
            "Epoch: 2/20... Step: 110... Loss: 3.0493... Val Loss: 3.0894\n",
            "Epoch: 2/20... Step: 120... Loss: 2.9692... Val Loss: 3.0224\n",
            "Epoch: 3/20... Step: 130... Loss: 2.8372... Val Loss: 2.8875\n",
            "Epoch: 3/20... Step: 140... Loss: 2.7599... Val Loss: 2.7789\n",
            "Epoch: 3/20... Step: 150... Loss: 2.6106... Val Loss: 2.6560\n",
            "Epoch: 3/20... Step: 160... Loss: 2.4879... Val Loss: 2.5575\n",
            "Epoch: 3/20... Step: 170... Loss: 2.3962... Val Loss: 2.4851\n",
            "Epoch: 3/20... Step: 180... Loss: 2.3275... Val Loss: 2.4389\n",
            "Epoch: 4/20... Step: 190... Loss: 2.3554... Val Loss: 2.4040\n",
            "Epoch: 4/20... Step: 200... Loss: 2.2855... Val Loss: 2.3620\n",
            "Epoch: 4/20... Step: 210... Loss: 2.2316... Val Loss: 2.3286\n",
            "Epoch: 4/20... Step: 220... Loss: 2.1382... Val Loss: 2.2992\n",
            "Epoch: 4/20... Step: 230... Loss: 2.1536... Val Loss: 2.2655\n",
            "Epoch: 4/20... Step: 240... Loss: 2.0763... Val Loss: 2.2385\n",
            "Epoch: 4/20... Step: 250... Loss: 2.0894... Val Loss: 2.2115\n",
            "Epoch: 5/20... Step: 260... Loss: 2.0485... Val Loss: 2.1823\n",
            "Epoch: 5/20... Step: 270... Loss: 2.0246... Val Loss: 2.1587\n",
            "Epoch: 5/20... Step: 280... Loss: 2.0197... Val Loss: 2.1351\n",
            "Epoch: 5/20... Step: 290... Loss: 2.0092... Val Loss: 2.1097\n",
            "Epoch: 5/20... Step: 300... Loss: 1.9552... Val Loss: 2.0913\n",
            "Epoch: 5/20... Step: 310... Loss: 1.9319... Val Loss: 2.0720\n",
            "Epoch: 6/20... Step: 320... Loss: 1.9172... Val Loss: 2.0516\n",
            "Epoch: 6/20... Step: 330... Loss: 1.9015... Val Loss: 2.0301\n",
            "Epoch: 6/20... Step: 340... Loss: 1.8715... Val Loss: 2.0122\n",
            "Epoch: 6/20... Step: 350... Loss: 1.8800... Val Loss: 1.9968\n",
            "Epoch: 6/20... Step: 360... Loss: 1.8166... Val Loss: 1.9847\n",
            "Epoch: 6/20... Step: 370... Loss: 1.7977... Val Loss: 1.9724\n",
            "Epoch: 7/20... Step: 380... Loss: 1.8489... Val Loss: 1.9491\n",
            "Epoch: 7/20... Step: 390... Loss: 1.7895... Val Loss: 1.9284\n",
            "Epoch: 7/20... Step: 400... Loss: 1.7357... Val Loss: 1.9152\n",
            "Epoch: 7/20... Step: 410... Loss: 1.7414... Val Loss: 1.9013\n",
            "Epoch: 7/20... Step: 420... Loss: 1.7616... Val Loss: 1.8889\n",
            "Epoch: 7/20... Step: 430... Loss: 1.7395... Val Loss: 1.8808\n",
            "Epoch: 7/20... Step: 440... Loss: 1.7051... Val Loss: 1.8721\n",
            "Epoch: 8/20... Step: 450... Loss: 1.7069... Val Loss: 1.8536\n",
            "Epoch: 8/20... Step: 460... Loss: 1.6877... Val Loss: 1.8417\n",
            "Epoch: 8/20... Step: 470... Loss: 1.6686... Val Loss: 1.8333\n",
            "Epoch: 8/20... Step: 480... Loss: 1.6398... Val Loss: 1.8234\n",
            "Epoch: 8/20... Step: 490... Loss: 1.6502... Val Loss: 1.8177\n",
            "Epoch: 8/20... Step: 500... Loss: 1.6777... Val Loss: 1.8061\n",
            "Epoch: 9/20... Step: 510... Loss: 1.6216... Val Loss: 1.7981\n",
            "Epoch: 9/20... Step: 520... Loss: 1.6194... Val Loss: 1.7872\n",
            "Epoch: 9/20... Step: 530... Loss: 1.5751... Val Loss: 1.7814\n",
            "Epoch: 9/20... Step: 540... Loss: 1.6137... Val Loss: 1.7737\n",
            "Epoch: 9/20... Step: 550... Loss: 1.5831... Val Loss: 1.7669\n",
            "Epoch: 9/20... Step: 560... Loss: 1.5915... Val Loss: 1.7586\n",
            "Epoch: 10/20... Step: 570... Loss: 1.6266... Val Loss: 1.7521\n",
            "Epoch: 10/20... Step: 580... Loss: 1.5699... Val Loss: 1.7422\n",
            "Epoch: 10/20... Step: 590... Loss: 1.5843... Val Loss: 1.7341\n",
            "Epoch: 10/20... Step: 600... Loss: 1.5313... Val Loss: 1.7273\n",
            "Epoch: 10/20... Step: 610... Loss: 1.5571... Val Loss: 1.7253\n",
            "Epoch: 10/20... Step: 620... Loss: 1.5618... Val Loss: 1.7190\n",
            "Epoch: 10/20... Step: 630... Loss: 1.5638... Val Loss: 1.7080\n",
            "Epoch: 11/20... Step: 640... Loss: 1.5739... Val Loss: 1.7016\n",
            "Epoch: 11/20... Step: 650... Loss: 1.5170... Val Loss: 1.7054\n",
            "Epoch: 11/20... Step: 660... Loss: 1.4920... Val Loss: 1.6928\n",
            "Epoch: 11/20... Step: 670... Loss: 1.5366... Val Loss: 1.6927\n",
            "Epoch: 11/20... Step: 680... Loss: 1.5138... Val Loss: 1.6859\n",
            "Epoch: 11/20... Step: 690... Loss: 1.5206... Val Loss: 1.6761\n",
            "Epoch: 12/20... Step: 700... Loss: 1.5210... Val Loss: 1.6729\n",
            "Epoch: 12/20... Step: 710... Loss: 1.4662... Val Loss: 1.6652\n",
            "Epoch: 12/20... Step: 720... Loss: 1.4773... Val Loss: 1.6666\n",
            "Epoch: 12/20... Step: 730... Loss: 1.4658... Val Loss: 1.6659\n",
            "Epoch: 12/20... Step: 740... Loss: 1.5031... Val Loss: 1.6590\n",
            "Epoch: 12/20... Step: 750... Loss: 1.4751... Val Loss: 1.6536\n",
            "Epoch: 13/20... Step: 760... Loss: 1.4886... Val Loss: 1.6492\n",
            "Epoch: 13/20... Step: 770... Loss: 1.4643... Val Loss: 1.6383\n",
            "Epoch: 13/20... Step: 780... Loss: 1.4588... Val Loss: 1.6349\n",
            "Epoch: 13/20... Step: 790... Loss: 1.4305... Val Loss: 1.6277\n",
            "Epoch: 13/20... Step: 800... Loss: 1.4416... Val Loss: 1.6345\n",
            "Epoch: 13/20... Step: 810... Loss: 1.4460... Val Loss: 1.6309\n",
            "Epoch: 14/20... Step: 820... Loss: 1.4910... Val Loss: 1.6176\n",
            "Epoch: 14/20... Step: 830... Loss: 1.4368... Val Loss: 1.6181\n",
            "Epoch: 14/20... Step: 840... Loss: 1.3992... Val Loss: 1.6213\n",
            "Epoch: 14/20... Step: 850... Loss: 1.4032... Val Loss: 1.6156\n",
            "Epoch: 14/20... Step: 860... Loss: 1.4233... Val Loss: 1.6242\n",
            "Epoch: 14/20... Step: 870... Loss: 1.3898... Val Loss: 1.6142\n",
            "Epoch: 14/20... Step: 880... Loss: 1.4237... Val Loss: 1.6045\n",
            "Epoch: 15/20... Step: 890... Loss: 1.4053... Val Loss: 1.5958\n",
            "Epoch: 15/20... Step: 900... Loss: 1.3552... Val Loss: 1.5953\n",
            "Epoch: 15/20... Step: 910... Loss: 1.4068... Val Loss: 1.5917\n",
            "Epoch: 15/20... Step: 920... Loss: 1.3998... Val Loss: 1.5912\n",
            "Epoch: 15/20... Step: 930... Loss: 1.3980... Val Loss: 1.5897\n",
            "Epoch: 15/20... Step: 940... Loss: 1.3799... Val Loss: 1.5829\n",
            "Epoch: 16/20... Step: 950... Loss: 1.3711... Val Loss: 1.5819\n",
            "Epoch: 16/20... Step: 960... Loss: 1.3876... Val Loss: 1.5787\n",
            "Epoch: 16/20... Step: 970... Loss: 1.3583... Val Loss: 1.5715\n",
            "Epoch: 16/20... Step: 980... Loss: 1.3794... Val Loss: 1.5839\n",
            "Epoch: 16/20... Step: 990... Loss: 1.3571... Val Loss: 1.5797\n",
            "Epoch: 16/20... Step: 1000... Loss: 1.3460... Val Loss: 1.5770\n",
            "Epoch: 17/20... Step: 1010... Loss: 1.4029... Val Loss: 1.5657\n",
            "Epoch: 17/20... Step: 1020... Loss: 1.3513... Val Loss: 1.5652\n",
            "Epoch: 17/20... Step: 1030... Loss: 1.3092... Val Loss: 1.5677\n",
            "Epoch: 17/20... Step: 1040... Loss: 1.3405... Val Loss: 1.5640\n",
            "Epoch: 17/20... Step: 1050... Loss: 1.3610... Val Loss: 1.5671\n",
            "Epoch: 17/20... Step: 1060... Loss: 1.3458... Val Loss: 1.5611\n",
            "Epoch: 17/20... Step: 1070... Loss: 1.3171... Val Loss: 1.5600\n",
            "Epoch: 18/20... Step: 1080... Loss: 1.3372... Val Loss: 1.5564\n",
            "Epoch: 18/20... Step: 1090... Loss: 1.3029... Val Loss: 1.5538\n",
            "Epoch: 18/20... Step: 1100... Loss: 1.3316... Val Loss: 1.5518\n",
            "Epoch: 18/20... Step: 1110... Loss: 1.2890... Val Loss: 1.5546\n",
            "Epoch: 18/20... Step: 1120... Loss: 1.3343... Val Loss: 1.5483\n",
            "Epoch: 18/20... Step: 1130... Loss: 1.3514... Val Loss: 1.5421\n",
            "Epoch: 19/20... Step: 1140... Loss: 1.2891... Val Loss: 1.5468\n",
            "Epoch: 19/20... Step: 1150... Loss: 1.3021... Val Loss: 1.5425\n",
            "Epoch: 19/20... Step: 1160... Loss: 1.2629... Val Loss: 1.5439\n",
            "Epoch: 19/20... Step: 1170... Loss: 1.2948... Val Loss: 1.5456\n",
            "Epoch: 19/20... Step: 1180... Loss: 1.2826... Val Loss: 1.5427\n",
            "Epoch: 19/20... Step: 1190... Loss: 1.2792... Val Loss: 1.5414\n",
            "Epoch: 20/20... Step: 1200... Loss: 1.3271... Val Loss: 1.5364\n",
            "Epoch: 20/20... Step: 1210... Loss: 1.2892... Val Loss: 1.5321\n",
            "Epoch: 20/20... Step: 1220... Loss: 1.2864... Val Loss: 1.5311\n",
            "Epoch: 20/20... Step: 1230... Loss: 1.2464... Val Loss: 1.5299\n",
            "Epoch: 20/20... Step: 1240... Loss: 1.2812... Val Loss: 1.5360\n",
            "Epoch: 20/20... Step: 1250... Loss: 1.2926... Val Loss: 1.5294\n",
            "Epoch: 20/20... Step: 1260... Loss: 1.3033... Val Loss: 1.5297\n"
          ],
          "name": "stdout"
        }
      ]
    },
    {
      "cell_type": "code",
      "metadata": {
        "id": "ArVr78rOwvUo",
        "colab_type": "code",
        "colab": {}
      },
      "source": [
        "# change the name, for saving multiple files\n",
        "model_name = 'LoveSongGenerator.net'\n",
        "\n",
        "checkpoint = {'n_hidden': net.n_hidden,\n",
        "              'n_layers': net.n_layers,\n",
        "              'state_dict': net.state_dict(),\n",
        "              'tokens': net.chars}\n",
        "\n",
        "with open(model_name, 'wb') as f:\n",
        "    torch.save(checkpoint, f)"
      ],
      "execution_count": 0,
      "outputs": []
    },
    {
      "cell_type": "code",
      "metadata": {
        "id": "iWOFbG70w29l",
        "colab_type": "code",
        "colab": {}
      },
      "source": [
        "def predict(net, char, h=None, top_k=None):\n",
        "        ''' Given a character, predict the next character.\n",
        "            Returns the predicted character and the hidden state.\n",
        "        '''\n",
        "        \n",
        "        # tensor inputs\n",
        "        x = np.array([[net.char2int[char]]])\n",
        "        x = one_hot_encode(x, len(net.chars))\n",
        "        inputs = torch.from_numpy(x)\n",
        "        \n",
        "        if(train_on_gpu):\n",
        "            inputs = inputs.cuda()\n",
        "        \n",
        "        # detach hidden state from history\n",
        "        h = tuple([each.data for each in h])\n",
        "        # get the output of the model\n",
        "        out, h = net(inputs, h)\n",
        "\n",
        "        # get the character probabilities\n",
        "        p = F.softmax(out, dim=1).data\n",
        "        if(train_on_gpu):\n",
        "            p = p.cpu() # move to cpu\n",
        "        \n",
        "        # get top characters\n",
        "        if top_k is None:\n",
        "            top_ch = np.arange(len(net.chars))\n",
        "        else:\n",
        "            p, top_ch = p.topk(top_k)\n",
        "            top_ch = top_ch.numpy().squeeze()\n",
        "        \n",
        "        # select the likely next character with some element of randomness\n",
        "        p = p.numpy().squeeze()\n",
        "        char = np.random.choice(top_ch, p=p/p.sum())\n",
        "        \n",
        "        # return the encoded value of the predicted char and the hidden state\n",
        "        return net.int2char[char], h"
      ],
      "execution_count": 0,
      "outputs": []
    },
    {
      "cell_type": "code",
      "metadata": {
        "id": "Pbc2bWMbxQtA",
        "colab_type": "code",
        "colab": {}
      },
      "source": [
        "def sample(net, size, prime='The', top_k=None):\n",
        "        \n",
        "    if(train_on_gpu):\n",
        "        net.cuda()\n",
        "    else:\n",
        "        net.cpu()\n",
        "    \n",
        "    net.eval() # eval mode\n",
        "    \n",
        "    # First off, run through the prime characters\n",
        "    chars = [ch for ch in prime]\n",
        "    h = net.init_hidden(1)\n",
        "    for ch in prime:\n",
        "        char, h = predict(net, ch, h, top_k=top_k)\n",
        "\n",
        "    chars.append(char)\n",
        "    \n",
        "    # Now pass in the previous character and get a new one\n",
        "    for ii in range(size):\n",
        "        char, h = predict(net, chars[-1], h, top_k=top_k)\n",
        "        chars.append(char)\n",
        "\n",
        "    return ''.join(chars)"
      ],
      "execution_count": 0,
      "outputs": []
    },
    {
      "cell_type": "code",
      "metadata": {
        "id": "s9n_W7Vwxo1Q",
        "colab_type": "code",
        "colab": {
          "base_uri": "https://localhost:8080/",
          "height": 1000
        },
        "outputId": "22190f8b-7c7b-4184-9f86-c118104e533d"
      },
      "source": [
        "# Here we have loaded in a model that trained\n",
        "with open('LoveSongGenerator.net', 'rb') as f:\n",
        "    checkpoint = torch.load(f)\n",
        "    \n",
        "loaded = CharRNN(checkpoint['tokens'], n_hidden=checkpoint['n_hidden'], n_layers=checkpoint['n_layers'])\n",
        "loaded.load_state_dict(checkpoint['state_dict'])\n",
        "\n",
        "print(sample(loaded, 2000, top_k=5, prime='Love'))"
      ],
      "execution_count": 19,
      "outputs": [
        {
          "output_type": "stream",
          "text": [
            "Love it together\n",
            "Take me to my mind\n",
            "I don't know what to to\n",
            "All you can said,\n",
            "Was the way I feel shings all the way that I wait\n",
            "A tone to your love is wrong, I like a mind\n",
            "And if you wish a look at you\n",
            "I wanna know if you don't have a chear\n",
            "\n",
            "I'll never love you, waiting for me aw you and me,\n",
            "I love you to be love\n",
            "\n",
            "I will always be this fine is all of you \n",
            "You who mood it all I can dream\n",
            "The way I mothing you to the\n",
            "And it went the world inside\n",
            "I need you baby in your eyes\n",
            "\n",
            "You make me, want you so much me\n",
            "\n",
            "When I would stars to be another\n",
            "\n",
            "Well I'm loving you\n",
            "I cant go on to be together\n",
            "\n",
            "You can't have it through, I don't want to stop my heart, I will be you\n",
            "And I won't born who words I do\n",
            "I don't wanna get to say it time\n",
            "\n",
            "All you need is my heart \n",
            "I want you in the same\n",
            "I don’t want to move that\n",
            "\n",
            "You can take me to love that so long you want to thind\n",
            "I keep it together\n",
            "Your eyes and secilose and thats the love times that the day\n",
            "I like a chance and that's where they dadle my sey \n",
            "\n",
            "In't waiting all that she dons say\n",
            "I can't live without you to be\n",
            "Another thing that\n",
            "I wanna stay to be with you\n",
            "If you see my life and strong\n",
            "\n",
            "Wasna soul any soul feelin' simper \n",
            "If I need the way that you dancouted\n",
            "They think and the times we wouldn't go\n",
            "\n",
            "Touch the war of my love alone\n",
            "The whole will around it out\n",
            "If I wanna set you we mean\n",
            "\n",
            "And that sweet all around is a love wing in your sear\n",
            "That won't let me feel you for you\n",
            "And I want to stow thinking if you wool \n",
            "And that we're touch our love want\n",
            "I want it too for my love and you'll sturt be togethin you babe\n",
            "I'm gotna get it that this mast will love you for you\n",
            "I want to say it's true like you so blind\n",
            "I will never see you for you\n",
            "\n",
            "When I dast there in the wind of the way \n",
            "You might someone streegt and than I compare\n",
            "I'm for that I don't know I'd love you thing\n",
            "I'm all never let you feel it all\n",
            "\n",
            "This wonderfilled to like a chome on may\n",
            "If you say what it's still a strong\n",
            "\n",
            "If you don't have a believe\n",
            "\n",
            "I want to be like you\n",
            "And I'm thi\n"
          ],
          "name": "stdout"
        }
      ]
    },
    {
      "cell_type": "code",
      "metadata": {
        "id": "JEMUow0OxwCR",
        "colab_type": "code",
        "colab": {}
      },
      "source": [
        ""
      ],
      "execution_count": 0,
      "outputs": []
    }
  ]
}