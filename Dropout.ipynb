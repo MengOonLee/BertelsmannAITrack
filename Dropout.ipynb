{
  "nbformat": 4,
  "nbformat_minor": 0,
  "metadata": {
    "colab": {
      "name": "Untitled3.ipynb",
      "provenance": [],
      "include_colab_link": true
    },
    "kernelspec": {
      "name": "python3",
      "display_name": "Python 3"
    },
    "accelerator": "GPU"
  },
  "cells": [
    {
      "cell_type": "markdown",
      "metadata": {
        "id": "view-in-github",
        "colab_type": "text"
      },
      "source": [
        "<a href=\"https://colab.research.google.com/github/MengOonLee/BertelsmannAITrack/blob/Lesson05/Dropout.ipynb\" target=\"_parent\"><img src=\"https://colab.research.google.com/assets/colab-badge.svg\" alt=\"Open In Colab\"/></a>"
      ]
    },
    {
      "cell_type": "code",
      "metadata": {
        "id": "Y7S2vW3aFEmK",
        "colab_type": "code",
        "outputId": "c75573f4-9187-4e46-eb87-7216bf5339b6",
        "colab": {
          "base_uri": "https://localhost:8080/",
          "height": 275
        }
      },
      "source": [
        "import torch\n",
        "from torchvision import datasets, transforms\n",
        "\n",
        "# Define a transform to normalize the data\n",
        "transform = transforms.Compose([transforms.ToTensor(),\n",
        "                                transforms.Normalize((0.5,), (0.5,)),\n",
        "                              ])\n",
        "\n",
        "# Download and load the training data\n",
        "trainset = datasets.FashionMNIST(\"~/.pytorch/F_MNIST_data/\", download=True, train=True, transform=transform)\n",
        "trainloader = torch.utils.data.DataLoader(trainset, batch_size=64, shuffle=True)\n",
        "\n",
        "# Download and load the test data\n",
        "testset = datasets.FashionMNIST(\"~/.pytorch/F_MNIST_data/\", download=True, train=False, transform=transform)\n",
        "testloader = torch.utils.data.DataLoader(testset, batch_size=64, shuffle=True)"
      ],
      "execution_count": 0,
      "outputs": [
        {
          "output_type": "stream",
          "text": [
            "  0%|          | 0/26421880 [00:00<?, ?it/s]"
          ],
          "name": "stderr"
        },
        {
          "output_type": "stream",
          "text": [
            "Downloading http://fashion-mnist.s3-website.eu-central-1.amazonaws.com/train-images-idx3-ubyte.gz to /root/.pytorch/F_MNIST_data/FashionMNIST/raw/train-images-idx3-ubyte.gz\n"
          ],
          "name": "stdout"
        },
        {
          "output_type": "stream",
          "text": [
            "26427392it [00:00, 53649127.50it/s]                              \n"
          ],
          "name": "stderr"
        },
        {
          "output_type": "stream",
          "text": [
            "Extracting /root/.pytorch/F_MNIST_data/FashionMNIST/raw/train-images-idx3-ubyte.gz to /root/.pytorch/F_MNIST_data/FashionMNIST/raw\n"
          ],
          "name": "stdout"
        },
        {
          "output_type": "stream",
          "text": [
            "32768it [00:00, 476323.83it/s]\n",
            "  1%|          | 40960/4422102 [00:00<00:11, 375538.43it/s]"
          ],
          "name": "stderr"
        },
        {
          "output_type": "stream",
          "text": [
            "Downloading http://fashion-mnist.s3-website.eu-central-1.amazonaws.com/train-labels-idx1-ubyte.gz to /root/.pytorch/F_MNIST_data/FashionMNIST/raw/train-labels-idx1-ubyte.gz\n",
            "Extracting /root/.pytorch/F_MNIST_data/FashionMNIST/raw/train-labels-idx1-ubyte.gz to /root/.pytorch/F_MNIST_data/FashionMNIST/raw\n",
            "Downloading http://fashion-mnist.s3-website.eu-central-1.amazonaws.com/t10k-images-idx3-ubyte.gz to /root/.pytorch/F_MNIST_data/FashionMNIST/raw/t10k-images-idx3-ubyte.gz\n"
          ],
          "name": "stdout"
        },
        {
          "output_type": "stream",
          "text": [
            "4423680it [00:00, 20624872.13it/s]                           \n",
            "8192it [00:00, 150202.57it/s]\n"
          ],
          "name": "stderr"
        },
        {
          "output_type": "stream",
          "text": [
            "Extracting /root/.pytorch/F_MNIST_data/FashionMNIST/raw/t10k-images-idx3-ubyte.gz to /root/.pytorch/F_MNIST_data/FashionMNIST/raw\n",
            "Downloading http://fashion-mnist.s3-website.eu-central-1.amazonaws.com/t10k-labels-idx1-ubyte.gz to /root/.pytorch/F_MNIST_data/FashionMNIST/raw/t10k-labels-idx1-ubyte.gz\n",
            "Extracting /root/.pytorch/F_MNIST_data/FashionMNIST/raw/t10k-labels-idx1-ubyte.gz to /root/.pytorch/F_MNIST_data/FashionMNIST/raw\n",
            "Processing...\n",
            "Done!\n"
          ],
          "name": "stdout"
        }
      ]
    },
    {
      "cell_type": "code",
      "metadata": {
        "id": "zG_GoOaZjbQW",
        "colab_type": "code",
        "colab": {}
      },
      "source": [
        "from torch import nn, optim\n",
        "import torch.nn.functional as F\n",
        "\n",
        "# Build a network architecture\n",
        "class Classifier(nn.Module):\n",
        "  def __init__(self):\n",
        "    super().__init__()\n",
        "    self.fc1 = nn.Linear(784, 256)\n",
        "    self.fc2 = nn.Linear(256, 128)\n",
        "    self.fc3 = nn.Linear(128, 64)\n",
        "    self.fc4 = nn.Linear(64, 10)\n",
        "\n",
        "  def forward(self, x):\n",
        "    # input tensor is flattened\n",
        "    x = x.view(x.shape[0], -1)\n",
        "    x = F.relu(self.fc1(x))\n",
        "    x = F.relu(self.fc2(x))\n",
        "    x = F.relu(self.fc3(x))\n",
        "    x = F.log_softmax(self.fc4(x), dim=1)\n",
        "    return x"
      ],
      "execution_count": 0,
      "outputs": []
    },
    {
      "cell_type": "code",
      "metadata": {
        "id": "zSEf88cBD9av",
        "colab_type": "code",
        "outputId": "1a7cdfe8-726a-486d-a705-a12f266395ad",
        "colab": {
          "base_uri": "https://localhost:8080/",
          "height": 34
        }
      },
      "source": [
        "model = Classifier()\n",
        "\n",
        "images, labels = next(iter(testloader))\n",
        "# Get the class probabilities\n",
        "ps = torch.exp(model(images))\n",
        "# 10 class probabilities for 64 examples\n",
        "print(ps.shape)"
      ],
      "execution_count": 0,
      "outputs": [
        {
          "output_type": "stream",
          "text": [
            "torch.Size([64, 10])\n"
          ],
          "name": "stdout"
        }
      ]
    },
    {
      "cell_type": "code",
      "metadata": {
        "id": "8Mjbi5PTmsjZ",
        "colab_type": "code",
        "outputId": "fda672ee-2906-4139-9e47-53464f9118cc",
        "colab": {
          "base_uri": "https://localhost:8080/",
          "height": 187
        }
      },
      "source": [
        "top_p, top_class = ps.topk(1, dim=1)\n",
        "# The most likely classes for the first 10 samples\n",
        "print(top_class[:10, :])"
      ],
      "execution_count": 0,
      "outputs": [
        {
          "output_type": "stream",
          "text": [
            "tensor([[6],\n",
            "        [6],\n",
            "        [6],\n",
            "        [9],\n",
            "        [9],\n",
            "        [6],\n",
            "        [9],\n",
            "        [6],\n",
            "        [6],\n",
            "        [9]])\n"
          ],
          "name": "stdout"
        }
      ]
    },
    {
      "cell_type": "code",
      "metadata": {
        "id": "Nn4pc2lsnlHv",
        "colab_type": "code",
        "outputId": "078c5924-febe-4ae1-aee4-1e6504b30ad3",
        "colab": {
          "base_uri": "https://localhost:8080/",
          "height": 34
        }
      },
      "source": [
        "equals = top_class == labels.view(*top_class.shape)\n",
        "equals.shape"
      ],
      "execution_count": 0,
      "outputs": [
        {
          "output_type": "execute_result",
          "data": {
            "text/plain": [
              "torch.Size([64, 1])"
            ]
          },
          "metadata": {
            "tags": []
          },
          "execution_count": 5
        }
      ]
    },
    {
      "cell_type": "code",
      "metadata": {
        "id": "RFxa_bSPo3Yz",
        "colab_type": "code",
        "outputId": "0f620d02-92db-45f1-d6d1-a69bffef0bb9",
        "colab": {
          "base_uri": "https://localhost:8080/",
          "height": 34
        }
      },
      "source": [
        "accuracy = torch.mean(equals.type(torch.FloatTensor))\n",
        "print(f\"Accuracy: {accuracy.item()*100}%\")"
      ],
      "execution_count": 0,
      "outputs": [
        {
          "output_type": "stream",
          "text": [
            "Accuracy: 10.9375%\n"
          ],
          "name": "stdout"
        }
      ]
    },
    {
      "cell_type": "code",
      "metadata": {
        "id": "l_TGmfGKEXnE",
        "colab_type": "code",
        "outputId": "7ed3945c-2bec-4b51-be4c-fc7d64e8f73d",
        "colab": {
          "base_uri": "https://localhost:8080/",
          "height": 527
        }
      },
      "source": [
        "model = Classifier()\n",
        "criterion = nn.NLLLoss()\n",
        "optimizer = optim.Adam(model.parameters(), lr=0.003)\n",
        "\n",
        "# Train the network\n",
        "epochs = 30\n",
        "steps = 0\n",
        "train_losses, test_losses = [], []\n",
        "\n",
        "for e in range(epochs):\n",
        "  running_loss = 0\n",
        "  for images, labels in trainloader:\n",
        "    optimizer.zero_grad()\n",
        "    log_ps = model(images)\n",
        "    loss = criterion(log_ps, labels)    \n",
        "    loss.backward()\n",
        "    optimizer.step()\n",
        "\n",
        "    running_loss += loss.item()\n",
        "  else:\n",
        "    test_loss = 0\n",
        "    accuracy = 0\n",
        "    # Turn off gradients for validation, saves memory and computations\n",
        "    with torch.no_grad():\n",
        "      for images, labels in testloader:\n",
        "        log_ps = model(images)\n",
        "        test_loss += criterion(log_ps, labels)\n",
        "        ps = torch.exp(log_ps)\n",
        "        top_p, top_class = ps.topk(1, dim=1)\n",
        "        equals = top_class == labels.view(*top_class.shape)\n",
        "        accuracy += torch.mean(equals.type(torch.FloatTensor))\n",
        "\n",
        "    train_losses.append(running_loss/len(trainloader))\n",
        "    test_losses.append(test_loss/len(testloader))\n",
        "\n",
        "    print(\"Epoch: {}/{}.. \".format(e+1, epochs),\n",
        "          \"Training Loss: {:.3f}.. \".format(running_loss/len(trainloader)),\n",
        "          \"Test Loss: {:.3f}.. \".format(test_loss/len(testloader)),\n",
        "          \"Test Accuracy: {:.3f}\".format(accuracy/len(testloader)))"
      ],
      "execution_count": 0,
      "outputs": [
        {
          "output_type": "stream",
          "text": [
            "Epoch: 1/30..  Training Loss: 0.512..  Test Loss: 0.488..  Test Accuracy: 0.820\n",
            "Epoch: 2/30..  Training Loss: 0.391..  Test Loss: 0.420..  Test Accuracy: 0.849\n",
            "Epoch: 3/30..  Training Loss: 0.355..  Test Loss: 0.391..  Test Accuracy: 0.857\n",
            "Epoch: 4/30..  Training Loss: 0.329..  Test Loss: 0.367..  Test Accuracy: 0.870\n",
            "Epoch: 5/30..  Training Loss: 0.316..  Test Loss: 0.393..  Test Accuracy: 0.864\n",
            "Epoch: 6/30..  Training Loss: 0.302..  Test Loss: 0.351..  Test Accuracy: 0.873\n",
            "Epoch: 7/30..  Training Loss: 0.287..  Test Loss: 0.389..  Test Accuracy: 0.869\n",
            "Epoch: 8/30..  Training Loss: 0.281..  Test Loss: 0.402..  Test Accuracy: 0.864\n",
            "Epoch: 9/30..  Training Loss: 0.273..  Test Loss: 0.392..  Test Accuracy: 0.866\n",
            "Epoch: 10/30..  Training Loss: 0.267..  Test Loss: 0.362..  Test Accuracy: 0.876\n",
            "Epoch: 11/30..  Training Loss: 0.260..  Test Loss: 0.369..  Test Accuracy: 0.876\n",
            "Epoch: 12/30..  Training Loss: 0.250..  Test Loss: 0.411..  Test Accuracy: 0.866\n",
            "Epoch: 13/30..  Training Loss: 0.250..  Test Loss: 0.370..  Test Accuracy: 0.877\n",
            "Epoch: 14/30..  Training Loss: 0.243..  Test Loss: 0.375..  Test Accuracy: 0.877\n",
            "Epoch: 15/30..  Training Loss: 0.238..  Test Loss: 0.374..  Test Accuracy: 0.879\n",
            "Epoch: 16/30..  Training Loss: 0.239..  Test Loss: 0.358..  Test Accuracy: 0.876\n",
            "Epoch: 17/30..  Training Loss: 0.226..  Test Loss: 0.407..  Test Accuracy: 0.872\n",
            "Epoch: 18/30..  Training Loss: 0.225..  Test Loss: 0.405..  Test Accuracy: 0.871\n",
            "Epoch: 19/30..  Training Loss: 0.219..  Test Loss: 0.369..  Test Accuracy: 0.884\n",
            "Epoch: 20/30..  Training Loss: 0.217..  Test Loss: 0.442..  Test Accuracy: 0.873\n",
            "Epoch: 21/30..  Training Loss: 0.213..  Test Loss: 0.381..  Test Accuracy: 0.882\n",
            "Epoch: 22/30..  Training Loss: 0.210..  Test Loss: 0.372..  Test Accuracy: 0.886\n",
            "Epoch: 23/30..  Training Loss: 0.206..  Test Loss: 0.387..  Test Accuracy: 0.880\n",
            "Epoch: 24/30..  Training Loss: 0.202..  Test Loss: 0.406..  Test Accuracy: 0.874\n",
            "Epoch: 25/30..  Training Loss: 0.197..  Test Loss: 0.398..  Test Accuracy: 0.882\n",
            "Epoch: 26/30..  Training Loss: 0.193..  Test Loss: 0.404..  Test Accuracy: 0.876\n",
            "Epoch: 27/30..  Training Loss: 0.203..  Test Loss: 0.382..  Test Accuracy: 0.886\n",
            "Epoch: 28/30..  Training Loss: 0.189..  Test Loss: 0.407..  Test Accuracy: 0.883\n",
            "Epoch: 29/30..  Training Loss: 0.187..  Test Loss: 0.416..  Test Accuracy: 0.879\n",
            "Epoch: 30/30..  Training Loss: 0.191..  Test Loss: 0.407..  Test Accuracy: 0.880\n"
          ],
          "name": "stdout"
        }
      ]
    },
    {
      "cell_type": "code",
      "metadata": {
        "id": "BTapJTiJhzn7",
        "colab_type": "code",
        "outputId": "f01609f1-482f-4794-96ed-2ffd185c1b18",
        "colab": {
          "base_uri": "https://localhost:8080/",
          "height": 282
        }
      },
      "source": [
        "import matplotlib.pyplot as plt\n",
        "%matplotlib inline\n",
        "%config InlineBackend.figure_format = \"retina\"\n",
        "\n",
        "plt.plot(train_losses, label=\"Training loss\")\n",
        "plt.plot(test_losses, label=\"Validation loss\")\n",
        "plt.legend(frameon=False)"
      ],
      "execution_count": 0,
      "outputs": [
        {
          "output_type": "execute_result",
          "data": {
            "text/plain": [
              "<matplotlib.legend.Legend at 0x7f812f290208>"
            ]
          },
          "metadata": {
            "tags": []
          },
          "execution_count": 9
        },
        {
          "output_type": "display_data",
          "data": {
            "image/png": "[encoded data removed]",
            "text/plain": [
              "<Figure size 432x288 with 1 Axes>"
            ]
          },
          "metadata": {
            "tags": [],
            "image/png": {
              "width": 380,
              "height": 248
            }
          }
        }
      ]
    },
    {
      "cell_type": "code",
      "metadata": {
        "id": "tDXm_-coICs4",
        "colab_type": "code",
        "colab": {}
      },
      "source": [
        ""
      ],
      "execution_count": 0,
      "outputs": []
    }
  ]
}