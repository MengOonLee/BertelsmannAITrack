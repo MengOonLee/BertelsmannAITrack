{
  "nbformat": 4,
  "nbformat_minor": 0,
  "metadata": {
    "kernelspec": {
      "name": "python3",
      "display_name": "Python 3"
    },
    "colab": {
      "name": "SageMaker Project.ipynb",
      "provenance": [],
      "include_colab_link": true
    },
    "accelerator": "GPU"
  },
  "cells": [
    {
      "cell_type": "markdown",
      "metadata": {
        "id": "view-in-github",
        "colab_type": "text"
      },
      "source": [
        "<a href=\"https://colab.research.google.com/github/MengOonLee/BertelsmannAITrack/blob/master/SageMaker/Project/Sentiment_analysis_web_app.ipynb\" target=\"_parent\"><img src=\"https://colab.research.google.com/assets/colab-badge.svg\" alt=\"Open In Colab\"/></a>"
      ]
    },
    {
      "cell_type": "markdown",
      "metadata": {
        "id": "KTtwGLfacrLr",
        "colab_type": "text"
      },
      "source": [
        "# Creating a Sentiment Analysis Web App\n",
        "## Using PyTorch and SageMaker\n",
        "\n",
        "_Deep Learning Nanodegree Program | Deployment_\n",
        "\n",
        "---\n",
        "\n",
        "Now that we have a basic understanding of how SageMaker works we will try to use it to construct a complete project from end to end. Our goal will be to have a simple web page which a user can use to enter a movie review. The web page will then send the review off to our deployed model which will predict the sentiment of the entered review.\n",
        "\n",
        "## Instructions\n",
        "\n",
        "Some template code has already been provided for you, and you will need to implement additional functionality to successfully complete this notebook. You will not need to modify the included code beyond what is requested. Sections that begin with '**TODO**' in the header indicate that you need to complete or implement some portion within them. Instructions will be provided for each section and the specifics of the implementation are marked in the code block with a `# TODO: ...` comment. Please be sure to read the instructions carefully!\n",
        "\n",
        "In addition to implementing code, there will be questions for you to answer which relate to the task and your implementation. Each section where you will answer a question is preceded by a '**Question:**' header. Carefully read each question and provide your answer below the '**Answer:**' header by editing the Markdown cell.\n",
        "\n",
        "> **Note**: Code and Markdown cells can be executed using the **Shift+Enter** keyboard shortcut. In addition, a cell can be edited by typically clicking it (double-click for Markdown cells) or by pressing **Enter** while it is highlighted.\n",
        "\n",
        "## General Outline\n",
        "\n",
        "Recall the general outline for SageMaker projects using a notebook instance.\n",
        "\n",
        "1. Download or otherwise retrieve the data.\n",
        "2. Process / Prepare the data.\n",
        "3. Upload the processed data to S3.\n",
        "4. Train a chosen model.\n",
        "5. Test the trained model (typically using a batch transform job).\n",
        "6. Deploy the trained model.\n",
        "7. Use the deployed model.\n",
        "\n",
        "For this project, you will be following the steps in the general outline with some modifications. \n",
        "\n",
        "First, you will not be testing the model in its own step. You will still be testing the model, however, you will do it by deploying your model and then using the deployed model by sending the test data to it. One of the reasons for doing this is so that you can make sure that your deployed model is working correctly before moving forward.\n",
        "\n",
        "In addition, you will deploy and use your trained model a second time. In the second iteration you will customize the way that your trained model is deployed by including some of your own code. In addition, your newly deployed model will be used in the sentiment analysis web app."
      ]
    },
    {
      "cell_type": "markdown",
      "metadata": {
        "id": "G7GWMR4gcrLx",
        "colab_type": "text"
      },
      "source": [
        "## Step 1: Downloading the data\n",
        "\n",
        "As in the XGBoost in SageMaker notebook, we will be using the [IMDb dataset](http://ai.stanford.edu/~amaas/data/sentiment/)\n",
        "\n",
        "> Maas, Andrew L., et al. [Learning Word Vectors for Sentiment Analysis](http://ai.stanford.edu/~amaas/data/sentiment/). In _Proceedings of the 49th Annual Meeting of the Association for Computational Linguistics: Human Language Technologies_. Association for Computational Linguistics, 2011."
      ]
    },
    {
      "cell_type": "code",
      "metadata": {
        "id": "23u6B3S0crLy",
        "colab_type": "code",
        "colab": {
          "base_uri": "https://localhost:8080/",
          "height": 204
        },
        "outputId": "c1a0627e-68c0-4a10-f097-3fd628db8fca"
      },
      "source": [
        "%mkdir ./data\n",
        "!wget -O ./data/aclImdb_v1.tar.gz http://ai.stanford.edu/~amaas/data/sentiment/aclImdb_v1.tar.gz\n",
        "!tar -zxf ./data/aclImdb_v1.tar.gz -C ./data\n",
        "!rm ./data/aclImdb_v1.tar.gz"
      ],
      "execution_count": 1,
      "outputs": [
        {
          "output_type": "stream",
          "text": [
            "--2020-07-29 10:55:39--  http://ai.stanford.edu/~amaas/data/sentiment/aclImdb_v1.tar.gz\n",
            "Resolving ai.stanford.edu (ai.stanford.edu)... 171.64.68.10\n",
            "Connecting to ai.stanford.edu (ai.stanford.edu)|171.64.68.10|:80... connected.\n",
            "HTTP request sent, awaiting response... 200 OK\n",
            "Length: 84125825 (80M) [application/x-gzip]\n",
            "Saving to: ‘./data/aclImdb_v1.tar.gz’\n",
            "\n",
            "./data/aclImdb_v1.t 100%[===================>]  80.23M  19.2MB/s    in 7.1s    \n",
            "\n",
            "2020-07-29 10:55:49 (11.3 MB/s) - ‘./data/aclImdb_v1.tar.gz’ saved [84125825/84125825]\n",
            "\n"
          ],
          "name": "stdout"
        }
      ]
    },
    {
      "cell_type": "markdown",
      "metadata": {
        "id": "smVlPoHPcrL5",
        "colab_type": "text"
      },
      "source": [
        "## Step 2: Preparing and Processing the data\n",
        "\n",
        "Also, as in the XGBoost notebook, we will be doing some initial data processing. The first few steps are the same as in the XGBoost example. To begin with, we will read in each of the reviews and combine them into a single input structure. Then, we will split the dataset into a training set and a testing set."
      ]
    },
    {
      "cell_type": "code",
      "metadata": {
        "id": "7gI95gOlcrL9",
        "colab_type": "code",
        "colab": {}
      },
      "source": [
        "import os\n",
        "import glob\n",
        "\n",
        "def read_imdb_data(data_dir='./data/aclImdb'):\n",
        "    data = {}\n",
        "    labels = {}\n",
        "    \n",
        "    for data_type in ['train', 'test']:\n",
        "        data[data_type] = {}\n",
        "        labels[data_type] = {}\n",
        "        \n",
        "        for sentiment in ['pos', 'neg']:\n",
        "            data[data_type][sentiment] = []\n",
        "            labels[data_type][sentiment] = []\n",
        "            \n",
        "            path = os.path.join(data_dir, data_type, sentiment, '*.txt')\n",
        "            files = glob.glob(path)\n",
        "            \n",
        "            for f in files:\n",
        "                with open(f) as review:\n",
        "                    data[data_type][sentiment].append(review.read())\n",
        "                    # Here we represent a positive review by '1' and a negative review by '0'\n",
        "                    labels[data_type][sentiment].append(1 if sentiment == 'pos' else 0)\n",
        "                    \n",
        "            assert len(data[data_type][sentiment]) == len(labels[data_type][sentiment]), \\\n",
        "                    \"{}/{} data size does not match labels size\".format(data_type, sentiment)\n",
        "                \n",
        "    return data, labels"
      ],
      "execution_count": 2,
      "outputs": []
    },
    {
      "cell_type": "code",
      "metadata": {
        "id": "SzMIqYINcrMI",
        "colab_type": "code",
        "colab": {
          "base_uri": "https://localhost:8080/",
          "height": 34
        },
        "outputId": "7c1bbd97-fd50-4288-84fe-c67ccec6e3cb"
      },
      "source": [
        "data, labels = read_imdb_data()\n",
        "print(\"IMDB reviews: train = {} pos / {} neg, test = {} pos / {} neg\".format(\n",
        "            len(data['train']['pos']), len(data['train']['neg']),\n",
        "            len(data['test']['pos']), len(data['test']['neg'])))"
      ],
      "execution_count": 3,
      "outputs": [
        {
          "output_type": "stream",
          "text": [
            "IMDB reviews: train = 12500 pos / 12500 neg, test = 12500 pos / 12500 neg\n"
          ],
          "name": "stdout"
        }
      ]
    },
    {
      "cell_type": "markdown",
      "metadata": {
        "id": "XrqSVKULcrMR",
        "colab_type": "text"
      },
      "source": [
        "Now that we've read the raw training and testing data from the downloaded dataset, we will combine the positive and negative reviews and shuffle the resulting records."
      ]
    },
    {
      "cell_type": "code",
      "metadata": {
        "id": "DB4ahkwpcrMS",
        "colab_type": "code",
        "colab": {}
      },
      "source": [
        "from sklearn.utils import shuffle\n",
        "import sklearn.model_selection\n",
        "\n",
        "def prepare_imdb_data(data, labels):\n",
        "    \"\"\"Prepare training and test sets from IMDb movie reviews.\"\"\"\n",
        "    \n",
        "    #Combine positive and negative reviews and labels\n",
        "    data_train = data['train']['pos'] + data['train']['neg']\n",
        "    data_test = data['test']['pos'] + data['test']['neg']\n",
        "    labels_train = labels['train']['pos'] + labels['train']['neg']\n",
        "    labels_test = labels['test']['pos'] + labels['test']['neg']\n",
        "    \n",
        "    #Shuffle reviews and corresponding labels within training and test sets\n",
        "    data_train, labels_train = shuffle(data_train, labels_train)\n",
        "    data_test, labels_test = shuffle(data_test, labels_test)\n",
        "    \n",
        "    # We split the test dataset into 1/2 val and 1/2 test.\n",
        "    data_valid, data_test, labels_valid, labels_test = sklearn.model_selection.train_test_split(\n",
        "        data_test, labels_test, test_size=0.5)\n",
        "    \n",
        "    # Return a unified training data, test data, training labels, test labets\n",
        "    return data_train, data_valid, data_test, labels_train, labels_valid, labels_test"
      ],
      "execution_count": 4,
      "outputs": []
    },
    {
      "cell_type": "code",
      "metadata": {
        "id": "H4easkYPcrMZ",
        "colab_type": "code",
        "colab": {
          "base_uri": "https://localhost:8080/",
          "height": 34
        },
        "outputId": "393b9dfa-0c41-4cf7-a493-25533a51b1a3"
      },
      "source": [
        "train_X, valid_X, test_X, train_y, valid_y, test_y = prepare_imdb_data(data, labels)\n",
        "print(\"IMDb reviews (combined): train = {}, valid = {}, test = {}\".format(len(train_X), len(valid_X), len(test_X)))"
      ],
      "execution_count": 5,
      "outputs": [
        {
          "output_type": "stream",
          "text": [
            "IMDb reviews (combined): train = 25000, valid = 12500, test = 12500\n"
          ],
          "name": "stdout"
        }
      ]
    },
    {
      "cell_type": "markdown",
      "metadata": {
        "id": "MOH6r1wkcrMk",
        "colab_type": "text"
      },
      "source": [
        "Now that we have our training and testing sets unified and prepared, we should do a quick check and see an example of the data our model will be trained on. This is generally a good idea as it allows you to see how each of the further processing steps affects the reviews and it also ensures that the data has been loaded correctly."
      ]
    },
    {
      "cell_type": "code",
      "metadata": {
        "id": "058UlFXQcrMm",
        "colab_type": "code",
        "colab": {
          "base_uri": "https://localhost:8080/",
          "height": 71
        },
        "outputId": "1ecfb11f-b75f-4a8e-9ae3-9299bf7d5797"
      },
      "source": [
        "print(train_X[100])\n",
        "print(train_y[100])"
      ],
      "execution_count": 6,
      "outputs": [
        {
          "output_type": "stream",
          "text": [
            "As was to be expected, A Mazursky film made in the 70s would be counter-culture, sympathetic towards the hippies - and have a lot of hippies in it - and, naturally, it is childishly anti-authoritarian (e.g. the scene on the Mexican border, when Sutherland provokes a custom's officer by showing little respect and then accuses the latter of making him open his luggage only because he (Sutherland) has long hair). The constant left-wing dribble could have gotten on my nerves had I not been prepared for it beforehand; Sutherland muses aloud to his family and friends about potential movie ideas for his next film, and most of these ideas are either about blacks or Indians (needless to say, he would be welcomed with open arms in today's Hollywood). One of his movie ideas is about a black uprising in Beverly Hills - a race-war, so-to-speak, in the middle of L.A.. This is the kind of nonsense that Mazursky thinks about when writing scripts for his movies. Fortunately, some of Sutherland's hippie friends make fun of this black-revolution premise, and the resulting dialogue isn't bad; a little later, the Jewish guy makes a crack about Sutherland making a movie about \"masturbation and the black problem\", when the latter starts talking about masturbation. Another funny moment is when Sutherland's older daughter performs some PC crap on stage with her white school-mates, and they all say: \"We, the black people of the Republic of South Africa...\".<br /><br />There is always a certain amount of self-indulgence when Hollywood makes a movie about Hollywood - especially when it's Hollywood making a movie about Hollywood discussing Hollywood doing movies. Now, that's very, very self-indulgent, indeed. The scene with Fellini (playing himself) is more amusing than annoying, though. Mazursky throws in the standard flower-children and anti-Vietnam bullshit into the soup, and also pokes fun at corporate Hollywood, but he was/is just as much a part of the \"phony Hollywood\" (lyrics from that song in the surreal war segment) as anyone else; I am pretty sure that he, too, makes phony small-talk in Beverly Hills parties and grins fakely while shaking the hands of people whom he either doesn't know or like, but whose money he wants badly for his next (left-wing) project. As for his hair: he has the worst hair I've seen in a very long time (on film or elsewhere); it's sort of like the kind of long hair that a middle-aged accountant would have if he grew it long. The film remains relatively interesting in spite of its aimlessness, but it bogs down somewhat into tedium in the last third. If you'd like to read my parody/biography of Donald Sutherland (and other Hollywood actors), contact me by e-mail.\n",
            "0\n"
          ],
          "name": "stdout"
        }
      ]
    },
    {
      "cell_type": "markdown",
      "metadata": {
        "id": "hTgvpFErcrMt",
        "colab_type": "text"
      },
      "source": [
        "The first step in processing the reviews is to make sure that any html tags that appear should be removed. In addition we wish to tokenize our input, that way words such as *entertained* and *entertaining* are considered the same with regard to sentiment analysis."
      ]
    },
    {
      "cell_type": "code",
      "metadata": {
        "id": "Ez4bUfAgcrMv",
        "colab_type": "code",
        "colab": {}
      },
      "source": [
        "import nltk\n",
        "from nltk.corpus import stopwords\n",
        "from nltk.stem.porter import *\n",
        "\n",
        "import re\n",
        "from bs4 import BeautifulSoup\n",
        "\n",
        "def review_to_words(review):\n",
        "    nltk.download(\"stopwords\", quiet=True)\n",
        "    stemmer = PorterStemmer()\n",
        "    \n",
        "    text = BeautifulSoup(review, \"html.parser\").get_text() # Remove HTML tags\n",
        "    text = re.sub(r\"[^a-zA-Z0-9]\", \" \", text.lower()) # Convert to lower case\n",
        "    words = text.split() # Split string into words\n",
        "    words = [w for w in words if w not in stopwords.words(\"english\")] # Remove stopwords\n",
        "    words = [PorterStemmer().stem(w) for w in words] # stem\n",
        "    \n",
        "    return words"
      ],
      "execution_count": 7,
      "outputs": []
    },
    {
      "cell_type": "markdown",
      "metadata": {
        "id": "XgpjNCjCcrM9",
        "colab_type": "text"
      },
      "source": [
        "The `review_to_words` method defined above uses `BeautifulSoup` to remove any html tags that appear and uses the `nltk` package to tokenize the reviews. As a check to ensure we know how everything is working, try applying `review_to_words` to one of the reviews in the training set."
      ]
    },
    {
      "cell_type": "code",
      "metadata": {
        "id": "PFh_0X9pcrM-",
        "colab_type": "code",
        "colab": {
          "base_uri": "https://localhost:8080/",
          "height": 1000
        },
        "outputId": "dca12dc2-5904-4a5f-fd88-b6e1df7b75ef"
      },
      "source": [
        "# TODO: Apply review_to_words to a review (train_X[100] or any other review)\n",
        "review_to_words(train_X[100])"
      ],
      "execution_count": 8,
      "outputs": [
        {
          "output_type": "execute_result",
          "data": {
            "text/plain": [
              "['expect',\n",
              " 'mazurski',\n",
              " 'film',\n",
              " 'made',\n",
              " '70',\n",
              " 'would',\n",
              " 'counter',\n",
              " 'cultur',\n",
              " 'sympathet',\n",
              " 'toward',\n",
              " 'hippi',\n",
              " 'lot',\n",
              " 'hippi',\n",
              " 'natur',\n",
              " 'childishli',\n",
              " 'anti',\n",
              " 'authoritarian',\n",
              " 'e',\n",
              " 'g',\n",
              " 'scene',\n",
              " 'mexican',\n",
              " 'border',\n",
              " 'sutherland',\n",
              " 'provok',\n",
              " 'custom',\n",
              " 'offic',\n",
              " 'show',\n",
              " 'littl',\n",
              " 'respect',\n",
              " 'accus',\n",
              " 'latter',\n",
              " 'make',\n",
              " 'open',\n",
              " 'luggag',\n",
              " 'sutherland',\n",
              " 'long',\n",
              " 'hair',\n",
              " 'constant',\n",
              " 'left',\n",
              " 'wing',\n",
              " 'dribbl',\n",
              " 'could',\n",
              " 'gotten',\n",
              " 'nerv',\n",
              " 'prepar',\n",
              " 'beforehand',\n",
              " 'sutherland',\n",
              " 'muse',\n",
              " 'aloud',\n",
              " 'famili',\n",
              " 'friend',\n",
              " 'potenti',\n",
              " 'movi',\n",
              " 'idea',\n",
              " 'next',\n",
              " 'film',\n",
              " 'idea',\n",
              " 'either',\n",
              " 'black',\n",
              " 'indian',\n",
              " 'needless',\n",
              " 'say',\n",
              " 'would',\n",
              " 'welcom',\n",
              " 'open',\n",
              " 'arm',\n",
              " 'today',\n",
              " 'hollywood',\n",
              " 'one',\n",
              " 'movi',\n",
              " 'idea',\n",
              " 'black',\n",
              " 'upris',\n",
              " 'beverli',\n",
              " 'hill',\n",
              " 'race',\n",
              " 'war',\n",
              " 'speak',\n",
              " 'middl',\n",
              " 'l',\n",
              " 'kind',\n",
              " 'nonsens',\n",
              " 'mazurski',\n",
              " 'think',\n",
              " 'write',\n",
              " 'script',\n",
              " 'movi',\n",
              " 'fortun',\n",
              " 'sutherland',\n",
              " 'hippi',\n",
              " 'friend',\n",
              " 'make',\n",
              " 'fun',\n",
              " 'black',\n",
              " 'revolut',\n",
              " 'premis',\n",
              " 'result',\n",
              " 'dialogu',\n",
              " 'bad',\n",
              " 'littl',\n",
              " 'later',\n",
              " 'jewish',\n",
              " 'guy',\n",
              " 'make',\n",
              " 'crack',\n",
              " 'sutherland',\n",
              " 'make',\n",
              " 'movi',\n",
              " 'masturb',\n",
              " 'black',\n",
              " 'problem',\n",
              " 'latter',\n",
              " 'start',\n",
              " 'talk',\n",
              " 'masturb',\n",
              " 'anoth',\n",
              " 'funni',\n",
              " 'moment',\n",
              " 'sutherland',\n",
              " 'older',\n",
              " 'daughter',\n",
              " 'perform',\n",
              " 'pc',\n",
              " 'crap',\n",
              " 'stage',\n",
              " 'white',\n",
              " 'school',\n",
              " 'mate',\n",
              " 'say',\n",
              " 'black',\n",
              " 'peopl',\n",
              " 'republ',\n",
              " 'south',\n",
              " 'africa',\n",
              " 'alway',\n",
              " 'certain',\n",
              " 'amount',\n",
              " 'self',\n",
              " 'indulg',\n",
              " 'hollywood',\n",
              " 'make',\n",
              " 'movi',\n",
              " 'hollywood',\n",
              " 'especi',\n",
              " 'hollywood',\n",
              " 'make',\n",
              " 'movi',\n",
              " 'hollywood',\n",
              " 'discuss',\n",
              " 'hollywood',\n",
              " 'movi',\n",
              " 'self',\n",
              " 'indulg',\n",
              " 'inde',\n",
              " 'scene',\n",
              " 'fellini',\n",
              " 'play',\n",
              " 'amus',\n",
              " 'annoy',\n",
              " 'though',\n",
              " 'mazurski',\n",
              " 'throw',\n",
              " 'standard',\n",
              " 'flower',\n",
              " 'children',\n",
              " 'anti',\n",
              " 'vietnam',\n",
              " 'bullshit',\n",
              " 'soup',\n",
              " 'also',\n",
              " 'poke',\n",
              " 'fun',\n",
              " 'corpor',\n",
              " 'hollywood',\n",
              " 'much',\n",
              " 'part',\n",
              " 'phoni',\n",
              " 'hollywood',\n",
              " 'lyric',\n",
              " 'song',\n",
              " 'surreal',\n",
              " 'war',\n",
              " 'segment',\n",
              " 'anyon',\n",
              " 'els',\n",
              " 'pretti',\n",
              " 'sure',\n",
              " 'make',\n",
              " 'phoni',\n",
              " 'small',\n",
              " 'talk',\n",
              " 'beverli',\n",
              " 'hill',\n",
              " 'parti',\n",
              " 'grin',\n",
              " 'fake',\n",
              " 'shake',\n",
              " 'hand',\n",
              " 'peopl',\n",
              " 'either',\n",
              " 'know',\n",
              " 'like',\n",
              " 'whose',\n",
              " 'money',\n",
              " 'want',\n",
              " 'badli',\n",
              " 'next',\n",
              " 'left',\n",
              " 'wing',\n",
              " 'project',\n",
              " 'hair',\n",
              " 'worst',\n",
              " 'hair',\n",
              " 'seen',\n",
              " 'long',\n",
              " 'time',\n",
              " 'film',\n",
              " 'elsewher',\n",
              " 'sort',\n",
              " 'like',\n",
              " 'kind',\n",
              " 'long',\n",
              " 'hair',\n",
              " 'middl',\n",
              " 'age',\n",
              " 'account',\n",
              " 'would',\n",
              " 'grew',\n",
              " 'long',\n",
              " 'film',\n",
              " 'remain',\n",
              " 'rel',\n",
              " 'interest',\n",
              " 'spite',\n",
              " 'aimless',\n",
              " 'bog',\n",
              " 'somewhat',\n",
              " 'tedium',\n",
              " 'last',\n",
              " 'third',\n",
              " 'like',\n",
              " 'read',\n",
              " 'parodi',\n",
              " 'biographi',\n",
              " 'donald',\n",
              " 'sutherland',\n",
              " 'hollywood',\n",
              " 'actor',\n",
              " 'contact',\n",
              " 'e',\n",
              " 'mail']"
            ]
          },
          "metadata": {
            "tags": []
          },
          "execution_count": 8
        }
      ]
    },
    {
      "cell_type": "markdown",
      "metadata": {
        "id": "vo1MaaEYcrNG",
        "colab_type": "text"
      },
      "source": [
        "**Question:** Above we mentioned that `review_to_words` method removes html formatting and allows us to tokenize the words found in a review, for example, converting *entertained* and *entertaining* into *entertain* so that they are treated as though they are the same word. What else, if anything, does this method do to the input?"
      ]
    },
    {
      "cell_type": "markdown",
      "metadata": {
        "id": "pDH5g77BcrNH",
        "colab_type": "text"
      },
      "source": [
        "**Answer:** The method converts words to lower case, removes stopwords and punctuation as well in order to homogenize the data."
      ]
    },
    {
      "cell_type": "markdown",
      "metadata": {
        "id": "uwy0Sew3crNI",
        "colab_type": "text"
      },
      "source": [
        "The method below applies the `review_to_words` method to each of the reviews in the training and testing datasets. In addition it caches the results. This is because performing this processing step can take a long time. This way if you are unable to complete the notebook in the current session, you can come back without needing to process the data a second time."
      ]
    },
    {
      "cell_type": "code",
      "metadata": {
        "id": "gW5HlQT9crNJ",
        "colab_type": "code",
        "colab": {}
      },
      "source": [
        "import pickle\n",
        "\n",
        "cache_dir = os.path.join(\"./cache\", \"sentiment_analysis\")  # where to store cache files\n",
        "os.makedirs(cache_dir, exist_ok=True)  # ensure cache directory exists\n",
        "\n",
        "def preprocess_data(data_train, data_valid, data_test, labels_train, labels_valid, labels_test,\n",
        "                    cache_dir=cache_dir, cache_file=\"preprocessed_data.pkl\"):\n",
        "    \"\"\"Convert each review to words; read from cache if available.\"\"\"\n",
        "\n",
        "    # If cache_file is not None, try to read from it first\n",
        "    cache_data = None\n",
        "    if cache_file is not None:\n",
        "        try:\n",
        "            with open(os.path.join(cache_dir, cache_file), \"rb\") as f:\n",
        "                cache_data = pickle.load(f)\n",
        "            print(\"Read preprocessed data from cache file:\", cache_file)\n",
        "        except:\n",
        "            pass  # unable to read from cache, but that's okay\n",
        "    \n",
        "    # If cache is missing, then do the heavy lifting\n",
        "    if cache_data is None:\n",
        "        # Preprocess training and test data to obtain words for each review\n",
        "        #words_train = list(map(review_to_words, data_train))\n",
        "        #words_test = list(map(review_to_words, data_test))\n",
        "        words_train = [review_to_words(review) for review in data_train]\n",
        "        words_valid = [review_to_words(review) for review in data_valid]\n",
        "        words_test = [review_to_words(review) for review in data_test]\n",
        "        \n",
        "        # Write to cache file for future runs\n",
        "        if cache_file is not None:\n",
        "            cache_data = dict(words_train=words_train, words_valid=words_valid, words_test=words_test,\n",
        "                              labels_train=labels_train, labels_valid=labels_valid, labels_test=labels_test)\n",
        "            with open(os.path.join(cache_dir, cache_file), \"wb\") as f:\n",
        "                pickle.dump(cache_data, f)\n",
        "            print(\"Wrote preprocessed data to cache file:\", cache_file)\n",
        "    else:\n",
        "        # Unpack data loaded from cache file\n",
        "        words_train, words_valid, words_test, labels_train, labels_valid, labels_test = (\n",
        "            cache_data['words_train'], cache_data['words_valid'], cache_data['words_test'], \n",
        "            cache_data['labels_train'], cache_data['labels_valid'], cache_data['labels_test'])\n",
        "    \n",
        "    return words_train, words_valid, words_test, labels_train, labels_valid, labels_test"
      ],
      "execution_count": 9,
      "outputs": []
    },
    {
      "cell_type": "code",
      "metadata": {
        "id": "NEqYB5SJcrNP",
        "colab_type": "code",
        "colab": {
          "base_uri": "https://localhost:8080/",
          "height": 34
        },
        "outputId": "dc820679-1102-4db0-932d-6942ce2e3c7d"
      },
      "source": [
        "# Preprocess data\n",
        "train_X, valid_X, test_X, train_y, valid_y, test_y = preprocess_data(train_X, valid_X, test_X, train_y, valid_y, test_y)"
      ],
      "execution_count": 10,
      "outputs": [
        {
          "output_type": "stream",
          "text": [
            "Wrote preprocessed data to cache file: preprocessed_data.pkl\n"
          ],
          "name": "stdout"
        }
      ]
    },
    {
      "cell_type": "markdown",
      "metadata": {
        "id": "i7RUBsgQcrNf",
        "colab_type": "text"
      },
      "source": [
        "## Transform the data\n",
        "\n",
        "In the XGBoost notebook we transformed the data from its word representation to a bag-of-words feature representation. For the model we are going to construct in this notebook we will construct a feature representation which is very similar. To start, we will represent each word as an integer. Of course, some of the words that appear in the reviews occur very infrequently and so likely don't contain much information for the purposes of sentiment analysis. The way we will deal with this problem is that we will fix the size of our working vocabulary and we will only include the words that appear most frequently. We will then combine all of the infrequent words into a single category and, in our case, we will label it as `1`.\n",
        "\n",
        "Since we will be using a recurrent neural network, it will be convenient if the length of each review is the same. To do this, we will fix a size for our reviews and then pad short reviews with the category 'no word' (which we will label `0`) and truncate long reviews."
      ]
    },
    {
      "cell_type": "markdown",
      "metadata": {
        "id": "6dZ5JZkacrNn",
        "colab_type": "text"
      },
      "source": [
        "### (TODO) Create a word dictionary\n",
        "\n",
        "To begin with, we need to construct a way to map words that appear in the reviews to integers. Here we fix the size of our vocabulary (including the 'no word' and 'infrequent' categories) to be `5000` but you may wish to change this to see how it affects the model.\n",
        "\n",
        "> **TODO:** Complete the implementation for the `build_dict()` method below. Note that even though the vocab_size is set to `5000`, we only want to construct a mapping for the most frequently appearing `4998` words. This is because we want to reserve the special labels `0` for 'no word' and `1` for 'infrequent word'."
      ]
    },
    {
      "cell_type": "code",
      "metadata": {
        "id": "IqZ4D8iEcrNp",
        "colab_type": "code",
        "colab": {}
      },
      "source": [
        "import numpy as np\n",
        "from collections import Counter\n",
        "\n",
        "def build_dict(data, vocab_size = 5000):\n",
        "    \"\"\"Construct and return a dictionary mapping each of the most frequently appearing words to a unique integer.\"\"\"\n",
        "    \n",
        "    # TODO: Determine how often each word appears in `data`. Note that `data` is a list of sentences and that a\n",
        "    #       sentence is a list of words.\n",
        "    \n",
        "    word_count = {} # A dict storing the words that appear in the reviews along with how often they occur\n",
        "    words = [word for sentence in data for word in sentence]\n",
        "    word_count = Counter(words)\n",
        "    \n",
        "    # TODO: Sort the words found in `data` so that sorted_words[0] is the most frequently appearing word and\n",
        "    #       sorted_words[-1] is the least frequently appearing word.\n",
        "    \n",
        "    sorted_words = sorted(word_count, key=word_count.get, reverse=True)\n",
        "    \n",
        "    word_dict = {} # This is what we are building, a dictionary that translates words into integers\n",
        "    for idx, word in enumerate(sorted_words[:vocab_size - 2]): # The -2 is so that we save room for the 'no word'\n",
        "        word_dict[word] = idx + 2                              # 'infrequent' labels\n",
        "        \n",
        "    return word_dict"
      ],
      "execution_count": 11,
      "outputs": []
    },
    {
      "cell_type": "code",
      "metadata": {
        "id": "z7DZ8QaxcrNv",
        "colab_type": "code",
        "colab": {}
      },
      "source": [
        "word_dict = build_dict(train_X)"
      ],
      "execution_count": 12,
      "outputs": []
    },
    {
      "cell_type": "markdown",
      "metadata": {
        "id": "22_X-x4ccrN2",
        "colab_type": "text"
      },
      "source": [
        "**Question:** What are the five most frequently appearing (tokenized) words in the training set? Does it makes sense that these words appear frequently in the training set?"
      ]
    },
    {
      "cell_type": "markdown",
      "metadata": {
        "id": "_2IHflUCcrN7",
        "colab_type": "text"
      },
      "source": [
        "**Answer:** The five most frequently words are movi, film, one, like and time. These words make sense since they are commonly used in movie review."
      ]
    },
    {
      "cell_type": "code",
      "metadata": {
        "id": "lRjGQWIFcrN8",
        "colab_type": "code",
        "colab": {
          "base_uri": "https://localhost:8080/",
          "height": 34
        },
        "outputId": "667a7688-38c8-4204-cd59-236d0e8db815"
      },
      "source": [
        "# TODO: Use this space to determine the five most frequently appearing words in the training set.\n",
        "list(word_dict)[:5]"
      ],
      "execution_count": 13,
      "outputs": [
        {
          "output_type": "execute_result",
          "data": {
            "text/plain": [
              "['movi', 'film', 'one', 'like', 'time']"
            ]
          },
          "metadata": {
            "tags": []
          },
          "execution_count": 13
        }
      ]
    },
    {
      "cell_type": "markdown",
      "metadata": {
        "id": "7pgKKHxWcrOF",
        "colab_type": "text"
      },
      "source": [
        "### Save `word_dict`\n",
        "\n",
        "Later on when we construct an endpoint which processes a submitted review we will need to make use of the `word_dict` which we have created. As such, we will save it to a file now for future use."
      ]
    },
    {
      "cell_type": "code",
      "metadata": {
        "id": "Cf5cAkH0crOG",
        "colab_type": "code",
        "colab": {}
      },
      "source": [
        "data_dir = './data/pytorch' # The folder we will use for storing data\n",
        "if not os.path.exists(data_dir): # Make sure that the folder exists\n",
        "    os.makedirs(data_dir)"
      ],
      "execution_count": 14,
      "outputs": []
    },
    {
      "cell_type": "code",
      "metadata": {
        "id": "dhXi9F3YcrOL",
        "colab_type": "code",
        "colab": {}
      },
      "source": [
        "with open(os.path.join(data_dir, 'word_dict.pkl'), \"wb\") as f:\n",
        "    pickle.dump(word_dict, f)"
      ],
      "execution_count": 15,
      "outputs": []
    },
    {
      "cell_type": "markdown",
      "metadata": {
        "id": "FLSZdjMbcrOW",
        "colab_type": "text"
      },
      "source": [
        "### Transform the reviews\n",
        "\n",
        "Now that we have our word dictionary which allows us to transform the words appearing in the reviews into integers, it is time to make use of it and convert our reviews to their integer sequence representation, making sure to pad or truncate to a fixed length, which in our case is `500`."
      ]
    },
    {
      "cell_type": "code",
      "metadata": {
        "id": "Ilu6ITiBcrOX",
        "colab_type": "code",
        "colab": {}
      },
      "source": [
        "def convert_and_pad(word_dict, sentence, pad=500):\n",
        "    NOWORD = 0 # We will use 0 to represent the 'no word' category\n",
        "    INFREQ = 1 # and we use 1 to represent the infrequent words, i.e., words not appearing in word_dict\n",
        "    \n",
        "    working_sentence = [NOWORD] * pad\n",
        "    \n",
        "    for word_index, word in enumerate(sentence[:pad]):\n",
        "        if word in word_dict:\n",
        "            working_sentence[word_index] = word_dict[word]\n",
        "        else:\n",
        "            working_sentence[word_index] = INFREQ\n",
        "            \n",
        "    return working_sentence, min(len(sentence), pad)\n",
        "\n",
        "def convert_and_pad_data(word_dict, data, pad=500):\n",
        "    result = []\n",
        "    lengths = []\n",
        "    \n",
        "    for sentence in data:\n",
        "        converted, leng = convert_and_pad(word_dict, sentence, pad)\n",
        "        result.append(converted)\n",
        "        lengths.append(leng)\n",
        "        \n",
        "    return np.array(result), np.array(lengths)"
      ],
      "execution_count": 16,
      "outputs": []
    },
    {
      "cell_type": "code",
      "metadata": {
        "id": "hkUd3MuIcrOf",
        "colab_type": "code",
        "colab": {}
      },
      "source": [
        "train_X, train_X_len = convert_and_pad_data(word_dict, train_X)\n",
        "valid_X, valid_X_len = convert_and_pad_data(word_dict, valid_X)\n",
        "test_X, test_X_len = convert_and_pad_data(word_dict, test_X)"
      ],
      "execution_count": 17,
      "outputs": []
    },
    {
      "cell_type": "markdown",
      "metadata": {
        "id": "LhjvV3JQcrOj",
        "colab_type": "text"
      },
      "source": [
        "As a quick check to make sure that things are working as intended, check to see what one of the reviews in the training set looks like after having been processeed. Does this look reasonable? What is the length of a review in the training set?"
      ]
    },
    {
      "cell_type": "code",
      "metadata": {
        "id": "7VJtoEsvcrOl",
        "colab_type": "code",
        "colab": {
          "base_uri": "https://localhost:8080/",
          "height": 799
        },
        "outputId": "a0b6576d-cd53-4ea8-9508-ac0869783229"
      },
      "source": [
        "# Use this cell to examine one of the processed reviews to make sure everything is working as intended.\n",
        "train_X[100]"
      ],
      "execution_count": 18,
      "outputs": [
        {
          "output_type": "execute_result",
          "data": {
            "text/plain": [
              "array([ 149,    1,    3,   34,  769,   15, 3563,  736, 1939,  611, 2510,\n",
              "         70, 2510,  369,    1, 1104,    1,  704, 1119,   18, 2266, 2158,\n",
              "       2595, 2022, 3202,  574,   20,   52,  617, 2168, 1400,    8,  249,\n",
              "          1, 2595,  114,  924, 1656,  245, 1837,    1,   36, 1689, 3184,\n",
              "       1390,    1, 2595,    1,    1,  118,  132,  791,    2,  180,  323,\n",
              "          3,  180,  298,  247, 1023, 2571,   38,   15, 1772,  249, 1226,\n",
              "        433,  280,    4,    2,  180,  247,    1, 4364, 1298, 1074,  199,\n",
              "        482,  576, 1221,  147, 1371,    1,   30,  251,  125,    2, 1363,\n",
              "       2595, 2510,  132,    8,  176,  247, 2220,  752,  523,  338,   24,\n",
              "         52,  231, 2549,   78,    8, 1848, 2595,    8,    2,    1,  247,\n",
              "        204, 1400,   87,  241,    1,   79,   84,  169, 2595,  854,  423,\n",
              "         60, 4731,  522,  599,  364,  318, 2184,   38,  247,   23,    1,\n",
              "       1120, 2106,  131,  735,  916,  464, 2408,  280,    8,    2,  280,\n",
              "        187,  280,    8,    2,  280, 1299,  280,    2,  464, 2408,  780,\n",
              "         18,    1,   33,  790,  440,   74,    1,  757,  695, 3092,  375,\n",
              "       1104, 2277,    1, 4221,   27, 3471,  176, 2227,  280,   21,   63,\n",
              "       3872,  280, 2557,  282, 1923,  199, 1315,  181,  265,  106,  142,\n",
              "          8, 3872,  340,  241, 4364, 1298,  835, 4444, 1018, 2262,  228,\n",
              "         23,  298,   37,    5,  569,  200,   49,  844,  323,  245, 1837,\n",
              "        783,  924,  174,  924,   47,  114,    6,    3, 2852,  330,    5,\n",
              "        147,  114,  924,  576,  321, 1634,   15, 1861,  114,    3,  666,\n",
              "       1200,   69, 2309,    1,    1,  582,    1,  136,  721,    5,  171,\n",
              "       1547, 3616, 2287, 2595,  280,   43, 2204,  704, 3549,    0,    0,\n",
              "          0,    0,    0,    0,    0,    0,    0,    0,    0,    0,    0,\n",
              "          0,    0,    0,    0,    0,    0,    0,    0,    0,    0,    0,\n",
              "          0,    0,    0,    0,    0,    0,    0,    0,    0,    0,    0,\n",
              "          0,    0,    0,    0,    0,    0,    0,    0,    0,    0,    0,\n",
              "          0,    0,    0,    0,    0,    0,    0,    0,    0,    0,    0,\n",
              "          0,    0,    0,    0,    0,    0,    0,    0,    0,    0,    0,\n",
              "          0,    0,    0,    0,    0,    0,    0,    0,    0,    0,    0,\n",
              "          0,    0,    0,    0,    0,    0,    0,    0,    0,    0,    0,\n",
              "          0,    0,    0,    0,    0,    0,    0,    0,    0,    0,    0,\n",
              "          0,    0,    0,    0,    0,    0,    0,    0,    0,    0,    0,\n",
              "          0,    0,    0,    0,    0,    0,    0,    0,    0,    0,    0,\n",
              "          0,    0,    0,    0,    0,    0,    0,    0,    0,    0,    0,\n",
              "          0,    0,    0,    0,    0,    0,    0,    0,    0,    0,    0,\n",
              "          0,    0,    0,    0,    0,    0,    0,    0,    0,    0,    0,\n",
              "          0,    0,    0,    0,    0,    0,    0,    0,    0,    0,    0,\n",
              "          0,    0,    0,    0,    0,    0,    0,    0,    0,    0,    0,\n",
              "          0,    0,    0,    0,    0,    0,    0,    0,    0,    0,    0,\n",
              "          0,    0,    0,    0,    0,    0,    0,    0,    0,    0,    0,\n",
              "          0,    0,    0,    0,    0,    0,    0,    0,    0,    0,    0,\n",
              "          0,    0,    0,    0,    0,    0,    0,    0,    0,    0,    0,\n",
              "          0,    0,    0,    0,    0,    0,    0,    0,    0,    0,    0,\n",
              "          0,    0,    0,    0,    0,    0,    0,    0,    0,    0,    0,\n",
              "          0,    0,    0,    0,    0])"
            ]
          },
          "metadata": {
            "tags": []
          },
          "execution_count": 18
        }
      ]
    },
    {
      "cell_type": "markdown",
      "metadata": {
        "id": "D-iSL0tKcrOu",
        "colab_type": "text"
      },
      "source": [
        "**Question:** In the cells above we use the `preprocess_data` and `convert_and_pad_data` methods to process both the training and testing set. Why or why not might this be a problem?"
      ]
    },
    {
      "cell_type": "markdown",
      "metadata": {
        "id": "kt9bXq4jcrOv",
        "colab_type": "text"
      },
      "source": [
        "**Answer:** In the preprocess_data we might lose information from punctuation. The convert_and_pad_data will ignore words in big reviews, meaning that part of the information might be lost. The good is that we are applying the same transformations to both training and test set. The issue is that with new unseen samples we might have new words which might not appear in the vocab. Despite having different different word lenghts for each review, the training data all have the same length. This might be memory intensive."
      ]
    },
    {
      "cell_type": "markdown",
      "metadata": {
        "id": "zSLUPt-ocrOw",
        "colab_type": "text"
      },
      "source": [
        "## Step 3: Upload the data to S3\n",
        "\n",
        "As in the XGBoost notebook, we will need to upload the training dataset to S3 in order for our training code to access it. For now we will save it locally and we will upload to S3 later on.\n",
        "\n",
        "### Save the processed training dataset locally\n",
        "\n",
        "It is important to note the format of the data that we are saving as we will need to know it when we write the training code. In our case, each row of the dataset has the form `label`, `length`, `review[500]` where `review[500]` is a sequence of `500` integers representing the words in the review."
      ]
    },
    {
      "cell_type": "code",
      "metadata": {
        "id": "UuBB0yG5crOx",
        "colab_type": "code",
        "colab": {}
      },
      "source": [
        "import pandas as pd\n",
        "    \n",
        "pd.concat([pd.DataFrame(train_y), pd.DataFrame(train_X_len), pd.DataFrame(train_X)], axis=1) \\\n",
        "        .to_csv(os.path.join(data_dir, 'train.csv'), header=False, index=False)\n",
        "\n",
        "pd.concat([pd.DataFrame(valid_y), pd.DataFrame(valid_X_len), pd.DataFrame(valid_X)], axis=1) \\\n",
        "        .to_csv(os.path.join(data_dir, 'valid.csv'), header=False, index=False)"
      ],
      "execution_count": 19,
      "outputs": []
    },
    {
      "cell_type": "markdown",
      "metadata": {
        "id": "lFWvy8ZBcrO7",
        "colab_type": "text"
      },
      "source": [
        "### Uploading the training data\n",
        "\n",
        "\n",
        "Next, we need to upload the training data to the SageMaker default S3 bucket so that we can provide access to it while training our model."
      ]
    },
    {
      "cell_type": "code",
      "metadata": {
        "id": "TEK-q-HTcrO8",
        "colab_type": "code",
        "colab": {}
      },
      "source": [
        "# import sagemaker\n",
        "\n",
        "# sagemaker_session = sagemaker.Session()\n",
        "\n",
        "# bucket = sagemaker_session.default_bucket()\n",
        "# prefix = 'sagemaker/sentiment_rnn'\n",
        "\n",
        "# role = sagemaker.get_execution_role()"
      ],
      "execution_count": 20,
      "outputs": []
    },
    {
      "cell_type": "code",
      "metadata": {
        "id": "X1lNINadcrPB",
        "colab_type": "code",
        "colab": {}
      },
      "source": [
        "# input_data = sagemaker_session.upload_data(path=data_dir, bucket=bucket, key_prefix=prefix)"
      ],
      "execution_count": 21,
      "outputs": []
    },
    {
      "cell_type": "markdown",
      "metadata": {
        "id": "9jBPEVBpcrPO",
        "colab_type": "text"
      },
      "source": [
        "**NOTE:** The cell above uploads the entire contents of our data directory. This includes the `word_dict.pkl` file. This is fortunate as we will need this later on when we create an endpoint that accepts an arbitrary review. For now, we will just take note of the fact that it resides in the data directory (and so also in the S3 training bucket) and that we will need to make sure it gets saved in the model directory."
      ]
    },
    {
      "cell_type": "markdown",
      "metadata": {
        "id": "AecA25N7crPP",
        "colab_type": "text"
      },
      "source": [
        "## Step 4: Build and Train the PyTorch Model\n",
        "\n",
        "In the XGBoost notebook we discussed what a model is in the SageMaker framework. In particular, a model comprises three objects\n",
        "\n",
        " - Model Artifacts,\n",
        " - Training Code, and\n",
        " - Inference Code,\n",
        " \n",
        "each of which interact with one another. In the XGBoost example we used training and inference code that was provided by Amazon. Here we will still be using containers provided by Amazon with the added benefit of being able to include our own custom code.\n",
        "\n",
        "We will start by implementing our own neural network in PyTorch along with a training script. For the purposes of this project we have provided the necessary model object in the `model.py` file, inside of the `train` folder. You can see the provided implementation by running the cell below."
      ]
    },
    {
      "cell_type": "code",
      "metadata": {
        "id": "T5IQx4FTaGS9",
        "colab_type": "code",
        "colab": {}
      },
      "source": [
        "if not os.path.exists('./train'): # Make sure that the folder exits\n",
        "  os.makedirs('./train')"
      ],
      "execution_count": 22,
      "outputs": []
    },
    {
      "cell_type": "code",
      "metadata": {
        "id": "uIif7w0tZisU",
        "colab_type": "code",
        "colab": {
          "base_uri": "https://localhost:8080/",
          "height": 34
        },
        "outputId": "095d2951-1f1a-475b-8214-24ed6c655029"
      },
      "source": [
        "%%file ./train/model.py\n",
        "\n",
        "import torch.nn as nn\n",
        "\n",
        "class LSTMClassifier(nn.Module):\n",
        "  \"\"\"\n",
        "  This is the simple RNN model we will be using to perform Sentiment Analysis.\n",
        "  \"\"\"\n",
        "\n",
        "  def __init__(self, embedding_dim, hidden_dim, vocab_size):\n",
        "    \"\"\"\n",
        "    Initialize the model by setting up the various layers.\n",
        "    \"\"\"\n",
        "    super(LSTMClassifier, self).__init__()\n",
        "\n",
        "    self.hidden_dim = hidden_dim\n",
        "\n",
        "    # Embedding and LSTM layers\n",
        "    self.embedding = nn.Embedding(vocab_size, embedding_dim, padding_idx=0)\n",
        "    self.lstm = nn.LSTM(embedding_dim, hidden_dim, num_layers=2, dropout=0.5)\n",
        "\n",
        "    # Dropout layer\n",
        "    self.dropout = nn.Dropout(0.3)\n",
        "\n",
        "    # Linear and Sigmoid layer\n",
        "    self.dense = nn.Linear(in_features=hidden_dim, out_features=1)\n",
        "    self.sig = nn.Sigmoid()\n",
        "    self.word_dict = None\n",
        "\n",
        "  def forward(self, x, hidden):\n",
        "    \"\"\"\n",
        "    Perform a forward pass of our model on some input.\n",
        "    \"\"\"\n",
        "    x = x.t()\n",
        "    lengths = x[0,:]\n",
        "    reviews = x[1:,:]\n",
        "\n",
        "    # Embeddings and LSTM out\n",
        "    embeds = self.embedding(reviews)\n",
        "    lstm_out, hidden = self.lstm(embeds)\n",
        "\n",
        "    # Dropout and fully-connected layer\n",
        "    out = self.dropout(lstm_out)\n",
        "    out = self.dense(out)\n",
        "    out = out[lengths - 1, range(len(lengths))]\n",
        "    # Return last sigmoid output and hidden state\n",
        "    return self.sig(out.squeeze()), hidden\n",
        "\n",
        "  def init_hidden(self, batch_size, device):\n",
        "    \"\"\"\n",
        "    Initialize hidden state\n",
        "    \"\"\"\n",
        "    # Create two new tensors with size n_layers x batch_size x hidden_dim,\n",
        "    # initialized to zero for hidden state and cell state of LSTM\n",
        "    weight = next(self.parameters()).data\n",
        "\n",
        "    hidden = (weight.new(2, batch_size, self.hidden_dim).zero_().to(device),\n",
        "        weight.new(2, batch_size, self.hidden_dim).zero_().to(device))\n",
        "    \n",
        "    return hidden"
      ],
      "execution_count": 23,
      "outputs": [
        {
          "output_type": "stream",
          "text": [
            "Writing ./train/model.py\n"
          ],
          "name": "stdout"
        }
      ]
    },
    {
      "cell_type": "code",
      "metadata": {
        "id": "Q2zOEOgxcrPR",
        "colab_type": "code",
        "colab": {
          "base_uri": "https://localhost:8080/",
          "height": 1000
        },
        "outputId": "99bb4f55-db77-4e92-ef20-f8a3293c8282"
      },
      "source": [
        "!pygmentize ./train/model.py"
      ],
      "execution_count": 24,
      "outputs": [
        {
          "output_type": "stream",
          "text": [
            "\u001b[34mimport\u001b[39;49;00m \u001b[04m\u001b[36mtorch.nn\u001b[39;49;00m \u001b[34mas\u001b[39;49;00m \u001b[04m\u001b[36mnn\u001b[39;49;00m\n",
            "\n",
            "\u001b[34mclass\u001b[39;49;00m \u001b[04m\u001b[32mLSTMClassifier\u001b[39;49;00m(nn.Module):\n",
            "  \u001b[33m\"\"\"\u001b[39;49;00m\n",
            "\u001b[33m  This is the simple RNN model we will be using to perform Sentiment Analysis.\u001b[39;49;00m\n",
            "\u001b[33m  \"\"\"\u001b[39;49;00m\n",
            "\n",
            "  \u001b[34mdef\u001b[39;49;00m \u001b[32m__init__\u001b[39;49;00m(\u001b[36mself\u001b[39;49;00m, embedding_dim, hidden_dim, vocab_size):\n",
            "    \u001b[33m\"\"\"\u001b[39;49;00m\n",
            "\u001b[33m    Initialize the model by setting up the various layers.\u001b[39;49;00m\n",
            "\u001b[33m    \"\"\"\u001b[39;49;00m\n",
            "    \u001b[36msuper\u001b[39;49;00m(LSTMClassifier, \u001b[36mself\u001b[39;49;00m).__init__()\n",
            "\n",
            "    \u001b[36mself\u001b[39;49;00m.hidden_dim = hidden_dim\n",
            "\n",
            "    \u001b[37m# Embedding and LSTM layers\u001b[39;49;00m\n",
            "    \u001b[36mself\u001b[39;49;00m.embedding = nn.Embedding(vocab_size, embedding_dim, padding_idx=\u001b[34m0\u001b[39;49;00m)\n",
            "    \u001b[36mself\u001b[39;49;00m.lstm = nn.LSTM(embedding_dim, hidden_dim, num_layers=\u001b[34m2\u001b[39;49;00m, dropout=\u001b[34m0.5\u001b[39;49;00m)\n",
            "\n",
            "    \u001b[37m# Dropout layer\u001b[39;49;00m\n",
            "    \u001b[36mself\u001b[39;49;00m.dropout = nn.Dropout(\u001b[34m0.3\u001b[39;49;00m)\n",
            "\n",
            "    \u001b[37m# Linear and Sigmoid layer\u001b[39;49;00m\n",
            "    \u001b[36mself\u001b[39;49;00m.dense = nn.Linear(in_features=hidden_dim, out_features=\u001b[34m1\u001b[39;49;00m)\n",
            "    \u001b[36mself\u001b[39;49;00m.sig = nn.Sigmoid()\n",
            "    \u001b[36mself\u001b[39;49;00m.word_dict = \u001b[36mNone\u001b[39;49;00m\n",
            "\n",
            "  \u001b[34mdef\u001b[39;49;00m \u001b[32mforward\u001b[39;49;00m(\u001b[36mself\u001b[39;49;00m, x, hidden):\n",
            "    \u001b[33m\"\"\"\u001b[39;49;00m\n",
            "\u001b[33m    Perform a forward pass of our model on some input.\u001b[39;49;00m\n",
            "\u001b[33m    \"\"\"\u001b[39;49;00m\n",
            "    x = x.t()\n",
            "    lengths = x[\u001b[34m0\u001b[39;49;00m,:]\n",
            "    reviews = x[\u001b[34m1\u001b[39;49;00m:,:]\n",
            "\n",
            "    \u001b[37m# Embeddings and LSTM out\u001b[39;49;00m\n",
            "    embeds = \u001b[36mself\u001b[39;49;00m.embedding(reviews)\n",
            "    lstm_out, hidden = \u001b[36mself\u001b[39;49;00m.lstm(embeds)\n",
            "\n",
            "    \u001b[37m# Dropout and fully-connected layer\u001b[39;49;00m\n",
            "    out = \u001b[36mself\u001b[39;49;00m.dropout(lstm_out)\n",
            "    out = \u001b[36mself\u001b[39;49;00m.dense(out)\n",
            "    out = out[lengths - \u001b[34m1\u001b[39;49;00m, \u001b[36mrange\u001b[39;49;00m(\u001b[36mlen\u001b[39;49;00m(lengths))]\n",
            "    \u001b[37m# Return last sigmoid output and hidden state\u001b[39;49;00m\n",
            "    \u001b[34mreturn\u001b[39;49;00m \u001b[36mself\u001b[39;49;00m.sig(out.squeeze()), hidden\n",
            "\n",
            "  \u001b[34mdef\u001b[39;49;00m \u001b[32minit_hidden\u001b[39;49;00m(\u001b[36mself\u001b[39;49;00m, batch_size, device):\n",
            "    \u001b[33m\"\"\"\u001b[39;49;00m\n",
            "\u001b[33m    Initialize hidden state\u001b[39;49;00m\n",
            "\u001b[33m    \"\"\"\u001b[39;49;00m\n",
            "    \u001b[37m# Create two new tensors with size n_layers x batch_size x hidden_dim,\u001b[39;49;00m\n",
            "    \u001b[37m# initialized to zero for hidden state and cell state of LSTM\u001b[39;49;00m\n",
            "    weight = \u001b[36mnext\u001b[39;49;00m(\u001b[36mself\u001b[39;49;00m.parameters()).data\n",
            "\n",
            "    hidden = (weight.new(\u001b[34m2\u001b[39;49;00m, batch_size, \u001b[36mself\u001b[39;49;00m.hidden_dim).zero_().to(device),\n",
            "        weight.new(\u001b[34m2\u001b[39;49;00m, batch_size, \u001b[36mself\u001b[39;49;00m.hidden_dim).zero_().to(device))\n",
            "    \n",
            "    \u001b[34mreturn\u001b[39;49;00m hidden\n"
          ],
          "name": "stdout"
        }
      ]
    },
    {
      "cell_type": "markdown",
      "metadata": {
        "id": "O7oZBhwlcrPa",
        "colab_type": "text"
      },
      "source": [
        "The important takeaway from the implementation provided is that there are three parameters that we may wish to tweak to improve the performance of our model. These are the embedding dimension, the hidden dimension and the size of the vocabulary. We will likely want to make these parameters configurable in the training script so that if we wish to modify them we do not need to modify the script itself. We will see how to do this later on. To start we will write some of the training code in the notebook so that we can more easily diagnose any issues that arise.\n",
        "\n",
        "First we will load a small portion of the training data set to use as a sample. It would be very time consuming to try and train the model completely in the notebook as we do not have access to a gpu and the compute instance that we are using is not particularly powerful. However, we can work on a small bit of the data to get a feel for how our training script is behaving."
      ]
    },
    {
      "cell_type": "code",
      "metadata": {
        "id": "h9W573PVcrPb",
        "colab_type": "code",
        "colab": {}
      },
      "source": [
        "import torch\n",
        "import torch.utils.data\n",
        "\n",
        "# Read in only the first 250 rows\n",
        "train_sample = pd.read_csv(os.path.join(data_dir, 'train.csv'), header=None, names=None, nrows=250)\n",
        "\n",
        "valid_sample = pd.read_csv(os.path.join(data_dir, 'valid.csv'), header=None, names=None, nrows=250)\n",
        "\n",
        "# Turn the input pandas dataframe into tensors\n",
        "train_sample_y = torch.from_numpy(train_sample[[0]].values).float().squeeze()\n",
        "train_sample_X = torch.from_numpy(train_sample.drop([0], axis=1).values).long()\n",
        "\n",
        "valid_sample_y = torch.from_numpy(valid_sample[[0]].values).float().squeeze()\n",
        "valid_sample_X = torch.from_numpy(valid_sample.drop([0], axis=1).values).long()\n",
        "\n",
        "# Build the dataset\n",
        "train_sample_ds = torch.utils.data.TensorDataset(train_sample_X, train_sample_y)\n",
        "\n",
        "valid_sample_ds = torch.utils.data.TensorDataset(valid_sample_X, valid_sample_y)\n",
        "\n",
        "# Build the dataloader\n",
        "batch_size = 50\n",
        "train_sample_dl = torch.utils.data.DataLoader(train_sample_ds, batch_size=batch_size, shuffle=True)\n",
        "\n",
        "valid_sample_dl = torch.utils.data.DataLoader(valid_sample_ds, batch_size=batch_size, shuffle=True)"
      ],
      "execution_count": 25,
      "outputs": []
    },
    {
      "cell_type": "markdown",
      "metadata": {
        "id": "JnIwGDQgcrPg",
        "colab_type": "text"
      },
      "source": [
        "### (TODO) Writing the training method\n",
        "\n",
        "Next we need to write the training code itself. This should be very similar to training methods that you have written before to train PyTorch models. We will leave any difficult aspects such as model saving / loading and parameter loading until a little later."
      ]
    },
    {
      "cell_type": "code",
      "metadata": {
        "id": "dNza-HjRcrPg",
        "colab_type": "code",
        "colab": {}
      },
      "source": [
        "import torch.nn as nn\n",
        "\n",
        "def train(model, train_loader, valid_loader, epochs, optimizer, loss_fn, device):\n",
        "    # initialize tracker for minimum validation loss\n",
        "    valid_loss_min = np.Inf\n",
        "    # track change in losses & accuracy\n",
        "    train_losses, valid_losses, accuracy = [], [], []\n",
        "    for epoch in range(1, epochs + 1):\n",
        "        # initialize variables to monitor training and validation loss\n",
        "        train_loss = 0.0\n",
        "        valid_loss = 0.0\n",
        "        num_correct = 0.0\n",
        "\n",
        "        # initialize hidden state\n",
        "        train_h = model.init_hidden(batch_size, device)\n",
        "        valid_h = model.init_hidden(batch_size, device)\n",
        "        \n",
        "        # train the model\n",
        "        model.train()\n",
        "        for batch in train_loader:         \n",
        "            batch_X, batch_y = batch\n",
        "            \n",
        "            batch_X = batch_X.to(device)\n",
        "            batch_y = batch_y.to(device)\n",
        "            \n",
        "            # TODO: Complete this train method to train the model provided.\n",
        "\n",
        "            # Creating new variables for the hidden state, otherwise\n",
        "            # we'd backprop through the entire history\n",
        "            train_h = tuple([each.data for each in train_h])\n",
        "\n",
        "            # zero accumulated gradients\n",
        "            model.zero_grad()\n",
        "\n",
        "            # get the output from the model\n",
        "            output, train_h = model(batch_X, train_h)\n",
        "\n",
        "            # Calculate the loss and perform backprop\n",
        "            loss = loss_fn(output.squeeze(), batch_y)\n",
        "            loss.backward()\n",
        "            # `clip_grad_norm` helps prevent the exploding gradient problem in LSTMs.\n",
        "            nn.utils.clip_grad_norm_(model.parameters(), 5)\n",
        "            optimizer.step()\n",
        "            # update training loss\n",
        "            train_loss += loss.data.item()\n",
        "\n",
        "        # validate the model\n",
        "        model.eval()\n",
        "        with torch.no_grad():\n",
        "          for batch in valid_loader:         \n",
        "            batch_X, batch_y = batch\n",
        "            \n",
        "            batch_X = batch_X.to(device)\n",
        "            batch_y = batch_y.to(device)\n",
        "\n",
        "            valid_h = tuple([each.data for each in valid_h])\n",
        "            output, valid_h = model(batch_X, valid_h)\n",
        "\n",
        "            loss = loss_fn(output.squeeze(), batch_y)\n",
        "            valid_loss += loss.data.item()\n",
        "\n",
        "            # convert output probabilities to predicted class (0 or 1)\n",
        "            pred = torch.round(output.squeeze())\n",
        "\n",
        "            # compare predictions to true label\n",
        "            correct_tensor = pred.eq(batch_y.float().view_as(pred))\n",
        "            correct = np.squeeze(correct_tensor.cpu().numpy())\n",
        "            num_correct += np.sum(correct)\n",
        "\n",
        "        train_loss = train_loss / len(train_loader)\n",
        "        valid_loss = valid_loss / len(valid_loader)\n",
        "        num_correct = num_correct / len(valid_loader)\n",
        "        print(\"Epoch: {}, Training Loss: {:.6f}, Validation Loss: {:.6f}, Accuracy: {:.6f}\".format(\n",
        "            epoch, train_loss, valid_loss, num_correct))\n",
        "        # Append loss & accuracy per epoch for plotting\n",
        "        train_losses.append(train_loss)\n",
        "        valid_losses.append(valid_loss)\n",
        "        accuracy.append(num_correct)\n",
        "\n",
        "        # Save the model if validation loss has decreased\n",
        "        if valid_loss <= valid_loss_min:\n",
        "            print(\"Validation loss decreased ({:.6f} --> {:.6f}). Saving model ...\".format(\n",
        "                valid_loss_min, valid_loss))\n",
        "            torch.save(model.state_dict(), 'model.pt')\n",
        "            valid_loss_min = valid_loss\n",
        "\n",
        "    return model, train_losses, valid_losses, accuracy"
      ],
      "execution_count": 32,
      "outputs": []
    },
    {
      "cell_type": "markdown",
      "metadata": {
        "id": "mKHnph-PcrPm",
        "colab_type": "text"
      },
      "source": [
        "Supposing we have the training method above, we will test that it is working by writing a bit of code in the notebook that executes our training method on the small sample training set that we loaded earlier. The reason for doing this in the notebook is so that we have an opportunity to fix any errors that arise early when they are easier to diagnose."
      ]
    },
    {
      "cell_type": "code",
      "metadata": {
        "id": "iNXzmfjwcrPs",
        "colab_type": "code",
        "colab": {
          "base_uri": "https://localhost:8080/",
          "height": 204
        },
        "outputId": "0599f99d-b63e-4a30-cf4b-632fe55f8c5b"
      },
      "source": [
        "import torch.optim as optim\n",
        "from train.model import LSTMClassifier\n",
        "\n",
        "device = torch.device(\"cuda\" if torch.cuda.is_available() else \"cpu\")\n",
        "model = LSTMClassifier(32, 100, 5000).to(device)\n",
        "optimizer = optim.Adam(model.parameters())\n",
        "loss_fn = torch.nn.BCELoss()\n",
        "\n",
        "# Train the model\n",
        "model, train_losses, valid_losses, accuracy = train(model, \n",
        "  train_sample_dl, valid_sample_dl, 5, optimizer, loss_fn, device)\n",
        "\n",
        "# Load the model that got the best validation loss\n",
        "model.load_state_dict(torch.load('model.pt'))"
      ],
      "execution_count": 33,
      "outputs": [
        {
          "output_type": "stream",
          "text": [
            "Epoch: 1, Training Loss: 0.691829, Validation Loss: 0.692736, Accuracy: 25.600000\n",
            "Validation loss decreased (inf --> 0.692736). Saving model ...\n",
            "Epoch: 2, Training Loss: 0.688078, Validation Loss: 0.692360, Accuracy: 25.400000\n",
            "Validation loss decreased (0.692736 --> 0.692360). Saving model ...\n",
            "Epoch: 3, Training Loss: 0.683912, Validation Loss: 0.691695, Accuracy: 25.600000\n",
            "Validation loss decreased (0.692360 --> 0.691695). Saving model ...\n",
            "Epoch: 4, Training Loss: 0.675608, Validation Loss: 0.690820, Accuracy: 26.000000\n",
            "Validation loss decreased (0.691695 --> 0.690820). Saving model ...\n",
            "Epoch: 5, Training Loss: 0.664979, Validation Loss: 0.689623, Accuracy: 28.000000\n",
            "Validation loss decreased (0.690820 --> 0.689623). Saving model ...\n"
          ],
          "name": "stdout"
        },
        {
          "output_type": "execute_result",
          "data": {
            "text/plain": [
              "<All keys matched successfully>"
            ]
          },
          "metadata": {
            "tags": []
          },
          "execution_count": 33
        }
      ]
    },
    {
      "cell_type": "code",
      "metadata": {
        "id": "QkwfM-0hpwKS",
        "colab_type": "code",
        "colab": {
          "base_uri": "https://localhost:8080/",
          "height": 295
        },
        "outputId": "fe1553fe-ed79-45c5-86bf-618acb4d6964"
      },
      "source": [
        "%matplotlib inline\n",
        "import matplotlib.pyplot as plt\n",
        "\n",
        "# Visualize the train/val loss per epoch\n",
        "plt.title(\"Loss vs Epoch\")\n",
        "plt.plot(train_losses, label='Training loss')\n",
        "plt.plot(valid_losses, label='Validation loss')\n",
        "plt.legend(frameon=False)\n",
        "plt.xlabel(\"Epoch\")\n",
        "plt.ylabel(\"Loss\")\n",
        "plt.show()"
      ],
      "execution_count": 34,
      "outputs": [
        {
          "output_type": "display_data",
          "data": {
            "image/png": "[encoded data removed]",
            "text/plain": [
              "<Figure size 432x288 with 1 Axes>"
            ]
          },
          "metadata": {
            "tags": [],
            "needs_background": "light"
          }
        }
      ]
    },
    {
      "cell_type": "code",
      "metadata": {
        "id": "k5baVmpSAhXs",
        "colab_type": "code",
        "colab": {
          "base_uri": "https://localhost:8080/",
          "height": 295
        },
        "outputId": "c27a1227-14cd-495f-d1a7-2e73996570e3"
      },
      "source": [
        "# Visualize the accuracy per epoch\n",
        "plt.title(\"Accuracy vs Epoch\")\n",
        "plt.plot(accuracy, label='Accuracy')\n",
        "plt.legend(frameon=False)\n",
        "plt.xlabel(\"Epoch\")\n",
        "plt.ylabel(\"Accuracy\")\n",
        "plt.show()"
      ],
      "execution_count": 35,
      "outputs": [
        {
          "output_type": "display_data",
          "data": {
            "image/png": "[encoded data removed]",
            "text/plain": [
              "<Figure size 432x288 with 1 Axes>"
            ]
          },
          "metadata": {
            "tags": [],
            "needs_background": "light"
          }
        }
      ]
    },
    {
      "cell_type": "markdown",
      "metadata": {
        "id": "e5rAeoCFcrPw",
        "colab_type": "text"
      },
      "source": [
        "In order to construct a PyTorch model using SageMaker we must provide SageMaker with a training script. We may optionally include a directory which will be copied to the container and from which our training code will be run. When the training container is executed it will check the uploaded directory (if there is one) for a `requirements.txt` file and install any required Python libraries, after which the training script will be run."
      ]
    },
    {
      "cell_type": "markdown",
      "metadata": {
        "id": "AIQwLOCscrPx",
        "colab_type": "text"
      },
      "source": [
        "### (TODO) Training the model\n",
        "\n",
        "When a PyTorch model is constructed in SageMaker, an entry point must be specified. This is the Python file which will be executed when the model is trained. Inside of the `train` directory is a file called `train.py` which has been provided and which contains most of the necessary code to train our model. The only thing that is missing is the implementation of the `train()` method which you wrote earlier in this notebook.\n",
        "\n",
        "**TODO**: Copy the `train()` method written above and paste it into the `train/train.py` file where required.\n",
        "\n",
        "The way that SageMaker passes hyperparameters to the training script is by way of arguments. These arguments can then be parsed and used in the training script. To see how this is done take a look at the provided `train/train.py` file."
      ]
    },
    {
      "cell_type": "code",
      "metadata": {
        "id": "MvhogIZsK6Mq",
        "colab_type": "code",
        "colab": {
          "base_uri": "https://localhost:8080/",
          "height": 34
        },
        "outputId": "a96e239f-68bb-4cbe-fe3d-838b5be1f227"
      },
      "source": [
        "%%file ./train/train.py\n",
        "\n",
        "import argparse\n",
        "import json\n",
        "import os\n",
        "import pickle\n",
        "import sys\n",
        "import sagemaker_containers\n",
        "import pandas as pd\n",
        "import torch\n",
        "import torch.optim as optim\n",
        "import torch.utils.data\n",
        "\n",
        "from model import LSTMClassifier\n",
        "\n",
        "def model_fn(model_dir):\n",
        "    \"\"\"Load the PyTorch model from the `model_dir` directory.\"\"\"\n",
        "    print(\"Loading model.\")\n",
        "\n",
        "    # First, load the parameters used to create the model.\n",
        "    model_info = {}\n",
        "    model_info_path = os.path.join(model_dir, 'model_info.pth')\n",
        "    with open(model_info_path, 'rb') as f:\n",
        "        model_info = torch.load(f)\n",
        "\n",
        "    print(\"model_info: {}\".format(model_info))\n",
        "\n",
        "    # Determine the device and construct the model.\n",
        "    device = torch.device(\"cuda\" if torch.cuda.is_available() else \"cpu\")\n",
        "    model = LSTMClassifier(model_info['embedding_dim'], model_info['hidden_dim'], model_info['vocab_size'])\n",
        "\n",
        "    # Load the stored model parameters.\n",
        "    model_path = os.path.join(model_dir, 'model.pth')\n",
        "    with open(model_path, 'rb') as f:\n",
        "        model.load_state_dict(torch.load(f))\n",
        "\n",
        "    # Load the saved word_dict.\n",
        "    word_dict_path = os.path.join(model_dir, 'word_dict.pkl')\n",
        "    with open(word_dict_path, 'rb') as f:\n",
        "        model.word_dict = pickle.load(f)\n",
        "\n",
        "    model.to(device).eval()\n",
        "\n",
        "    print(\"Done loading model.\")\n",
        "    return model\n",
        "\n",
        "def _get_train_valid_data_loader(batch_size, training_dir, validation_dir):\n",
        "    print(\"Get train & valid data loader.\")\n",
        "\n",
        "    train_data = pd.read_csv(os.path.join(training_dir, \"train.csv\"), header=None, names=None)\n",
        "    valid_data = pd.read_csv(os.path.join(validation_dir, \"valid.csv\"), header=None, names=None)\n",
        "\n",
        "    train_y = torch.from_numpy(train_data[[0]].values).float().squeeze()\n",
        "    train_X = torch.from_numpy(train_data.drop([0], axis=1).values).long()\n",
        "\n",
        "    valid_y = torch.from_numpy(valid_data[[0]].values).float().squeeze()\n",
        "    valid_X = torch.from_numpy(valid_data.drop([0], axis=1).values).long()\n",
        "\n",
        "    train_ds = torch.utils.data.TensorDataset(train_X, train_y)\n",
        "    valid_ds = torch.utils.data.TensorDataset(valid_X, valid_y)\n",
        "\n",
        "    train_dl = torch.utils.data.DataLoader(train_ds, batch_size=batch_size, shuffle=True)\n",
        "    valid_dl = torch.utils.data.DataLoader(valid_ds, batch_size=batch_size, shuffle=True)\n",
        "\n",
        "    return train_dl, valid_dl\n",
        "\n",
        "\n",
        "def train(model, train_loader, valid_loader, epochs, optimizer, loss_fn, device):\n",
        "    \"\"\"\n",
        "    This is the training method that is called by the PyTorch training script. The parameters\n",
        "    passed are as follows:\n",
        "    model        - The PyTorch model that we wish to train.\n",
        "    train_loader - The PyTorch DataLoader that should be used during training.\n",
        "    valid_loader - The PyTorch DataLoader that should be used during validation.\n",
        "    epochs       - The total number of epochs to train for.\n",
        "    optimizer    - The optimizer to use during training.\n",
        "    loss_fn      - The loss function used for training.\n",
        "    device       - Where the model and data should be loaded (gpu or cpu).\n",
        "    \"\"\"\n",
        "    \n",
        "    # TODO: Paste the train() method developed in the notebook here.\n",
        "    for epoch in range(1, epochs + 1):\n",
        "        model.train()\n",
        "        total_loss = 0\n",
        "        for batch in train_loader:         \n",
        "            batch_X, batch_y = batch\n",
        "            \n",
        "            batch_X = batch_X.to(device)\n",
        "            batch_y = batch_y.to(device)\n",
        "            \n",
        "            # TODO: Complete this train method to train the model provided.\n",
        "            # zero accumulated gradients\n",
        "            model.zero_grad()\n",
        "\n",
        "            # get the output from the model\n",
        "            output = model(batch_X)\n",
        "\n",
        "            # Calculate the loss and perform backprop\n",
        "            loss = loss_fn(output.squeeze(), batch_y)\n",
        "            loss.backward()\n",
        "            optimizer.step()\n",
        "            \n",
        "            total_loss += loss.data.item()\n",
        "        print(\"Epoch: {}, BCELoss: {}\".format(epoch, total_loss / len(train_loader)))\n",
        "\n",
        "\n",
        "if __name__ == '__main__':\n",
        "    # All of the model parameters and training parameters are sent as arguments when the script\n",
        "    # is executed. Here we set up an argument parser to easily access the parameters.\n",
        "\n",
        "    parser = argparse.ArgumentParser()\n",
        "\n",
        "    # Training Parameters\n",
        "    parser.add_argument('--batch-size', type=int, default=512, metavar='N',\n",
        "                        help='input batch size for training (default: 512)')\n",
        "    parser.add_argument('--epochs', type=int, default=10, metavar='N',\n",
        "                        help='number of epochs to train (default: 10)')\n",
        "    parser.add_argument('--seed', type=int, default=1, metavar='S',\n",
        "                        help='random seed (default: 1)')\n",
        "\n",
        "    # Model Parameters\n",
        "    parser.add_argument('--embedding_dim', type=int, default=32, metavar='N',\n",
        "                        help='size of the word embeddings (default: 32)')\n",
        "    parser.add_argument('--hidden_dim', type=int, default=100, metavar='N',\n",
        "                        help='size of the hidden dimension (default: 100)')\n",
        "    parser.add_argument('--vocab_size', type=int, default=5000, metavar='N',\n",
        "                        help='size of the vocabulary (default: 5000)')\n",
        "\n",
        "    # SageMaker Parameters\n",
        "    parser.add_argument('--hosts', type=list, default=json.loads(os.environ['SM_HOSTS']))\n",
        "    parser.add_argument('--current-host', type=str, default=os.environ['SM_CURRENT_HOST'])\n",
        "    parser.add_argument('--model-dir', type=str, default=os.environ['SM_MODEL_DIR'])\n",
        "    parser.add_argument('--data-dir', type=str, default=os.environ['SM_CHANNEL_TRAINING'])\n",
        "    parser.add_argument('--num-gpus', type=int, default=os.environ['SM_NUM_GPUS'])\n",
        "\n",
        "    args = parser.parse_args()\n",
        "\n",
        "    device = torch.device(\"cuda\" if torch.cuda.is_available() else \"cpu\")\n",
        "    print(\"Using device {}.\".format(device))\n",
        "\n",
        "    torch.manual_seed(args.seed)\n",
        "\n",
        "    # Load the training data.\n",
        "    train_loader = _get_train_valid_data_loader(args.batch_size, args.data_dir)\n",
        "\n",
        "    # Build the model.\n",
        "    model = LSTMClassifier(args.embedding_dim, args.hidden_dim, args.vocab_size).to(device)\n",
        "\n",
        "    with open(os.path.join(args.data_dir, \"word_dict.pkl\"), \"rb\") as f:\n",
        "        model.word_dict = pickle.load(f)\n",
        "\n",
        "    print(\"Model loaded with embedding_dim {}, hidden_dim {}, vocab_size {}.\".format(\n",
        "        args.embedding_dim, args.hidden_dim, args.vocab_size\n",
        "    ))\n",
        "\n",
        "    # Train the model.\n",
        "    optimizer = optim.Adam(model.parameters())\n",
        "    loss_fn = torch.nn.BCELoss()\n",
        "\n",
        "    model, train_losses, valid_losses, accuracy = train(model, \n",
        "        train_loader, valid_loader, \n",
        "        args.epochs, optimizer, loss_fn, device)\n",
        "\n",
        "    # Save the parameters used to construct the model\n",
        "    model_info_path = os.path.join(args.model_dir, 'model_info.pth')\n",
        "    with open(model_info_path, 'wb') as f:\n",
        "        model_info = {\n",
        "            'embedding_dim': args.embedding_dim,\n",
        "            'hidden_dim': args.hidden_dim,\n",
        "            'vocab_size': args.vocab_size,\n",
        "        }\n",
        "        torch.save(model_info, f)\n",
        "\n",
        "\t# Save the word_dict\n",
        "    word_dict_path = os.path.join(args.model_dir, 'word_dict.pkl')\n",
        "    with open(word_dict_path, 'wb') as f:\n",
        "        pickle.dump(model.word_dict, f)\n",
        "\n",
        "\t# Save the model parameters\n",
        "    model_path = os.path.join(args.model_dir, 'model.pth')\n",
        "    with open(model_path, 'wb') as f:\n",
        "        torch.save(model.cpu().state_dict(), f)"
      ],
      "execution_count": null,
      "outputs": [
        {
          "output_type": "stream",
          "text": [
            "Writing ./train/train.py\n"
          ],
          "name": "stdout"
        }
      ]
    },
    {
      "cell_type": "code",
      "metadata": {
        "id": "SWQ_AIyRcrP2",
        "colab_type": "code",
        "colab": {}
      },
      "source": [
        "# from sagemaker.pytorch import PyTorch\n",
        "\n",
        "# estimator = PyTorch(entry_point=\"train.py\",\n",
        "#                     source_dir=\"train\",\n",
        "#                     role=role,\n",
        "#                     framework_version='0.4.0',\n",
        "#                     train_instance_count=1,\n",
        "#                     train_instance_type='ml.p2.xlarge',\n",
        "#                     hyperparameters={\n",
        "#                         'epochs': 10,\n",
        "#                         'hidden_dim': 200,\n",
        "#                     })"
      ],
      "execution_count": null,
      "outputs": []
    },
    {
      "cell_type": "code",
      "metadata": {
        "id": "8C3SeZaOcrQB",
        "colab_type": "code",
        "colab": {}
      },
      "source": [
        "# estimator.fit({'training': input_data})"
      ],
      "execution_count": null,
      "outputs": []
    },
    {
      "cell_type": "markdown",
      "metadata": {
        "id": "mU8PpVV2crQG",
        "colab_type": "text"
      },
      "source": [
        "## Step 5: Testing the model\n",
        "\n",
        "As mentioned at the top of this notebook, we will be testing this model by first deploying it and then sending the testing data to the deployed endpoint. We will do this so that we can make sure that the deployed model is working correctly.\n",
        "\n",
        "## Step 6: Deploy the model for testing\n",
        "\n",
        "Now that we have trained our model, we would like to test it to see how it performs. Currently our model takes input of the form `review_length, review[500]` where `review[500]` is a sequence of `500` integers which describe the words present in the review, encoded using `word_dict`. Fortunately for us, SageMaker provides built-in inference code for models with simple inputs such as this.\n",
        "\n",
        "There is one thing that we need to provide, however, and that is a function which loads the saved model. This function must be called `model_fn()` and takes as its only parameter a path to the directory where the model artifacts are stored. This function must also be present in the python file which we specified as the entry point. In our case the model loading function has been provided and so no changes need to be made.\n",
        "\n",
        "**NOTE**: When the built-in inference code is run it must import the `model_fn()` method from the `train.py` file. This is why the training code is wrapped in a main guard ( ie, `if __name__ == '__main__':` )\n",
        "\n",
        "Since we don't need to change anything in the code that was uploaded during training, we can simply deploy the current model as-is.\n",
        "\n",
        "**NOTE:** When deploying a model you are asking SageMaker to launch an compute instance that will wait for data to be sent to it. As a result, this compute instance will continue to run until *you* shut it down. This is important to know since the cost of a deployed endpoint depends on how long it has been running for.\n",
        "\n",
        "In other words **If you are no longer using a deployed endpoint, shut it down!**\n",
        "\n",
        "**TODO:** Deploy the trained model."
      ]
    },
    {
      "cell_type": "code",
      "metadata": {
        "id": "10IxbzY7crQG",
        "colab_type": "code",
        "colab": {}
      },
      "source": [
        "# TODO: Deploy the trained model\n",
        "# predictor = estimator.deploy(initial_instance_count = 1, instance_type = 'ml.m4.xlarge')"
      ],
      "execution_count": null,
      "outputs": []
    },
    {
      "cell_type": "markdown",
      "metadata": {
        "id": "MAtNuQ4VcrQN",
        "colab_type": "text"
      },
      "source": [
        "## Step 7 - Use the model for testing\n",
        "\n",
        "Once deployed, we can read in the test data and send it off to our deployed model to get some results. Once we collect all of the results we can determine how accurate our model is."
      ]
    },
    {
      "cell_type": "code",
      "metadata": {
        "id": "i3Y84zeTcrQO",
        "colab_type": "code",
        "colab": {}
      },
      "source": [
        "test_X = pd.concat([pd.DataFrame(test_X_len), pd.DataFrame(test_X)], axis=1)"
      ],
      "execution_count": null,
      "outputs": []
    },
    {
      "cell_type": "code",
      "metadata": {
        "id": "bz6xrCiIcrQY",
        "colab_type": "code",
        "colab": {}
      },
      "source": [
        "# We split the data into chunks and send each chunk seperately, accumulating the results.\n",
        "\n",
        "def predict(data, rows=512):\n",
        "    split_array = np.array_split(data, int(data.shape[0] / float(rows) + 1))\n",
        "    predictions = np.array([])\n",
        "    for array in split_array:\n",
        "        predictions = np.append(predictions, predictor.predict(array))\n",
        "    \n",
        "    return predictions"
      ],
      "execution_count": null,
      "outputs": []
    },
    {
      "cell_type": "code",
      "metadata": {
        "id": "_YaWsmwpcrQf",
        "colab_type": "code",
        "colab": {}
      },
      "source": [
        "# predictions = predict(test_X.values)\n",
        "# predictions = [round(num) for num in predictions]"
      ],
      "execution_count": null,
      "outputs": []
    },
    {
      "cell_type": "code",
      "metadata": {
        "id": "28w8Nj3OcrQj",
        "colab_type": "code",
        "colab": {}
      },
      "source": [
        "# from sklearn.metrics import accuracy_score\n",
        "# accuracy_score(test_y, predictions)"
      ],
      "execution_count": null,
      "outputs": []
    },
    {
      "cell_type": "markdown",
      "metadata": {
        "id": "dHmovLACcrQo",
        "colab_type": "text"
      },
      "source": [
        "**Question:** How does this model compare to the XGBoost model you created earlier? Why might these two models perform differently on this dataset? Which do *you* think is better for sentiment analysis?"
      ]
    },
    {
      "cell_type": "markdown",
      "metadata": {
        "id": "lFLvKybScrQs",
        "colab_type": "text"
      },
      "source": [
        "**Answer:** The XGBoost worked best. However that could be due to the few epochs we did with the RNN. Probably it would still keep on going, and that it would outperform XGBoost."
      ]
    },
    {
      "cell_type": "markdown",
      "metadata": {
        "id": "UA1KSKwMcrQt",
        "colab_type": "text"
      },
      "source": [
        "### (TODO) More testing\n",
        "\n",
        "We now have a trained model which has been deployed and which we can send processed reviews to and which returns the predicted sentiment. However, ultimately we would like to be able to send our model an unprocessed review. That is, we would like to send the review itself as a string. For example, suppose we wish to send the following review to our model."
      ]
    },
    {
      "cell_type": "code",
      "metadata": {
        "id": "_B5wJJmQcrQu",
        "colab_type": "code",
        "colab": {}
      },
      "source": [
        "test_review = 'The simplest pleasures in life are the best, and this film is one of them. Combining a rather basic storyline of love and adventure this movie transcends the usual weekend fair with wit and unmitigated charm.'"
      ],
      "execution_count": null,
      "outputs": []
    },
    {
      "cell_type": "markdown",
      "metadata": {
        "id": "QSzei41fcrQ0",
        "colab_type": "text"
      },
      "source": [
        "The question we now need to answer is, how do we send this review to our model?\n",
        "\n",
        "Recall in the first section of this notebook we did a bunch of data processing to the IMDb dataset. In particular, we did two specific things to the provided reviews.\n",
        " - Removed any html tags and stemmed the input\n",
        " - Encoded the review as a sequence of integers using `word_dict`\n",
        " \n",
        "In order process the review we will need to repeat these two steps.\n",
        "\n",
        "**TODO**: Using the `review_to_words` and `convert_and_pad` methods from section one, convert `test_review` into a numpy array `test_data` suitable to send to our model. Remember that our model expects input of the form `review_length, review[500]`."
      ]
    },
    {
      "cell_type": "code",
      "metadata": {
        "id": "QkaJFt70crQ1",
        "colab_type": "code",
        "colab": {}
      },
      "source": [
        "# TODO: Convert test_review into a form usable by the model and save the results in test_data\n",
        "converted, leng = convert_and_pad(word_dict, review_to_words(test_review))\n",
        "test_data = np.hstack((leng, converted)).reshape(1,-1)"
      ],
      "execution_count": null,
      "outputs": []
    },
    {
      "cell_type": "markdown",
      "metadata": {
        "id": "Uw9p27DtcrRI",
        "colab_type": "text"
      },
      "source": [
        "Now that we have processed the review, we can send the resulting array to our model to predict the sentiment of the review."
      ]
    },
    {
      "cell_type": "code",
      "metadata": {
        "id": "ZB9wDK1_crRJ",
        "colab_type": "code",
        "colab": {}
      },
      "source": [
        "# predictor.predict(test_data)"
      ],
      "execution_count": null,
      "outputs": []
    },
    {
      "cell_type": "markdown",
      "metadata": {
        "id": "5fZT1g9XcrRW",
        "colab_type": "text"
      },
      "source": [
        "Since the return value of our model is close to `1`, we can be certain that the review we submitted is positive."
      ]
    },
    {
      "cell_type": "markdown",
      "metadata": {
        "id": "zAA_0nK7crRX",
        "colab_type": "text"
      },
      "source": [
        "### Delete the endpoint\n",
        "\n",
        "Of course, just like in the XGBoost notebook, once we've deployed an endpoint it continues to run until we tell it to shut down. Since we are done using our endpoint for now, we can delete it."
      ]
    },
    {
      "cell_type": "code",
      "metadata": {
        "id": "BGC1VN8_crRY",
        "colab_type": "code",
        "colab": {}
      },
      "source": [
        "# estimator.delete_endpoint()"
      ],
      "execution_count": null,
      "outputs": []
    },
    {
      "cell_type": "markdown",
      "metadata": {
        "id": "-7rjhdFAcrRl",
        "colab_type": "text"
      },
      "source": [
        "## Step 6 (again) - Deploy the model for the web app\n",
        "\n",
        "Now that we know that our model is working, it's time to create some custom inference code so that we can send the model a review which has not been processed and have it determine the sentiment of the review.\n",
        "\n",
        "As we saw above, by default the estimator which we created, when deployed, will use the entry script and directory which we provided when creating the model. However, since we now wish to accept a string as input and our model expects a processed review, we need to write some custom inference code.\n",
        "\n",
        "We will store the code that we write in the `serve` directory. Provided in this directory is the `model.py` file that we used to construct our model, a `utils.py` file which contains the `review_to_words` and `convert_and_pad` pre-processing functions which we used during the initial data processing, and `predict.py`, the file which will contain our custom inference code. Note also that `requirements.txt` is present which will tell SageMaker what Python libraries are required by our custom inference code.\n",
        "\n",
        "When deploying a PyTorch model in SageMaker, you are expected to provide four functions which the SageMaker inference container will use.\n",
        " - `model_fn`: This function is the same function that we used in the training script and it tells SageMaker how to load our model.\n",
        " - `input_fn`: This function receives the raw serialized input that has been sent to the model's endpoint and its job is to de-serialize and make the input available for the inference code.\n",
        " - `output_fn`: This function takes the output of the inference code and its job is to serialize this output and return it to the caller of the model's endpoint.\n",
        " - `predict_fn`: The heart of the inference script, this is where the actual prediction is done and is the function which you will need to complete.\n",
        "\n",
        "For the simple website that we are constructing during this project, the `input_fn` and `output_fn` methods are relatively straightforward. We only require being able to accept a string as input and we expect to return a single value as output. You might imagine though that in a more complex application the input or output may be image data or some other binary data which would require some effort to serialize.\n",
        "\n",
        "### (TODO) Writing inference code\n",
        "\n",
        "Before writing our custom inference code, we will begin by taking a look at the code which has been provided."
      ]
    },
    {
      "cell_type": "code",
      "metadata": {
        "id": "br5612G9YKun",
        "colab_type": "code",
        "colab": {}
      },
      "source": [
        "if not os.path.exists('./serve'): # Make sure that the folder exits\n",
        "  os.makedirs('./serve')"
      ],
      "execution_count": null,
      "outputs": []
    },
    {
      "cell_type": "code",
      "metadata": {
        "id": "iSKwiwfyYiUj",
        "colab_type": "code",
        "colab": {
          "base_uri": "https://localhost:8080/",
          "height": 34
        },
        "outputId": "ad598b0a-76ef-47c7-ab8c-3e55821a4c49"
      },
      "source": [
        "%%file ./serve/predict.py\n",
        "\n",
        "import argparse\n",
        "import json\n",
        "import os\n",
        "import pickle\n",
        "import sys\n",
        "import sagemaker_containers\n",
        "import pandas as pd\n",
        "import numpy as np\n",
        "import torch\n",
        "import torch.nn as nn\n",
        "import torch.optim as optim\n",
        "import torch.utils.data\n",
        "\n",
        "from model import LSTMClassifier\n",
        "\n",
        "from utils import review_to_words, convert_and_pad\n",
        "\n",
        "def model_fn(model_dir):\n",
        "    \"\"\"Load the PyTorch model from the `model_dir` directory.\"\"\"\n",
        "    print(\"Loading model.\")\n",
        "\n",
        "    # First, load the parameters used to create the model.\n",
        "    model_info = {}\n",
        "    model_info_path = os.path.join(model_dir, 'model_info.pth')\n",
        "    with open(model_info_path, 'rb') as f:\n",
        "        model_info = torch.load(f)\n",
        "\n",
        "    print(\"model_info: {}\".format(model_info))\n",
        "\n",
        "    # Determine the device and construct the model.\n",
        "    device = torch.device(\"cuda\" if torch.cuda.is_available() else \"cpu\")\n",
        "    model = LSTMClassifier(model_info['embedding_dim'], model_info['hidden_dim'], model_info['vocab_size'])\n",
        "\n",
        "    # Load the store model parameters.\n",
        "    model_path = os.path.join(model_dir, 'model.pth')\n",
        "    with open(model_path, 'rb') as f:\n",
        "        model.load_state_dict(torch.load(f))\n",
        "\n",
        "    # Load the saved word_dict.\n",
        "    word_dict_path = os.path.join(model_dir, 'word_dict.pkl')\n",
        "    with open(word_dict_path, 'rb') as f:\n",
        "        model.word_dict = pickle.load(f)\n",
        "\n",
        "    model.to(device).eval()\n",
        "\n",
        "    print(\"Done loading model.\")\n",
        "    return model\n",
        "\n",
        "def input_fn(serialized_input_data, content_type):\n",
        "    print('Deserializing the input data.')\n",
        "    if content_type == 'text/plain':\n",
        "        data = serialized_input_data.decode('utf-8')\n",
        "        return data\n",
        "    raise Exception('Requested unsupported ContentType in content_type: ' + content_type)\n",
        "\n",
        "def output_fn(prediction_output, accept):\n",
        "    print('Serializing the generated output.')\n",
        "    return str(prediction_output)\n",
        "\n",
        "def predict_fn(input_data, model):\n",
        "    print('Inferring sentiment of input data.')\n",
        "\n",
        "    device = torch.device(\"cuda\" if torch.cuda.is_available() else \"cpu\")\n",
        "    \n",
        "    if model.word_dict is None:\n",
        "        raise Exception('Model has not been loaded properly, no word_dict.')\n",
        "    \n",
        "    # TODO: Process input_data so that it is ready to be sent to our model.\n",
        "    #       You should produce two variables:\n",
        "    #         data_X   - A sequence of length 500 which represents the converted review\n",
        "    #         data_len - The length of the review\n",
        "\n",
        "    words = review_to_words(input_data)\n",
        "    data_X, data_len = convert_and_pad(model.word_dict, words)\n",
        "\n",
        "    # Using data_X and data_len we construct an appropriate input tensor. Remember\n",
        "    # that our model expects input data of the form 'len, review[500]'.\n",
        "    data_pack = np.hstack((data_len, data_X))\n",
        "    data_pack = data_pack.reshape(1, -1)\n",
        "    \n",
        "    data = torch.from_numpy(data_pack)\n",
        "    data = data.to(device)\n",
        "\n",
        "    # Make sure to put the model into evaluation mode\n",
        "    model.eval()\n",
        "\n",
        "    # TODO: Compute the result of applying the model to the input data. The variable `result` should\n",
        "    #       be a numpy array which contains a single integer which is either 1 or 0\n",
        "\n",
        "    with torch.no_grad():\n",
        "      result = model(data).numpy()\n",
        "    result = np.round(result)\n",
        "\n",
        "    return result"
      ],
      "execution_count": null,
      "outputs": [
        {
          "output_type": "stream",
          "text": [
            "Writing ./serve/predict.py\n"
          ],
          "name": "stdout"
        }
      ]
    },
    {
      "cell_type": "code",
      "metadata": {
        "id": "E3saZaBEcrRm",
        "colab_type": "code",
        "colab": {
          "base_uri": "https://localhost:8080/",
          "height": 1000
        },
        "outputId": "252a8436-2fd7-4fab-a1cb-5be24afe7f03"
      },
      "source": [
        "!pygmentize ./serve/predict.py"
      ],
      "execution_count": null,
      "outputs": [
        {
          "output_type": "stream",
          "text": [
            "\u001b[34mimport\u001b[39;49;00m \u001b[04m\u001b[36margparse\u001b[39;49;00m\n",
            "\u001b[34mimport\u001b[39;49;00m \u001b[04m\u001b[36mjson\u001b[39;49;00m\n",
            "\u001b[34mimport\u001b[39;49;00m \u001b[04m\u001b[36mos\u001b[39;49;00m\n",
            "\u001b[34mimport\u001b[39;49;00m \u001b[04m\u001b[36mpickle\u001b[39;49;00m\n",
            "\u001b[34mimport\u001b[39;49;00m \u001b[04m\u001b[36msys\u001b[39;49;00m\n",
            "\u001b[34mimport\u001b[39;49;00m \u001b[04m\u001b[36msagemaker_containers\u001b[39;49;00m\n",
            "\u001b[34mimport\u001b[39;49;00m \u001b[04m\u001b[36mpandas\u001b[39;49;00m \u001b[34mas\u001b[39;49;00m \u001b[04m\u001b[36mpd\u001b[39;49;00m\n",
            "\u001b[34mimport\u001b[39;49;00m \u001b[04m\u001b[36mnumpy\u001b[39;49;00m \u001b[34mas\u001b[39;49;00m \u001b[04m\u001b[36mnp\u001b[39;49;00m\n",
            "\u001b[34mimport\u001b[39;49;00m \u001b[04m\u001b[36mtorch\u001b[39;49;00m\n",
            "\u001b[34mimport\u001b[39;49;00m \u001b[04m\u001b[36mtorch.nn\u001b[39;49;00m \u001b[34mas\u001b[39;49;00m \u001b[04m\u001b[36mnn\u001b[39;49;00m\n",
            "\u001b[34mimport\u001b[39;49;00m \u001b[04m\u001b[36mtorch.optim\u001b[39;49;00m \u001b[34mas\u001b[39;49;00m \u001b[04m\u001b[36moptim\u001b[39;49;00m\n",
            "\u001b[34mimport\u001b[39;49;00m \u001b[04m\u001b[36mtorch.utils.data\u001b[39;49;00m\n",
            "\n",
            "\u001b[34mfrom\u001b[39;49;00m \u001b[04m\u001b[36mmodel\u001b[39;49;00m \u001b[34mimport\u001b[39;49;00m LSTMClassifier\n",
            "\n",
            "\u001b[34mfrom\u001b[39;49;00m \u001b[04m\u001b[36mutils\u001b[39;49;00m \u001b[34mimport\u001b[39;49;00m review_to_words, convert_and_pad\n",
            "\n",
            "\u001b[34mdef\u001b[39;49;00m \u001b[32mmodel_fn\u001b[39;49;00m(model_dir):\n",
            "    \u001b[33m\"\"\"Load the PyTorch model from the `model_dir` directory.\"\"\"\u001b[39;49;00m\n",
            "    \u001b[34mprint\u001b[39;49;00m(\u001b[33m\"\u001b[39;49;00m\u001b[33mLoading model.\u001b[39;49;00m\u001b[33m\"\u001b[39;49;00m)\n",
            "\n",
            "    \u001b[37m# First, load the parameters used to create the model.\u001b[39;49;00m\n",
            "    model_info = {}\n",
            "    model_info_path = os.path.join(model_dir, \u001b[33m'\u001b[39;49;00m\u001b[33mmodel_info.pth\u001b[39;49;00m\u001b[33m'\u001b[39;49;00m)\n",
            "    \u001b[34mwith\u001b[39;49;00m \u001b[36mopen\u001b[39;49;00m(model_info_path, \u001b[33m'\u001b[39;49;00m\u001b[33mrb\u001b[39;49;00m\u001b[33m'\u001b[39;49;00m) \u001b[34mas\u001b[39;49;00m f:\n",
            "        model_info = torch.load(f)\n",
            "\n",
            "    \u001b[34mprint\u001b[39;49;00m(\u001b[33m\"\u001b[39;49;00m\u001b[33mmodel_info: {}\u001b[39;49;00m\u001b[33m\"\u001b[39;49;00m.format(model_info))\n",
            "\n",
            "    \u001b[37m# Determine the device and construct the model.\u001b[39;49;00m\n",
            "    device = torch.device(\u001b[33m\"\u001b[39;49;00m\u001b[33mcuda\u001b[39;49;00m\u001b[33m\"\u001b[39;49;00m \u001b[34mif\u001b[39;49;00m torch.cuda.is_available() \u001b[34melse\u001b[39;49;00m \u001b[33m\"\u001b[39;49;00m\u001b[33mcpu\u001b[39;49;00m\u001b[33m\"\u001b[39;49;00m)\n",
            "    model = LSTMClassifier(model_info[\u001b[33m'\u001b[39;49;00m\u001b[33membedding_dim\u001b[39;49;00m\u001b[33m'\u001b[39;49;00m], model_info[\u001b[33m'\u001b[39;49;00m\u001b[33mhidden_dim\u001b[39;49;00m\u001b[33m'\u001b[39;49;00m], model_info[\u001b[33m'\u001b[39;49;00m\u001b[33mvocab_size\u001b[39;49;00m\u001b[33m'\u001b[39;49;00m])\n",
            "\n",
            "    \u001b[37m# Load the store model parameters.\u001b[39;49;00m\n",
            "    model_path = os.path.join(model_dir, \u001b[33m'\u001b[39;49;00m\u001b[33mmodel.pth\u001b[39;49;00m\u001b[33m'\u001b[39;49;00m)\n",
            "    \u001b[34mwith\u001b[39;49;00m \u001b[36mopen\u001b[39;49;00m(model_path, \u001b[33m'\u001b[39;49;00m\u001b[33mrb\u001b[39;49;00m\u001b[33m'\u001b[39;49;00m) \u001b[34mas\u001b[39;49;00m f:\n",
            "        model.load_state_dict(torch.load(f))\n",
            "\n",
            "    \u001b[37m# Load the saved word_dict.\u001b[39;49;00m\n",
            "    word_dict_path = os.path.join(model_dir, \u001b[33m'\u001b[39;49;00m\u001b[33mword_dict.pkl\u001b[39;49;00m\u001b[33m'\u001b[39;49;00m)\n",
            "    \u001b[34mwith\u001b[39;49;00m \u001b[36mopen\u001b[39;49;00m(word_dict_path, \u001b[33m'\u001b[39;49;00m\u001b[33mrb\u001b[39;49;00m\u001b[33m'\u001b[39;49;00m) \u001b[34mas\u001b[39;49;00m f:\n",
            "        model.word_dict = pickle.load(f)\n",
            "\n",
            "    model.to(device).eval()\n",
            "\n",
            "    \u001b[34mprint\u001b[39;49;00m(\u001b[33m\"\u001b[39;49;00m\u001b[33mDone loading model.\u001b[39;49;00m\u001b[33m\"\u001b[39;49;00m)\n",
            "    \u001b[34mreturn\u001b[39;49;00m model\n",
            "\n",
            "\u001b[34mdef\u001b[39;49;00m \u001b[32minput_fn\u001b[39;49;00m(serialized_input_data, content_type):\n",
            "    \u001b[34mprint\u001b[39;49;00m(\u001b[33m'\u001b[39;49;00m\u001b[33mDeserializing the input data.\u001b[39;49;00m\u001b[33m'\u001b[39;49;00m)\n",
            "    \u001b[34mif\u001b[39;49;00m content_type == \u001b[33m'\u001b[39;49;00m\u001b[33mtext/plain\u001b[39;49;00m\u001b[33m'\u001b[39;49;00m:\n",
            "        data = serialized_input_data.decode(\u001b[33m'\u001b[39;49;00m\u001b[33mutf-8\u001b[39;49;00m\u001b[33m'\u001b[39;49;00m)\n",
            "        \u001b[34mreturn\u001b[39;49;00m data\n",
            "    \u001b[34mraise\u001b[39;49;00m \u001b[36mException\u001b[39;49;00m(\u001b[33m'\u001b[39;49;00m\u001b[33mRequested unsupported ContentType in content_type: \u001b[39;49;00m\u001b[33m'\u001b[39;49;00m + content_type)\n",
            "\n",
            "\u001b[34mdef\u001b[39;49;00m \u001b[32moutput_fn\u001b[39;49;00m(prediction_output, accept):\n",
            "    \u001b[34mprint\u001b[39;49;00m(\u001b[33m'\u001b[39;49;00m\u001b[33mSerializing the generated output.\u001b[39;49;00m\u001b[33m'\u001b[39;49;00m)\n",
            "    \u001b[34mreturn\u001b[39;49;00m \u001b[36mstr\u001b[39;49;00m(prediction_output)\n",
            "\n",
            "\u001b[34mdef\u001b[39;49;00m \u001b[32mpredict_fn\u001b[39;49;00m(input_data, model):\n",
            "    \u001b[34mprint\u001b[39;49;00m(\u001b[33m'\u001b[39;49;00m\u001b[33mInferring sentiment of input data.\u001b[39;49;00m\u001b[33m'\u001b[39;49;00m)\n",
            "\n",
            "    device = torch.device(\u001b[33m\"\u001b[39;49;00m\u001b[33mcuda\u001b[39;49;00m\u001b[33m\"\u001b[39;49;00m \u001b[34mif\u001b[39;49;00m torch.cuda.is_available() \u001b[34melse\u001b[39;49;00m \u001b[33m\"\u001b[39;49;00m\u001b[33mcpu\u001b[39;49;00m\u001b[33m\"\u001b[39;49;00m)\n",
            "    \n",
            "    \u001b[34mif\u001b[39;49;00m model.word_dict \u001b[35mis\u001b[39;49;00m \u001b[36mNone\u001b[39;49;00m:\n",
            "        \u001b[34mraise\u001b[39;49;00m \u001b[36mException\u001b[39;49;00m(\u001b[33m'\u001b[39;49;00m\u001b[33mModel has not been loaded properly, no word_dict.\u001b[39;49;00m\u001b[33m'\u001b[39;49;00m)\n",
            "    \n",
            "    \u001b[37m# TODO: Process input_data so that it is ready to be sent to our model.\u001b[39;49;00m\n",
            "    \u001b[37m#       You should produce two variables:\u001b[39;49;00m\n",
            "    \u001b[37m#         data_X   - A sequence of length 500 which represents the converted review\u001b[39;49;00m\n",
            "    \u001b[37m#         data_len - The length of the review\u001b[39;49;00m\n",
            "\n",
            "    words = review_to_words(input_data)\n",
            "    data_X, data_len = convert_and_pad(model.word_dict, words)\n",
            "\n",
            "    \u001b[37m# Using data_X and data_len we construct an appropriate input tensor. Remember\u001b[39;49;00m\n",
            "    \u001b[37m# that our model expects input data of the form 'len, review[500]'.\u001b[39;49;00m\n",
            "    data_pack = np.hstack((data_len, data_X))\n",
            "    data_pack = data_pack.reshape(\u001b[34m1\u001b[39;49;00m, -\u001b[34m1\u001b[39;49;00m)\n",
            "    \n",
            "    data = torch.from_numpy(data_pack)\n",
            "    data = data.to(device)\n",
            "\n",
            "    \u001b[37m# Make sure to put the model into evaluation mode\u001b[39;49;00m\n",
            "    model.eval()\n",
            "\n",
            "    \u001b[37m# TODO: Compute the result of applying the model to the input data. The variable `result` should\u001b[39;49;00m\n",
            "    \u001b[37m#       be a numpy array which contains a single integer which is either 1 or 0\u001b[39;49;00m\n",
            "\n",
            "    \u001b[34mwith\u001b[39;49;00m torch.no_grad():\n",
            "      result = model(data).numpy()\n",
            "    result = np.round(result)\n",
            "\n",
            "    \u001b[34mreturn\u001b[39;49;00m result\n"
          ],
          "name": "stdout"
        }
      ]
    },
    {
      "cell_type": "markdown",
      "metadata": {
        "id": "mSla7dr9crRw",
        "colab_type": "text"
      },
      "source": [
        "As mentioned earlier, the `model_fn` method is the same as the one provided in the training code and the `input_fn` and `output_fn` methods are very simple and your task will be to complete the `predict_fn` method. Make sure that you save the completed file as `predict.py` in the `serve` directory.\n",
        "\n",
        "**TODO**: Complete the `predict_fn()` method in the `serve/predict.py` file."
      ]
    },
    {
      "cell_type": "markdown",
      "metadata": {
        "id": "NnhMZvMOcrRy",
        "colab_type": "text"
      },
      "source": [
        "### Deploying the model\n",
        "\n",
        "Now that the custom inference code has been written, we will create and deploy our model. To begin with, we need to construct a new PyTorchModel object which points to the model artifacts created during training and also points to the inference code that we wish to use. Then we can call the deploy method to launch the deployment container.\n",
        "\n",
        "**NOTE**: The default behaviour for a deployed PyTorch model is to assume that any input passed to the predictor is a `numpy` array. In our case we want to send a string so we need to construct a simple wrapper around the `RealTimePredictor` class to accomodate simple strings. In a more complicated situation you may want to provide a serialization object, for example if you wanted to sent image data."
      ]
    },
    {
      "cell_type": "code",
      "metadata": {
        "id": "wLDBOMopcrRz",
        "colab_type": "code",
        "colab": {}
      },
      "source": [
        "# from sagemaker.predictor import RealTimePredictor\n",
        "# from sagemaker.pytorch import PyTorchModel\n",
        "\n",
        "# class StringPredictor(RealTimePredictor):\n",
        "#     def __init__(self, endpoint_name, sagemaker_session):\n",
        "#         super(StringPredictor, self).__init__(endpoint_name, sagemaker_session, content_type='text/plain')\n",
        "\n",
        "# model = PyTorchModel(model_data=estimator.model_data,\n",
        "#                      role = role,\n",
        "#                      framework_version='0.4.0',\n",
        "#                      entry_point='predict.py',\n",
        "#                      source_dir='serve',\n",
        "#                      predictor_cls=StringPredictor)\n",
        "# predictor = model.deploy(initial_instance_count=1, instance_type='ml.m4.xlarge')"
      ],
      "execution_count": null,
      "outputs": []
    },
    {
      "cell_type": "markdown",
      "metadata": {
        "id": "tHLZpHDKcrSD",
        "colab_type": "text"
      },
      "source": [
        "### Testing the model\n",
        "\n",
        "Now that we have deployed our model with the custom inference code, we should test to see if everything is working. Here we test our model by loading the first `250` positive and negative reviews and send them to the endpoint, then collect the results. The reason for only sending some of the data is that the amount of time it takes for our model to process the input and then perform inference is quite long and so testing the entire data set would be prohibitive."
      ]
    },
    {
      "cell_type": "code",
      "metadata": {
        "id": "TK12ZdADcrSD",
        "colab_type": "code",
        "colab": {}
      },
      "source": [
        "import glob\n",
        "\n",
        "def test_reviews(data_dir='./data/aclImdb', stop=250):\n",
        "    \n",
        "    results = []\n",
        "    ground = []\n",
        "    \n",
        "    # We make sure to test both positive and negative reviews    \n",
        "    for sentiment in ['pos', 'neg']:\n",
        "        \n",
        "        path = os.path.join(data_dir, 'test', sentiment, '*.txt')\n",
        "        files = glob.glob(path)\n",
        "        \n",
        "        files_read = 0\n",
        "        \n",
        "        print('Starting ', sentiment, ' files')\n",
        "        \n",
        "        # Iterate through the files and send them to the predictor\n",
        "        for f in files:\n",
        "            with open(f) as review:\n",
        "                # First, we store the ground truth (was the review positive or negative)\n",
        "                if sentiment == 'pos':\n",
        "                    ground.append(1)\n",
        "                else:\n",
        "                    ground.append(0)\n",
        "                # Read in the review and convert to 'utf-8' for transmission via HTTP\n",
        "                review_input = review.read().encode('utf-8')\n",
        "                # Send the review to the predictor and store the results\n",
        "                results.append(int(predictor.predict(review_input)))\n",
        "                \n",
        "            # Sending reviews to our endpoint one at a time takes a while so we\n",
        "            # only send a small number of reviews\n",
        "            files_read += 1\n",
        "            if files_read == stop:\n",
        "                break\n",
        "            \n",
        "    return ground, results"
      ],
      "execution_count": null,
      "outputs": []
    },
    {
      "cell_type": "code",
      "metadata": {
        "id": "LS9zsYF9crSH",
        "colab_type": "code",
        "colab": {}
      },
      "source": [
        "# ground, results = test_reviews()"
      ],
      "execution_count": null,
      "outputs": []
    },
    {
      "cell_type": "code",
      "metadata": {
        "id": "-LpoRa5bcrSN",
        "colab_type": "code",
        "colab": {}
      },
      "source": [
        "from sklearn.metrics import accuracy_score\n",
        "# accuracy_score(ground, results)"
      ],
      "execution_count": null,
      "outputs": []
    },
    {
      "cell_type": "markdown",
      "metadata": {
        "id": "nEdcv7vFcrSZ",
        "colab_type": "text"
      },
      "source": [
        "As an additional test, we can try sending the `test_review` that we looked at earlier."
      ]
    },
    {
      "cell_type": "code",
      "metadata": {
        "id": "D4QC_fVYcrSb",
        "colab_type": "code",
        "colab": {}
      },
      "source": [
        "# predictor.predict(test_review)"
      ],
      "execution_count": null,
      "outputs": []
    },
    {
      "cell_type": "markdown",
      "metadata": {
        "id": "DgByivwEcrSi",
        "colab_type": "text"
      },
      "source": [
        "Now that we know our endpoint is working as expected, we can set up the web page that will interact with it. If you don't have time to finish the project now, make sure to skip down to the end of this notebook and shut down your endpoint. You can deploy it again when you come back."
      ]
    },
    {
      "cell_type": "code",
      "metadata": {
        "id": "vNzfleq3eKmZ",
        "colab_type": "code",
        "colab": {}
      },
      "source": [
        "# predictor.delete_endpoint()"
      ],
      "execution_count": null,
      "outputs": []
    },
    {
      "cell_type": "markdown",
      "metadata": {
        "id": "ONdqdihwcrSj",
        "colab_type": "text"
      },
      "source": [
        "## Step 7 (again): Use the model for the web app\n",
        "\n",
        "> **TODO:** This entire section and the next contain tasks for you to complete, mostly using the AWS console.\n",
        "\n",
        "So far we have been accessing our model endpoint by constructing a predictor object which uses the endpoint and then just using the predictor object to perform inference. What if we wanted to create a web app which accessed our model? The way things are set up currently makes that not possible since in order to access a SageMaker endpoint the app would first have to authenticate with AWS using an IAM role which included access to SageMaker endpoints. However, there is an easier way! We just need to use some additional AWS services.\n",
        "\n",
        "<img src=\"https://github.com/udacity/sagemaker-deployment/blob/master/Project/Web%20App%20Diagram.svg?raw=1\">\n",
        "\n",
        "The diagram above gives an overview of how the various services will work together. On the far right is the model which we trained above and which is deployed using SageMaker. On the far left is our web app that collects a user's movie review, sends it off and expects a positive or negative sentiment in return.\n",
        "\n",
        "In the middle is where some of the magic happens. We will construct a Lambda function, which you can think of as a straightforward Python function that can be executed whenever a specified event occurs. We will give this function permission to send and recieve data from a SageMaker endpoint.\n",
        "\n",
        "Lastly, the method we will use to execute the Lambda function is a new endpoint that we will create using API Gateway. This endpoint will be a url that listens for data to be sent to it. Once it gets some data it will pass that data on to the Lambda function and then return whatever the Lambda function returns. Essentially it will act as an interface that lets our web app communicate with the Lambda function.\n",
        "\n",
        "### Setting up a Lambda function\n",
        "\n",
        "The first thing we are going to do is set up a Lambda function. This Lambda function will be executed whenever our public API has data sent to it. When it is executed it will receive the data, perform any sort of processing that is required, send the data (the review) to the SageMaker endpoint we've created and then return the result.\n",
        "\n",
        "#### Part A: Create an IAM Role for the Lambda function\n",
        "\n",
        "Since we want the Lambda function to call a SageMaker endpoint, we need to make sure that it has permission to do so. To do this, we will construct a role that we can later give the Lambda function.\n",
        "\n",
        "Using the AWS Console, navigate to the **IAM** page and click on **Roles**. Then, click on **Create role**. Make sure that the **AWS service** is the type of trusted entity selected and choose **Lambda** as the service that will use this role, then click **Next: Permissions**.\n",
        "\n",
        "In the search box type `sagemaker` and select the check box next to the **AmazonSageMakerFullAccess** policy. Then, click on **Next: Review**.\n",
        "\n",
        "Lastly, give this role a name. Make sure you use a name that you will remember later on, for example `LambdaSageMakerRole`. Then, click on **Create role**.\n",
        "\n",
        "#### Part B: Create a Lambda function\n",
        "\n",
        "Now it is time to actually create the Lambda function.\n",
        "\n",
        "Using the AWS Console, navigate to the AWS Lambda page and click on **Create a function**. When you get to the next page, make sure that **Author from scratch** is selected. Now, name your Lambda function, using a name that you will remember later on, for example `sentiment_analysis_func`. Make sure that the **Python 3.6** runtime is selected and then choose the role that you created in the previous part. Then, click on **Create Function**.\n",
        "\n",
        "On the next page you will see some information about the Lambda function you've just created. If you scroll down you should see an editor in which you can write the code that will be executed when your Lambda function is triggered. In our example, we will use the code below. \n",
        "\n",
        "```python\n",
        "# We need to use the low-level library to interact with SageMaker since the SageMaker API\n",
        "# is not available natively through Lambda.\n",
        "import boto3\n",
        "\n",
        "def lambda_handler(event, context):\n",
        "\n",
        "    # The SageMaker runtime is what allows us to invoke the endpoint that we've created.\n",
        "    runtime = boto3.Session().client('sagemaker-runtime')\n",
        "\n",
        "    # Now we use the SageMaker runtime to invoke our endpoint, sending the review we were given\n",
        "    response = runtime.invoke_endpoint(EndpointName = '**ENDPOINT NAME HERE**',    # The name of the endpoint we created\n",
        "                                       ContentType = 'text/plain',                 # The data format that is expected\n",
        "                                       Body = event['body'])                       # The actual review\n",
        "\n",
        "    # The response is an HTTP response whose body contains the result of our inference\n",
        "    result = response['Body'].read().decode('utf-8')\n",
        "\n",
        "    return {\n",
        "        'statusCode' : 200,\n",
        "        'headers' : { 'Content-Type' : 'text/plain', 'Access-Control-Allow-Origin' : '*' },\n",
        "        'body' : result\n",
        "    }\n",
        "```\n",
        "\n",
        "Once you have copy and pasted the code above into the Lambda code editor, replace the `**ENDPOINT NAME HERE**` portion with the name of the endpoint that we deployed earlier. You can determine the name of the endpoint using the code cell below."
      ]
    },
    {
      "cell_type": "code",
      "metadata": {
        "id": "NjyTPXhFcrSk",
        "colab_type": "code",
        "colab": {}
      },
      "source": [
        "# predictor.endpoint"
      ],
      "execution_count": null,
      "outputs": []
    },
    {
      "cell_type": "markdown",
      "metadata": {
        "id": "A0RXQLmCcrSq",
        "colab_type": "text"
      },
      "source": [
        "Once you have added the endpoint name to the Lambda function, click on **Save**. Your Lambda function is now up and running. Next we need to create a way for our web app to execute the Lambda function.\n",
        "\n",
        "### Setting up API Gateway\n",
        "\n",
        "Now that our Lambda function is set up, it is time to create a new API using API Gateway that will trigger the Lambda function we have just created.\n",
        "\n",
        "Using AWS Console, navigate to **Amazon API Gateway** and then click on **Get started**.\n",
        "\n",
        "On the next page, make sure that **New API** is selected and give the new api a name, for example, `sentiment_analysis_api`. Then, click on **Create API**.\n",
        "\n",
        "Now we have created an API, however it doesn't currently do anything. What we want it to do is to trigger the Lambda function that we created earlier.\n",
        "\n",
        "Select the **Actions** dropdown menu and click **Create Method**. A new blank method will be created, select its dropdown menu and select **POST**, then click on the check mark beside it.\n",
        "\n",
        "For the integration point, make sure that **Lambda Function** is selected and click on the **Use Lambda Proxy integration**. This option makes sure that the data that is sent to the API is then sent directly to the Lambda function with no processing. It also means that the return value must be a proper response object as it will also not be processed by API Gateway.\n",
        "\n",
        "Type the name of the Lambda function you created earlier into the **Lambda Function** text entry box and then click on **Save**. Click on **OK** in the pop-up box that then appears, giving permission to API Gateway to invoke the Lambda function you created.\n",
        "\n",
        "The last step in creating the API Gateway is to select the **Actions** dropdown and click on **Deploy API**. You will need to create a new Deployment stage and name it anything you like, for example `prod`.\n",
        "\n",
        "You have now successfully set up a public API to access your SageMaker model. Make sure to copy or write down the URL provided to invoke your newly created public API as this will be needed in the next step. This URL can be found at the top of the page, highlighted in blue next to the text **Invoke URL**."
      ]
    },
    {
      "cell_type": "markdown",
      "metadata": {
        "id": "-0XIlJmpcrSr",
        "colab_type": "text"
      },
      "source": [
        "## Step 4: Deploying our web app\n",
        "\n",
        "Now that we have a publicly available API, we can start using it in a web app. For our purposes, we have provided a simple static html file which can make use of the public api you created earlier.\n",
        "\n",
        "In the `website` folder there should be a file called `index.html`. Download the file to your computer and open that file up in a text editor of your choice. There should be a line which contains **\\*\\*REPLACE WITH PUBLIC API URL\\*\\***. Replace this string with the url that you wrote down in the last step and then save the file.\n",
        "\n",
        "Now, if you open `index.html` on your local computer, your browser will behave as a local web server and you can use the provided site to interact with your SageMaker model.\n",
        "\n",
        "If you'd like to go further, you can host this html file anywhere you'd like, for example using github or hosting a static site on Amazon's S3. Once you have done this you can share the link with anyone you'd like and have them play with it too!\n",
        "\n",
        "> **Important Note** In order for the web app to communicate with the SageMaker endpoint, the endpoint has to actually be deployed and running. This means that you are paying for it. Make sure that the endpoint is running when you want to use the web app but that you shut it down when you don't need it, otherwise you will end up with a surprisingly large AWS bill.\n",
        "\n",
        "**TODO:** Make sure that you include the edited `index.html` file in your project submission."
      ]
    },
    {
      "cell_type": "markdown",
      "metadata": {
        "id": "NjMiLxEacrSr",
        "colab_type": "text"
      },
      "source": [
        "Now that your web app is working, trying playing around with it and see how well it works.\n",
        "\n",
        "**Question**: Give an example of a review that you entered into your web app. What was the predicted sentiment of your example review?"
      ]
    },
    {
      "cell_type": "markdown",
      "metadata": {
        "id": "l0u4P22jcrSs",
        "colab_type": "text"
      },
      "source": [
        "**Answer:**\n",
        "\n",
        "\"Would love to see it again\" = Positive\n",
        "\n",
        "\"Disappointed\" = Negative\n",
        "\n",
        "\"It's awesome movie\" = Negative"
      ]
    },
    {
      "cell_type": "markdown",
      "metadata": {
        "id": "173Be_-EcrSz",
        "colab_type": "text"
      },
      "source": [
        "### Delete the endpoint\n",
        "\n",
        "Remember to always shut down your endpoint if you are no longer using it. You are charged for the length of time that the endpoint is running so if you forget and leave it on you could end up with an unexpectedly large bill."
      ]
    },
    {
      "cell_type": "code",
      "metadata": {
        "id": "oa49K7YQcrS0",
        "colab_type": "code",
        "colab": {}
      },
      "source": [
        "predictor.delete_endpoint()"
      ],
      "execution_count": null,
      "outputs": []
    },
    {
      "cell_type": "code",
      "metadata": {
        "id": "LPtWkgL1crS9",
        "colab_type": "code",
        "colab": {}
      },
      "source": [
        ""
      ],
      "execution_count": null,
      "outputs": []
    }
  ]
}