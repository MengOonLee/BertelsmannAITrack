{
 "cells": [
  {
   "cell_type": "markdown",
   "metadata": {},
   "source": [
    "# Sentiment Analysis Web App\n",
    "\n",
    "_Deep Learning Nanodegree Program | Deployment_\n",
    "\n",
    "---\n",
    "\n",
    "In this notebook we will use Amazon's SageMaker service to construct a random tree model to predict the sentiment of a movie review. In addition, we will deploy this model to an endpoint and construct a very simple web app which will interact with our model's deployed endpoint.\n",
    "\n",
    "## General Outline\n",
    "\n",
    "Typically, when using a notebook instance with SageMaker, you will proceed through the following steps. Of course, not every step will need to be done with each project. Also, there is quite a lot of room for variation in many of the steps, as you will see throughout these lessons.\n",
    "\n",
    "1. Download or otherwise retrieve the data.\n",
    "2. Process / Prepare the data.\n",
    "3. Upload the processed data to S3.\n",
    "4. Train a chosen model.\n",
    "5. Test the trained model (typically using a batch transform job).\n",
    "6. Deploy the trained model.\n",
    "7. Use the deployed model.\n",
    "\n",
    "In this notebook we will progress through each of the steps above. We will also see that the final step, using the deployed model, can be quite challenging."
   ]
  },
  {
   "cell_type": "markdown",
   "metadata": {},
   "source": [
    "## Step 1: Downloading the data\n",
    "\n",
    "The dataset we are going to use is very popular among researchers in Natural Language Processing, usually referred to as the [IMDb dataset](http://ai.stanford.edu/~amaas/data/sentiment/). It consists of movie reviews from the website [imdb.com](http://www.imdb.com/), each labeled as either '**pos**itive', if the reviewer enjoyed the film, or '**neg**ative' otherwise.\n",
    "\n",
    "> Maas, Andrew L., et al. [Learning Word Vectors for Sentiment Analysis](http://ai.stanford.edu/~amaas/data/sentiment/). In _Proceedings of the 49th Annual Meeting of the Association for Computational Linguistics: Human Language Technologies_. Association for Computational Linguistics, 2011.\n",
    "\n",
    "We begin by using some Jupyter Notebook magic to download and extract the dataset."
   ]
  },
  {
   "cell_type": "code",
   "execution_count": 1,
   "metadata": {},
   "outputs": [
    {
     "name": "stdout",
     "output_type": "stream",
     "text": [
      "mkdir: cannot create directory ‘../data’: File exists\n",
      "--2020-07-21 15:24:00--  http://ai.stanford.edu/~amaas/data/sentiment/aclImdb_v1.tar.gz\n",
      "Resolving ai.stanford.edu (ai.stanford.edu)... 171.64.68.10\n",
      "Connecting to ai.stanford.edu (ai.stanford.edu)|171.64.68.10|:80... connected.\n",
      "HTTP request sent, awaiting response... 200 OK\n",
      "Length: 84125825 (80M) [application/x-gzip]\n",
      "Saving to: ‘../data/aclImdb_v1.tar.gz’\n",
      "\n",
      "../data/aclImdb_v1. 100%[===================>]  80.23M  8.89MB/s    in 12s     \n",
      "\n",
      "2020-07-21 15:24:13 (6.63 MB/s) - ‘../data/aclImdb_v1.tar.gz’ saved [84125825/84125825]\n",
      "\n"
     ]
    }
   ],
   "source": [
    "%mkdir ../data\n",
    "!wget -O ../data/aclImdb_v1.tar.gz http://ai.stanford.edu/~amaas/data/sentiment/aclImdb_v1.tar.gz\n",
    "!tar -zxf ../data/aclImdb_v1.tar.gz -C ../data"
   ]
  },
  {
   "cell_type": "markdown",
   "metadata": {},
   "source": [
    "## Step 2: Preparing and Processing the data\n",
    "\n",
    "The data we have downloaded is split into various files, each of which contains a single review. It will be much easier going forward if we combine these individual files into two large files, one for training and one for testing."
   ]
  },
  {
   "cell_type": "code",
   "execution_count": 2,
   "metadata": {},
   "outputs": [],
   "source": [
    "import os\n",
    "import glob\n",
    "\n",
    "def read_imdb_data(data_dir='../data/aclImdb'):\n",
    "    data = {}\n",
    "    labels = {}\n",
    "    \n",
    "    for data_type in ['train', 'test']:\n",
    "        data[data_type] = {}\n",
    "        labels[data_type] = {}\n",
    "        \n",
    "        for sentiment in ['pos', 'neg']:\n",
    "            data[data_type][sentiment] = []\n",
    "            labels[data_type][sentiment] = []\n",
    "            \n",
    "            path = os.path.join(data_dir, data_type, sentiment, '*.txt')\n",
    "            files = glob.glob(path)\n",
    "            \n",
    "            for f in files:\n",
    "                with open(f) as review:\n",
    "                    data[data_type][sentiment].append(review.read())\n",
    "                    # Here we represent a positive review by '1' and a negative review by '0'\n",
    "                    labels[data_type][sentiment].append(1 if sentiment == 'pos' else 0)\n",
    "                    \n",
    "            assert len(data[data_type][sentiment]) == len(labels[data_type][sentiment]), \\\n",
    "                    \"{}/{} data size does not match labels size\".format(data_type, sentiment)\n",
    "                \n",
    "    return data, labels"
   ]
  },
  {
   "cell_type": "code",
   "execution_count": 3,
   "metadata": {},
   "outputs": [
    {
     "name": "stdout",
     "output_type": "stream",
     "text": [
      "IMDB reviews: train = 12500 pos / 12500 neg, test = 12500 pos / 12500 neg\n"
     ]
    }
   ],
   "source": [
    "data, labels = read_imdb_data()\n",
    "print(\"IMDB reviews: train = {} pos / {} neg, test = {} pos / {} neg\".format(\n",
    "            len(data['train']['pos']), len(data['train']['neg']),\n",
    "            len(data['test']['pos']), len(data['test']['neg'])))"
   ]
  },
  {
   "cell_type": "code",
   "execution_count": 4,
   "metadata": {},
   "outputs": [],
   "source": [
    "from sklearn.utils import shuffle\n",
    "\n",
    "def prepare_imdb_data(data, labels):\n",
    "    \"\"\"Prepare training and test sets from IMDb movie reviews.\"\"\"\n",
    "    \n",
    "    #Combine positive and negative reviews and labels\n",
    "    data_train = data['train']['pos'] + data['train']['neg']\n",
    "    data_test = data['test']['pos'] + data['test']['neg']\n",
    "    labels_train = labels['train']['pos'] + labels['train']['neg']\n",
    "    labels_test = labels['test']['pos'] + labels['test']['neg']\n",
    "    \n",
    "    #Shuffle reviews and corresponding labels within training and test sets\n",
    "    data_train, labels_train = shuffle(data_train, labels_train)\n",
    "    data_test, labels_test = shuffle(data_test, labels_test)\n",
    "    \n",
    "    # Return a unified training data, test data, training labels, test labets\n",
    "    return data_train, data_test, labels_train, labels_test"
   ]
  },
  {
   "cell_type": "code",
   "execution_count": 5,
   "metadata": {},
   "outputs": [
    {
     "name": "stdout",
     "output_type": "stream",
     "text": [
      "IMDb reviews (combined): train = 25000, test = 25000\n"
     ]
    }
   ],
   "source": [
    "train_X, test_X, train_y, test_y = prepare_imdb_data(data, labels)\n",
    "print(\"IMDb reviews (combined): train = {}, test = {}\".format(len(train_X), len(test_X)))"
   ]
  },
  {
   "cell_type": "code",
   "execution_count": 6,
   "metadata": {},
   "outputs": [
    {
     "data": {
      "text/plain": [
       "\"The problem with this movie is that it is shot on the worst possible camera and the film is blurry and grainy. Maybe it's just the fact that whoever was holding the camera couldn't hold still because they were having a seizure or something. There is also way too much poop and vomit in this movie. There is someone vomiting every twenty minutes and it makes me think that this was made by some bulimic or something. It was disgusting. Then there is the annoying high pitched screaming that goes on and on and on and doesn't stop until the credits roll. I also didn't like when all her friends were being shot (or not I don't know)and she goes in the van and puts band aids on. That was just really really stupid to even have that in a movie. How much gas can a person siphon to get a van going? It must be a whole lot because they don't run out of gas for the rest of the movie. It was a terrible movie and I would highly suggest not ever seeing it in your whole entire life.\""
      ]
     },
     "execution_count": 6,
     "metadata": {},
     "output_type": "execute_result"
    }
   ],
   "source": [
    "train_X[100]"
   ]
  },
  {
   "cell_type": "markdown",
   "metadata": {},
   "source": [
    "## Processing the data\n",
    "\n",
    "Now that we have our training and testing datasets merged and ready to use, we need to start processing the raw data into something that will be useable by our machine learning algorithm. To begin with, we remove any html formatting and any non-alpha numeric characters that may appear in the reviews. We will do this in a very simplistic way using Python's regular expression module. We will discuss the reason for this rather simplistic pre-processing later on."
   ]
  },
  {
   "cell_type": "code",
   "execution_count": 7,
   "metadata": {},
   "outputs": [],
   "source": [
    "import re\n",
    "\n",
    "REPLACE_NO_SPACE = re.compile(\"(\\.)|(\\;)|(\\:)|(\\!)|(\\')|(\\?)|(\\,)|(\\\")|(\\()|(\\))|(\\[)|(\\])\")\n",
    "REPLACE_WITH_SPACE = re.compile(\"(<br\\s*/><br\\s*/>)|(\\-)|(\\/)\")\n",
    "\n",
    "def review_to_words(review):\n",
    "    words = REPLACE_NO_SPACE.sub(\"\", review.lower())\n",
    "    words = REPLACE_WITH_SPACE.sub(\" \", words)\n",
    "    return words"
   ]
  },
  {
   "cell_type": "code",
   "execution_count": 8,
   "metadata": {},
   "outputs": [
    {
     "data": {
      "text/plain": [
       "'the problem with this movie is that it is shot on the worst possible camera and the film is blurry and grainy maybe its just the fact that whoever was holding the camera couldnt hold still because they were having a seizure or something there is also way too much poop and vomit in this movie there is someone vomiting every twenty minutes and it makes me think that this was made by some bulimic or something it was disgusting then there is the annoying high pitched screaming that goes on and on and on and doesnt stop until the credits roll i also didnt like when all her friends were being shot or not i dont knowand she goes in the van and puts band aids on that was just really really stupid to even have that in a movie how much gas can a person siphon to get a van going it must be a whole lot because they dont run out of gas for the rest of the movie it was a terrible movie and i would highly suggest not ever seeing it in your whole entire life'"
      ]
     },
     "execution_count": 8,
     "metadata": {},
     "output_type": "execute_result"
    }
   ],
   "source": [
    "review_to_words(train_X[100])"
   ]
  },
  {
   "cell_type": "code",
   "execution_count": 9,
   "metadata": {},
   "outputs": [],
   "source": [
    "import pickle\n",
    "\n",
    "cache_dir = os.path.join(\"../cache\", \"sentiment_web_app\")  # where to store cache files\n",
    "os.makedirs(cache_dir, exist_ok=True)  # ensure cache directory exists\n",
    "\n",
    "def preprocess_data(data_train, data_test, labels_train, labels_test,\n",
    "                    cache_dir=cache_dir, cache_file=\"preprocessed_data.pkl\"):\n",
    "    \"\"\"Convert each review to words; read from cache if available.\"\"\"\n",
    "\n",
    "    # If cache_file is not None, try to read from it first\n",
    "    cache_data = None\n",
    "    if cache_file is not None:\n",
    "        try:\n",
    "            with open(os.path.join(cache_dir, cache_file), \"rb\") as f:\n",
    "                cache_data = pickle.load(f)\n",
    "            print(\"Read preprocessed data from cache file:\", cache_file)\n",
    "        except:\n",
    "            pass  # unable to read from cache, but that's okay\n",
    "    \n",
    "    # If cache is missing, then do the heavy lifting\n",
    "    if cache_data is None:\n",
    "        # Preprocess training and test data to obtain words for each review\n",
    "        #words_train = list(map(review_to_words, data_train))\n",
    "        #words_test = list(map(review_to_words, data_test))\n",
    "        words_train = [review_to_words(review) for review in data_train]\n",
    "        words_test = [review_to_words(review) for review in data_test]\n",
    "        \n",
    "        # Write to cache file for future runs\n",
    "        if cache_file is not None:\n",
    "            cache_data = dict(words_train=words_train, words_test=words_test,\n",
    "                              labels_train=labels_train, labels_test=labels_test)\n",
    "            with open(os.path.join(cache_dir, cache_file), \"wb\") as f:\n",
    "                pickle.dump(cache_data, f)\n",
    "            print(\"Wrote preprocessed data to cache file:\", cache_file)\n",
    "    else:\n",
    "        # Unpack data loaded from cache file\n",
    "        words_train, words_test, labels_train, labels_test = (cache_data['words_train'],\n",
    "                cache_data['words_test'], cache_data['labels_train'], cache_data['labels_test'])\n",
    "    \n",
    "    return words_train, words_test, labels_train, labels_test"
   ]
  },
  {
   "cell_type": "code",
   "execution_count": 10,
   "metadata": {},
   "outputs": [
    {
     "name": "stdout",
     "output_type": "stream",
     "text": [
      "Read preprocessed data from cache file: preprocessed_data.pkl\n"
     ]
    }
   ],
   "source": [
    "# Preprocess data\n",
    "train_X, test_X, train_y, test_y = preprocess_data(train_X, test_X, train_y, test_y)"
   ]
  },
  {
   "cell_type": "markdown",
   "metadata": {},
   "source": [
    "### Extract Bag-of-Words features\n",
    "\n",
    "For the model we will be implementing, rather than using the reviews directly, we are going to transform each review into a Bag-of-Words feature representation. Keep in mind that 'in the wild' we will only have access to the training set so our transformer can only use the training set to construct a representation."
   ]
  },
  {
   "cell_type": "code",
   "execution_count": 11,
   "metadata": {},
   "outputs": [
    {
     "name": "stderr",
     "output_type": "stream",
     "text": [
      "/home/ec2-user/anaconda3/envs/python3/lib/python3.6/site-packages/sklearn/externals/joblib/__init__.py:15: FutureWarning: sklearn.externals.joblib is deprecated in 0.21 and will be removed in 0.23. Please import this functionality directly from joblib, which can be installed with: pip install joblib. If this warning is raised when loading pickled models, you may need to re-serialize those models with scikit-learn 0.21+.\n",
      "  warnings.warn(msg, category=FutureWarning)\n"
     ]
    }
   ],
   "source": [
    "import numpy as np\n",
    "from sklearn.feature_extraction.text import CountVectorizer\n",
    "from sklearn.externals import joblib\n",
    "# joblib is an enhanced version of pickle that is more efficient for storing NumPy arrays\n",
    "\n",
    "def extract_BoW_features(words_train, words_test, vocabulary_size=5000,\n",
    "                         cache_dir=cache_dir, cache_file=\"bow_features.pkl\"):\n",
    "    \"\"\"Extract Bag-of-Words for a given set of documents, already preprocessed into words.\"\"\"\n",
    "    \n",
    "    # If cache_file is not None, try to read from it first\n",
    "    cache_data = None\n",
    "    if cache_file is not None:\n",
    "        try:\n",
    "            with open(os.path.join(cache_dir, cache_file), \"rb\") as f:\n",
    "                cache_data = joblib.load(f)\n",
    "            print(\"Read features from cache file:\", cache_file)\n",
    "        except:\n",
    "            pass  # unable to read from cache, but that's okay\n",
    "    \n",
    "    # If cache is missing, then do the heavy lifting\n",
    "    if cache_data is None:\n",
    "        # Fit a vectorizer to training documents and use it to transform them\n",
    "        # NOTE: Training documents have already been preprocessed and tokenized into words;\n",
    "        #       pass in dummy functions to skip those steps, e.g. preprocessor=lambda x: x\n",
    "        vectorizer = CountVectorizer(max_features=vocabulary_size)\n",
    "        features_train = vectorizer.fit_transform(words_train).toarray()\n",
    "\n",
    "        # Apply the same vectorizer to transform the test documents (ignore unknown words)\n",
    "        features_test = vectorizer.transform(words_test).toarray()\n",
    "        \n",
    "        # NOTE: Remember to convert the features using .toarray() for a compact representation\n",
    "        \n",
    "        # Write to cache file for future runs (store vocabulary as well)\n",
    "        if cache_file is not None:\n",
    "            vocabulary = vectorizer.vocabulary_\n",
    "            cache_data = dict(features_train=features_train, features_test=features_test,\n",
    "                             vocabulary=vocabulary)\n",
    "            with open(os.path.join(cache_dir, cache_file), \"wb\") as f:\n",
    "                joblib.dump(cache_data, f)\n",
    "            print(\"Wrote features to cache file:\", cache_file)\n",
    "    else:\n",
    "        # Unpack data loaded from cache file\n",
    "        features_train, features_test, vocabulary = (cache_data['features_train'],\n",
    "                cache_data['features_test'], cache_data['vocabulary'])\n",
    "    \n",
    "    # Return both the extracted features as well as the vocabulary\n",
    "    return features_train, features_test, vocabulary"
   ]
  },
  {
   "cell_type": "code",
   "execution_count": 12,
   "metadata": {},
   "outputs": [
    {
     "name": "stdout",
     "output_type": "stream",
     "text": [
      "Read features from cache file: bow_features.pkl\n"
     ]
    }
   ],
   "source": [
    "# Extract Bag of Words features for both training and test datasets\n",
    "train_X, test_X, vocabulary = extract_BoW_features(train_X, test_X)"
   ]
  },
  {
   "cell_type": "code",
   "execution_count": 13,
   "metadata": {},
   "outputs": [
    {
     "data": {
      "text/plain": [
       "5000"
      ]
     },
     "execution_count": 13,
     "metadata": {},
     "output_type": "execute_result"
    }
   ],
   "source": [
    "len(train_X[100])"
   ]
  },
  {
   "cell_type": "markdown",
   "metadata": {},
   "source": [
    "## Step 3: Upload data to S3\n",
    "\n",
    "Now that we have created the feature representation of our training (and testing) data, it is time to start setting up and using the XGBoost classifier provided by SageMaker.\n",
    "\n",
    "### Writing the datasets\n",
    "\n",
    "The XGBoost classifier that we will be using requires the dataset to be written to a file and stored using Amazon S3. To do this, we will start by splitting the training dataset into two parts, the data we will train the model with and a validation set. Then, we will write those datasets to a file locally and then upload the files to S3. In addition, we will write the test set to a file and upload that file to S3. This is so that we can use SageMakers Batch Transform functionality to test our model once we've fit it."
   ]
  },
  {
   "cell_type": "code",
   "execution_count": 14,
   "metadata": {},
   "outputs": [],
   "source": [
    "import pandas as pd\n",
    "\n",
    "# Earlier we shuffled the training dataset so to make things simple we can just assign\n",
    "# the first 10 000 reviews to the validation set and use the remaining reviews for training.\n",
    "val_X = pd.DataFrame(train_X[:10000])\n",
    "train_X = pd.DataFrame(train_X[10000:])\n",
    "\n",
    "val_y = pd.DataFrame(train_y[:10000])\n",
    "train_y = pd.DataFrame(train_y[10000:])"
   ]
  },
  {
   "cell_type": "markdown",
   "metadata": {},
   "source": [
    "The documentation for the XGBoost algorithm in SageMaker requires that the training and validation datasets should contain no headers or index and that the label should occur first for each sample.\n",
    "\n",
    "For more information about this and other algorithms, the SageMaker developer documentation can be found on __[Amazon's website.](https://docs.aws.amazon.com/sagemaker/latest/dg/)__"
   ]
  },
  {
   "cell_type": "code",
   "execution_count": 15,
   "metadata": {},
   "outputs": [],
   "source": [
    "# First we make sure that the local directory in which we'd like to store the training and validation csv files exists.\n",
    "data_dir = '../data/sentiment_web_app'\n",
    "if not os.path.exists(data_dir):\n",
    "    os.makedirs(data_dir)"
   ]
  },
  {
   "cell_type": "code",
   "execution_count": 16,
   "metadata": {},
   "outputs": [],
   "source": [
    "pd.DataFrame(test_X).to_csv(os.path.join(data_dir, 'test.csv'), header=False, index=False)\n",
    "\n",
    "pd.concat([val_y, val_X], axis=1).to_csv(os.path.join(data_dir, 'validation.csv'), header=False, index=False)\n",
    "pd.concat([train_y, train_X], axis=1).to_csv(os.path.join(data_dir, 'train.csv'), header=False, index=False)"
   ]
  },
  {
   "cell_type": "code",
   "execution_count": 17,
   "metadata": {},
   "outputs": [],
   "source": [
    "# To save a bit of memory we can set text_X, train_X, val_X, train_y and val_y to None.\n",
    "\n",
    "test_X = train_X = val_X = train_y = val_y = None"
   ]
  },
  {
   "cell_type": "markdown",
   "metadata": {},
   "source": [
    "### Uploading Training / Validation files to S3\n",
    "\n",
    "Amazon's S3 service allows us to store files that can be accessed by both the built-in training models such as the XGBoost model we will be using as well as custom models such as the one we will see a little later.\n",
    "\n",
    "For this and most other tasks we will be doing using SageMaker, there are two methods we could use. The first is to use the low level functionality of SageMaker which requires knowing each of the objects involved in the SageMaker environment. The second is to use the high level functionality in which certain choices have been made on the user's behalf. The low level approach benefits from allowing the user a great deal of flexibility while the high level approach makes development much quicker. For our purposes we will opt to use the high level approach although using the low-level approach is certainly an option.\n",
    "\n",
    "Recall the method `upload_data()` which is a member of the object representing our current SageMaker session. What this method does is upload the data to the default bucket (which is created if it does not exist) into the path described by the key_prefix variable. To see this for yourself, once you have uploaded the data files, go to the S3 console and look to see where the files have been uploaded.\n",
    "\n",
    "For additional resources, see the __[SageMaker API documentation](http://sagemaker.readthedocs.io/en/latest/)__ and in addition the __[SageMaker Developer Guide.](https://docs.aws.amazon.com/sagemaker/latest/dg/)__"
   ]
  },
  {
   "cell_type": "code",
   "execution_count": 18,
   "metadata": {},
   "outputs": [],
   "source": [
    "import sagemaker\n",
    "\n",
    "session = sagemaker.Session() # Store the current SageMaker session\n",
    "\n",
    "# S3 prefix (which folder will we use)\n",
    "prefix = 'sentiment-web-app'\n",
    "\n",
    "test_location = session.upload_data(os.path.join(data_dir, 'test.csv'), key_prefix=prefix)\n",
    "val_location = session.upload_data(os.path.join(data_dir, 'validation.csv'), key_prefix=prefix)\n",
    "train_location = session.upload_data(os.path.join(data_dir, 'train.csv'), key_prefix=prefix)"
   ]
  },
  {
   "cell_type": "markdown",
   "metadata": {},
   "source": [
    "## Step 4: Creating the XGBoost model\n",
    "\n",
    "Now that the data has been uploaded it is time to create the XGBoost model. To begin with, we need to do some setup. At this point it is worth discussing what a model is in SageMaker. It is easiest to think of a model of comprising three different objects in the SageMaker ecosystem, which interact with one another.\n",
    "\n",
    "- Model Artifacts\n",
    "- Training Code (Container)\n",
    "- Inference Code (Container)\n",
    "\n",
    "The Model Artifacts are what you might think of as the actual model itself. For example, if you were building a neural network, the model artifacts would be the weights of the various layers. In our case, for an XGBoost model, the artifacts are the actual trees that are created during training.\n",
    "\n",
    "The other two objects, the training code and the inference code are then used to manipulate the training artifacts. More precisely, the training code uses the training data that is provided and creates the model artifacts, while the inference code uses the model artifacts to make predictions on new data.\n",
    "\n",
    "The way that SageMaker runs the training and inference code is by making use of Docker containers. For now, think of a container as being a way of packaging code up so that dependencies aren't an issue."
   ]
  },
  {
   "cell_type": "code",
   "execution_count": 19,
   "metadata": {},
   "outputs": [],
   "source": [
    "from sagemaker import get_execution_role\n",
    "\n",
    "# Our current execution role is required when creating the model as the training\n",
    "# and inference code will need to access the model artifacts.\n",
    "role = get_execution_role()"
   ]
  },
  {
   "cell_type": "code",
   "execution_count": 20,
   "metadata": {},
   "outputs": [
    {
     "name": "stderr",
     "output_type": "stream",
     "text": [
      "'get_image_uri' method will be deprecated in favor of 'ImageURIProvider' class in SageMaker Python SDK v2.\n",
      "WARNING:root:There is a more up to date SageMaker XGBoost image. To use the newer image, please set 'repo_version'='1.0-1'. For example:\n",
      "\tget_image_uri(region, 'xgboost', '1.0-1').\n"
     ]
    }
   ],
   "source": [
    "# We need to retrieve the location of the container which is provided by Amazon for using XGBoost.\n",
    "# As a matter of convenience, the training and inference code both use the same container.\n",
    "from sagemaker.amazon.amazon_estimator import get_image_uri\n",
    "\n",
    "container = get_image_uri(session.boto_region_name, 'xgboost')"
   ]
  },
  {
   "cell_type": "code",
   "execution_count": 21,
   "metadata": {},
   "outputs": [
    {
     "name": "stderr",
     "output_type": "stream",
     "text": [
      "WARNING:root:Parameter image_name will be renamed to image_uri in SageMaker Python SDK v2.\n"
     ]
    }
   ],
   "source": [
    "# First we create a SageMaker estimator object for our model.\n",
    "xgb = sagemaker.estimator.Estimator(container, # The location of the container we wish to use\n",
    "                                    role,                                    # What is our current IAM Role\n",
    "                                    train_instance_count=1,                  # How many compute instances\n",
    "                                    train_instance_type='ml.m4.xlarge',      # What kind of compute instances\n",
    "                                    output_path='s3://{}/{}/output'.format(session.default_bucket(), prefix),\n",
    "                                    sagemaker_session=session)\n",
    "\n",
    "# And then set the algorithm specific parameters.\n",
    "xgb.set_hyperparameters(max_depth=5,\n",
    "                        eta=0.2,\n",
    "                        gamma=4,\n",
    "                        min_child_weight=6,\n",
    "                        subsample=0.8,\n",
    "                        silent=0,\n",
    "                        objective='binary:logistic',\n",
    "                        early_stopping_rounds=10,\n",
    "                        num_round=500)"
   ]
  },
  {
   "cell_type": "markdown",
   "metadata": {},
   "source": [
    "### Fit the XGBoost model\n",
    "\n",
    "Now that our model has been set up we simply need to attach the training and validation datasets and then ask SageMaker to set up the computation."
   ]
  },
  {
   "cell_type": "code",
   "execution_count": 22,
   "metadata": {},
   "outputs": [
    {
     "name": "stderr",
     "output_type": "stream",
     "text": [
      "WARNING:sagemaker:'s3_input' class will be renamed to 'TrainingInput' in SageMaker Python SDK v2.\n",
      "WARNING:sagemaker:'s3_input' class will be renamed to 'TrainingInput' in SageMaker Python SDK v2.\n"
     ]
    }
   ],
   "source": [
    "s3_input_train = sagemaker.s3_input(s3_data=train_location, content_type='csv')\n",
    "s3_input_validation = sagemaker.s3_input(s3_data=val_location, content_type='csv')"
   ]
  },
  {
   "cell_type": "code",
   "execution_count": 23,
   "metadata": {},
   "outputs": [
    {
     "name": "stdout",
     "output_type": "stream",
     "text": [
      "2020-07-21 15:28:31 Starting - Starting the training job...\n",
      "2020-07-21 15:28:33 Starting - Launching requested ML instances......\n",
      "2020-07-21 15:29:40 Starting - Preparing the instances for training...\n",
      "2020-07-21 15:30:30 Downloading - Downloading input data...\n",
      "2020-07-21 15:30:44 Training - Downloading the training image.\u001b[34mArguments: train\u001b[0m\n",
      "\u001b[34m[2020-07-21:15:31:05:INFO] Running standalone xgboost training.\u001b[0m\n",
      "\u001b[34m[2020-07-21:15:31:05:INFO] File size need to be processed in the node: 238.5mb. Available memory size in the node: 8478.83mb\u001b[0m\n",
      "\u001b[34m[2020-07-21:15:31:05:INFO] Determined delimiter of CSV input is ','\u001b[0m\n",
      "\u001b[34m[15:31:05] S3DistributionType set as FullyReplicated\u001b[0m\n",
      "\u001b[34m[15:31:07] 15000x5000 matrix with 75000000 entries loaded from /opt/ml/input/data/train?format=csv&label_column=0&delimiter=,\u001b[0m\n",
      "\u001b[34m[2020-07-21:15:31:07:INFO] Determined delimiter of CSV input is ','\u001b[0m\n",
      "\u001b[34m[15:31:07] S3DistributionType set as FullyReplicated\u001b[0m\n",
      "\u001b[34m[15:31:08] 10000x5000 matrix with 50000000 entries loaded from /opt/ml/input/data/validation?format=csv&label_column=0&delimiter=,\u001b[0m\n",
      "\u001b[34m[15:31:12] src/tree/updater_prune.cc:74: tree pruning end, 1 roots, 42 extra nodes, 6 pruned nodes, max_depth=5\u001b[0m\n",
      "\u001b[34m[0]#011train-error:0.306333#011validation-error:0.3099\u001b[0m\n",
      "\u001b[34mMultiple eval metrics have been passed: 'validation-error' will be used for early stopping.\n",
      "\u001b[0m\n",
      "\u001b[34mWill train until validation-error hasn't improved in 10 rounds.\u001b[0m\n",
      "\u001b[34m[15:31:13] src/tree/updater_prune.cc:74: tree pruning end, 1 roots, 38 extra nodes, 6 pruned nodes, max_depth=5\u001b[0m\n",
      "\u001b[34m[1]#011train-error:0.3042#011validation-error:0.3047\u001b[0m\n",
      "\u001b[34m[15:31:14] src/tree/updater_prune.cc:74: tree pruning end, 1 roots, 42 extra nodes, 6 pruned nodes, max_depth=5\u001b[0m\n",
      "\u001b[34m[2]#011train-error:0.290867#011validation-error:0.292\u001b[0m\n",
      "\u001b[34m[15:31:15] src/tree/updater_prune.cc:74: tree pruning end, 1 roots, 34 extra nodes, 10 pruned nodes, max_depth=5\u001b[0m\n",
      "\u001b[34m[3]#011train-error:0.2894#011validation-error:0.2923\u001b[0m\n",
      "\n",
      "2020-07-21 15:31:04 Training - Training image download completed. Training in progress.\u001b[34m[15:31:17] src/tree/updater_prune.cc:74: tree pruning end, 1 roots, 32 extra nodes, 6 pruned nodes, max_depth=5\u001b[0m\n",
      "\u001b[34m[4]#011train-error:0.265333#011validation-error:0.2688\u001b[0m\n",
      "\u001b[34m[15:31:18] src/tree/updater_prune.cc:74: tree pruning end, 1 roots, 32 extra nodes, 6 pruned nodes, max_depth=5\u001b[0m\n",
      "\u001b[34m[5]#011train-error:0.2572#011validation-error:0.2636\u001b[0m\n",
      "\u001b[34m[15:31:20] src/tree/updater_prune.cc:74: tree pruning end, 1 roots, 30 extra nodes, 14 pruned nodes, max_depth=5\u001b[0m\n",
      "\u001b[34m[6]#011train-error:0.249067#011validation-error:0.2576\u001b[0m\n",
      "\u001b[34m[15:31:21] src/tree/updater_prune.cc:74: tree pruning end, 1 roots, 30 extra nodes, 4 pruned nodes, max_depth=5\u001b[0m\n",
      "\u001b[34m[7]#011train-error:0.242333#011validation-error:0.2497\u001b[0m\n",
      "\u001b[34m[15:31:22] src/tree/updater_prune.cc:74: tree pruning end, 1 roots, 30 extra nodes, 4 pruned nodes, max_depth=5\u001b[0m\n",
      "\u001b[34m[8]#011train-error:0.240067#011validation-error:0.2458\u001b[0m\n",
      "\u001b[34m[15:31:24] src/tree/updater_prune.cc:74: tree pruning end, 1 roots, 28 extra nodes, 8 pruned nodes, max_depth=5\u001b[0m\n",
      "\u001b[34m[9]#011train-error:0.235267#011validation-error:0.2426\u001b[0m\n",
      "\u001b[34m[15:31:25] src/tree/updater_prune.cc:74: tree pruning end, 1 roots, 38 extra nodes, 6 pruned nodes, max_depth=5\u001b[0m\n",
      "\u001b[34m[10]#011train-error:0.227533#011validation-error:0.2327\u001b[0m\n",
      "\u001b[34m[15:31:26] src/tree/updater_prune.cc:74: tree pruning end, 1 roots, 30 extra nodes, 6 pruned nodes, max_depth=5\u001b[0m\n",
      "\u001b[34m[11]#011train-error:0.223667#011validation-error:0.2304\u001b[0m\n",
      "\u001b[34m[15:31:27] src/tree/updater_prune.cc:74: tree pruning end, 1 roots, 40 extra nodes, 2 pruned nodes, max_depth=5\u001b[0m\n",
      "\u001b[34m[12]#011train-error:0.219467#011validation-error:0.2261\u001b[0m\n",
      "\u001b[34m[15:31:29] src/tree/updater_prune.cc:74: tree pruning end, 1 roots, 28 extra nodes, 6 pruned nodes, max_depth=5\u001b[0m\n",
      "\u001b[34m[13]#011train-error:0.2164#011validation-error:0.2227\u001b[0m\n",
      "\u001b[34m[15:31:30] src/tree/updater_prune.cc:74: tree pruning end, 1 roots, 34 extra nodes, 4 pruned nodes, max_depth=5\u001b[0m\n",
      "\u001b[34m[14]#011train-error:0.210267#011validation-error:0.2197\u001b[0m\n",
      "\u001b[34m[15:31:31] src/tree/updater_prune.cc:74: tree pruning end, 1 roots, 24 extra nodes, 10 pruned nodes, max_depth=5\u001b[0m\n",
      "\u001b[34m[15]#011train-error:0.204467#011validation-error:0.2165\u001b[0m\n",
      "\u001b[34m[15:31:32] src/tree/updater_prune.cc:74: tree pruning end, 1 roots, 36 extra nodes, 8 pruned nodes, max_depth=5\u001b[0m\n",
      "\u001b[34m[16]#011train-error:0.201067#011validation-error:0.213\u001b[0m\n",
      "\u001b[34m[15:31:34] src/tree/updater_prune.cc:74: tree pruning end, 1 roots, 26 extra nodes, 10 pruned nodes, max_depth=5\u001b[0m\n",
      "\u001b[34m[17]#011train-error:0.197667#011validation-error:0.2131\u001b[0m\n",
      "\u001b[34m[15:31:35] src/tree/updater_prune.cc:74: tree pruning end, 1 roots, 38 extra nodes, 4 pruned nodes, max_depth=5\u001b[0m\n",
      "\u001b[34m[18]#011train-error:0.194333#011validation-error:0.2098\u001b[0m\n",
      "\u001b[34m[15:31:36] src/tree/updater_prune.cc:74: tree pruning end, 1 roots, 24 extra nodes, 14 pruned nodes, max_depth=5\u001b[0m\n",
      "\u001b[34m[19]#011train-error:0.191733#011validation-error:0.2069\u001b[0m\n",
      "\u001b[34m[15:31:38] src/tree/updater_prune.cc:74: tree pruning end, 1 roots, 30 extra nodes, 8 pruned nodes, max_depth=5\u001b[0m\n",
      "\u001b[34m[20]#011train-error:0.1886#011validation-error:0.2067\u001b[0m\n",
      "\u001b[34m[15:31:39] src/tree/updater_prune.cc:74: tree pruning end, 1 roots, 32 extra nodes, 4 pruned nodes, max_depth=5\u001b[0m\n",
      "\u001b[34m[21]#011train-error:0.186733#011validation-error:0.205\u001b[0m\n",
      "\u001b[34m[15:31:40] src/tree/updater_prune.cc:74: tree pruning end, 1 roots, 28 extra nodes, 6 pruned nodes, max_depth=5\u001b[0m\n",
      "\u001b[34m[22]#011train-error:0.184#011validation-error:0.2022\u001b[0m\n",
      "\u001b[34m[15:31:41] src/tree/updater_prune.cc:74: tree pruning end, 1 roots, 18 extra nodes, 8 pruned nodes, max_depth=5\u001b[0m\n",
      "\u001b[34m[23]#011train-error:0.182933#011validation-error:0.2012\u001b[0m\n",
      "\u001b[34m[15:31:43] src/tree/updater_prune.cc:74: tree pruning end, 1 roots, 24 extra nodes, 10 pruned nodes, max_depth=5\u001b[0m\n",
      "\u001b[34m[24]#011train-error:0.1812#011validation-error:0.1997\u001b[0m\n",
      "\u001b[34m[15:31:44] src/tree/updater_prune.cc:74: tree pruning end, 1 roots, 28 extra nodes, 6 pruned nodes, max_depth=5\u001b[0m\n",
      "\u001b[34m[25]#011train-error:0.179333#011validation-error:0.1987\u001b[0m\n",
      "\u001b[34m[15:31:45] src/tree/updater_prune.cc:74: tree pruning end, 1 roots, 18 extra nodes, 8 pruned nodes, max_depth=5\u001b[0m\n",
      "\u001b[34m[26]#011train-error:0.177733#011validation-error:0.1978\u001b[0m\n",
      "\u001b[34m[15:31:47] src/tree/updater_prune.cc:74: tree pruning end, 1 roots, 28 extra nodes, 6 pruned nodes, max_depth=5\u001b[0m\n",
      "\u001b[34m[27]#011train-error:0.1756#011validation-error:0.196\u001b[0m\n",
      "\u001b[34m[15:31:48] src/tree/updater_prune.cc:74: tree pruning end, 1 roots, 28 extra nodes, 12 pruned nodes, max_depth=5\u001b[0m\n",
      "\u001b[34m[28]#011train-error:0.173333#011validation-error:0.1936\u001b[0m\n",
      "\u001b[34m[15:31:49] src/tree/updater_prune.cc:74: tree pruning end, 1 roots, 14 extra nodes, 8 pruned nodes, max_depth=5\u001b[0m\n",
      "\u001b[34m[29]#011train-error:0.1722#011validation-error:0.1913\u001b[0m\n",
      "\u001b[34m[15:31:50] src/tree/updater_prune.cc:74: tree pruning end, 1 roots, 26 extra nodes, 10 pruned nodes, max_depth=5\u001b[0m\n",
      "\u001b[34m[30]#011train-error:0.1714#011validation-error:0.1909\u001b[0m\n",
      "\u001b[34m[15:31:52] src/tree/updater_prune.cc:74: tree pruning end, 1 roots, 22 extra nodes, 6 pruned nodes, max_depth=5\u001b[0m\n",
      "\u001b[34m[31]#011train-error:0.168733#011validation-error:0.1871\u001b[0m\n",
      "\u001b[34m[15:31:53] src/tree/updater_prune.cc:74: tree pruning end, 1 roots, 42 extra nodes, 10 pruned nodes, max_depth=5\u001b[0m\n",
      "\u001b[34m[32]#011train-error:0.164533#011validation-error:0.1881\u001b[0m\n",
      "\u001b[34m[15:31:54] src/tree/updater_prune.cc:74: tree pruning end, 1 roots, 32 extra nodes, 4 pruned nodes, max_depth=5\u001b[0m\n",
      "\u001b[34m[33]#011train-error:0.161733#011validation-error:0.187\u001b[0m\n",
      "\u001b[34m[15:31:56] src/tree/updater_prune.cc:74: tree pruning end, 1 roots, 20 extra nodes, 12 pruned nodes, max_depth=5\u001b[0m\n",
      "\u001b[34m[34]#011train-error:0.160467#011validation-error:0.186\u001b[0m\n",
      "\u001b[34m[15:31:57] src/tree/updater_prune.cc:74: tree pruning end, 1 roots, 20 extra nodes, 10 pruned nodes, max_depth=5\u001b[0m\n",
      "\u001b[34m[35]#011train-error:0.159267#011validation-error:0.1856\u001b[0m\n",
      "\u001b[34m[15:31:58] src/tree/updater_prune.cc:74: tree pruning end, 1 roots, 36 extra nodes, 4 pruned nodes, max_depth=5\u001b[0m\n",
      "\u001b[34m[36]#011train-error:0.157867#011validation-error:0.1839\u001b[0m\n",
      "\u001b[34m[15:31:59] src/tree/updater_prune.cc:74: tree pruning end, 1 roots, 18 extra nodes, 10 pruned nodes, max_depth=5\u001b[0m\n",
      "\u001b[34m[37]#011train-error:0.1572#011validation-error:0.1823\u001b[0m\n",
      "\u001b[34m[15:32:01] src/tree/updater_prune.cc:74: tree pruning end, 1 roots, 36 extra nodes, 6 pruned nodes, max_depth=5\u001b[0m\n",
      "\u001b[34m[38]#011train-error:0.156133#011validation-error:0.1812\u001b[0m\n",
      "\u001b[34m[15:32:02] src/tree/updater_prune.cc:74: tree pruning end, 1 roots, 20 extra nodes, 14 pruned nodes, max_depth=5\u001b[0m\n",
      "\u001b[34m[39]#011train-error:0.154267#011validation-error:0.1824\u001b[0m\n",
      "\u001b[34m[15:32:03] src/tree/updater_prune.cc:74: tree pruning end, 1 roots, 28 extra nodes, 6 pruned nodes, max_depth=5\u001b[0m\n",
      "\u001b[34m[40]#011train-error:0.1534#011validation-error:0.1808\u001b[0m\n",
      "\u001b[34m[15:32:04] src/tree/updater_prune.cc:74: tree pruning end, 1 roots, 16 extra nodes, 12 pruned nodes, max_depth=5\u001b[0m\n",
      "\u001b[34m[41]#011train-error:0.153133#011validation-error:0.1806\u001b[0m\n",
      "\u001b[34m[15:32:06] src/tree/updater_prune.cc:74: tree pruning end, 1 roots, 26 extra nodes, 4 pruned nodes, max_depth=5\u001b[0m\n",
      "\u001b[34m[42]#011train-error:0.1504#011validation-error:0.1807\u001b[0m\n",
      "\u001b[34m[15:32:07] src/tree/updater_prune.cc:74: tree pruning end, 1 roots, 38 extra nodes, 4 pruned nodes, max_depth=5\u001b[0m\n",
      "\u001b[34m[43]#011train-error:0.148133#011validation-error:0.1795\u001b[0m\n"
     ]
    },
    {
     "name": "stdout",
     "output_type": "stream",
     "text": [
      "\u001b[34m[15:32:08] src/tree/updater_prune.cc:74: tree pruning end, 1 roots, 20 extra nodes, 6 pruned nodes, max_depth=5\u001b[0m\n",
      "\u001b[34m[44]#011train-error:0.148533#011validation-error:0.1788\u001b[0m\n",
      "\u001b[34m[15:32:10] src/tree/updater_prune.cc:74: tree pruning end, 1 roots, 22 extra nodes, 14 pruned nodes, max_depth=5\u001b[0m\n",
      "\u001b[34m[45]#011train-error:0.146333#011validation-error:0.1782\u001b[0m\n",
      "\u001b[34m[15:32:11] src/tree/updater_prune.cc:74: tree pruning end, 1 roots, 24 extra nodes, 10 pruned nodes, max_depth=5\u001b[0m\n",
      "\u001b[34m[46]#011train-error:0.144933#011validation-error:0.1766\u001b[0m\n",
      "\u001b[34m[15:32:12] src/tree/updater_prune.cc:74: tree pruning end, 1 roots, 20 extra nodes, 14 pruned nodes, max_depth=5\u001b[0m\n",
      "\u001b[34m[47]#011train-error:0.144067#011validation-error:0.1741\u001b[0m\n",
      "\u001b[34m[15:32:13] src/tree/updater_prune.cc:74: tree pruning end, 1 roots, 22 extra nodes, 14 pruned nodes, max_depth=5\u001b[0m\n",
      "\u001b[34m[48]#011train-error:0.143#011validation-error:0.1734\u001b[0m\n",
      "\u001b[34m[15:32:15] src/tree/updater_prune.cc:74: tree pruning end, 1 roots, 30 extra nodes, 8 pruned nodes, max_depth=5\u001b[0m\n",
      "\u001b[34m[49]#011train-error:0.142133#011validation-error:0.1728\u001b[0m\n",
      "\u001b[34m[15:32:16] src/tree/updater_prune.cc:74: tree pruning end, 1 roots, 36 extra nodes, 4 pruned nodes, max_depth=5\u001b[0m\n",
      "\u001b[34m[50]#011train-error:0.1388#011validation-error:0.172\u001b[0m\n",
      "\u001b[34m[15:32:17] src/tree/updater_prune.cc:74: tree pruning end, 1 roots, 12 extra nodes, 12 pruned nodes, max_depth=5\u001b[0m\n",
      "\u001b[34m[51]#011train-error:0.1388#011validation-error:0.1705\u001b[0m\n",
      "\u001b[34m[15:32:18] src/tree/updater_prune.cc:74: tree pruning end, 1 roots, 18 extra nodes, 8 pruned nodes, max_depth=5\u001b[0m\n",
      "\u001b[34m[52]#011train-error:0.137667#011validation-error:0.1702\u001b[0m\n",
      "\u001b[34m[15:32:20] src/tree/updater_prune.cc:74: tree pruning end, 1 roots, 28 extra nodes, 10 pruned nodes, max_depth=5\u001b[0m\n",
      "\u001b[34m[53]#011train-error:0.137333#011validation-error:0.1697\u001b[0m\n",
      "\u001b[34m[15:32:21] src/tree/updater_prune.cc:74: tree pruning end, 1 roots, 28 extra nodes, 10 pruned nodes, max_depth=5\u001b[0m\n",
      "\u001b[34m[54]#011train-error:0.135867#011validation-error:0.1675\u001b[0m\n",
      "\u001b[34m[15:32:22] src/tree/updater_prune.cc:74: tree pruning end, 1 roots, 30 extra nodes, 4 pruned nodes, max_depth=5\u001b[0m\n",
      "\u001b[34m[55]#011train-error:0.133267#011validation-error:0.1672\u001b[0m\n",
      "\u001b[34m[15:32:23] src/tree/updater_prune.cc:74: tree pruning end, 1 roots, 14 extra nodes, 12 pruned nodes, max_depth=5\u001b[0m\n",
      "\u001b[34m[56]#011train-error:0.1326#011validation-error:0.1667\u001b[0m\n",
      "\u001b[34m[15:32:25] src/tree/updater_prune.cc:74: tree pruning end, 1 roots, 14 extra nodes, 10 pruned nodes, max_depth=5\u001b[0m\n",
      "\u001b[34m[57]#011train-error:0.131933#011validation-error:0.1671\u001b[0m\n",
      "\u001b[34m[15:32:26] src/tree/updater_prune.cc:74: tree pruning end, 1 roots, 24 extra nodes, 14 pruned nodes, max_depth=5\u001b[0m\n",
      "\u001b[34m[58]#011train-error:0.132467#011validation-error:0.1663\u001b[0m\n",
      "\u001b[34m[15:32:27] src/tree/updater_prune.cc:74: tree pruning end, 1 roots, 32 extra nodes, 10 pruned nodes, max_depth=5\u001b[0m\n",
      "\u001b[34m[59]#011train-error:0.131#011validation-error:0.1658\u001b[0m\n",
      "\u001b[34m[15:32:29] src/tree/updater_prune.cc:74: tree pruning end, 1 roots, 12 extra nodes, 2 pruned nodes, max_depth=5\u001b[0m\n",
      "\u001b[34m[60]#011train-error:0.1298#011validation-error:0.1655\u001b[0m\n",
      "\u001b[34m[15:32:30] src/tree/updater_prune.cc:74: tree pruning end, 1 roots, 16 extra nodes, 12 pruned nodes, max_depth=5\u001b[0m\n",
      "\u001b[34m[61]#011train-error:0.128267#011validation-error:0.1648\u001b[0m\n",
      "\u001b[34m[15:32:31] src/tree/updater_prune.cc:74: tree pruning end, 1 roots, 24 extra nodes, 8 pruned nodes, max_depth=5\u001b[0m\n",
      "\u001b[34m[62]#011train-error:0.127#011validation-error:0.1652\u001b[0m\n",
      "\u001b[34m[15:32:32] src/tree/updater_prune.cc:74: tree pruning end, 1 roots, 26 extra nodes, 8 pruned nodes, max_depth=5\u001b[0m\n",
      "\u001b[34m[63]#011train-error:0.127133#011validation-error:0.1646\u001b[0m\n",
      "\u001b[34m[15:32:34] src/tree/updater_prune.cc:74: tree pruning end, 1 roots, 18 extra nodes, 8 pruned nodes, max_depth=5\u001b[0m\n",
      "\u001b[34m[64]#011train-error:0.126267#011validation-error:0.1639\u001b[0m\n",
      "\u001b[34m[15:32:35] src/tree/updater_prune.cc:74: tree pruning end, 1 roots, 26 extra nodes, 4 pruned nodes, max_depth=5\u001b[0m\n",
      "\u001b[34m[65]#011train-error:0.124667#011validation-error:0.163\u001b[0m\n",
      "\u001b[34m[15:32:36] src/tree/updater_prune.cc:74: tree pruning end, 1 roots, 22 extra nodes, 6 pruned nodes, max_depth=5\u001b[0m\n",
      "\u001b[34m[66]#011train-error:0.123333#011validation-error:0.1626\u001b[0m\n",
      "\u001b[34m[15:32:37] src/tree/updater_prune.cc:74: tree pruning end, 1 roots, 38 extra nodes, 6 pruned nodes, max_depth=5\u001b[0m\n",
      "\u001b[34m[67]#011train-error:0.1216#011validation-error:0.1636\u001b[0m\n",
      "\u001b[34m[15:32:39] src/tree/updater_prune.cc:74: tree pruning end, 1 roots, 22 extra nodes, 0 pruned nodes, max_depth=5\u001b[0m\n",
      "\u001b[34m[68]#011train-error:0.1214#011validation-error:0.1637\u001b[0m\n",
      "\u001b[34m[15:32:40] src/tree/updater_prune.cc:74: tree pruning end, 1 roots, 26 extra nodes, 8 pruned nodes, max_depth=5\u001b[0m\n",
      "\u001b[34m[69]#011train-error:0.120733#011validation-error:0.1631\u001b[0m\n",
      "\u001b[34m[15:32:41] src/tree/updater_prune.cc:74: tree pruning end, 1 roots, 14 extra nodes, 6 pruned nodes, max_depth=5\u001b[0m\n",
      "\u001b[34m[70]#011train-error:0.120667#011validation-error:0.1618\u001b[0m\n",
      "\u001b[34m[15:32:42] src/tree/updater_prune.cc:74: tree pruning end, 1 roots, 14 extra nodes, 12 pruned nodes, max_depth=5\u001b[0m\n",
      "\u001b[34m[71]#011train-error:0.119333#011validation-error:0.1622\u001b[0m\n",
      "\u001b[34m[15:32:44] src/tree/updater_prune.cc:74: tree pruning end, 1 roots, 16 extra nodes, 6 pruned nodes, max_depth=5\u001b[0m\n",
      "\u001b[34m[72]#011train-error:0.120267#011validation-error:0.1609\u001b[0m\n",
      "\u001b[34m[15:32:45] src/tree/updater_prune.cc:74: tree pruning end, 1 roots, 20 extra nodes, 12 pruned nodes, max_depth=5\u001b[0m\n",
      "\u001b[34m[73]#011train-error:0.118467#011validation-error:0.1611\u001b[0m\n",
      "\u001b[34m[15:32:46] src/tree/updater_prune.cc:74: tree pruning end, 1 roots, 32 extra nodes, 14 pruned nodes, max_depth=5\u001b[0m\n",
      "\u001b[34m[74]#011train-error:0.1176#011validation-error:0.1595\u001b[0m\n",
      "\u001b[34m[15:32:48] src/tree/updater_prune.cc:74: tree pruning end, 1 roots, 22 extra nodes, 4 pruned nodes, max_depth=5\u001b[0m\n",
      "\u001b[34m[75]#011train-error:0.117067#011validation-error:0.1594\u001b[0m\n",
      "\u001b[34m[15:32:49] src/tree/updater_prune.cc:74: tree pruning end, 1 roots, 16 extra nodes, 12 pruned nodes, max_depth=5\u001b[0m\n",
      "\u001b[34m[76]#011train-error:0.1174#011validation-error:0.1591\u001b[0m\n",
      "\u001b[34m[15:32:50] src/tree/updater_prune.cc:74: tree pruning end, 1 roots, 10 extra nodes, 12 pruned nodes, max_depth=5\u001b[0m\n",
      "\u001b[34m[77]#011train-error:0.116333#011validation-error:0.1586\u001b[0m\n",
      "\u001b[34m[15:32:51] src/tree/updater_prune.cc:74: tree pruning end, 1 roots, 14 extra nodes, 14 pruned nodes, max_depth=5\u001b[0m\n",
      "\u001b[34m[78]#011train-error:0.115533#011validation-error:0.1575\u001b[0m\n",
      "\u001b[34m[15:32:53] src/tree/updater_prune.cc:74: tree pruning end, 1 roots, 22 extra nodes, 12 pruned nodes, max_depth=5\u001b[0m\n",
      "\u001b[34m[79]#011train-error:0.114533#011validation-error:0.157\u001b[0m\n",
      "\u001b[34m[15:32:54] src/tree/updater_prune.cc:74: tree pruning end, 1 roots, 16 extra nodes, 8 pruned nodes, max_depth=5\u001b[0m\n",
      "\u001b[34m[80]#011train-error:0.1134#011validation-error:0.1575\u001b[0m\n",
      "\u001b[34m[15:32:55] src/tree/updater_prune.cc:74: tree pruning end, 1 roots, 20 extra nodes, 12 pruned nodes, max_depth=5\u001b[0m\n",
      "\u001b[34m[81]#011train-error:0.1136#011validation-error:0.1555\u001b[0m\n",
      "\u001b[34m[15:32:56] src/tree/updater_prune.cc:74: tree pruning end, 1 roots, 12 extra nodes, 10 pruned nodes, max_depth=5\u001b[0m\n",
      "\u001b[34m[82]#011train-error:0.113733#011validation-error:0.1552\u001b[0m\n",
      "\u001b[34m[15:32:58] src/tree/updater_prune.cc:74: tree pruning end, 1 roots, 18 extra nodes, 2 pruned nodes, max_depth=5\u001b[0m\n",
      "\u001b[34m[83]#011train-error:0.112667#011validation-error:0.1562\u001b[0m\n",
      "\u001b[34m[15:32:59] src/tree/updater_prune.cc:74: tree pruning end, 1 roots, 20 extra nodes, 10 pruned nodes, max_depth=5\u001b[0m\n",
      "\u001b[34m[84]#011train-error:0.1126#011validation-error:0.1558\u001b[0m\n",
      "\u001b[34m[15:33:00] src/tree/updater_prune.cc:74: tree pruning end, 1 roots, 18 extra nodes, 18 pruned nodes, max_depth=5\u001b[0m\n",
      "\u001b[34m[85]#011train-error:0.1116#011validation-error:0.1551\u001b[0m\n",
      "\u001b[34m[15:33:01] src/tree/updater_prune.cc:74: tree pruning end, 1 roots, 10 extra nodes, 4 pruned nodes, max_depth=5\u001b[0m\n",
      "\u001b[34m[86]#011train-error:0.111333#011validation-error:0.1543\u001b[0m\n",
      "\u001b[34m[15:33:03] src/tree/updater_prune.cc:74: tree pruning end, 1 roots, 24 extra nodes, 16 pruned nodes, max_depth=5\u001b[0m\n",
      "\u001b[34m[87]#011train-error:0.1108#011validation-error:0.1536\u001b[0m\n",
      "\u001b[34m[15:33:04] src/tree/updater_prune.cc:74: tree pruning end, 1 roots, 16 extra nodes, 10 pruned nodes, max_depth=5\u001b[0m\n",
      "\u001b[34m[88]#011train-error:0.110467#011validation-error:0.1532\u001b[0m\n",
      "\u001b[34m[15:33:05] src/tree/updater_prune.cc:74: tree pruning end, 1 roots, 16 extra nodes, 12 pruned nodes, max_depth=5\u001b[0m\n",
      "\u001b[34m[89]#011train-error:0.1096#011validation-error:0.1521\u001b[0m\n",
      "\u001b[34m[15:33:07] src/tree/updater_prune.cc:74: tree pruning end, 1 roots, 20 extra nodes, 8 pruned nodes, max_depth=5\u001b[0m\n",
      "\u001b[34m[90]#011train-error:0.1092#011validation-error:0.152\u001b[0m\n",
      "\u001b[34m[15:33:08] src/tree/updater_prune.cc:74: tree pruning end, 1 roots, 12 extra nodes, 2 pruned nodes, max_depth=5\u001b[0m\n",
      "\u001b[34m[91]#011train-error:0.1092#011validation-error:0.1512\u001b[0m\n"
     ]
    },
    {
     "name": "stdout",
     "output_type": "stream",
     "text": [
      "\u001b[34m[15:33:09] src/tree/updater_prune.cc:74: tree pruning end, 1 roots, 24 extra nodes, 8 pruned nodes, max_depth=5\u001b[0m\n",
      "\u001b[34m[92]#011train-error:0.108#011validation-error:0.1509\u001b[0m\n",
      "\u001b[34m[15:33:10] src/tree/updater_prune.cc:74: tree pruning end, 1 roots, 10 extra nodes, 2 pruned nodes, max_depth=5\u001b[0m\n",
      "\u001b[34m[93]#011train-error:0.107333#011validation-error:0.1505\u001b[0m\n",
      "\u001b[34m[15:33:12] src/tree/updater_prune.cc:74: tree pruning end, 1 roots, 12 extra nodes, 0 pruned nodes, max_depth=5\u001b[0m\n",
      "\u001b[34m[94]#011train-error:0.107067#011validation-error:0.1501\u001b[0m\n",
      "\u001b[34m[15:33:13] src/tree/updater_prune.cc:74: tree pruning end, 1 roots, 12 extra nodes, 16 pruned nodes, max_depth=5\u001b[0m\n",
      "\u001b[34m[95]#011train-error:0.106933#011validation-error:0.1489\u001b[0m\n",
      "\u001b[34m[15:33:14] src/tree/updater_prune.cc:74: tree pruning end, 1 roots, 18 extra nodes, 10 pruned nodes, max_depth=5\u001b[0m\n",
      "\u001b[34m[96]#011train-error:0.1072#011validation-error:0.1498\u001b[0m\n",
      "\u001b[34m[15:33:16] src/tree/updater_prune.cc:74: tree pruning end, 1 roots, 22 extra nodes, 4 pruned nodes, max_depth=5\u001b[0m\n",
      "\u001b[34m[97]#011train-error:0.106133#011validation-error:0.1496\u001b[0m\n",
      "\u001b[34m[15:33:17] src/tree/updater_prune.cc:74: tree pruning end, 1 roots, 22 extra nodes, 8 pruned nodes, max_depth=5\u001b[0m\n",
      "\u001b[34m[98]#011train-error:0.105467#011validation-error:0.1493\u001b[0m\n",
      "\u001b[34m[15:33:18] src/tree/updater_prune.cc:74: tree pruning end, 1 roots, 18 extra nodes, 8 pruned nodes, max_depth=5\u001b[0m\n",
      "\u001b[34m[99]#011train-error:0.104467#011validation-error:0.1492\u001b[0m\n",
      "\u001b[34m[15:33:19] src/tree/updater_prune.cc:74: tree pruning end, 1 roots, 18 extra nodes, 4 pruned nodes, max_depth=5\u001b[0m\n",
      "\u001b[34m[100]#011train-error:0.104333#011validation-error:0.1484\u001b[0m\n",
      "\u001b[34m[15:33:21] src/tree/updater_prune.cc:74: tree pruning end, 1 roots, 20 extra nodes, 4 pruned nodes, max_depth=5\u001b[0m\n",
      "\u001b[34m[101]#011train-error:0.1044#011validation-error:0.1486\u001b[0m\n",
      "\u001b[34m[15:33:22] src/tree/updater_prune.cc:74: tree pruning end, 1 roots, 24 extra nodes, 2 pruned nodes, max_depth=5\u001b[0m\n",
      "\u001b[34m[102]#011train-error:0.104333#011validation-error:0.1477\u001b[0m\n",
      "\u001b[34m[15:33:23] src/tree/updater_prune.cc:74: tree pruning end, 1 roots, 24 extra nodes, 2 pruned nodes, max_depth=5\u001b[0m\n",
      "\u001b[34m[103]#011train-error:0.1036#011validation-error:0.148\u001b[0m\n",
      "\u001b[34m[15:33:25] src/tree/updater_prune.cc:74: tree pruning end, 1 roots, 22 extra nodes, 4 pruned nodes, max_depth=5\u001b[0m\n",
      "\u001b[34m[104]#011train-error:0.102667#011validation-error:0.1476\u001b[0m\n",
      "\u001b[34m[15:33:26] src/tree/updater_prune.cc:74: tree pruning end, 1 roots, 12 extra nodes, 16 pruned nodes, max_depth=5\u001b[0m\n",
      "\u001b[34m[105]#011train-error:0.103#011validation-error:0.1475\u001b[0m\n",
      "\u001b[34m[15:33:27] src/tree/updater_prune.cc:74: tree pruning end, 1 roots, 18 extra nodes, 8 pruned nodes, max_depth=5\u001b[0m\n",
      "\u001b[34m[106]#011train-error:0.102733#011validation-error:0.1486\u001b[0m\n",
      "\u001b[34m[15:33:28] src/tree/updater_prune.cc:74: tree pruning end, 1 roots, 18 extra nodes, 2 pruned nodes, max_depth=5\u001b[0m\n",
      "\u001b[34m[107]#011train-error:0.102333#011validation-error:0.1482\u001b[0m\n",
      "\u001b[34m[15:33:30] src/tree/updater_prune.cc:74: tree pruning end, 1 roots, 18 extra nodes, 4 pruned nodes, max_depth=5\u001b[0m\n",
      "\u001b[34m[108]#011train-error:0.102133#011validation-error:0.1475\u001b[0m\n",
      "\u001b[34m[15:33:31] src/tree/updater_prune.cc:74: tree pruning end, 1 roots, 14 extra nodes, 6 pruned nodes, max_depth=5\u001b[0m\n",
      "\u001b[34m[109]#011train-error:0.101667#011validation-error:0.1465\u001b[0m\n",
      "\u001b[34m[15:33:32] src/tree/updater_prune.cc:74: tree pruning end, 1 roots, 14 extra nodes, 8 pruned nodes, max_depth=5\u001b[0m\n",
      "\u001b[34m[110]#011train-error:0.101267#011validation-error:0.1477\u001b[0m\n",
      "\u001b[34m[15:33:33] src/tree/updater_prune.cc:74: tree pruning end, 1 roots, 12 extra nodes, 6 pruned nodes, max_depth=5\u001b[0m\n",
      "\u001b[34m[111]#011train-error:0.100733#011validation-error:0.1467\u001b[0m\n",
      "\u001b[34m[15:33:35] src/tree/updater_prune.cc:74: tree pruning end, 1 roots, 18 extra nodes, 4 pruned nodes, max_depth=5\u001b[0m\n",
      "\u001b[34m[112]#011train-error:0.1002#011validation-error:0.1458\u001b[0m\n",
      "\u001b[34m[15:33:36] src/tree/updater_prune.cc:74: tree pruning end, 1 roots, 20 extra nodes, 12 pruned nodes, max_depth=5\u001b[0m\n",
      "\u001b[34m[113]#011train-error:0.100067#011validation-error:0.146\u001b[0m\n",
      "\u001b[34m[15:33:37] src/tree/updater_prune.cc:74: tree pruning end, 1 roots, 26 extra nodes, 2 pruned nodes, max_depth=5\u001b[0m\n",
      "\u001b[34m[114]#011train-error:0.099533#011validation-error:0.1456\u001b[0m\n",
      "\u001b[34m[15:33:39] src/tree/updater_prune.cc:74: tree pruning end, 1 roots, 12 extra nodes, 4 pruned nodes, max_depth=5\u001b[0m\n",
      "\u001b[34m[115]#011train-error:0.098467#011validation-error:0.1449\u001b[0m\n",
      "\u001b[34m[15:33:40] src/tree/updater_prune.cc:74: tree pruning end, 1 roots, 26 extra nodes, 8 pruned nodes, max_depth=5\u001b[0m\n",
      "\u001b[34m[116]#011train-error:0.0982#011validation-error:0.1452\u001b[0m\n",
      "\u001b[34m[15:33:41] src/tree/updater_prune.cc:74: tree pruning end, 1 roots, 12 extra nodes, 6 pruned nodes, max_depth=5\u001b[0m\n",
      "\u001b[34m[117]#011train-error:0.0976#011validation-error:0.1455\u001b[0m\n",
      "\u001b[34m[15:33:42] src/tree/updater_prune.cc:74: tree pruning end, 1 roots, 16 extra nodes, 2 pruned nodes, max_depth=5\u001b[0m\n",
      "\u001b[34m[118]#011train-error:0.097667#011validation-error:0.1453\u001b[0m\n",
      "\u001b[34m[15:33:44] src/tree/updater_prune.cc:74: tree pruning end, 1 roots, 12 extra nodes, 4 pruned nodes, max_depth=5\u001b[0m\n",
      "\u001b[34m[119]#011train-error:0.097067#011validation-error:0.1442\u001b[0m\n",
      "\u001b[34m[15:33:45] src/tree/updater_prune.cc:74: tree pruning end, 1 roots, 20 extra nodes, 10 pruned nodes, max_depth=5\u001b[0m\n",
      "\u001b[34m[120]#011train-error:0.095733#011validation-error:0.1443\u001b[0m\n",
      "\u001b[34m[15:33:46] src/tree/updater_prune.cc:74: tree pruning end, 1 roots, 16 extra nodes, 12 pruned nodes, max_depth=5\u001b[0m\n",
      "\u001b[34m[121]#011train-error:0.0952#011validation-error:0.145\u001b[0m\n",
      "\u001b[34m[15:33:48] src/tree/updater_prune.cc:74: tree pruning end, 1 roots, 14 extra nodes, 6 pruned nodes, max_depth=5\u001b[0m\n",
      "\u001b[34m[122]#011train-error:0.0944#011validation-error:0.1444\u001b[0m\n",
      "\u001b[34m[15:33:49] src/tree/updater_prune.cc:74: tree pruning end, 1 roots, 10 extra nodes, 8 pruned nodes, max_depth=5\u001b[0m\n",
      "\u001b[34m[123]#011train-error:0.094333#011validation-error:0.1442\u001b[0m\n",
      "\u001b[34m[15:33:50] src/tree/updater_prune.cc:74: tree pruning end, 1 roots, 14 extra nodes, 10 pruned nodes, max_depth=5\u001b[0m\n",
      "\u001b[34m[124]#011train-error:0.093933#011validation-error:0.1433\u001b[0m\n",
      "\u001b[34m[15:33:51] src/tree/updater_prune.cc:74: tree pruning end, 1 roots, 10 extra nodes, 10 pruned nodes, max_depth=5\u001b[0m\n",
      "\u001b[34m[125]#011train-error:0.093733#011validation-error:0.1429\u001b[0m\n",
      "\u001b[34m[15:33:53] src/tree/updater_prune.cc:74: tree pruning end, 1 roots, 10 extra nodes, 6 pruned nodes, max_depth=5\u001b[0m\n",
      "\u001b[34m[126]#011train-error:0.093267#011validation-error:0.1426\u001b[0m\n",
      "\u001b[34m[15:33:54] src/tree/updater_prune.cc:74: tree pruning end, 1 roots, 12 extra nodes, 6 pruned nodes, max_depth=5\u001b[0m\n",
      "\u001b[34m[127]#011train-error:0.0928#011validation-error:0.1423\u001b[0m\n",
      "\u001b[34m[15:33:55] src/tree/updater_prune.cc:74: tree pruning end, 1 roots, 22 extra nodes, 12 pruned nodes, max_depth=5\u001b[0m\n",
      "\u001b[34m[128]#011train-error:0.093133#011validation-error:0.144\u001b[0m\n",
      "\u001b[34m[15:33:56] src/tree/updater_prune.cc:74: tree pruning end, 1 roots, 26 extra nodes, 4 pruned nodes, max_depth=5\u001b[0m\n",
      "\u001b[34m[129]#011train-error:0.092333#011validation-error:0.144\u001b[0m\n",
      "\u001b[34m[15:33:58] src/tree/updater_prune.cc:74: tree pruning end, 1 roots, 22 extra nodes, 12 pruned nodes, max_depth=5\u001b[0m\n",
      "\u001b[34m[130]#011train-error:0.092133#011validation-error:0.143\u001b[0m\n",
      "\u001b[34m[15:33:59] src/tree/updater_prune.cc:74: tree pruning end, 1 roots, 14 extra nodes, 2 pruned nodes, max_depth=5\u001b[0m\n",
      "\u001b[34m[131]#011train-error:0.091467#011validation-error:0.1432\u001b[0m\n",
      "\u001b[34m[15:34:00] src/tree/updater_prune.cc:74: tree pruning end, 1 roots, 16 extra nodes, 14 pruned nodes, max_depth=5\u001b[0m\n",
      "\u001b[34m[132]#011train-error:0.091#011validation-error:0.1434\u001b[0m\n",
      "\u001b[34m[15:34:02] src/tree/updater_prune.cc:74: tree pruning end, 1 roots, 18 extra nodes, 8 pruned nodes, max_depth=5\u001b[0m\n",
      "\u001b[34m[133]#011train-error:0.0904#011validation-error:0.1427\u001b[0m\n",
      "\u001b[34m[15:34:03] src/tree/updater_prune.cc:74: tree pruning end, 1 roots, 26 extra nodes, 6 pruned nodes, max_depth=5\u001b[0m\n",
      "\u001b[34m[134]#011train-error:0.09#011validation-error:0.1427\u001b[0m\n",
      "\u001b[34m[15:34:04] src/tree/updater_prune.cc:74: tree pruning end, 1 roots, 12 extra nodes, 8 pruned nodes, max_depth=5\u001b[0m\n",
      "\u001b[34m[135]#011train-error:0.089267#011validation-error:0.1426\u001b[0m\n",
      "\u001b[34m[15:34:05] src/tree/updater_prune.cc:74: tree pruning end, 1 roots, 24 extra nodes, 4 pruned nodes, max_depth=5\u001b[0m\n",
      "\u001b[34m[136]#011train-error:0.0888#011validation-error:0.1427\u001b[0m\n",
      "\u001b[34m[15:34:07] src/tree/updater_prune.cc:74: tree pruning end, 1 roots, 18 extra nodes, 6 pruned nodes, max_depth=5\u001b[0m\n",
      "\u001b[34m[137]#011train-error:0.0888#011validation-error:0.1422\u001b[0m\n",
      "\u001b[34m[15:34:08] src/tree/updater_prune.cc:74: tree pruning end, 1 roots, 28 extra nodes, 6 pruned nodes, max_depth=5\u001b[0m\n",
      "\u001b[34m[138]#011train-error:0.088667#011validation-error:0.1432\u001b[0m\n",
      "\u001b[34m[15:34:09] src/tree/updater_prune.cc:74: tree pruning end, 1 roots, 20 extra nodes, 10 pruned nodes, max_depth=5\u001b[0m\n",
      "\u001b[34m[139]#011train-error:0.0886#011validation-error:0.1424\u001b[0m\n"
     ]
    },
    {
     "name": "stdout",
     "output_type": "stream",
     "text": [
      "\u001b[34m[15:34:10] src/tree/updater_prune.cc:74: tree pruning end, 1 roots, 18 extra nodes, 4 pruned nodes, max_depth=5\u001b[0m\n",
      "\u001b[34m[140]#011train-error:0.087733#011validation-error:0.1421\u001b[0m\n",
      "\u001b[34m[15:34:12] src/tree/updater_prune.cc:74: tree pruning end, 1 roots, 32 extra nodes, 10 pruned nodes, max_depth=5\u001b[0m\n",
      "\u001b[34m[141]#011train-error:0.086467#011validation-error:0.1411\u001b[0m\n",
      "\u001b[34m[15:34:13] src/tree/updater_prune.cc:74: tree pruning end, 1 roots, 26 extra nodes, 12 pruned nodes, max_depth=5\u001b[0m\n",
      "\u001b[34m[142]#011train-error:0.086333#011validation-error:0.1414\u001b[0m\n",
      "\u001b[34m[15:34:14] src/tree/updater_prune.cc:74: tree pruning end, 1 roots, 32 extra nodes, 4 pruned nodes, max_depth=5\u001b[0m\n",
      "\u001b[34m[143]#011train-error:0.085333#011validation-error:0.14\u001b[0m\n",
      "\u001b[34m[15:34:16] src/tree/updater_prune.cc:74: tree pruning end, 1 roots, 16 extra nodes, 10 pruned nodes, max_depth=5\u001b[0m\n",
      "\u001b[34m[144]#011train-error:0.084933#011validation-error:0.1402\u001b[0m\n",
      "\u001b[34m[15:34:17] src/tree/updater_prune.cc:74: tree pruning end, 1 roots, 26 extra nodes, 12 pruned nodes, max_depth=5\u001b[0m\n",
      "\u001b[34m[145]#011train-error:0.084533#011validation-error:0.1403\u001b[0m\n",
      "\u001b[34m[15:34:18] src/tree/updater_prune.cc:74: tree pruning end, 1 roots, 16 extra nodes, 2 pruned nodes, max_depth=5\u001b[0m\n",
      "\u001b[34m[146]#011train-error:0.084533#011validation-error:0.1395\u001b[0m\n",
      "\u001b[34m[15:34:19] src/tree/updater_prune.cc:74: tree pruning end, 1 roots, 28 extra nodes, 4 pruned nodes, max_depth=5\u001b[0m\n",
      "\u001b[34m[147]#011train-error:0.084333#011validation-error:0.1394\u001b[0m\n",
      "\u001b[34m[15:34:21] src/tree/updater_prune.cc:74: tree pruning end, 1 roots, 14 extra nodes, 10 pruned nodes, max_depth=5\u001b[0m\n",
      "\u001b[34m[148]#011train-error:0.084067#011validation-error:0.1392\u001b[0m\n",
      "\u001b[34m[15:34:22] src/tree/updater_prune.cc:74: tree pruning end, 1 roots, 10 extra nodes, 10 pruned nodes, max_depth=5\u001b[0m\n",
      "\u001b[34m[149]#011train-error:0.083733#011validation-error:0.1386\u001b[0m\n",
      "\u001b[34m[15:34:23] src/tree/updater_prune.cc:74: tree pruning end, 1 roots, 16 extra nodes, 4 pruned nodes, max_depth=5\u001b[0m\n",
      "\u001b[34m[150]#011train-error:0.0838#011validation-error:0.1389\u001b[0m\n",
      "\u001b[34m[15:34:25] src/tree/updater_prune.cc:74: tree pruning end, 1 roots, 20 extra nodes, 10 pruned nodes, max_depth=5\u001b[0m\n",
      "\u001b[34m[151]#011train-error:0.0834#011validation-error:0.1389\u001b[0m\n",
      "\u001b[34m[15:34:26] src/tree/updater_prune.cc:74: tree pruning end, 1 roots, 20 extra nodes, 16 pruned nodes, max_depth=5\u001b[0m\n",
      "\u001b[34m[152]#011train-error:0.083533#011validation-error:0.1383\u001b[0m\n",
      "\u001b[34m[15:34:27] src/tree/updater_prune.cc:74: tree pruning end, 1 roots, 10 extra nodes, 12 pruned nodes, max_depth=5\u001b[0m\n",
      "\u001b[34m[153]#011train-error:0.083267#011validation-error:0.1381\u001b[0m\n",
      "\u001b[34m[15:34:28] src/tree/updater_prune.cc:74: tree pruning end, 1 roots, 14 extra nodes, 4 pruned nodes, max_depth=5\u001b[0m\n",
      "\u001b[34m[154]#011train-error:0.0836#011validation-error:0.1387\u001b[0m\n",
      "\u001b[34m[15:34:30] src/tree/updater_prune.cc:74: tree pruning end, 1 roots, 14 extra nodes, 6 pruned nodes, max_depth=5\u001b[0m\n",
      "\u001b[34m[155]#011train-error:0.083067#011validation-error:0.1383\u001b[0m\n",
      "\u001b[34m[15:34:31] src/tree/updater_prune.cc:74: tree pruning end, 1 roots, 16 extra nodes, 10 pruned nodes, max_depth=5\u001b[0m\n",
      "\u001b[34m[156]#011train-error:0.082333#011validation-error:0.1378\u001b[0m\n",
      "\u001b[34m[15:34:32] src/tree/updater_prune.cc:74: tree pruning end, 1 roots, 20 extra nodes, 14 pruned nodes, max_depth=5\u001b[0m\n",
      "\u001b[34m[157]#011train-error:0.082067#011validation-error:0.1391\u001b[0m\n",
      "\u001b[34m[15:34:34] src/tree/updater_prune.cc:74: tree pruning end, 1 roots, 10 extra nodes, 6 pruned nodes, max_depth=5\u001b[0m\n",
      "\u001b[34m[158]#011train-error:0.081733#011validation-error:0.1384\u001b[0m\n",
      "\u001b[34m[15:34:35] src/tree/updater_prune.cc:74: tree pruning end, 1 roots, 20 extra nodes, 10 pruned nodes, max_depth=5\u001b[0m\n",
      "\u001b[34m[159]#011train-error:0.081867#011validation-error:0.1384\u001b[0m\n",
      "\u001b[34m[15:34:36] src/tree/updater_prune.cc:74: tree pruning end, 1 roots, 14 extra nodes, 12 pruned nodes, max_depth=5\u001b[0m\n",
      "\u001b[34m[160]#011train-error:0.081333#011validation-error:0.139\u001b[0m\n",
      "\u001b[34m[15:34:37] src/tree/updater_prune.cc:74: tree pruning end, 1 roots, 20 extra nodes, 16 pruned nodes, max_depth=5\u001b[0m\n",
      "\u001b[34m[161]#011train-error:0.080933#011validation-error:0.1376\u001b[0m\n",
      "\u001b[34m[15:34:39] src/tree/updater_prune.cc:74: tree pruning end, 1 roots, 18 extra nodes, 2 pruned nodes, max_depth=5\u001b[0m\n",
      "\u001b[34m[162]#011train-error:0.0812#011validation-error:0.1378\u001b[0m\n",
      "\u001b[34m[15:34:40] src/tree/updater_prune.cc:74: tree pruning end, 1 roots, 20 extra nodes, 12 pruned nodes, max_depth=5\u001b[0m\n",
      "\u001b[34m[163]#011train-error:0.0804#011validation-error:0.1379\u001b[0m\n",
      "\u001b[34m[15:34:41] src/tree/updater_prune.cc:74: tree pruning end, 1 roots, 10 extra nodes, 8 pruned nodes, max_depth=5\u001b[0m\n",
      "\u001b[34m[164]#011train-error:0.080267#011validation-error:0.1381\u001b[0m\n",
      "\u001b[34m[15:34:43] src/tree/updater_prune.cc:74: tree pruning end, 1 roots, 14 extra nodes, 8 pruned nodes, max_depth=5\u001b[0m\n",
      "\u001b[34m[165]#011train-error:0.080067#011validation-error:0.1381\u001b[0m\n",
      "\u001b[34m[15:34:44] src/tree/updater_prune.cc:74: tree pruning end, 1 roots, 10 extra nodes, 12 pruned nodes, max_depth=5\u001b[0m\n",
      "\u001b[34m[166]#011train-error:0.079867#011validation-error:0.1381\u001b[0m\n",
      "\u001b[34m[15:34:45] src/tree/updater_prune.cc:74: tree pruning end, 1 roots, 10 extra nodes, 6 pruned nodes, max_depth=5\u001b[0m\n",
      "\u001b[34m[167]#011train-error:0.0798#011validation-error:0.1385\u001b[0m\n",
      "\u001b[34m[15:34:46] src/tree/updater_prune.cc:74: tree pruning end, 1 roots, 10 extra nodes, 8 pruned nodes, max_depth=5\u001b[0m\n",
      "\u001b[34m[168]#011train-error:0.0798#011validation-error:0.1383\u001b[0m\n",
      "\u001b[34m[15:34:48] src/tree/updater_prune.cc:74: tree pruning end, 1 roots, 12 extra nodes, 6 pruned nodes, max_depth=5\u001b[0m\n",
      "\u001b[34m[169]#011train-error:0.079333#011validation-error:0.1383\u001b[0m\n",
      "\u001b[34m[15:34:49] src/tree/updater_prune.cc:74: tree pruning end, 1 roots, 18 extra nodes, 8 pruned nodes, max_depth=5\u001b[0m\n",
      "\u001b[34m[170]#011train-error:0.078667#011validation-error:0.1384\u001b[0m\n",
      "\u001b[34m[15:34:50] src/tree/updater_prune.cc:74: tree pruning end, 1 roots, 12 extra nodes, 2 pruned nodes, max_depth=5\u001b[0m\n",
      "\u001b[34m[171]#011train-error:0.0784#011validation-error:0.138\u001b[0m\n",
      "\u001b[34mStopping. Best iteration:\u001b[0m\n",
      "\u001b[34m[161]#011train-error:0.080933#011validation-error:0.1376\n",
      "\u001b[0m\n",
      "\n",
      "2020-07-21 15:35:00 Uploading - Uploading generated training model\n",
      "2020-07-21 15:35:00 Completed - Training job completed\n",
      "Training seconds: 270\n",
      "Billable seconds: 270\n"
     ]
    }
   ],
   "source": [
    "xgb.fit({'train': s3_input_train, 'validation': s3_input_validation})"
   ]
  },
  {
   "cell_type": "markdown",
   "metadata": {},
   "source": [
    "## Step 5: Testing the model\n",
    "\n",
    "Now that we've fit our XGBoost model, it's time to see how well it performs. To do this we will use SageMakers Batch Transform functionality. Batch Transform is a convenient way to perform inference on a large dataset in a way that is not realtime. That is, we don't necessarily need to use our model's results immediately and instead we can perform inference on a large number of samples. An example of this in industry might be performing an end of month report. This method of inference can also be useful to us as it means that we can perform inference on our entire test set. \n",
    "\n",
    "To perform a Batch Transformation we need to first create a transformer objects from our trained estimator object."
   ]
  },
  {
   "cell_type": "code",
   "execution_count": 24,
   "metadata": {},
   "outputs": [
    {
     "name": "stderr",
     "output_type": "stream",
     "text": [
      "WARNING:sagemaker:Parameter image will be renamed to image_uri in SageMaker Python SDK v2.\n"
     ]
    }
   ],
   "source": [
    "xgb_transformer = xgb.transformer(instance_count = 1, instance_type = 'ml.m4.xlarge')"
   ]
  },
  {
   "cell_type": "markdown",
   "metadata": {},
   "source": [
    "Next we actually perform the transform job. When doing so we need to make sure to specify the type of data we are sending so that it is serialized correctly in the background. In our case we are providing our model with csv data so we specify `text/csv`. Also, if the test data that we have provided is too large to process all at once then we need to specify how the data file should be split up. Since each line is a single entry in our data set we tell SageMaker that it can split the input on each line."
   ]
  },
  {
   "cell_type": "code",
   "execution_count": 25,
   "metadata": {},
   "outputs": [],
   "source": [
    "xgb_transformer.transform(test_location, content_type='text/csv', split_type='Line')"
   ]
  },
  {
   "cell_type": "markdown",
   "metadata": {},
   "source": [
    "Currently the transform job is running but it is doing so in the background. Since we wish to wait until the transform job is done and we would like a bit of feedback we can run the `wait()` method."
   ]
  },
  {
   "cell_type": "code",
   "execution_count": 26,
   "metadata": {},
   "outputs": [
    {
     "name": "stdout",
     "output_type": "stream",
     "text": [
      "....................\u001b[34mArguments: serve\u001b[0m\n",
      "\u001b[34m[2020-07-21 15:38:30 +0000] [1] [INFO] Starting gunicorn 19.7.1\u001b[0m\n",
      "\u001b[34m[2020-07-21 15:38:30 +0000] [1] [INFO] Listening at: http://0.0.0.0:8080 (1)\u001b[0m\n",
      "\u001b[34m[2020-07-21 15:38:30 +0000] [1] [INFO] Using worker: gevent\u001b[0m\n",
      "\u001b[34m[2020-07-21 15:38:30 +0000] [37] [INFO] Booting worker with pid: 37\u001b[0m\n",
      "\u001b[34m[2020-07-21 15:38:30 +0000] [38] [INFO] Booting worker with pid: 38\u001b[0m\n",
      "\u001b[34m[2020-07-21 15:38:30 +0000] [39] [INFO] Booting worker with pid: 39\u001b[0m\n",
      "\u001b[34m[2020-07-21:15:38:30:INFO] Model loaded successfully for worker : 37\u001b[0m\n",
      "\u001b[34m[2020-07-21:15:38:30:INFO] Model loaded successfully for worker : 38\u001b[0m\n",
      "\u001b[34m[2020-07-21 15:38:30 +0000] [40] [INFO] Booting worker with pid: 40\u001b[0m\n",
      "\u001b[34m[2020-07-21:15:38:30:INFO] Model loaded successfully for worker : 39\u001b[0m\n",
      "\u001b[34m[2020-07-21:15:38:30:INFO] Model loaded successfully for worker : 40\u001b[0m\n",
      "\u001b[34m[2020-07-21:15:39:03:INFO] Sniff delimiter as ','\u001b[0m\n",
      "\u001b[34m[2020-07-21:15:39:03:INFO] Determined delimiter of CSV input is ','\u001b[0m\n",
      "\u001b[34m[2020-07-21:15:39:04:INFO] Sniff delimiter as ','\u001b[0m\n",
      "\u001b[34m[2020-07-21:15:39:04:INFO] Determined delimiter of CSV input is ','\u001b[0m\n",
      "\u001b[34m[2020-07-21:15:39:04:INFO] Sniff delimiter as ','\u001b[0m\n",
      "\u001b[34m[2020-07-21:15:39:04:INFO] Determined delimiter of CSV input is ','\u001b[0m\n",
      "\u001b[35m[2020-07-21:15:39:03:INFO] Sniff delimiter as ','\u001b[0m\n",
      "\u001b[35m[2020-07-21:15:39:03:INFO] Determined delimiter of CSV input is ','\u001b[0m\n",
      "\u001b[35m[2020-07-21:15:39:04:INFO] Sniff delimiter as ','\u001b[0m\n",
      "\u001b[35m[2020-07-21:15:39:04:INFO] Determined delimiter of CSV input is ','\u001b[0m\n",
      "\u001b[35m[2020-07-21:15:39:04:INFO] Sniff delimiter as ','\u001b[0m\n",
      "\u001b[35m[2020-07-21:15:39:04:INFO] Determined delimiter of CSV input is ','\u001b[0m\n",
      "\u001b[32m2020-07-21T15:39:01.257:[sagemaker logs]: MaxConcurrentTransforms=4, MaxPayloadInMB=6, BatchStrategy=MULTI_RECORD\u001b[0m\n",
      "\u001b[34m[2020-07-21:15:39:04:INFO] Sniff delimiter as ','\u001b[0m\n",
      "\u001b[34m[2020-07-21:15:39:04:INFO] Determined delimiter of CSV input is ','\u001b[0m\n",
      "\u001b[35m[2020-07-21:15:39:04:INFO] Sniff delimiter as ','\u001b[0m\n",
      "\u001b[35m[2020-07-21:15:39:04:INFO] Determined delimiter of CSV input is ','\u001b[0m\n",
      "\u001b[34m[2020-07-21:15:39:06:INFO] Sniff delimiter as ','\u001b[0m\n",
      "\u001b[34m[2020-07-21:15:39:06:INFO] Determined delimiter of CSV input is ','\u001b[0m\n",
      "\u001b[34m[2020-07-21:15:39:06:INFO] Sniff delimiter as ','\u001b[0m\n",
      "\u001b[34m[2020-07-21:15:39:06:INFO] Determined delimiter of CSV input is ','\u001b[0m\n",
      "\u001b[34m[2020-07-21:15:39:06:INFO] Sniff delimiter as ','\u001b[0m\n",
      "\u001b[34m[2020-07-21:15:39:06:INFO] Determined delimiter of CSV input is ','\u001b[0m\n",
      "\u001b[34m[2020-07-21:15:39:06:INFO] Sniff delimiter as ','\u001b[0m\n",
      "\u001b[34m[2020-07-21:15:39:06:INFO] Determined delimiter of CSV input is ','\u001b[0m\n",
      "\u001b[35m[2020-07-21:15:39:06:INFO] Sniff delimiter as ','\u001b[0m\n",
      "\u001b[35m[2020-07-21:15:39:06:INFO] Determined delimiter of CSV input is ','\u001b[0m\n",
      "\u001b[35m[2020-07-21:15:39:06:INFO] Sniff delimiter as ','\u001b[0m\n",
      "\u001b[35m[2020-07-21:15:39:06:INFO] Determined delimiter of CSV input is ','\u001b[0m\n",
      "\u001b[35m[2020-07-21:15:39:06:INFO] Sniff delimiter as ','\u001b[0m\n",
      "\u001b[35m[2020-07-21:15:39:06:INFO] Determined delimiter of CSV input is ','\u001b[0m\n",
      "\u001b[35m[2020-07-21:15:39:06:INFO] Sniff delimiter as ','\u001b[0m\n",
      "\u001b[35m[2020-07-21:15:39:06:INFO] Determined delimiter of CSV input is ','\u001b[0m\n",
      "\u001b[34m[2020-07-21:15:39:08:INFO] Sniff delimiter as ','\u001b[0m\n",
      "\u001b[34m[2020-07-21:15:39:08:INFO] Determined delimiter of CSV input is ','\u001b[0m\n",
      "\u001b[34m[2020-07-21:15:39:08:INFO] Sniff delimiter as ','\u001b[0m\n",
      "\u001b[35m[2020-07-21:15:39:08:INFO] Sniff delimiter as ','\u001b[0m\n",
      "\u001b[35m[2020-07-21:15:39:08:INFO] Determined delimiter of CSV input is ','\u001b[0m\n",
      "\u001b[35m[2020-07-21:15:39:08:INFO] Sniff delimiter as ','\u001b[0m\n",
      "\u001b[34m[2020-07-21:15:39:08:INFO] Determined delimiter of CSV input is ','\u001b[0m\n",
      "\u001b[34m[2020-07-21:15:39:09:INFO] Sniff delimiter as ','\u001b[0m\n",
      "\u001b[34m[2020-07-21:15:39:09:INFO] Determined delimiter of CSV input is ','\u001b[0m\n",
      "\u001b[35m[2020-07-21:15:39:08:INFO] Determined delimiter of CSV input is ','\u001b[0m\n",
      "\u001b[35m[2020-07-21:15:39:09:INFO] Sniff delimiter as ','\u001b[0m\n",
      "\u001b[35m[2020-07-21:15:39:09:INFO] Determined delimiter of CSV input is ','\u001b[0m\n",
      "\u001b[34m[2020-07-21:15:39:09:INFO] Sniff delimiter as ','\u001b[0m\n",
      "\u001b[34m[2020-07-21:15:39:09:INFO] Determined delimiter of CSV input is ','\u001b[0m\n",
      "\u001b[35m[2020-07-21:15:39:09:INFO] Sniff delimiter as ','\u001b[0m\n",
      "\u001b[35m[2020-07-21:15:39:09:INFO] Determined delimiter of CSV input is ','\u001b[0m\n",
      "\u001b[34m[2020-07-21:15:39:11:INFO] Sniff delimiter as ','\u001b[0m\n",
      "\u001b[35m[2020-07-21:15:39:11:INFO] Sniff delimiter as ','\u001b[0m\n",
      "\u001b[34m[2020-07-21:15:39:11:INFO] Determined delimiter of CSV input is ','\u001b[0m\n",
      "\u001b[35m[2020-07-21:15:39:11:INFO] Determined delimiter of CSV input is ','\u001b[0m\n",
      "\u001b[34m[2020-07-21:15:39:11:INFO] Sniff delimiter as ','\u001b[0m\n",
      "\u001b[34m[2020-07-21:15:39:11:INFO] Determined delimiter of CSV input is ','\u001b[0m\n",
      "\u001b[34m[2020-07-21:15:39:11:INFO] Sniff delimiter as ','\u001b[0m\n",
      "\u001b[34m[2020-07-21:15:39:11:INFO] Determined delimiter of CSV input is ','\u001b[0m\n",
      "\u001b[34m[2020-07-21:15:39:11:INFO] Sniff delimiter as ','\u001b[0m\n",
      "\u001b[34m[2020-07-21:15:39:11:INFO] Determined delimiter of CSV input is ','\u001b[0m\n",
      "\u001b[35m[2020-07-21:15:39:11:INFO] Sniff delimiter as ','\u001b[0m\n",
      "\u001b[35m[2020-07-21:15:39:11:INFO] Determined delimiter of CSV input is ','\u001b[0m\n",
      "\u001b[35m[2020-07-21:15:39:11:INFO] Sniff delimiter as ','\u001b[0m\n",
      "\u001b[35m[2020-07-21:15:39:11:INFO] Determined delimiter of CSV input is ','\u001b[0m\n",
      "\u001b[35m[2020-07-21:15:39:11:INFO] Sniff delimiter as ','\u001b[0m\n",
      "\u001b[35m[2020-07-21:15:39:11:INFO] Determined delimiter of CSV input is ','\u001b[0m\n",
      "\u001b[34m[2020-07-21:15:39:14:INFO] Sniff delimiter as ','\u001b[0m\n",
      "\u001b[34m[2020-07-21:15:39:14:INFO] Determined delimiter of CSV input is ','\u001b[0m\n",
      "\u001b[35m[2020-07-21:15:39:14:INFO] Sniff delimiter as ','\u001b[0m\n",
      "\u001b[35m[2020-07-21:15:39:14:INFO] Determined delimiter of CSV input is ','\u001b[0m\n",
      "\u001b[34m[2020-07-21:15:39:16:INFO] Sniff delimiter as ','\u001b[0m\n",
      "\u001b[34m[2020-07-21:15:39:16:INFO] Determined delimiter of CSV input is ','\u001b[0m\n",
      "\u001b[34m[2020-07-21:15:39:16:INFO] Sniff delimiter as ','\u001b[0m\n",
      "\u001b[34m[2020-07-21:15:39:16:INFO] Determined delimiter of CSV input is ','\u001b[0m\n",
      "\u001b[35m[2020-07-21:15:39:16:INFO] Sniff delimiter as ','\u001b[0m\n",
      "\u001b[35m[2020-07-21:15:39:16:INFO] Determined delimiter of CSV input is ','\u001b[0m\n",
      "\u001b[35m[2020-07-21:15:39:16:INFO] Sniff delimiter as ','\u001b[0m\n",
      "\u001b[35m[2020-07-21:15:39:16:INFO] Determined delimiter of CSV input is ','\u001b[0m\n",
      "\u001b[34m[2020-07-21:15:39:16:INFO] Sniff delimiter as ','\u001b[0m\n",
      "\u001b[34m[2020-07-21:15:39:16:INFO] Determined delimiter of CSV input is ','\u001b[0m\n",
      "\u001b[34m[2020-07-21:15:39:16:INFO] Sniff delimiter as ','\u001b[0m\n",
      "\u001b[34m[2020-07-21:15:39:16:INFO] Determined delimiter of CSV input is ','\u001b[0m\n",
      "\u001b[35m[2020-07-21:15:39:16:INFO] Sniff delimiter as ','\u001b[0m\n",
      "\u001b[35m[2020-07-21:15:39:16:INFO] Determined delimiter of CSV input is ','\u001b[0m\n",
      "\u001b[35m[2020-07-21:15:39:16:INFO] Sniff delimiter as ','\u001b[0m\n",
      "\u001b[35m[2020-07-21:15:39:16:INFO] Determined delimiter of CSV input is ','\u001b[0m\n",
      "\u001b[34m[2020-07-21:15:39:18:INFO] Sniff delimiter as ','\u001b[0m\n",
      "\u001b[34m[2020-07-21:15:39:18:INFO] Determined delimiter of CSV input is ','\u001b[0m\n",
      "\u001b[34m[2020-07-21:15:39:18:INFO] Sniff delimiter as ','\u001b[0m\n",
      "\u001b[34m[2020-07-21:15:39:18:INFO] Determined delimiter of CSV input is ','\u001b[0m\n",
      "\u001b[34m[2020-07-21:15:39:19:INFO] Sniff delimiter as ','\u001b[0m\n",
      "\u001b[34m[2020-07-21:15:39:19:INFO] Determined delimiter of CSV input is ','\u001b[0m\n",
      "\u001b[34m[2020-07-21:15:39:19:INFO] Sniff delimiter as ','\u001b[0m\n",
      "\u001b[34m[2020-07-21:15:39:19:INFO] Determined delimiter of CSV input is ','\u001b[0m\n",
      "\u001b[35m[2020-07-21:15:39:18:INFO] Sniff delimiter as ','\u001b[0m\n",
      "\u001b[35m[2020-07-21:15:39:18:INFO] Determined delimiter of CSV input is ','\u001b[0m\n",
      "\u001b[35m[2020-07-21:15:39:18:INFO] Sniff delimiter as ','\u001b[0m\n",
      "\u001b[35m[2020-07-21:15:39:18:INFO] Determined delimiter of CSV input is ','\u001b[0m\n",
      "\u001b[35m[2020-07-21:15:39:19:INFO] Sniff delimiter as ','\u001b[0m\n",
      "\u001b[35m[2020-07-21:15:39:19:INFO] Determined delimiter of CSV input is ','\u001b[0m\n",
      "\u001b[35m[2020-07-21:15:39:19:INFO] Sniff delimiter as ','\u001b[0m\n",
      "\u001b[35m[2020-07-21:15:39:19:INFO] Determined delimiter of CSV input is ','\u001b[0m\n",
      "\u001b[34m[2020-07-21:15:39:20:INFO] Sniff delimiter as ','\u001b[0m\n",
      "\u001b[34m[2020-07-21:15:39:20:INFO] Determined delimiter of CSV input is ','\u001b[0m\n",
      "\u001b[34m[2020-07-21:15:39:21:INFO] Sniff delimiter as ','\u001b[0m\n",
      "\u001b[34m[2020-07-21:15:39:21:INFO] Determined delimiter of CSV input is ','\u001b[0m\n",
      "\u001b[35m[2020-07-21:15:39:20:INFO] Sniff delimiter as ','\u001b[0m\n",
      "\u001b[35m[2020-07-21:15:39:20:INFO] Determined delimiter of CSV input is ','\u001b[0m\n",
      "\u001b[35m[2020-07-21:15:39:21:INFO] Sniff delimiter as ','\u001b[0m\n",
      "\u001b[35m[2020-07-21:15:39:21:INFO] Determined delimiter of CSV input is ','\u001b[0m\n",
      "\u001b[34m[2020-07-21:15:39:21:INFO] Sniff delimiter as ','\u001b[0m\n",
      "\u001b[34m[2020-07-21:15:39:21:INFO] Determined delimiter of CSV input is ','\u001b[0m\n",
      "\u001b[34m[2020-07-21:15:39:21:INFO] Sniff delimiter as ','\u001b[0m\n",
      "\u001b[34m[2020-07-21:15:39:21:INFO] Determined delimiter of CSV input is ','\u001b[0m\n",
      "\u001b[35m[2020-07-21:15:39:21:INFO] Sniff delimiter as ','\u001b[0m\n",
      "\u001b[35m[2020-07-21:15:39:21:INFO] Determined delimiter of CSV input is ','\u001b[0m\n",
      "\u001b[35m[2020-07-21:15:39:21:INFO] Sniff delimiter as ','\u001b[0m\n",
      "\u001b[35m[2020-07-21:15:39:21:INFO] Determined delimiter of CSV input is ','\u001b[0m\n"
     ]
    },
    {
     "name": "stdout",
     "output_type": "stream",
     "text": [
      "\u001b[34m[2020-07-21:15:39:23:INFO] Sniff delimiter as ','\u001b[0m\n",
      "\u001b[34m[2020-07-21:15:39:23:INFO] Determined delimiter of CSV input is ','\u001b[0m\n",
      "\u001b[34m[2020-07-21:15:39:24:INFO] Sniff delimiter as ','\u001b[0m\n",
      "\u001b[34m[2020-07-21:15:39:24:INFO] Determined delimiter of CSV input is ','\u001b[0m\n",
      "\u001b[35m[2020-07-21:15:39:23:INFO] Sniff delimiter as ','\u001b[0m\n",
      "\u001b[35m[2020-07-21:15:39:23:INFO] Determined delimiter of CSV input is ','\u001b[0m\n",
      "\u001b[35m[2020-07-21:15:39:24:INFO] Sniff delimiter as ','\u001b[0m\n",
      "\u001b[35m[2020-07-21:15:39:24:INFO] Determined delimiter of CSV input is ','\u001b[0m\n",
      "\u001b[34m[2020-07-21:15:39:25:INFO] Sniff delimiter as ','\u001b[0m\n",
      "\u001b[34m[2020-07-21:15:39:25:INFO] Determined delimiter of CSV input is ','\u001b[0m\n",
      "\u001b[35m[2020-07-21:15:39:25:INFO] Sniff delimiter as ','\u001b[0m\n",
      "\u001b[35m[2020-07-21:15:39:25:INFO] Determined delimiter of CSV input is ','\u001b[0m\n",
      "\u001b[34m[2020-07-21:15:39:25:INFO] Sniff delimiter as ','\u001b[0m\n",
      "\u001b[34m[2020-07-21:15:39:25:INFO] Determined delimiter of CSV input is ','\u001b[0m\n",
      "\u001b[34m[2020-07-21:15:39:26:INFO] Sniff delimiter as ','\u001b[0m\n",
      "\u001b[34m[2020-07-21:15:39:26:INFO] Determined delimiter of CSV input is ','\u001b[0m\n",
      "\u001b[35m[2020-07-21:15:39:25:INFO] Sniff delimiter as ','\u001b[0m\n",
      "\u001b[35m[2020-07-21:15:39:25:INFO] Determined delimiter of CSV input is ','\u001b[0m\n",
      "\u001b[35m[2020-07-21:15:39:26:INFO] Sniff delimiter as ','\u001b[0m\n",
      "\u001b[35m[2020-07-21:15:39:26:INFO] Determined delimiter of CSV input is ','\u001b[0m\n",
      "\u001b[34m[2020-07-21:15:39:26:INFO] Sniff delimiter as ','\u001b[0m\n",
      "\u001b[34m[2020-07-21:15:39:26:INFO] Determined delimiter of CSV input is ','\u001b[0m\n",
      "\u001b[35m[2020-07-21:15:39:26:INFO] Sniff delimiter as ','\u001b[0m\n",
      "\u001b[35m[2020-07-21:15:39:26:INFO] Determined delimiter of CSV input is ','\u001b[0m\n",
      "\n"
     ]
    }
   ],
   "source": [
    "xgb_transformer.wait()"
   ]
  },
  {
   "cell_type": "markdown",
   "metadata": {},
   "source": [
    "Now the transform job has executed and the result, the estimated sentiment of each review, has been saved on S3. Since we would rather work on this file locally we can perform a bit of notebook magic to copy the file to the `data_dir`."
   ]
  },
  {
   "cell_type": "code",
   "execution_count": 27,
   "metadata": {},
   "outputs": [
    {
     "name": "stdout",
     "output_type": "stream",
     "text": [
      "Completed 256.0 KiB/369.8 KiB (1.6 MiB/s) with 1 file(s) remaining\r",
      "Completed 369.8 KiB/369.8 KiB (2.2 MiB/s) with 1 file(s) remaining\r",
      "download: s3://sagemaker-ap-southeast-1-826353077320/xgboost-2020-07-21-15-35-16-598/test.csv.out to ../data/sentiment_web_app/test.csv.out\r\n"
     ]
    }
   ],
   "source": [
    "!aws s3 cp --recursive $xgb_transformer.output_path $data_dir"
   ]
  },
  {
   "cell_type": "markdown",
   "metadata": {},
   "source": [
    "The last step is now to read in the output from our model, convert the output to something a little more usable, in this case we want the sentiment to be either `1` (positive) or `0` (negative), and then compare to the ground truth labels."
   ]
  },
  {
   "cell_type": "code",
   "execution_count": 28,
   "metadata": {},
   "outputs": [],
   "source": [
    "predictions = pd.read_csv(os.path.join(data_dir, 'test.csv.out'), header=None)\n",
    "predictions = [round(num) for num in predictions.squeeze().values]"
   ]
  },
  {
   "cell_type": "code",
   "execution_count": 29,
   "metadata": {},
   "outputs": [
    {
     "data": {
      "text/plain": [
       "0.85788"
      ]
     },
     "execution_count": 29,
     "metadata": {},
     "output_type": "execute_result"
    }
   ],
   "source": [
    "from sklearn.metrics import accuracy_score\n",
    "accuracy_score(test_y, predictions)"
   ]
  },
  {
   "cell_type": "markdown",
   "metadata": {},
   "source": [
    "## Step 6: Deploying the model\n",
    "\n",
    "Once we construct and fit our model, SageMaker stores the resulting model artifacts and we can use those to deploy an endpoint (inference code). To see this, look in the SageMaker console and you should see that a model has been created along with a link to the S3 location where the model artifacts have been stored.\n",
    "\n",
    "Deploying an endpoint is a lot like training the model with a few important differences. The first is that a deployed model doesn't change the model artifacts, so as you send it various testing instances the model won't change. Another difference is that since we aren't performing a fixed computation, as we were in the training step or while performing a batch transform, the compute instance that gets started stays running until we tell it to stop. This is important to note as if we forget and leave it running we will be charged the entire time.\n",
    "\n",
    "In other words **If you are no longer using a deployed endpoint, shut it down!**"
   ]
  },
  {
   "cell_type": "code",
   "execution_count": 30,
   "metadata": {},
   "outputs": [
    {
     "name": "stderr",
     "output_type": "stream",
     "text": [
      "WARNING:sagemaker:Parameter image will be renamed to image_uri in SageMaker Python SDK v2.\n",
      "WARNING:sagemaker:Using already existing model: xgboost-2020-07-21-15-28-31-063\n"
     ]
    },
    {
     "name": "stdout",
     "output_type": "stream",
     "text": [
      "-------------!"
     ]
    }
   ],
   "source": [
    "xgb_predictor = xgb.deploy(initial_instance_count = 1, instance_type = 'ml.m4.xlarge')"
   ]
  },
  {
   "cell_type": "markdown",
   "metadata": {},
   "source": [
    "### Testing the model (again)\n",
    "\n",
    "Now that we have deployed our endpoint, we can send the testing data to it and get back the inference results. We already did this earlier using the batch transform functionality of SageMaker, however, we will test our model again using the newly deployed endpoint so that we can make sure that it works properly and to get a bit of a feel for how the endpoint works.\n",
    "\n",
    "When using the created endpoint it is important to know that we are limited in the amount of information we can send in each call so we need to break the testing data up into chunks and then send each chunk. Also, we need to serialize our data before we send it to the endpoint to ensure that our data is transmitted properly. Fortunately, SageMaker can do the serialization part for us provided we tell it the format of our data."
   ]
  },
  {
   "cell_type": "code",
   "execution_count": 31,
   "metadata": {},
   "outputs": [],
   "source": [
    "from sagemaker.predictor import csv_serializer\n",
    "\n",
    "# We need to tell the endpoint what format the data we are sending is in so that SageMaker can perform the serialization.\n",
    "xgb_predictor.content_type = 'text/csv'\n",
    "xgb_predictor.serializer = csv_serializer"
   ]
  },
  {
   "cell_type": "code",
   "execution_count": 32,
   "metadata": {},
   "outputs": [],
   "source": [
    "# We split the data into chunks and send each chunk seperately, accumulating the results.\n",
    "\n",
    "def predict(data, rows=512):\n",
    "    split_array = np.array_split(data, int(data.shape[0] / float(rows) + 1))\n",
    "    predictions = ''\n",
    "    for array in split_array:\n",
    "        predictions = ','.join([predictions, xgb_predictor.predict(array).decode('utf-8')])\n",
    "    \n",
    "    return np.fromstring(predictions[1:], sep=',')"
   ]
  },
  {
   "cell_type": "code",
   "execution_count": 33,
   "metadata": {},
   "outputs": [],
   "source": [
    "test_X = pd.read_csv(os.path.join(data_dir, 'test.csv'), header=None).values\n",
    "\n",
    "predictions = predict(test_X)\n",
    "predictions = [round(num) for num in predictions]"
   ]
  },
  {
   "cell_type": "markdown",
   "metadata": {},
   "source": [
    "Lastly, we check to see what the accuracy of our model is."
   ]
  },
  {
   "cell_type": "code",
   "execution_count": 34,
   "metadata": {},
   "outputs": [
    {
     "data": {
      "text/plain": [
       "0.85788"
      ]
     },
     "execution_count": 34,
     "metadata": {},
     "output_type": "execute_result"
    }
   ],
   "source": [
    "from sklearn.metrics import accuracy_score\n",
    "accuracy_score(test_y, predictions)"
   ]
  },
  {
   "cell_type": "markdown",
   "metadata": {},
   "source": [
    "And the results here should agree with the model testing that we did earlier using the batch transform job.\n",
    "\n",
    "### Cleaning up\n",
    "\n",
    "Now that we've determined that deploying our model works as expected, we are going to shut it down. Remember that the longer the endpoint is left running, the greater the cost and since we have a bit more work to do before we are able to use our endpoint with our simple web app, we should shut everything down."
   ]
  },
  {
   "cell_type": "code",
   "execution_count": 35,
   "metadata": {},
   "outputs": [],
   "source": [
    "xgb_predictor.delete_endpoint()"
   ]
  },
  {
   "cell_type": "markdown",
   "metadata": {},
   "source": [
    "## Step 7: Putting our model to work\n",
    "\n",
    "As we've mentioned a few times now, our goal is to have our model deployed and then access it using a very simple web app. The intent is for this web app to take some user submitted data (a review), send it off to our endpoint (the model) and then display the result.\n",
    "\n",
    "However, there is a small catch. Currently the only way we can access the endpoint to send it data is using the SageMaker API. We can, if we wish, expose the actual URL that our model's endpoint is receiving data from, however, if we just send it data ourselves we will not get anything in return. This is because the endpoint created by SageMaker requires the entity accessing it have the correct permissions. So, we would need to somehow authenticate our web app with AWS.\n",
    "\n",
    "Having a website that authenticates to AWS seems a bit beyond the scope of this lesson so we will opt for an alternative approach. Namely, we will create a new endpoint which does not require authentication and which acts as a proxy for the SageMaker endpoint.\n",
    "\n",
    "As an additional constraint, we will try to avoid doing any data processing in the web app itself. Remember that when we constructed and tested our model we started with a movie review, then we simplified it by removing any html formatting and punctuation, then we constructed a bag of words embedding and the resulting vector is what we sent to our model. All of this needs to be done to our user input as well.\n",
    "\n",
    "Fortunately we can do all of this data processing in the backend, using Amazon's Lambda service.\n",
    "\n",
    "<img src=\"Web App Diagram.svg\">\n",
    "\n",
    "The diagram above gives an overview of how the various services will work together. On the far right is the model which we trained above and which will be deployed using SageMaker. On the far left is our web app that collects a user's movie review, sends it off and expects a positive or negative sentiment in return.\n",
    "\n",
    "In the middle is where some of the magic happens. We will construct a Lambda function, which you can think of as a straightforward Python function that can be executed whenever a specified event occurs. This Python function will do the data processing we need to perform on a user submitted review. In addition, we will give this function permission to send and recieve data from a SageMaker endpoint.\n",
    "\n",
    "Lastly, the method we will use to execute the Lambda function is a new endpoint that we will create using API Gateway. This endpoint will be a url that listens for data to be sent to it. Once it gets some data it will pass that data on to the Lambda function and then return whatever the Lambda function returns. Essentially it will act as an interface that lets our web app communicate with the Lambda function.\n",
    "\n",
    "### Processing a single review\n",
    "\n",
    "For now, suppose we are given a movie review by our user in the form of a string, like so:"
   ]
  },
  {
   "cell_type": "code",
   "execution_count": 36,
   "metadata": {},
   "outputs": [],
   "source": [
    "test_review = \"Nothing but a disgusting materialistic pageant of glistening abed remote control greed zombies, totally devoid of any heart or heat. A romantic comedy that has zero romantic chemestry and zero laughs!\""
   ]
  },
  {
   "cell_type": "markdown",
   "metadata": {},
   "source": [
    "How do we go from this string to the bag of words feature vector that is expected by our model?\n",
    "\n",
    "If we recall at the beginning of this notebook, the first step is to remove any unnecessary characters using the `review_to_words` method. Remember that we intentionally did this in a very simplistic way. This is because we are going to have to copy this method to our (eventual) Lambda function (we will go into more detail later) and this means it needs to be rather simplistic."
   ]
  },
  {
   "cell_type": "code",
   "execution_count": 37,
   "metadata": {},
   "outputs": [
    {
     "name": "stdout",
     "output_type": "stream",
     "text": [
      "nothing but a disgusting materialistic pageant of glistening abed remote control greed zombies totally devoid of any heart or heat a romantic comedy that has zero romantic chemestry and zero laughs\n"
     ]
    }
   ],
   "source": [
    "test_words = review_to_words(test_review)\n",
    "print(test_words)"
   ]
  },
  {
   "cell_type": "markdown",
   "metadata": {},
   "source": [
    "Next, we need to construct a bag of words embedding of the `test_words` string. To do this, remember that a bag of words embedding uses a `vocabulary` consisting of the most frequently appearing words in a set of documents. Then, for each word in the vocabulary we record the number of times that word appears in `test_words`. We constructed the `vocabulary` earlier using the training set for our problem so encoding `test_words` is relatively straightforward."
   ]
  },
  {
   "cell_type": "code",
   "execution_count": 38,
   "metadata": {},
   "outputs": [],
   "source": [
    "def bow_encoding(words, vocabulary):\n",
    "    bow = [0] * len(vocabulary) # Start by setting the count for each word in the vocabulary to zero.\n",
    "    for word in words.split():  # For each word in the string\n",
    "        if word in vocabulary:  # If the word is one that occurs in the vocabulary, increase its count.\n",
    "            bow[vocabulary[word]] += 1\n",
    "    return bow"
   ]
  },
  {
   "cell_type": "code",
   "execution_count": 39,
   "metadata": {},
   "outputs": [
    {
     "name": "stdout",
     "output_type": "stream",
     "text": [
      "[0, 0, 0, 0, 0, 0, 0, 0, 0, 0, 0, 0, 0, 0, 0, 0, 0, 0, 0, 0, 0, 0, 0, 0, 0, 0, 0, 0, 0, 0, 0, 0, 0, 0, 0, 0, 0, 0, 0, 0, 0, 0, 0, 0, 0, 0, 0, 0, 0, 0, 0, 0, 0, 0, 0, 0, 0, 0, 0, 0, 0, 0, 0, 0, 0, 0, 0, 0, 0, 0, 0, 0, 0, 0, 0, 0, 0, 0, 0, 0, 0, 0, 0, 0, 0, 0, 0, 0, 0, 0, 0, 0, 0, 0, 0, 0, 0, 0, 0, 0, 0, 0, 0, 0, 0, 0, 0, 0, 0, 0, 0, 0, 0, 0, 0, 0, 0, 0, 0, 0, 0, 0, 0, 0, 0, 0, 0, 0, 0, 0, 0, 0, 0, 0, 0, 0, 0, 0, 0, 0, 0, 0, 0, 0, 0, 0, 0, 0, 0, 0, 0, 0, 0, 0, 0, 0, 0, 0, 0, 0, 0, 0, 0, 0, 0, 0, 0, 0, 0, 0, 0, 0, 0, 0, 0, 0, 0, 0, 0, 0, 0, 0, 0, 0, 0, 0, 0, 0, 0, 0, 0, 0, 0, 0, 0, 0, 0, 0, 0, 0, 0, 0, 0, 0, 0, 0, 0, 0, 0, 0, 0, 0, 0, 0, 0, 0, 0, 0, 0, 0, 0, 0, 0, 0, 0, 0, 1, 0, 0, 0, 0, 0, 0, 0, 0, 0, 0, 0, 0, 0, 0, 0, 0, 0, 0, 0, 0, 0, 0, 0, 0, 0, 0, 0, 0, 0, 1, 0, 0, 0, 0, 0, 0, 0, 0, 0, 0, 0, 0, 0, 0, 0, 0, 0, 0, 0, 0, 0, 0, 0, 0, 0, 0, 0, 0, 0, 0, 0, 0, 0, 0, 0, 0, 0, 0, 0, 0, 0, 0, 0, 0, 0, 0, 0, 0, 0, 0, 0, 0, 0, 0, 0, 0, 0, 0, 0, 0, 0, 0, 0, 0, 0, 0, 0, 0, 0, 0, 0, 0, 0, 0, 0, 0, 0, 0, 0, 0, 0, 0, 0, 0, 0, 0, 0, 0, 0, 0, 0, 0, 0, 0, 0, 0, 0, 0, 0, 0, 0, 0, 0, 0, 0, 0, 0, 0, 0, 0, 0, 0, 0, 0, 0, 0, 0, 0, 0, 0, 0, 0, 0, 0, 0, 0, 0, 0, 0, 0, 0, 0, 0, 0, 0, 0, 0, 0, 0, 0, 0, 0, 0, 0, 0, 0, 0, 0, 0, 0, 0, 0, 0, 0, 0, 0, 0, 0, 0, 0, 0, 0, 0, 0, 0, 0, 0, 0, 0, 0, 0, 0, 0, 0, 0, 0, 0, 0, 0, 0, 0, 0, 0, 0, 0, 0, 0, 0, 0, 0, 0, 0, 0, 0, 0, 0, 0, 0, 0, 0, 0, 0, 0, 0, 0, 0, 0, 0, 0, 0, 0, 0, 0, 0, 0, 0, 0, 0, 0, 0, 0, 0, 0, 0, 0, 0, 0, 0, 0, 0, 0, 0, 0, 0, 0, 0, 0, 0, 0, 0, 0, 0, 0, 0, 0, 0, 0, 0, 0, 0, 0, 0, 0, 0, 0, 0, 0, 0, 0, 0, 0, 0, 0, 0, 0, 0, 0, 0, 0, 0, 0, 0, 0, 0, 0, 0, 0, 0, 0, 0, 0, 0, 0, 0, 0, 0, 0, 0, 0, 0, 0, 0, 0, 0, 0, 0, 0, 0, 0, 0, 0, 0, 0, 0, 0, 0, 0, 0, 0, 0, 0, 0, 0, 0, 0, 0, 0, 0, 0, 0, 0, 0, 0, 0, 0, 0, 0, 0, 0, 0, 0, 0, 0, 0, 0, 0, 0, 0, 0, 0, 0, 0, 0, 0, 0, 0, 0, 0, 0, 0, 0, 0, 0, 0, 0, 0, 0, 0, 0, 0, 0, 0, 0, 0, 0, 0, 0, 0, 0, 0, 0, 0, 0, 0, 0, 0, 0, 0, 0, 1, 0, 0, 0, 0, 0, 0, 0, 0, 0, 0, 0, 0, 0, 0, 0, 0, 0, 0, 0, 0, 0, 0, 0, 0, 0, 0, 0, 0, 0, 0, 0, 0, 0, 0, 0, 0, 0, 0, 0, 0, 0, 0, 0, 0, 0, 0, 0, 0, 0, 0, 0, 0, 0, 0, 0, 0, 0, 0, 0, 0, 0, 0, 0, 0, 0, 0, 0, 0, 0, 0, 0, 0, 0, 0, 0, 0, 0, 0, 0, 0, 0, 0, 0, 0, 0, 0, 0, 0, 0, 0, 0, 0, 0, 0, 0, 0, 0, 0, 0, 0, 0, 0, 0, 0, 0, 0, 0, 0, 0, 0, 0, 0, 0, 0, 0, 0, 0, 0, 0, 0, 0, 0, 0, 0, 0, 0, 0, 0, 0, 0, 0, 0, 0, 0, 0, 0, 0, 0, 0, 0, 0, 0, 0, 0, 0, 0, 0, 0, 0, 0, 0, 0, 0, 0, 0, 0, 0, 0, 0, 0, 0, 0, 0, 0, 0, 0, 0, 0, 0, 0, 0, 0, 0, 0, 0, 0, 0, 0, 0, 0, 0, 0, 0, 0, 0, 0, 0, 0, 0, 0, 0, 0, 0, 0, 0, 0, 0, 0, 0, 0, 0, 0, 0, 0, 0, 0, 0, 0, 0, 0, 0, 0, 0, 0, 0, 0, 0, 0, 0, 0, 0, 0, 0, 0, 0, 0, 0, 0, 0, 0, 0, 0, 0, 0, 0, 0, 0, 0, 0, 0, 0, 0, 0, 0, 0, 0, 0, 0, 0, 0, 0, 0, 0, 1, 0, 0, 0, 0, 0, 0, 0, 0, 0, 0, 0, 0, 0, 0, 0, 0, 0, 0, 0, 0, 0, 0, 0, 0, 0, 0, 0, 0, 0, 0, 0, 0, 0, 0, 0, 0, 0, 0, 0, 0, 0, 0, 0, 0, 0, 0, 0, 0, 0, 0, 0, 0, 0, 0, 0, 0, 0, 0, 0, 0, 0, 0, 0, 0, 0, 0, 0, 0, 0, 0, 0, 0, 0, 0, 0, 0, 0, 0, 0, 0, 0, 0, 0, 0, 0, 0, 1, 0, 0, 0, 0, 0, 0, 0, 0, 0, 0, 0, 0, 0, 0, 0, 0, 0, 0, 0, 0, 0, 0, 0, 0, 0, 0, 0, 0, 0, 0, 0, 0, 0, 0, 0, 0, 0, 0, 0, 0, 0, 0, 0, 0, 0, 0, 0, 0, 0, 0, 0, 0, 0, 0, 0, 0, 0, 0, 0, 0, 0, 0, 0, 0, 0, 0, 0, 0, 0, 0, 0, 0, 0, 0, 0, 0, 0, 0, 0, 0, 0, 0, 0, 0, 0, 0, 0, 0, 0, 0, 0, 0, 0, 0, 0, 0, 0, 0, 0, 0, 0, 0, 0, 0, 0, 0, 0, 0, 0, 0, 0, 0, 0, 0, 0, 0, 0, 0, 0, 0, 0, 0, 0, 0, 0, 0, 0, 0, 0, 0, 0, 0, 0, 0, 0, 0, 0, 0, 0, 0, 0, 0, 0, 0, 0, 0, 0, 0, 0, 0, 0, 0, 0, 0, 0, 0, 0, 0, 0, 0, 0, 0, 0, 0, 0, 0, 0, 0, 0, 0, 0, 0, 0, 0, 0, 0, 0, 0, 0, 0, 0, 0, 0, 0, 0, 0, 0, 0, 0, 0, 0, 0, 0, 0, 0, 0, 0, 0, 0, 0, 0, 0, 0, 0, 0, 0, 0, 0, 0, 0, 0, 0, 0, 0, 0, 0, 0, 0, 0, 0, 0, 0, 0, 0, 0, 0, 0, 0, 0, 0, 0, 0, 0, 0, 0, 0, 0, 0, 0, 0, 0, 0, 0, 0, 0, 0, 0, 0, 0, 0, 0, 0, 1, 0, 0, 0, 0, 0, 0, 0, 0, 0, 0, 0, 0, 0, 0, 0, 0, 0, 0, 0, 0, 0, 0, 0, 0, 0, 0, 0, 0, 0, 0, 0, 0, 0, 0, 0, 0, 0, 0, 0, 0, 0, 0, 0, 0, 0, 0, 0, 0, 0, 0, 0, 0, 0, 0, 0, 1, 0, 0, 0, 0, 0, 0, 0, 0, 0, 0, 0, 0, 0, 0, 0, 0, 0, 0, 0, 0, 0, 0, 0, 0, 0, 0, 0, 0, 0, 0, 0, 0, 0, 0, 0, 0, 0, 0, 0, 0, 0, 0, 0, 0, 0, 0, 0, 0, 0, 0, 0, 0, 0, 0, 0, 0, 0, 0, 0, 0, 0, 0, 0, 0, 0, 0, 0, 0, 0, 0, 0, 0, 0, 0, 0, 0, 0, 0, 0, 0, 0, 0, 0, 0, 0, 0, 0, 0, 0, 0, 0, 0, 0, 0, 0, 0, 0, 0, 0, 0, 0, 0, 0, 0, 0, 0, 0, 0, 0, 0, 0, 0, 0, 0, 0, 0, 0, 0, 0, 0, 0, 0, 0, 0, 0, 0, 0, 0, 0, 0, 0, 0, 0, 0, 0, 0, 0, 0, 0, 0, 0, 0, 0, 0, 0, 0, 0, 0, 0, 0, 0, 0, 0, 0, 0, 0, 0, 0, 0, 0, 0, 0, 0, 0, 0, 0, 0, 0, 0, 0, 0, 0, 0, 0, 0, 0, 0, 0, 0, 0, 0, 0, 0, 0, 0, 0, 0, 0, 0, 0, 0, 0, 0, 0, 0, 0, 0, 0, 0, 0, 0, 0, 0, 0, 0, 0, 0, 0, 0, 0, 0, 0, 0, 0, 0, 0, 0, 0, 0, 0, 0, 0, 0, 0, 0, 0, 0, 0, 0, 0, 0, 0, 0, 0, 0, 0, 0, 0, 0, 0, 0, 0, 0, 0, 0, 0, 0, 0, 0, 0, 0, 0, 0, 0, 0, 0, 0, 0, 0, 0, 0, 0, 0, 0, 0, 0, 0, 0, 0, 0, 0, 0, 0, 0, 0, 0, 0, 0, 0, 0, 0, 0, 0, 0, 0, 0, 0, 0, 0, 0, 0, 0, 0, 0, 0, 0, 0, 0, 0, 0, 0, 0, 0, 0, 0, 0, 0, 0, 0, 0, 0, 0, 0, 0, 0, 0, 0, 0, 0, 0, 0, 0, 0, 0, 0, 0, 0, 0, 0, 0, 0, 0, 0, 0, 0, 0, 0, 0, 0, 0, 0, 0, 0, 0, 0, 0, 0, 0, 0, 0, 0, 0, 0, 0, 0, 0, 0, 0, 0, 0, 0, 0, 0, 0, 0, 0, 0, 0, 0, 0, 0, 0, 0, 0, 0, 0, 0, 0, 0, 0, 0, 0, 0, 0, 0, 0, 0, 0, 0, 0, 0, 0, 0, 0, 0, 0, 0, 0, 0, 0, 0, 0, 0, 0, 0, 0, 0, 0, 0, 0, 0, 0, 0, 0, 0, 0, 0, 0, 0, 0, 0, 0, 0, 0, 0, 0, 0, 0, 0, 0, 0, 0, 0, 0, 0, 0, 0, 0, 0, 0, 0, 0, 0, 0, 0, 0, 0, 0, 0, 0, 0, 0, 0, 0, 0, 0, 0, 0, 0, 0, 0, 0, 0, 0, 0, 0, 0, 0, 0, 0, 0, 0, 0, 0, 0, 0, 0, 0, 0, 0, 0, 0, 0, 0, 0, 0, 0, 0, 0, 0, 0, 0, 0, 0, 0, 0, 0, 0, 0, 0, 0, 0, 0, 0, 0, 0, 0, 0, 0, 0, 0, 0, 0, 0, 0, 0, 0, 0, 0, 0, 0, 0, 0, 0, 0, 0, 0, 0, 0, 0, 0, 0, 0, 0, 0, 0, 0, 0, 0, 0, 0, 0, 0, 0, 0, 0, 0, 0, 0, 0, 0, 0, 0, 0, 0, 0, 0, 0, 0, 0, 0, 0, 0, 0, 0, 0, 0, 0, 0, 0, 0, 0, 0, 0, 0, 0, 0, 0, 0, 0, 0, 0, 0, 0, 0, 0, 0, 0, 0, 0, 0, 0, 0, 0, 0, 0, 0, 0, 0, 0, 0, 0, 0, 0, 0, 0, 0, 0, 0, 0, 0, 0, 0, 0, 0, 0, 0, 0, 0, 0, 0, 0, 0, 0, 0, 0, 0, 0, 0, 0, 0, 0, 0, 0, 0, 0, 0, 0, 0, 0, 0, 0, 0, 0, 0, 0, 0, 0, 0, 0, 0, 0, 0, 0, 0, 0, 0, 0, 0, 0, 0, 0, 0, 0, 0, 0, 0, 0, 0, 0, 0, 0, 0, 0, 0, 0, 0, 0, 0, 0, 0, 1, 0, 0, 0, 0, 0, 0, 0, 0, 0, 0, 0, 0, 0, 0, 0, 0, 0, 0, 0, 0, 0, 0, 0, 0, 0, 0, 0, 0, 0, 0, 0, 0, 0, 0, 0, 0, 0, 0, 0, 0, 0, 0, 0, 0, 0, 0, 0, 0, 0, 0, 0, 0, 0, 0, 0, 0, 0, 0, 0, 0, 0, 0, 0, 0, 0, 0, 0, 0, 0, 0, 0, 0, 0, 0, 1, 0, 0, 0, 0, 0, 0, 0, 0, 0, 0, 0, 0, 0, 0, 0, 0, 0, 0, 0, 0, 1, 0, 0, 1, 0, 0, 0, 0, 0, 0, 0, 0, 0, 0, 0, 0, 0, 0, 0, 0, 0, 0, 0, 0, 0, 0, 0, 0, 0, 0, 0, 0, 0, 0, 0, 0, 0, 0, 0, 0, 0, 0, 0, 0, 0, 0, 0, 0, 0, 0, 0, 0, 0, 0, 0, 0, 0, 0, 0, 0, 0, 0, 0, 0, 0, 0, 0, 0, 0, 0, 0, 0, 0, 0, 0, 0, 0, 0, 0, 0, 0, 0, 0, 0, 0, 0, 0, 0, 0, 0, 0, 0, 0, 0, 0, 0, 0, 0, 0, 0, 0, 0, 0, 0, 0, 0, 0, 0, 0, 0, 0, 0, 0, 0, 0, 0, 0, 0, 0, 0, 0, 0, 0, 0, 0, 0, 0, 0, 0, 0, 0, 0, 0, 0, 0, 0, 0, 0, 0, 0, 0, 0, 0, 0, 0, 0, 0, 0, 0, 0, 0, 0, 0, 0, 0, 0, 0, 0, 0, 0, 0, 0, 0, 0, 0, 0, 0, 0, 0, 0, 0, 0, 0, 0, 0, 0, 0, 0, 0, 0, 0, 0, 0, 0, 0, 0, 0, 0, 0, 0, 0, 0, 0, 0, 0, 0, 0, 0, 0, 0, 0, 0, 0, 0, 0, 0, 0, 0, 0, 0, 0, 0, 0, 0, 0, 0, 0, 0, 0, 0, 0, 0, 0, 0, 0, 0, 0, 0, 0, 0, 0, 0, 0, 0, 0, 0, 0, 0, 0, 0, 0, 0, 0, 0, 0, 0, 0, 0, 0, 0, 0, 0, 0, 0, 0, 0, 0, 0, 0, 0, 0, 0, 0, 0, 0, 0, 0, 0, 0, 0, 0, 0, 0, 0, 0, 0, 0, 0, 0, 0, 0, 0, 0, 0, 0, 0, 0, 0, 0, 0, 0, 0, 0, 0, 0, 0, 0, 0, 0, 0, 0, 0, 0, 0, 0, 0, 0, 0, 0, 0, 0, 0, 0, 0, 0, 0, 0, 0, 0, 0, 0, 0, 0, 0, 0, 0, 0, 0, 0, 0, 0, 0, 0, 0, 0, 0, 0, 0, 0, 0, 0, 0, 0, 0, 0, 0, 0, 0, 0, 0, 0, 0, 0, 0, 0, 0, 0, 0, 0, 0, 0, 0, 0, 0, 0, 0, 0, 0, 0, 0, 0, 0, 0, 0, 0, 0, 0, 0, 0, 0, 0, 0, 0, 0, 0, 0, 0, 0, 0, 0, 0, 0, 0, 0, 0, 0, 0, 0, 0, 0, 0, 0, 0, 0, 0, 0, 0, 0, 0, 0, 0, 0, 0, 0, 0, 0, 0, 0, 0, 0, 0, 0, 0, 0, 0, 0, 0, 0, 0, 0, 0, 0, 0, 0, 0, 0, 0, 0, 0, 0, 0, 0, 0, 0, 0, 0, 0, 0, 0, 0, 0, 0, 0, 0, 0, 0, 0, 0, 0, 0, 0, 0, 0, 0, 0, 0, 0, 0, 0, 0, 1, 0, 0, 0, 0, 0, 0, 0, 0, 0, 0, 0, 0, 0, 0, 0, 0, 0, 0, 0, 0, 0, 0, 0, 0, 0, 0, 0, 0, 0, 0, 0, 0, 0, 0, 0, 0, 0, 0, 0, 0, 0, 0, 0, 0, 0, 0, 0, 0, 0, 0, 0, 0, 0, 0, 0, 0, 0, 0, 0, 0, 0, 0, 0, 0, 0, 0, 0, 0, 0, 0, 0, 0, 0, 0, 0, 0, 0, 0, 0, 0, 0, 0, 0, 0, 0, 0, 0, 0, 0, 0, 0, 0, 0, 0, 0, 0, 0, 0, 0, 0, 0, 0, 0, 0, 0, 0, 0, 0, 0, 0, 0, 0, 0, 0, 0, 0, 0, 0, 0, 0, 0, 0, 0, 0, 0, 0, 0, 0, 0, 0, 0, 0, 0, 0, 0, 0, 0, 0, 0, 0, 0, 0, 0, 0, 0, 0, 0, 0, 0, 0, 0, 0, 0, 0, 0, 0, 0, 0, 0, 0, 0, 0, 0, 0, 0, 0, 0, 0, 0, 0, 0, 0, 0, 0, 0, 0, 0, 0, 0, 0, 0, 0, 0, 0, 0, 0, 0, 0, 0, 0, 0, 0, 0, 0, 0, 0, 0, 0, 0, 0, 0, 0, 0, 0, 0, 0, 0, 0, 0, 0, 0, 0, 0, 0, 0, 0, 0, 0, 0, 0, 0, 0, 0, 0, 0, 0, 0, 0, 0, 0, 0, 0, 0, 0, 0, 0, 0, 0, 0, 0, 0, 0, 0, 0, 0, 0, 0, 0, 0, 0, 0, 0, 0, 0, 0, 0, 0, 0, 0, 0, 0, 0, 0, 0, 0, 0, 0, 0, 0, 0, 0, 0, 0, 0, 0, 0, 0, 0, 0, 0, 0, 0, 0, 0, 0, 0, 0, 0, 0, 0, 0, 0, 0, 0, 0, 0, 0, 0, 0, 0, 0, 0, 0, 0, 0, 0, 0, 0, 0, 0, 0, 0, 0, 0, 0, 0, 0, 0, 0, 0, 0, 0, 0, 0, 0, 0, 0, 0, 0, 0, 0, 0, 0, 0, 0, 0, 0, 0, 0, 0, 0, 0, 0, 0, 0, 0, 0, 0, 0, 0, 0, 0, 0, 0, 0, 0, 0, 0, 0, 0, 0, 0, 0, 0, 0, 0, 0, 0, 0, 0, 0, 0, 0, 0, 0, 0, 0, 0, 0, 0, 0, 0, 0, 0, 0, 0, 0, 0, 0, 0, 0, 0, 0, 0, 0, 0, 0, 0, 0, 0, 0, 0, 0, 0, 0, 0, 0, 0, 0, 0, 0, 0, 0, 0, 0, 0, 0, 0, 0, 0, 0, 0, 0, 0, 0, 0, 0, 0, 0, 0, 0, 0, 0, 0, 0, 0, 0, 0, 0, 0, 0, 0, 0, 0, 0, 0, 0, 0, 0, 0, 0, 0, 0, 0, 0, 0, 0, 0, 0, 0, 0, 0, 0, 0, 0, 0, 0, 0, 0, 0, 0, 0, 0, 0, 0, 0, 0, 0, 0, 0, 0, 0, 0, 0, 0, 0, 0, 0, 0, 0, 0, 0, 0, 0, 0, 0, 0, 0, 0, 0, 0, 0, 0, 0, 0, 0, 0, 0, 0, 0, 0, 0, 1, 0, 0, 0, 0, 0, 0, 0, 0, 0, 0, 0, 0, 0, 0, 0, 0, 0, 0, 0, 0, 0, 0, 0, 0, 0, 0, 0, 0, 0, 0, 0, 0, 0, 0, 0, 2, 0, 0, 0, 0, 0, 0, 0, 0, 0, 0, 0, 0, 0, 0, 0, 0, 0, 0, 0, 0, 0, 0, 0, 0, 0, 0, 0, 0, 0, 0, 0, 0, 0, 0, 0, 0, 0, 0, 0, 0, 1, 0, 0, 0, 0, 0, 0, 0, 0, 0, 0, 0, 0, 0, 0, 0, 0, 0, 0, 0, 0, 0, 0, 0, 0, 0, 0, 0, 0, 0, 0, 0, 0, 0, 0, 0, 0, 0, 0, 0, 0, 0, 0, 0, 0, 0, 0, 0, 0, 0, 0, 0, 0, 0, 0, 0, 0, 0, 0, 0, 0, 0, 0, 0, 0, 0, 0, 0, 0, 0, 0, 0, 0, 0, 0, 0, 0, 0, 0, 0, 0, 0, 0, 0, 0, 0, 0, 0, 0, 0, 0, 0, 0, 0, 0, 0, 0, 0, 0, 0, 0, 0, 0, 0, 0, 0, 0, 0, 0, 0, 0, 0, 0, 0, 0, 0, 0, 0, 0, 0, 0, 0, 0, 0, 0, 0, 0, 0, 0, 0, 0, 0, 0, 0, 0, 0, 0, 0, 0, 0, 0, 0, 0, 0, 0, 0, 0, 0, 0, 0, 0, 0, 0, 0, 0, 0, 0, 0, 0, 0, 0, 0, 0, 0, 0, 0, 0, 0, 0, 0, 0, 0, 0, 0, 0, 0, 0, 0, 0, 0, 0, 0, 0, 0, 0, 0, 0, 0, 0, 0, 0, 0, 0, 0, 0, 0, 0, 0, 0, 0, 0, 0, 0, 0, 0, 0, 0, 0, 0, 0, 0, 0, 0, 0, 0, 0, 0, 0, 0, 0, 0, 0, 0, 0, 0, 0, 0, 0, 0, 0, 0, 0, 0, 0, 0, 0, 0, 0, 0, 0, 0, 0, 0, 0, 0, 0, 0, 0, 0, 0, 0, 0, 0, 0, 0, 0, 0, 0, 0, 0, 0, 0, 0, 0, 0, 0, 0, 0, 0, 0, 0, 0, 0, 0, 0, 0, 0, 0, 0, 0, 0, 0, 0, 0, 0, 0, 0, 0, 0, 0, 0, 0, 0, 0, 0, 0, 0, 0, 0, 0, 0, 0, 0, 0, 0, 0, 0, 0, 0, 0, 0, 0, 0, 0, 0, 0, 0, 0, 0, 0, 0, 0, 0, 0, 0, 0, 0, 0, 0, 0, 0, 0, 0, 0, 0, 0, 0, 0, 0, 0, 0, 0, 0, 0, 0, 0, 0, 0, 0, 0, 0, 0, 0, 0, 0, 0, 0, 0, 0, 0, 0, 0, 0, 0, 0, 0, 0, 0, 0, 0, 0, 0, 0, 0, 0, 0, 0, 0, 0, 0, 0, 0, 0, 0, 0, 0, 0, 0, 0, 0, 0, 0, 0, 0, 0, 0, 0, 0, 0, 0, 0, 0, 0, 0, 0, 0, 0, 0, 0, 0, 0, 0, 0, 0, 0, 0, 0, 0, 0, 0, 0, 0, 0, 0, 0, 0, 0, 0, 0, 0, 0, 0, 0, 0, 0, 0, 0, 0, 0, 0, 0, 0, 0, 0, 0, 0, 0, 0, 0, 0, 0, 0, 0, 0, 0, 0, 0, 0, 0, 0, 0, 0, 0, 0, 0, 0, 0, 0, 0, 0, 0, 0, 0, 0, 0, 0, 0, 0, 0, 0, 0, 0, 0, 0, 0, 0, 0, 0, 0, 0, 0, 0, 0, 0, 0, 0, 0, 0, 1, 0, 0, 0, 0, 0, 0, 0, 0, 0, 0, 0, 0, 0, 0, 0, 0, 0, 0, 0, 0, 0, 0, 0, 0, 0, 0, 0, 0, 0, 0, 0, 0, 0, 0, 0, 0, 0, 0, 0, 0, 0, 0, 0, 0, 0, 0, 0, 0, 0, 0, 0, 0, 0, 0, 0, 0, 0, 0, 0, 0, 0, 0, 0, 0, 0, 0, 0, 0, 0, 0, 0, 0, 0, 0, 0, 0, 0, 0, 0, 0, 0, 0, 0, 0, 0, 0, 0, 0, 0, 0, 0, 0, 0, 0, 0, 0, 0, 0, 0, 0, 0, 0, 0, 0, 0, 0, 0, 0, 0, 0, 2, 0, 0, 0, 0, 0, 0, 0, 0, 0, 0, 0, 0, 0, 0, 0, 0, 0, 0, 0, 0, 0, 0, 0, 0, 0, 0, 0, 0, 0, 0, 0, 0, 0, 0, 0, 0, 0, 0, 0, 0, 0, 0, 0, 0, 0, 0, 0, 0, 0, 0, 0, 0, 0, 0, 0, 0, 0, 0, 0, 0, 0, 0, 0, 0, 0, 0, 0, 0, 0, 0, 0, 0, 0, 0, 0, 0, 0, 0, 0, 0, 0, 0, 0, 0, 0, 0, 0, 0, 0, 0, 0, 0, 0, 0, 0, 0, 0, 0, 0, 0, 0, 0, 0, 0, 0, 0, 0, 0, 0, 0, 0, 0, 0, 0, 0, 0, 0, 0, 0, 0, 0, 0, 0, 0, 0, 0, 0, 0, 0, 0, 0, 0, 0, 0, 0, 0, 0, 0, 0, 0, 0, 0, 0, 0, 0, 0, 0, 0, 0, 0, 0, 0, 0, 0, 0, 0, 0, 0, 0, 0, 0, 0, 0, 0, 0, 0, 0, 0, 0, 0, 0, 0, 0, 0, 0, 0, 0, 0, 0, 0, 0, 0, 0, 0, 0, 0, 0, 0, 0, 0, 0, 0, 0, 0, 0, 0, 0, 0, 0, 0, 0, 0, 0, 0, 0, 0, 0, 0, 0, 0, 0, 0, 0, 0, 0, 0, 0, 0, 0, 0, 0, 0, 0, 0, 0, 0, 0, 0, 0, 0, 0, 0, 0, 0, 0, 0, 0, 0, 0, 0, 0, 0, 0, 0, 0, 0, 0, 0, 0, 0, 0, 0, 0, 0, 0, 0, 0, 0, 0, 0, 0, 0, 0, 0, 0, 0, 0, 0, 0, 0, 0, 0, 0, 0, 0, 0, 0, 0, 0, 0, 0, 0, 0, 0, 0, 0, 0, 0, 0, 0, 0, 0, 0, 0, 0, 0, 0, 0, 0, 0, 0, 0, 0, 0, 0, 0, 0, 0, 0, 0, 0, 0, 0, 0, 0, 0, 0, 0, 0, 0, 0, 0, 0, 0, 0, 0, 0, 0, 0, 0, 0, 0, 0, 0, 0, 0, 0, 0, 0, 0, 0, 0, 0, 0, 0, 0, 0, 0, 0, 0, 0, 0, 0, 0, 0, 0, 0, 0, 0, 0, 0, 0, 0, 0, 0, 0, 0, 0, 0, 0, 0, 0, 0, 0, 0, 0, 0, 0, 0, 0, 0, 0, 0, 0, 0, 0, 0, 0, 0, 0, 0, 0, 0, 0, 0, 0, 0, 0, 0, 0, 0, 0, 0, 0, 0, 0, 0, 0, 0, 0, 0, 0, 0, 0, 0, 0, 0, 0, 0, 0, 0, 0, 0, 0, 0, 0, 0, 0, 0, 0, 0, 0, 0, 0, 0, 0, 0, 0, 0, 0, 0, 0, 0, 0, 0, 0, 0, 0, 0, 0, 0, 0, 0, 0, 0, 0, 0, 0, 0, 0, 0, 0, 0, 0, 0, 0, 0, 0, 0, 0, 0, 0, 0, 0, 0, 0, 0, 0, 0, 0, 0, 0, 0, 0, 0, 0, 0, 0, 0, 0, 0, 0, 0, 0, 0, 0, 0, 0, 0, 0, 0, 0, 0, 0, 0, 0, 0, 0, 0, 0, 0, 0, 0, 0, 0, 0, 0, 0, 0, 0, 0, 0, 0, 0, 0, 0, 0, 0, 0, 0, 0, 0, 0, 0, 0, 0, 0, 0, 0, 0, 0, 0, 0, 0, 0, 0, 0, 0, 0, 0, 0, 0, 0, 0, 0, 0, 0, 0, 0, 0, 0, 0, 0, 0, 0, 0, 0, 0, 0, 0, 0, 0, 0, 0, 0, 0, 0, 0, 0, 0, 0, 0, 0, 0, 0, 0, 0, 0, 0, 0, 0, 0, 0, 0, 0, 0, 0, 0, 0, 0, 0, 0, 0, 0, 0, 0, 0, 0, 0, 0, 0, 0, 0, 0, 0, 0, 0, 0, 0, 0, 0, 0, 0, 0, 0, 0, 0, 0, 0, 0, 0, 0, 0, 0, 0, 0, 0, 0, 0, 0, 0, 0, 0, 0, 0, 0, 0, 0, 0, 0, 0, 0, 0, 0, 0, 0, 0, 0, 0, 0, 0, 0, 0, 0, 0, 0, 0, 0, 0, 0, 0, 0, 0, 0, 0, 0, 0, 0, 0, 0, 0, 0, 0, 0, 0, 0, 0, 0, 0, 0, 1, 0, 0, 0, 0, 0, 0, 0, 0, 0, 0, 0, 0, 0, 0, 0, 0, 0, 0, 0, 0, 0, 0, 0, 0, 0, 0, 0, 0, 0, 0, 0, 0, 0, 0, 0, 0, 0, 0, 0, 0, 0, 0, 0, 0, 0, 0, 0, 0, 0, 0, 0, 0, 0, 0, 0, 0, 0, 0, 0, 0, 0, 0, 0, 0, 0, 0, 0, 0, 0, 0, 0, 0, 0, 0, 0, 0, 0, 0, 0, 0, 0, 0, 0, 0, 0, 0, 0, 0, 0, 0, 0, 0, 0, 0, 0, 0, 0, 0, 0, 0, 0, 0, 0, 0, 0, 0, 0, 1, 0, 0, 0, 0, 0, 0, 0, 0, 0, 0, 0, 0, 0, 0, 0, 0, 0, 0, 0, 0, 0, 0, 0, 0, 0, 0, 0, 0, 0, 0, 0, 0, 0, 0, 0, 0, 0, 0, 0, 0, 0, 0, 0, 0, 0, 0, 0, 0, 0, 0, 0, 0, 0, 0, 0, 0, 0, 0, 0, 0, 0, 0, 0, 0, 0, 0, 0, 0, 0, 0, 0, 0, 0, 0, 0, 0, 0, 0, 0, 0, 0, 0, 0, 0, 0, 0, 0, 0, 0, 0, 0, 0, 0, 0, 0, 0, 0, 0, 0, 0, 0, 0, 0, 0, 0, 0, 0, 0, 0, 0, 0, 0, 0, 0, 0, 0, 0, 0, 0, 0, 0, 0, 0, 0, 0, 0, 0, 0, 0, 0, 0, 0, 0, 0, 0, 0, 0, 0, 0, 0, 0, 0, 0, 0, 0, 0, 0, 0, 0, 0, 0, 0, 0, 0, 0, 0, 0, 0, 0, 0, 0, 0, 0, 0, 0, 0, 0, 0, 0, 0, 0, 0, 0, 0, 0, 0, 0, 0, 0, 0, 0, 0, 0, 0, 0, 0, 0, 0, 0, 0, 0, 0, 0, 0, 0, 0, 0, 0, 0, 0, 0, 0, 0, 0, 0, 0, 0, 0, 0, 0, 0, 0, 0, 0, 0, 0, 0, 0, 0, 0, 0, 0, 0, 0, 0, 0, 0, 0, 0, 0, 0, 0, 0, 0, 0, 0, 0, 0, 0, 0, 0, 0, 0, 0, 0, 0, 0, 0, 0, 0, 0, 0, 0, 0, 0, 0, 0, 0, 0, 0, 0, 0, 0, 0, 0, 0, 0, 0, 0, 0, 0, 0, 0, 0, 0, 0, 0, 0, 0, 0, 0, 0, 0, 0, 0, 0, 0, 0, 0, 0, 0, 0, 0, 0, 0, 0, 0, 0, 0, 0, 0, 0, 0, 0, 0, 0, 0, 0, 0, 0, 0, 0, 0, 0, 0, 0, 0, 0, 0, 0, 0, 0, 0, 0, 0, 0, 0, 0, 0, 0, 0, 0, 0, 0, 0, 0, 0, 0, 0, 0, 0, 0, 0, 0, 0, 0, 0, 0, 0, 0, 0, 0, 0, 0, 0, 0, 0, 0, 0, 0, 0, 0, 0, 0, 0, 0, 0, 0, 0, 0, 0, 0, 0, 0, 0, 0, 0, 0, 0, 0, 0, 0, 0, 0, 0, 0, 0, 0, 0, 0, 0, 0, 0, 0, 0, 0, 0, 0, 0, 0, 0, 0, 0, 0, 0, 0, 0, 0, 0, 0, 0, 0, 0, 0, 0, 0, 0, 0, 0, 0, 0, 0, 0, 0, 0, 0, 0, 0, 0, 0, 0, 0, 0, 0, 0, 0, 0, 0, 0, 0, 0, 0, 0, 0, 0, 0, 0, 0, 0, 0, 0, 0, 0, 0, 0, 0, 0, 0, 0, 0, 0, 0, 0, 2, 0, 1, 0]\n"
     ]
    }
   ],
   "source": [
    "test_bow = bow_encoding(test_words, vocabulary)\n",
    "print(test_bow)"
   ]
  },
  {
   "cell_type": "code",
   "execution_count": 40,
   "metadata": {},
   "outputs": [
    {
     "data": {
      "text/plain": [
       "5000"
      ]
     },
     "execution_count": 40,
     "metadata": {},
     "output_type": "execute_result"
    }
   ],
   "source": [
    "len(test_bow)"
   ]
  },
  {
   "cell_type": "markdown",
   "metadata": {},
   "source": [
    "So now we know how to construct a bag of words encoding of a user provided review, how to we send it to our endpoint? First, we need to start the endpoint back up."
   ]
  },
  {
   "cell_type": "code",
   "execution_count": 41,
   "metadata": {},
   "outputs": [
    {
     "name": "stderr",
     "output_type": "stream",
     "text": [
      "WARNING:sagemaker:Parameter image will be renamed to image_uri in SageMaker Python SDK v2.\n",
      "WARNING:sagemaker:Using already existing model: xgboost-2020-07-21-15-28-31-063\n"
     ]
    },
    {
     "name": "stdout",
     "output_type": "stream",
     "text": [
      "-------------!"
     ]
    }
   ],
   "source": [
    "xgb_predictor = xgb.deploy(initial_instance_count = 1, instance_type = 'ml.m4.xlarge')"
   ]
  },
  {
   "cell_type": "markdown",
   "metadata": {},
   "source": [
    "At this point we could just do the same thing that we did earlier when we tested our deployed model and send `test_bow` to our endpoint using the `xgb_predictor` object. However, when we eventually construct our Lambda function we won't have access to this object, so how do we call a SageMaker endpoint?\n",
    "\n",
    "It turns out that Python functions that are used in Lambda have access to another Amazon library called `boto3`. This library provides an API for working with Amazon services, including SageMaker. To start with, we need to get a handle to the SageMaker runtime."
   ]
  },
  {
   "cell_type": "code",
   "execution_count": 42,
   "metadata": {},
   "outputs": [],
   "source": [
    "import boto3\n",
    "\n",
    "runtime = boto3.Session().client('sagemaker-runtime')"
   ]
  },
  {
   "cell_type": "markdown",
   "metadata": {},
   "source": [
    "And now that we have access to the SageMaker runtime, we can ask it to make use of (invoke) an endpoint that has already been created. However, we need to provide SageMaker with the name of the deployed endpoint. To find this out we can print it out using the `xgb_predictor` object."
   ]
  },
  {
   "cell_type": "code",
   "execution_count": 43,
   "metadata": {},
   "outputs": [
    {
     "data": {
      "text/plain": [
       "'xgboost-2020-07-21-15-28-31-063'"
      ]
     },
     "execution_count": 43,
     "metadata": {},
     "output_type": "execute_result"
    }
   ],
   "source": [
    "xgb_predictor.endpoint"
   ]
  },
  {
   "cell_type": "markdown",
   "metadata": {},
   "source": [
    "Using the SageMaker runtime and the name of our endpoint, we can invoke the endpoint and send it the `test_bow` data."
   ]
  },
  {
   "cell_type": "code",
   "execution_count": 44,
   "metadata": {},
   "outputs": [
    {
     "ename": "ParamValidationError",
     "evalue": "Parameter validation failed:\nInvalid type for parameter Body, value: [0, 0, 0, 0, 0, 0, 0, 0, 0, 0, 0, 0, 0, 0, 0, 0, 0, 0, 0, 0, 0, 0, 0, 0, 0, 0, 0, 0, 0, 0, 0, 0, 0, 0, 0, 0, 0, 0, 0, 0, 0, 0, 0, 0, 0, 0, 0, 0, 0, 0, 0, 0, 0, 0, 0, 0, 0, 0, 0, 0, 0, 0, 0, 0, 0, 0, 0, 0, 0, 0, 0, 0, 0, 0, 0, 0, 0, 0, 0, 0, 0, 0, 0, 0, 0, 0, 0, 0, 0, 0, 0, 0, 0, 0, 0, 0, 0, 0, 0, 0, 0, 0, 0, 0, 0, 0, 0, 0, 0, 0, 0, 0, 0, 0, 0, 0, 0, 0, 0, 0, 0, 0, 0, 0, 0, 0, 0, 0, 0, 0, 0, 0, 0, 0, 0, 0, 0, 0, 0, 0, 0, 0, 0, 0, 0, 0, 0, 0, 0, 0, 0, 0, 0, 0, 0, 0, 0, 0, 0, 0, 0, 0, 0, 0, 0, 0, 0, 0, 0, 0, 0, 0, 0, 0, 0, 0, 0, 0, 0, 0, 0, 0, 0, 0, 0, 0, 0, 0, 0, 0, 0, 0, 0, 0, 0, 0, 0, 0, 0, 0, 0, 0, 0, 0, 0, 0, 0, 0, 0, 0, 0, 0, 0, 0, 0, 0, 0, 0, 0, 0, 0, 0, 0, 0, 0, 0, 1, 0, 0, 0, 0, 0, 0, 0, 0, 0, 0, 0, 0, 0, 0, 0, 0, 0, 0, 0, 0, 0, 0, 0, 0, 0, 0, 0, 0, 0, 1, 0, 0, 0, 0, 0, 0, 0, 0, 0, 0, 0, 0, 0, 0, 0, 0, 0, 0, 0, 0, 0, 0, 0, 0, 0, 0, 0, 0, 0, 0, 0, 0, 0, 0, 0, 0, 0, 0, 0, 0, 0, 0, 0, 0, 0, 0, 0, 0, 0, 0, 0, 0, 0, 0, 0, 0, 0, 0, 0, 0, 0, 0, 0, 0, 0, 0, 0, 0, 0, 0, 0, 0, 0, 0, 0, 0, 0, 0, 0, 0, 0, 0, 0, 0, 0, 0, 0, 0, 0, 0, 0, 0, 0, 0, 0, 0, 0, 0, 0, 0, 0, 0, 0, 0, 0, 0, 0, 0, 0, 0, 0, 0, 0, 0, 0, 0, 0, 0, 0, 0, 0, 0, 0, 0, 0, 0, 0, 0, 0, 0, 0, 0, 0, 0, 0, 0, 0, 0, 0, 0, 0, 0, 0, 0, 0, 0, 0, 0, 0, 0, 0, 0, 0, 0, 0, 0, 0, 0, 0, 0, 0, 0, 0, 0, 0, 0, 0, 0, 0, 0, 0, 0, 0, 0, 0, 0, 0, 0, 0, 0, 0, 0, 0, 0, 0, 0, 0, 0, 0, 0, 0, 0, 0, 0, 0, 0, 0, 0, 0, 0, 0, 0, 0, 0, 0, 0, 0, 0, 0, 0, 0, 0, 0, 0, 0, 0, 0, 0, 0, 0, 0, 0, 0, 0, 0, 0, 0, 0, 0, 0, 0, 0, 0, 0, 0, 0, 0, 0, 0, 0, 0, 0, 0, 0, 0, 0, 0, 0, 0, 0, 0, 0, 0, 0, 0, 0, 0, 0, 0, 0, 0, 0, 0, 0, 0, 0, 0, 0, 0, 0, 0, 0, 0, 0, 0, 0, 0, 0, 0, 0, 0, 0, 0, 0, 0, 0, 0, 0, 0, 0, 0, 0, 0, 0, 0, 0, 0, 0, 0, 0, 0, 0, 0, 0, 0, 0, 0, 0, 0, 0, 0, 0, 0, 0, 0, 0, 0, 0, 0, 0, 0, 0, 0, 0, 0, 0, 0, 0, 0, 0, 0, 0, 0, 0, 0, 0, 0, 0, 0, 0, 0, 0, 0, 0, 0, 0, 0, 0, 0, 0, 0, 0, 0, 0, 0, 0, 0, 0, 0, 0, 0, 0, 0, 0, 0, 0, 0, 0, 0, 0, 0, 0, 0, 0, 0, 0, 0, 0, 0, 1, 0, 0, 0, 0, 0, 0, 0, 0, 0, 0, 0, 0, 0, 0, 0, 0, 0, 0, 0, 0, 0, 0, 0, 0, 0, 0, 0, 0, 0, 0, 0, 0, 0, 0, 0, 0, 0, 0, 0, 0, 0, 0, 0, 0, 0, 0, 0, 0, 0, 0, 0, 0, 0, 0, 0, 0, 0, 0, 0, 0, 0, 0, 0, 0, 0, 0, 0, 0, 0, 0, 0, 0, 0, 0, 0, 0, 0, 0, 0, 0, 0, 0, 0, 0, 0, 0, 0, 0, 0, 0, 0, 0, 0, 0, 0, 0, 0, 0, 0, 0, 0, 0, 0, 0, 0, 0, 0, 0, 0, 0, 0, 0, 0, 0, 0, 0, 0, 0, 0, 0, 0, 0, 0, 0, 0, 0, 0, 0, 0, 0, 0, 0, 0, 0, 0, 0, 0, 0, 0, 0, 0, 0, 0, 0, 0, 0, 0, 0, 0, 0, 0, 0, 0, 0, 0, 0, 0, 0, 0, 0, 0, 0, 0, 0, 0, 0, 0, 0, 0, 0, 0, 0, 0, 0, 0, 0, 0, 0, 0, 0, 0, 0, 0, 0, 0, 0, 0, 0, 0, 0, 0, 0, 0, 0, 0, 0, 0, 0, 0, 0, 0, 0, 0, 0, 0, 0, 0, 0, 0, 0, 0, 0, 0, 0, 0, 0, 0, 0, 0, 0, 0, 0, 0, 0, 0, 0, 0, 0, 0, 0, 0, 0, 0, 0, 0, 0, 0, 0, 0, 0, 0, 0, 0, 0, 0, 0, 0, 0, 0, 0, 0, 0, 0, 1, 0, 0, 0, 0, 0, 0, 0, 0, 0, 0, 0, 0, 0, 0, 0, 0, 0, 0, 0, 0, 0, 0, 0, 0, 0, 0, 0, 0, 0, 0, 0, 0, 0, 0, 0, 0, 0, 0, 0, 0, 0, 0, 0, 0, 0, 0, 0, 0, 0, 0, 0, 0, 0, 0, 0, 0, 0, 0, 0, 0, 0, 0, 0, 0, 0, 0, 0, 0, 0, 0, 0, 0, 0, 0, 0, 0, 0, 0, 0, 0, 0, 0, 0, 0, 0, 0, 1, 0, 0, 0, 0, 0, 0, 0, 0, 0, 0, 0, 0, 0, 0, 0, 0, 0, 0, 0, 0, 0, 0, 0, 0, 0, 0, 0, 0, 0, 0, 0, 0, 0, 0, 0, 0, 0, 0, 0, 0, 0, 0, 0, 0, 0, 0, 0, 0, 0, 0, 0, 0, 0, 0, 0, 0, 0, 0, 0, 0, 0, 0, 0, 0, 0, 0, 0, 0, 0, 0, 0, 0, 0, 0, 0, 0, 0, 0, 0, 0, 0, 0, 0, 0, 0, 0, 0, 0, 0, 0, 0, 0, 0, 0, 0, 0, 0, 0, 0, 0, 0, 0, 0, 0, 0, 0, 0, 0, 0, 0, 0, 0, 0, 0, 0, 0, 0, 0, 0, 0, 0, 0, 0, 0, 0, 0, 0, 0, 0, 0, 0, 0, 0, 0, 0, 0, 0, 0, 0, 0, 0, 0, 0, 0, 0, 0, 0, 0, 0, 0, 0, 0, 0, 0, 0, 0, 0, 0, 0, 0, 0, 0, 0, 0, 0, 0, 0, 0, 0, 0, 0, 0, 0, 0, 0, 0, 0, 0, 0, 0, 0, 0, 0, 0, 0, 0, 0, 0, 0, 0, 0, 0, 0, 0, 0, 0, 0, 0, 0, 0, 0, 0, 0, 0, 0, 0, 0, 0, 0, 0, 0, 0, 0, 0, 0, 0, 0, 0, 0, 0, 0, 0, 0, 0, 0, 0, 0, 0, 0, 0, 0, 0, 0, 0, 0, 0, 0, 0, 0, 0, 0, 0, 0, 0, 0, 0, 0, 0, 0, 0, 0, 0, 1, 0, 0, 0, 0, 0, 0, 0, 0, 0, 0, 0, 0, 0, 0, 0, 0, 0, 0, 0, 0, 0, 0, 0, 0, 0, 0, 0, 0, 0, 0, 0, 0, 0, 0, 0, 0, 0, 0, 0, 0, 0, 0, 0, 0, 0, 0, 0, 0, 0, 0, 0, 0, 0, 0, 0, 1, 0, 0, 0, 0, 0, 0, 0, 0, 0, 0, 0, 0, 0, 0, 0, 0, 0, 0, 0, 0, 0, 0, 0, 0, 0, 0, 0, 0, 0, 0, 0, 0, 0, 0, 0, 0, 0, 0, 0, 0, 0, 0, 0, 0, 0, 0, 0, 0, 0, 0, 0, 0, 0, 0, 0, 0, 0, 0, 0, 0, 0, 0, 0, 0, 0, 0, 0, 0, 0, 0, 0, 0, 0, 0, 0, 0, 0, 0, 0, 0, 0, 0, 0, 0, 0, 0, 0, 0, 0, 0, 0, 0, 0, 0, 0, 0, 0, 0, 0, 0, 0, 0, 0, 0, 0, 0, 0, 0, 0, 0, 0, 0, 0, 0, 0, 0, 0, 0, 0, 0, 0, 0, 0, 0, 0, 0, 0, 0, 0, 0, 0, 0, 0, 0, 0, 0, 0, 0, 0, 0, 0, 0, 0, 0, 0, 0, 0, 0, 0, 0, 0, 0, 0, 0, 0, 0, 0, 0, 0, 0, 0, 0, 0, 0, 0, 0, 0, 0, 0, 0, 0, 0, 0, 0, 0, 0, 0, 0, 0, 0, 0, 0, 0, 0, 0, 0, 0, 0, 0, 0, 0, 0, 0, 0, 0, 0, 0, 0, 0, 0, 0, 0, 0, 0, 0, 0, 0, 0, 0, 0, 0, 0, 0, 0, 0, 0, 0, 0, 0, 0, 0, 0, 0, 0, 0, 0, 0, 0, 0, 0, 0, 0, 0, 0, 0, 0, 0, 0, 0, 0, 0, 0, 0, 0, 0, 0, 0, 0, 0, 0, 0, 0, 0, 0, 0, 0, 0, 0, 0, 0, 0, 0, 0, 0, 0, 0, 0, 0, 0, 0, 0, 0, 0, 0, 0, 0, 0, 0, 0, 0, 0, 0, 0, 0, 0, 0, 0, 0, 0, 0, 0, 0, 0, 0, 0, 0, 0, 0, 0, 0, 0, 0, 0, 0, 0, 0, 0, 0, 0, 0, 0, 0, 0, 0, 0, 0, 0, 0, 0, 0, 0, 0, 0, 0, 0, 0, 0, 0, 0, 0, 0, 0, 0, 0, 0, 0, 0, 0, 0, 0, 0, 0, 0, 0, 0, 0, 0, 0, 0, 0, 0, 0, 0, 0, 0, 0, 0, 0, 0, 0, 0, 0, 0, 0, 0, 0, 0, 0, 0, 0, 0, 0, 0, 0, 0, 0, 0, 0, 0, 0, 0, 0, 0, 0, 0, 0, 0, 0, 0, 0, 0, 0, 0, 0, 0, 0, 0, 0, 0, 0, 0, 0, 0, 0, 0, 0, 0, 0, 0, 0, 0, 0, 0, 0, 0, 0, 0, 0, 0, 0, 0, 0, 0, 0, 0, 0, 0, 0, 0, 0, 0, 0, 0, 0, 0, 0, 0, 0, 0, 0, 0, 0, 0, 0, 0, 0, 0, 0, 0, 0, 0, 0, 0, 0, 0, 0, 0, 0, 0, 0, 0, 0, 0, 0, 0, 0, 0, 0, 0, 0, 0, 0, 0, 0, 0, 0, 0, 0, 0, 0, 0, 0, 0, 0, 0, 0, 0, 0, 0, 0, 0, 0, 0, 0, 0, 0, 0, 0, 0, 0, 0, 0, 0, 0, 0, 0, 0, 0, 0, 0, 0, 0, 0, 0, 0, 0, 0, 0, 0, 0, 0, 0, 0, 0, 0, 0, 0, 0, 0, 0, 0, 0, 0, 0, 0, 0, 0, 0, 0, 0, 0, 0, 0, 0, 0, 0, 0, 0, 0, 0, 0, 0, 0, 0, 0, 0, 0, 0, 0, 0, 0, 0, 0, 0, 0, 0, 0, 0, 0, 0, 0, 0, 0, 0, 0, 0, 0, 0, 0, 0, 0, 0, 0, 0, 0, 0, 0, 0, 0, 0, 0, 0, 0, 0, 0, 0, 0, 0, 0, 0, 0, 0, 0, 0, 0, 0, 0, 0, 0, 0, 0, 0, 0, 0, 0, 0, 0, 0, 0, 0, 0, 0, 0, 0, 0, 0, 0, 0, 0, 0, 0, 0, 0, 0, 0, 0, 0, 0, 0, 0, 0, 0, 0, 0, 0, 0, 0, 0, 0, 0, 0, 0, 0, 0, 0, 0, 0, 0, 0, 0, 0, 0, 0, 0, 0, 0, 0, 0, 0, 0, 0, 0, 0, 0, 0, 0, 0, 0, 0, 0, 0, 1, 0, 0, 0, 0, 0, 0, 0, 0, 0, 0, 0, 0, 0, 0, 0, 0, 0, 0, 0, 0, 0, 0, 0, 0, 0, 0, 0, 0, 0, 0, 0, 0, 0, 0, 0, 0, 0, 0, 0, 0, 0, 0, 0, 0, 0, 0, 0, 0, 0, 0, 0, 0, 0, 0, 0, 0, 0, 0, 0, 0, 0, 0, 0, 0, 0, 0, 0, 0, 0, 0, 0, 0, 0, 0, 1, 0, 0, 0, 0, 0, 0, 0, 0, 0, 0, 0, 0, 0, 0, 0, 0, 0, 0, 0, 0, 1, 0, 0, 1, 0, 0, 0, 0, 0, 0, 0, 0, 0, 0, 0, 0, 0, 0, 0, 0, 0, 0, 0, 0, 0, 0, 0, 0, 0, 0, 0, 0, 0, 0, 0, 0, 0, 0, 0, 0, 0, 0, 0, 0, 0, 0, 0, 0, 0, 0, 0, 0, 0, 0, 0, 0, 0, 0, 0, 0, 0, 0, 0, 0, 0, 0, 0, 0, 0, 0, 0, 0, 0, 0, 0, 0, 0, 0, 0, 0, 0, 0, 0, 0, 0, 0, 0, 0, 0, 0, 0, 0, 0, 0, 0, 0, 0, 0, 0, 0, 0, 0, 0, 0, 0, 0, 0, 0, 0, 0, 0, 0, 0, 0, 0, 0, 0, 0, 0, 0, 0, 0, 0, 0, 0, 0, 0, 0, 0, 0, 0, 0, 0, 0, 0, 0, 0, 0, 0, 0, 0, 0, 0, 0, 0, 0, 0, 0, 0, 0, 0, 0, 0, 0, 0, 0, 0, 0, 0, 0, 0, 0, 0, 0, 0, 0, 0, 0, 0, 0, 0, 0, 0, 0, 0, 0, 0, 0, 0, 0, 0, 0, 0, 0, 0, 0, 0, 0, 0, 0, 0, 0, 0, 0, 0, 0, 0, 0, 0, 0, 0, 0, 0, 0, 0, 0, 0, 0, 0, 0, 0, 0, 0, 0, 0, 0, 0, 0, 0, 0, 0, 0, 0, 0, 0, 0, 0, 0, 0, 0, 0, 0, 0, 0, 0, 0, 0, 0, 0, 0, 0, 0, 0, 0, 0, 0, 0, 0, 0, 0, 0, 0, 0, 0, 0, 0, 0, 0, 0, 0, 0, 0, 0, 0, 0, 0, 0, 0, 0, 0, 0, 0, 0, 0, 0, 0, 0, 0, 0, 0, 0, 0, 0, 0, 0, 0, 0, 0, 0, 0, 0, 0, 0, 0, 0, 0, 0, 0, 0, 0, 0, 0, 0, 0, 0, 0, 0, 0, 0, 0, 0, 0, 0, 0, 0, 0, 0, 0, 0, 0, 0, 0, 0, 0, 0, 0, 0, 0, 0, 0, 0, 0, 0, 0, 0, 0, 0, 0, 0, 0, 0, 0, 0, 0, 0, 0, 0, 0, 0, 0, 0, 0, 0, 0, 0, 0, 0, 0, 0, 0, 0, 0, 0, 0, 0, 0, 0, 0, 0, 0, 0, 0, 0, 0, 0, 0, 0, 0, 0, 0, 0, 0, 0, 0, 0, 0, 0, 0, 0, 0, 0, 0, 0, 0, 0, 0, 0, 0, 0, 0, 0, 0, 0, 0, 0, 0, 0, 0, 0, 0, 0, 0, 0, 0, 0, 0, 0, 0, 0, 0, 0, 0, 0, 0, 0, 0, 0, 0, 0, 0, 0, 0, 0, 0, 0, 0, 0, 0, 0, 0, 0, 0, 0, 0, 0, 0, 0, 0, 0, 0, 0, 0, 0, 0, 0, 0, 0, 0, 0, 0, 0, 0, 0, 0, 0, 0, 0, 0, 0, 0, 1, 0, 0, 0, 0, 0, 0, 0, 0, 0, 0, 0, 0, 0, 0, 0, 0, 0, 0, 0, 0, 0, 0, 0, 0, 0, 0, 0, 0, 0, 0, 0, 0, 0, 0, 0, 0, 0, 0, 0, 0, 0, 0, 0, 0, 0, 0, 0, 0, 0, 0, 0, 0, 0, 0, 0, 0, 0, 0, 0, 0, 0, 0, 0, 0, 0, 0, 0, 0, 0, 0, 0, 0, 0, 0, 0, 0, 0, 0, 0, 0, 0, 0, 0, 0, 0, 0, 0, 0, 0, 0, 0, 0, 0, 0, 0, 0, 0, 0, 0, 0, 0, 0, 0, 0, 0, 0, 0, 0, 0, 0, 0, 0, 0, 0, 0, 0, 0, 0, 0, 0, 0, 0, 0, 0, 0, 0, 0, 0, 0, 0, 0, 0, 0, 0, 0, 0, 0, 0, 0, 0, 0, 0, 0, 0, 0, 0, 0, 0, 0, 0, 0, 0, 0, 0, 0, 0, 0, 0, 0, 0, 0, 0, 0, 0, 0, 0, 0, 0, 0, 0, 0, 0, 0, 0, 0, 0, 0, 0, 0, 0, 0, 0, 0, 0, 0, 0, 0, 0, 0, 0, 0, 0, 0, 0, 0, 0, 0, 0, 0, 0, 0, 0, 0, 0, 0, 0, 0, 0, 0, 0, 0, 0, 0, 0, 0, 0, 0, 0, 0, 0, 0, 0, 0, 0, 0, 0, 0, 0, 0, 0, 0, 0, 0, 0, 0, 0, 0, 0, 0, 0, 0, 0, 0, 0, 0, 0, 0, 0, 0, 0, 0, 0, 0, 0, 0, 0, 0, 0, 0, 0, 0, 0, 0, 0, 0, 0, 0, 0, 0, 0, 0, 0, 0, 0, 0, 0, 0, 0, 0, 0, 0, 0, 0, 0, 0, 0, 0, 0, 0, 0, 0, 0, 0, 0, 0, 0, 0, 0, 0, 0, 0, 0, 0, 0, 0, 0, 0, 0, 0, 0, 0, 0, 0, 0, 0, 0, 0, 0, 0, 0, 0, 0, 0, 0, 0, 0, 0, 0, 0, 0, 0, 0, 0, 0, 0, 0, 0, 0, 0, 0, 0, 0, 0, 0, 0, 0, 0, 0, 0, 0, 0, 0, 0, 0, 0, 0, 0, 0, 0, 0, 0, 0, 0, 0, 0, 0, 0, 0, 0, 0, 0, 0, 0, 0, 0, 0, 0, 0, 0, 0, 0, 0, 0, 0, 0, 0, 0, 0, 0, 0, 0, 0, 0, 0, 0, 0, 0, 0, 0, 0, 0, 0, 0, 0, 0, 0, 0, 0, 0, 0, 0, 0, 0, 0, 0, 0, 0, 0, 0, 0, 0, 0, 0, 0, 0, 0, 0, 0, 0, 0, 0, 0, 0, 0, 0, 0, 0, 0, 0, 0, 0, 0, 0, 0, 0, 0, 0, 0, 0, 0, 0, 0, 0, 0, 0, 0, 0, 0, 0, 0, 0, 0, 0, 0, 0, 0, 0, 0, 0, 0, 0, 0, 0, 0, 0, 0, 0, 0, 0, 0, 0, 0, 0, 0, 0, 0, 0, 0, 0, 0, 0, 0, 0, 0, 0, 0, 0, 0, 0, 0, 0, 0, 0, 0, 0, 0, 0, 0, 0, 0, 0, 0, 1, 0, 0, 0, 0, 0, 0, 0, 0, 0, 0, 0, 0, 0, 0, 0, 0, 0, 0, 0, 0, 0, 0, 0, 0, 0, 0, 0, 0, 0, 0, 0, 0, 0, 0, 0, 2, 0, 0, 0, 0, 0, 0, 0, 0, 0, 0, 0, 0, 0, 0, 0, 0, 0, 0, 0, 0, 0, 0, 0, 0, 0, 0, 0, 0, 0, 0, 0, 0, 0, 0, 0, 0, 0, 0, 0, 0, 1, 0, 0, 0, 0, 0, 0, 0, 0, 0, 0, 0, 0, 0, 0, 0, 0, 0, 0, 0, 0, 0, 0, 0, 0, 0, 0, 0, 0, 0, 0, 0, 0, 0, 0, 0, 0, 0, 0, 0, 0, 0, 0, 0, 0, 0, 0, 0, 0, 0, 0, 0, 0, 0, 0, 0, 0, 0, 0, 0, 0, 0, 0, 0, 0, 0, 0, 0, 0, 0, 0, 0, 0, 0, 0, 0, 0, 0, 0, 0, 0, 0, 0, 0, 0, 0, 0, 0, 0, 0, 0, 0, 0, 0, 0, 0, 0, 0, 0, 0, 0, 0, 0, 0, 0, 0, 0, 0, 0, 0, 0, 0, 0, 0, 0, 0, 0, 0, 0, 0, 0, 0, 0, 0, 0, 0, 0, 0, 0, 0, 0, 0, 0, 0, 0, 0, 0, 0, 0, 0, 0, 0, 0, 0, 0, 0, 0, 0, 0, 0, 0, 0, 0, 0, 0, 0, 0, 0, 0, 0, 0, 0, 0, 0, 0, 0, 0, 0, 0, 0, 0, 0, 0, 0, 0, 0, 0, 0, 0, 0, 0, 0, 0, 0, 0, 0, 0, 0, 0, 0, 0, 0, 0, 0, 0, 0, 0, 0, 0, 0, 0, 0, 0, 0, 0, 0, 0, 0, 0, 0, 0, 0, 0, 0, 0, 0, 0, 0, 0, 0, 0, 0, 0, 0, 0, 0, 0, 0, 0, 0, 0, 0, 0, 0, 0, 0, 0, 0, 0, 0, 0, 0, 0, 0, 0, 0, 0, 0, 0, 0, 0, 0, 0, 0, 0, 0, 0, 0, 0, 0, 0, 0, 0, 0, 0, 0, 0, 0, 0, 0, 0, 0, 0, 0, 0, 0, 0, 0, 0, 0, 0, 0, 0, 0, 0, 0, 0, 0, 0, 0, 0, 0, 0, 0, 0, 0, 0, 0, 0, 0, 0, 0, 0, 0, 0, 0, 0, 0, 0, 0, 0, 0, 0, 0, 0, 0, 0, 0, 0, 0, 0, 0, 0, 0, 0, 0, 0, 0, 0, 0, 0, 0, 0, 0, 0, 0, 0, 0, 0, 0, 0, 0, 0, 0, 0, 0, 0, 0, 0, 0, 0, 0, 0, 0, 0, 0, 0, 0, 0, 0, 0, 0, 0, 0, 0, 0, 0, 0, 0, 0, 0, 0, 0, 0, 0, 0, 0, 0, 0, 0, 0, 0, 0, 0, 0, 0, 0, 0, 0, 0, 0, 0, 0, 0, 0, 0, 0, 0, 0, 0, 0, 0, 0, 0, 0, 0, 0, 0, 0, 0, 0, 0, 0, 0, 0, 0, 0, 0, 0, 0, 0, 0, 0, 0, 0, 0, 0, 0, 0, 0, 0, 0, 0, 0, 0, 0, 0, 0, 0, 0, 0, 0, 0, 0, 0, 0, 0, 0, 0, 0, 0, 0, 0, 0, 0, 0, 0, 0, 0, 0, 0, 0, 0, 0, 0, 0, 0, 0, 0, 0, 0, 0, 0, 0, 0, 0, 0, 0, 0, 0, 0, 0, 0, 0, 0, 0, 0, 0, 0, 0, 0, 0, 0, 0, 0, 0, 0, 0, 1, 0, 0, 0, 0, 0, 0, 0, 0, 0, 0, 0, 0, 0, 0, 0, 0, 0, 0, 0, 0, 0, 0, 0, 0, 0, 0, 0, 0, 0, 0, 0, 0, 0, 0, 0, 0, 0, 0, 0, 0, 0, 0, 0, 0, 0, 0, 0, 0, 0, 0, 0, 0, 0, 0, 0, 0, 0, 0, 0, 0, 0, 0, 0, 0, 0, 0, 0, 0, 0, 0, 0, 0, 0, 0, 0, 0, 0, 0, 0, 0, 0, 0, 0, 0, 0, 0, 0, 0, 0, 0, 0, 0, 0, 0, 0, 0, 0, 0, 0, 0, 0, 0, 0, 0, 0, 0, 0, 0, 0, 0, 2, 0, 0, 0, 0, 0, 0, 0, 0, 0, 0, 0, 0, 0, 0, 0, 0, 0, 0, 0, 0, 0, 0, 0, 0, 0, 0, 0, 0, 0, 0, 0, 0, 0, 0, 0, 0, 0, 0, 0, 0, 0, 0, 0, 0, 0, 0, 0, 0, 0, 0, 0, 0, 0, 0, 0, 0, 0, 0, 0, 0, 0, 0, 0, 0, 0, 0, 0, 0, 0, 0, 0, 0, 0, 0, 0, 0, 0, 0, 0, 0, 0, 0, 0, 0, 0, 0, 0, 0, 0, 0, 0, 0, 0, 0, 0, 0, 0, 0, 0, 0, 0, 0, 0, 0, 0, 0, 0, 0, 0, 0, 0, 0, 0, 0, 0, 0, 0, 0, 0, 0, 0, 0, 0, 0, 0, 0, 0, 0, 0, 0, 0, 0, 0, 0, 0, 0, 0, 0, 0, 0, 0, 0, 0, 0, 0, 0, 0, 0, 0, 0, 0, 0, 0, 0, 0, 0, 0, 0, 0, 0, 0, 0, 0, 0, 0, 0, 0, 0, 0, 0, 0, 0, 0, 0, 0, 0, 0, 0, 0, 0, 0, 0, 0, 0, 0, 0, 0, 0, 0, 0, 0, 0, 0, 0, 0, 0, 0, 0, 0, 0, 0, 0, 0, 0, 0, 0, 0, 0, 0, 0, 0, 0, 0, 0, 0, 0, 0, 0, 0, 0, 0, 0, 0, 0, 0, 0, 0, 0, 0, 0, 0, 0, 0, 0, 0, 0, 0, 0, 0, 0, 0, 0, 0, 0, 0, 0, 0, 0, 0, 0, 0, 0, 0, 0, 0, 0, 0, 0, 0, 0, 0, 0, 0, 0, 0, 0, 0, 0, 0, 0, 0, 0, 0, 0, 0, 0, 0, 0, 0, 0, 0, 0, 0, 0, 0, 0, 0, 0, 0, 0, 0, 0, 0, 0, 0, 0, 0, 0, 0, 0, 0, 0, 0, 0, 0, 0, 0, 0, 0, 0, 0, 0, 0, 0, 0, 0, 0, 0, 0, 0, 0, 0, 0, 0, 0, 0, 0, 0, 0, 0, 0, 0, 0, 0, 0, 0, 0, 0, 0, 0, 0, 0, 0, 0, 0, 0, 0, 0, 0, 0, 0, 0, 0, 0, 0, 0, 0, 0, 0, 0, 0, 0, 0, 0, 0, 0, 0, 0, 0, 0, 0, 0, 0, 0, 0, 0, 0, 0, 0, 0, 0, 0, 0, 0, 0, 0, 0, 0, 0, 0, 0, 0, 0, 0, 0, 0, 0, 0, 0, 0, 0, 0, 0, 0, 0, 0, 0, 0, 0, 0, 0, 0, 0, 0, 0, 0, 0, 0, 0, 0, 0, 0, 0, 0, 0, 0, 0, 0, 0, 0, 0, 0, 0, 0, 0, 0, 0, 0, 0, 0, 0, 0, 0, 0, 0, 0, 0, 0, 0, 0, 0, 0, 0, 0, 0, 0, 0, 0, 0, 0, 0, 0, 0, 0, 0, 0, 0, 0, 0, 0, 0, 0, 0, 0, 0, 0, 0, 0, 0, 0, 0, 0, 0, 0, 0, 0, 0, 0, 0, 0, 0, 0, 0, 0, 0, 0, 0, 0, 0, 0, 0, 0, 0, 0, 0, 0, 0, 0, 0, 0, 0, 0, 0, 0, 0, 0, 0, 0, 0, 0, 0, 0, 0, 0, 0, 0, 0, 0, 0, 0, 0, 0, 0, 0, 0, 0, 0, 0, 0, 0, 0, 0, 0, 0, 0, 0, 0, 0, 0, 0, 0, 0, 0, 0, 0, 0, 0, 0, 0, 0, 0, 0, 0, 0, 0, 0, 0, 0, 0, 0, 0, 0, 0, 0, 0, 0, 0, 0, 0, 0, 0, 0, 0, 0, 0, 0, 0, 0, 0, 0, 0, 0, 0, 0, 0, 0, 0, 0, 0, 0, 0, 0, 0, 0, 0, 0, 0, 0, 0, 0, 0, 0, 0, 0, 0, 0, 0, 0, 0, 0, 0, 0, 0, 0, 0, 0, 0, 0, 0, 0, 0, 0, 0, 0, 0, 0, 0, 0, 0, 0, 0, 0, 0, 0, 0, 0, 0, 0, 0, 0, 0, 0, 0, 0, 0, 0, 0, 0, 0, 0, 0, 0, 0, 0, 0, 0, 0, 0, 0, 0, 0, 0, 0, 0, 0, 0, 0, 0, 0, 0, 0, 0, 0, 0, 0, 0, 0, 0, 0, 0, 1, 0, 0, 0, 0, 0, 0, 0, 0, 0, 0, 0, 0, 0, 0, 0, 0, 0, 0, 0, 0, 0, 0, 0, 0, 0, 0, 0, 0, 0, 0, 0, 0, 0, 0, 0, 0, 0, 0, 0, 0, 0, 0, 0, 0, 0, 0, 0, 0, 0, 0, 0, 0, 0, 0, 0, 0, 0, 0, 0, 0, 0, 0, 0, 0, 0, 0, 0, 0, 0, 0, 0, 0, 0, 0, 0, 0, 0, 0, 0, 0, 0, 0, 0, 0, 0, 0, 0, 0, 0, 0, 0, 0, 0, 0, 0, 0, 0, 0, 0, 0, 0, 0, 0, 0, 0, 0, 0, 1, 0, 0, 0, 0, 0, 0, 0, 0, 0, 0, 0, 0, 0, 0, 0, 0, 0, 0, 0, 0, 0, 0, 0, 0, 0, 0, 0, 0, 0, 0, 0, 0, 0, 0, 0, 0, 0, 0, 0, 0, 0, 0, 0, 0, 0, 0, 0, 0, 0, 0, 0, 0, 0, 0, 0, 0, 0, 0, 0, 0, 0, 0, 0, 0, 0, 0, 0, 0, 0, 0, 0, 0, 0, 0, 0, 0, 0, 0, 0, 0, 0, 0, 0, 0, 0, 0, 0, 0, 0, 0, 0, 0, 0, 0, 0, 0, 0, 0, 0, 0, 0, 0, 0, 0, 0, 0, 0, 0, 0, 0, 0, 0, 0, 0, 0, 0, 0, 0, 0, 0, 0, 0, 0, 0, 0, 0, 0, 0, 0, 0, 0, 0, 0, 0, 0, 0, 0, 0, 0, 0, 0, 0, 0, 0, 0, 0, 0, 0, 0, 0, 0, 0, 0, 0, 0, 0, 0, 0, 0, 0, 0, 0, 0, 0, 0, 0, 0, 0, 0, 0, 0, 0, 0, 0, 0, 0, 0, 0, 0, 0, 0, 0, 0, 0, 0, 0, 0, 0, 0, 0, 0, 0, 0, 0, 0, 0, 0, 0, 0, 0, 0, 0, 0, 0, 0, 0, 0, 0, 0, 0, 0, 0, 0, 0, 0, 0, 0, 0, 0, 0, 0, 0, 0, 0, 0, 0, 0, 0, 0, 0, 0, 0, 0, 0, 0, 0, 0, 0, 0, 0, 0, 0, 0, 0, 0, 0, 0, 0, 0, 0, 0, 0, 0, 0, 0, 0, 0, 0, 0, 0, 0, 0, 0, 0, 0, 0, 0, 0, 0, 0, 0, 0, 0, 0, 0, 0, 0, 0, 0, 0, 0, 0, 0, 0, 0, 0, 0, 0, 0, 0, 0, 0, 0, 0, 0, 0, 0, 0, 0, 0, 0, 0, 0, 0, 0, 0, 0, 0, 0, 0, 0, 0, 0, 0, 0, 0, 0, 0, 0, 0, 0, 0, 0, 0, 0, 0, 0, 0, 0, 0, 0, 0, 0, 0, 0, 0, 0, 0, 0, 0, 0, 0, 0, 0, 0, 0, 0, 0, 0, 0, 0, 0, 0, 0, 0, 0, 0, 0, 0, 0, 0, 0, 0, 0, 0, 0, 0, 0, 0, 0, 0, 0, 0, 0, 0, 0, 0, 0, 0, 0, 0, 0, 0, 0, 0, 0, 0, 0, 0, 0, 0, 0, 0, 0, 0, 0, 0, 0, 0, 0, 0, 0, 0, 0, 0, 0, 0, 0, 0, 0, 0, 0, 0, 0, 0, 0, 0, 0, 0, 0, 0, 0, 0, 0, 0, 0, 0, 0, 0, 0, 0, 0, 0, 0, 0, 0, 0, 0, 0, 0, 0, 0, 0, 0, 0, 0, 0, 0, 0, 0, 0, 0, 0, 0, 0, 0, 0, 0, 0, 0, 0, 0, 0, 2, 0, 1, 0], type: <class 'list'>, valid types: <class 'bytes'>, <class 'bytearray'>, file-like object",
     "output_type": "error",
     "traceback": [
      "\u001b[0;31m---------------------------------------------------------------------------\u001b[0m",
      "\u001b[0;31mParamValidationError\u001b[0m                      Traceback (most recent call last)",
      "\u001b[0;32m<ipython-input-44-c9ab54ae3a48>\u001b[0m in \u001b[0;36m<module>\u001b[0;34m\u001b[0m\n\u001b[1;32m      1\u001b[0m response = runtime.invoke_endpoint(EndpointName = xgb_predictor.endpoint, # The name of the endpoint we created\n\u001b[1;32m      2\u001b[0m                                        \u001b[0mContentType\u001b[0m \u001b[0;34m=\u001b[0m \u001b[0;34m'text/csv'\u001b[0m\u001b[0;34m,\u001b[0m                     \u001b[0;31m# The data format that is expected\u001b[0m\u001b[0;34m\u001b[0m\u001b[0;34m\u001b[0m\u001b[0m\n\u001b[0;32m----> 3\u001b[0;31m                                        Body = test_bow)\n\u001b[0m",
      "\u001b[0;32m~/anaconda3/envs/python3/lib/python3.6/site-packages/botocore/client.py\u001b[0m in \u001b[0;36m_api_call\u001b[0;34m(self, *args, **kwargs)\u001b[0m\n\u001b[1;32m    314\u001b[0m                     \"%s() only accepts keyword arguments.\" % py_operation_name)\n\u001b[1;32m    315\u001b[0m             \u001b[0;31m# The \"self\" in this scope is referring to the BaseClient.\u001b[0m\u001b[0;34m\u001b[0m\u001b[0;34m\u001b[0m\u001b[0;34m\u001b[0m\u001b[0m\n\u001b[0;32m--> 316\u001b[0;31m             \u001b[0;32mreturn\u001b[0m \u001b[0mself\u001b[0m\u001b[0;34m.\u001b[0m\u001b[0m_make_api_call\u001b[0m\u001b[0;34m(\u001b[0m\u001b[0moperation_name\u001b[0m\u001b[0;34m,\u001b[0m \u001b[0mkwargs\u001b[0m\u001b[0;34m)\u001b[0m\u001b[0;34m\u001b[0m\u001b[0;34m\u001b[0m\u001b[0m\n\u001b[0m\u001b[1;32m    317\u001b[0m \u001b[0;34m\u001b[0m\u001b[0m\n\u001b[1;32m    318\u001b[0m         \u001b[0m_api_call\u001b[0m\u001b[0;34m.\u001b[0m\u001b[0m__name__\u001b[0m \u001b[0;34m=\u001b[0m \u001b[0mstr\u001b[0m\u001b[0;34m(\u001b[0m\u001b[0mpy_operation_name\u001b[0m\u001b[0;34m)\u001b[0m\u001b[0;34m\u001b[0m\u001b[0;34m\u001b[0m\u001b[0m\n",
      "\u001b[0;32m~/anaconda3/envs/python3/lib/python3.6/site-packages/botocore/client.py\u001b[0m in \u001b[0;36m_make_api_call\u001b[0;34m(self, operation_name, api_params)\u001b[0m\n\u001b[1;32m    606\u001b[0m         }\n\u001b[1;32m    607\u001b[0m         request_dict = self._convert_to_request_dict(\n\u001b[0;32m--> 608\u001b[0;31m             api_params, operation_model, context=request_context)\n\u001b[0m\u001b[1;32m    609\u001b[0m \u001b[0;34m\u001b[0m\u001b[0m\n\u001b[1;32m    610\u001b[0m         \u001b[0mservice_id\u001b[0m \u001b[0;34m=\u001b[0m \u001b[0mself\u001b[0m\u001b[0;34m.\u001b[0m\u001b[0m_service_model\u001b[0m\u001b[0;34m.\u001b[0m\u001b[0mservice_id\u001b[0m\u001b[0;34m.\u001b[0m\u001b[0mhyphenize\u001b[0m\u001b[0;34m(\u001b[0m\u001b[0;34m)\u001b[0m\u001b[0;34m\u001b[0m\u001b[0;34m\u001b[0m\u001b[0m\n",
      "\u001b[0;32m~/anaconda3/envs/python3/lib/python3.6/site-packages/botocore/client.py\u001b[0m in \u001b[0;36m_convert_to_request_dict\u001b[0;34m(self, api_params, operation_model, context)\u001b[0m\n\u001b[1;32m    654\u001b[0m             api_params, operation_model, context)\n\u001b[1;32m    655\u001b[0m         request_dict = self._serializer.serialize_to_request(\n\u001b[0;32m--> 656\u001b[0;31m             api_params, operation_model)\n\u001b[0m\u001b[1;32m    657\u001b[0m         \u001b[0;32mif\u001b[0m \u001b[0;32mnot\u001b[0m \u001b[0mself\u001b[0m\u001b[0;34m.\u001b[0m\u001b[0m_client_config\u001b[0m\u001b[0;34m.\u001b[0m\u001b[0minject_host_prefix\u001b[0m\u001b[0;34m:\u001b[0m\u001b[0;34m\u001b[0m\u001b[0;34m\u001b[0m\u001b[0m\n\u001b[1;32m    658\u001b[0m             \u001b[0mrequest_dict\u001b[0m\u001b[0;34m.\u001b[0m\u001b[0mpop\u001b[0m\u001b[0;34m(\u001b[0m\u001b[0;34m'host_prefix'\u001b[0m\u001b[0;34m,\u001b[0m \u001b[0;32mNone\u001b[0m\u001b[0;34m)\u001b[0m\u001b[0;34m\u001b[0m\u001b[0;34m\u001b[0m\u001b[0m\n",
      "\u001b[0;32m~/anaconda3/envs/python3/lib/python3.6/site-packages/botocore/validate.py\u001b[0m in \u001b[0;36mserialize_to_request\u001b[0;34m(self, parameters, operation_model)\u001b[0m\n\u001b[1;32m    295\u001b[0m                                                     operation_model.input_shape)\n\u001b[1;32m    296\u001b[0m             \u001b[0;32mif\u001b[0m \u001b[0mreport\u001b[0m\u001b[0;34m.\u001b[0m\u001b[0mhas_errors\u001b[0m\u001b[0;34m(\u001b[0m\u001b[0;34m)\u001b[0m\u001b[0;34m:\u001b[0m\u001b[0;34m\u001b[0m\u001b[0;34m\u001b[0m\u001b[0m\n\u001b[0;32m--> 297\u001b[0;31m                 \u001b[0;32mraise\u001b[0m \u001b[0mParamValidationError\u001b[0m\u001b[0;34m(\u001b[0m\u001b[0mreport\u001b[0m\u001b[0;34m=\u001b[0m\u001b[0mreport\u001b[0m\u001b[0;34m.\u001b[0m\u001b[0mgenerate_report\u001b[0m\u001b[0;34m(\u001b[0m\u001b[0;34m)\u001b[0m\u001b[0;34m)\u001b[0m\u001b[0;34m\u001b[0m\u001b[0;34m\u001b[0m\u001b[0m\n\u001b[0m\u001b[1;32m    298\u001b[0m         return self._serializer.serialize_to_request(parameters,\n\u001b[1;32m    299\u001b[0m                                                      operation_model)\n",
      "\u001b[0;31mParamValidationError\u001b[0m: Parameter validation failed:\nInvalid type for parameter Body, value: [0, 0, 0, 0, 0, 0, 0, 0, 0, 0, 0, 0, 0, 0, 0, 0, 0, 0, 0, 0, 0, 0, 0, 0, 0, 0, 0, 0, 0, 0, 0, 0, 0, 0, 0, 0, 0, 0, 0, 0, 0, 0, 0, 0, 0, 0, 0, 0, 0, 0, 0, 0, 0, 0, 0, 0, 0, 0, 0, 0, 0, 0, 0, 0, 0, 0, 0, 0, 0, 0, 0, 0, 0, 0, 0, 0, 0, 0, 0, 0, 0, 0, 0, 0, 0, 0, 0, 0, 0, 0, 0, 0, 0, 0, 0, 0, 0, 0, 0, 0, 0, 0, 0, 0, 0, 0, 0, 0, 0, 0, 0, 0, 0, 0, 0, 0, 0, 0, 0, 0, 0, 0, 0, 0, 0, 0, 0, 0, 0, 0, 0, 0, 0, 0, 0, 0, 0, 0, 0, 0, 0, 0, 0, 0, 0, 0, 0, 0, 0, 0, 0, 0, 0, 0, 0, 0, 0, 0, 0, 0, 0, 0, 0, 0, 0, 0, 0, 0, 0, 0, 0, 0, 0, 0, 0, 0, 0, 0, 0, 0, 0, 0, 0, 0, 0, 0, 0, 0, 0, 0, 0, 0, 0, 0, 0, 0, 0, 0, 0, 0, 0, 0, 0, 0, 0, 0, 0, 0, 0, 0, 0, 0, 0, 0, 0, 0, 0, 0, 0, 0, 0, 0, 0, 0, 0, 0, 1, 0, 0, 0, 0, 0, 0, 0, 0, 0, 0, 0, 0, 0, 0, 0, 0, 0, 0, 0, 0, 0, 0, 0, 0, 0, 0, 0, 0, 0, 1, 0, 0, 0, 0, 0, 0, 0, 0, 0, 0, 0, 0, 0, 0, 0, 0, 0, 0, 0, 0, 0, 0, 0, 0, 0, 0, 0, 0, 0, 0, 0, 0, 0, 0, 0, 0, 0, 0, 0, 0, 0, 0, 0, 0, 0, 0, 0, 0, 0, 0, 0, 0, 0, 0, 0, 0, 0, 0, 0, 0, 0, 0, 0, 0, 0, 0, 0, 0, 0, 0, 0, 0, 0, 0, 0, 0, 0, 0, 0, 0, 0, 0, 0, 0, 0, 0, 0, 0, 0, 0, 0, 0, 0, 0, 0, 0, 0, 0, 0, 0, 0, 0, 0, 0, 0, 0, 0, 0, 0, 0, 0, 0, 0, 0, 0, 0, 0, 0, 0, 0, 0, 0, 0, 0, 0, 0, 0, 0, 0, 0, 0, 0, 0, 0, 0, 0, 0, 0, 0, 0, 0, 0, 0, 0, 0, 0, 0, 0, 0, 0, 0, 0, 0, 0, 0, 0, 0, 0, 0, 0, 0, 0, 0, 0, 0, 0, 0, 0, 0, 0, 0, 0, 0, 0, 0, 0, 0, 0, 0, 0, 0, 0, 0, 0, 0, 0, 0, 0, 0, 0, 0, 0, 0, 0, 0, 0, 0, 0, 0, 0, 0, 0, 0, 0, 0, 0, 0, 0, 0, 0, 0, 0, 0, 0, 0, 0, 0, 0, 0, 0, 0, 0, 0, 0, 0, 0, 0, 0, 0, 0, 0, 0, 0, 0, 0, 0, 0, 0, 0, 0, 0, 0, 0, 0, 0, 0, 0, 0, 0, 0, 0, 0, 0, 0, 0, 0, 0, 0, 0, 0, 0, 0, 0, 0, 0, 0, 0, 0, 0, 0, 0, 0, 0, 0, 0, 0, 0, 0, 0, 0, 0, 0, 0, 0, 0, 0, 0, 0, 0, 0, 0, 0, 0, 0, 0, 0, 0, 0, 0, 0, 0, 0, 0, 0, 0, 0, 0, 0, 0, 0, 0, 0, 0, 0, 0, 0, 0, 0, 0, 0, 0, 0, 0, 0, 0, 0, 0, 0, 0, 0, 0, 0, 0, 0, 0, 0, 0, 0, 0, 0, 0, 0, 0, 0, 0, 0, 0, 0, 0, 0, 0, 0, 0, 0, 0, 0, 0, 0, 0, 0, 0, 0, 0, 0, 0, 0, 0, 0, 0, 0, 0, 0, 0, 0, 0, 0, 0, 0, 0, 1, 0, 0, 0, 0, 0, 0, 0, 0, 0, 0, 0, 0, 0, 0, 0, 0, 0, 0, 0, 0, 0, 0, 0, 0, 0, 0, 0, 0, 0, 0, 0, 0, 0, 0, 0, 0, 0, 0, 0, 0, 0, 0, 0, 0, 0, 0, 0, 0, 0, 0, 0, 0, 0, 0, 0, 0, 0, 0, 0, 0, 0, 0, 0, 0, 0, 0, 0, 0, 0, 0, 0, 0, 0, 0, 0, 0, 0, 0, 0, 0, 0, 0, 0, 0, 0, 0, 0, 0, 0, 0, 0, 0, 0, 0, 0, 0, 0, 0, 0, 0, 0, 0, 0, 0, 0, 0, 0, 0, 0, 0, 0, 0, 0, 0, 0, 0, 0, 0, 0, 0, 0, 0, 0, 0, 0, 0, 0, 0, 0, 0, 0, 0, 0, 0, 0, 0, 0, 0, 0, 0, 0, 0, 0, 0, 0, 0, 0, 0, 0, 0, 0, 0, 0, 0, 0, 0, 0, 0, 0, 0, 0, 0, 0, 0, 0, 0, 0, 0, 0, 0, 0, 0, 0, 0, 0, 0, 0, 0, 0, 0, 0, 0, 0, 0, 0, 0, 0, 0, 0, 0, 0, 0, 0, 0, 0, 0, 0, 0, 0, 0, 0, 0, 0, 0, 0, 0, 0, 0, 0, 0, 0, 0, 0, 0, 0, 0, 0, 0, 0, 0, 0, 0, 0, 0, 0, 0, 0, 0, 0, 0, 0, 0, 0, 0, 0, 0, 0, 0, 0, 0, 0, 0, 0, 0, 0, 0, 0, 0, 0, 0, 0, 0, 0, 1, 0, 0, 0, 0, 0, 0, 0, 0, 0, 0, 0, 0, 0, 0, 0, 0, 0, 0, 0, 0, 0, 0, 0, 0, 0, 0, 0, 0, 0, 0, 0, 0, 0, 0, 0, 0, 0, 0, 0, 0, 0, 0, 0, 0, 0, 0, 0, 0, 0, 0, 0, 0, 0, 0, 0, 0, 0, 0, 0, 0, 0, 0, 0, 0, 0, 0, 0, 0, 0, 0, 0, 0, 0, 0, 0, 0, 0, 0, 0, 0, 0, 0, 0, 0, 0, 0, 1, 0, 0, 0, 0, 0, 0, 0, 0, 0, 0, 0, 0, 0, 0, 0, 0, 0, 0, 0, 0, 0, 0, 0, 0, 0, 0, 0, 0, 0, 0, 0, 0, 0, 0, 0, 0, 0, 0, 0, 0, 0, 0, 0, 0, 0, 0, 0, 0, 0, 0, 0, 0, 0, 0, 0, 0, 0, 0, 0, 0, 0, 0, 0, 0, 0, 0, 0, 0, 0, 0, 0, 0, 0, 0, 0, 0, 0, 0, 0, 0, 0, 0, 0, 0, 0, 0, 0, 0, 0, 0, 0, 0, 0, 0, 0, 0, 0, 0, 0, 0, 0, 0, 0, 0, 0, 0, 0, 0, 0, 0, 0, 0, 0, 0, 0, 0, 0, 0, 0, 0, 0, 0, 0, 0, 0, 0, 0, 0, 0, 0, 0, 0, 0, 0, 0, 0, 0, 0, 0, 0, 0, 0, 0, 0, 0, 0, 0, 0, 0, 0, 0, 0, 0, 0, 0, 0, 0, 0, 0, 0, 0, 0, 0, 0, 0, 0, 0, 0, 0, 0, 0, 0, 0, 0, 0, 0, 0, 0, 0, 0, 0, 0, 0, 0, 0, 0, 0, 0, 0, 0, 0, 0, 0, 0, 0, 0, 0, 0, 0, 0, 0, 0, 0, 0, 0, 0, 0, 0, 0, 0, 0, 0, 0, 0, 0, 0, 0, 0, 0, 0, 0, 0, 0, 0, 0, 0, 0, 0, 0, 0, 0, 0, 0, 0, 0, 0, 0, 0, 0, 0, 0, 0, 0, 0, 0, 0, 0, 0, 0, 0, 0, 0, 1, 0, 0, 0, 0, 0, 0, 0, 0, 0, 0, 0, 0, 0, 0, 0, 0, 0, 0, 0, 0, 0, 0, 0, 0, 0, 0, 0, 0, 0, 0, 0, 0, 0, 0, 0, 0, 0, 0, 0, 0, 0, 0, 0, 0, 0, 0, 0, 0, 0, 0, 0, 0, 0, 0, 0, 1, 0, 0, 0, 0, 0, 0, 0, 0, 0, 0, 0, 0, 0, 0, 0, 0, 0, 0, 0, 0, 0, 0, 0, 0, 0, 0, 0, 0, 0, 0, 0, 0, 0, 0, 0, 0, 0, 0, 0, 0, 0, 0, 0, 0, 0, 0, 0, 0, 0, 0, 0, 0, 0, 0, 0, 0, 0, 0, 0, 0, 0, 0, 0, 0, 0, 0, 0, 0, 0, 0, 0, 0, 0, 0, 0, 0, 0, 0, 0, 0, 0, 0, 0, 0, 0, 0, 0, 0, 0, 0, 0, 0, 0, 0, 0, 0, 0, 0, 0, 0, 0, 0, 0, 0, 0, 0, 0, 0, 0, 0, 0, 0, 0, 0, 0, 0, 0, 0, 0, 0, 0, 0, 0, 0, 0, 0, 0, 0, 0, 0, 0, 0, 0, 0, 0, 0, 0, 0, 0, 0, 0, 0, 0, 0, 0, 0, 0, 0, 0, 0, 0, 0, 0, 0, 0, 0, 0, 0, 0, 0, 0, 0, 0, 0, 0, 0, 0, 0, 0, 0, 0, 0, 0, 0, 0, 0, 0, 0, 0, 0, 0, 0, 0, 0, 0, 0, 0, 0, 0, 0, 0, 0, 0, 0, 0, 0, 0, 0, 0, 0, 0, 0, 0, 0, 0, 0, 0, 0, 0, 0, 0, 0, 0, 0, 0, 0, 0, 0, 0, 0, 0, 0, 0, 0, 0, 0, 0, 0, 0, 0, 0, 0, 0, 0, 0, 0, 0, 0, 0, 0, 0, 0, 0, 0, 0, 0, 0, 0, 0, 0, 0, 0, 0, 0, 0, 0, 0, 0, 0, 0, 0, 0, 0, 0, 0, 0, 0, 0, 0, 0, 0, 0, 0, 0, 0, 0, 0, 0, 0, 0, 0, 0, 0, 0, 0, 0, 0, 0, 0, 0, 0, 0, 0, 0, 0, 0, 0, 0, 0, 0, 0, 0, 0, 0, 0, 0, 0, 0, 0, 0, 0, 0, 0, 0, 0, 0, 0, 0, 0, 0, 0, 0, 0, 0, 0, 0, 0, 0, 0, 0, 0, 0, 0, 0, 0, 0, 0, 0, 0, 0, 0, 0, 0, 0, 0, 0, 0, 0, 0, 0, 0, 0, 0, 0, 0, 0, 0, 0, 0, 0, 0, 0, 0, 0, 0, 0, 0, 0, 0, 0, 0, 0, 0, 0, 0, 0, 0, 0, 0, 0, 0, 0, 0, 0, 0, 0, 0, 0, 0, 0, 0, 0, 0, 0, 0, 0, 0, 0, 0, 0, 0, 0, 0, 0, 0, 0, 0, 0, 0, 0, 0, 0, 0, 0, 0, 0, 0, 0, 0, 0, 0, 0, 0, 0, 0, 0, 0, 0, 0, 0, 0, 0, 0, 0, 0, 0, 0, 0, 0, 0, 0, 0, 0, 0, 0, 0, 0, 0, 0, 0, 0, 0, 0, 0, 0, 0, 0, 0, 0, 0, 0, 0, 0, 0, 0, 0, 0, 0, 0, 0, 0, 0, 0, 0, 0, 0, 0, 0, 0, 0, 0, 0, 0, 0, 0, 0, 0, 0, 0, 0, 0, 0, 0, 0, 0, 0, 0, 0, 0, 0, 0, 0, 0, 0, 0, 0, 0, 0, 0, 0, 0, 0, 0, 0, 0, 0, 0, 0, 0, 0, 0, 0, 0, 0, 0, 0, 0, 0, 0, 0, 0, 0, 0, 0, 0, 0, 0, 0, 0, 0, 0, 0, 0, 0, 0, 0, 0, 0, 0, 0, 0, 0, 0, 0, 0, 0, 0, 0, 0, 0, 0, 0, 0, 0, 0, 0, 0, 0, 0, 0, 0, 0, 0, 0, 0, 0, 0, 0, 0, 0, 0, 0, 0, 0, 0, 0, 0, 0, 0, 0, 0, 0, 0, 0, 0, 0, 0, 0, 0, 0, 0, 0, 0, 0, 0, 0, 0, 0, 0, 0, 0, 0, 0, 0, 0, 0, 0, 0, 0, 0, 0, 0, 0, 0, 0, 0, 0, 0, 0, 0, 0, 0, 0, 0, 0, 0, 0, 0, 0, 0, 0, 0, 0, 0, 0, 0, 0, 0, 0, 0, 0, 0, 0, 0, 0, 0, 0, 0, 0, 0, 0, 0, 0, 0, 0, 0, 0, 0, 0, 0, 0, 0, 0, 0, 0, 0, 0, 0, 0, 0, 0, 1, 0, 0, 0, 0, 0, 0, 0, 0, 0, 0, 0, 0, 0, 0, 0, 0, 0, 0, 0, 0, 0, 0, 0, 0, 0, 0, 0, 0, 0, 0, 0, 0, 0, 0, 0, 0, 0, 0, 0, 0, 0, 0, 0, 0, 0, 0, 0, 0, 0, 0, 0, 0, 0, 0, 0, 0, 0, 0, 0, 0, 0, 0, 0, 0, 0, 0, 0, 0, 0, 0, 0, 0, 0, 0, 1, 0, 0, 0, 0, 0, 0, 0, 0, 0, 0, 0, 0, 0, 0, 0, 0, 0, 0, 0, 0, 1, 0, 0, 1, 0, 0, 0, 0, 0, 0, 0, 0, 0, 0, 0, 0, 0, 0, 0, 0, 0, 0, 0, 0, 0, 0, 0, 0, 0, 0, 0, 0, 0, 0, 0, 0, 0, 0, 0, 0, 0, 0, 0, 0, 0, 0, 0, 0, 0, 0, 0, 0, 0, 0, 0, 0, 0, 0, 0, 0, 0, 0, 0, 0, 0, 0, 0, 0, 0, 0, 0, 0, 0, 0, 0, 0, 0, 0, 0, 0, 0, 0, 0, 0, 0, 0, 0, 0, 0, 0, 0, 0, 0, 0, 0, 0, 0, 0, 0, 0, 0, 0, 0, 0, 0, 0, 0, 0, 0, 0, 0, 0, 0, 0, 0, 0, 0, 0, 0, 0, 0, 0, 0, 0, 0, 0, 0, 0, 0, 0, 0, 0, 0, 0, 0, 0, 0, 0, 0, 0, 0, 0, 0, 0, 0, 0, 0, 0, 0, 0, 0, 0, 0, 0, 0, 0, 0, 0, 0, 0, 0, 0, 0, 0, 0, 0, 0, 0, 0, 0, 0, 0, 0, 0, 0, 0, 0, 0, 0, 0, 0, 0, 0, 0, 0, 0, 0, 0, 0, 0, 0, 0, 0, 0, 0, 0, 0, 0, 0, 0, 0, 0, 0, 0, 0, 0, 0, 0, 0, 0, 0, 0, 0, 0, 0, 0, 0, 0, 0, 0, 0, 0, 0, 0, 0, 0, 0, 0, 0, 0, 0, 0, 0, 0, 0, 0, 0, 0, 0, 0, 0, 0, 0, 0, 0, 0, 0, 0, 0, 0, 0, 0, 0, 0, 0, 0, 0, 0, 0, 0, 0, 0, 0, 0, 0, 0, 0, 0, 0, 0, 0, 0, 0, 0, 0, 0, 0, 0, 0, 0, 0, 0, 0, 0, 0, 0, 0, 0, 0, 0, 0, 0, 0, 0, 0, 0, 0, 0, 0, 0, 0, 0, 0, 0, 0, 0, 0, 0, 0, 0, 0, 0, 0, 0, 0, 0, 0, 0, 0, 0, 0, 0, 0, 0, 0, 0, 0, 0, 0, 0, 0, 0, 0, 0, 0, 0, 0, 0, 0, 0, 0, 0, 0, 0, 0, 0, 0, 0, 0, 0, 0, 0, 0, 0, 0, 0, 0, 0, 0, 0, 0, 0, 0, 0, 0, 0, 0, 0, 0, 0, 0, 0, 0, 0, 0, 0, 0, 0, 0, 0, 0, 0, 0, 0, 0, 0, 0, 0, 0, 0, 0, 0, 0, 0, 0, 0, 0, 0, 0, 0, 0, 0, 0, 0, 0, 0, 0, 0, 0, 0, 0, 0, 0, 0, 0, 0, 0, 0, 0, 0, 0, 0, 0, 0, 0, 0, 0, 0, 0, 0, 0, 0, 0, 0, 0, 0, 0, 0, 0, 0, 0, 0, 0, 0, 0, 0, 0, 0, 0, 0, 0, 0, 0, 0, 0, 0, 0, 0, 0, 0, 0, 0, 0, 0, 0, 0, 0, 0, 0, 0, 1, 0, 0, 0, 0, 0, 0, 0, 0, 0, 0, 0, 0, 0, 0, 0, 0, 0, 0, 0, 0, 0, 0, 0, 0, 0, 0, 0, 0, 0, 0, 0, 0, 0, 0, 0, 0, 0, 0, 0, 0, 0, 0, 0, 0, 0, 0, 0, 0, 0, 0, 0, 0, 0, 0, 0, 0, 0, 0, 0, 0, 0, 0, 0, 0, 0, 0, 0, 0, 0, 0, 0, 0, 0, 0, 0, 0, 0, 0, 0, 0, 0, 0, 0, 0, 0, 0, 0, 0, 0, 0, 0, 0, 0, 0, 0, 0, 0, 0, 0, 0, 0, 0, 0, 0, 0, 0, 0, 0, 0, 0, 0, 0, 0, 0, 0, 0, 0, 0, 0, 0, 0, 0, 0, 0, 0, 0, 0, 0, 0, 0, 0, 0, 0, 0, 0, 0, 0, 0, 0, 0, 0, 0, 0, 0, 0, 0, 0, 0, 0, 0, 0, 0, 0, 0, 0, 0, 0, 0, 0, 0, 0, 0, 0, 0, 0, 0, 0, 0, 0, 0, 0, 0, 0, 0, 0, 0, 0, 0, 0, 0, 0, 0, 0, 0, 0, 0, 0, 0, 0, 0, 0, 0, 0, 0, 0, 0, 0, 0, 0, 0, 0, 0, 0, 0, 0, 0, 0, 0, 0, 0, 0, 0, 0, 0, 0, 0, 0, 0, 0, 0, 0, 0, 0, 0, 0, 0, 0, 0, 0, 0, 0, 0, 0, 0, 0, 0, 0, 0, 0, 0, 0, 0, 0, 0, 0, 0, 0, 0, 0, 0, 0, 0, 0, 0, 0, 0, 0, 0, 0, 0, 0, 0, 0, 0, 0, 0, 0, 0, 0, 0, 0, 0, 0, 0, 0, 0, 0, 0, 0, 0, 0, 0, 0, 0, 0, 0, 0, 0, 0, 0, 0, 0, 0, 0, 0, 0, 0, 0, 0, 0, 0, 0, 0, 0, 0, 0, 0, 0, 0, 0, 0, 0, 0, 0, 0, 0, 0, 0, 0, 0, 0, 0, 0, 0, 0, 0, 0, 0, 0, 0, 0, 0, 0, 0, 0, 0, 0, 0, 0, 0, 0, 0, 0, 0, 0, 0, 0, 0, 0, 0, 0, 0, 0, 0, 0, 0, 0, 0, 0, 0, 0, 0, 0, 0, 0, 0, 0, 0, 0, 0, 0, 0, 0, 0, 0, 0, 0, 0, 0, 0, 0, 0, 0, 0, 0, 0, 0, 0, 0, 0, 0, 0, 0, 0, 0, 0, 0, 0, 0, 0, 0, 0, 0, 0, 0, 0, 0, 0, 0, 0, 0, 0, 0, 0, 0, 0, 0, 0, 0, 0, 0, 0, 0, 0, 0, 0, 0, 0, 0, 0, 0, 0, 0, 0, 0, 0, 0, 0, 0, 0, 0, 0, 0, 0, 0, 0, 0, 0, 0, 0, 0, 0, 0, 0, 0, 0, 0, 0, 0, 0, 0, 0, 0, 0, 0, 0, 0, 0, 0, 0, 0, 0, 0, 0, 0, 0, 0, 0, 0, 0, 0, 0, 0, 0, 0, 0, 0, 0, 0, 0, 0, 0, 0, 0, 0, 0, 0, 0, 0, 0, 0, 0, 0, 0, 0, 0, 0, 0, 0, 0, 0, 0, 1, 0, 0, 0, 0, 0, 0, 0, 0, 0, 0, 0, 0, 0, 0, 0, 0, 0, 0, 0, 0, 0, 0, 0, 0, 0, 0, 0, 0, 0, 0, 0, 0, 0, 0, 0, 2, 0, 0, 0, 0, 0, 0, 0, 0, 0, 0, 0, 0, 0, 0, 0, 0, 0, 0, 0, 0, 0, 0, 0, 0, 0, 0, 0, 0, 0, 0, 0, 0, 0, 0, 0, 0, 0, 0, 0, 0, 1, 0, 0, 0, 0, 0, 0, 0, 0, 0, 0, 0, 0, 0, 0, 0, 0, 0, 0, 0, 0, 0, 0, 0, 0, 0, 0, 0, 0, 0, 0, 0, 0, 0, 0, 0, 0, 0, 0, 0, 0, 0, 0, 0, 0, 0, 0, 0, 0, 0, 0, 0, 0, 0, 0, 0, 0, 0, 0, 0, 0, 0, 0, 0, 0, 0, 0, 0, 0, 0, 0, 0, 0, 0, 0, 0, 0, 0, 0, 0, 0, 0, 0, 0, 0, 0, 0, 0, 0, 0, 0, 0, 0, 0, 0, 0, 0, 0, 0, 0, 0, 0, 0, 0, 0, 0, 0, 0, 0, 0, 0, 0, 0, 0, 0, 0, 0, 0, 0, 0, 0, 0, 0, 0, 0, 0, 0, 0, 0, 0, 0, 0, 0, 0, 0, 0, 0, 0, 0, 0, 0, 0, 0, 0, 0, 0, 0, 0, 0, 0, 0, 0, 0, 0, 0, 0, 0, 0, 0, 0, 0, 0, 0, 0, 0, 0, 0, 0, 0, 0, 0, 0, 0, 0, 0, 0, 0, 0, 0, 0, 0, 0, 0, 0, 0, 0, 0, 0, 0, 0, 0, 0, 0, 0, 0, 0, 0, 0, 0, 0, 0, 0, 0, 0, 0, 0, 0, 0, 0, 0, 0, 0, 0, 0, 0, 0, 0, 0, 0, 0, 0, 0, 0, 0, 0, 0, 0, 0, 0, 0, 0, 0, 0, 0, 0, 0, 0, 0, 0, 0, 0, 0, 0, 0, 0, 0, 0, 0, 0, 0, 0, 0, 0, 0, 0, 0, 0, 0, 0, 0, 0, 0, 0, 0, 0, 0, 0, 0, 0, 0, 0, 0, 0, 0, 0, 0, 0, 0, 0, 0, 0, 0, 0, 0, 0, 0, 0, 0, 0, 0, 0, 0, 0, 0, 0, 0, 0, 0, 0, 0, 0, 0, 0, 0, 0, 0, 0, 0, 0, 0, 0, 0, 0, 0, 0, 0, 0, 0, 0, 0, 0, 0, 0, 0, 0, 0, 0, 0, 0, 0, 0, 0, 0, 0, 0, 0, 0, 0, 0, 0, 0, 0, 0, 0, 0, 0, 0, 0, 0, 0, 0, 0, 0, 0, 0, 0, 0, 0, 0, 0, 0, 0, 0, 0, 0, 0, 0, 0, 0, 0, 0, 0, 0, 0, 0, 0, 0, 0, 0, 0, 0, 0, 0, 0, 0, 0, 0, 0, 0, 0, 0, 0, 0, 0, 0, 0, 0, 0, 0, 0, 0, 0, 0, 0, 0, 0, 0, 0, 0, 0, 0, 0, 0, 0, 0, 0, 0, 0, 0, 0, 0, 0, 0, 0, 0, 0, 0, 0, 0, 0, 0, 0, 0, 0, 0, 0, 0, 0, 0, 0, 0, 0, 0, 0, 0, 0, 0, 0, 0, 0, 0, 0, 0, 0, 0, 0, 0, 0, 0, 0, 0, 0, 0, 0, 0, 0, 0, 0, 0, 0, 0, 0, 0, 0, 0, 0, 0, 0, 0, 0, 0, 0, 0, 0, 0, 0, 0, 0, 0, 0, 0, 0, 0, 0, 0, 0, 0, 0, 1, 0, 0, 0, 0, 0, 0, 0, 0, 0, 0, 0, 0, 0, 0, 0, 0, 0, 0, 0, 0, 0, 0, 0, 0, 0, 0, 0, 0, 0, 0, 0, 0, 0, 0, 0, 0, 0, 0, 0, 0, 0, 0, 0, 0, 0, 0, 0, 0, 0, 0, 0, 0, 0, 0, 0, 0, 0, 0, 0, 0, 0, 0, 0, 0, 0, 0, 0, 0, 0, 0, 0, 0, 0, 0, 0, 0, 0, 0, 0, 0, 0, 0, 0, 0, 0, 0, 0, 0, 0, 0, 0, 0, 0, 0, 0, 0, 0, 0, 0, 0, 0, 0, 0, 0, 0, 0, 0, 0, 0, 0, 2, 0, 0, 0, 0, 0, 0, 0, 0, 0, 0, 0, 0, 0, 0, 0, 0, 0, 0, 0, 0, 0, 0, 0, 0, 0, 0, 0, 0, 0, 0, 0, 0, 0, 0, 0, 0, 0, 0, 0, 0, 0, 0, 0, 0, 0, 0, 0, 0, 0, 0, 0, 0, 0, 0, 0, 0, 0, 0, 0, 0, 0, 0, 0, 0, 0, 0, 0, 0, 0, 0, 0, 0, 0, 0, 0, 0, 0, 0, 0, 0, 0, 0, 0, 0, 0, 0, 0, 0, 0, 0, 0, 0, 0, 0, 0, 0, 0, 0, 0, 0, 0, 0, 0, 0, 0, 0, 0, 0, 0, 0, 0, 0, 0, 0, 0, 0, 0, 0, 0, 0, 0, 0, 0, 0, 0, 0, 0, 0, 0, 0, 0, 0, 0, 0, 0, 0, 0, 0, 0, 0, 0, 0, 0, 0, 0, 0, 0, 0, 0, 0, 0, 0, 0, 0, 0, 0, 0, 0, 0, 0, 0, 0, 0, 0, 0, 0, 0, 0, 0, 0, 0, 0, 0, 0, 0, 0, 0, 0, 0, 0, 0, 0, 0, 0, 0, 0, 0, 0, 0, 0, 0, 0, 0, 0, 0, 0, 0, 0, 0, 0, 0, 0, 0, 0, 0, 0, 0, 0, 0, 0, 0, 0, 0, 0, 0, 0, 0, 0, 0, 0, 0, 0, 0, 0, 0, 0, 0, 0, 0, 0, 0, 0, 0, 0, 0, 0, 0, 0, 0, 0, 0, 0, 0, 0, 0, 0, 0, 0, 0, 0, 0, 0, 0, 0, 0, 0, 0, 0, 0, 0, 0, 0, 0, 0, 0, 0, 0, 0, 0, 0, 0, 0, 0, 0, 0, 0, 0, 0, 0, 0, 0, 0, 0, 0, 0, 0, 0, 0, 0, 0, 0, 0, 0, 0, 0, 0, 0, 0, 0, 0, 0, 0, 0, 0, 0, 0, 0, 0, 0, 0, 0, 0, 0, 0, 0, 0, 0, 0, 0, 0, 0, 0, 0, 0, 0, 0, 0, 0, 0, 0, 0, 0, 0, 0, 0, 0, 0, 0, 0, 0, 0, 0, 0, 0, 0, 0, 0, 0, 0, 0, 0, 0, 0, 0, 0, 0, 0, 0, 0, 0, 0, 0, 0, 0, 0, 0, 0, 0, 0, 0, 0, 0, 0, 0, 0, 0, 0, 0, 0, 0, 0, 0, 0, 0, 0, 0, 0, 0, 0, 0, 0, 0, 0, 0, 0, 0, 0, 0, 0, 0, 0, 0, 0, 0, 0, 0, 0, 0, 0, 0, 0, 0, 0, 0, 0, 0, 0, 0, 0, 0, 0, 0, 0, 0, 0, 0, 0, 0, 0, 0, 0, 0, 0, 0, 0, 0, 0, 0, 0, 0, 0, 0, 0, 0, 0, 0, 0, 0, 0, 0, 0, 0, 0, 0, 0, 0, 0, 0, 0, 0, 0, 0, 0, 0, 0, 0, 0, 0, 0, 0, 0, 0, 0, 0, 0, 0, 0, 0, 0, 0, 0, 0, 0, 0, 0, 0, 0, 0, 0, 0, 0, 0, 0, 0, 0, 0, 0, 0, 0, 0, 0, 0, 0, 0, 0, 0, 0, 0, 0, 0, 0, 0, 0, 0, 0, 0, 0, 0, 0, 0, 0, 0, 0, 0, 0, 0, 0, 0, 0, 0, 0, 0, 0, 0, 0, 0, 0, 0, 0, 0, 0, 0, 0, 0, 0, 0, 0, 0, 0, 0, 0, 0, 0, 0, 0, 0, 0, 0, 0, 0, 0, 0, 0, 0, 0, 0, 0, 0, 0, 0, 0, 0, 0, 0, 0, 0, 0, 0, 0, 0, 0, 0, 0, 0, 0, 0, 0, 0, 0, 0, 0, 0, 0, 0, 0, 0, 0, 0, 0, 0, 0, 0, 0, 0, 0, 0, 0, 0, 0, 0, 0, 0, 0, 0, 0, 0, 0, 0, 0, 0, 0, 0, 0, 0, 0, 0, 0, 0, 0, 0, 0, 0, 0, 0, 0, 0, 0, 0, 0, 0, 0, 0, 0, 0, 0, 0, 0, 0, 0, 0, 0, 0, 0, 0, 0, 0, 0, 0, 0, 0, 0, 0, 0, 0, 0, 0, 0, 0, 0, 0, 0, 0, 0, 0, 0, 0, 0, 0, 0, 0, 0, 0, 0, 0, 0, 0, 0, 0, 0, 0, 1, 0, 0, 0, 0, 0, 0, 0, 0, 0, 0, 0, 0, 0, 0, 0, 0, 0, 0, 0, 0, 0, 0, 0, 0, 0, 0, 0, 0, 0, 0, 0, 0, 0, 0, 0, 0, 0, 0, 0, 0, 0, 0, 0, 0, 0, 0, 0, 0, 0, 0, 0, 0, 0, 0, 0, 0, 0, 0, 0, 0, 0, 0, 0, 0, 0, 0, 0, 0, 0, 0, 0, 0, 0, 0, 0, 0, 0, 0, 0, 0, 0, 0, 0, 0, 0, 0, 0, 0, 0, 0, 0, 0, 0, 0, 0, 0, 0, 0, 0, 0, 0, 0, 0, 0, 0, 0, 0, 1, 0, 0, 0, 0, 0, 0, 0, 0, 0, 0, 0, 0, 0, 0, 0, 0, 0, 0, 0, 0, 0, 0, 0, 0, 0, 0, 0, 0, 0, 0, 0, 0, 0, 0, 0, 0, 0, 0, 0, 0, 0, 0, 0, 0, 0, 0, 0, 0, 0, 0, 0, 0, 0, 0, 0, 0, 0, 0, 0, 0, 0, 0, 0, 0, 0, 0, 0, 0, 0, 0, 0, 0, 0, 0, 0, 0, 0, 0, 0, 0, 0, 0, 0, 0, 0, 0, 0, 0, 0, 0, 0, 0, 0, 0, 0, 0, 0, 0, 0, 0, 0, 0, 0, 0, 0, 0, 0, 0, 0, 0, 0, 0, 0, 0, 0, 0, 0, 0, 0, 0, 0, 0, 0, 0, 0, 0, 0, 0, 0, 0, 0, 0, 0, 0, 0, 0, 0, 0, 0, 0, 0, 0, 0, 0, 0, 0, 0, 0, 0, 0, 0, 0, 0, 0, 0, 0, 0, 0, 0, 0, 0, 0, 0, 0, 0, 0, 0, 0, 0, 0, 0, 0, 0, 0, 0, 0, 0, 0, 0, 0, 0, 0, 0, 0, 0, 0, 0, 0, 0, 0, 0, 0, 0, 0, 0, 0, 0, 0, 0, 0, 0, 0, 0, 0, 0, 0, 0, 0, 0, 0, 0, 0, 0, 0, 0, 0, 0, 0, 0, 0, 0, 0, 0, 0, 0, 0, 0, 0, 0, 0, 0, 0, 0, 0, 0, 0, 0, 0, 0, 0, 0, 0, 0, 0, 0, 0, 0, 0, 0, 0, 0, 0, 0, 0, 0, 0, 0, 0, 0, 0, 0, 0, 0, 0, 0, 0, 0, 0, 0, 0, 0, 0, 0, 0, 0, 0, 0, 0, 0, 0, 0, 0, 0, 0, 0, 0, 0, 0, 0, 0, 0, 0, 0, 0, 0, 0, 0, 0, 0, 0, 0, 0, 0, 0, 0, 0, 0, 0, 0, 0, 0, 0, 0, 0, 0, 0, 0, 0, 0, 0, 0, 0, 0, 0, 0, 0, 0, 0, 0, 0, 0, 0, 0, 0, 0, 0, 0, 0, 0, 0, 0, 0, 0, 0, 0, 0, 0, 0, 0, 0, 0, 0, 0, 0, 0, 0, 0, 0, 0, 0, 0, 0, 0, 0, 0, 0, 0, 0, 0, 0, 0, 0, 0, 0, 0, 0, 0, 0, 0, 0, 0, 0, 0, 0, 0, 0, 0, 0, 0, 0, 0, 0, 0, 0, 0, 0, 0, 0, 0, 0, 0, 0, 0, 0, 0, 0, 0, 0, 0, 0, 0, 0, 0, 0, 0, 0, 0, 0, 0, 0, 0, 0, 0, 0, 0, 0, 0, 0, 0, 0, 0, 0, 0, 0, 0, 0, 0, 0, 0, 0, 0, 0, 0, 0, 0, 0, 0, 0, 0, 0, 0, 0, 0, 0, 0, 0, 0, 0, 0, 0, 0, 0, 0, 2, 0, 1, 0], type: <class 'list'>, valid types: <class 'bytes'>, <class 'bytearray'>, file-like object"
     ]
    }
   ],
   "source": [
    "response = runtime.invoke_endpoint(EndpointName = xgb_predictor.endpoint, # The name of the endpoint we created\n",
    "                                       ContentType = 'text/csv',                     # The data format that is expected\n",
    "                                       Body = test_bow)"
   ]
  },
  {
   "cell_type": "markdown",
   "metadata": {},
   "source": [
    "So why did we get an error?\n",
    "\n",
    "Because we tried to send the endpoint a list of integers but it expected us to send data of type `text/csv`. So, we need to convert it."
   ]
  },
  {
   "cell_type": "code",
   "execution_count": 45,
   "metadata": {},
   "outputs": [],
   "source": [
    "response = runtime.invoke_endpoint(EndpointName = xgb_predictor.endpoint, # The name of the endpoint we created\n",
    "                                       ContentType = 'text/csv',                     # The data format that is expected\n",
    "                                       Body = ','.join([str(val) for val in test_bow]).encode('utf-8'))"
   ]
  },
  {
   "cell_type": "code",
   "execution_count": 46,
   "metadata": {},
   "outputs": [
    {
     "name": "stdout",
     "output_type": "stream",
     "text": [
      "{'ResponseMetadata': {'RequestId': '27ba3365-d65c-440a-8ef7-458e0e8dfbef', 'HTTPStatusCode': 200, 'HTTPHeaders': {'x-amzn-requestid': '27ba3365-d65c-440a-8ef7-458e0e8dfbef', 'x-amzn-invoked-production-variant': 'AllTraffic', 'date': 'Tue, 21 Jul 2020 15:59:11 GMT', 'content-type': 'text/csv; charset=utf-8', 'content-length': '14'}, 'RetryAttempts': 0}, 'ContentType': 'text/csv; charset=utf-8', 'InvokedProductionVariant': 'AllTraffic', 'Body': <botocore.response.StreamingBody object at 0x7f66345fba58>}\n"
     ]
    }
   ],
   "source": [
    "print(response)"
   ]
  },
  {
   "cell_type": "markdown",
   "metadata": {},
   "source": [
    "As we can see, the response from our model is a somewhat complicated looking dict that contains a bunch of information. The bit that we are most interested in is `'Body'` object which is a streaming object that we need to `read` in order to make use of."
   ]
  },
  {
   "cell_type": "code",
   "execution_count": 47,
   "metadata": {},
   "outputs": [
    {
     "name": "stdout",
     "output_type": "stream",
     "text": [
      "0.372542709112\n"
     ]
    }
   ],
   "source": [
    "response = response['Body'].read().decode('utf-8')\n",
    "print(response)"
   ]
  },
  {
   "cell_type": "markdown",
   "metadata": {},
   "source": [
    "Now that we know how to process the incoming user data we can start setting up the infrastructure to make our simple web app work. To do this we will make use of two different services. Amazon's Lambda and API Gateway services.\n",
    "\n",
    "Lambda is a service which allows someone to write some relatively simple code and have it executed whenever a chosen trigger occurs. For example, you may want to update a database whenever new data is uploaded to a folder stored on S3.\n",
    "\n",
    "API Gateway is a service that allows you to create HTTP endpoints (url addresses) which are connected to other AWS services. One of the benefits to this is that you get to decide what credentials, if any, are required to access these endpoints.\n",
    "\n",
    "In our case we are going to set up an HTTP endpoint through API Gateway which is open to the public. Then, whenever anyone sends data to our public endpoint we will trigger a Lambda function which will send the input (in our case a review) to our model's endpoint and then return the result."
   ]
  },
  {
   "cell_type": "markdown",
   "metadata": {},
   "source": [
    "### Setting up a Lambda function\n",
    "\n",
    "The first thing we are going to do is set up a Lambda function. This Lambda function will be executed whenever our public API has data sent to it. When it is executed it will receive the data, perform any sort of processing that is required, send the data (the review) to the SageMaker endpoint we've created and then return the result.\n",
    "\n",
    "#### Part A: Create an IAM Role for the Lambda function\n",
    "\n",
    "Since we want the Lambda function to call a SageMaker endpoint, we need to make sure that it has permission to do so. To do this, we will construct a role that we can later give the Lambda function.\n",
    "\n",
    "Using the AWS Console, navigate to the **IAM** page and click on **Roles**. Then, click on **Create role**. Make sure that the **AWS service** is the type of trusted entity selected and choose **Lambda** as the service that will use this role, then click **Next: Permissions**.\n",
    "\n",
    "In the search box type `sagemaker` and select the check box next to the **AmazonSageMakerFullAccess** policy. Then, click on **Next: Review**.\n",
    "\n",
    "Lastly, give this role a name. Make sure you use a name that you will remember later on, for example `LambdaSageMakerRole`. Then, click on **Create role**."
   ]
  },
  {
   "cell_type": "markdown",
   "metadata": {},
   "source": [
    "#### Part B: Create a Lambda function\n",
    "\n",
    "Now it is time to actually create the Lambda function. Remember from earlier that in order to process the user provided input and send it to our endpoint we need to gather two pieces of information:\n",
    "\n",
    " - The name of the endpoint, and\n",
    " - the vocabulary object.\n",
    "\n",
    "We will copy these pieces of information to our Lambda function after we create it.\n",
    "\n",
    "To start, using the AWS Console, navigate to the AWS Lambda page and click on **Create a function**. When you get to the next page, make sure that **Author from scratch** is selected. Now, name your Lambda function, using a name that you will remember later on, for example `sentiment_analysis_xgboost_func`. Make sure that the **Python 3.6** runtime is selected and then choose the role that you created in the previous part. Then, click on **Create Function**.\n",
    "\n",
    "On the next page you will see some information about the Lambda function you've just created. If you scroll down you should see an editor in which you can write the code that will be executed when your Lambda function is triggered. Collecting the code we wrote above to process a single review and adding it to the provided example `lambda_handler` we arrive at the following.\n",
    "\n",
    "```python\n",
    "# We need to use the low-level library to interact with SageMaker since the SageMaker API\n",
    "# is not available natively through Lambda.\n",
    "import boto3\n",
    "\n",
    "# And we need the regular expression library to do some of the data processing\n",
    "import re\n",
    "\n",
    "REPLACE_NO_SPACE = re.compile(\"(\\.)|(\\;)|(\\:)|(\\!)|(\\')|(\\?)|(\\,)|(\\\")|(\\()|(\\))|(\\[)|(\\])\")\n",
    "REPLACE_WITH_SPACE = re.compile(\"(<br\\s*/><br\\s*/>)|(\\-)|(\\/)\")\n",
    "\n",
    "def review_to_words(review):\n",
    "    words = REPLACE_NO_SPACE.sub(\"\", review.lower())\n",
    "    words = REPLACE_WITH_SPACE.sub(\" \", words)\n",
    "    return words\n",
    "    \n",
    "def bow_encoding(words, vocabulary):\n",
    "    bow = [0] * len(vocabulary) # Start by setting the count for each word in the vocabulary to zero.\n",
    "    for word in words.split():  # For each word in the string\n",
    "        if word in vocabulary:  # If the word is one that occurs in the vocabulary, increase its count.\n",
    "            bow[vocabulary[word]] += 1\n",
    "    return bow\n",
    "\n",
    "\n",
    "def lambda_handler(event, context):\n",
    "    \n",
    "    vocab = \"*** ACTUAL VOCABULARY GOES HERE ***\"\n",
    "    \n",
    "    words = review_to_words(event['body'])\n",
    "    bow = bow_encoding(words, vocab)\n",
    "\n",
    "    # The SageMaker runtime is what allows us to invoke the endpoint that we've created.\n",
    "    runtime = boto3.Session().client('sagemaker-runtime')\n",
    "\n",
    "    # Now we use the SageMaker runtime to invoke our endpoint, sending the review we were given\n",
    "    response = runtime.invoke_endpoint(EndpointName = '***ENDPOINT NAME HERE***',# The name of the endpoint we created\n",
    "                                       ContentType = 'text/csv',                 # The data format that is expected\n",
    "                                       Body = ','.join([str(val) for val in bow]).encode('utf-8')) # The actual review\n",
    "\n",
    "    # The response is an HTTP response whose body contains the result of our inference\n",
    "    result = response['Body'].read().decode('utf-8')\n",
    "    \n",
    "    # Round the result so that our web app only gets '1' or '0' as a response.\n",
    "    result = round(float(result))\n",
    "\n",
    "    return {\n",
    "        'statusCode' : 200,\n",
    "        'headers' : { 'Content-Type' : 'text/plain', 'Access-Control-Allow-Origin' : '*' },\n",
    "        'body' : str(result)\n",
    "    }\n",
    "```"
   ]
  },
  {
   "cell_type": "markdown",
   "metadata": {},
   "source": [
    "Once you have copy and pasted the code above into the Lambda code editor, replace the `**ENDPOINT NAME HERE**` portion with the name of the endpoint that we deployed earlier. You can determine the name of the endpoint using the code cell below."
   ]
  },
  {
   "cell_type": "code",
   "execution_count": 48,
   "metadata": {},
   "outputs": [
    {
     "data": {
      "text/plain": [
       "'xgboost-2020-07-21-15-28-31-063'"
      ]
     },
     "execution_count": 48,
     "metadata": {},
     "output_type": "execute_result"
    }
   ],
   "source": [
    "xgb_predictor.endpoint"
   ]
  },
  {
   "cell_type": "markdown",
   "metadata": {},
   "source": [
    "In addition, you will need to copy the vocabulary dict to the appropriate place in the code at the beginning of the `lambda_handler` method. The cell below prints out the vocabulary dict in a way that is easy to copy and paste."
   ]
  },
  {
   "cell_type": "code",
   "execution_count": 49,
   "metadata": {},
   "outputs": [
    {
     "name": "stdout",
     "output_type": "stream",
     "text": [
      "{'cant': 671, 'understand': 4643, 'why': 4878, 'so': 4046, 'many': 2732, 'peoples': 3222, 'this': 4457, 'show': 3953, 'twin': 4615, 'is': 2360, 'one': 3107, 'of': 3083, 'the': 4426, 'most': 2909, 'boring': 543, 'titles': 4506, 'have': 2052, 'ever': 1538, 'seen': 3865, 'in': 2257, 'my': 2951, 'life': 2592, 'now': 3054, 'all': 187, 'season': 3843, 'episodes': 1508, 'and': 226, 'seeing': 3857, 'episode': 1507, 'simply': 3986, 'take': 4349, 'anymore': 258, 'where': 4864, 'proper': 3436, 'criminal': 1057, 'investigation': 2343, 'there': 4438, 'was': 4805, 'scene': 3809, 'that': 4424, 'agent': 150, 'cooper': 990, 'throws': 4482, 'stones': 4198, 'to': 4507, 'bottle': 550, 'can': 665, 'you': 4986, 'guess': 1989, 'he': 2056, 'did': 1241, 'just': 2437, 'want': 4788, 'identify': 2216, 'murderer': 2941, 'by': 642, 'doing': 1312, 'joke': 2414, 'while': 4868, 'mentioning': 2812, 'supernatural': 4302, 'ability': 65, 'given': 1913, 'dream': 1354, 'wow': 4962, 'are': 285, 'too': 4522, 'unnecessary': 4672, 'scenes': 3811, 'for': 1784, 'example': 1553, 'started': 4157, 'with': 4911, 'funny': 1852, 'dumb': 1385, 'old': 3100, 'man': 2721, 'serves': 3895, 'cup': 1080, 'down': 1335, 'on': 3105, 'floor': 1759, 'got': 1944, 'gun': 1996, 'shoots': 3944, 'his': 2118, 'already': 197, 'nothing': 3047, 'but': 636, 'saying': 3800, 'some': 4061, 'comments': 901, 'thats': 4425, 'really': 3556, 'even': 1533, 'long': 2644, '30': 42, 'its': 2370, 'like': 2599, 'hell': 2077, 'would': 4957, 'read': 3543, 'comic': 893, 'books': 536, 'rather': 3528, 'than': 4420, 'see': 3855, 'as': 311, 'veteran': 4724, 'pretentious': 3383, 'french': 1830, 'films': 1721, 'thought': 4462, 'id': 2212, 'taken': 4350, 'worst': 4952, 'industry': 2280, 'had': 2003, 'offer': 3087, 'able': 66, 'stomach': 4196, 'anything': 260, 'not': 3040, 'pointless': 3318, 'violent': 4748, 'unpleasant': 4674, 'meaningless': 2782, 'film': 1716, 'has': 2043, 'random': 3514, 'hatred': 2049, 'dressed': 1358, 'up': 4683, 'art': 304, 'avoid': 363, 'at': 331, 'costs': 1004, 'happily': 2030, 'admit': 122, 'im': 2232, 'beautiful': 428, 'inventive': 2341, 'camera': 659, 'movements': 2924, 'angles': 237, 'be': 418, 'enough': 1491, 'keep': 2449, 'interest': 2323, 'fairly': 1631, 'length': 2569, 'though': 4461, 'it': 2366, 'remarkable': 3613, 'cinematography': 820, 'ive': 2372, 'since': 3990, 'korean': 2495, 'period': 3236, 'piece': 3272, 'however': 2183, 'provides': 3450, 'far': 1653, 'more': 2904, 'images': 2235, 'does': 1308, 'dont': 1324, 'which': 4867, 'contrast': 975, 'second': 3846, 'greatest': 1966, 'strength': 4219, 'superb': 4296, 'acting': 99, 'fascinating': 1658, 'story': 4207, 'very': 4723, 'dark': 1115, 'philosophy': 3254, 'must': 2950, 'being': 448, 'quite': 3495, 'what': 4858, 'point': 3316, 'trying': 4601, 'make': 2713, 'end': 1468, 'definitely': 1162, 'thoughts': 4464, 'along': 195, 'way': 4820, 'vague': 4705, 'ones': 3108, 'department': 1182, 'could': 1007, 'been': 438, 'better': 472, 'action': 100, 'theres': 4440, 'tremendous': 4579, 'amount': 219, 'filmed': 1717, 'close': 853, 'ups': 4686, 'frequently': 1832, 'create': 1036, 'intense': 2316, 'impressive': 2253, 'visuals': 4759, 'nice': 3008, 'actual': 108, 'moves': 2925, 'something': 4066, 'believable': 453, 'villains': 4745, 'through': 4477, 'entire': 1502, 'waste': 4808, 'everyone': 1542, 'still': 4188, 'interesting': 2325, 'time': 4495, 'recommended': 3572, 'movie': 2926, 'great': 1964, 'adult': 125, 'stars': 4155, 'fails': 1628, 'get': 1899, 'interested': 2324, 'an': 223, 'should': 3951, 'among': 217, 'couldnt': 1008, 'your': 4991, 'kicks': 2463, 'from': 1840, 'any': 256, 'shot': 3949, 'middle': 2833, 'age': 148, 'set': 3898, 'cheesy': 781, 'worse': 4951, 'sex': 3907, 'exciting': 1563, 'listening': 2620, 'neighbor': 2992, 'talk': 4358, 'about': 67, 'their': 4431, 'kid': 2464, 'college': 875, 'dialogue': 1234, 'plot': 3309, 'also': 199, 'ten': 4399, 'stick': 4185, 'amateur': 206, 'audio': 354, 'commentary': 899, 'useless': 4695, 'skin': 4015, 'flick': 1754, 'then': 4436, 'bad': 382, 'unless': 4669, 'fan': 1648, 'little': 2624, 'here': 2086, '10': 0, 'made': 2697, 'much': 2934, 'lame': 2510, 'basically': 407, 'main': 2707, 'difference': 1246, 'clint': 850, 'hat': 2045, 'charisma': 762, 'whole': 4873, 'joe': 2407, 'don': 1320, 'baker': 385, 'actor': 103, 'if': 2222, 'fun': 1848, 'guy': 2000, 'sort': 4077, 'budget': 610, 'reason': 3557, 'sit': 4003, 'rest': 3657, 'cast': 710, 'deliver': 1169, 'mostly': 2910, 'terrible': 4407, 'girl': 1909, 'poor': 3328, 'hard': 2033, 'believe': 454, 'once': 3106, 'romantic': 3733, 'lead': 2545, 'watch': 4811, 'him': 2110, 'running': 3756, 'away': 369, 'women': 4923, 'looking': 2648, 'ben': 463, 'hes': 2093, 'next': 3007, 'do': 1302, 'unfortunately': 4654, 'generic': 1885, '80s': 59, 'music': 2946, 'clark': 832, 'good': 1937, 'movies': 2927, 'without': 4913, 'warning': 4800, 'falls': 1640, 'breaks': 571, 'nose': 3037, 'loses': 2657, 'three': 4469, 'teeth': 4393, 'well': 4843, 'least': 2554, 'locations': 2636, 'were': 4848, 'try': 4600, 'save': 3794, 'day': 1129, 'comment': 898, 'necessary': 2984, 'we': 4823, 'talking': 4360, 'masterpiece': 2759, 'seasons': 3844, 'generations': 1884, 'only': 3110, 'type': 4621, 'other': 3135, 'disneys': 1290, 'kind': 2476, 'magic': 2703, 'characters': 760, 'alive': 186, 'real': 3547, 'easy': 1410, 'message': 2819, 'language': 2516, 'didnt': 1242, 'understood': 4647, 'when': 4862, 'first': 1736, 'watched': 4813, 'because': 432, 'six': 4010, 'years': 4979, 'maybe': 2776, 'english': 1483, 'learned': 2551, 'know': 2489, 'present': 3374, 'rare': 3523, 'big': 478, 'shame': 3918, 'country': 1014, 'impossible': 2249, 'or': 3124, 'our': 3139, 'children': 792, 'enjoy': 1484, 'learn': 2550, 'will': 4886, 'again': 146, 'upon': 4684, 'himself': 2111, 'supporting': 4304, 'glory': 1922, 'proved': 3446, 'no': 3020, 'mediocre': 2791, 'showed': 3956, 'love': 2669, 'pulled': 3462, 'game': 1864, 'us': 4690, 'provided': 3449, 'effective': 1429, 'education': 1424, 'training': 4558, 'direct': 1258, 'denzel': 1181, 'directorial': 1265, 'debut': 1143, 'fisher': 1739, 'moving': 2928, 'year': 4978, 'relation': 3595, 'happened': 2027, 'against': 147, 'new': 3003, 'england': 1482, 'last': 2521, '2002': 32, 'unlike': 4670, 'tragedy': 4551, 'emotional': 1459, 'conclusion': 936, 'based': 404, 'true': 4596, 'young': 4989, 'officer': 3092, 'who': 4871, 'anger': 235, 'problem': 3408, 'due': 1382, 'suffered': 4276, 'foster': 1809, 'child': 789, 'plays': 3301, 'helps': 2082, 'overcome': 3151, 'rage': 3505, 'find': 1726, 'natural': 2973, 'mother': 2911, 'derek': 1192, 'performance': 3228, 'best': 469, 'actually': 109, 'saw': 3798, 'detailed': 1218, 'past': 3207, 'performances': 3229, 'washington': 4806, 'telling': 4396, 'luke': 2687, 'la': 2500, 'am': 204, 'father': 1666, 'ok': 3098, 'lay': 2542, 'off': 3084, 'star': 4150, 'wars': 4804, 'jokes': 2415, 'before': 440, 'send': 3875, 'me': 2778, 'speaking': 4095, 'work': 4940, 'masterful': 2758, 'expect': 1575, 'master': 2757, 'written': 4972, 'screenplay': 3831, 'king': 2479, 'material': 2766, 'chief': 788, 'mr': 2929, 'catching': 716, 'right': 3696, 'excellent': 1555, 'damon': 1101, 'world': 4946, 'times': 4497, 'square': 4136, 'york': 4985, 'prior': 3400, 'basis': 408, 'musical': 2947, 'joseph': 2419, 'knew': 2486, 'directed': 1259, 'nostalgic': 3039, 'tribute': 4581, 'frank': 1821, 'sounds': 4084, 'magnificent': 2705, 'typical': 4623, 'area': 286, 'people': 3221, 'society': 4050, 'toward': 4539, 'lights': 2597, 'possibilities': 3348, 'part': 3193, 'town': 4541, 'city': 825, 'living': 2629, 'out': 3141, 'street': 4216, 'songs': 4072, 'original': 3129, 'production': 3419, 'included': 2262, 'whether': 4866, 'makes': 2716, 'sense': 3877, 'unusual': 4681, 'hollywood': 2137, 'change': 749, 'worked': 4941, 'stage': 4139, 'wonderful': 4928, 'wonder': 4926, 'decision': 1151, 'letting': 2583, 'robert': 3713, 'sam': 3777, 'repeat': 3630, 'roles': 3727, 'these': 4441, 'actors': 104, 'amazing': 209, 'visually': 4758, 'look': 2646, 'follows': 1775, 'closely': 855, 'casting': 711, 'brando': 566, 'otherwise': 3137, 'known': 2492, 'singing': 3995, 'abilities': 64, 'sinatra': 3989, 'jean': 2389, 'simmons': 3981, 'seem': 3861, 'sky': 4017, 'after': 143, 'mans': 2730, 'presented': 3376, 'different': 1248, 'sarah': 3785, 'brown': 601, 'job': 2405, 'portraying': 3343, 'woman': 4921, 'army': 295, 'suddenly': 4273, 'finds': 1728, 'same': 3778, 'she': 3923, 'delight': 1167, 'never': 3001, 'miss': 2866, 'heart': 2064, 'gold': 1932, 'whos': 4876, 'ms': 2931, 'fantastic': 1651, 'impression': 2252, 'lets': 2580, 'nicely': 3009, 'johnson': 2411, 'lot': 2661, 'talented': 4355, 'adaptation': 113, 'screen': 3829, 'costumes': 1006, 'tone': 4517, 'bought': 552, 'having': 2054, 'heard': 2062, 'similar': 3978, 'indeed': 2271, 'played': 3297, 'couple': 1016, 'immediately': 2242, 'went': 4847, 'back': 378, 'copies': 992, 'kids': 2467, 'they': 4442, 'join': 2412, 'storyline': 4208, 'feel': 1684, 'brilliant': 583, 'trouble': 4592, 'feeling': 1685, 'free': 1827, 'explore': 1594, 'nature': 2975, 'single': 3996, 'player': 3298, 'own': 3158, 'play': 3296, 'hearts': 2066, 'content': 966, 'huge': 2185, 'number': 3060, 'internet': 2327, 'threatening': 4468, 'often': 3095, 'meant': 2784, 'players': 3299, 'go': 1924, 'copy': 994, 'playing': 3300, 'online': 3109, 'presence': 3373, 'yourself': 4993, 'depth': 1190, 'sorts': 4078, 'things': 4451, 'discover': 1279, 'hidden': 2096, 'secret': 3849, 'list': 2617, 'nearly': 2981, 'endless': 1473, 'especially': 1520, 'full': 1846, 'blue': 518, 'box': 555, 'red': 3576, 'loads': 2633, 'genuinely': 1892, 'narrative': 2966, 'presentation': 3375, 'touching': 4536, 'emotions': 1461, 'etc': 1527, 'seems': 3864, 'quality': 3484, 'bollywood': 530, 'producing': 3417, 'days': 1130, 'evidence': 1546, 'remember': 3616, 'such': 4268, 'impact': 2244, 'literally': 2622, 'thinking': 4453, 'hours': 2177, 'various': 4715, 'situations': 4009, 'test': 4416, 'human': 2188, 'north': 3036, 'india': 2273, 'background': 380, 'troubles': 4594, 'sweet': 4336, 'compared': 912, 'problems': 3409, 'happens': 2029, 'face': 1616, 'technically': 4382, 'superior': 4300, 'product': 3418, 'coming': 896, 'countries': 1013, 'sound': 4081, 'may': 2775, 'hear': 2061, 'version': 4720, 'classic': 835, 'journey': 2421, 'center': 732, 'earth': 1403, 'grave': 1962, 'thing': 4450, '80': 58, 'minute': 2858, 'title': 4504, 'everything': 1544, 'else': 1448, 'worth': 4953, 'watching': 4815, 'fact': 1621, 'director': 1264, 'eight': 1436, 'minutes': 2859, 'studio': 4240, 'albert': 174, 'sequel': 3885, 'alien': 183, 'ireland': 2352, 'producers': 3416, 'ran': 3513, 'money': 2888, 'satisfy': 3790, 'onto': 3111, 'please': 3304, 'rent': 3626, 'buy': 640, 'garbage': 1870, 'henry': 2084, 'james': 2378, 'pat': 3208, 'takes': 4351, 'place': 3282, 'contemporary': 965, 'two': 4620, 'british': 589, 'dog': 1310, 'brought': 600, 'together': 4511, 'adventure': 130, 'lifetime': 2594, 'purely': 3472, 'richard': 3686, 'paul': 3214, 'blind': 506, 'date': 1118, 'book': 535, 'obsessed': 3069, 'brother': 598, 'mitchell': 2875, 'smith': 4038, 'weird': 4841, 'science': 3816, 'going': 1931, 'cave': 727, 'heroine': 2091, 'works': 4945, 'domestic': 1318, 'service': 3896, 'called': 652, 'less': 2575, 'five': 1743, 'her': 2085, 'jobs': 2406, 'nevertheless': 3002, 'sympathetic': 4342, 'africa': 141, 'express': 1600, 'sends': 3876, 'rock': 3720, 'billy': 482, 'foul': 1810, 'jeremy': 2394, 'concert': 935, 'career': 686, 'named': 2961, 'wants': 4791, 'waiting': 4772, 'arrival': 299, 'taxi': 4371, 'accidentally': 85, 'puts': 3481, 'richards': 3687, 'strictly': 4223, 'baby': 376, 'anyway': 261, 'catches': 715, 'tells': 4397, 'driver': 1366, 'follow': 1772, 'them': 4432, 'demands': 1175, 'drive': 1363, 'plans': 3292, 'guys': 2001, 'lost': 2660, 'themselves': 4435, 'atlantis': 332, 'police': 3322, 'state': 4160, 'repeatedly': 3632, 'surface': 4310, 'exist': 1569, 'heroes': 2089, 'accident': 84, 'resembles': 3646, 'everybody': 1540, 'looks': 2649, 'straight': 4210, 'punk': 3468, 'opera': 3116, 'general': 1880, 'operation': 3117, 'hit': 2122, 'visit': 4755, 'rule': 3753, 'comedy': 890, 'despite': 1211, 'superficial': 4298, 'satire': 3788, 'favorite': 1671, 'low': 2676, 'directors': 1266, 'blew': 505, 'fiction': 1702, 'saga': 3773, 'another': 250, 'major': 2711, 'transition': 4561, 'television': 4394, 'ease': 1404, 'shows': 3960, 'certainly': 738, 'laughter': 2535, 'american': 213, 'begin': 442, 'opening': 3114, 'afterwards': 145, 'variety': 4714, 'how': 2181, 'forget': 1793, 'san': 3780, 'introduced': 2337, 'queen': 3485, 'use': 4692, 'comedic': 888, 'talents': 4356, 'hide': 2097, 'tragic': 4552, 'son': 4070, '11': 2, 'wife': 4884, 'died': 1244, 'suicide': 4283, 'found': 1811, 'utter': 4701, 'talent': 4354, 'available': 361, 'notably': 3042, 'stanley': 4148, 'chris': 806, 'walken': 4777, 'hank': 2024, 'alan': 171, 'four': 1812, 'leads': 2548, 'completely': 922, 'wasted': 4809, 'unfunny': 4655, 'whose': 4877, 'care': 684, 'dire': 1257, 'julia': 2427, 'roberts': 3714, 'jones': 2418, 'plain': 3286, 'annoying': 249, 'appearing': 277, 'role': 3726, 'high': 2100, 'humour': 2194, 'ego': 1435, 'cusack': 1088, 'walks': 4780, 'apparently': 270, 'bored': 541, 'project': 3427, 'supposed': 4306, 'absolutely': 72, 'romance': 3732, 'between': 475, 'central': 735, 'let': 2579, 'alone': 194, 'chemistry': 782, 'possible': 3350, 'moments': 2887, 'mild': 2839, 'came': 656, 'relationship': 3597, 'obviously': 3072, 'unable': 4631, 'originality': 3130, 'whatsoever': 4861, 'spoilers': 4124, 'reasonably': 3559, 'amusing': 221, 'mexican': 2826, 'lover': 2672, 'turn': 4605, 'parody': 3192, 'parts': 3199, 'instead': 2307, 'treated': 4573, 'pure': 3471, 'genius': 1887, 'majority': 2712, 'john': 2409, 'mention': 2810, 'plenty': 3307, 'ideas': 2215, 'elaborate': 1439, 'genre': 1888, 'itself': 2371, 'almost': 193, 'gross': 1978, 'teen': 4388, 'into': 2332, 'category': 718, 'ie': 2221, 'drunk': 1375, 'students': 4239, 'kick': 2460, 'sci': 3815, 'fi': 1701, 'festival': 1697, 'wave': 4818, 'hysterical': 2208, 'describe': 1194, 'felt': 1692, 'oh': 3096, 'company': 910, 'turned': 4606, 'audiences': 353, 'reaction': 3541, 'equivalent': 1512, 'drunken': 1376, 'student': 4238, 'audience': 352, 'serious': 3891, 'anime': 243, 'think': 4452, 'mood': 2898, 'opened': 3113, 'within': 4912, 'seconds': 3848, 'room': 3735, 'rolling': 3730, 'bullet': 620, 'script': 3834, 'funniest': 1851, 'predictable': 3367, 'road': 3709, 'occasional': 3074, 'ill': 2228, 'aside': 315, 'rubbish': 3748, 'laughable': 2530, 'animation': 242, 'poorly': 3329, 'done': 1322, 'put': 3480, 'backgrounds': 381, 'gradually': 1952, 'montage': 2894, 'swedish': 4335, 'lady': 2507, 'death': 1141, 'dimensional': 1253, 'painful': 3171, 'brief': 579, 'side': 3965, 'lines': 2612, 'light': 2595, 'motivation': 2914, 'behind': 447, 'youve': 4995, 'few': 1700, 'lying': 2690, 'around': 297, 'sure': 4308, 'theyre': 4445, 'alcoholic': 177, 'pain': 3170, 'dvd': 1391, 'mystery': 2956, 'theatre': 4429, '3000': 43, 'laugh': 2529, 'solo': 4058, 'wont': 4932, 'friend': 1835, 'suppose': 4305, 'island': 2361, 'havent': 2053, 'scream': 3826, 'left': 2561, 'halloween': 2010, 'cinema': 816, 'vision': 4754, 'horror': 2168, 'moment': 2886, 'rating': 3529, 'imdb': 2240, 'doesnt': 1309, 'deserve': 1199, 'appreciation': 281, 'getting': 1901, 'convinced': 984, 'surprise': 4312, 'popcorn': 3331, 'urge': 4689, 'difficult': 1249, 'deep': 1154, 'video': 4733, 'rental': 3627, 'top': 4525, 'risk': 3704, 'effort': 1432, 'probably': 3407, 'run': 3755, 'home': 2142, 'marriage': 2743, 'office': 3091, 'boyfriend': 558, 'meet': 2793, 'finally': 1724, 'spend': 4105, 'situation': 4008, 'returns': 3668, 'par': 3184, 'familiar': 1643, 'yet': 4984, 'white': 4870, 'nights': 3016, 'tiny': 4500, 'bit': 488, 'le': 2544, 'keeps': 2451, 'lovers': 2673, 'apart': 264, 'dead': 1132, 'realistic': 3550, 'gem': 1877, 'crazy': 1035, 'months': 2897, 'ago': 154, 'settings': 3901, 'shots': 3950, 'streets': 4217, 'colorful': 878, 'hotel': 2175, 'tell': 4395, 'rooms': 3736, 'hire': 2116, 'hour': 2176, 'witness': 4914, 'purpose': 3474, 'fits': 1741, 'unconvincing': 4638, 'actress': 105, 'late': 2523, 'sing': 3992, 'give': 1912, 'thumbs': 4485, 'cute': 1090, 'yes': 4982, 'hearted': 2065, 'enjoyable': 1485, 'contains': 964, 'enjoyed': 1486, 'reviewers': 3678, 'suggested': 4281, 'wished': 4905, 'likely': 2601, 'served': 3894, 'picking': 3267, 'although': 201, 'might': 2835, 'requires': 3642, 'appearance': 274, 'person': 3238, 'voice': 4761, 'personality': 3242, 'character': 758, 'ways': 4822, 'seemed': 3862, 'unbelievable': 4634, 'agree': 155, 'both': 547, 'self': 3869, 'centered': 733, 'charming': 768, 'intelligent': 2314, 'gain': 1863, 'grow': 1982, 'positive': 3346, 'stretch': 4221, 'directions': 1262, 'chosen': 805, 'pamela': 3179, 'become': 433, 'open': 3112, 'ending': 1471, 'dear': 1140, 'lord': 2652, 'horrible': 2163, 'say': 3799, 'scarecrow': 3804, 'awful': 372, 'gore': 1941, 'beginning': 443, 'shocking': 3940, 'add': 115, 'pile': 3275, 'crap': 1031, 'besides': 468, 'cared': 685, 'soon': 4074, 'forgot': 1796, 'sick': 3963, 'zero': 4996, 'rap': 3520, 'culture': 1079, 'stop': 4201, 'pretty': 3384, 'tap': 4364, 'hilarious': 2106, 'fall': 1637, 'flat': 1748, 'screening': 3830, 'reasons': 3560, 'today': 4508, 'concerned': 932, 'wrong': 4973, 'noise': 3024, 'comes': 891, 'deserved': 1200, 'credit': 1049, 'overall': 3150, 'racism': 3502, 'obvious': 3071, 'themes': 4434, 'humor': 2192, 'highly': 2105, 'recommend': 3571, 'essentially': 1523, 'worlds': 4947, 'bathroom': 412, 'robin': 3715, 'hood': 2151, 'bette': 471, 'attractive': 351, 'performed': 3230, 'stopped': 4202, 'sexy': 3911, 'swim': 4337, 'suit': 4284, 'george': 1893, 'johnny': 2410, 'black': 493, 'eye': 1611, 'davis': 1126, 'rich': 3685, 'reporter': 3636, 'affair': 135, 'appeared': 276, 'liked': 2600, 'sheriff': 3929, 'managed': 2723, 'jump': 2429, 'several': 3905, 'places': 3284, 'finished': 1733, 'until': 4680, '12': 3, '2006': 36, 'extremely': 1610, 'pleased': 3305, 'happen': 2026, 'balance': 387, 'suggest': 4280, 'notes': 3046, 'special': 4097, 'features': 1680, 'personally': 3243, 'joy': 2422, 'crew': 1053, 'hope': 2155, 'brian': 576, 'future': 1856, 'projects': 3428, 'sequences': 3888, 'contrived': 976, 'thrilling': 4474, 'cops': 993, 'lone': 2642, 'silly': 3976, 'werent': 4849, 'normal': 3033, 'stereotypes': 4179, 'added': 116, 'touch': 4533, 'sympathy': 4343, 'disagree': 1269, 'wanted': 4789, 'punch': 3466, 'judge': 2424, 'isnt': 2362, 'mark': 2739, 'wanting': 4790, 'tony': 4521, 'eccentric': 1414, 'farm': 1656, 'family': 1645, 'paid': 3169, 'reynolds': 3684, 'daughter': 1121, 'share': 3920, 'inferior': 2285, 'theatrical': 4430, 'during': 1387, 'picture': 3269, 'begins': 444, 'halfway': 2008, 'becoming': 435, 'match': 2762, 'vehicle': 4718, 'novel': 3052, 'mix': 2876, 'causing': 726, 'stuck': 4237, 'ridiculously': 3694, 'idiot': 2218, 'celluloid': 731, 'magazine': 2701, 'regret': 3591, 'lower': 2677, 'grade': 1951, 'retired': 3664, 'cop': 991, 'cliche': 843, 'helping': 2081, 'smiling': 4037, 'post': 3352, 'patient': 3211, 'over': 3148, 'armed': 293, 'forces': 1788, 'portrayed': 3342, 'anyone': 259, 'mentions': 2813, 'clean': 838, 'killed': 2469, 'decides': 1150, 'ex': 1549, 'saved': 3795, 'prime': 3395, 'twice': 4613, 'honor': 2150, 'americans': 214, 'tag': 4348, 'line': 2610, 'makers': 2715, 'check': 777, 'david': 1124, 'youll': 4988, 'realise': 3548, 'classics': 837, 'shark': 3921, 'attack': 337, 'says': 3801, 'ps': 3453, 'names': 2963, 'loved': 2670, 'always': 203, 'strangely': 4212, 'looked': 2647, 'forward': 1808, 're': 3535, 'usually': 4700, 'somehow': 4063, 'intrigued': 2334, 'enjoying': 1487, 'caine': 647, 'usual': 4699, 'law': 2538, 'hold': 2129, 'clever': 841, 'working': 4944, 'stops': 4203, 'seven': 3903, 'goes': 1930, 'gets': 1900, 'tension': 4404, 'built': 618, 'unbelievably': 4635, 'grows': 1985, 'frustration': 1843, 'decided': 1149, 'homosexual': 2145, 'bang': 393, 'laws': 2540, 'roll': 3728, 'credits': 1050, 'those': 4460, 'drag': 1342, 'pity': 3281, 'fever': 1699, 'pitch': 3279, 'mom': 2885, 'wasnt': 4807, 'someone': 4064, 'blah': 496, 'kiss': 2483, 'relate': 3593, 'extraordinary': 1607, 'circumstances': 822, 'jimmy': 2403, 'christopher': 811, 'lee': 2559, 'fu': 1844, 'serial': 3889, 'peter': 3247, 'sellers': 3872, 'shines': 3932, 'portrayal': 3341, 'sadness': 3770, 'van': 4713, 'dracula': 1341, 'ho': 2127, '1960s': 15, 'tv': 4610, 'couldve': 1009, 'youre': 4992, 'need': 2987, 'pass': 3201, 'homer': 2144, 'simpson': 3987, 'church': 813, 'start': 4156, 'spoiler': 4123, 'sent': 3880, 'jail': 2376, 'maria': 2736, 'starts': 4159, 'sleeping': 4025, 'boss': 546, 'awake': 365, 'explosion': 1596, 'forced': 1787, 'fail': 1625, 'others': 3136, 'required': 3641, 'class': 833, 'double': 1331, 'developed': 1223, 'fans': 1650, 'idea': 2213, 'wrapped': 4964, 'pick': 3265, 'flaw': 1749, 'won': 4925, 'academy': 77, 'award': 366, 'golden': 1934, 'anthony': 253, 'doubts': 1333, 'either': 1438, 'level': 2584, 'decent': 1147, 'dangerous': 1110, 'arrogant': 303, 'racist': 3503, 'fighting': 1709, 'crime': 1055, 'greater': 1965, 'pull': 3461, 'friends': 1837, 'political': 3324, 'figure': 1711, 'kidnapped': 2466, 'dick': 1239, 'learns': 2553, 'destroyed': 1214, 'knowing': 2490, 'artist': 307, 'sidney': 3968, 'heroic': 2090, 'murders': 2943, 'kills': 2474, 'matter': 2769, 'mentally': 2809, 'behavior': 446, 'anti': 254, 'social': 4049, 'gotten': 1947, 'oscar': 3133, 'tradition': 4549, 'treasure': 4571, 'leading': 2547, 'members': 2801, 'truly': 4597, 'scary': 3807, 'base': 402, 'argument': 291, 'leave': 2555, 'oddly': 3081, 'used': 4693, 'frightening': 1839, 'runs': 3757, 'leaves': 2556, 'killing': 2472, 'shelley': 3928, 'winters': 4901, 'fury': 1855, 'worthy': 4956, 'glad': 1916, 'recognized': 3570, 'consistent': 953, 'dialog': 1232, 'tongue': 4518, 'style': 4249, 'wonders': 4931, 'walter': 4784, 'handle': 2018, 'properly': 3437, 'nowadays': 3055, 'african': 142, 'orson': 3132, 'welles': 4844, 'olivier': 3103, 'personal': 3240, 'subtle': 4260, 'fine': 1729, 'angry': 238, 'question': 3487, 'taking': 4352, 'theater': 4427, 'cause': 723, 'regarding': 3589, 'lives': 2628, 'aspect': 321, 'result': 3660, 'melodramatic': 2798, 'gordon': 1940, 'feature': 1678, 'starring': 4154, 'infamous': 2284, 'jack': 2373, 'killings': 2473, 'mind': 2849, 'earlier': 1399, '1930s': 11, 'jealous': 2388, 'men': 2805, 'gods': 1928, 'name': 2960, 'directing': 1260, 'recall': 3562, 'reached': 3537, 'diane': 1238, 'bar': 396, 'sees': 3866, 'kissing': 2484, 'aware': 368, 'tries': 4585, 'discussion': 1284, 'history': 2121, 'symbolism': 4341, 'rate': 3526, 'direction': 1261, 'giving': 1915, 'early': 1400, 'warner': 4799, 'afford': 138, 'rarely': 3524, 'unforgettable': 4652, 'opportunity': 3121, 'genuine': 1891, 'song': 4071, 'dance': 1103, 'act': 97, 'comedian': 887, 'introduces': 2338, 'fabulous': 1615, 'awesome': 371, 'created': 1037, 'scale': 3802, 'grand': 1953, 'piano': 3264, 'happiness': 2031, 'boys': 559, 'witty': 4917, 'nick': 3012, 'lucas': 2680, 'finale': 1723, 'color': 877, 'luck': 2681, 'chorus': 803, 'teenagers': 4391, 'faces': 1618, 'row': 3744, 'doll': 1313, 'hop': 2154, 'girls': 1911, 'pearl': 3220, 'move': 2921, 'imagine': 2238, 'whilst': 4869, 'toy': 4542, 'below': 462, 'course': 1019, 'weeks': 4839, 'each': 1395, 'every': 1539, 'reactions': 3542, 'era': 1513, 'entertain': 1497, 'thrill': 4471, 'demented': 1176, 'travels': 4569, 'husband': 2204, 'steven': 4182, 'harris': 2038, 'alex': 179, 'savage': 3793, 'issues': 2365, 'weekend': 4838, 'remote': 3622, 'boat': 523, 'arrives': 302, 'explains': 1589, 'smoke': 4039, 'pot': 3354, 'driving': 1368, 'truck': 4595, 'night': 3013, 'turns': 4609, 'believes': 456, 'animal': 239, 'later': 2525, 'claims': 830, 'accept': 80, 'trade': 4547, 'deadly': 1133, 'war': 4792, 'families': 1644, 'stupid': 4247, 'amateurish': 207, 'surprisingly': 4316, 'flawed': 1750, 'totally': 4532, 'absurd': 73, 'menace': 2806, 'logical': 2639, 'bringing': 586, 'force': 1786, 'rescue': 3643, 'car': 680, 'house': 2178, 'nobody': 3022, 'chases': 771, 'calls': 654, 'sister': 4001, 'flaws': 1752, 'writing': 4971, 'subject': 4253, 'vote': 4766, 'brazil': 568, 'de': 1131, 'blood': 512, 'average': 362, 'wondering': 4930, 'hopeless': 2158, 'unknown': 4668, 'susan': 4326, 'concerning': 933, 'choice': 797, 'remain': 3609, 'valley': 4707, 'dolls': 1316, 'sum': 4289, 'total': 4531, 'stay': 4166, 'cost': 1003, 'cannot': 670, 'final': 1722, 'fantasy': 1652, 'costume': 1005, 'century': 736, 'castle': 712, 'europe': 1529, 'enemy': 1477, 'leader': 2546, 'shes': 3930, 'painted': 3174, 'image': 2233, 'betty': 474, 'blonde': 511, 'pleasant': 3302, 'results': 3662, 'feels': 1687, 'simple': 3983, 'perfectly': 3226, 'capturing': 679, 'sexuality': 3909, 'experienced': 1581, 'figures': 1713, 'documentary': 1307, 'convincing': 985, 'charismatic': 763, 'performers': 3232, 'fresh': 1833, 'honest': 2146, 'thankfully': 4422, 'filled': 1715, 'pop': 3330, 'references': 3583, 'gritty': 1977, 'east': 1407, 'setting': 3900, 'artistic': 308, 'reminds': 3620, 'italian': 2367, 'neo': 2998, 'realism': 3549, 'thief': 4448, 'treats': 4575, 'writer': 4968, 'deserves': 1201, 'praise': 3364, 'achievement': 94, 'america': 212, 'respect': 3652, 'hate': 2046, 'come': 886, 'popular': 3333, 'count': 1010, 'sensitive': 3879, 'groups': 1981, 'silver': 3977, 'particular': 3194, 'westerns': 4854, 'li': 2587, 'famous': 1647, 'thanks': 4423, 'largely': 2518, 'rise': 3702, 'indie': 2276, 'pictures': 3270, 'influence': 2286, 'raising': 3509, 'victor': 4731, 'easily': 1406, 'fat': 1663, 'greek': 1970, 'wedding': 4836, 'refreshing': 3586, 'exaggerated': 1552, 'drawn': 1351, 'note': 3044, 'remembered': 3617, 'making': 2718, 'perfect': 3224, 'awfully': 373, 'hence': 2083, 'advice': 133, 'kinda': 2477, 'competition': 918, 'whats': 4860, 'half': 2007, 'presents': 3377, 'lie': 2590, 'third': 4455, 'ruin': 3750, 'evening': 1534, 'includes': 2263, 'breasts': 572, 'heavy': 2070, 'drinking': 1362, 'terrific': 4409, 'jeff': 2390, 'creature': 1045, 'gruesome': 1986, 'channel': 753, 'religious': 3608, 'messages': 2820, 'prefer': 3368, 'represented': 3638, 'particularly': 3195, 'noticed': 3049, 'viewing': 4740, 'lengthy': 2570, 'twist': 4617, 'michael': 2829, 'older': 3101, 'eve': 1532, 'escapes': 1519, 'murder': 2939, 'atmosphere': 333, 'events': 1536, 'advance': 127, 'occur': 3076, 'allowing': 191, 'chance': 747, 'lighting': 2596, 'importantly': 2248, 'damn': 1100, 'eerie': 1427, 'uncomfortable': 4637, 'body': 527, 'small': 4033, 'fear': 1676, 'limited': 2606, 'deaths': 1142, 'nancy': 2964, 'jamie': 2379, 'curtis': 1087, 'shy': 3962, 'un': 4630, 'quickly': 3491, 'realize': 3552, 'herself': 2092, 'prepared': 3371, 'donald': 1321, 'determined': 1221, 'perhaps': 3235, 'dr': 1340, 'peace': 3219, 'release': 3602, 'countless': 1012, 'rip': 3700, 'stolen': 4195, 'badly': 383, 'bits': 490, 'combined': 885, 'changes': 751, 'expectations': 1576, 'raw': 3532, 'power': 3359, 'appreciate': 279, 'viewed': 4737, 'unique': 4662, 'highest': 2102, 'attempt': 340, 'dramatic': 1348, 'wish': 4904, 'control': 977, 'fast': 1661, 'vampires': 4712, 'disgusting': 1286, 'creatures': 1046, 'vampire': 4711, 'cat': 713, 'fell': 1690, 'sword': 4340, 'whatever': 4859, 'artists': 309, 'respected': 3653, 'using': 4698, 'broken': 594, 'arm': 292, 'victim': 4729, 'forgettable': 1794, 'rented': 3628, 'said': 3774, 'therefore': 4439, 'differences': 1247, 'greatly': 1967, 'disappointed': 1273, 'removed': 3624, 'merely': 2815, 'lacked': 2503, 'secretly': 3851, 'wishes': 4906, 'lacks': 2505, 'nazi': 2977, 'gary': 1873, 'villain': 4744, 'appear': 273, 'odds': 3082, 'primary': 3394, 'complaint': 920, 'rings': 3699, 'include': 2261, 'splatter': 4118, 'cartoon': 704, 'thomas': 4458, 'bill': 481, 'robinson': 3716, 'louis': 2665, 'club': 863, 'cartoons': 705, 'entertainment': 1500, 'local': 2634, 'standard': 4144, 'animated': 241, 'short': 3946, 'universal': 4665, 'fox': 1814, 'mickey': 2831, 'mouse': 2919, 'uncle': 4636, 'disney': 1289, 'certain': 737, '50': 51, 'clips': 852, 'south': 4087, 'park': 3190, 'viewers': 4739, 'hot': 2174, 'poverty': 3357, 'lifestyle': 2593, 'aka': 168, 'survive': 4321, 'throughout': 4478, 'duty': 1390, 'capture': 676, 'tons': 4520, 'actions': 101, 'struggles': 4235, 'beat': 423, 'dogs': 1311, 'suffer': 4275, 'dreary': 1356, 'dreadful': 1353, 'non': 3027, 'screaming': 3827, 'lots': 2662, 'meaningful': 2781, 'stands': 4147, 'examples': 1554, 'saving': 3797, 'grace': 1950, 'cable': 644, 'acted': 98, 'bank': 394, 'account': 89, 'leaving': 2557, 'pays': 3218, 'cash': 709, 'allowed': 190, 'president': 3378, 'head': 2057, 'security': 3854, 'sucked': 4270, 'chick': 786, 'trailer': 4554, 'reviews': 3679, 'entertaining': 1499, 'seriously': 3892, 'jaws': 2385, 'none': 3028, 'above': 68, 'normally': 3034, 'bother': 548, 'comfortable': 892, 'monster': 2892, 'lazy': 2543, 'scientists': 3819, 'nowhere': 3056, 'points': 3319, 'design': 1202, 'aint': 163, 'creation': 1040, 'semi': 3874, 'comical': 894, 'surrounding': 4319, 'river': 3707, 'search': 3841, 'suspense': 4330, 'committed': 905, 'government': 1948, 'involving': 2349, 'front': 1841, 'bus': 631, 'kidding': 2465, 'rotten': 3740, 'rising': 3703, 'sequence': 3887, 'rain': 3506, 'alfred': 181, 'andrews': 229, 'vicious': 4728, 'nicholas': 3010, 'simon': 3982, 'needs': 2990, 'meanwhile': 2785, 'tommy': 4516, 'illegal': 2229, 'ted': 4386, 'harry': 2039, 'von': 4765, 'ken': 2453, 'craig': 1030, 'stevens': 4183, 'morgan': 2905, 'gene': 1879, 'strikes': 4225, 'refuses': 3587, 'cold': 872, 'guilty': 1995, 'fallen': 1638, 'losing': 2658, 'cover': 1022, 'tale': 4353, 'tom': 4514, 'blame': 499, 'directs': 1267, 'cry': 1073, 'william': 4887, 'solid': 4057, 'noir': 3023, 'photography': 3260, 'morality': 2903, 'holds': 2131, 'lit': 2621, 'laura': 2536, 'obscure': 3068, 'museum': 2945, 'pre': 3365, 'leonard': 2572, 'twins': 4616, 'believed': 455, 'evil': 1548, 'reading': 3544, 'scripts': 3836, 'drink': 1361, 'mad': 2696, 'awards': 367, 'depressing': 1188, 'aids': 161, 'continues': 971, 'kept': 2456, 'fair': 1630, 'nudity': 3059, 'lack': 2502, 'missed': 2867, 'gay': 1876, 'recently': 3567, 'terms': 4406, 'mill': 2845, 'ranks': 3519, 'series': 3890, 'opinion': 3118, 'screenwriter': 3833, 'maker': 2714, 'slaughter': 4021, 'deal': 1135, 'justice': 2438, 'russell': 3761, 'quit': 3494, 'disappointing': 1274, 'die': 1243, 'embarrassed': 1453, 'depressed': 1187, 'eyes': 1613, 'believing': 457, 'thank': 4421, 'goodness': 1938, 'grown': 1984, 'told': 4513, 'sport': 4129, 'drew': 1360, 'sorry': 4076, 'equally': 1510, 'changed': 750, 'uk': 4626, 'football': 1783, 'details': 1219, 'saturday': 3792, 'massive': 2756, 'success': 4265, 'cgi': 740, 'bugs': 613, 'bunch': 623, 'heavily': 2069, '1990s': 25, 'month': 2896, 'impressed': 2251, 'viewings': 4741, 'food': 1778, 'gang': 1867, 'member': 2800, 'reputation': 3640, 'mean': 2779, 'offering': 3089, 'arrive': 300, 'hopper': 2161, 'ready': 3546, 'suggests': 4282, 'royal': 3746, 'warrior': 4802, 'fight': 1707, 'princess': 3397, 'mission': 2870, 'group': 1980, 'thinks': 4454, 'warriors': 4803, 'stood': 4199, 'generally': 1881, 'bland': 500, 'fortunately': 1805, 'idiotic': 2219, 'likable': 2598, 'root': 3737, 'somewhat': 4068, 'sometimes': 4067, 'aspects': 322, 'francis': 1818, 'male': 2719, 'mistaken': 2872, 'female': 1693, 'exception': 1557, 'slightly': 4029, 'standards': 4145, 'reasonable': 3558, 'ride': 3692, 'devil': 1228, 'tiger': 4491, 'border': 539, 'civil': 826, 'sad': 3767, 'bloody': 513, 'jeffrey': 2391, 'notch': 3043, 'values': 4710, 'adapted': 114, 'jay': 2386, 'party': 3200, 'jason': 2383, 'meets': 2795, 'gorgeous': 1942, 'dancer': 1104, 'morning': 2906, 'bed': 436, 'karen': 2444, 'blair': 497, 'apartment': 265, 'desperately': 1209, 'asks': 319, 'dinner': 1254, 'realizes': 3554, 'cousin': 1021, 'attraction': 350, 'trio': 4587, 'actresses': 106, 'amazingly': 210, 'laughed': 2532, 'imagination': 2236, 'store': 4204, 'suspect': 4327, 'tarzan': 4367, 'moral': 2902, 'portray': 3340, 'erotic': 1515, 'legend': 2564, 'premise': 3370, 'speak': 4094, 'jungle': 2434, 'plastic': 3294, 'bo': 521, 'bodies': 526, 'explored': 1595, 'succeeds': 4264, 'anywhere': 263, 'national': 2970, 'influenced': 2287, 'imagery': 2234, 'constructed': 959, 'ridiculous': 3693, 'argue': 290, 'shouldnt': 3952, 'sexual': 3908, 'draw': 1349, 'opposite': 3123, 'miles': 2843, 'footage': 1782, 'excuse': 1564, 'porn': 3336, 'stock': 4193, 'guessing': 1991, 'viewer': 4738, 'latter': 2528, 'mainstream': 2709, 'seek': 3858, 'lust': 2689, 'successfully': 4267, 'media': 2789, 'event': 1535, 'shallow': 3917, 'merit': 2816, '20': 29, 'ahead': 159, 'appears': 278, 'mrs': 2930, 'empty': 1465, 'editing': 1421, 'likes': 2602, 'shoot': 3942, 'soul': 4079, 'fifteen': 1706, 'staring': 4152, 'consider': 949, 'amanda': 205, 'ugly': 4625, 'candy': 668, 'cheated': 775, 'shorts': 3948, 'stooges': 4200, 'team': 4378, 'timing': 4498, 'slapstick': 4019, 'larry': 2520, 'object': 3066, 'polished': 3323, 'frustrated': 1842, 'regular': 3592, 'disappoint': 1272, 'decide': 1148, 'weak': 4824, 'thriller': 4472, 'relationships': 3598, 'tried': 4584, 'psychological': 3458, 'thrillers': 4473, 'case': 707, 'dull': 1384, 'gave': 1875, 'genres': 1889, 'hardly': 2036, 'implausible': 2245, 'incoherent': 2265, 'spanish': 4092, 'opens': 3115, 'cats': 721, 'somewhere': 4069, 'vacation': 4704, 'pay': 3216, 'photographer': 3259, 'ask': 316, 'witches': 4910, 'mountain': 2917, 'loud': 2664, 'ears': 1402, 'explained': 1587, 'realizing': 3555, 'deaf': 1134, 'adequate': 120, 'climax': 849, 'hair': 2005, 'curious': 1083, 'cheap': 774, 'atmospheric': 334, 'european': 1530, 'decade': 1144, 'prequel': 3372, 'key': 2458, 'prison': 3401, 'talks': 4361, 'mildly': 2840, 'held': 2074, 'performing': 3233, 'shown': 3959, 'everywhere': 1545, 'principal': 3398, 'happy': 2032, 'birthday': 487, 'write': 4967, 'page': 3167, 'wouldnt': 4958, 'allow': 189, 'moon': 2900, 'depicts': 1186, 'humans': 2190, 'feelings': 1686, 'towards': 4540, 'loss': 2659, 'meaning': 2780, 'reveals': 3673, 'clearly': 840, 'depicted': 1183, 'lies': 2591, 'effects': 1431, 'authentic': 358, 'dies': 1245, 'powerful': 3360, 'guns': 1998, 'fake': 1635, 'brings': 587, 'accepted': 82, 'thoughtful': 4463, 'modern': 2882, 'ancient': 225, 'china': 795, 'da': 1094, 'businessman': 634, 'letter': 2581, 'neighborhood': 2993, 'business': 633, 'public': 3460, 'centers': 734, 'importance': 2246, 'fathers': 1667, 'considered': 951, 'community': 908, 'souls': 4080, 'progress': 3425, 'incredibly': 2270, 'handled': 2019, 'glimpse': 1919, 'chinese': 796, 'approach': 282, 'doubt': 1332, 'fit': 1740, 'enormous': 1490, 'potential': 3355, 'aid': 160, 'visual': 4757, 'tricks': 4583, 'outstanding': 3147, 'acts': 107, 'persons': 3244, 'surely': 4309, 'steals': 4172, 'attitude': 346, 'score': 3822, 'slight': 4027, 'hundreds': 2196, 'detective': 1220, '40s': 49, 'thin': 4449, 'traditional': 4550, 'youd': 4987, 'charles': 764, 'sidekick': 3966, 'practically': 3362, 'exceptionally': 1559, 'spends': 4107, 'super': 4295, 'important': 2247, 'thoroughly': 4459, 'hated': 2047, 'repeated': 3631, 'doctors': 1305, 'credible': 1048, 'keeping': 2450, 'plots': 3310, 'exceptional': 1558, 'okay': 3099, 'heres': 2087, 'vhs': 4725, 'tape': 4365, 'myself': 2953, 'boy': 557, 'killers': 2471, 'spirits': 4115, 'dreams': 1355, 'walking': 4779, 'inside': 2297, 'machines': 2694, 'spirit': 4113, 'killer': 2470, 'friendly': 1836, 'landscape': 2513, 'snow': 4045, 'freddy': 1826, 'cool': 989, 'mouth': 2920, 'matched': 2763, 'liners': 2611, 'scares': 3806, 'hardcore': 2034, 'kevin': 2457, 'accent': 78, 'forgotten': 1797, 'nor': 3032, 'recent': 3566, 'forever': 1792, 'freedom': 1828, 'faithful': 1634, 'woods': 4935, 'intended': 2315, 'minor': 2857, 'parker': 3191, 'successful': 4266, 'model': 2880, 'lawyer': 2541, 'commit': 904, 'teenager': 4390, 'cheating': 776, 'christ': 807, 'catholic': 720, 'live': 2625, 'help': 2079, 'brooklyn': 595, 'heights': 2073, 'window': 4894, 'building': 615, 'matthew': 2772, 'carradine': 695, 'priest': 3392, 'receives': 3565, 'neighbors': 2994, 'health': 2060, 'further': 1853, 'criminals': 1058, 'creepy': 1052, 'underrated': 4642, 'user': 4696, '70s': 56, 'september': 3884, 'yesterday': 4983, 'became': 431, 'nine': 3017, '2007': 37, 'smart': 4035, 'crafted': 1029, 'lived': 2626, 'seventies': 3904, 'younger': 4990, 'danny': 1112, 'glover': 1923, 'baseball': 403, 'directly': 1263, 'packed': 3166, 'sports': 4130, 'neil': 2995, '1973': 19, 'surprising': 4315, 'soundtrack': 4085, 'word': 4937, 'filmmakers': 1720, '1970s': 17, 'folk': 1770, 'williams': 4888, 'buddy': 609, 'holly': 2136, 'remake': 3612, 'cult': 1077, 'carter': 703, 'cage': 645, 'disturbed': 1299, 'faith': 1633, 'struggle': 4234, 'previously': 3388, 'wholly': 4874, 'took': 4523, 'succeeded': 4263, 'guts': 1999, 'failing': 1627, 'fatal': 1664, 'crash': 1033, 'kudos': 2497, 'private': 3404, 'extra': 1606, 'edward': 1426, 'missing': 2869, 'conceived': 929, 'witch': 4909, 'near': 2979, 'discovers': 1281, 'previous': 3387, 'failed': 1626, 'eventually': 1537, 'admittedly': 123, 'hands': 2020, 'news': 3005, 'concerns': 934, 'cia': 814, 'laid': 2508, 'carefully': 689, 'irony': 2357, 'basic': 406, 'subjects': 4254, 'crucial': 1068, 'christian': 808, 'virgin': 4749, 'sacrifice': 3766, 'matters': 2770, 'opposed': 3122, 'honestly': 2147, 'mental': 2808, 'hopes': 2159, 'frequent': 1831, 'reduced': 3579, 'bear': 420, 'eyed': 1612, 'similarly': 3980, 'delivery': 1173, 'entirely': 1503, 'convince': 983, 'afraid': 140, 'wolf': 4920, 'element': 1442, 'beautifully': 429, 'replaced': 3634, 'dude': 1381, 'battle': 414, 'namely': 2962, 'embarrassing': 1454, 'hippie': 2115, 'chicks': 787, 'em': 1452, 'closing': 859, 'mess': 2818, 'under': 4639, 'weight': 4840, 'cliché': 844, 'round': 3742, 'producer': 3415, 'tend': 4400, '18': 10, 'captain': 674, 'gas': 1874, 'stayed': 4167, 'airplane': 166, 'flying': 1764, 'pointed': 3317, 'plane': 3288, 'asked': 317, 'fire': 1734, 'site': 4005, 'filming': 1718, 'brothers': 599, 'gory': 1943, 'balls': 390, 'mixed': 2877, 'interviews': 2330, 'explain': 1586, 'crisis': 1060, 'related': 3594, 'devoid': 1230, 'propaganda': 3435, 'belief': 451, 'improved': 2255, 'extreme': 1609, 'delivers': 1172, 'gripping': 1976, 'strong': 4229, 'water': 4816, 'apparent': 269, 'mysterious': 2955, 'pleasantly': 3303, 'surprised': 4313, 'bold': 528, 'understanding': 4645, 'former': 1800, 'contained': 963, 'errors': 1516, 'statement': 4162, 'depiction': 1185, 'rank': 3518, 'international': 2326, 'recognition': 3568, 'source': 4086, 'perspective': 3245, 'across': 96, 'treat': 4572, 'cynical': 1093, 'beings': 449, 'everyday': 1541, 'extent': 1605, 'ray': 3533, 'indian': 2274, 'spite': 4117, 'touches': 4535, 'clichés': 846, 'thick': 4447, 'nightmare': 3014, 'mile': 2842, 'global': 1920, 'disaster': 1276, 'chicago': 785, 'robots': 3718, 'crowd': 1067, 'overdone': 3152, 'destroy': 1213, 'questions': 3489, 'mainly': 2708, 'utterly': 4702, 'forty': 1807, 'hasnt': 2044, '2000': 30, '2004': 34, '2005': 35, 'wide': 4880, 'arent': 288, 'bet': 470, 'hudson': 2184, 'twists': 4619, '2003': 33, 'memorable': 2802, 'instinct': 2308, 'stone': 4197, 'press': 3379, 'stunning': 4244, 'shooting': 3943, 'brilliantly': 584, 'smile': 4036, 'speaks': 4096, 'frame': 1815, 'pleasure': 3306, 'catherine': 719, 'caliber': 649, 'walked': 4776, 'silence': 3974, 'sheer': 3925, 'nonsense': 3030, 'fame': 1642, 'wearing': 4831, 'naked': 2959, 'butt': 638, 'wanna': 4786, 'laughs': 2534, 'sight': 3969, 'madonna': 2699, 'writers': 4969, 'study': 4242, 'german': 1896, 'sell': 3871, 'soviet': 4089, 'god': 1926, 'daddy': 1096, 'rushed': 3760, 'corner': 996, 'homeless': 2143, 'condition': 937, 'bright': 581, 'depression': 1189, 'rolled': 3729, 'dropped': 1370, 'sadly': 3769, 'ryan': 3765, 'sudden': 4272, 'wounded': 4961, 'soldiers': 4054, 'air': 164, 'mid': 2832, 'laughing': 2533, 'cried': 1054, 'combat': 882, 'spoken': 4126, 'performer': 3231, 'exactly': 1551, 'except': 1556, 'corny': 997, 'hart': 2041, 'jim': 2402, 'waitress': 4773, 'molly': 2884, 'stewart': 4184, 'western': 4853, 'planning': 3291, 'cabin': 643, 'mary': 2751, 'perform': 3227, '15': 7, 'mistakes': 2873, 'touched': 4534, 'mine': 2853, 'rocket': 3721, 'beyond': 476, 'inspired': 2301, 'throat': 4476, 'shed': 3924, 'tear': 4379, 'cars': 702, 'iraq': 2351, 'bacall': 377, 'common': 906, 'bring': 585, 'realized': 3553, 'spoiled': 4122, 'brosnan': 597, 'outrageous': 3145, 'aging': 153, 'noble': 3021, 'teenage': 4389, 'clothes': 860, 'mexico': 2827, 'faced': 1617, 'personalities': 3241, 'crude': 1069, 'remarks': 3615, 'carried': 698, 'revealed': 3671, 'proves': 3447, 'bond': 532, 'sets': 3899, 'photographed': 3258, 'skills': 4014, 'scripted': 3835, 'succeed': 4262, 'wonderfully': 4929, 'niro': 3019, 'harvey': 2042, 'delightful': 1168, 'wears': 4832, 'finger': 1731, 'imaginative': 2237, 'hints': 2113, 'conventional': 979, 'spoof': 4127, 'confusing': 942, 'confused': 941, 'blow': 514, 'superhero': 4299, 'married': 2744, 'bound': 553, 'cut': 1089, 'bridge': 578, 'devoted': 1231, 'doctor': 1304, 'phantom': 3251, 'zone': 4999, 'vivid': 4760, 'parents': 3188, 'angel': 231, 'dawn': 1127, 'demons': 1178, 'reality': 3551, 'escape': 1517, 'obnoxious': 3067, 'eva': 1531, 'ice': 2210, 'girlfriend': 1910, 'psychic': 3456, 'unoriginal': 4673, 'clichéd': 845, 'proceedings': 3410, 'hunter': 2199, 'produced': 3414, 'occasionally': 3075, 'timeless': 4496, 'wealthy': 4827, 'california': 650, 'widow': 4883, 'greedy': 1969, 'daughters': 1122, 'whom': 4875, 'spending': 4106, 'issue': 2364, 'aged': 149, 'prove': 3445, 'court': 1020, 'hearing': 2063, 'gags': 1862, 'broad': 590, 'scenario': 3808, 'hits': 2125, 'false': 1641, 'sandra': 3782, 'elderly': 1440, 'choose': 799, 'remaining': 3610, 'theme': 4433, 'rush': 3759, 'ladies': 2506, 'lucky': 2683, 'steve': 4181, '40': 48, 'bruce': 602, 'daily': 1097, 'taste': 4369, 'innocent': 2294, 'lovable': 2668, 'charm': 767, 'gratuitous': 1961, 'bothered': 549, 'complain': 919, 'spent': 4108, 'higher': 2101, 'hook': 2152, 'tracy': 4546, 'view': 4736, 'london': 2641, 'delivered': 1170, 'relief': 3605, 'expecting': 1578, 'passes': 3203, '90': 60, 'capital': 673, 'scientific': 3817, 'university': 4667, 'degree': 1164, 'manages': 2725, 'push': 3477, 'impress': 2250, 'showing': 3958, 'ship': 3934, 'shape': 3919, 'joan': 2404, 'large': 2517, 'reads': 3545, 'experiments': 1584, 'coffee': 870, 'discovered': 1280, 'continue': 969, 'assistant': 326, 'figured': 1712, 'artificial': 306, 'constantly': 958, 'structure': 4233, 'purposes': 3475, 'dirty': 1268, 'wear': 4830, 'support': 4303, 'shop': 3945, 'selling': 3873, 'fellow': 1691, 'led': 2558, 'howard': 2182, 'panic': 3181, 'discovery': 1282, 'greed': 1968, 'ends': 1474, 'heat': 2067, 'united': 4664, 'owner': 3159, 'contract': 973, 'clothing': 861, 'fashion': 1659, 'styles': 4250, 'process': 3412, 'effect': 1428, 'maintain': 2710, 'alas': 172, 'paper': 3183, 'moved': 2922, 'tears': 4380, 'flawless': 1751, 'closer': 856, 'slow': 4031, 'paced': 3162, 'focus': 1766, 'nuclear': 3057, 'visible': 4753, 'nonetheless': 3029, 'caused': 724, 'sandler': 3781, 'diamond': 1236, 'quote': 3496, 'ah': 158, 'comparison': 914, 'cultural': 1078, 'dealing': 1136, 'biggest': 480, 'atrocious': 335, 'crimes': 1056, 'lesser': 2576, 'victims': 4730, 'neither': 2996, 'reminded': 3619, 'newspaper': 3006, 'charlie': 765, 'catch': 714, 'ages': 152, 'pet': 3246, 'animals': 240, 'spectacular': 4101, 'shadow': 3912, 'wise': 4903, 'wisdom': 4902, 'mirror': 2861, 'gothic': 1945, 'pace': 3161, 'tedious': 4387, 'plus': 3311, 'revenge': 3675, 'wet': 4855, 'uses': 4697, 'honesty': 2148, 'lessons': 2578, 'simplistic': 3985, 'drop': 1369, 'exposed': 1598, 'resolution': 3649, 'backdrop': 379, 'continuity': 972, 'ideal': 2214, 'longer': 2645, 'extended': 1604, 'instance': 2304, 'hospital': 2172, 'knows': 2493, 'wait': 4770, 'cruel': 1070, 'everyones': 1543, 'enjoyment': 1488, 'intensity': 2317, 'released': 3603, 'incomprehensible': 2267, 'growing': 1983, 'franco': 1820, '1968': 16, 'mini': 2854, 'screens': 3832, 'hoping': 2160, 'broadcast': 591, '2001': 31, 'camp': 662, 'ball': 388, 'politics': 3326, 'fix': 1744, 'feet': 1688, 'segments': 3868, 'segment': 3867, 'suffering': 4277, 'block': 508, 'seeking': 3859, 'inspiration': 2300, 'fictional': 1703, 'husbands': 2205, 'plan': 3287, 'bizarre': 492, 'featuring': 1681, 'youth': 4994, 'deceased': 1146, 'fourth': 1813, 'credibility': 1047, 'initial': 2290, 'wild': 4885, 'types': 4622, 'sharp': 3922, 'sub': 4252, 'struggling': 4236, 'pregnant': 3369, 'display': 1291, 'drama': 1346, 'kings': 2481, 'dancing': 1107, 'focused': 1767, 'cuba': 1075, 'cruise': 1071, 'revolution': 3680, 'property': 3438, 'trash': 4565, 'zombie': 4997, 'cake': 648, 'trilogy': 4586, 'todd': 4510, 'negative': 2991, 'considering': 952, 'wrote': 4974, 'naturally': 2974, 'complicated': 925, 'experiment': 1583, 'gone': 1935, 'zombies': 4998, 'featured': 1679, 'school': 3813, 'travel': 4567, 'endings': 1472, 'strange': 4211, 'possibly': 3351, 'kill': 2468, 'bomb': 531, 'weve': 4856, 'fears': 1677, 'sticks': 4186, 'speed': 4103, 'door': 1328, 'break': 569, 'locked': 2637, 'position': 3345, 'switch': 4339, 'edge': 1418, 'seat': 3845, 'favor': 1670, 'incompetent': 2266, 'needed': 2988, 'pseudo': 3454, 'gives': 1914, 'appeal': 271, 'critics': 1064, 'hunt': 2198, 'vietnam': 4735, 'jesse': 2397, 'effectively': 1430, 'strangers': 4214, 'co': 867, 'iii': 2227, 'creates': 1038, 'graphic': 1958, 'brutal': 603, 'pieces': 3273, 'nasty': 2968, 'hand': 2015, 'blown': 516, 'definite': 1161, 'highlights': 2104, 'capable': 672, 'jerk': 2395, 'lovely': 2671, 'suits': 4287, 'slick': 4026, 'breathtaking': 574, 'scenery': 3810, 'winner': 4897, 'physical': 3262, 'attempted': 341, 'captivating': 675, 'attention': 345, 'detail': 1217, 'worthwhile': 4955, 'storytelling': 4209, 'ironically': 2356, 'cutting': 1092, 'provide': 3448, 'lacking': 2504, 'train': 4556, 'hole': 2132, 'gotta': 1946, 'comedies': 889, 'frankly': 1823, 'hal': 2006, 'smaller': 4034, 'ultra': 4629, 'ironic': 2355, 'context': 968, 'fay': 1674, 'grim': 1974, 'filmmaker': 1719, 'cinematic': 818, 'fool': 1779, 'experience': 1580, 'author': 359, 'sake': 3775, 'sucks': 4271, 'consistently': 954, 'inducing': 2279, 'angle': 236, 'titled': 4505, 'responsible': 3656, 'wannabe': 4787, 'cards': 683, 'call': 651, 'ed': 1415, 'wood': 4933, 'creative': 1041, 'independent': 2272, 'creators': 1044, 'underlying': 4641, 'fully': 1847, 'worry': 4950, 'buddies': 608, 'navy': 2976, '20th': 38, 'ships': 3935, 'ginger': 1908, 'rogers': 3725, 'sally': 3776, 'anyways': 262, 'winds': 4895, 'dutch': 1389, 'complex': 923, 'board': 522, 'tooth': 4524, 'sign': 3970, '17': 9, '35': 45, 'outside': 3146, 'minimum': 2856, '45': 50, 'attempts': 343, 'form': 1798, 'providing': 3451, 'finding': 1727, 'los': 2653, 'angeles': 233, 'uninteresting': 4660, 'brad': 560, 'cities': 823, 'means': 2783, 'theory': 4437, 'parallel': 3185, 'monkeys': 2891, 'beauty': 430, 'insane': 2296, 'mistake': 2871, 'exact': 1550, 'aired': 165, 'introduction': 2339, 'flop': 1760, 'sunday': 4293, 'afternoon': 144, 'stronger': 4230, 'hero': 2088, 'willing': 4889, 'marry': 2745, 'helped': 2080, 'intention': 2319, 'writes': 4970, 'pathetic': 3210, 'stories': 4205, 'norman': 3035, 'warren': 4801, 'dennis': 1179, 'needless': 2989, 'numerous': 3062, 'including': 2264, 'description': 1197, 'originally': 3131, 'ron': 3734, 'absolute': 71, 'staged': 4140, 'farce': 1654, 'manner': 2729, 'motion': 2913, 'comics': 895, 'hill': 2108, 'blues': 519, 'truth': 4599, 'cameo': 657, 'according': 88, 'sitcom': 4004, 'words': 4938, 'foot': 1781, 'slowly': 4032, 'taylor': 4372, 'reviewer': 3677, 'sinister': 3998, 'suspicious': 4332, 'mysteries': 2954, 'surrounded': 4318, 'interpretation': 2328, 'lonely': 2643, 'polanski': 3321, 'madness': 2698, 'development': 1225, 'driven': 1365, 'paranoia': 3186, 'becomes': 434, 'makeup': 2717, 'possessed': 3347, 'causes': 725, 'suffice': 4279, 'legendary': 2565, 'pacing': 3163, 'citizen': 824, 'superbly': 4297, 'compelling': 916, 'union': 4661, '1980s': 21, 'stephen': 4176, 'newly': 3004, 'investigate': 2342, 'skill': 4013, 'corruption': 1002, 'system': 4345, 'failure': 1629, 'sutherland': 4333, 'politically': 3325, 'desire': 1205, 'official': 3094, 'disturbing': 1300, 'hbo': 2055, 'jonathan': 2417, 'keaton': 2448, 'price': 3389, 'expert': 1585, 'anna': 245, 'via': 4726, 'hint': 2112, 'larger': 2519, 'convoluted': 987, 'answer': 251, 'convincingly': 986, 'progresses': 3426, 'path': 3209, 'acceptable': 81, 'ties': 4490, 'junk': 2436, 'ian': 2209, 'virus': 4752, 'max': 2774, 'rid': 3690, 'hanging': 2023, 'jessica': 2398, 'complete': 921, 'tad': 4347, 'astaire': 330, 'overly': 3155, 'subplot': 4255, 'scott': 3824, 'stereotypical': 4180, 'blond': 510, 'partner': 3198, 'numbers': 3061, 'putting': 3482, 'band': 391, 'jane': 2380, 'sings': 3997, 'satan': 3787, 'poster': 3353, 'highlight': 2103, 'executed': 1565, '30s': 44, 'easier': 1405, 'professor': 3422, 'wed': 4835, 'assume': 328, 'intent': 2318, 'kinds': 2478, 'unbearable': 4633, 'stand': 4143, 'technique': 4383, 'incredible': 2269, 'nightmares': 3015, 'review': 3676, 'connect': 944, 'murdered': 2940, 'dynamic': 1394, 'experiences': 1582, 'clear': 839, 'quiet': 3492, 'caught': 722, 'loves': 2674, 'sun': 4292, 'hang': 2022, 'returning': 3667, 'maggie': 2702, 'adam': 111, 'daniel': 1111, 'lake': 2509, 'canada': 666, 'captured': 677, 'summer': 4291, 'colors': 879, 'sunshine': 4294, 'shadows': 3913, 'revealing': 3672, 'wendy': 4846, 'dad': 1095, 'arthur': 305, 'matt': 2768, 'enter': 1494, 'circle': 821, 'dialogs': 1233, 'ensemble': 1492, 'information': 2288, 'tunes': 4603, 'interview': 2329, 'concept': 930, 'spare': 4093, '1996': 26, 'hugh': 2186, 'learning': 2552, 'scope': 3821, 'pool': 3327, 'program': 3424, 'historical': 2119, 'west': 4852, 'gangsters': 1869, 'involved': 2346, 'notorious': 3051, 'tall': 4362, 'riding': 3695, 'miller': 2846, 'vast': 4716, 'individual': 2277, 'rose': 3739, 'guest': 1992, 'marie': 2737, 'dalton': 1098, 'kate': 2446, 'craft': 1028, 'decades': 1145, 'glenn': 1918, 'kenneth': 2455, 'dedicated': 1153, 'buff': 611, 'barry': 401, 'buffs': 612, 'accurate': 90, 'conflicts': 940, 'crying': 1074, 'appropriate': 283, 'response': 3654, 'seagal': 3839, '90s': 61, 'lab': 2501, 'drug': 1373, 'prevent': 3385, 'yelling': 4980, 'dubbed': 1379, 'movement': 2923, 'strip': 4228, 'generous': 1886, 'australian': 357, 'explanation': 1590, 'hey': 2095, 'watchable': 4812, 'brain': 562, 'pretend': 3381, 'elm': 1447, 'wes': 4851, 'answers': 252, 'powers': 3361, 'correct': 1000, 'horses': 2171, 'broadway': 592, 'angela': 232, 'rex': 3683, 'energy': 1478, 'involve': 2345, 'wall': 4781, 'ruth': 3763, 'countryside': 1015, 'margaret': 2735, 'spiritual': 4116, 'medium': 2792, 'ghost': 1902, 'elvira': 1450, 'develops': 1226, 'designed': 1203, 'winning': 4898, 'todays': 4509, 'green': 1971, 'cinematographer': 819, 'compare': 911, 'received': 3564, 'skip': 4016, 'levels': 2585, 'views': 4742, 'mothers': 2912, 'research': 3644, 'appreciated': 280, 'solely': 4056, 'tim': 4494, 'flash': 1745, 'adds': 119, 'grab': 1949, '1st': 28, 'disjointed': 1287, '2nd': 41, 'build': 614, 'intrigue': 2333, '3rd': 47, 'virtually': 4751, 'protagonist': 3441, 'wouldve': 4959, 'asking': 318, 'composed': 926, 'bell': 458, 'serve': 3893, 'dated': 1119, 'sounding': 4083, 'ripped': 3701, 'execution': 1566, 'finish': 1732, 'hurts': 2203, 'mst3k': 2932, 'sleep': 4024, 'collection': 874, 'splendid': 4119, 'addition': 118, 'potentially': 3356, 'commercials': 903, 'installment': 2303, 'order': 3126, 'bourne': 554, 'step': 4175, 'folks': 1771, 'somebody': 4062, 'chase': 769, 'entertained': 1498, 'blatant': 502, 'toilet': 4512, 'constant': 957, 'thrown': 4481, 'bargain': 400, 'worried': 4949, 'jenny': 2393, 'dinosaur': 1255, 'dialogues': 1235, 'brave': 567, 'colonel': 876, 'tough': 4537, 'cox': 1026, 'claire': 831, 'danes': 1108, 'michelle': 2830, 'priceless': 3390, 'melodrama': 2797, 'slap': 4018, 'cameos': 658, 'placed': 3283, 'bride': 577, 'buying': 641, 'spirited': 4114, 'listed': 2618, 'storm': 4206, 'summary': 4290, 'severe': 3906, 'trick': 4582, 'birth': 486, 'relations': 3596, 'huh': 2187, 'shell': 3927, 'lesbian': 2573, 'twisted': 4618, 'critical': 1062, 'offensive': 3086, 'following': 1774, 'chasing': 772, 'amy': 222, 'conversations': 981, 'distinct': 1296, 'satisfying': 3791, 'barbara': 397, 'britain': 588, '24': 39, 'safe': 3771, 'intelligence': 2313, 'village': 4743, 'sole': 4055, 'advantage': 129, 'bare': 398, 'dress': 1357, 'defeat': 1157, 'studios': 4241, 'rural': 3758, 'beloved': 461, 'spooky': 4128, 'soft': 4051, 'location': 2635, 'rival': 3706, 'dolph': 1317, 'hadnt': 2004, 'rocky': 3723, 'disappointment': 1275, 'parties': 3196, 'outfit': 3144, 'million': 2847, 'strongly': 4231, 'current': 1084, '70': 55, 'pitt': 3280, 'moronic': 2907, '50s': 52, 'educational': 1425, 'scared': 3805, 'bob': 524, 'americas': 215, 'videos': 4734, 'pit': 3278, 'league': 2549, 'retarded': 3663, 'ludicrous': 2685, 'field': 1704, 'opportunities': 3120, 'scare': 3803, 'wandering': 4785, 'delivering': 1171, 'illogical': 2231, 'decisions': 1152, 'typically': 4624, 'shocked': 3939, 'lately': 2524, 'curiosity': 1082, 'arrested': 298, 'extras': 1608, 'marvelous': 2750, 'turner': 4607, 'heaven': 2068, 'generation': 1883, 'mindless': 2851, 'ramones': 3512, 'spring': 4134, '1980': 20, 'fare': 1655, 'eighties': 1437, 'pg': 3250, 'rated': 3527, 'irish': 2353, 'earned': 1401, 'nomination': 3026, 'proof': 3434, 'guarantee': 1987, 'asian': 314, 'kapoor': 2443, 'born': 544, 'oliver': 3102, 'ourselves': 3140, 'grew': 1972, 'choices': 798, 'tense': 4403, 'ultimately': 4628, 'cringe': 1059, 'paying': 3217, 'edited': 1420, 'prostitute': 3440, 'followed': 1773, 'appearances': 275, 'avoided': 364, 'threw': 4470, 'loser': 2655, 'trip': 4588, 'sounded': 4082, 'quick': 3490, 'unexpected': 4650, 'mask': 2752, 'catchy': 717, 'darkness': 1117, 'violence': 4747, 'paint': 3173, 'flicks': 1755, '60s': 54, 'asleep': 320, 'acid': 95, 'standing': 4146, 'dozen': 1338, 'kurt': 2499, 'contrary': 974, 'bag': 384, 'stuff': 4243, 'phone': 3255, 'gonna': 1936, 'gender': 1878, 'thus': 4486, 'insight': 2298, 'desperate': 1208, 'space': 4090, 'transformation': 4560, 'rough': 3741, 'foreign': 1790, 'teach': 4374, 'physically': 3263, 'russian': 3762, 'photos': 3261, 'knock': 2488, 'eastern': 1408, 'martial': 2747, 'arts': 310, 'hong': 2149, 'kong': 2494, 'latest': 2526, 'roman': 3731, 'instant': 2305, 'liking': 2604, 'encounter': 1466, 'charge': 761, 'trust': 4598, 'dawson': 1128, 'corrupt': 1001, 'naive': 2958, 'insulting': 2310, 'return': 3665, 'activities': 102, 'claim': 828, 'companion': 909, 'con': 928, 'neck': 2985, 'burt': 629, 'intentions': 2321, 'legal': 2563, 'tame': 4363, 'warn': 4797, 'supposedly': 4307, 'abandoned': 62, 'dust': 1388, 'pushing': 3479, 'morris': 2908, 'pack': 3165, 'buried': 624, 'host': 2173, 'canadian': 667, 'southern': 4088, 'accents': 79, 'uneven': 4649, 'remains': 3611, 'sisters': 4002, 'teacher': 4375, 'dentist': 1180, 'dignity': 1252, 'ruby': 3749, 'theyve': 4446, '100': 1, 'translation': 4562, 'essential': 1522, 'captures': 678, 'soap': 4047, 'houses': 2180, 'elizabeth': 1445, 'jr': 2423, 'goldberg': 1933, 'bonus': 534, 'brady': 561, 'began': 441, 'childhood': 790, 'sat': 3786, 'thirty': 4456, 'awkward': 374, 'focuses': 1768, 'wishing': 4907, 'station': 4164, 'involves': 2348, 'steal': 4170, 'anderson': 227, 'adults': 126, 'advanced': 128, 'childrens': 793, 'spy': 4135, 'franchise': 1817, 'antics': 255, 'hed': 2072, 'bumbling': 622, 'odd': 3080, 'torn': 4528, 'testament': 4417, 'achieved': 93, 'status': 4165, 'provoking': 3452, 'winter': 4900, 'cole': 873, 'miscast': 2862, 'buck': 605, 'kitchen': 2485, 'ultimate': 4627, 'turning': 4608, 'desperation': 1210, 'whenever': 4863, 'attached': 336, 'lose': 2654, 'unfortunate': 4653, 'flashbacks': 1747, 'fault': 1668, 'pilot': 3276, 'established': 1524, 'andy': 230, 'fed': 1682, 'quest': 3486, 'network': 3000, 'alike': 185, 'woody': 4936, 'allen': 188, 'annie': 247, 'hall': 2009, 'load': 2631, 'japanese': 2382, 'japan': 2381, 'falling': 1639, 'spoil': 4121, 'stealing': 4171, 'bigger': 479, 'pie': 3271, 'handful': 2017, 'limits': 2607, 'jake': 2377, 'loaded': 2632, 'bottom': 551, 'babe': 375, 'monkey': 2890, 'crappy': 1032, 'mentioned': 2811, 'luckily': 2682, 'prince': 3396, 'lion': 2614, 'ridden': 3691, 'surprises': 4314, 'states': 4163, 'bucks': 606, 'fest': 1696, 'witnesses': 4916, 'corpse': 999, 'engage': 1479, 'encounters': 1467, 'ghosts': 1903, 'turkey': 4604, 'starting': 4158, 'cameras': 660, 'trek': 4578, 'legs': 2566, '60': 53, 'cross': 1066, 'silent': 3975, 'facing': 1620, 'kicked': 2461, 'race': 3499, 'advise': 134, 'anybody': 257, 'regardless': 3590, 'fitting': 1742, 'blowing': 515, 'combination': 883, 'eg': 1434, 'underground': 4640, 'conversation': 980, 'displayed': 1292, 'memory': 2804, 'absence': 70, 'stellar': 4174, 'perfection': 3225, 'arguably': 289, 'trained': 4557, 'essence': 1521, 'danger': 1109, 'terror': 4412, 'attacks': 339, 'resulting': 3661, 'destiny': 1212, 'explicit': 1591, 'discuss': 1283, 'borrowed': 545, 'survived': 4322, 'professional': 3421, 'deeply': 1156, 'suspects': 4328, 'military': 2844, 'hamlet': 2013, 'dare': 1113, 'logic': 2638, 'allows': 192, 'haunting': 2051, 'warned': 4798, 'stiller': 4189, 'rachel': 3500, 'cares': 690, 'unreal': 4676, 'flow': 1762, 'wasting': 4810, 'sons': 4073, 'chose': 804, 'surreal': 4317, 'rules': 3754, 'dating': 1120, 'abc': 63, 'occurred': 3077, 'ritter': 3705, 'passing': 3204, 'bath': 411, 'brand': 565, 'ought': 3138, 'marks': 2742, 'elements': 1443, 'formula': 1802, 'sea': 3838, 'raised': 3508, 'exercise': 1568, 'computer': 927, 'assault': 324, '1950s': 14, 'expression': 1602, 'mate': 2765, 'whereas': 4865, 'hates': 2048, 'petty': 3249, 'medical': 2790, 'ii': 2226, 'technical': 4381, 'happening': 2028, 'mechanical': 2788, 'guessed': 1990, 'pushed': 3478, 'conflict': 939, 'offered': 3088, 'formulaic': 1803, 'trap': 4563, 'chaplin': 756, 'productions': 3420, 'rape': 3521, 'appalling': 268, 'defend': 1158, 'excessive': 1560, 'cameron': 661, 'wells': 4845, 'attacked': 338, 'exploration': 1593, 'helicopter': 2076, 'giant': 1905, 'futuristic': 1857, 'masters': 2761, 'chooses': 800, 'inspiring': 2302, 'shock': 3938, 'value': 4709, 'contact': 961, 'promise': 3430, 'expected': 1577, 'coach': 868, 'belongs': 460, 'fly': 1763, 'forbidden': 1785, 'kelly': 2452, 'ordinary': 3128, 'wicked': 4879, 'doomed': 1327, 'walk': 4775, 'werewolf': 4850, 'talked': 4359, 'pulling': 3463, 'anne': 246, 'reflection': 3585, 'mature': 2773, 'bore': 540, 'painfully': 3172, 'clumsy': 866, 'clue': 864, 'mike': 2838, 'reminiscent': 3621, 'homage': 2141, 'mars': 2746, 'outer': 3143, 'firstly': 1737, 'secondly': 3847, 'ear': 1397, 'soccer': 4048, 'passionate': 3206, 'wins': 4899, 'davies': 1125, 'facial': 1619, 'ralph': 3510, 'noted': 3045, 'appealing': 272, 'downhill': 1336, 'texas': 4418, 'mafia': 2700, 'cowboy': 1025, 'treatment': 4574, 'evident': 1547, 'narration': 2965, 'akshay': 169, 'stunt': 4245, 'till': 4493, 'khan': 2459, 'suitable': 4285, 'imagined': 2239, 'darker': 1116, 'feed': 1683, 'offended': 3085, 'associated': 327, 'factor': 1622, 'prize': 3405, 'curse': 1086, 'heck': 2071, 'yeah': 4977, 'renting': 3629, 'boxing': 556, 'win': 4892, 'plant': 3293, 'offers': 3090, 'abuse': 74, 'alert': 178, 'abusive': 75, 'table': 4346, 'planet': 3289, 'behave': 445, 'someones': 4065, 'commercial': 902, 'sequels': 3886, 'elsewhere': 1449, 'thousands': 4466, 'wake': 4774, 'subsequent': 4257, 'solution': 4059, 'bush': 632, 'chest': 784, 'hired': 2117, 'troubled': 4593, 'randomly': 3515, 'chain': 741, 'psycho': 3457, 'slasher': 4020, 'executive': 1567, 'goofy': 1939, 'tight': 4492, 'holes': 2133, 'builds': 617, 'occurs': 3078, 'caring': 691, 'shirt': 3937, 'calling': 653, 'lloyd': 2630, 'protect': 3443, 'julie': 2428, 'hammer': 2014, 'spread': 4133, 'walls': 4783, 'comparing': 913, 'hanks': 2025, 'theyd': 4443, 'devils': 1229, 'abysmal': 76, 'breath': 573, 'grant': 1956, 'virginia': 4750, 'powell': 3358, 'hyde': 2206, 'emma': 1457, 'adorable': 124, 'paris': 3189, 'cook': 988, 'willis': 4890, 'merits': 2817, 'revolves': 3682, 'ground': 1979, 'vengeance': 4719, 'instantly': 2306, 'core': 995, 'focusing': 1769, 'horrific': 2166, 'entry': 1504, 'voices': 4763, 'heads': 2059, 'remotely': 3623, 'stupidity': 4248, 'loosely': 2651, 'subtitles': 4259, 'combine': 884, 'cg': 739, 'graphics': 1959, 'nominated': 3025, 'jazz': 2387, 'exposure': 1599, 'innovative': 2295, 'attitudes': 347, 'bobby': 525, 'dealt': 1138, 'obsession': 3070, 'tour': 4538, 'games': 1865, 'loyal': 2679, 'humble': 2191, 'memories': 2803, 'wwii': 4975, 'justin': 2440, 'shake': 3914, 'flynn': 1765, 'intriguing': 2335, 'unfolds': 4651, 'revelation': 3674, 'barely': 399, 'lousy': 2667, 'meat': 2787, 'purple': 3473, 'commented': 900, 'significant': 3972, 'smoking': 4040, 'sitting': 4007, 'jumps': 2432, 'warm': 4794, 'bedroom': 437, 'fill': 1714, 'finest': 1730, 'uninspired': 4657, 'challenging': 744, 'wit': 4908, 'shirley': 3936, 'pro': 3406, 'kim': 2475, 'alexander': 180, 'jackson': 2375, 'gandhi': 1866, 'martin': 2748, 'drops': 1372, 'demon': 1177, 'chased': 770, 'rabbit': 3498, 'clip': 851, 'smooth': 4041, 'gangster': 1868, 'sean': 3840, 'drugs': 1374, 'singers': 3994, 'yellow': 4981, 'creativity': 1042, 'eddie': 1416, 'charlotte': 766, 'lewis': 2586, 'mere': 2814, '1984': 23, 'relies': 3606, 'nude': 3058, 'pages': 3168, 'terribly': 4408, 'existent': 1572, 'hooked': 2153, 'teens': 4392, 'bela': 450, 'lugosi': 2686, 'substance': 4258, '13': 4, 'existence': 1571, 'mass': 2753, 'creator': 1043, 'covers': 1024, 'aforementioned': 139, 'reunion': 3669, 'favourite': 1673, 'bands': 392, 'al': 170, 'pacino': 3164, 'godfather': 1927, 'prisoners': 3403, 'coherent': 871, 'starred': 4153, 'ruined': 3751, 'aunt': 355, 'fate': 1665, 'suited': 4286, 'headed': 2058, 'alright': 198, 'wing': 4896, 'handsome': 2021, 'drivel': 1364, 'conservative': 948, 'france': 1816, 'upset': 4687, 'cuts': 1091, 'serving': 3897, 'insult': 2309, 'blacks': 494, 'forth': 1804, 'financial': 1725, 'embarrassment': 1455, 'manage': 2722, 'throwing': 4480, 'lasted': 2522, 'rob': 3710, 'lucy': 2684, 'factory': 1623, 'minds': 2852, 'card': 681, 'friendship': 1838, 'manhattan': 2726, 'amongst': 218, 'shut': 3961, 'inevitable': 2282, 'horrifying': 2167, 'territory': 4411, 'der': 1191, 'week': 4837, 'reference': 3582, 'resemblance': 3645, 'separate': 3883, 'unlikely': 4671, 'album': 175, 'topic': 4526, 'nonsensical': 3031, 'spider': 4109, 'choreography': 802, 'laughably': 2531, 'stylish': 4251, 'redemption': 3578, 'horribly': 2164, 'jumping': 2431, 'terry': 4415, 'plague': 3285, 'survivors': 4325, 'affected': 137, 'whoever': 4872, 'cure': 1081, 'striking': 4226, 'psychiatrist': 3455, 'climactic': 848, 'airport': 167, 'visits': 4756, 'agents': 151, 'scientist': 3818, 'peters': 3248, 'disease': 1285, 'masterpieces': 2760, 'jerry': 2396, 'ensues': 1493, 'chaos': 755, 'routine': 3743, 'magical': 2704, 'carry': 700, 'tune': 4602, 'singer': 3993, 'gifted': 1907, 'notice': 3048, 'stretched': 4222, 'guard': 1988, 'searching': 3842, 'represent': 3637, 'relevant': 3604, 'target': 4366, 'hardy': 2037, 'tonight': 4519, 'outcome': 3142, 'mtv': 2933, 'eric': 1514, 'florida': 1761, 'beach': 419, 'ashley': 313, 'theaters': 4428, 'elegant': 1441, 'showcase': 3954, 'womans': 4922, 'assumed': 329, 'dean': 1139, 'term': 4405, 'loving': 2675, 'spoke': 4125, 'eat': 1411, 'seemingly': 3863, 'unaware': 4632, 'fred': 1825, 'pops': 3332, 'funeral': 1849, 'blank': 501, 'saves': 3796, 'lisa': 2616, 'murphy': 2944, 'blows': 517, 'andrew': 228, 'surfing': 4311, 'subtlety': 4261, 'linda': 2609, 'favorites': 1672, 'gray': 1963, 'picked': 3266, 'section': 3853, 'initially': 2291, 'careers': 687, '1983': 22, 'sneak': 4043, 'preview': 3386, 'santa': 3783, 'dances': 1106, 'duo': 1386, 'burns': 628, 'radio': 3504, 'button': 639, 'lesson': 2577, 'spell': 4104, 'ford': 1789, 'mighty': 2836, 'hype': 2207, 'inept': 2281, 'sentence': 3881, 'campbell': 663, 'sue': 4274, 'flesh': 1753, 'hideous': 2098, 'facts': 1624, 'versions': 4721, 'et': 1526, 'represents': 3639, 'carrying': 701, 'jewish': 2401, 'humorous': 2193, 'rambo': 3511, 'rights': 3697, 'remind': 3618, 'transfer': 4559, 'attempting': 342, 'creating': 1039, 'population': 3335, 'hollywoods': 2138, 'demand': 1174, 'dollars': 1315, 'beating': 425, 'forms': 1801, 'developing': 1224, 'individuals': 2278, 'hunting': 2201, 'faster': 1662, 'chances': 748, 'defined': 1160, 'enjoys': 1489, 'punishment': 3467, 'samurai': 3779, 'per': 3223, 'vs': 4767, 'albeit': 173, 'riveting': 3708, 'humanity': 2189, 'engaged': 1480, 'empathy': 1462, 'tortured': 4530, 'ruthless': 3764, 'fulci': 1845, 'giallo': 1904, 'neat': 2982, 'wooden': 4934, 'shall': 3916, 'clues': 865, 'bite': 489, 'officers': 3093, 'horse': 2170, 'leo': 2571, 'steel': 4173, 'emotion': 1458, 'haunted': 2050, 'wizard': 4919, 'oz': 3160, 'dorothy': 1330, 'ring': 3698, 'vegas': 4717, 'bone': 533, 'challenge': 743, 'plight': 3308, 'invasion': 2340, 'thousand': 4465, 'moore': 2901, 'incident': 2260, 'seed': 3856, 'monsters': 2893, 'garden': 1872, 'batman': 413, 'cheek': 779, 'courage': 1018, 'weapons': 4829, 'excitement': 1562, 'macy': 2695, 'frankenstein': 1822, 'adventures': 131, 'dry': 1377, 'freeman': 1829, 'tie': 4488, 'household': 2179, 'roy': 3745, 'funnier': 1850, 'emily': 1456, 'breaking': 570, 'waves': 4819, 'attracted': 349, 'louise': 2666, 'invisible': 2344, 'lena': 2568, 'daring': 1114, 'poetic': 3313, 'lively': 2627, 'adding': 117, 'unrealistic': 4677, 'dramas': 1347, 'accused': 91, 'ashamed': 312, 'beaten': 424, 'stays': 4169, 'bitter': 491, 'holy': 2140, 'bears': 421, 'deeper': 1155, 'kay': 2447, 'bird': 484, 'seeks': 3860, 'edgar': 1417, 'pan': 3180, 'drawing': 1350, 'bible': 477, 'dying': 1393, 'basketball': 409, 'choreographed': 801, 'ninja': 3018, 'sappy': 3784, 'multiple': 2936, '14': 6, 'wreck': 4965, 'string': 4227, 'currently': 1085, 'witnessed': 4915, 'sentimental': 3882, 'lou': 2663, 'swear': 4334, 'horrid': 2165, 'notable': 3041, 'mgm': 2828, 'francisco': 1819, 'doom': 1326, 'fooled': 1780, 'reveal': 3670, 'persona': 3239, 'twilight': 4614, 'schools': 3814, 'waters': 4817, 'hills': 2109, 'measure': 2786, 'trashy': 4566, 'sleazy': 4023, 'wind': 4893, 'lees': 2560, 'dislike': 1288, 'lincoln': 2608, 'vice': 4727, 'listen': 2619, 'inner': 2292, 'speech': 4102, 'colour': 880, '1940s': 13, 'relatively': 3600, 'notion': 3050, 'trapped': 4564, 'criticism': 1063, 'advertising': 132, 'definition': 1163, 'steps': 4177, 'guide': 1993, 'tree': 4576, 'ticket': 4487, 'opinions': 3119, 'sloppy': 4030, 'eager': 1396, 'ignore': 2224, 'closed': 854, 'doors': 1329, 'repetitive': 3633, 'changing': 752, 'develop': 1222, 'miserably': 2864, 'flashback': 1746, 'jennifer': 2392, 'rats': 3531, 'painting': 3175, 'ape': 266, 'voiced': 4762, 'dig': 1250, 'ya': 4976, 'scooby': 3820, 'doo': 1325, 'carol': 693, 'patients': 3212, 'sexually': 3910, 'struck': 4232, 'restaurant': 3658, 'attend': 344, 'soldier': 4053, 'triumph': 4590, 'rendition': 3625, 'nations': 2971, 'scores': 3823, 'ended': 1470, 'met': 2822, 'jon': 2416, 'website': 4834, 'cinemas': 817, 'porno': 3337, 'spots': 4132, 'spot': 4131, 'tied': 4489, 'miike': 2837, 'downright': 1337, 'ratings': 3530, 'enthusiasm': 1501, 'engaging': 1481, 'scottish': 3825, 'consists': 955, 'rocks': 3722, 'stereotype': 4178, 'urban': 4688, 'throw': 4479, 'liberal': 2588, 'cell': 730, 'marketing': 2741, 'tired': 4501, 'portrays': 3344, 'overacting': 3149, 'jumped': 2430, 'diana': 1237, 'described': 1195, 'remarkably': 3614, 'presumably': 3380, 'mundane': 2938, 'purchased': 3470, 'wilson': 4891, 'blake': 498, 'perry': 3237, 'sold': 4052, 'trial': 4580, 'blockbuster': 509, 'agreed': 156, 'crack': 1027, 'dollar': 1314, 'bin': 483, 'craven': 1034, 'thrills': 4475, 'flight': 1757, 'ingredients': 2289, 'widmark': 4882, 'reaches': 3538, 'junior': 2435, 'twenty': 4612, 'ass': 323, 'native': 2972, 'covered': 1023, 'reflect': 3584, 'spielberg': 4110, 'mixture': 2878, 'robbins': 3712, 'patrick': 3213, 'june': 2433, 'eastwood': 1409, 'stinker': 4191, 'watches': 4814, 'lynch': 2691, 'forgive': 1795, 'annoyed': 248, 'sink': 3999, 'regard': 3588, 'interaction': 2322, 'sits': 4006, 'despair': 1207, 'females': 1694, 'disappeared': 1271, 'screams': 3828, 'explaining': 1588, 'ignorant': 2223, 'religion': 3607, 'handed': 2016, 'muslim': 2949, 'destruction': 1216, 'faults': 1669, 'sophisticated': 4075, 'confusion': 943, 'historically': 2120, 'grandfather': 1954, 'hitler': 2124, 'proceeds': 3411, 'distance': 1294, 'iron': 2354, 'tales': 4357, 'qualities': 3483, 'spain': 4091, 'bergman': 466, 'musicals': 2948, 'blend': 504, 'cardboard': 682, 'hurt': 2202, 'gentle': 1890, 'contest': 967, 'command': 897, 'briefly': 580, 'drives': 1367, 'lyrics': 2692, 'busy': 635, 'tends': 4402, 'lane': 2515, 'dan': 1102, 'passed': 3202, 'imitation': 2241, 'kennedy': 2454, 'counter': 1011, 'disbelief': 1277, 'nelson': 2997, 'ignored': 2225, 'wore': 4939, 'innocence': 2293, 'shower': 3957, 'react': 3540, 'track': 4544, 'dub': 1378, 'knowledge': 2491, 'access': 83, 'carl': 692, 'popularity': 3334, 'market': 2740, 'welcome': 4842, 'brains': 563, 'chilling': 794, 'robot': 3717, 'necessarily': 2983, 'analysis': 224, 'thru': 4483, 'passion': 3205, 'cleverly': 842, 'kubrick': 2496, 'hitchcock': 2123, 'shoes': 3941, 'harder': 2035, 'pursuit': 3476, 'scheme': 3812, 'gift': 1906, 'harsh': 2040, 'portrait': 3339, 'fields': 1705, 'promised': 3431, 'land': 2511, 'survival': 4320, 'emotionally': 1460, 'columbo': 881, 'falk': 1636, 'deals': 1137, 'relative': 3599, 'warmth': 4796, 'concern': 931, 'burn': 625, 'matches': 2764, 'crush': 1072, 'survivor': 4324, 'pretending': 3382, 'shortly': 3947, 'leg': 2562, 'wrestling': 4966, 'snake': 4042, 'rick': 3689, 'marty': 2749, 'hitting': 2126, 'inevitably': 2283, 'boot': 538, 'showdown': 3955, 'beats': 426, 'specifically': 4100, 'pair': 3176, 'desired': 1206, 'fights': 1710, 'spin': 4112, 'inane': 2258, 'forest': 1791, 'stunts': 4246, 'planned': 3290, 'miserable': 2863, 'displays': 1293, 'lol': 2640, 'fetched': 1698, 'lawrence': 2539, 'couples': 1017, 'eyre': 1614, 'format': 1799, 'timothy': 4499, 'rochester': 3719, 'narrator': 2967, 'describes': 1196, 'resist': 3648, 'vaguely': 4706, 'arms': 294, 'tender': 4401, 'involvement': 2347, 'endearing': 1469, 'returned': 3666, 'torture': 4529, 'expressions': 1603, 'itll': 2369, 'manipulative': 2727, 'worker': 4942, 'cary': 706, 'receive': 3563, 'hiding': 2099, 'bat': 410, 'unsettling': 4679, 'suck': 4269, 'synopsis': 4344, '1972': 18, 'birds': 485, 'emphasis': 1463, 'shine': 3931, 'jackie': 2374, 'dubbing': 1380, 'dragon': 1344, 'damage': 1099, 'jesus': 2399, 'contain': 962, 'aimed': 162, 'assigned': 325, 'safety': 3772, 'suspenseful': 4331, 'intimate': 2331, 'carries': 699, 'shelf': 3926, 'hip': 2114, 'idiots': 2220, 'multi': 2935, 'props': 3439, 'loose': 2650, 'fortune': 1806, 'holiday': 2134, 'picks': 3268, 'continued': 970, 'wondered': 4927, 'identity': 2217, 'critic': 1061, 'possibility': 3349, 'motives': 2916, 'blade': 495, 'nazis': 2978, 'sin': 3988, 'unhappy': 4656, 'consequences': 947, 'threat': 4467, 'integrity': 2311, 'raymond': 3534, 'distribution': 1298, 'racial': 3501, 'matrix': 2767, 'alice': 182, 'wound': 4960, 'irrelevant': 2358, 'womens': 4924, 'areas': 287, 'weapon': 4828, 'hundred': 2195, 'stargate': 4151, 'misses': 2868, 'connection': 946, 'dvds': 1392, 'web': 4833, 'edie': 1419, 'exploitation': 1592, 'grey': 1973, 'documentaries': 1306, 'fbi': 1675, 'practice': 3363, 'techniques': 4384, 'cases': 708, 'oil': 3097, 'indians': 2275, 'communist': 907, 'portion': 3338, 'adams': 112, 'hamilton': 2012, 'kirk': 2482, 'latin': 2527, 'glass': 1917, 'expensive': 1579, 'dozens': 1339, 'careful': 688, 'settle': 3902, 'flies': 1756, 'kingdom': 2480, 'unseen': 4678, 'pal': 3177, 'sadistic': 3768, 'basement': 405, 'methods': 2825, 'del': 1165, 'che': 773, 'rebel': 3561, 'chess': 783, 'italy': 2368, 'brilliance': 582, 'resort': 3650, 'fascinated': 1657, 'meeting': 2794, 'map': 2733, 'reed': 3580, 'specific': 4099, 'dickens': 1240, 'ham': 2011, 'mob': 2879, 'clown': 862, 'literature': 2623, 'intentionally': 2320, 'fish': 1738, 'dragged': 1343, 'reaching': 3539, 'promising': 3433, 'occasion': 3073, 'stiff': 4187, 'overlook': 3153, 'kane': 2442, 'judging': 2425, 'poetry': 3314, 'nearby': 2980, 'joey': 2408, 'nail': 2957, 'championship': 745, 'chair': 742, 'models': 2881, 'amazed': 208, 'print': 3399, 'hopefully': 2157, 'distant': 1295, 'range': 3516, 'closet': 858, 'midnight': 2834, 'overrated': 3156, 'hoffman': 2128, 'voight': 4764, 'manager': 2724, 'beer': 439, 'friday': 1834, '13th': 5, 'omen': 3104, 'cheese': 780, 'deliberately': 1166, 'swimming': 4338, 'classes': 834, 'teachers': 4376, 'waited': 4771, 'environment': 1505, 'unintentional': 4658, 'granted': 1957, 'stranger': 4213, 'descent': 1193, 'novels': 3053, 'richardson': 3688, 'terrorist': 4413, 'joined': 2413, 'walker': 4778, 'brooks': 596, 'overwhelming': 3157, 'profound': 3423, 'machine': 2693, 'philosophical': 3253, 'revolutionary': 3681, 'enterprise': 1495, '25': 40, 'stated': 4161, 'elvis': 1451, 'accomplished': 87, 'minded': 2850, 'solve': 4060, 'nicholson': 3011, 'trailers': 4555, 'holding': 2130, 'orange': 3125, 'grandmother': 1955, 'messed': 2821, 'freak': 1824, 'fancy': 1649, 'bbc': 417, 'inspector': 2299, 'holmes': 2139, 'bleak': 503, 'fashioned': 1660, 'garbo': 1871, 'ad': 110, 'poem': 3312, 'sir': 4000, 'teaching': 4377, 'spike': 4111, 'broke': 593, 'pride': 3391, 'quotes': 3497, 'task': 4368, 'achieve': 92, 'vincent': 4746, 'edition': 1422, 'duke': 1383, 'mail': 2706, 'destroying': 1215, 'helen': 2075, 'domino': 1319, 'orders': 3127, 'pig': 3274, 'irritating': 2359, 'nurse': 3063, 'goal': 1925, 'connected': 945, 'roots': 3738, 'convey': 982, 'reach': 3536, 'burning': 627, 'accompanied': 86, 'paltrow': 3178, 'stole': 4194, 'satisfied': 3789, '16': 8, 'understated': 4646, 'promises': 3432, 'equipment': 1511, 'fonda': 1777, 'poignant': 3315, 'rat': 3525, 'douglas': 1334, 'pulls': 3464, 'drags': 1345, 'lemmon': 2567, 'matthau': 2771, 'taught': 4370, 'workers': 4943, 'resident': 3647, 'precious': 3366, 'stale': 4141, 'device': 1227, 'intellectual': 2312, 'angels': 234, 'journalist': 2420, 'produce': 3413, 'godzilla': 1929, 'mistress': 2874, 'apes': 267, 'ann': 244, 'escaped': 1518, 'understandable': 4644, 'dancers': 1105, 'checking': 778, 'awe': 370, 'compelled': 915, 'germany': 1898, 'toys': 4543, 'hilariously': 2107, 'leslie': 2574, 'mann': 2728, 'dinosaurs': 1256, 'calm': 655, 'expressed': 1601, 'dressing': 1359, 'record': 3573, 'construction': 960, 'pants': 3182, 'wallace': 4782, 'technology': 4385, 'resources': 3651, 'kung': 2498, 'rangers': 3517, 'fired': 1735, 'belong': 459, 'moody': 2899, 'menacing': 2807, 'worn': 4948, 'australia': 356, 'streep': 4215, 'carrey': 696, 'gag': 1861, 'selfish': 3870, 'trail': 4553, 'guilt': 1994, 'horrendous': 2162, 'editor': 1423, 'brenda': 575, 'undoubtedly': 4648, 'signed': 3971, 'relatives': 3601, 'purchase': 3469, 'universe': 4666, 'bay': 416, 'stinks': 4192, 'code': 869, 'aliens': 184, 'kicking': 2462, 'vulnerable': 4768, 'thugs': 4484, '75': 57, 'ambitious': 211, 'fairy': 1632, 'alcohol': 176, 'ned': 2986, 'beatty': 427, 'myers': 2952, 'christmas': 810, 'shakespeare': 3915, 'senseless': 3878, 'bull': 619, 'signs': 3973, 'subplots': 4256, 'cliff': 847, 'misery': 2865, 'exotic': 1574, 'eating': 1413, 'stilted': 4190, 'floating': 1758, 'complexity': 924, 'sincere': 3991, 'quirky': 3493, 'nuts': 3064, 'fighter': 1708, 'jet': 2400, 'brutally': 604, 'grinch': 1975, 'unintentionally': 4659, 'childish': 791, 'karloff': 2445, 'similarities': 3979, 'doc': 1303, 'travesty': 4570, 'redeeming': 3577, 'generated': 1882, 'digital': 1251, 'claimed': 829, 'knife': 2487, 'march': 2734, 'mountains': 2918, 'excited': 1561, 'st': 4137, 'estate': 1525, 'fond': 1776, 'secrets': 3852, 'rubber': 3747, 'efforts': 1433, 'secretary': 3850, 'jaw': 2384, 'furthermore': 1854, 'worthless': 4954, 'suspend': 4329, 'fx': 1858, 'letters': 2582, 'hunters': 2200, 'unwatchable': 4682, 'explosions': 1597, 'performs': 3234, 'beneath': 464, 'chapter': 757, 'bud': 607, 'split': 4120, 'ward': 4793, 'staff': 4138, 'raped': 3522, 'ellen': 1446, 'desert': 1198, 'lips': 2615, 'enters': 1496, 'battles': 415, 'bullets': 621, 'versus': 4722, 'minimal': 2855, 'surviving': 4323, 'sullivan': 4288, 'wives': 4918, 'losers': 2656, 'psychotic': 3459, 'terrorists': 4414, 'beliefs': 452, 'staying': 4168, 'immensely': 2243, 'titanic': 4503, 'creep': 1051, 'shining': 3933, 'banned': 395, 'philip': 3252, 'recognize': 3569, 'partly': 3197, 'parent': 3187, 'branagh': 564, 'text': 4419, 'classical': 836, 'horrors': 2169, 'burned': 626, 'slave': 4022, 'amounts': 220, 'carrie': 697, 'altogether': 202, 'iran': 2350, 'size': 4012, 'slightest': 4028, 'recorded': 3574, 'metal': 2823, 'competent': 917, 'ethan': 1528, 'widely': 4881, 'usa': 4691, 'equal': 1509, 'considerable': 950, 'ruins': 3752, 'weakest': 4825, 'link': 2613, 'robbery': 3711, 'millions': 2848, 'nervous': 2999, 'tracks': 4545, 'nyc': 3065, 'judy': 2426, 'protagonists': 3442, 'tiresome': 4502, 'divorce': 1301, 'method': 2824, 'exists': 1573, 'trees': 4577, 'pink': 3277, 'attorney': 348, 'stress': 4220, 'hoped': 2156, 'raise': 3507, 'isolated': 2363, 'overlooked': 3154, 'alternate': 200, 'hello': 2078, 'superman': 4301, 'traveling': 4568, 'monk': 2889, 'trademark': 4548, 'lily': 2605, '1933': 12, 'stanwyck': 4149, 'wayne': 4821, 'dropping': 1371, 'ha': 2002, 'beast': 422, 'mansion': 2731, 'upper': 4685, 'nation': 2969, 'carpenter': 694, 'useful': 4694, 'terrifying': 4410, 'buildings': 616, 'unpredictable': 4675, 'endure': 1475, 'draws': 1352, 'streisand': 4218, 'civilization': 827, 'landscapes': 2514, 'cube': 1076, 'lumet': 2688, 'wrap': 4963, 'pulp': 3465, 'victoria': 4732, 'donna': 1323, 'wacky': 4769, 'empire': 1464, 'cannibal': 669, 'cd': 728, 'library': 2589, 'christians': 809, 'report': 3635, 'landing': 2512, 'heston': 2094, 'justify': 2439, 'increasingly': 2268, 'wealth': 4826, 'reel': 3581, 'alongside': 196, 'tea': 4373, 'authority': 360, 'chan': 746, 'mall': 2720, 'arrived': 301, 'proud': 3444, 'uwe': 4703, 'admire': 121, 'trite': 4589, 'disappear': 1270, 'gadget': 1860, 'massacre': 2754, 'prom': 3429, 'plausible': 3295, 'eaten': 1412, 'mummy': 2937, 'cagney': 646, 'distracting': 1297, 'benefit': 465, 'epic': 1506, 'gerard': 1895, 'paulie': 3215, 'oscars': 3134, 'affect': 136, 'responsibility': 3655, 'designs': 1204, 'troops': 4591, 'arnold': 296, 'controversial': 978, 'blunt': 520, 'masses': 2755, 'laurel': 2537, 'stan': 4142, 'boll': 529, 'theyll': 4444, 'mel': 2796, 'strike': 4224, '1990': 24, '1999': 27, 'icon': 2211, 'snl': 4044, 'campy': 664, 'corporate': 998, 'unit': 4663, 'celebrity': 729, 'miracle': 2860, 'hollow': 2135, 'improve': 2254, 'warming': 4795, 'familys': 1646, 'dave': 1123, 'abraham': 69, 'prisoner': 3402, 'characterization': 759, 'april': 284, 'ocean': 3079, 'sid': 3964, 'topless': 4527, 'suffers': 4278, 'enemies': 1476, 'germans': 1897, 'mario': 2738, 'whale': 4857, 'closest': 857, 'twelve': 4611, 'inappropriate': 2259, 'melting': 2799, 'motivations': 2915, 'glorious': 1921, 'restored': 3659, '3d': 46, 'murderous': 2942, 'roger': 3724, 'boom': 537, 'existed': 1570, 'chuck': 812, 'species': 4098, 'channels': 754, 'felix': 1689, 'confidence': 938, 'feminist': 1695, 'defense': 1159, 'boredom': 542, 'amitabh': 216, 'questionable': 3488, 'grasp': 1960, 'sides': 3967, 'introduce': 2336, 'earl': 1398, 'photo': 3257, 'modesty': 2883, 'likewise': 2603, 'temple': 4398, 'berlin': 467, 'disc': 1278, 'bakshi': 386, 'improvement': 2256, 'simplicity': 3984, 'conspiracy': 956, 'phony': 3256, 'mildred': 2841, 'tomatoes': 4515, 'valuable': 4708, 'sixties': 4011, 'illness': 2230, 'depicting': 1184, 'montana': 2895, 'lowest': 2678, 'juvenile': 2441, 'agrees': 157, 'mayor': 2777, 'nostalgia': 3038, 'blob': 507, 'butler': 637, 'crocodile': 1065, 'elephant': 1444, 'pokemon': 3320, 'primarily': 3393, 'ballet': 389, 'georges': 1894, 'cinderella': 815, 'gundam': 1997, 'gabriel': 1859, 'burton': 630, 'bettie': 473, 'recording': 3575, 'hung': 2197, 'scrooge': 3837}\n"
     ]
    }
   ],
   "source": [
    "print(str(vocabulary))"
   ]
  },
  {
   "cell_type": "markdown",
   "metadata": {},
   "source": [
    "Once you have added the endpoint name to the Lambda function, click on **Save**. Your Lambda function is now up and running. Next we need to create a way for our web app to execute the Lambda function."
   ]
  },
  {
   "cell_type": "markdown",
   "metadata": {},
   "source": [
    "### Setting up API Gateway\n",
    "\n",
    "Now that our Lambda function is set up, it is time to create a new API using API Gateway that will trigger the Lambda function we have just created.\n",
    "\n",
    "Using AWS Console, navigate to **Amazon API Gateway** and then click on **Get started**.\n",
    "\n",
    "On the next page, make sure that **New API** is selected and give the new api a name, for example, `sentiment_analysis_web_app`. Then, click on **Create API**.\n",
    "\n",
    "Now we have created an API, however it doesn't currently do anything. What we want it to do is to trigger the Lambda function that we created earlier.\n",
    "\n",
    "Select the **Actions** dropdown menu and click **Create Method**. A new blank method will be created, select its dropdown menu and select **POST**, then click on the check mark beside it.\n",
    "\n",
    "For the integration point, make sure that **Lambda Function** is selected and click on the **Use Lambda Proxy integration**. This option makes sure that the data that is sent to the API is then sent directly to the Lambda function with no processing. It also means that the return value must be a proper response object as it will also not be processed by API Gateway.\n",
    "\n",
    "Type the name of the Lambda function you created earlier into the **Lambda Function** text entry box and then click on **Save**. Click on **OK** in the pop-up box that then appears, giving permission to API Gateway to invoke the Lambda function you created.\n",
    "\n",
    "The last step in creating the API Gateway is to select the **Actions** dropdown and click on **Deploy API**. You will need to create a new Deployment stage and name it anything you like, for example `prod`.\n",
    "\n",
    "You have now successfully set up a public API to access your SageMaker model. Make sure to copy or write down the URL provided to invoke your newly created public API as this will be needed in the next step. This URL can be found at the top of the page, highlighted in blue next to the text **Invoke URL**."
   ]
  },
  {
   "cell_type": "markdown",
   "metadata": {},
   "source": [
    "## Step 7: Deploying our web app\n",
    "\n",
    "Now that we have a publicly available API, we can start using it in a web app. For our purposes, we have provided a simple static html file which can make use of the public api you created earlier.\n",
    "\n",
    "In the `website` folder there should be a file called `index.html`. Download the file to your computer and open that file up in a text editor of your choice. There should be a line which contains **\\*\\*REPLACE WITH PUBLIC API URL\\*\\***. Replace this string with the url that you wrote down in the last step and then save the file.\n",
    "\n",
    "Now, if you open `index.html` on your local computer, your browser will behave as a local web server and you can use the provided site to interact with your SageMaker model.\n",
    "\n",
    "If you'd like to go further, you can host this html file anywhere you'd like, for example using github or hosting a static site on Amazon's S3. Once you have done this you can share the link with anyone you'd like and have them play with it too!\n",
    "\n",
    "> **Important Note** In order for the web app to communicate with the SageMaker endpoint, the endpoint has to actually be deployed and running. This means that you are paying for it. Make sure that the endpoint is running when you want to use the web app but that you shut it down when you don't need it, otherwise you will end up with a surprisingly large AWS bill."
   ]
  },
  {
   "cell_type": "markdown",
   "metadata": {},
   "source": [
    "### Delete the endpoint\n",
    "\n",
    "Remember to always shut down your endpoint if you are no longer using it. You are charged for the length of time that the endpoint is running so if you forget and leave it on you could end up with an unexpectedly large bill."
   ]
  },
  {
   "cell_type": "code",
   "execution_count": 50,
   "metadata": {},
   "outputs": [],
   "source": [
    "xgb_predictor.delete_endpoint()"
   ]
  },
  {
   "cell_type": "markdown",
   "metadata": {},
   "source": [
    "## Optional: Clean up\n",
    "\n",
    "The default notebook instance on SageMaker doesn't have a lot of excess disk space available. As you continue to complete and execute notebooks you will eventually fill up this disk space, leading to errors which can be difficult to diagnose. Once you are completely finished using a notebook it is a good idea to remove the files that you created along the way. Of course, you can do this from the terminal or from the notebook hub if you would like. The cell below contains some commands to clean up the created files from within the notebook."
   ]
  },
  {
   "cell_type": "code",
   "execution_count": 51,
   "metadata": {},
   "outputs": [],
   "source": [
    "# First we will remove all of the files contained in the data_dir directory\n",
    "!rm $data_dir/*\n",
    "\n",
    "# And then we delete the directory itself\n",
    "!rmdir $data_dir\n",
    "\n",
    "# Similarly we remove the files in the cache_dir directory and the directory itself\n",
    "!rm $cache_dir/*\n",
    "!rmdir $cache_dir"
   ]
  },
  {
   "cell_type": "code",
   "execution_count": null,
   "metadata": {},
   "outputs": [],
   "source": []
  }
 ],
 "metadata": {
  "kernelspec": {
   "display_name": "conda_python3",
   "language": "python",
   "name": "conda_python3"
  },
  "language_info": {
   "codemirror_mode": {
    "name": "ipython",
    "version": 3
   },
   "file_extension": ".py",
   "mimetype": "text/x-python",
   "name": "python",
   "nbconvert_exporter": "python",
   "pygments_lexer": "ipython3",
   "version": "3.6.10"
  }
 },
 "nbformat": 4,
 "nbformat_minor": 2
}
