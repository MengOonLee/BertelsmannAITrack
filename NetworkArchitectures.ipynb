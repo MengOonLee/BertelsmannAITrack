{
  "nbformat": 4,
  "nbformat_minor": 0,
  "metadata": {
    "colab": {
      "name": "Untitled3.ipynb",
      "provenance": [],
      "include_colab_link": true
    },
    "kernelspec": {
      "name": "python3",
      "display_name": "Python 3"
    },
    "accelerator": "GPU"
  },
  "cells": [
    {
      "cell_type": "markdown",
      "metadata": {
        "id": "view-in-github",
        "colab_type": "text"
      },
      "source": [
        "<a href=\"https://colab.research.google.com/github/MengOonLee/BertelsmannAITrack/blob/Lesson05/NetworkArchitectures.ipynb\" target=\"_parent\"><img src=\"https://colab.research.google.com/assets/colab-badge.svg\" alt=\"Open In Colab\"/></a>"
      ]
    },
    {
      "cell_type": "code",
      "metadata": {
        "id": "PICAJN6JLQvf",
        "colab_type": "code",
        "colab": {}
      },
      "source": [
        "from torch import nn"
      ],
      "execution_count": 0,
      "outputs": []
    },
    {
      "cell_type": "code",
      "metadata": {
        "id": "DKSrEIYcBg-q",
        "colab_type": "code",
        "colab": {}
      },
      "source": [
        "class Network(nn.Module):\n",
        "  def __init__(self):\n",
        "    super().__init__()\n",
        "    # Inputs to hidden layer linear transformation\n",
        "    self.hidden = nn.Linear(784, 256)\n",
        "    # Output layer, 10 units - one for each digit\n",
        "    self.output = nn.Linear(256, 10)\n",
        "    # Define sigmoid activation and softmax output\n",
        "    self.sigmoid = nn.Sigmoid()\n",
        "    self.softmax = nn.Softmax(dim=1)\n",
        "\n",
        "  def forward(self, x):\n",
        "    # Pass the input tensor through each of our operations\n",
        "    x = self.hidden(x)\n",
        "    x = self.sigmoid(x)\n",
        "    x = self.output(x)\n",
        "    x = self.softmax(x)\n",
        "    return x"
      ],
      "execution_count": 0,
      "outputs": []
    },
    {
      "cell_type": "code",
      "metadata": {
        "id": "NqKh90NDD1-N",
        "colab_type": "code",
        "outputId": "ef98b499-db16-49f1-d66a-d8d08497a4b4",
        "colab": {
          "base_uri": "https://localhost:8080/",
          "height": 121
        }
      },
      "source": [
        "# Look at the network's text representation\n",
        "model = Network()\n",
        "model"
      ],
      "execution_count": 0,
      "outputs": [
        {
          "output_type": "execute_result",
          "data": {
            "text/plain": [
              "Network(\n",
              "  (hidden): Linear(in_features=784, out_features=256, bias=True)\n",
              "  (output): Linear(in_features=256, out_features=10, bias=True)\n",
              "  (sigmoid): Sigmoid()\n",
              "  (softmax): Softmax(dim=1)\n",
              ")"
            ]
          },
          "metadata": {
            "tags": []
          },
          "execution_count": 3
        }
      ]
    },
    {
      "cell_type": "code",
      "metadata": {
        "id": "TN1mjd6aEHG-",
        "colab_type": "code",
        "colab": {}
      },
      "source": [
        "import torch.nn.functional as F\n",
        "\n",
        "class Network(nn.Module):\n",
        "  def __init__(self):\n",
        "    super().__init__()\n",
        "    # Inputs to hidden layer linear transformation\n",
        "    self.hidden = nn.Linear(784, 256)\n",
        "    # Output layer, 10 units - one for each digit\n",
        "    self.output = nn.Linear(256, 10)\n",
        "\n",
        "  def forward(self, x):\n",
        "    # Hidden layer with sigmoid activation\n",
        "    x = F.sigmoid(self.hidden(x))\n",
        "    # Output layer with softmax activation\n",
        "    x = F.softmax(self.output(x), dim=1)\n",
        "    return x"
      ],
      "execution_count": 0,
      "outputs": []
    },
    {
      "cell_type": "code",
      "metadata": {
        "id": "FEBlrYp_E_wp",
        "colab_type": "code",
        "outputId": "0a409107-cd49-48c0-cfc8-39f8b53090c2",
        "colab": {
          "base_uri": "https://localhost:8080/",
          "height": 86
        }
      },
      "source": [
        "model = Network()\n",
        "model"
      ],
      "execution_count": 0,
      "outputs": [
        {
          "output_type": "execute_result",
          "data": {
            "text/plain": [
              "Network(\n",
              "  (hidden): Linear(in_features=784, out_features=256, bias=True)\n",
              "  (output): Linear(in_features=256, out_features=10, bias=True)\n",
              ")"
            ]
          },
          "metadata": {
            "tags": []
          },
          "execution_count": 5
        }
      ]
    },
    {
      "cell_type": "code",
      "metadata": {
        "id": "Y7S2vW3aFEmK",
        "colab_type": "code",
        "colab": {}
      },
      "source": [
        "import torch\n",
        "from torch import nn\n",
        "import torch.nn.functional as F\n",
        "from torchvision import datasets, transforms\n",
        "from torch import optim"
      ],
      "execution_count": 0,
      "outputs": []
    },
    {
      "cell_type": "code",
      "metadata": {
        "id": "sPvNi6lGK2kf",
        "colab_type": "code",
        "colab": {}
      },
      "source": [
        "# Define a transform to normalize the data\n",
        "transform = transforms.Compose([transforms.ToTensor(),\n",
        "                                transforms.Normalize((0.5,), (0.5,)),\n",
        "                              ])\n",
        "\n",
        "# Download and load the training data\n",
        "trainset = datasets.MNIST(\"~/.pytorch/MNIST_data/\", download=True, train=True, transform=transform)\n",
        "trainloader = torch.utils.data.DataLoader(trainset, batch_size=64, shuffle=True)"
      ],
      "execution_count": 0,
      "outputs": []
    },
    {
      "cell_type": "code",
      "metadata": {
        "id": "jC8ytYMkLW9m",
        "colab_type": "code",
        "outputId": "f1a5a5b2-765b-4b67-aeac-f1b1566fab3e",
        "colab": {
          "base_uri": "https://localhost:8080/",
          "height": 34
        }
      },
      "source": [
        "# Build a feed-forward network\n",
        "model = nn.Sequential(nn.Linear(784,128),\n",
        "                      nn.ReLU(),\n",
        "                      nn.Linear(128,64),\n",
        "                      nn.ReLU(),\n",
        "                      nn.Linear(64,10))\n",
        "# Define the loss\n",
        "criterion = nn.CrossEntropyLoss()\n",
        "# Get our data\n",
        "images, labels = next(iter(trainloader))\n",
        "# Flatten images\n",
        "images = images.view(images.shape[0],-1)\n",
        "# Forward pass, get our logits\n",
        "logits = model(images)\n",
        "# Calculate the loss with the logits and the labels\n",
        "loss = criterion(logits, labels)\n",
        "\n",
        "print(loss)"
      ],
      "execution_count": 0,
      "outputs": [
        {
          "output_type": "stream",
          "text": [
            "tensor(2.3165, grad_fn=<NllLossBackward>)\n"
          ],
          "name": "stdout"
        }
      ]
    },
    {
      "cell_type": "code",
      "metadata": {
        "id": "C3mUqtAzhWeK",
        "colab_type": "code",
        "colab": {
          "base_uri": "https://localhost:8080/",
          "height": 68
        },
        "outputId": "2d0ace63-9261-4830-f1d2-82d5b67b5b03"
      },
      "source": [
        "x = torch.randn(2,2, requires_grad=True)\n",
        "print(x)\n",
        "print(x.grad)"
      ],
      "execution_count": 16,
      "outputs": [
        {
          "output_type": "stream",
          "text": [
            "tensor([[ 0.6539,  1.0537],\n",
            "        [ 2.8084, -1.7500]], requires_grad=True)\n",
            "None\n"
          ],
          "name": "stdout"
        }
      ]
    },
    {
      "cell_type": "code",
      "metadata": {
        "id": "i_kTblhniutd",
        "colab_type": "code",
        "colab": {
          "base_uri": "https://localhost:8080/",
          "height": 85
        },
        "outputId": "dbee1f7c-8755-418a-eb4f-7541000a8e07"
      },
      "source": [
        "y = x**2\n",
        "print(y, \"\\n\")\n",
        "## grad_fn shows the function that generated this variable\n",
        "print(y.grad_fn)"
      ],
      "execution_count": 17,
      "outputs": [
        {
          "output_type": "stream",
          "text": [
            "tensor([[0.4276, 1.1103],\n",
            "        [7.8870, 3.0626]], grad_fn=<PowBackward0>) \n",
            "\n",
            "<PowBackward0 object at 0x7f67d26d0ac8>\n"
          ],
          "name": "stdout"
        }
      ]
    },
    {
      "cell_type": "code",
      "metadata": {
        "id": "ccbl5tGOjF0O",
        "colab_type": "code",
        "colab": {
          "base_uri": "https://localhost:8080/",
          "height": 102
        },
        "outputId": "e5cda590-7dbf-4f39-b5ae-70b258bb59fe"
      },
      "source": [
        "z = y.mean()\n",
        "print(z)\n",
        "# backward method on a variable\n",
        "z.backward()\n",
        "print(x.grad)\n",
        "print(x/2)"
      ],
      "execution_count": 18,
      "outputs": [
        {
          "output_type": "stream",
          "text": [
            "tensor(3.1219, grad_fn=<MeanBackward0>)\n",
            "tensor([[ 0.3270,  0.5269],\n",
            "        [ 1.4042, -0.8750]])\n",
            "tensor([[ 0.3270,  0.5269],\n",
            "        [ 1.4042, -0.8750]], grad_fn=<DivBackward0>)\n"
          ],
          "name": "stdout"
        }
      ]
    },
    {
      "cell_type": "code",
      "metadata": {
        "id": "zG_GoOaZjbQW",
        "colab_type": "code",
        "colab": {
          "base_uri": "https://localhost:8080/",
          "height": 187
        },
        "outputId": "50558e81-d5b0-48d6-b41f-628396b7df51"
      },
      "source": [
        "# Build a feed-forward network\n",
        "model = nn.Sequential(nn.Linear(784,128),\n",
        "                      nn.ReLU(),\n",
        "                      nn.Linear(128,64),\n",
        "                      nn.ReLU(),\n",
        "                      nn.Linear(64,10),\n",
        "                      nn.LogSoftmax(dim=1))\n",
        "# Define the loss\n",
        "criterion = nn.NLLLoss()\n",
        "# Get our data\n",
        "images, labels = next(iter(trainloader))\n",
        "# Flatten images\n",
        "images = images.view(images.shape[0],-1)\n",
        "# Forward pass, get our logits\n",
        "logps = model(images)\n",
        "# Calculate the loss with the logits and the labels\n",
        "loss = criterion(logps, labels)\n",
        "\n",
        "print(\"Before backward pass: \\n\", model[0].weight.grad)\n",
        "loss.backward()\n",
        "print(\"After backward pass: \\n\", model[0].weight.grad)"
      ],
      "execution_count": 3,
      "outputs": [
        {
          "output_type": "stream",
          "text": [
            "Before backward pass: \n",
            " None\n",
            "After backward pass: \n",
            " tensor([[-0.0057, -0.0057, -0.0057,  ..., -0.0057, -0.0057, -0.0057],\n",
            "        [-0.0017, -0.0017, -0.0017,  ..., -0.0017, -0.0017, -0.0017],\n",
            "        [ 0.0033,  0.0033,  0.0033,  ...,  0.0033,  0.0033,  0.0033],\n",
            "        ...,\n",
            "        [-0.0067, -0.0067, -0.0067,  ..., -0.0067, -0.0067, -0.0067],\n",
            "        [ 0.0027,  0.0027,  0.0027,  ...,  0.0027,  0.0027,  0.0027],\n",
            "        [-0.0007, -0.0007, -0.0007,  ..., -0.0007, -0.0007, -0.0007]])\n"
          ],
          "name": "stdout"
        }
      ]
    },
    {
      "cell_type": "code",
      "metadata": {
        "id": "e3gkDl7wmE8N",
        "colab_type": "code",
        "colab": {}
      },
      "source": [
        "# Optimizers require the parameters to optimize and a learning rate\n",
        "optimizer = optim.SGD(model.parameters(), lr=0.01)"
      ],
      "execution_count": 0,
      "outputs": []
    },
    {
      "cell_type": "code",
      "metadata": {
        "id": "Xkt9ZU3pzjLi",
        "colab_type": "code",
        "colab": {
          "base_uri": "https://localhost:8080/",
          "height": 391
        },
        "outputId": "f9e79377-3a81-4790-f13c-1f0d3c60def6"
      },
      "source": [
        "print(\"Initial weights -\", model[0].weight)\n",
        "images, labels = next(iter(trainloader))\n",
        "images.resize_(64,784)\n",
        "# Clear the gradients, do this because gradients are accumulated\n",
        "optimizer.zero_grad()\n",
        "# Forward pass, then backward pass, then update weights\n",
        "output = model.forward(images)\n",
        "loss = criterion(output, labels)\n",
        "loss.backward()\n",
        "print(\"Gradient -\", model[0].weight.grad)"
      ],
      "execution_count": 5,
      "outputs": [
        {
          "output_type": "stream",
          "text": [
            "Initial weights - Parameter containing:\n",
            "tensor([[-0.0290, -0.0058,  0.0170,  ..., -0.0247, -0.0344,  0.0207],\n",
            "        [-0.0334,  0.0156,  0.0071,  ...,  0.0041, -0.0291,  0.0255],\n",
            "        [ 0.0292,  0.0074,  0.0222,  ...,  0.0122,  0.0020, -0.0172],\n",
            "        ...,\n",
            "        [ 0.0181, -0.0189, -0.0020,  ..., -0.0180,  0.0259, -0.0039],\n",
            "        [ 0.0346, -0.0135, -0.0160,  ...,  0.0183,  0.0242, -0.0307],\n",
            "        [-0.0262,  0.0107, -0.0336,  ..., -0.0230, -0.0125,  0.0187]],\n",
            "       requires_grad=True)\n",
            "Gradient - tensor([[-3.4955e-03, -3.4955e-03, -3.4955e-03,  ..., -3.4955e-03,\n",
            "         -3.4955e-03, -3.4955e-03],\n",
            "        [-4.1204e-04, -4.1204e-04, -4.1204e-04,  ..., -4.1204e-04,\n",
            "         -4.1204e-04, -4.1204e-04],\n",
            "        [-8.5489e-04, -8.5489e-04, -8.5489e-04,  ..., -8.5489e-04,\n",
            "         -8.5489e-04, -8.5489e-04],\n",
            "        ...,\n",
            "        [ 1.0793e-03,  1.0793e-03,  1.0793e-03,  ...,  1.0793e-03,\n",
            "          1.0793e-03,  1.0793e-03],\n",
            "        [-2.8738e-05, -2.8738e-05, -2.8738e-05,  ..., -2.8738e-05,\n",
            "         -2.8738e-05, -2.8738e-05],\n",
            "        [ 1.1538e-03,  1.1538e-03,  1.1538e-03,  ...,  1.1538e-03,\n",
            "          1.1538e-03,  1.1538e-03]])\n"
          ],
          "name": "stdout"
        }
      ]
    },
    {
      "cell_type": "code",
      "metadata": {
        "id": "UTu63p641LW7",
        "colab_type": "code",
        "colab": {
          "base_uri": "https://localhost:8080/",
          "height": 170
        },
        "outputId": "c096babd-0fd5-42ec-bf61-3f6ceef7fab8"
      },
      "source": [
        "# Take an update step and get the new weights\n",
        "optimizer.step()\n",
        "print(\"Updated weights -\", model[0].weight)"
      ],
      "execution_count": 6,
      "outputs": [
        {
          "output_type": "stream",
          "text": [
            "Updated weights - Parameter containing:\n",
            "tensor([[-0.0289, -0.0058,  0.0171,  ..., -0.0247, -0.0343,  0.0207],\n",
            "        [-0.0334,  0.0156,  0.0071,  ...,  0.0041, -0.0291,  0.0255],\n",
            "        [ 0.0292,  0.0074,  0.0222,  ...,  0.0122,  0.0020, -0.0172],\n",
            "        ...,\n",
            "        [ 0.0181, -0.0189, -0.0020,  ..., -0.0180,  0.0259, -0.0039],\n",
            "        [ 0.0346, -0.0135, -0.0160,  ...,  0.0183,  0.0242, -0.0307],\n",
            "        [-0.0262,  0.0107, -0.0336,  ..., -0.0230, -0.0126,  0.0187]],\n",
            "       requires_grad=True)\n"
          ],
          "name": "stdout"
        }
      ]
    },
    {
      "cell_type": "code",
      "metadata": {
        "id": "-xXbt0KE1lOt",
        "colab_type": "code",
        "colab": {}
      },
      "source": [
        ""
      ],
      "execution_count": 0,
      "outputs": []
    }
  ]
}