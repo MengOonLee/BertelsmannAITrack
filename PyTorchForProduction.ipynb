{
  "nbformat": 4,
  "nbformat_minor": 0,
  "metadata": {
    "colab": {
      "name": "Untitled3.ipynb",
      "provenance": [],
      "include_colab_link": true
    },
    "kernelspec": {
      "name": "python3",
      "display_name": "Python 3"
    },
    "accelerator": "GPU"
  },
  "cells": [
    {
      "cell_type": "markdown",
      "metadata": {
        "id": "view-in-github",
        "colab_type": "text"
      },
      "source": [
        "<a href=\"https://colab.research.google.com/github/MengOonLee/BertelsmannAITrack/blob/Lesson10/PyTorchForProduction.ipynb\" target=\"_parent\"><img src=\"https://colab.research.google.com/assets/colab-badge.svg\" alt=\"Open In Colab\"/></a>"
      ]
    },
    {
      "cell_type": "code",
      "metadata": {
        "id": "uKnCPR0vH0Aq",
        "colab_type": "code",
        "outputId": "2923c18e-a7d7-454e-e031-dc8d72babde7",
        "colab": {
          "base_uri": "https://localhost:8080/",
          "height": 146
        }
      },
      "source": [
        "# Clear previous directory\n",
        "!rm -rf ./deep-learning-v2-pytorch\n",
        "\n",
        "# Clone the repo.\n",
        "!git clone https://github.com/udacity/deep-learning-v2-pytorch.git\n",
        "\n",
        "# Change the working directory to the repo root.\n",
        "%cd ./deep-learning-v2-pytorch/intro-to-pytorch\n",
        "\n",
        "# Add the repo root to the Python path.\n",
        "import sys, os\n",
        "sys.path.append(os.getcwd())"
      ],
      "execution_count": 0,
      "outputs": [
        {
          "output_type": "stream",
          "text": [
            "Cloning into 'deep-learning-v2-pytorch'...\n",
            "remote: Enumerating objects: 1078, done.\u001b[K\n",
            "remote: Total 1078 (delta 0), reused 0 (delta 0), pack-reused 1078\u001b[K\n",
            "Receiving objects: 100% (1078/1078), 137.71 MiB | 25.79 MiB/s, done.\n",
            "Resolving deltas: 100% (489/489), done.\n",
            "Checking out files: 100% (270/270), done.\n",
            "/content/deep-learning-v2-pytorch/intro-to-pytorch\n"
          ],
          "name": "stdout"
        }
      ]
    },
    {
      "cell_type": "code",
      "metadata": {
        "id": "LBD-QpQeE-NK",
        "colab_type": "code",
        "colab": {}
      },
      "source": [
        "import torch\n",
        "from torch import nn, optim\n",
        "import torch.nn.functional as F\n",
        "from torch.autograd import Variable\n",
        "from torchvision import datasets, transforms, models\n",
        "\n",
        "import matplotlib.pyplot as plt\n",
        "%matplotlib inline\n",
        "%config InlineBackend.figure_format = \"retina\"\n",
        "\n",
        "import helper"
      ],
      "execution_count": 0,
      "outputs": []
    }
  ]
}