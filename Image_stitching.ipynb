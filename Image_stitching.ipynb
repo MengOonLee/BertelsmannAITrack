{
  "nbformat": 4,
  "nbformat_minor": 0,
  "metadata": {
    "colab": {
      "name": "Image_stitching.ipynb",
      "provenance": [],
      "authorship_tag": "ABX9TyNsJh1tK6H+PLJKNMcqWRm2",
      "include_colab_link": true
    },
    "kernelspec": {
      "name": "python3",
      "display_name": "Python 3"
    }
  },
  "cells": [
    {
      "cell_type": "markdown",
      "metadata": {
        "id": "view-in-github",
        "colab_type": "text"
      },
      "source": [
        "<a href=\"https://colab.research.google.com/github/MengOonLee/BertelsmannAITrack/blob/master/Image_stitching.ipynb\" target=\"_parent\"><img src=\"https://colab.research.google.com/assets/colab-badge.svg\" alt=\"Open In Colab\"/></a>"
      ]
    },
    {
      "cell_type": "code",
      "metadata": {
        "colab": {
          "base_uri": "https://localhost:8080/"
        },
        "id": "lMqnaYwbmnfH",
        "outputId": "f8c97501-a8d1-45d7-845a-36a856bb8d37"
      },
      "source": [
        "# import the necessary packages\r\n",
        "from imutils import paths\r\n",
        "import numpy as np\r\n",
        "import imutils\r\n",
        "import cv2\r\n",
        "\r\n",
        "args_images = \"./Order\"\r\n",
        "\r\n",
        "# grab the paths to the input images and initialize our images list\r\n",
        "print(\"[INFO] loading images...\")\r\n",
        "imagePaths = sorted(list(paths.list_images(args_images)))\r\n",
        "images = []\r\n",
        "# loop over the image paths, load each one, and add them to our\r\n",
        "# images to stitch list\r\n",
        "for imagePath in imagePaths:\r\n",
        "\timage = cv2.imread(imagePath)\r\n",
        "\timages.append(image)"
      ],
      "execution_count": 1,
      "outputs": [
        {
          "output_type": "stream",
          "text": [
            "[INFO] loading images...\n"
          ],
          "name": "stdout"
        }
      ]
    },
    {
      "cell_type": "code",
      "metadata": {
        "colab": {
          "base_uri": "https://localhost:8080/"
        },
        "id": "aTA2wMxFsQ-L",
        "outputId": "00e3262b-3fae-4df3-c65b-94120059cc63"
      },
      "source": [
        "# initialize OpenCV's image stitcher object and then perform the image\r\n",
        "# stitching\r\n",
        "print(\"[INFO] stitching images...\")\r\n",
        "stitcher = cv2.createStitcher() if imutils.is_cv3() else cv2.Stitcher_create()\r\n",
        "(status, stitched) = stitcher.stitch(images)"
      ],
      "execution_count": 2,
      "outputs": [
        {
          "output_type": "stream",
          "text": [
            "[INFO] stitching images...\n"
          ],
          "name": "stdout"
        }
      ]
    },
    {
      "cell_type": "code",
      "metadata": {
        "id": "80kqpm8Iy7el"
      },
      "source": [
        ""
      ],
      "execution_count": null,
      "outputs": []
    }
  ]
}