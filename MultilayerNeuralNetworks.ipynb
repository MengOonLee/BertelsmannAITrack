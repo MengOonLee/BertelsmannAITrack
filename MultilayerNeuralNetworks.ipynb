{
  "nbformat": 4,
  "nbformat_minor": 0,
  "metadata": {
    "colab": {
      "name": "Untitled1.ipynb",
      "provenance": [],
      "include_colab_link": true
    },
    "kernelspec": {
      "name": "python3",
      "display_name": "Python 3"
    },
    "accelerator": "GPU"
  },
  "cells": [
    {
      "cell_type": "markdown",
      "metadata": {
        "id": "view-in-github",
        "colab_type": "text"
      },
      "source": [
        "<a href=\"https://colab.research.google.com/github/MengOonLee/BertelsmannAITrack/blob/Lesson05/MultilayerNeuralNetworks.ipynb\" target=\"_parent\"><img src=\"https://colab.research.google.com/assets/colab-badge.svg\" alt=\"Open In Colab\"/></a>"
      ]
    },
    {
      "cell_type": "code",
      "metadata": {
        "id": "gx_DHpDExhbL",
        "colab_type": "code",
        "colab": {
          "base_uri": "https://localhost:8080/",
          "height": 34
        },
        "outputId": "424e260c-5bc8-4daf-e851-018388e5ad30"
      },
      "source": [
        "# First import PyTorch\n",
        "import torch\n",
        "torch.cuda.is_available()"
      ],
      "execution_count": 1,
      "outputs": [
        {
          "output_type": "execute_result",
          "data": {
            "text/plain": [
              "True"
            ]
          },
          "metadata": {
            "tags": []
          },
          "execution_count": 1
        }
      ]
    },
    {
      "cell_type": "code",
      "metadata": {
        "id": "sOfJNbPuxst5",
        "colab_type": "code",
        "colab": {}
      },
      "source": [
        "def activation(x):\n",
        "  \"\"\" Sigmoid activation function\n",
        "    Arguments\n",
        "    x: torch.Tensor\n",
        "  \"\"\"\n",
        "  return 1/(1+torch.exp(-x))"
      ],
      "execution_count": 0,
      "outputs": []
    },
    {
      "cell_type": "code",
      "metadata": {
        "id": "mjM3ZB-ixDfa",
        "colab_type": "code",
        "colab": {
          "base_uri": "https://localhost:8080/",
          "height": 295
        },
        "outputId": "e432e81a-7cce-4194-c5a9-10f0fb8e4d2d"
      },
      "source": [
        "# Generate some data\n",
        "torch.manual_seed(7)\n",
        "\n",
        "# Features are 3 random normal variables\n",
        "features = torch.randn((1,3))\n",
        "print(\"features =\", features)\n",
        "print(\"features shape =\", features.shape)\n",
        "\n",
        "# Define the size of each layer in network\n",
        "n_input = features.shape[1]\n",
        "n_hidden = 2\n",
        "n_output = 1\n",
        "print(\"Number of input =\", n_input, \"\\nNumber of hidden units =\", n_hidden, \"\\nNumber of output =\", n_output)\n",
        "\n",
        "# Weights for inputs to hidden layer\n",
        "W1 = torch.randn(n_input, n_hidden)\n",
        "print(\"Weights for H1 =\", W1)\n",
        "print(\"W1 shape =\", W1.shape)\n",
        "\n",
        "# Weights for hidden layer to output layer\n",
        "W2 = torch.randn(n_hidden, n_output)\n",
        "print(\"Weights for H2 =\", W2)\n",
        "print(\"W2 shape =\", W2.shape)\n",
        "\n",
        "# and bias teams for hidden and output layers\n",
        "B1 = torch.randn((1, n_hidden))\n",
        "B2 = torch.randn((1, n_output))\n",
        "print(\"Bias for H1 =\", B1)\n",
        "print(\"B1 shape =\", B1.shape)\n",
        "print(\"Bias for H2 =\", B2)\n",
        "print(\"B2 shape =\", B2.shape)"
      ],
      "execution_count": 3,
      "outputs": [
        {
          "output_type": "stream",
          "text": [
            "features = tensor([[-0.1468,  0.7861,  0.9468]])\n",
            "features shape = torch.Size([1, 3])\n",
            "Number of input = 3 \n",
            "Number of hidden units = 2 \n",
            "Number of output = 1\n",
            "Weights for H1 = tensor([[-1.1143,  1.6908],\n",
            "        [-0.8948, -0.3556],\n",
            "        [ 1.2324,  0.1382]])\n",
            "W1 shape = torch.Size([3, 2])\n",
            "Weights for H2 = tensor([[-1.6822],\n",
            "        [ 0.3177]])\n",
            "W2 shape = torch.Size([2, 1])\n",
            "Bias for H1 = tensor([[0.1328, 0.1373]])\n",
            "B1 shape = torch.Size([1, 2])\n",
            "Bias for H2 = tensor([[0.2405]])\n",
            "B2 shape = torch.Size([1, 1])\n"
          ],
          "name": "stdout"
        }
      ]
    },
    {
      "cell_type": "code",
      "metadata": {
        "id": "zTNCI94ex5GZ",
        "colab_type": "code",
        "colab": {
          "base_uri": "https://localhost:8080/",
          "height": 34
        },
        "outputId": "05a17c8d-9654-407f-ae56-d34e183746e5"
      },
      "source": [
        "h1 = activation(torch.mm(features, W1) + B1)\n",
        "y = activation(torch.mm(h1, W2) + B2)\n",
        "print(\"output =\", y)"
      ],
      "execution_count": 4,
      "outputs": [
        {
          "output_type": "stream",
          "text": [
            "output = tensor([[0.3171]])\n"
          ],
          "name": "stdout"
        }
      ]
    },
    {
      "cell_type": "markdown",
      "metadata": {
        "id": "KUmeT-LzzG75",
        "colab_type": "text"
      },
      "source": [
        "# Numpy to Torch and back"
      ]
    },
    {
      "cell_type": "code",
      "metadata": {
        "id": "FXMTlCPgy9Xg",
        "colab_type": "code",
        "colab": {}
      },
      "source": [
        "import numpy as np"
      ],
      "execution_count": 0,
      "outputs": []
    },
    {
      "cell_type": "code",
      "metadata": {
        "id": "yqOPfZilzfWc",
        "colab_type": "code",
        "colab": {
          "base_uri": "https://localhost:8080/",
          "height": 86
        },
        "outputId": "d12a4555-7268-4205-cfb2-b5928ffae19b"
      },
      "source": [
        "a = np.random.rand(4,3)\n",
        "a"
      ],
      "execution_count": 6,
      "outputs": [
        {
          "output_type": "execute_result",
          "data": {
            "text/plain": [
              "array([[0.92574991, 0.78684266, 0.23094331],\n",
              "       [0.59339351, 0.29331758, 0.73476862],\n",
              "       [0.47561707, 0.85878474, 0.09992052],\n",
              "       [0.3773617 , 0.80045517, 0.00223692]])"
            ]
          },
          "metadata": {
            "tags": []
          },
          "execution_count": 6
        }
      ]
    },
    {
      "cell_type": "code",
      "metadata": {
        "id": "1plF0gNXzkrR",
        "colab_type": "code",
        "colab": {
          "base_uri": "https://localhost:8080/",
          "height": 86
        },
        "outputId": "95bf969a-3367-4992-e226-64daa5e4b910"
      },
      "source": [
        "b = torch.from_numpy(a)\n",
        "b"
      ],
      "execution_count": 7,
      "outputs": [
        {
          "output_type": "execute_result",
          "data": {
            "text/plain": [
              "tensor([[0.9257, 0.7868, 0.2309],\n",
              "        [0.5934, 0.2933, 0.7348],\n",
              "        [0.4756, 0.8588, 0.0999],\n",
              "        [0.3774, 0.8005, 0.0022]], dtype=torch.float64)"
            ]
          },
          "metadata": {
            "tags": []
          },
          "execution_count": 7
        }
      ]
    },
    {
      "cell_type": "code",
      "metadata": {
        "id": "Wd2dXPhNzp8I",
        "colab_type": "code",
        "colab": {
          "base_uri": "https://localhost:8080/",
          "height": 86
        },
        "outputId": "50970624-16a7-43e1-bc32-7489de834d4f"
      },
      "source": [
        "b.numpy()"
      ],
      "execution_count": 8,
      "outputs": [
        {
          "output_type": "execute_result",
          "data": {
            "text/plain": [
              "array([[0.92574991, 0.78684266, 0.23094331],\n",
              "       [0.59339351, 0.29331758, 0.73476862],\n",
              "       [0.47561707, 0.85878474, 0.09992052],\n",
              "       [0.3773617 , 0.80045517, 0.00223692]])"
            ]
          },
          "metadata": {
            "tags": []
          },
          "execution_count": 8
        }
      ]
    },
    {
      "cell_type": "code",
      "metadata": {
        "id": "f4ekRpGmzsoS",
        "colab_type": "code",
        "colab": {
          "base_uri": "https://localhost:8080/",
          "height": 86
        },
        "outputId": "0b780ed6-6979-44dc-a7fc-1ebf71494969"
      },
      "source": [
        "b.mul_(2)"
      ],
      "execution_count": 9,
      "outputs": [
        {
          "output_type": "execute_result",
          "data": {
            "text/plain": [
              "tensor([[1.8515, 1.5737, 0.4619],\n",
              "        [1.1868, 0.5866, 1.4695],\n",
              "        [0.9512, 1.7176, 0.1998],\n",
              "        [0.7547, 1.6009, 0.0045]], dtype=torch.float64)"
            ]
          },
          "metadata": {
            "tags": []
          },
          "execution_count": 9
        }
      ]
    },
    {
      "cell_type": "code",
      "metadata": {
        "id": "u3N9qEPh0AZe",
        "colab_type": "code",
        "colab": {
          "base_uri": "https://localhost:8080/",
          "height": 86
        },
        "outputId": "3fd1f7fc-37c7-4da7-e50c-bd0ee59ad53f"
      },
      "source": [
        "a"
      ],
      "execution_count": 10,
      "outputs": [
        {
          "output_type": "execute_result",
          "data": {
            "text/plain": [
              "array([[1.85149982, 1.57368531, 0.46188661],\n",
              "       [1.18678701, 0.58663517, 1.46953723],\n",
              "       [0.95123414, 1.71756947, 0.19984103],\n",
              "       [0.7547234 , 1.60091035, 0.00447384]])"
            ]
          },
          "metadata": {
            "tags": []
          },
          "execution_count": 10
        }
      ]
    },
    {
      "cell_type": "code",
      "metadata": {
        "id": "TiQoou_f0C67",
        "colab_type": "code",
        "colab": {}
      },
      "source": [
        ""
      ],
      "execution_count": 0,
      "outputs": []
    }
  ]
}