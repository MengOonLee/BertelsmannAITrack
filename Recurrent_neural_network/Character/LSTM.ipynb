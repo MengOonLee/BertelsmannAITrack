{
  "nbformat": 4,
  "nbformat_minor": 0,
  "metadata": {
    "kernelspec": {
      "display_name": "Python [default]",
      "language": "python",
      "name": "python3"
    },
    "language_info": {
      "codemirror_mode": {
        "name": "ipython",
        "version": 3
      },
      "file_extension": ".py",
      "mimetype": "text/x-python",
      "name": "python",
      "nbconvert_exporter": "python",
      "pygments_lexer": "ipython3",
      "version": "3.6.4"
    },
    "colab": {
      "name": "Character_Level_RNN_Solution.ipynb",
      "provenance": [],
      "include_colab_link": true
    },
    "accelerator": "GPU"
  },
  "cells": [
    {
      "cell_type": "markdown",
      "metadata": {
        "id": "view-in-github",
        "colab_type": "text"
      },
      "source": [
        "<a href=\"https://colab.research.google.com/github/MengOonLee/BertelsmannAITrack/blob/master/Recurrent_neural_network/Character/LSTM.ipynb\" target=\"_parent\"><img src=\"https://colab.research.google.com/assets/colab-badge.svg\" alt=\"Open In Colab\"/></a>"
      ]
    },
    {
      "cell_type": "markdown",
      "metadata": {
        "id": "1tSrKBAL_2Ao",
        "colab_type": "text"
      },
      "source": [
        "# Character-Level LSTM in PyTorch\n",
        "\n",
        "In this notebook, I'll construct a character-level LSTM with PyTorch. The network will train character by character on some text, then generate new text character by character. As an example, I will train on Anna Karenina. **This model will be able to generate new text based on the text from the book!**\n",
        "\n",
        "This network is based off of Andrej Karpathy's [post on RNNs](http://karpathy.github.io/2015/05/21/rnn-effectiveness/) and [implementation in Torch](https://github.com/karpathy/char-rnn). Below is the general architecture of the character-wise RNN.\n",
        "\n",
        "<img src=\"https://github.com/udacity/deep-learning-v2-pytorch/blob/master/recurrent-neural-networks/char-rnn/assets/charseq.jpeg?raw=1\" width=\"500\">"
      ]
    },
    {
      "cell_type": "markdown",
      "metadata": {
        "id": "w8W2FoTt_2Ar",
        "colab_type": "text"
      },
      "source": [
        "First let's load in our required resources for data loading and model creation."
      ]
    },
    {
      "cell_type": "code",
      "metadata": {
        "id": "HAYXF9H2_2At",
        "colab_type": "code",
        "colab": {}
      },
      "source": [
        "import numpy as np\n",
        "import torch\n",
        "from torch import nn\n",
        "import torch.nn.functional as F"
      ],
      "execution_count": 1,
      "outputs": []
    },
    {
      "cell_type": "markdown",
      "metadata": {
        "id": "6tBnvuJv_2A3",
        "colab_type": "text"
      },
      "source": [
        "## Load in Data\n",
        "\n",
        "Then, we'll load the Anna Karenina text file and convert it into integers for our network to use. "
      ]
    },
    {
      "cell_type": "code",
      "metadata": {
        "id": "CWn6iFAzB3Nv",
        "colab_type": "code",
        "colab": {}
      },
      "source": [
        "%%bash\n",
        "\n",
        "rm -rf data\n",
        "mkdir -p data\n",
        "wget -qO data/anna.txt \"https://raw.githubusercontent.com/udacity/deep-learning-v2-pytorch/master/recurrent-neural-networks/char-rnn/data/anna.txt\""
      ],
      "execution_count": 2,
      "outputs": []
    },
    {
      "cell_type": "code",
      "metadata": {
        "id": "Jc5HHlsT_2A4",
        "colab_type": "code",
        "colab": {}
      },
      "source": [
        "# open text file and read in data as `text`\n",
        "with open('data/anna.txt', 'r') as f:\n",
        "    text = f.read()"
      ],
      "execution_count": 3,
      "outputs": []
    },
    {
      "cell_type": "markdown",
      "metadata": {
        "id": "pN21GuQK_2BB",
        "colab_type": "text"
      },
      "source": [
        "Let's check out the first 100 characters, make sure everything is peachy. According to the [American Book Review](http://americanbookreview.org/100bestlines.asp), this is the 6th best first line of a book ever."
      ]
    },
    {
      "cell_type": "code",
      "metadata": {
        "id": "oxVQwGG3_2BC",
        "colab_type": "code",
        "colab": {
          "base_uri": "https://localhost:8080/",
          "height": 54
        },
        "outputId": "db88c77e-0ed4-4744-ce04-76e90c6d26a3"
      },
      "source": [
        "text[:100]"
      ],
      "execution_count": 4,
      "outputs": [
        {
          "output_type": "execute_result",
          "data": {
            "text/plain": [
              "'Chapter 1\\n\\n\\nHappy families are all alike; every unhappy family is unhappy in its own\\nway.\\n\\nEverythin'"
            ]
          },
          "metadata": {
            "tags": []
          },
          "execution_count": 4
        }
      ]
    },
    {
      "cell_type": "markdown",
      "metadata": {
        "id": "StylYtSi_2BN",
        "colab_type": "text"
      },
      "source": [
        "### Tokenization\n",
        "\n",
        "In the cells, below, I'm creating a couple **dictionaries** to convert the characters to and from integers. Encoding the characters as integers makes it easier to use as input in the network."
      ]
    },
    {
      "cell_type": "code",
      "metadata": {
        "id": "UZNj2a3G_2BO",
        "colab_type": "code",
        "colab": {}
      },
      "source": [
        "# encode the text and map each character to an integer and vice versa\n",
        "\n",
        "# we create two dictionaries:\n",
        "# 1. int2char, which maps integers to characters\n",
        "# 2. char2int, which maps characters to unique integers\n",
        "chars = tuple(set(text))\n",
        "int2char = dict(enumerate(chars))\n",
        "char2int = {ch: ii for ii, ch in int2char.items()}\n",
        "\n",
        "# encode the text\n",
        "encoded = np.array([char2int[ch] for ch in text])"
      ],
      "execution_count": 5,
      "outputs": []
    },
    {
      "cell_type": "markdown",
      "metadata": {
        "id": "MEPx3q02_2BU",
        "colab_type": "text"
      },
      "source": [
        "And we can see those same characters from above, encoded as integers."
      ]
    },
    {
      "cell_type": "code",
      "metadata": {
        "id": "dsWd-fs3_2BV",
        "colab_type": "code",
        "colab": {
          "base_uri": "https://localhost:8080/",
          "height": 121
        },
        "outputId": "92d2e202-161d-4e76-9441-4a2704c763b5"
      },
      "source": [
        "encoded[:100]"
      ],
      "execution_count": 6,
      "outputs": [
        {
          "output_type": "execute_result",
          "data": {
            "text/plain": [
              "array([18, 23, 77, 40, 65, 36, 41, 31, 13, 79, 79, 79,  9, 77, 40, 40, 27,\n",
              "       31, 21, 77, 37, 33, 63, 33, 36, 60, 31, 77, 41, 36, 31, 77, 63, 63,\n",
              "       31, 77, 63, 33, 46, 36, 72, 31, 36, 52, 36, 41, 27, 31, 69, 30, 23,\n",
              "       77, 40, 40, 27, 31, 21, 77, 37, 33, 63, 27, 31, 33, 60, 31, 69, 30,\n",
              "       23, 77, 40, 40, 27, 31, 33, 30, 31, 33, 65, 60, 31,  7, 82, 30, 79,\n",
              "       82, 77, 27, 75, 79, 79,  6, 52, 36, 41, 27, 65, 23, 33, 30])"
            ]
          },
          "metadata": {
            "tags": []
          },
          "execution_count": 6
        }
      ]
    },
    {
      "cell_type": "markdown",
      "metadata": {
        "id": "RKY5XdDt_2Bc",
        "colab_type": "text"
      },
      "source": [
        "## Pre-processing the data\n",
        "\n",
        "As you can see in our char-RNN image above, our LSTM expects an input that is **one-hot encoded** meaning that each character is converted into an integer (via our created dictionary) and *then* converted into a column vector where only it's corresponding integer index will have the value of 1 and the rest of the vector will be filled with 0's. Since we're one-hot encoding the data, let's make a function to do that!\n"
      ]
    },
    {
      "cell_type": "code",
      "metadata": {
        "id": "0FcA58PW_2Bd",
        "colab_type": "code",
        "colab": {}
      },
      "source": [
        "def one_hot_encode(arr, n_labels):\n",
        "    \n",
        "    # Initialize the the encoded array\n",
        "    one_hot = np.zeros((arr.size, n_labels), dtype=np.float32)\n",
        "    \n",
        "    # Fill the appropriate elements with ones\n",
        "    one_hot[np.arange(one_hot.shape[0]), arr.flatten()] = 1.\n",
        "    \n",
        "    # Finally reshape it to get back to the original array\n",
        "    one_hot = one_hot.reshape((*arr.shape, n_labels))\n",
        "    \n",
        "    return one_hot"
      ],
      "execution_count": 7,
      "outputs": []
    },
    {
      "cell_type": "code",
      "metadata": {
        "id": "zORUlLaF_2Bo",
        "colab_type": "code",
        "colab": {
          "base_uri": "https://localhost:8080/",
          "height": 86
        },
        "outputId": "2c43c985-206f-4677-f149-6ff8c40f31b2"
      },
      "source": [
        "# check that the function works as expected\n",
        "test_seq = np.array([[3, 5, 1]])\n",
        "one_hot = one_hot_encode(test_seq, 8)\n",
        "\n",
        "print(one_hot)\n",
        "print(one_hot.shape)"
      ],
      "execution_count": 8,
      "outputs": [
        {
          "output_type": "stream",
          "text": [
            "[[[0. 0. 0. 1. 0. 0. 0. 0.]\n",
            "  [0. 0. 0. 0. 0. 1. 0. 0.]\n",
            "  [0. 1. 0. 0. 0. 0. 0. 0.]]]\n",
            "(1, 3, 8)\n"
          ],
          "name": "stdout"
        }
      ]
    },
    {
      "cell_type": "markdown",
      "metadata": {
        "id": "qsFvV2FY_2By",
        "colab_type": "text"
      },
      "source": [
        "## Making training mini-batches\n",
        "\n",
        "\n",
        "To train on this data, we also want to create mini-batches for training. Remember that we want our batches to be multiple sequences of some desired number of sequence steps. Considering a simple example, our batches would look like this:\n",
        "\n",
        "<img src=\"https://github.com/udacity/deep-learning-v2-pytorch/blob/master/recurrent-neural-networks/char-rnn/assets/sequence_batching@1x.png?raw=1\" width=\"500\">\n",
        "\n",
        "\n",
        "<br>\n",
        "\n",
        "In this example, we'll take the encoded characters (passed in as the `arr` parameter) and split them into multiple sequences, given by `batch_size`. Each of our sequences will be `seq_length` long.\n",
        "\n",
        "### Creating Batches\n",
        "\n",
        "**1. The first thing we need to do is discard some of the text so we only have completely full mini-batches. **\n",
        "\n",
        "Each batch contains $N \\times M$ characters, where $N$ is the batch size (the number of sequences in a batch) and $M$ is the seq_length or number of time steps in a sequence. Then, to get the total number of batches, $K$, that we can make from the array `arr`, you divide the length of `arr` by the number of characters per batch. Once you know the number of batches, you can get the total number of characters to keep from `arr`, $N * M * K$.\n",
        "\n",
        "**2. After that, we need to split `arr` into $N$ batches. ** \n",
        "\n",
        "You can do this using `arr.reshape(size)` where `size` is a tuple containing the dimensions sizes of the reshaped array. We know we want $N$ sequences in a batch, so let's make that the size of the first dimension. For the second dimension, you can use `-1` as a placeholder in the size, it'll fill up the array with the appropriate data for you. After this, you should have an array that is $N \\times (M * K)$.\n",
        "\n",
        "**3. Now that we have this array, we can iterate through it to get our mini-batches. **\n",
        "\n",
        "The idea is each batch is a $N \\times M$ window on the $N \\times (M * K)$ array. For each subsequent batch, the window moves over by `seq_length`. We also want to create both the input and target arrays. Remember that the targets are just the inputs shifted over by one character. The way I like to do this window is use `range` to take steps of size `n_steps` from $0$ to `arr.shape[1]`, the total number of tokens in each sequence. That way, the integers you get from `range` always point to the start of a batch, and each window is `seq_length` wide.\n",
        "\n",
        "> **TODO:** Write the code for creating batches in the function below. The exercises in this notebook _will not be easy_. I've provided a notebook with solutions alongside this notebook. If you get stuck, checkout the solutions. The most important thing is that you don't copy and paste the code into here, **type out the solution code yourself.**"
      ]
    },
    {
      "cell_type": "code",
      "metadata": {
        "id": "sPwXUbEA_2Bz",
        "colab_type": "code",
        "colab": {}
      },
      "source": [
        "def get_batches(arr, batch_size, seq_length):\n",
        "    '''Create a generator that returns batches of size\n",
        "       batch_size x seq_length from arr.\n",
        "       \n",
        "       Arguments\n",
        "       ---------\n",
        "       arr: Array you want to make batches from\n",
        "       batch_size: Batch size, the number of sequences per batch\n",
        "       seq_length: Number of encoded chars in a sequence\n",
        "    '''\n",
        "    \n",
        "    batch_size_total = batch_size * seq_length\n",
        "    # total number of batches we can make\n",
        "    n_batches = len(arr)//batch_size_total\n",
        "    \n",
        "    # Keep only enough characters to make full batches\n",
        "    arr = arr[:n_batches * batch_size_total]\n",
        "    # Reshape into batch_size rows\n",
        "    arr = arr.reshape((batch_size, -1))\n",
        "    \n",
        "    # iterate through the array, one sequence at a time\n",
        "    for n in range(0, arr.shape[1], seq_length):\n",
        "        # The features\n",
        "        x = arr[:, n:n+seq_length]\n",
        "        # The targets, shifted by one\n",
        "        y = np.zeros_like(x)\n",
        "        try:\n",
        "            y[:, :-1], y[:, -1] = x[:, 1:], arr[:, n+seq_length]\n",
        "        except IndexError:\n",
        "            y[:, :-1], y[:, -1] = x[:, 1:], arr[:, 0]\n",
        "        yield x, y"
      ],
      "execution_count": 9,
      "outputs": []
    },
    {
      "cell_type": "markdown",
      "metadata": {
        "id": "PCoepsQ3_2B5",
        "colab_type": "text"
      },
      "source": [
        "### Test Your Implementation\n",
        "\n",
        "Now I'll make some data sets and we can check out what's going on as we batch data. Here, as an example, I'm going to use a batch size of 8 and 50 sequence steps."
      ]
    },
    {
      "cell_type": "code",
      "metadata": {
        "id": "F7Z2UoKD_2B6",
        "colab_type": "code",
        "colab": {}
      },
      "source": [
        "batches = get_batches(encoded, 8, 50)\n",
        "x, y = next(batches)"
      ],
      "execution_count": 10,
      "outputs": []
    },
    {
      "cell_type": "code",
      "metadata": {
        "id": "cXSNZE6w_2CB",
        "colab_type": "code",
        "colab": {
          "base_uri": "https://localhost:8080/",
          "height": 347
        },
        "outputId": "869d0a7e-b679-43e0-b28a-d085bcf090b1"
      },
      "source": [
        "# printing out the first 10 items in a sequence\n",
        "print('x\\n', x[:, :10])\n",
        "print('\\ny\\n', y[:, :10])"
      ],
      "execution_count": 11,
      "outputs": [
        {
          "output_type": "stream",
          "text": [
            "x\n",
            " [[18 23 77 40 65 36 41 31 13 79]\n",
            " [60  7 30 31 65 23 77 65 31 77]\n",
            " [36 30 24 31  7 41 31 77 31 21]\n",
            " [60 31 65 23 36 31 34 23 33 36]\n",
            " [31 60 77 82 31 23 36 41 31 65]\n",
            " [34 69 60 60 33  7 30 31 77 30]\n",
            " [31 66 30 30 77 31 23 77 24 31]\n",
            " [28 81 63  7 30 60 46 27 75 31]]\n",
            "\n",
            "y\n",
            " [[23 77 40 65 36 41 31 13 79 79]\n",
            " [ 7 30 31 65 23 77 65 31 77 65]\n",
            " [30 24 31  7 41 31 77 31 21  7]\n",
            " [31 65 23 36 31 34 23 33 36 21]\n",
            " [60 77 82 31 23 36 41 31 65 36]\n",
            " [69 60 60 33  7 30 31 77 30 24]\n",
            " [66 30 30 77 31 23 77 24 31 60]\n",
            " [81 63  7 30 60 46 27 75 31 74]]\n"
          ],
          "name": "stdout"
        }
      ]
    },
    {
      "cell_type": "markdown",
      "metadata": {
        "id": "TQckevU1_2CG",
        "colab_type": "text"
      },
      "source": [
        "If you implemented `get_batches` correctly, the above output should look something like \n",
        "```\n",
        "x\n",
        " [[25  8 60 11 45 27 28 73  1  2]\n",
        " [17  7 20 73 45  8 60 45 73 60]\n",
        " [27 20 80 73  7 28 73 60 73 65]\n",
        " [17 73 45  8 27 73 66  8 46 27]\n",
        " [73 17 60 12 73  8 27 28 73 45]\n",
        " [66 64 17 17 46  7 20 73 60 20]\n",
        " [73 76 20 20 60 73  8 60 80 73]\n",
        " [47 35 43  7 20 17 24 50 37 73]]\n",
        "\n",
        "y\n",
        " [[ 8 60 11 45 27 28 73  1  2  2]\n",
        " [ 7 20 73 45  8 60 45 73 60 45]\n",
        " [20 80 73  7 28 73 60 73 65  7]\n",
        " [73 45  8 27 73 66  8 46 27 65]\n",
        " [17 60 12 73  8 27 28 73 45 27]\n",
        " [64 17 17 46  7 20 73 60 20 80]\n",
        " [76 20 20 60 73  8 60 80 73 17]\n",
        " [35 43  7 20 17 24 50 37 73 36]]\n",
        " ```\n",
        " although the exact numbers may be different. Check to make sure the data is shifted over one step for `y`."
      ]
    },
    {
      "cell_type": "markdown",
      "metadata": {
        "id": "EL5JacDd_2CH",
        "colab_type": "text"
      },
      "source": [
        "---\n",
        "## Defining the network with PyTorch\n",
        "\n",
        "Below is where you'll define the network.\n",
        "\n",
        "<img src=\"https://github.com/udacity/deep-learning-v2-pytorch/blob/master/recurrent-neural-networks/char-rnn/assets/charRNN.png?raw=1\" width=\"500\">\n",
        "\n",
        "Next, you'll use PyTorch to define the architecture of the network. We start by defining the layers and operations we want. Then, define a method for the forward pass. You've also been given a method for predicting characters."
      ]
    },
    {
      "cell_type": "markdown",
      "metadata": {
        "id": "6WPyLpsp_2CJ",
        "colab_type": "text"
      },
      "source": [
        "### Model Structure\n",
        "\n",
        "In `__init__` the suggested structure is as follows:\n",
        "* Create and store the necessary dictionaries (this has been done for you)\n",
        "* Define an LSTM layer that takes as params: an input size (the number of characters), a hidden layer size `n_hidden`, a number of layers `n_layers`, a dropout probability `drop_prob`, and a batch_first boolean (True, since we are batching)\n",
        "* Define a dropout layer with `drop_prob`\n",
        "* Define a fully-connected layer with params: input size `n_hidden` and output size (the number of characters)\n",
        "* Finally, initialize the weights (again, this has been given)\n",
        "\n",
        "Note that some parameters have been named and given in the `__init__` function, and we use them and store them by doing something like `self.drop_prob = drop_prob`."
      ]
    },
    {
      "cell_type": "markdown",
      "metadata": {
        "id": "1PtmIfYb_2CK",
        "colab_type": "text"
      },
      "source": [
        "---\n",
        "### LSTM Inputs/Outputs\n",
        "\n",
        "You can create a basic [LSTM layer](https://pytorch.org/docs/stable/nn.html#lstm) as follows\n",
        "\n",
        "```python\n",
        "self.lstm = nn.LSTM(input_size, n_hidden, n_layers, \n",
        "                            dropout=drop_prob, batch_first=True)\n",
        "```\n",
        "\n",
        "where `input_size` is the number of characters this cell expects to see as sequential input, and `n_hidden` is the number of units in the hidden layers in the cell. And we can add dropout by adding a dropout parameter with a specified probability; this will automatically add dropout to the inputs or outputs. Finally, in the `forward` function, we can stack up the LSTM cells into layers using `.view`. With this, you pass in a list of cells and it will send the output of one cell into the next cell.\n",
        "\n",
        "We also need to create an initial hidden state of all zeros. This is done like so\n",
        "\n",
        "```python\n",
        "self.init_hidden()\n",
        "```"
      ]
    },
    {
      "cell_type": "code",
      "metadata": {
        "id": "V1opvhSj_2CL",
        "colab_type": "code",
        "colab": {
          "base_uri": "https://localhost:8080/",
          "height": 34
        },
        "outputId": "1690931d-efc9-46a2-c4d2-a147d64006e0"
      },
      "source": [
        "# check if GPU is available\n",
        "train_on_gpu = torch.cuda.is_available()\n",
        "if(train_on_gpu):\n",
        "    print('Training on GPU!')\n",
        "else: \n",
        "    print('No GPU available, training on CPU; consider making n_epochs very small.')"
      ],
      "execution_count": 12,
      "outputs": [
        {
          "output_type": "stream",
          "text": [
            "Training on GPU!\n"
          ],
          "name": "stdout"
        }
      ]
    },
    {
      "cell_type": "code",
      "metadata": {
        "id": "Uh3TDkqC_2CS",
        "colab_type": "code",
        "colab": {}
      },
      "source": [
        "class CharRNN(nn.Module):\n",
        "    \n",
        "    def __init__(self, tokens, n_hidden=256, n_layers=2,\n",
        "                               drop_prob=0.5, lr=0.001):\n",
        "        super().__init__()\n",
        "        self.drop_prob = drop_prob\n",
        "        self.n_layers = n_layers\n",
        "        self.n_hidden = n_hidden\n",
        "        self.lr = lr\n",
        "        \n",
        "        # creating character dictionaries\n",
        "        self.chars = tokens\n",
        "        self.int2char = dict(enumerate(self.chars))\n",
        "        self.char2int = {ch: ii for ii, ch in self.int2char.items()}\n",
        "        \n",
        "        ## TODO: define the LSTM\n",
        "        self.lstm = nn.LSTM(len(self.chars), n_hidden, n_layers, \n",
        "                            dropout=drop_prob, batch_first=True)\n",
        "        \n",
        "        ## TODO: define a dropout layer\n",
        "        self.dropout = nn.Dropout(drop_prob)\n",
        "        \n",
        "        ## TODO: define the final, fully-connected output layer\n",
        "        self.fc = nn.Linear(n_hidden, len(self.chars))\n",
        "      \n",
        "    \n",
        "    def forward(self, x, hidden):\n",
        "        ''' Forward pass through the network. \n",
        "            These inputs are x, and the hidden/cell state `hidden`. '''\n",
        "                \n",
        "        ## TODO: Get the outputs and the new hidden state from the lstm\n",
        "        r_output, hidden = self.lstm(x, hidden)\n",
        "        \n",
        "        ## TODO: pass through a dropout layer\n",
        "        out = self.dropout(r_output)\n",
        "        \n",
        "        # Stack up LSTM outputs using view\n",
        "        # you may need to use contiguous to reshape the output\n",
        "        out = out.contiguous().view(-1, self.n_hidden)\n",
        "        \n",
        "        ## TODO: put x through the fully-connected layer\n",
        "        out = self.fc(out)\n",
        "        \n",
        "        # return the final output and the hidden state\n",
        "        return out, hidden\n",
        "    \n",
        "    \n",
        "    def init_hidden(self, batch_size):\n",
        "        ''' Initializes hidden state '''\n",
        "        # Create two new tensors with sizes n_layers x batch_size x n_hidden,\n",
        "        # initialized to zero, for hidden state and cell state of LSTM\n",
        "        weight = next(self.parameters()).data\n",
        "        \n",
        "        if (train_on_gpu):\n",
        "            hidden = (weight.new(self.n_layers, batch_size, self.n_hidden).zero_().cuda(),\n",
        "                  weight.new(self.n_layers, batch_size, self.n_hidden).zero_().cuda())\n",
        "        else:\n",
        "            hidden = (weight.new(self.n_layers, batch_size, self.n_hidden).zero_(),\n",
        "                      weight.new(self.n_layers, batch_size, self.n_hidden).zero_())\n",
        "        \n",
        "        return hidden\n",
        "        "
      ],
      "execution_count": 13,
      "outputs": []
    },
    {
      "cell_type": "markdown",
      "metadata": {
        "id": "39qLGPT5_2Ca",
        "colab_type": "text"
      },
      "source": [
        "## Time to train\n",
        "\n",
        "The train function gives us the ability to set the number of epochs, the learning rate, and other parameters.\n",
        "\n",
        "Below we're using an Adam optimizer and cross entropy loss since we are looking at character class scores as output. We calculate the loss and perform backpropagation, as usual!\n",
        "\n",
        "A couple of details about training: \n",
        ">* Within the batch loop, we detach the hidden state from its history; this time setting it equal to a new *tuple* variable because an LSTM has a hidden state that is a tuple of the hidden and cell states.\n",
        "* We use [`clip_grad_norm_`](https://pytorch.org/docs/stable/_modules/torch/nn/utils/clip_grad.html) to help prevent exploding gradients."
      ]
    },
    {
      "cell_type": "code",
      "metadata": {
        "id": "KZQ2SesT_2Cb",
        "colab_type": "code",
        "colab": {}
      },
      "source": [
        "def train(net, data, epochs=10, batch_size=10, seq_length=50, lr=0.001, clip=5, val_frac=0.1, print_every=10):\n",
        "    ''' Training a network \n",
        "    \n",
        "        Arguments\n",
        "        ---------\n",
        "        \n",
        "        net: CharRNN network\n",
        "        data: text data to train the network\n",
        "        epochs: Number of epochs to train\n",
        "        batch_size: Number of mini-sequences per mini-batch, aka batch size\n",
        "        seq_length: Number of character steps per mini-batch\n",
        "        lr: learning rate\n",
        "        clip: gradient clipping\n",
        "        val_frac: Fraction of data to hold out for validation\n",
        "        print_every: Number of steps for printing training and validation loss\n",
        "    \n",
        "    '''\n",
        "    net.train()\n",
        "    \n",
        "    opt = torch.optim.Adam(net.parameters(), lr=lr)\n",
        "    criterion = nn.CrossEntropyLoss()\n",
        "    \n",
        "    # create training and validation data\n",
        "    val_idx = int(len(data)*(1-val_frac))\n",
        "    data, val_data = data[:val_idx], data[val_idx:]\n",
        "    \n",
        "    if(train_on_gpu):\n",
        "        net.cuda()\n",
        "    \n",
        "    counter = 0\n",
        "    n_chars = len(net.chars)\n",
        "    for e in range(epochs):\n",
        "        # initialize hidden state\n",
        "        h = net.init_hidden(batch_size)\n",
        "        \n",
        "        for x, y in get_batches(data, batch_size, seq_length):\n",
        "            counter += 1\n",
        "            \n",
        "            # One-hot encode our data and make them Torch tensors\n",
        "            x = one_hot_encode(x, n_chars)\n",
        "            inputs, targets = torch.from_numpy(x), torch.from_numpy(y)\n",
        "            \n",
        "            if(train_on_gpu):\n",
        "                inputs, targets = inputs.cuda(), targets.cuda()\n",
        "\n",
        "            # Creating new variables for the hidden state, otherwise\n",
        "            # we'd backprop through the entire training history\n",
        "            h = tuple([each.data for each in h])\n",
        "\n",
        "            # zero accumulated gradients\n",
        "            net.zero_grad()\n",
        "            \n",
        "            # get the output from the model\n",
        "            output, h = net(inputs, h)\n",
        "            \n",
        "            # calculate the loss and perform backprop\n",
        "            loss = criterion(output, targets.view(batch_size*seq_length).long())\n",
        "            loss.backward()\n",
        "            # `clip_grad_norm` helps prevent the exploding gradient problem in RNNs / LSTMs.\n",
        "            nn.utils.clip_grad_norm_(net.parameters(), clip)\n",
        "            opt.step()\n",
        "            \n",
        "            # loss stats\n",
        "            if counter % print_every == 0:\n",
        "                # Get validation loss\n",
        "                val_h = net.init_hidden(batch_size)\n",
        "                val_losses = []\n",
        "                net.eval()\n",
        "                with torch.no_grad():\n",
        "                  for x, y in get_batches(val_data, batch_size, seq_length):\n",
        "                      # One-hot encode our data and make them Torch tensors\n",
        "                      x = one_hot_encode(x, n_chars)\n",
        "                      x, y = torch.from_numpy(x), torch.from_numpy(y)\n",
        "                      \n",
        "                      # Creating new variables for the hidden state, otherwise\n",
        "                      # we'd backprop through the entire training history\n",
        "                      val_h = tuple([each.data for each in val_h])\n",
        "                      \n",
        "                      inputs, targets = x, y\n",
        "                      if(train_on_gpu):\n",
        "                          inputs, targets = inputs.cuda(), targets.cuda()\n",
        "\n",
        "                      output, val_h = net(inputs, val_h)\n",
        "                      val_loss = criterion(output, targets.view(batch_size*seq_length).long())\n",
        "                  \n",
        "                      val_losses.append(val_loss.item())\n",
        "                \n",
        "                net.train() # reset to train mode after iterationg through validation data\n",
        "                \n",
        "                print(\"Epoch: {}/{}...\".format(e+1, epochs),\n",
        "                      \"Step: {}...\".format(counter),\n",
        "                      \"Loss: {:.4f}...\".format(loss.item()),\n",
        "                      \"Val Loss: {:.4f}\".format(np.mean(val_losses)))"
      ],
      "execution_count": 14,
      "outputs": []
    },
    {
      "cell_type": "markdown",
      "metadata": {
        "id": "svm2-dD8_2Ch",
        "colab_type": "text"
      },
      "source": [
        "## Instantiating the model\n",
        "\n",
        "Now we can actually train the network. First we'll create the network itself, with some given hyperparameters. Then, define the mini-batches sizes, and start training!"
      ]
    },
    {
      "cell_type": "code",
      "metadata": {
        "id": "Z2oi6q8a_2Cj",
        "colab_type": "code",
        "colab": {
          "base_uri": "https://localhost:8080/",
          "height": 104
        },
        "outputId": "7afe61ba-1d2d-4a8d-a4b2-3e3ad4f82d18"
      },
      "source": [
        "# define and print the net\n",
        "n_hidden=512\n",
        "n_layers=2\n",
        "\n",
        "net = CharRNN(chars, n_hidden, n_layers)\n",
        "print(net)"
      ],
      "execution_count": 15,
      "outputs": [
        {
          "output_type": "stream",
          "text": [
            "CharRNN(\n",
            "  (lstm): LSTM(83, 512, num_layers=2, batch_first=True, dropout=0.5)\n",
            "  (dropout): Dropout(p=0.5, inplace=False)\n",
            "  (fc): Linear(in_features=512, out_features=83, bias=True)\n",
            ")\n"
          ],
          "name": "stdout"
        }
      ]
    },
    {
      "cell_type": "code",
      "metadata": {
        "scrolled": true,
        "id": "_sJaOxH6_2Cq",
        "colab_type": "code",
        "colab": {
          "base_uri": "https://localhost:8080/",
          "height": 1000
        },
        "outputId": "59110e74-c37a-4c28-a10b-48cfc0a5d94f"
      },
      "source": [
        "batch_size = 128\n",
        "seq_length = 100\n",
        "n_epochs = 20 # start smaller if you are just testing initial behavior\n",
        "\n",
        "# train the model\n",
        "train(net, encoded, epochs=n_epochs, batch_size=batch_size, seq_length=seq_length, lr=0.001, print_every=10)"
      ],
      "execution_count": 16,
      "outputs": [
        {
          "output_type": "stream",
          "text": [
            "Epoch: 1/20... Step: 10... Loss: 3.2772... Val Loss: 3.2145\n",
            "Epoch: 1/20... Step: 20... Loss: 3.1575... Val Loss: 3.1349\n",
            "Epoch: 1/20... Step: 30... Loss: 3.1500... Val Loss: 3.1238\n",
            "Epoch: 1/20... Step: 40... Loss: 3.1161... Val Loss: 3.1202\n",
            "Epoch: 1/20... Step: 50... Loss: 3.1481... Val Loss: 3.1176\n",
            "Epoch: 1/20... Step: 60... Loss: 3.1206... Val Loss: 3.1158\n",
            "Epoch: 1/20... Step: 70... Loss: 3.1080... Val Loss: 3.1138\n",
            "Epoch: 1/20... Step: 80... Loss: 3.1211... Val Loss: 3.1094\n",
            "Epoch: 1/20... Step: 90... Loss: 3.1144... Val Loss: 3.0983\n",
            "Epoch: 1/20... Step: 100... Loss: 3.0840... Val Loss: 3.0709\n",
            "Epoch: 1/20... Step: 110... Loss: 3.0573... Val Loss: 3.0352\n",
            "Epoch: 1/20... Step: 120... Loss: 2.9807... Val Loss: 2.9589\n",
            "Epoch: 1/20... Step: 130... Loss: 2.8686... Val Loss: 2.8354\n",
            "Epoch: 2/20... Step: 140... Loss: 2.7961... Val Loss: 2.7434\n",
            "Epoch: 2/20... Step: 150... Loss: 2.6919... Val Loss: 2.6323\n",
            "Epoch: 2/20... Step: 160... Loss: 2.6007... Val Loss: 2.5545\n",
            "Epoch: 2/20... Step: 170... Loss: 2.5151... Val Loss: 2.5006\n",
            "Epoch: 2/20... Step: 180... Loss: 2.4860... Val Loss: 2.4638\n",
            "Epoch: 2/20... Step: 190... Loss: 2.4396... Val Loss: 2.4273\n",
            "Epoch: 2/20... Step: 200... Loss: 2.4273... Val Loss: 2.3967\n",
            "Epoch: 2/20... Step: 210... Loss: 2.4015... Val Loss: 2.3725\n",
            "Epoch: 2/20... Step: 220... Loss: 2.3599... Val Loss: 2.3410\n",
            "Epoch: 2/20... Step: 230... Loss: 2.3554... Val Loss: 2.3222\n",
            "Epoch: 2/20... Step: 240... Loss: 2.3311... Val Loss: 2.2895\n",
            "Epoch: 2/20... Step: 250... Loss: 2.2733... Val Loss: 2.2630\n",
            "Epoch: 2/20... Step: 260... Loss: 2.2454... Val Loss: 2.2344\n",
            "Epoch: 2/20... Step: 270... Loss: 2.2456... Val Loss: 2.2150\n",
            "Epoch: 3/20... Step: 280... Loss: 2.2531... Val Loss: 2.1954\n",
            "Epoch: 3/20... Step: 290... Loss: 2.2007... Val Loss: 2.1698\n",
            "Epoch: 3/20... Step: 300... Loss: 2.1877... Val Loss: 2.1466\n",
            "Epoch: 3/20... Step: 310... Loss: 2.1527... Val Loss: 2.1270\n",
            "Epoch: 3/20... Step: 320... Loss: 2.1237... Val Loss: 2.1076\n",
            "Epoch: 3/20... Step: 330... Loss: 2.0965... Val Loss: 2.0883\n",
            "Epoch: 3/20... Step: 340... Loss: 2.1232... Val Loss: 2.0765\n",
            "Epoch: 3/20... Step: 350... Loss: 2.1027... Val Loss: 2.0578\n",
            "Epoch: 3/20... Step: 360... Loss: 2.0346... Val Loss: 2.0415\n",
            "Epoch: 3/20... Step: 370... Loss: 2.0544... Val Loss: 2.0244\n",
            "Epoch: 3/20... Step: 380... Loss: 2.0402... Val Loss: 2.0070\n",
            "Epoch: 3/20... Step: 390... Loss: 2.0097... Val Loss: 1.9942\n",
            "Epoch: 3/20... Step: 400... Loss: 1.9816... Val Loss: 1.9760\n",
            "Epoch: 3/20... Step: 410... Loss: 1.9842... Val Loss: 1.9624\n",
            "Epoch: 4/20... Step: 420... Loss: 1.9819... Val Loss: 1.9447\n",
            "Epoch: 4/20... Step: 430... Loss: 1.9732... Val Loss: 1.9353\n",
            "Epoch: 4/20... Step: 440... Loss: 1.9590... Val Loss: 1.9200\n",
            "Epoch: 4/20... Step: 450... Loss: 1.8899... Val Loss: 1.9053\n",
            "Epoch: 4/20... Step: 460... Loss: 1.8885... Val Loss: 1.8953\n",
            "Epoch: 4/20... Step: 470... Loss: 1.9152... Val Loss: 1.8873\n",
            "Epoch: 4/20... Step: 480... Loss: 1.8993... Val Loss: 1.8727\n",
            "Epoch: 4/20... Step: 490... Loss: 1.8980... Val Loss: 1.8580\n",
            "Epoch: 4/20... Step: 500... Loss: 1.8827... Val Loss: 1.8466\n",
            "Epoch: 4/20... Step: 510... Loss: 1.8694... Val Loss: 1.8349\n",
            "Epoch: 4/20... Step: 520... Loss: 1.8764... Val Loss: 1.8250\n",
            "Epoch: 4/20... Step: 530... Loss: 1.8339... Val Loss: 1.8130\n",
            "Epoch: 4/20... Step: 540... Loss: 1.7947... Val Loss: 1.8033\n",
            "Epoch: 4/20... Step: 550... Loss: 1.8406... Val Loss: 1.7931\n",
            "Epoch: 5/20... Step: 560... Loss: 1.8078... Val Loss: 1.7826\n",
            "Epoch: 5/20... Step: 570... Loss: 1.8066... Val Loss: 1.7762\n",
            "Epoch: 5/20... Step: 580... Loss: 1.7780... Val Loss: 1.7668\n",
            "Epoch: 5/20... Step: 590... Loss: 1.7777... Val Loss: 1.7534\n",
            "Epoch: 5/20... Step: 600... Loss: 1.7629... Val Loss: 1.7467\n",
            "Epoch: 5/20... Step: 610... Loss: 1.7478... Val Loss: 1.7388\n",
            "Epoch: 5/20... Step: 620... Loss: 1.7486... Val Loss: 1.7307\n",
            "Epoch: 5/20... Step: 630... Loss: 1.7645... Val Loss: 1.7235\n",
            "Epoch: 5/20... Step: 640... Loss: 1.7389... Val Loss: 1.7162\n",
            "Epoch: 5/20... Step: 650... Loss: 1.7221... Val Loss: 1.7069\n",
            "Epoch: 5/20... Step: 660... Loss: 1.6905... Val Loss: 1.6994\n",
            "Epoch: 5/20... Step: 670... Loss: 1.7211... Val Loss: 1.6907\n",
            "Epoch: 5/20... Step: 680... Loss: 1.7202... Val Loss: 1.6829\n",
            "Epoch: 5/20... Step: 690... Loss: 1.6971... Val Loss: 1.6819\n",
            "Epoch: 6/20... Step: 700... Loss: 1.6926... Val Loss: 1.6722\n",
            "Epoch: 6/20... Step: 710... Loss: 1.6870... Val Loss: 1.6642\n",
            "Epoch: 6/20... Step: 720... Loss: 1.6686... Val Loss: 1.6572\n",
            "Epoch: 6/20... Step: 730... Loss: 1.6885... Val Loss: 1.6480\n",
            "Epoch: 6/20... Step: 740... Loss: 1.6578... Val Loss: 1.6446\n",
            "Epoch: 6/20... Step: 750... Loss: 1.6286... Val Loss: 1.6382\n",
            "Epoch: 6/20... Step: 760... Loss: 1.6702... Val Loss: 1.6341\n",
            "Epoch: 6/20... Step: 770... Loss: 1.6451... Val Loss: 1.6326\n",
            "Epoch: 6/20... Step: 780... Loss: 1.6267... Val Loss: 1.6253\n",
            "Epoch: 6/20... Step: 790... Loss: 1.6199... Val Loss: 1.6156\n",
            "Epoch: 6/20... Step: 800... Loss: 1.6357... Val Loss: 1.6126\n",
            "Epoch: 6/20... Step: 810... Loss: 1.6288... Val Loss: 1.6103\n",
            "Epoch: 6/20... Step: 820... Loss: 1.5892... Val Loss: 1.6042\n",
            "Epoch: 6/20... Step: 830... Loss: 1.6348... Val Loss: 1.6009\n",
            "Epoch: 7/20... Step: 840... Loss: 1.5751... Val Loss: 1.5938\n",
            "Epoch: 7/20... Step: 850... Loss: 1.5980... Val Loss: 1.5846\n",
            "Epoch: 7/20... Step: 860... Loss: 1.5848... Val Loss: 1.5810\n",
            "Epoch: 7/20... Step: 870... Loss: 1.5925... Val Loss: 1.5760\n",
            "Epoch: 7/20... Step: 880... Loss: 1.5926... Val Loss: 1.5757\n",
            "Epoch: 7/20... Step: 890... Loss: 1.5910... Val Loss: 1.5668\n",
            "Epoch: 7/20... Step: 900... Loss: 1.5706... Val Loss: 1.5628\n",
            "Epoch: 7/20... Step: 910... Loss: 1.5491... Val Loss: 1.5615\n",
            "Epoch: 7/20... Step: 920... Loss: 1.5611... Val Loss: 1.5575\n",
            "Epoch: 7/20... Step: 930... Loss: 1.5443... Val Loss: 1.5526\n",
            "Epoch: 7/20... Step: 940... Loss: 1.5532... Val Loss: 1.5506\n",
            "Epoch: 7/20... Step: 950... Loss: 1.5580... Val Loss: 1.5484\n",
            "Epoch: 7/20... Step: 960... Loss: 1.5568... Val Loss: 1.5437\n",
            "Epoch: 7/20... Step: 970... Loss: 1.5738... Val Loss: 1.5403\n",
            "Epoch: 8/20... Step: 980... Loss: 1.5362... Val Loss: 1.5365\n",
            "Epoch: 8/20... Step: 990... Loss: 1.5300... Val Loss: 1.5287\n",
            "Epoch: 8/20... Step: 1000... Loss: 1.5289... Val Loss: 1.5273\n",
            "Epoch: 8/20... Step: 1010... Loss: 1.5643... Val Loss: 1.5228\n",
            "Epoch: 8/20... Step: 1020... Loss: 1.5299... Val Loss: 1.5208\n",
            "Epoch: 8/20... Step: 1030... Loss: 1.5222... Val Loss: 1.5153\n",
            "Epoch: 8/20... Step: 1040... Loss: 1.5292... Val Loss: 1.5140\n",
            "Epoch: 8/20... Step: 1050... Loss: 1.5070... Val Loss: 1.5101\n",
            "Epoch: 8/20... Step: 1060... Loss: 1.5089... Val Loss: 1.5108\n",
            "Epoch: 8/20... Step: 1070... Loss: 1.5163... Val Loss: 1.5060\n",
            "Epoch: 8/20... Step: 1080... Loss: 1.5123... Val Loss: 1.5029\n",
            "Epoch: 8/20... Step: 1090... Loss: 1.4954... Val Loss: 1.4951\n",
            "Epoch: 8/20... Step: 1100... Loss: 1.4887... Val Loss: 1.4963\n",
            "Epoch: 8/20... Step: 1110... Loss: 1.4998... Val Loss: 1.4927\n",
            "Epoch: 9/20... Step: 1120... Loss: 1.5098... Val Loss: 1.4897\n",
            "Epoch: 9/20... Step: 1130... Loss: 1.4960... Val Loss: 1.4876\n",
            "Epoch: 9/20... Step: 1140... Loss: 1.4955... Val Loss: 1.4817\n",
            "Epoch: 9/20... Step: 1150... Loss: 1.5087... Val Loss: 1.4813\n",
            "Epoch: 9/20... Step: 1160... Loss: 1.4641... Val Loss: 1.4785\n",
            "Epoch: 9/20... Step: 1170... Loss: 1.4675... Val Loss: 1.4734\n",
            "Epoch: 9/20... Step: 1180... Loss: 1.4627... Val Loss: 1.4733\n",
            "Epoch: 9/20... Step: 1190... Loss: 1.4961... Val Loss: 1.4704\n",
            "Epoch: 9/20... Step: 1200... Loss: 1.4525... Val Loss: 1.4712\n",
            "Epoch: 9/20... Step: 1210... Loss: 1.4650... Val Loss: 1.4659\n",
            "Epoch: 9/20... Step: 1220... Loss: 1.4631... Val Loss: 1.4611\n",
            "Epoch: 9/20... Step: 1230... Loss: 1.4476... Val Loss: 1.4586\n",
            "Epoch: 9/20... Step: 1240... Loss: 1.4512... Val Loss: 1.4579\n",
            "Epoch: 9/20... Step: 1250... Loss: 1.4569... Val Loss: 1.4559\n",
            "Epoch: 10/20... Step: 1260... Loss: 1.4619... Val Loss: 1.4511\n",
            "Epoch: 10/20... Step: 1270... Loss: 1.4485... Val Loss: 1.4476\n",
            "Epoch: 10/20... Step: 1280... Loss: 1.4698... Val Loss: 1.4450\n",
            "Epoch: 10/20... Step: 1290... Loss: 1.4595... Val Loss: 1.4464\n",
            "Epoch: 10/20... Step: 1300... Loss: 1.4409... Val Loss: 1.4417\n",
            "Epoch: 10/20... Step: 1310... Loss: 1.4480... Val Loss: 1.4402\n",
            "Epoch: 10/20... Step: 1320... Loss: 1.4201... Val Loss: 1.4390\n",
            "Epoch: 10/20... Step: 1330... Loss: 1.4319... Val Loss: 1.4408\n",
            "Epoch: 10/20... Step: 1340... Loss: 1.4115... Val Loss: 1.4337\n",
            "Epoch: 10/20... Step: 1350... Loss: 1.4112... Val Loss: 1.4317\n",
            "Epoch: 10/20... Step: 1360... Loss: 1.4075... Val Loss: 1.4324\n",
            "Epoch: 10/20... Step: 1370... Loss: 1.3995... Val Loss: 1.4294\n",
            "Epoch: 10/20... Step: 1380... Loss: 1.4385... Val Loss: 1.4304\n",
            "Epoch: 10/20... Step: 1390... Loss: 1.4450... Val Loss: 1.4251\n",
            "Epoch: 11/20... Step: 1400... Loss: 1.4484... Val Loss: 1.4245\n",
            "Epoch: 11/20... Step: 1410... Loss: 1.4642... Val Loss: 1.4201\n",
            "Epoch: 11/20... Step: 1420... Loss: 1.4444... Val Loss: 1.4174\n",
            "Epoch: 11/20... Step: 1430... Loss: 1.4100... Val Loss: 1.4227\n",
            "Epoch: 11/20... Step: 1440... Loss: 1.4311... Val Loss: 1.4155\n",
            "Epoch: 11/20... Step: 1450... Loss: 1.3604... Val Loss: 1.4142\n",
            "Epoch: 11/20... Step: 1460... Loss: 1.3967... Val Loss: 1.4141\n",
            "Epoch: 11/20... Step: 1470... Loss: 1.3772... Val Loss: 1.4119\n",
            "Epoch: 11/20... Step: 1480... Loss: 1.4033... Val Loss: 1.4071\n",
            "Epoch: 11/20... Step: 1490... Loss: 1.3921... Val Loss: 1.4049\n",
            "Epoch: 11/20... Step: 1500... Loss: 1.3819... Val Loss: 1.4087\n",
            "Epoch: 11/20... Step: 1510... Loss: 1.3668... Val Loss: 1.4049\n",
            "Epoch: 11/20... Step: 1520... Loss: 1.4047... Val Loss: 1.4022\n",
            "Epoch: 12/20... Step: 1530... Loss: 1.4596... Val Loss: 1.4002\n",
            "Epoch: 12/20... Step: 1540... Loss: 1.4004... Val Loss: 1.4028\n",
            "Epoch: 12/20... Step: 1550... Loss: 1.4103... Val Loss: 1.3968\n",
            "Epoch: 12/20... Step: 1560... Loss: 1.4186... Val Loss: 1.3934\n",
            "Epoch: 12/20... Step: 1570... Loss: 1.3738... Val Loss: 1.3956\n",
            "Epoch: 12/20... Step: 1580... Loss: 1.3407... Val Loss: 1.3914\n",
            "Epoch: 12/20... Step: 1590... Loss: 1.3409... Val Loss: 1.3897\n",
            "Epoch: 12/20... Step: 1600... Loss: 1.3710... Val Loss: 1.3907\n",
            "Epoch: 12/20... Step: 1610... Loss: 1.3482... Val Loss: 1.3904\n",
            "Epoch: 12/20... Step: 1620... Loss: 1.3490... Val Loss: 1.3837\n",
            "Epoch: 12/20... Step: 1630... Loss: 1.3875... Val Loss: 1.3832\n",
            "Epoch: 12/20... Step: 1640... Loss: 1.3595... Val Loss: 1.3857\n",
            "Epoch: 12/20... Step: 1650... Loss: 1.3360... Val Loss: 1.3830\n",
            "Epoch: 12/20... Step: 1660... Loss: 1.3876... Val Loss: 1.3787\n",
            "Epoch: 13/20... Step: 1670... Loss: 1.3545... Val Loss: 1.3791\n",
            "Epoch: 13/20... Step: 1680... Loss: 1.3659... Val Loss: 1.3785\n",
            "Epoch: 13/20... Step: 1690... Loss: 1.3432... Val Loss: 1.3746\n",
            "Epoch: 13/20... Step: 1700... Loss: 1.3548... Val Loss: 1.3766\n",
            "Epoch: 13/20... Step: 1710... Loss: 1.3350... Val Loss: 1.3753\n",
            "Epoch: 13/20... Step: 1720... Loss: 1.3431... Val Loss: 1.3750\n",
            "Epoch: 13/20... Step: 1730... Loss: 1.3828... Val Loss: 1.3717\n",
            "Epoch: 13/20... Step: 1740... Loss: 1.3422... Val Loss: 1.3713\n",
            "Epoch: 13/20... Step: 1750... Loss: 1.3128... Val Loss: 1.3707\n",
            "Epoch: 13/20... Step: 1760... Loss: 1.3413... Val Loss: 1.3680\n",
            "Epoch: 13/20... Step: 1770... Loss: 1.3615... Val Loss: 1.3686\n",
            "Epoch: 13/20... Step: 1780... Loss: 1.3336... Val Loss: 1.3684\n",
            "Epoch: 13/20... Step: 1790... Loss: 1.3224... Val Loss: 1.3662\n",
            "Epoch: 13/20... Step: 1800... Loss: 1.3461... Val Loss: 1.3644\n",
            "Epoch: 14/20... Step: 1810... Loss: 1.3460... Val Loss: 1.3649\n",
            "Epoch: 14/20... Step: 1820... Loss: 1.3348... Val Loss: 1.3642\n",
            "Epoch: 14/20... Step: 1830... Loss: 1.3537... Val Loss: 1.3589\n",
            "Epoch: 14/20... Step: 1840... Loss: 1.2993... Val Loss: 1.3614\n",
            "Epoch: 14/20... Step: 1850... Loss: 1.2820... Val Loss: 1.3599\n",
            "Epoch: 14/20... Step: 1860... Loss: 1.3386... Val Loss: 1.3590\n",
            "Epoch: 14/20... Step: 1870... Loss: 1.3481... Val Loss: 1.3537\n",
            "Epoch: 14/20... Step: 1880... Loss: 1.3372... Val Loss: 1.3565\n",
            "Epoch: 14/20... Step: 1890... Loss: 1.3537... Val Loss: 1.3547\n",
            "Epoch: 14/20... Step: 1900... Loss: 1.3346... Val Loss: 1.3531\n",
            "Epoch: 14/20... Step: 1910... Loss: 1.3307... Val Loss: 1.3508\n",
            "Epoch: 14/20... Step: 1920... Loss: 1.3238... Val Loss: 1.3500\n",
            "Epoch: 14/20... Step: 1930... Loss: 1.2907... Val Loss: 1.3504\n",
            "Epoch: 14/20... Step: 1940... Loss: 1.3517... Val Loss: 1.3472\n",
            "Epoch: 15/20... Step: 1950... Loss: 1.3209... Val Loss: 1.3539\n",
            "Epoch: 15/20... Step: 1960... Loss: 1.3233... Val Loss: 1.3460\n",
            "Epoch: 15/20... Step: 1970... Loss: 1.3229... Val Loss: 1.3436\n",
            "Epoch: 15/20... Step: 1980... Loss: 1.3001... Val Loss: 1.3462\n",
            "Epoch: 15/20... Step: 1990... Loss: 1.2964... Val Loss: 1.3466\n",
            "Epoch: 15/20... Step: 2000... Loss: 1.2875... Val Loss: 1.3435\n",
            "Epoch: 15/20... Step: 2010... Loss: 1.3026... Val Loss: 1.3391\n",
            "Epoch: 15/20... Step: 2020... Loss: 1.3208... Val Loss: 1.3418\n",
            "Epoch: 15/20... Step: 2030... Loss: 1.2928... Val Loss: 1.3410\n",
            "Epoch: 15/20... Step: 2040... Loss: 1.3146... Val Loss: 1.3399\n",
            "Epoch: 15/20... Step: 2050... Loss: 1.2920... Val Loss: 1.3410\n",
            "Epoch: 15/20... Step: 2060... Loss: 1.3041... Val Loss: 1.3378\n",
            "Epoch: 15/20... Step: 2070... Loss: 1.3194... Val Loss: 1.3386\n",
            "Epoch: 15/20... Step: 2080... Loss: 1.3021... Val Loss: 1.3372\n",
            "Epoch: 16/20... Step: 2090... Loss: 1.3030... Val Loss: 1.3471\n",
            "Epoch: 16/20... Step: 2100... Loss: 1.3041... Val Loss: 1.3334\n",
            "Epoch: 16/20... Step: 2110... Loss: 1.2872... Val Loss: 1.3308\n",
            "Epoch: 16/20... Step: 2120... Loss: 1.2953... Val Loss: 1.3337\n",
            "Epoch: 16/20... Step: 2130... Loss: 1.2738... Val Loss: 1.3329\n",
            "Epoch: 16/20... Step: 2140... Loss: 1.2775... Val Loss: 1.3308\n",
            "Epoch: 16/20... Step: 2150... Loss: 1.3049... Val Loss: 1.3261\n",
            "Epoch: 16/20... Step: 2160... Loss: 1.2942... Val Loss: 1.3290\n",
            "Epoch: 16/20... Step: 2170... Loss: 1.2874... Val Loss: 1.3289\n",
            "Epoch: 16/20... Step: 2180... Loss: 1.2834... Val Loss: 1.3268\n",
            "Epoch: 16/20... Step: 2190... Loss: 1.2993... Val Loss: 1.3263\n",
            "Epoch: 16/20... Step: 2200... Loss: 1.2863... Val Loss: 1.3281\n",
            "Epoch: 16/20... Step: 2210... Loss: 1.2441... Val Loss: 1.3224\n",
            "Epoch: 16/20... Step: 2220... Loss: 1.2910... Val Loss: 1.3236\n",
            "Epoch: 17/20... Step: 2230... Loss: 1.2726... Val Loss: 1.3293\n",
            "Epoch: 17/20... Step: 2240... Loss: 1.2804... Val Loss: 1.3201\n",
            "Epoch: 17/20... Step: 2250... Loss: 1.2594... Val Loss: 1.3226\n",
            "Epoch: 17/20... Step: 2260... Loss: 1.2703... Val Loss: 1.3224\n",
            "Epoch: 17/20... Step: 2270... Loss: 1.2868... Val Loss: 1.3210\n",
            "Epoch: 17/20... Step: 2280... Loss: 1.2867... Val Loss: 1.3200\n",
            "Epoch: 17/20... Step: 2290... Loss: 1.2778... Val Loss: 1.3175\n",
            "Epoch: 17/20... Step: 2300... Loss: 1.2498... Val Loss: 1.3168\n",
            "Epoch: 17/20... Step: 2310... Loss: 1.2685... Val Loss: 1.3144\n",
            "Epoch: 17/20... Step: 2320... Loss: 1.2570... Val Loss: 1.3129\n",
            "Epoch: 17/20... Step: 2330... Loss: 1.2644... Val Loss: 1.3154\n",
            "Epoch: 17/20... Step: 2340... Loss: 1.2866... Val Loss: 1.3148\n",
            "Epoch: 17/20... Step: 2350... Loss: 1.2825... Val Loss: 1.3125\n",
            "Epoch: 17/20... Step: 2360... Loss: 1.2927... Val Loss: 1.3129\n",
            "Epoch: 18/20... Step: 2370... Loss: 1.2547... Val Loss: 1.3137\n",
            "Epoch: 18/20... Step: 2380... Loss: 1.2602... Val Loss: 1.3060\n",
            "Epoch: 18/20... Step: 2390... Loss: 1.2638... Val Loss: 1.3096\n",
            "Epoch: 18/20... Step: 2400... Loss: 1.2859... Val Loss: 1.3090\n",
            "Epoch: 18/20... Step: 2410... Loss: 1.2759... Val Loss: 1.3053\n",
            "Epoch: 18/20... Step: 2420... Loss: 1.2630... Val Loss: 1.3003\n",
            "Epoch: 18/20... Step: 2430... Loss: 1.2622... Val Loss: 1.2991\n",
            "Epoch: 18/20... Step: 2440... Loss: 1.2455... Val Loss: 1.3024\n",
            "Epoch: 18/20... Step: 2450... Loss: 1.2386... Val Loss: 1.2974\n",
            "Epoch: 18/20... Step: 2460... Loss: 1.2657... Val Loss: 1.2961\n",
            "Epoch: 18/20... Step: 2470... Loss: 1.2545... Val Loss: 1.2965\n",
            "Epoch: 18/20... Step: 2480... Loss: 1.2411... Val Loss: 1.2966\n",
            "Epoch: 18/20... Step: 2490... Loss: 1.2346... Val Loss: 1.2964\n",
            "Epoch: 18/20... Step: 2500... Loss: 1.2312... Val Loss: 1.2978\n",
            "Epoch: 19/20... Step: 2510... Loss: 1.2464... Val Loss: 1.3013\n",
            "Epoch: 19/20... Step: 2520... Loss: 1.2555... Val Loss: 1.2893\n",
            "Epoch: 19/20... Step: 2530... Loss: 1.2651... Val Loss: 1.2971\n",
            "Epoch: 19/20... Step: 2540... Loss: 1.2720... Val Loss: 1.2920\n",
            "Epoch: 19/20... Step: 2550... Loss: 1.2310... Val Loss: 1.2941\n",
            "Epoch: 19/20... Step: 2560... Loss: 1.2507... Val Loss: 1.2876\n",
            "Epoch: 19/20... Step: 2570... Loss: 1.2261... Val Loss: 1.2922\n",
            "Epoch: 19/20... Step: 2580... Loss: 1.2574... Val Loss: 1.2909\n",
            "Epoch: 19/20... Step: 2590... Loss: 1.2197... Val Loss: 1.2838\n",
            "Epoch: 19/20... Step: 2600... Loss: 1.2280... Val Loss: 1.2867\n",
            "Epoch: 19/20... Step: 2610... Loss: 1.2337... Val Loss: 1.2842\n",
            "Epoch: 19/20... Step: 2620... Loss: 1.2124... Val Loss: 1.2873\n",
            "Epoch: 19/20... Step: 2630... Loss: 1.2287... Val Loss: 1.2819\n",
            "Epoch: 19/20... Step: 2640... Loss: 1.2377... Val Loss: 1.2842\n",
            "Epoch: 20/20... Step: 2650... Loss: 1.2383... Val Loss: 1.2882\n",
            "Epoch: 20/20... Step: 2660... Loss: 1.2317... Val Loss: 1.2852\n",
            "Epoch: 20/20... Step: 2670... Loss: 1.2447... Val Loss: 1.2957\n",
            "Epoch: 20/20... Step: 2680... Loss: 1.2438... Val Loss: 1.2804\n",
            "Epoch: 20/20... Step: 2690... Loss: 1.2313... Val Loss: 1.2776\n",
            "Epoch: 20/20... Step: 2700... Loss: 1.2371... Val Loss: 1.2793\n",
            "Epoch: 20/20... Step: 2710... Loss: 1.2127... Val Loss: 1.2788\n",
            "Epoch: 20/20... Step: 2720... Loss: 1.2068... Val Loss: 1.2829\n",
            "Epoch: 20/20... Step: 2730... Loss: 1.2078... Val Loss: 1.2805\n",
            "Epoch: 20/20... Step: 2740... Loss: 1.1947... Val Loss: 1.2755\n",
            "Epoch: 20/20... Step: 2750... Loss: 1.2113... Val Loss: 1.2811\n",
            "Epoch: 20/20... Step: 2760... Loss: 1.2012... Val Loss: 1.2814\n",
            "Epoch: 20/20... Step: 2770... Loss: 1.2411... Val Loss: 1.2819\n",
            "Epoch: 20/20... Step: 2780... Loss: 1.2585... Val Loss: 1.2741\n"
          ],
          "name": "stdout"
        }
      ]
    },
    {
      "cell_type": "markdown",
      "metadata": {
        "id": "-hQ86NRU_2Cw",
        "colab_type": "text"
      },
      "source": [
        "## Getting the best model\n",
        "\n",
        "To set your hyperparameters to get the best performance, you'll want to watch the training and validation losses. If your training loss is much lower than the validation loss, you're overfitting. Increase regularization (more dropout) or use a smaller network. If the training and validation losses are close, you're underfitting so you can increase the size of the network."
      ]
    },
    {
      "cell_type": "markdown",
      "metadata": {
        "id": "IXM1qGcB_2Cx",
        "colab_type": "text"
      },
      "source": [
        "## Hyperparameters\n",
        "\n",
        "Here are the hyperparameters for the network.\n",
        "\n",
        "In defining the model:\n",
        "* `n_hidden` - The number of units in the hidden layers.\n",
        "* `n_layers` - Number of hidden LSTM layers to use.\n",
        "\n",
        "We assume that dropout probability and learning rate will be kept at the default, in this example.\n",
        "\n",
        "And in training:\n",
        "* `batch_size` - Number of sequences running through the network in one pass.\n",
        "* `seq_length` - Number of characters in the sequence the network is trained on. Larger is better typically, the network will learn more long range dependencies. But it takes longer to train. 100 is typically a good number here.\n",
        "* `lr` - Learning rate for training\n",
        "\n",
        "Here's some good advice from Andrej Karpathy on training the network. I'm going to copy it in here for your benefit, but also link to [where it originally came from](https://github.com/karpathy/char-rnn#tips-and-tricks).\n",
        "\n",
        "> ## Tips and Tricks\n",
        "\n",
        ">### Monitoring Validation Loss vs. Training Loss\n",
        ">If you're somewhat new to Machine Learning or Neural Networks it can take a bit of expertise to get good models. The most important quantity to keep track of is the difference between your training loss (printed during training) and the validation loss (printed once in a while when the RNN is run on the validation data (by default every 1000 iterations)). In particular:\n",
        "\n",
        "> - If your training loss is much lower than validation loss then this means the network might be **overfitting**. Solutions to this are to decrease your network size, or to increase dropout. For example you could try dropout of 0.5 and so on.\n",
        "> - If your training/validation loss are about equal then your model is **underfitting**. Increase the size of your model (either number of layers or the raw number of neurons per layer)\n",
        "\n",
        "> ### Approximate number of parameters\n",
        "\n",
        "> The two most important parameters that control the model are `n_hidden` and `n_layers`. I would advise that you always use `n_layers` of either 2/3. The `n_hidden` can be adjusted based on how much data you have. The two important quantities to keep track of here are:\n",
        "\n",
        "> - The number of parameters in your model. This is printed when you start training.\n",
        "> - The size of your dataset. 1MB file is approximately 1 million characters.\n",
        "\n",
        ">These two should be about the same order of magnitude. It's a little tricky to tell. Here are some examples:\n",
        "\n",
        "> - I have a 100MB dataset and I'm using the default parameter settings (which currently print 150K parameters). My data size is significantly larger (100 mil >> 0.15 mil), so I expect to heavily underfit. I am thinking I can comfortably afford to make `n_hidden` larger.\n",
        "> - I have a 10MB dataset and running a 10 million parameter model. I'm slightly nervous and I'm carefully monitoring my validation loss. If it's larger than my training loss then I may want to try to increase dropout a bit and see if that helps the validation loss.\n",
        "\n",
        "> ### Best models strategy\n",
        "\n",
        ">The winning strategy to obtaining very good models (if you have the compute time) is to always err on making the network larger (as large as you're willing to wait for it to compute) and then try different dropout values (between 0,1). Whatever model has the best validation performance (the loss, written in the checkpoint filename, low is good) is the one you should use in the end.\n",
        "\n",
        ">It is very common in deep learning to run many different models with many different hyperparameter settings, and in the end take whatever checkpoint gave the best validation performance.\n",
        "\n",
        ">By the way, the size of your training and validation splits are also parameters. Make sure you have a decent amount of data in your validation set or otherwise the validation performance will be noisy and not very informative."
      ]
    },
    {
      "cell_type": "markdown",
      "metadata": {
        "id": "BH825QcF_2Cy",
        "colab_type": "text"
      },
      "source": [
        "## Checkpoint\n",
        "\n",
        "After training, we'll save the model so we can load it again later if we need too. Here I'm saving the parameters needed to create the same architecture, the hidden layer hyperparameters and the text characters."
      ]
    },
    {
      "cell_type": "code",
      "metadata": {
        "id": "wioIPmOZ_2Cz",
        "colab_type": "code",
        "colab": {}
      },
      "source": [
        "# change the name, for saving multiple files\n",
        "model_name = 'rnn_20_epoch.net'\n",
        "\n",
        "checkpoint = {'n_hidden': net.n_hidden,\n",
        "              'n_layers': net.n_layers,\n",
        "              'state_dict': net.state_dict(),\n",
        "              'tokens': net.chars}\n",
        "\n",
        "with open(model_name, 'wb') as f:\n",
        "    torch.save(checkpoint, f)"
      ],
      "execution_count": 17,
      "outputs": []
    },
    {
      "cell_type": "markdown",
      "metadata": {
        "id": "kxMkIuut_2C7",
        "colab_type": "text"
      },
      "source": [
        "---\n",
        "## Making Predictions\n",
        "\n",
        "Now that the model is trained, we'll want to sample from it and make predictions about next characters! To sample, we pass in a character and have the network predict the next character. Then we take that character, pass it back in, and get another predicted character. Just keep doing this and you'll generate a bunch of text!\n",
        "\n",
        "### A note on the `predict`  function\n",
        "\n",
        "The output of our RNN is from a fully-connected layer and it outputs a **distribution of next-character scores**.\n",
        "\n",
        "> To actually get the next character, we apply a softmax function, which gives us a *probability* distribution that we can then sample to predict the next character.\n",
        "\n",
        "### Top K sampling\n",
        "\n",
        "Our predictions come from a categorical probability distribution over all the possible characters. We can make the sample text and make it more reasonable to handle (with less variables) by only considering some $K$ most probable characters. This will prevent the network from giving us completely absurd characters while allowing it to introduce some noise and randomness into the sampled text. Read more about [topk, here](https://pytorch.org/docs/stable/torch.html#torch.topk).\n"
      ]
    },
    {
      "cell_type": "code",
      "metadata": {
        "id": "3feUcmke_2C8",
        "colab_type": "code",
        "colab": {}
      },
      "source": [
        "def predict(net, char, h=None, top_k=None):\n",
        "        ''' Given a character, predict the next character.\n",
        "            Returns the predicted character and the hidden state.\n",
        "        '''\n",
        "        \n",
        "        # tensor inputs\n",
        "        x = np.array([[net.char2int[char]]])\n",
        "        x = one_hot_encode(x, len(net.chars))\n",
        "        inputs = torch.from_numpy(x)\n",
        "        \n",
        "        if(train_on_gpu):\n",
        "            inputs = inputs.cuda()\n",
        "        \n",
        "        # detach hidden state from history\n",
        "        h = tuple([each.data for each in h])\n",
        "        # get the output of the model\n",
        "        out, h = net(inputs, h)\n",
        "\n",
        "        # get the character probabilities\n",
        "        p = F.softmax(out, dim=1).data\n",
        "        if(train_on_gpu):\n",
        "            p = p.cpu() # move to cpu\n",
        "        \n",
        "        # get top characters\n",
        "        if top_k is None:\n",
        "            top_ch = np.arange(len(net.chars))\n",
        "        else:\n",
        "            p, top_ch = p.topk(top_k)\n",
        "            top_ch = top_ch.numpy().squeeze()\n",
        "        \n",
        "        # select the likely next character with some element of randomness\n",
        "        p = p.numpy().squeeze()\n",
        "        char = np.random.choice(top_ch, p=p/p.sum())\n",
        "        \n",
        "        # return the encoded value of the predicted char and the hidden state\n",
        "        return net.int2char[char], h"
      ],
      "execution_count": 18,
      "outputs": []
    },
    {
      "cell_type": "markdown",
      "metadata": {
        "id": "pR1KPOW5_2DC",
        "colab_type": "text"
      },
      "source": [
        "### Priming and generating text \n",
        "\n",
        "Typically you'll want to prime the network so you can build up a hidden state. Otherwise the network will start out generating characters at random. In general the first bunch of characters will be a little rough since it hasn't built up a long history of characters to predict from."
      ]
    },
    {
      "cell_type": "code",
      "metadata": {
        "id": "tTwmaNav_2DD",
        "colab_type": "code",
        "colab": {}
      },
      "source": [
        "def sample(net, size, prime='The', top_k=None):\n",
        "        \n",
        "    if(train_on_gpu):\n",
        "        net.cuda()\n",
        "    else:\n",
        "        net.cpu()\n",
        "    \n",
        "    net.eval() # eval mode\n",
        "    \n",
        "    # First off, run through the prime characters\n",
        "    chars = [ch for ch in prime]\n",
        "    h = net.init_hidden(1)\n",
        "    for ch in prime:\n",
        "        char, h = predict(net, ch, h, top_k=top_k)\n",
        "\n",
        "    chars.append(char)\n",
        "    \n",
        "    # Now pass in the previous character and get a new one\n",
        "    for ii in range(size):\n",
        "        char, h = predict(net, chars[-1], h, top_k=top_k)\n",
        "        chars.append(char)\n",
        "\n",
        "    return ''.join(chars)"
      ],
      "execution_count": 19,
      "outputs": []
    },
    {
      "cell_type": "code",
      "metadata": {
        "id": "D7odDGyk_2DI",
        "colab_type": "code",
        "colab": {
          "base_uri": "https://localhost:8080/",
          "height": 312
        },
        "outputId": "c7786c3c-ae1d-416c-b5f5-a036791a05e3"
      },
      "source": [
        "print(sample(net, 1000, prime='Anna', top_k=5))"
      ],
      "execution_count": 20,
      "outputs": [
        {
          "output_type": "stream",
          "text": [
            "Anna said: \"Where\n",
            "is the minute,\" the same shile with a capital strength were still\n",
            "merely walking. He went to his brother's saying, he could\n",
            "not say to him; because they was taking into an extrainding his\n",
            "familiar, which was taking them of that husband to him, and that\n",
            "he should say still. And she had always could stare himself was, when he\n",
            "had not feeling to spoke and taking it a cancle and the significance\n",
            "of that her head to and was silent.\n",
            "\n",
            "She had a province on the sound of the same amidity, where he could\n",
            "not be father and still sharing in his second, when the\n",
            "moment on the carriage, still, his bare foreag, and his book he would say,\n",
            "and something whom he whoteled had not been said than she had been talking\n",
            "to a past and her. He had been stifling her face in a conception than expression of\n",
            "this sigh of talking that he wanted had already. And as they went up and she\n",
            "conscious him wousin to her. He stood at the sound of the party, showed him, and some\n",
            "of the semine. She had, at the mos\n"
          ],
          "name": "stdout"
        }
      ]
    },
    {
      "cell_type": "markdown",
      "metadata": {
        "id": "W2JBDtuP_2DN",
        "colab_type": "text"
      },
      "source": [
        "## Loading a checkpoint"
      ]
    },
    {
      "cell_type": "code",
      "metadata": {
        "id": "ePwdJ0IV_2DO",
        "colab_type": "code",
        "colab": {
          "base_uri": "https://localhost:8080/",
          "height": 34
        },
        "outputId": "e4e948ad-6886-4562-89ec-d35a0da7dfda"
      },
      "source": [
        "# Here we have loaded in a model that trained over 20 epochs `rnn_20_epoch.net`\n",
        "with open('rnn_20_epoch.net', 'rb') as f:\n",
        "    checkpoint = torch.load(f)\n",
        "    \n",
        "loaded = CharRNN(checkpoint['tokens'], n_hidden=checkpoint['n_hidden'], n_layers=checkpoint['n_layers'])\n",
        "loaded.load_state_dict(checkpoint['state_dict'])"
      ],
      "execution_count": 21,
      "outputs": [
        {
          "output_type": "execute_result",
          "data": {
            "text/plain": [
              "<All keys matched successfully>"
            ]
          },
          "metadata": {
            "tags": []
          },
          "execution_count": 21
        }
      ]
    },
    {
      "cell_type": "code",
      "metadata": {
        "id": "LzS7v6TT_2DX",
        "colab_type": "code",
        "colab": {
          "base_uri": "https://localhost:8080/",
          "height": 764
        },
        "outputId": "8baae2f9-7f80-46bf-ee22-9fb9a10be8dd"
      },
      "source": [
        "# Sample using a loaded model\n",
        "print(sample(loaded, 2000, top_k=5, prime=\"And Levin said\"))"
      ],
      "execution_count": 22,
      "outputs": [
        {
          "output_type": "stream",
          "text": [
            "And Levin said:\n",
            "\n",
            "\"You were saying. What are you thinking of the sounds of a short praces with them in it\n",
            "with him. Here we may some things, that I was not fell to say, but all, was\n",
            "so things in simple, and then they're all the particular sisters. The\n",
            "way of it. A direction.\"\n",
            "\n",
            "\"Where are are you alove is something streams of a part to the\n",
            "stind,\" said Anna, and short was something and to see a conviction\n",
            "which she called his before to the steps....\n",
            "\n",
            "\"Yes, but I had not aspachance and thank the country, in a string\n",
            "of a change to me today there's so much in my children.\"\n",
            "\n",
            "\"You can't be, and I'm not so marry it of you,\" answered Varenka, as to\n",
            "say, the countess said there was a life, who was in a sudden\n",
            "from that struck her the more there, as he was not in a\n",
            "stick, showing it was at the carriage as they were not stood off her hostiness and\n",
            "humiliation. But that she went into the point--that it was nothing to\n",
            "him. The children came up, she fanced to him to humal and strunk in her\n",
            "suffering.\n",
            "\n",
            "\"Yes, is it!\" she said.\n",
            "\n",
            "\"Why, I'm so much as something serious of inducing the better and the charm.\n",
            "And if you know, I don't trye, I don't know abritdly at the\n",
            "same thing of these conversation with me, I don't knew that years and\n",
            "they have no crush as I am all about the mandelf of her. I don't know about\n",
            "your husband in hasting.\"\n",
            "\n",
            "\"I haven't taken themeral, as it's there this well, why.... You want\n",
            "to tell yitter to such the marshal with you, before I can take a man\n",
            "of that performance of his face, but I shall got a sets of\n",
            "carryess? I don't be at through to story on the conversation, we house it\n",
            "something since he has not any simply instead of morally. Will\n",
            "he's not to be to see you,\" answered Alexey Alexandrovitch with\n",
            "ansioned besode the chair.\n",
            "\n",
            "\"You could not care on you than you about me? Itand that\n",
            "I was too, to be siling, the first district only the strange, and shall see\n",
            "you.\n",
            "And your wine are at the creature of those trains. I can't convers that he's\n",
            "but all and fill much tried,\" answer\n"
          ],
          "name": "stdout"
        }
      ]
    }
  ]
}