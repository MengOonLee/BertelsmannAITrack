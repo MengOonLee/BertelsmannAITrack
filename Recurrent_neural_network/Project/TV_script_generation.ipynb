{
  "nbformat": 4,
  "nbformat_minor": 0,
  "metadata": {
    "kernelspec": {
      "display_name": "Python [default]",
      "language": "python",
      "name": "python3"
    },
    "language_info": {
      "codemirror_mode": {
        "name": "ipython",
        "version": 3
      },
      "file_extension": ".py",
      "mimetype": "text/x-python",
      "name": "python",
      "nbconvert_exporter": "python",
      "pygments_lexer": "ipython3",
      "version": "3.6.4"
    },
    "colab": {
      "name": "dlnd_tv_script_generation.ipynb",
      "provenance": [],
      "include_colab_link": true
    },
    "accelerator": "GPU"
  },
  "cells": [
    {
      "cell_type": "markdown",
      "metadata": {
        "id": "view-in-github",
        "colab_type": "text"
      },
      "source": [
        "<a href=\"https://colab.research.google.com/github/MengOonLee/BertelsmannAITrack/blob/master/Recurrent_neural_network/Project/TV_script_generation.ipynb\" target=\"_parent\"><img src=\"https://colab.research.google.com/assets/colab-badge.svg\" alt=\"Open In Colab\"/></a>"
      ]
    },
    {
      "cell_type": "markdown",
      "metadata": {
        "id": "RAUBjmScofBJ",
        "colab_type": "text"
      },
      "source": [
        "# TV Script Generation\n",
        "\n",
        "In this project, you'll generate your own [Seinfeld](https://en.wikipedia.org/wiki/Seinfeld) TV scripts using RNNs.  You'll be using part of the [Seinfeld dataset](https://www.kaggle.com/thec03u5/seinfeld-chronicles#scripts.csv) of scripts from 9 seasons.  The Neural Network you'll build will generate a new ,\"fake\" TV script, based on patterns it recognizes in this training data.\n",
        "\n",
        "## Get the Data\n",
        "\n",
        "The data is already provided for you in `./data/Seinfeld_Scripts.txt` and you're encouraged to open that file and look at the text. \n",
        ">* As a first step, we'll load in this data and look at some samples. \n",
        "* Then, you'll be tasked with defining and training an RNN to generate a new script!"
      ]
    },
    {
      "cell_type": "code",
      "metadata": {
        "id": "l8RaR7QapT3J",
        "colab_type": "code",
        "colab": {}
      },
      "source": [
        "import os\n",
        "\n",
        "if not os.path.exists('./data'):\n",
        "  os.makedirs('./data')\n",
        "\n",
        "!wget -qO ./data/Seinfeld_Scripts.txt \"https://raw.githubusercontent.com/udacity/deep-learning-v2-pytorch/master/project-tv-script-generation/data/Seinfeld_Scripts.txt\""
      ],
      "execution_count": null,
      "outputs": []
    },
    {
      "cell_type": "code",
      "metadata": {
        "id": "SsnCnPb_r_aB",
        "colab_type": "code",
        "colab": {
          "base_uri": "https://localhost:8080/",
          "height": 34
        },
        "outputId": "7ff84c1e-0a1a-4c88-f72e-1730b328fa7c"
      },
      "source": [
        "%%file ./helper.py\n",
        "\n",
        "import os\n",
        "import pickle\n",
        "import torch\n",
        "\n",
        "\n",
        "SPECIAL_WORDS = {'PADDING': '<PAD>'}\n",
        "\n",
        "\n",
        "def load_data(path):\n",
        "    \"\"\"\n",
        "    Load Dataset from File\n",
        "    \"\"\"\n",
        "    input_file = os.path.join(path)\n",
        "    with open(input_file, \"r\") as f:\n",
        "        data = f.read()\n",
        "\n",
        "    return data\n",
        "\n",
        "\n",
        "def preprocess_and_save_data(dataset_path, token_lookup, create_lookup_tables):\n",
        "    \"\"\"\n",
        "    Preprocess Text Data\n",
        "    \"\"\"\n",
        "    text = load_data(dataset_path)\n",
        "    \n",
        "    # Ignore notice, since we don't use it for analysing the data\n",
        "    text = text[81:]\n",
        "\n",
        "    token_dict = token_lookup()\n",
        "    for key, token in token_dict.items():\n",
        "        text = text.replace(key, ' {} '.format(token))\n",
        "\n",
        "    text = text.lower()\n",
        "    text = text.split()\n",
        "\n",
        "    vocab_to_int, int_to_vocab = create_lookup_tables(text + list(SPECIAL_WORDS.values()))\n",
        "    int_text = [vocab_to_int[word] for word in text]\n",
        "    pickle.dump((int_text, vocab_to_int, int_to_vocab, token_dict), open('preprocess.p', 'wb'))\n",
        "\n",
        "\n",
        "def load_preprocess():\n",
        "    \"\"\"\n",
        "    Load the Preprocessed Training data and return them in batches of <batch_size> or less\n",
        "    \"\"\"\n",
        "    return pickle.load(open('preprocess.p', mode='rb'))\n",
        "\n",
        "\n",
        "def save_model(filename, decoder):\n",
        "    save_filename = os.path.splitext(os.path.basename(filename))[0] + '.pt'\n",
        "    torch.save(decoder, save_filename)\n",
        "\n",
        "\n",
        "def load_model(filename):\n",
        "    save_filename = os.path.splitext(os.path.basename(filename))[0] + '.pt'\n",
        "    return torch.load(save_filename)"
      ],
      "execution_count": null,
      "outputs": [
        {
          "output_type": "stream",
          "text": [
            "Writing ./helper.py\n"
          ],
          "name": "stdout"
        }
      ]
    },
    {
      "cell_type": "code",
      "metadata": {
        "id": "9WapG62yofBT",
        "colab_type": "code",
        "colab": {}
      },
      "source": [
        "\"\"\"\n",
        "DON'T MODIFY ANYTHING IN THIS CELL\n",
        "\"\"\"\n",
        "# load in data\n",
        "import helper\n",
        "data_dir = './data/Seinfeld_Scripts.txt'\n",
        "text = helper.load_data(data_dir)"
      ],
      "execution_count": null,
      "outputs": []
    },
    {
      "cell_type": "markdown",
      "metadata": {
        "id": "LV8yb9tAofBj",
        "colab_type": "text"
      },
      "source": [
        "## Explore the Data\n",
        "Play around with `view_line_range` to view different parts of the data. This will give you a sense of the data you'll be working with. You can see, for example, that it is all lowercase text, and each new line of dialogue is separated by a newline character `\\n`."
      ]
    },
    {
      "cell_type": "code",
      "metadata": {
        "id": "pUxsTSo6ofBl",
        "colab_type": "code",
        "colab": {
          "base_uri": "https://localhost:8080/",
          "height": 309
        },
        "outputId": "309647b1-f5d3-423a-c7f2-efbf2202bd2e"
      },
      "source": [
        "view_line_range = (0, 10)\n",
        "\n",
        "\"\"\"\n",
        "DON'T MODIFY ANYTHING IN THIS CELL THAT IS BELOW THIS LINE\n",
        "\"\"\"\n",
        "import numpy as np\n",
        "\n",
        "print('Dataset Stats')\n",
        "print('Roughly the number of unique words: {}'.format(len({word: None for word in text.split()})))\n",
        "\n",
        "lines = text.split('\\n')\n",
        "print('Number of lines: {}'.format(len(lines)))\n",
        "word_count_line = [len(line.split()) for line in lines]\n",
        "print('Average number of words in each line: {}'.format(np.average(word_count_line)))\n",
        "\n",
        "print()\n",
        "print('The lines {} to {}:'.format(*view_line_range))\n",
        "print('\\n'.join(text.split('\\n')[view_line_range[0]:view_line_range[1]]))"
      ],
      "execution_count": null,
      "outputs": [
        {
          "output_type": "stream",
          "text": [
            "Dataset Stats\n",
            "Roughly the number of unique words: 46367\n",
            "Number of lines: 109233\n",
            "Average number of words in each line: 5.544240293684143\n",
            "\n",
            "The lines 0 to 10:\n",
            "jerry: do you know what this is all about? do you know, why were here? to be out, this is out...and out is one of the single most enjoyable experiences of life. people...did you ever hear people talking about we should go out? this is what theyre talking about...this whole thing, were all out now, no one is home. not one person here is home, were all out! there are people trying to find us, they dont know where we are. (on an imaginary phone) did you ring?, i cant find him. where did he go? he didnt tell me where he was going. he must have gone out. you wanna go out you get ready, you pick out the clothes, right? you take the shower, you get all ready, get the cash, get your friends, the car, the spot, the reservation...then youre standing around, what do you do? you go we gotta be getting back. once youre out, you wanna get back! you wanna go to sleep, you wanna get up, you wanna go out again tomorrow, right? where ever you are in life, its my feeling, youve gotta go. \n",
            "\n",
            "jerry: (pointing at georges shirt) see, to me, that button is in the worst possible spot. the second button literally makes or breaks the shirt, look at it. its too high! its in no-mans-land. you look like you live with your mother. \n",
            "\n",
            "george: are you through? \n",
            "\n",
            "jerry: you do of course try on, when you buy? \n",
            "\n",
            "george: yes, it was purple, i liked it, i dont actually recall considering the buttons. \n",
            "\n"
          ],
          "name": "stdout"
        }
      ]
    },
    {
      "cell_type": "code",
      "metadata": {
        "id": "-XJaXr1dtApR",
        "colab_type": "code",
        "colab": {
          "base_uri": "https://localhost:8080/",
          "height": 34
        },
        "outputId": "1edd74dd-34cd-4d0e-bdc2-6c6da201f866"
      },
      "source": [
        "%%file ./problem_unittests.py\n",
        "\n",
        "from unittest.mock import MagicMock, patch\n",
        "import numpy as np\n",
        "import torch\n",
        "\n",
        "\n",
        "class _TestNN(torch.nn.Module):\n",
        "    def __init__(self, input_size, output_size):\n",
        "        super(_TestNN, self).__init__()\n",
        "        self.decoder = torch.nn.Linear(input_size, output_size)\n",
        "        self.forward_called = False\n",
        "    \n",
        "    def forward(self, nn_input, hidden):\n",
        "        self.forward_called = True\n",
        "        output = self.decoder(nn_input)\n",
        "        \n",
        "        return output, hidden\n",
        "\n",
        "\n",
        "def _print_success_message():\n",
        "    print('Tests Passed')\n",
        "\n",
        "\n",
        "class AssertTest(object):\n",
        "    def __init__(self, params):\n",
        "        self.assert_param_message = '\\n'.join([str(k) + ': ' + str(v) + '' for k, v in params.items()])\n",
        "    \n",
        "    def test(self, assert_condition, assert_message):\n",
        "        assert assert_condition, assert_message + '\\n\\nUnit Test Function Parameters\\n' + self.assert_param_message\n",
        "\n",
        "\n",
        "def test_create_lookup_tables(create_lookup_tables):\n",
        "    test_text = '''\n",
        "        Moe_Szyslak Moe's Tavern Where the elite meet to drink\n",
        "        Bart_Simpson Eh yeah hello is Mike there Last name Rotch\n",
        "        Moe_Szyslak Hold on I'll check Mike Rotch Mike Rotch Hey has anybody seen Mike Rotch lately\n",
        "        Moe_Szyslak Listen you little puke One of these days I'm gonna catch you and I'm gonna carve my name on your back with an ice pick\n",
        "        Moe_Szyslak Whats the matter Homer You're not your normal effervescent self\n",
        "        Homer_Simpson I got my problems Moe Give me another one\n",
        "        Moe_Szyslak Homer hey you should not drink to forget your problems\n",
        "        Barney_Gumble Yeah you should only drink to enhance your social skills'''\n",
        "    \n",
        "    test_text = test_text.lower()\n",
        "    test_text = test_text.split()\n",
        "    \n",
        "    vocab_to_int, int_to_vocab = create_lookup_tables(test_text)\n",
        "    \n",
        "    # Check types\n",
        "    assert isinstance(vocab_to_int, dict),\\\n",
        "        'vocab_to_int is not a dictionary.'\n",
        "    assert isinstance(int_to_vocab, dict),\\\n",
        "        'int_to_vocab is not a dictionary.'\n",
        "    \n",
        "    # Compare lengths of dicts\n",
        "    assert len(vocab_to_int) == len(int_to_vocab),\\\n",
        "        'Length of vocab_to_int and int_to_vocab don\\'t match. ' \\\n",
        "        'vocab_to_int is length {}. int_to_vocab is length {}'.format(len(vocab_to_int), len(int_to_vocab))\n",
        "\n",
        "    # Make sure the dicts have the same words\n",
        "    vocab_to_int_word_set = set(vocab_to_int.keys())\n",
        "    int_to_vocab_word_set = set(int_to_vocab.values())\n",
        "\n",
        "    assert not (vocab_to_int_word_set - int_to_vocab_word_set),\\\n",
        "    'vocab_to_int and int_to_vocab don\\'t have the same words.' \\\n",
        "        '{} found in vocab_to_int, but not in int_to_vocab'.format(vocab_to_int_word_set - int_to_vocab_word_set)\n",
        "    assert not (int_to_vocab_word_set - vocab_to_int_word_set),\\\n",
        "        'vocab_to_int and int_to_vocab don\\'t have the same words.' \\\n",
        "        '{} found in int_to_vocab, but not in vocab_to_int'.format(int_to_vocab_word_set - vocab_to_int_word_set)\n",
        "    \n",
        "    # Make sure the dicts have the same word ids\n",
        "    vocab_to_int_word_id_set = set(vocab_to_int.values())\n",
        "    int_to_vocab_word_id_set = set(int_to_vocab.keys())\n",
        "    \n",
        "    assert not (vocab_to_int_word_id_set - int_to_vocab_word_id_set),\\\n",
        "        'vocab_to_int and int_to_vocab don\\'t contain the same word ids.' \\\n",
        "        '{} found in vocab_to_int, but not in int_to_vocab'.format(vocab_to_int_word_id_set - int_to_vocab_word_id_set)\n",
        "    assert not (int_to_vocab_word_id_set - vocab_to_int_word_id_set),\\\n",
        "        'vocab_to_int and int_to_vocab don\\'t contain the same word ids.' \\\n",
        "        '{} found in int_to_vocab, but not in vocab_to_int'.format(int_to_vocab_word_id_set - vocab_to_int_word_id_set)\n",
        "    \n",
        "    # Make sure the dicts make the same lookup\n",
        "    missmatches = [(word, id, id, int_to_vocab[id]) for word, id in vocab_to_int.items() if int_to_vocab[id] != word]\n",
        "    \n",
        "    assert not missmatches,\\\n",
        "        'Found {} missmatche(s). First missmatch: vocab_to_int[{}] = {} and int_to_vocab[{}] = {}'.format(len(missmatches),\n",
        "                                                                                                          *missmatches[0])\n",
        "    \n",
        "    assert len(vocab_to_int) > len(set(test_text))/2,\\\n",
        "        'The length of vocab seems too small.  Found a length of {}'.format(len(vocab_to_int))\n",
        "    \n",
        "    _print_success_message()\n",
        "\n",
        "\n",
        "def test_tokenize(token_lookup):\n",
        "    symbols = set(['.', ',', '\"', ';', '!', '?', '(', ')', '-', '\\n'])\n",
        "    token_dict = token_lookup()\n",
        "    \n",
        "    # Check type\n",
        "    assert isinstance(token_dict, dict), \\\n",
        "        'Returned type is {}.'.format(type(token_dict))\n",
        "\n",
        "    # Check symbols\n",
        "    missing_symbols = symbols - set(token_dict.keys())\n",
        "    unknown_symbols = set(token_dict.keys()) - symbols\n",
        "\n",
        "    assert not missing_symbols, \\\n",
        "    'Missing symbols: {}'.format(missing_symbols)\n",
        "    assert not unknown_symbols, \\\n",
        "        'Unknown symbols: {}'.format(unknown_symbols)\n",
        "\n",
        "    # Check values type\n",
        "    bad_value_type = [type(val) for val in token_dict.values() if not isinstance(val, str)]\n",
        "    \n",
        "    assert not bad_value_type,\\\n",
        "        'Found token as {} type.'.format(bad_value_type[0])\n",
        "\n",
        "    # Check for spaces\n",
        "    key_has_spaces = [k for k in token_dict.keys() if ' ' in k]\n",
        "    val_has_spaces = [val for val in token_dict.values() if ' ' in val]\n",
        "    \n",
        "    assert not key_has_spaces,\\\n",
        "        'The key \"{}\" includes spaces. Remove spaces from keys and values'.format(key_has_spaces[0])\n",
        "    assert not val_has_spaces,\\\n",
        "    'The value \"{}\" includes spaces. Remove spaces from keys and values'.format(val_has_spaces[0])\n",
        "    \n",
        "    # Check for symbols in values\n",
        "    symbol_val = ()\n",
        "    for symbol in symbols:\n",
        "        for val in token_dict.values():\n",
        "            if symbol in val:\n",
        "                symbol_val = (symbol, val)\n",
        "\n",
        "    assert not symbol_val,\\\n",
        "    'Don\\'t use a symbol that will be replaced in your tokens. Found the symbol {} in value {}'.format(*symbol_val)\n",
        "    \n",
        "    _print_success_message()\n",
        "\n",
        "\n",
        "def test_rnn(RNN, train_on_gpu):\n",
        "    batch_size = 50\n",
        "    sequence_length = 3\n",
        "    vocab_size = 20\n",
        "    output_size=20\n",
        "    embedding_dim=15\n",
        "    hidden_dim = 10\n",
        "    n_layers = 2\n",
        "    \n",
        "    # create test RNN\n",
        "    # params: (vocab_size, output_size, embedding_dim, hidden_dim, n_layers)\n",
        "    rnn = RNN(vocab_size, output_size, embedding_dim, hidden_dim, n_layers)\n",
        "    \n",
        "    # create test input\n",
        "    a = np.random.randint(vocab_size, size=(batch_size, sequence_length))\n",
        "    #b = torch.LongTensor(a)\n",
        "    b = torch.from_numpy(a)\n",
        "    hidden = rnn.init_hidden(batch_size)\n",
        "    \n",
        "    if(train_on_gpu):\n",
        "        rnn.cuda()\n",
        "        b = b.cuda()\n",
        "    \n",
        "    output, hidden_out = rnn(b, hidden)\n",
        "    \n",
        "    assert_test = AssertTest({\n",
        "                             'Input Size': vocab_size,\n",
        "                             'Output Size': output_size,\n",
        "                             'Hidden Dim': hidden_dim,\n",
        "                             'N Layers': n_layers,\n",
        "                             'Batch Size': batch_size,\n",
        "                             'Sequence Length': sequence_length,\n",
        "                             'Input': b})\n",
        "    \n",
        "    # initialization\n",
        "    correct_hidden_size = (n_layers, batch_size, hidden_dim)\n",
        "    \n",
        "    if type(hidden) == tuple:\n",
        "        # LSTM\n",
        "        assert_condition = hidden[0].size() == correct_hidden_size\n",
        "    else:\n",
        "        # GRU\n",
        "        assert_condition = hidden.size() == correct_hidden_size\n",
        "\n",
        "    assert_message = 'Wrong hidden state size. Expected type {}. Got type {}'.format(correct_hidden_size, hidden[0].size())\n",
        "    assert_test.test(assert_condition, assert_message)\n",
        "    \n",
        "    # output of rnn\n",
        "    correct_hidden_size = (n_layers, batch_size, hidden_dim)\n",
        "    \n",
        "    if type(hidden) == tuple:\n",
        "        # LSTM        \n",
        "        assert_condition = hidden_out[0].size() == correct_hidden_size\n",
        "    else:\n",
        "        # GRU\n",
        "        assert_condition = hidden_out.size() == correct_hidden_size\n",
        "\n",
        "    assert_message = 'Wrong hidden state size. Expected type {}. Got type {}'.format(correct_hidden_size, hidden_out[0].size())\n",
        "    assert_test.test(assert_condition, assert_message)\n",
        "    \n",
        "    correct_output_size = (batch_size, output_size)\n",
        "    assert_condition = output.size() == correct_output_size\n",
        "    assert_message = 'Wrong output size. Expected type {}. Got type {}'.format(correct_output_size, output.size())\n",
        "    assert_test.test(assert_condition, assert_message)\n",
        "    \n",
        "    _print_success_message()\n",
        "\n",
        "\n",
        "def test_forward_back_prop(RNN, forward_back_prop, train_on_gpu):\n",
        "    batch_size = 200\n",
        "    input_size = 20\n",
        "    output_size = 10\n",
        "    sequence_length = 3\n",
        "    embedding_dim=15\n",
        "    hidden_dim = 10\n",
        "    n_layers = 2\n",
        "    learning_rate = 0.01\n",
        "    \n",
        "    # create test RNN\n",
        "    rnn = RNN(input_size, output_size, embedding_dim, hidden_dim, n_layers)\n",
        "    \n",
        "    mock_decoder = MagicMock(wraps=_TestNN(input_size, output_size))\n",
        "    if train_on_gpu:\n",
        "        mock_decoder.cuda()\n",
        "    \n",
        "    mock_decoder_optimizer = MagicMock(wraps=torch.optim.Adam(mock_decoder.parameters(), lr=learning_rate))\n",
        "    mock_criterion = MagicMock(wraps=torch.nn.CrossEntropyLoss())\n",
        "    \n",
        "    with patch.object(torch.autograd, 'backward', wraps=torch.autograd.backward) as mock_autograd_backward:\n",
        "        inp = torch.FloatTensor(np.random.rand(batch_size, input_size))\n",
        "        target = torch.LongTensor(np.random.randint(output_size, size=batch_size))\n",
        "        \n",
        "        hidden = rnn.init_hidden(batch_size)\n",
        "        \n",
        "        loss, hidden_out = forward_back_prop(mock_decoder, mock_decoder_optimizer, mock_criterion, inp, target, hidden)\n",
        "    \n",
        "    if type(hidden_out) == tuple:\n",
        "        # LSTM\n",
        "        assert (hidden_out[0][0]==hidden[0][0]).sum()==batch_size*hidden_dim, 'Returned hidden state is the incorrect size.'\n",
        "    else:\n",
        "        # GRU\n",
        "        assert (hidden_out[0]==hidden[0]).sum()==batch_size*hidden_dim, 'Returned hidden state is the incorrect size.'\n",
        "    \n",
        "    assert mock_decoder.zero_grad.called or mock_decoder_optimizer.zero_grad.called, 'Didn\\'t set the gradients to 0.'\n",
        "    assert mock_decoder.forward_called, 'Forward propagation not called.'\n",
        "    assert mock_autograd_backward.called, 'Backward propagation not called'\n",
        "    assert mock_decoder_optimizer.step.called, 'Optimization step not performed'\n",
        "    assert type(loss) == float, 'Wrong return type. Expected {}, got {}'.format(float, type(loss))\n",
        "    \n",
        "    _print_success_message()"
      ],
      "execution_count": null,
      "outputs": [
        {
          "output_type": "stream",
          "text": [
            "Writing ./problem_unittests.py\n"
          ],
          "name": "stdout"
        }
      ]
    },
    {
      "cell_type": "markdown",
      "metadata": {
        "id": "ND6eMsSKofBu",
        "colab_type": "text"
      },
      "source": [
        "---\n",
        "## Implement Pre-processing Functions\n",
        "The first thing to do to any dataset is pre-processing.  Implement the following pre-processing functions below:\n",
        "- Lookup Table\n",
        "- Tokenize Punctuation\n",
        "\n",
        "### Lookup Table\n",
        "To create a word embedding, you first need to transform the words to ids.  In this function, create two dictionaries:\n",
        "- Dictionary to go from the words to an id, we'll call `vocab_to_int`\n",
        "- Dictionary to go from the id to word, we'll call `int_to_vocab`\n",
        "\n",
        "Return these dictionaries in the following **tuple** `(vocab_to_int, int_to_vocab)`"
      ]
    },
    {
      "cell_type": "code",
      "metadata": {
        "id": "kw9jp6ANofBv",
        "colab_type": "code",
        "colab": {
          "base_uri": "https://localhost:8080/",
          "height": 34
        },
        "outputId": "17b3bbde-2d59-49ad-8ea4-8411c2032131"
      },
      "source": [
        "import problem_unittests as tests\n",
        "from collections import Counter\n",
        "\n",
        "def create_lookup_tables(text):\n",
        "    \"\"\"\n",
        "    Create lookup tables for vocabulary\n",
        "    :param text: The text of tv scripts split into words\n",
        "    :return: A tuple of dicts (vocab_to_int, int_to_vocab)\n",
        "    \"\"\"\n",
        "    # TODO: Implement Function\n",
        "    word_counts = Counter(text)\n",
        "    # Sorting the words from most to least frequent in text occurrence\n",
        "    sorted_vocab = sorted(word_counts, key=word_counts.get, reverse=True)\n",
        "    # Create int_to_vocab dictionaries\n",
        "    int_to_vocab = {ii: word for ii, word in enumerate(sorted_vocab)}\n",
        "    # Create vocab_to_int dictionaries\n",
        "    vocab_to_int = {word: ii for ii, word in int_to_vocab.items()}\n",
        "    # return tuple\n",
        "    return (vocab_to_int, int_to_vocab)\n",
        "\n",
        "\n",
        "\"\"\"\n",
        "DON'T MODIFY ANYTHING IN THIS CELL THAT IS BELOW THIS LINE\n",
        "\"\"\"\n",
        "tests.test_create_lookup_tables(create_lookup_tables)"
      ],
      "execution_count": null,
      "outputs": [
        {
          "output_type": "stream",
          "text": [
            "Tests Passed\n"
          ],
          "name": "stdout"
        }
      ]
    },
    {
      "cell_type": "markdown",
      "metadata": {
        "id": "kHaY2ZY4ofB3",
        "colab_type": "text"
      },
      "source": [
        "### Tokenize Punctuation\n",
        "We'll be splitting the script into a word array using spaces as delimiters.  However, punctuations like periods and exclamation marks can create multiple ids for the same word. For example, \"bye\" and \"bye!\" would generate two different word ids.\n",
        "\n",
        "Implement the function `token_lookup` to return a dict that will be used to tokenize symbols like \"!\" into \"||Exclamation_Mark||\".  Create a dictionary for the following symbols where the symbol is the key and value is the token:\n",
        "- Period ( **.** )\n",
        "- Comma ( **,** )\n",
        "- Quotation Mark ( **\"** )\n",
        "- Semicolon ( **;** )\n",
        "- Exclamation mark ( **!** )\n",
        "- Question mark ( **?** )\n",
        "- Left Parentheses ( **(** )\n",
        "- Right Parentheses ( **)** )\n",
        "- Dash ( **-** )\n",
        "- Return ( **\\n** )\n",
        "\n",
        "This dictionary will be used to tokenize the symbols and add the delimiter (space) around it.  This separates each symbols as its own word, making it easier for the neural network to predict the next word. Make sure you don't use a value that could be confused as a word; for example, instead of using the value \"dash\", try using something like \"||dash||\"."
      ]
    },
    {
      "cell_type": "code",
      "metadata": {
        "id": "mR4JgBMCofB5",
        "colab_type": "code",
        "colab": {
          "base_uri": "https://localhost:8080/",
          "height": 34
        },
        "outputId": "1f750bf7-3933-43bf-c7f0-4b11ffc89fd7"
      },
      "source": [
        "def token_lookup():\n",
        "    \"\"\"\n",
        "    Generate a dict to turn punctuation into a token.\n",
        "    :return: Tokenized dictionary where the key is the punctuation and the value is the token\n",
        "    \"\"\"\n",
        "    # TODO: Implement Function\n",
        "    token = {'.' : '||PERIOD||',\n",
        "             ',' : '||COMMA||',\n",
        "             '\"' : '||QUOTATION_MARK||',\n",
        "             ';' : '||SEMICOLON||',\n",
        "             '!' : '||EXCLAMATION_MARK||',\n",
        "             '?' : '||QUESTION_MARK||',\n",
        "             '(' : '||LEFT_PARENTHESES||',\n",
        "             ')' : '||RIGHT_PARENTHESES||',\n",
        "             '-' : '||DASH||',\n",
        "             '\\n' : '||RETURN||'}\n",
        "        \n",
        "    return token\n",
        "\n",
        "\"\"\"\n",
        "DON'T MODIFY ANYTHING IN THIS CELL THAT IS BELOW THIS LINE\n",
        "\"\"\"\n",
        "tests.test_tokenize(token_lookup)"
      ],
      "execution_count": null,
      "outputs": [
        {
          "output_type": "stream",
          "text": [
            "Tests Passed\n"
          ],
          "name": "stdout"
        }
      ]
    },
    {
      "cell_type": "markdown",
      "metadata": {
        "id": "UB-VZfyjofCE",
        "colab_type": "text"
      },
      "source": [
        "## Pre-process all the data and save it\n",
        "\n",
        "Running the code cell below will pre-process all the data and save it to file. You're encouraged to look at the code for `preprocess_and_save_data` in the `helpers.py` file to see what it's doing in detail, but you do not need to change this code."
      ]
    },
    {
      "cell_type": "code",
      "metadata": {
        "id": "cS_OMOL3ofCG",
        "colab_type": "code",
        "colab": {}
      },
      "source": [
        "\"\"\"\n",
        "DON'T MODIFY ANYTHING IN THIS CELL\n",
        "\"\"\"\n",
        "# pre-process training data\n",
        "helper.preprocess_and_save_data(data_dir, token_lookup, create_lookup_tables)"
      ],
      "execution_count": null,
      "outputs": []
    },
    {
      "cell_type": "markdown",
      "metadata": {
        "id": "0sB0m9BCofCQ",
        "colab_type": "text"
      },
      "source": [
        "# Check Point\n",
        "This is your first checkpoint. If you ever decide to come back to this notebook or have to restart the notebook, you can start from here. The preprocessed data has been saved to disk."
      ]
    },
    {
      "cell_type": "code",
      "metadata": {
        "id": "C0fL7OvFofCR",
        "colab_type": "code",
        "colab": {}
      },
      "source": [
        "\"\"\"\n",
        "DON'T MODIFY ANYTHING IN THIS CELL\n",
        "\"\"\"\n",
        "import helper\n",
        "import problem_unittests as tests\n",
        "\n",
        "int_text, vocab_to_int, int_to_vocab, token_dict = helper.load_preprocess()"
      ],
      "execution_count": null,
      "outputs": []
    },
    {
      "cell_type": "markdown",
      "metadata": {
        "id": "S6bO759bofCb",
        "colab_type": "text"
      },
      "source": [
        "## Build the Neural Network\n",
        "In this section, you'll build the components necessary to build an RNN by implementing the RNN Module and forward and backpropagation functions.\n",
        "\n",
        "### Check Access to GPU"
      ]
    },
    {
      "cell_type": "code",
      "metadata": {
        "id": "sVCyKigpofCd",
        "colab_type": "code",
        "colab": {
          "base_uri": "https://localhost:8080/",
          "height": 34
        },
        "outputId": "9ca04637-eb92-4a6e-f77f-4a7b7a68d7cb"
      },
      "source": [
        "\"\"\"\n",
        "DON'T MODIFY ANYTHING IN THIS CELL\n",
        "\"\"\"\n",
        "import torch\n",
        "\n",
        "# Check for a GPU\n",
        "train_on_gpu = torch.cuda.is_available()\n",
        "if not train_on_gpu:\n",
        "    print('No GPU found. Please use a GPU to train your neural network.')"
      ],
      "execution_count": null,
      "outputs": [
        {
          "output_type": "stream",
          "text": [
            "No GPU found. Please use a GPU to train your neural network.\n"
          ],
          "name": "stdout"
        }
      ]
    },
    {
      "cell_type": "markdown",
      "metadata": {
        "id": "4gXt1fPdofCo",
        "colab_type": "text"
      },
      "source": [
        "## Input\n",
        "Let's start with the preprocessed input data. We'll use [TensorDataset](http://pytorch.org/docs/master/data.html#torch.utils.data.TensorDataset) to provide a known format to our dataset; in combination with [DataLoader](http://pytorch.org/docs/master/data.html#torch.utils.data.DataLoader), it will handle batching, shuffling, and other dataset iteration functions.\n",
        "\n",
        "You can create data with TensorDataset by passing in feature and target tensors. Then create a DataLoader as usual.\n",
        "```\n",
        "data = TensorDataset(feature_tensors, target_tensors)\n",
        "data_loader = torch.utils.data.DataLoader(data, \n",
        "                                          batch_size=batch_size)\n",
        "```\n",
        "\n",
        "### Batching\n",
        "Implement the `batch_data` function to batch `words` data into chunks of size `batch_size` using the `TensorDataset` and `DataLoader` classes.\n",
        "\n",
        ">You can batch words using the DataLoader, but it will be up to you to create `feature_tensors` and `target_tensors` of the correct size and content for a given `sequence_length`.\n",
        "\n",
        "For example, say we have these as input:\n",
        "```\n",
        "words = [1, 2, 3, 4, 5, 6, 7]\n",
        "sequence_length = 4\n",
        "```\n",
        "\n",
        "Your first `feature_tensor` should contain the values:\n",
        "```\n",
        "[1, 2, 3, 4]\n",
        "```\n",
        "And the corresponding `target_tensor` should just be the next \"word\"/tokenized word value:\n",
        "```\n",
        "5\n",
        "```\n",
        "This should continue with the second `feature_tensor`, `target_tensor` being:\n",
        "```\n",
        "[2, 3, 4, 5]  # features\n",
        "6             # target\n",
        "```"
      ]
    },
    {
      "cell_type": "code",
      "metadata": {
        "id": "78nFL8KCofCp",
        "colab_type": "code",
        "colab": {
          "base_uri": "https://localhost:8080/",
          "height": 323
        },
        "outputId": "7f5bf46f-345d-4b13-96d5-3f3304611074"
      },
      "source": [
        "from torch.utils.data import TensorDataset, DataLoader\n",
        "from torch.utils.data.sampler import SubsetRandomSampler\n",
        "\n",
        "def batch_data(words, sequence_length, batch_size):\n",
        "    \"\"\"\n",
        "    Batch the neural network data using DataLoader\n",
        "    :param words: The word ids of the TV scripts\n",
        "    :param sequence_length: The sequence length of each batch\n",
        "    :param batch_size: The size of each batch; the number of sequences in a batch\n",
        "    :return: DataLoader with batched data\n",
        "    \"\"\"\n",
        "    # TODO: Implement function\n",
        "    feature, target = [], []\n",
        "    # iterate through the words\n",
        "    for idx in range(0, len(words)-sequence_length):\n",
        "      # Feature\n",
        "      feature.append(words[idx:idx+sequence_length])\n",
        "      # Target shifted by one\n",
        "      target.append(words[idx+sequence_length])\n",
        "\n",
        "    feature_tensor = torch.from_numpy(np.array(feature))\n",
        "    target_tensor = torch.from_numpy(np.array(target))\n",
        "    data = TensorDataset(feature_tensor, target_tensor)\n",
        "    \n",
        "    # obtain training indices that will be used for validation\n",
        "    dataset_size = len(data)\n",
        "    indices = list(range(dataset_size))\n",
        "    # np.random.seed(42)\n",
        "    np.random.shuffle(indices)\n",
        "    # percentage of training set to use as validation\n",
        "    valid_size = 0.1\n",
        "    split = int(np.floor(valid_size * dataset_size))\n",
        "    train_idx, valid_idx = indices[split:], indices[:split]\n",
        "\n",
        "    # define samplers for obtaining training and validation batches\n",
        "    train_sampler = SubsetRandomSampler(train_idx)\n",
        "    valid_sampler = SubsetRandomSampler(valid_idx)\n",
        "\n",
        "    # prepare data loaders (combine dataset and sampler)\n",
        "    train_loader = DataLoader(data, batch_size=batch_size, sampler=train_sampler)\n",
        "    valid_loader = DataLoader(data, batch_size=batch_size, sampler=valid_sampler)\n",
        "\n",
        "    # return a dataloader\n",
        "    return train_loader, valid_loader\n",
        "\n",
        "# there is no test for this function, but you are encouraged to create\n",
        "# print statements and tests of your own\n",
        "train_loader, valid_loader = batch_data(int_text, sequence_length=5, batch_size=10)\n",
        "\n",
        "# print out the length of resultant split data\n",
        "print(\"Training set: \\t\\t{}\".format(len(train_loader.sampler)),\n",
        "    \"\\nValidation set: \\t{}\".format(len(valid_loader.sampler)))\n",
        "\n",
        "valid_loader = iter(valid_loader)\n",
        "sample_x, sample_y = valid_loader.next()\n",
        "\n",
        "print('Sample feature size: ', sample_x.size()) # batch_size, seq_length\n",
        "print('Sample feature: \\n', sample_x)\n",
        "print()\n",
        "print('Sample target size: ', sample_y.size()) # batch_size\n",
        "print('Sample target: \\n', sample_y)"
      ],
      "execution_count": null,
      "outputs": [
        {
          "output_type": "stream",
          "text": [
            "Training set: \t\t802895 \n",
            "Validation set: \t89210\n",
            "Sample feature size:  torch.Size([10, 5])\n",
            "Sample feature: \n",
            " tensor([[   22,   184,    28,     6,   172],\n",
            "        [    0,     7,     5,    70,    67],\n",
            "        [   50,   151,   754,    28,    25],\n",
            "        [   29,    26,     2,    68,   387],\n",
            "        [    2,   357,    50,     1,     0],\n",
            "        [   43,    31,    45,    88,   167],\n",
            "        [    1,     1,     0,     0,  1866],\n",
            "        [   24,  1668,    23, 19755,    46],\n",
            "        [    2,   758,    24,   293,     9],\n",
            "        [  775,  1694,    32,     2,   114]])\n",
            "\n",
            "Sample target size:  torch.Size([10])\n",
            "Sample target: \n",
            " tensor([  12,    9,    2,  119,    0,    4,  543,    9, 1623,   35])\n"
          ],
          "name": "stdout"
        }
      ]
    },
    {
      "cell_type": "markdown",
      "metadata": {
        "id": "ORNAAU9VofCx",
        "colab_type": "text"
      },
      "source": [
        "### Test your dataloader \n",
        "\n",
        "You'll have to modify this code to test a batching function, but it should look fairly similar.\n",
        "\n",
        "Below, we're generating some test text data and defining a dataloader using the function you defined, above. Then, we are getting some sample batch of inputs `sample_x` and targets `sample_y` from our dataloader.\n",
        "\n",
        "Your code should return something like the following (likely in a different order, if you shuffled your data):\n",
        "\n",
        "```\n",
        "torch.Size([10, 5])\n",
        "tensor([[ 28,  29,  30,  31,  32],\n",
        "        [ 21,  22,  23,  24,  25],\n",
        "        [ 17,  18,  19,  20,  21],\n",
        "        [ 34,  35,  36,  37,  38],\n",
        "        [ 11,  12,  13,  14,  15],\n",
        "        [ 23,  24,  25,  26,  27],\n",
        "        [  6,   7,   8,   9,  10],\n",
        "        [ 38,  39,  40,  41,  42],\n",
        "        [ 25,  26,  27,  28,  29],\n",
        "        [  7,   8,   9,  10,  11]])\n",
        "\n",
        "torch.Size([10])\n",
        "tensor([ 33,  26,  22,  39,  16,  28,  11,  43,  30,  12])\n",
        "```\n",
        "\n",
        "### Sizes\n",
        "Your sample_x should be of size `(batch_size, sequence_length)` or (10, 5) in this case and sample_y should just have one dimension: batch_size (10). \n",
        "\n",
        "### Values\n",
        "\n",
        "You should also notice that the targets, sample_y, are the *next* value in the ordered test_text data. So, for an input sequence `[ 28,  29,  30,  31,  32]` that ends with the value `32`, the corresponding output should be `33`."
      ]
    },
    {
      "cell_type": "code",
      "metadata": {
        "id": "7bsvINe-ofCz",
        "colab_type": "code",
        "colab": {
          "base_uri": "https://localhost:8080/",
          "height": 255
        },
        "outputId": "9585abd4-33c8-4855-9b26-831df4a218ab"
      },
      "source": [
        "# test dataloader\n",
        "\n",
        "test_text = range(50)\n",
        "t_loader, _ = batch_data(test_text, sequence_length=5, batch_size=10)\n",
        "\n",
        "data_iter = iter(t_loader)\n",
        "sample_x, sample_y = data_iter.next()\n",
        "\n",
        "print(sample_x.shape)\n",
        "print(sample_x)\n",
        "print()\n",
        "print(sample_y.shape)\n",
        "print(sample_y)"
      ],
      "execution_count": null,
      "outputs": [
        {
          "output_type": "stream",
          "text": [
            "torch.Size([10, 5])\n",
            "tensor([[ 3,  4,  5,  6,  7],\n",
            "        [ 0,  1,  2,  3,  4],\n",
            "        [14, 15, 16, 17, 18],\n",
            "        [26, 27, 28, 29, 30],\n",
            "        [35, 36, 37, 38, 39],\n",
            "        [18, 19, 20, 21, 22],\n",
            "        [ 2,  3,  4,  5,  6],\n",
            "        [33, 34, 35, 36, 37],\n",
            "        [34, 35, 36, 37, 38],\n",
            "        [42, 43, 44, 45, 46]])\n",
            "\n",
            "torch.Size([10])\n",
            "tensor([ 8,  5, 19, 31, 40, 23,  7, 38, 39, 47])\n"
          ],
          "name": "stdout"
        }
      ]
    },
    {
      "cell_type": "markdown",
      "metadata": {
        "id": "j2E_DWbrofC9",
        "colab_type": "text"
      },
      "source": [
        "---\n",
        "## Build the Neural Network\n",
        "Implement an RNN using PyTorch's [Module class](http://pytorch.org/docs/master/nn.html#torch.nn.Module). You may choose to use a GRU or an LSTM. To complete the RNN, you'll have to implement the following functions for the class:\n",
        " - `__init__` - The initialize function. \n",
        " - `init_hidden` - The initialization function for an LSTM/GRU hidden state\n",
        " - `forward` - Forward propagation function.\n",
        " \n",
        "The initialize function should create the layers of the neural network and save them to the class. The forward propagation function will use these layers to run forward propagation and generate an output and a hidden state.\n",
        "\n",
        "**The output of this model should be the *last* batch of word scores** after a complete sequence has been processed. That is, for each input sequence of words, we only want to output the word scores for a single, most likely, next word.\n",
        "\n",
        "### Hints\n",
        "\n",
        "1. Make sure to stack the outputs of the lstm to pass to your fully-connected layer, you can do this with `lstm_output = lstm_output.contiguous().view(-1, self.hidden_dim)`\n",
        "2. You can get the last batch of word scores by shaping the output of the final, fully-connected layer like so:\n",
        "\n",
        "```\n",
        "# reshape into (batch_size, seq_length, output_size)\n",
        "output = output.view(batch_size, -1, self.output_size)\n",
        "# get last batch\n",
        "out = output[:, -1]\n",
        "```"
      ]
    },
    {
      "cell_type": "code",
      "metadata": {
        "id": "NHqShkuGofDA",
        "colab_type": "code",
        "colab": {
          "base_uri": "https://localhost:8080/",
          "height": 34
        },
        "outputId": "45ae27a9-e9ef-4fa2-888c-88b0a34a276e"
      },
      "source": [
        "import torch.nn as nn\n",
        "\n",
        "class RNN(nn.Module):\n",
        "    \n",
        "    def __init__(self, vocab_size, output_size, embedding_dim, hidden_dim, n_layers, dropout=0.5):\n",
        "        \"\"\"\n",
        "        Initialize the PyTorch RNN Module\n",
        "        :param vocab_size: The number of input dimensions of the neural network (the size of the vocabulary)\n",
        "        :param output_size: The number of output dimensions of the neural network\n",
        "        :param embedding_dim: The size of embeddings, should you choose to use them        \n",
        "        :param hidden_dim: The size of the hidden layer outputs\n",
        "        :param dropout: dropout to add in between LSTM/GRU layers\n",
        "        \"\"\"\n",
        "        super(RNN, self).__init__()\n",
        "        # TODO: Implement function\n",
        "        \n",
        "        # set class variables\n",
        "        self.output_size = output_size\n",
        "        self.hidden_dim = hidden_dim\n",
        "        self.n_layers = n_layers\n",
        "        \n",
        "        # define model layers\n",
        "        # Embedding and LSTM layers\n",
        "        self.embedding = nn.Embedding(vocab_size, embedding_dim)\n",
        "        self.lstm = nn.LSTM(embedding_dim, hidden_dim, n_layers,\n",
        "                            dropout=dropout, batch_first=True)\n",
        "        \n",
        "        # Dropout layer\n",
        "        self.dropout = nn.Dropout(0.1)\n",
        "        \n",
        "        # Fully-connected output layer\n",
        "        self.fc = nn.Linear(hidden_dim, output_size)\n",
        "    \n",
        "    \n",
        "    def forward(self, nn_input, hidden):\n",
        "        \"\"\"\n",
        "        Forward propagation of the neural network\n",
        "        :param nn_input: The input to the neural network\n",
        "        :param hidden: The hidden state        \n",
        "        :return: Two Tensors, the output of the neural network and the latest hidden state\n",
        "        \"\"\"\n",
        "        # TODO: Implement function\n",
        "        batch_size = nn_input.size(0)\n",
        "\n",
        "        # Embeddings and LSTM outputs\n",
        "        x = nn_input.long()\n",
        "        embeds = self.embedding(x)\n",
        "        lstm_output, hidden = self.lstm(embeds, hidden)\n",
        "\n",
        "        # Dropout output\n",
        "        lstm_output = self.dropout(lstm_output)\n",
        "\n",
        "        # stack up LSTM output using view \n",
        "        # and use contiguous to reshape the output\n",
        "        lstm_output = lstm_output.contiguous().view(-1, self.hidden_dim)\n",
        "\n",
        "        # Fully-connected output\n",
        "        output = self.fc(lstm_output)\n",
        "\n",
        "        # reshape into (batch_size, seq_length, output_size)\n",
        "        output = output.view(batch_size, -1, self.output_size)\n",
        "        \n",
        "        # get last batch\n",
        "        out = output[:, -1]\n",
        "\n",
        "        # return one batch of output word scores and the hidden state\n",
        "        return out, hidden\n",
        "    \n",
        "    \n",
        "    def init_hidden(self, batch_size):\n",
        "        '''\n",
        "        Initialize the hidden state of an LSTM/GRU\n",
        "        :param batch_size: The batch_size of the hidden state\n",
        "        :return: hidden state of dims (n_layers, batch_size, hidden_dim)\n",
        "        '''\n",
        "        # Implement function\n",
        "        \n",
        "        # initialize hidden state with zero weights, and move to GPU if available\n",
        "        weight = next(self.parameters()).data\n",
        "\n",
        "        if train_on_gpu:\n",
        "          hidden = (weight.new(self.n_layers, batch_size, self.hidden_dim).zero_().cuda(),\n",
        "                    weight.new(self.n_layers, batch_size, self.hidden_dim).zero_().cuda())\n",
        "        else:\n",
        "          hidden = (weight.new(self.n_layers, batch_size, self.hidden_dim).zero_(),\n",
        "                    weight.new(self.n_layers, batch_size, self.hidden_dim).zero_())\n",
        "\n",
        "        return hidden\n",
        "\n",
        "\"\"\"\n",
        "DON'T MODIFY ANYTHING IN THIS CELL THAT IS BELOW THIS LINE\n",
        "\"\"\"\n",
        "tests.test_rnn(RNN, train_on_gpu)"
      ],
      "execution_count": null,
      "outputs": [
        {
          "output_type": "stream",
          "text": [
            "Tests Passed\n"
          ],
          "name": "stdout"
        }
      ]
    },
    {
      "cell_type": "markdown",
      "metadata": {
        "id": "cOWg14vXofDH",
        "colab_type": "text"
      },
      "source": [
        "### Define forward and backpropagation\n",
        "\n",
        "Use the RNN class you implemented to apply forward and back propagation. This function will be called, iteratively, in the training loop as follows:\n",
        "```\n",
        "loss = forward_back_prop(decoder, decoder_optimizer, criterion, inp, target)\n",
        "```\n",
        "\n",
        "And it should return the average loss over a batch and the hidden state returned by a call to `RNN(inp, hidden)`. Recall that you can get this loss by computing it, as usual, and calling `loss.item()`.\n",
        "\n",
        "**If a GPU is available, you should move your data to that GPU device, here.**"
      ]
    },
    {
      "cell_type": "code",
      "metadata": {
        "id": "jaG4Pw32ofDI",
        "colab_type": "code",
        "colab": {
          "base_uri": "https://localhost:8080/",
          "height": 34
        },
        "outputId": "cb9f332c-5c06-4d2b-fcd5-1503d141136f"
      },
      "source": [
        "def forward_back_prop(rnn, optimizer, criterion, inp, target, hidden):\n",
        "    \"\"\"\n",
        "    Forward and backward propagation on the neural network\n",
        "    :param rnn: The PyTorch Module that holds the neural network\n",
        "    :param optimizer: The PyTorch optimizer for the neural network\n",
        "    :param criterion: The PyTorch loss function\n",
        "    :param inp: A batch of input to the neural network\n",
        "    :param target: The target output for the batch of input\n",
        "    :return: The loss and the latest hidden state Tensor\n",
        "    \"\"\"\n",
        "    \n",
        "    # TODO: Implement Function\n",
        "    \n",
        "    # move data to GPU, if available\n",
        "    if train_on_gpu:\n",
        "      inp, target = inp.cuda(), target.cuda()\n",
        "\n",
        "    # Creating new variables for the hidden state, otherwise\n",
        "    # we'd backprop through the entire training history\n",
        "    hidden = tuple([each.data for each in hidden])\n",
        "\n",
        "    # zero accumulated gradients\n",
        "    rnn.zero_grad()\n",
        "\n",
        "    # get the output from the model\n",
        "    output, hidden = rnn(inp, hidden)\n",
        "\n",
        "    # calculate the loss\n",
        "    loss = criterion(output.squeeze(), target.long())\n",
        "\n",
        "    # perform backpropagation and optimization\n",
        "    loss.backward()\n",
        "    # `clip_grad_norm` helps prevent the exploding gradient problem in LSTMs.\n",
        "    nn.utils.clip_grad_norm_(rnn.parameters(), 5)\n",
        "    optimizer.step()\n",
        "\n",
        "    # return the loss over a batch and the hidden state produced by our model\n",
        "    return loss.item(), hidden\n",
        "\n",
        "# Note that these tests aren't completely extensive.\n",
        "# they are here to act as general checks on the expected outputs of your functions\n",
        "\"\"\"\n",
        "DON'T MODIFY ANYTHING IN THIS CELL THAT IS BELOW THIS LINE\n",
        "\"\"\"\n",
        "tests.test_forward_back_prop(RNN, forward_back_prop, train_on_gpu)"
      ],
      "execution_count": null,
      "outputs": [
        {
          "output_type": "stream",
          "text": [
            "Tests Passed\n"
          ],
          "name": "stdout"
        }
      ]
    },
    {
      "cell_type": "markdown",
      "metadata": {
        "id": "pZvj-GUTofDQ",
        "colab_type": "text"
      },
      "source": [
        "## Neural Network Training\n",
        "\n",
        "With the structure of the network complete and data ready to be fed in the neural network, it's time to train it.\n",
        "\n",
        "### Train Loop\n",
        "\n",
        "The training loop is implemented for you in the `train_decoder` function. This function will train the network over all the batches for the number of epochs given. The model progress will be shown every number of batches. This number is set with the `show_every_n_batches` parameter. You'll set this parameter along with other parameters in the next section."
      ]
    },
    {
      "cell_type": "code",
      "metadata": {
        "id": "Ay_yGlkuofDS",
        "colab_type": "code",
        "colab": {}
      },
      "source": [
        "\"\"\"\n",
        "DON'T MODIFY ANYTHING IN THIS CELL\n",
        "\"\"\"\n",
        "\n",
        "def train_rnn(rnn, batch_size, optimizer, criterion, n_epochs, show_every_n_batches=100):\n",
        "    # initialize tracker for minimum validation loss\n",
        "    valid_loss_min = np.Inf\n",
        "    # track change in losses\n",
        "    train_losses, valid_losses = [], []\n",
        "\n",
        "    print(\"Training for %d epoch(s)...\" % n_epochs)\n",
        "    for epoch_i in range(1, n_epochs + 1):\n",
        "        \n",
        "        # initialize hidden state\n",
        "        hidden = rnn.init_hidden(batch_size)\n",
        "        valid_hidden = rnn.init_hidden(batch_size)\n",
        "\n",
        "        # initialize variables to monitor training and validation loss\n",
        "        batch_loss, batch_train_loss, batch_valid_loss = [], [], []\n",
        "        train_loss = 0.0\n",
        "        valid_loss = 0.0\n",
        "        \n",
        "        # train the model\n",
        "        rnn.train()\n",
        "        # make sure you iterate over completely full batches, only\n",
        "        n_batches = len(train_loader.sampler)//batch_size\n",
        "        for batch_i, (inputs, labels) in enumerate(train_loader, 1):\n",
        "            \n",
        "            if batch_i > n_batches:\n",
        "                break\n",
        "            \n",
        "            # forward, back prop\n",
        "            loss, hidden = forward_back_prop(rnn, optimizer, criterion, inputs, labels, hidden)         \n",
        "            \n",
        "            # record batch loss\n",
        "            batch_loss.append(loss)\n",
        "\n",
        "            # printing batch_loss stats\n",
        "            if batch_i % show_every_n_batches == 0:\n",
        "                print('Epoch: {}, Batch: {}, Train loss: {}\\n'.format(\n",
        "                    epoch_i, batch_i, np.average(batch_loss)))\n",
        "                batch_loss = []\n",
        "\n",
        "            # update batch training loss\n",
        "            batch_train_loss.append(loss)\n",
        "\n",
        "        # Validate the model\n",
        "        rnn.eval()\n",
        "        # make sure iterate over completely full batches, only\n",
        "        n_batches = len(valid_loader.sampler)//batch_size\n",
        "        with torch.no_grad():\n",
        "            for batch_i, (inputs, labels) in enumerate(valid_loader, 1):\n",
        "              \n",
        "              if batch_i > n_batches:\n",
        "                  break\n",
        "\n",
        "              # move data to GPU, if available\n",
        "              if train_on_gpu:\n",
        "                  inputs, labels = inputs.cuda(), labels.cuda()\n",
        "\n",
        "              # Creating new variables for the hidden state, otherwise\n",
        "              # we'd backprop through the entire training history\n",
        "              valid_hidden = tuple([each.data for each in valid_hidden])\n",
        "\n",
        "              # get the output from the model\n",
        "              output, valid_hidden = rnn(inputs, valid_hidden)\n",
        "\n",
        "              # calculate the loss\n",
        "              loss = criterion(output.squeeze(), labels.long())\n",
        "              # update batch validation loss\n",
        "              batch_valid_loss.append(loss.item())\n",
        "\n",
        "        train_loss = np.average(batch_train_loss)\n",
        "        valid_loss = np.average(batch_valid_loss)\n",
        "        print(\"Epoch: {}, Train loss: {:.6f}, Valid loss: {:.6f}\".format(\n",
        "            epoch_i, train_loss, valid_loss))\n",
        "        \n",
        "        # Append loss per epoch for plotting\n",
        "        train_losses.append(train_loss)\n",
        "        valid_losses.append(valid_loss)\n",
        "\n",
        "        # Save the model if validation loss has decreased\n",
        "        if valid_loss <= valid_loss_min:\n",
        "            print(\"Validation loss decreased ({:.6f} --> {:.6f}). Saving model ...\".format(\n",
        "                valid_loss_min, valid_loss))\n",
        "            torch.save(rnn.state_dict(), 'model.pt')\n",
        "            valid_loss_min = valid_loss\n",
        "\n",
        "    # Load the model that got the best validation loss\n",
        "    rnn.load_state_dict(torch.load('model.pt'))\n",
        "\n",
        "    # returns a trained rnn, losses\n",
        "    return rnn, train_losses, valid_losses"
      ],
      "execution_count": null,
      "outputs": []
    },
    {
      "cell_type": "markdown",
      "metadata": {
        "id": "FqgkGf59ofDc",
        "colab_type": "text"
      },
      "source": [
        "### Hyperparameters\n",
        "\n",
        "Set and train the neural network with the following parameters:\n",
        "- Set `sequence_length` to the length of a sequence.\n",
        "- Set `batch_size` to the batch size.\n",
        "- Set `num_epochs` to the number of epochs to train for.\n",
        "- Set `learning_rate` to the learning rate for an Adam optimizer.\n",
        "- Set `vocab_size` to the number of unique tokens in our vocabulary.\n",
        "- Set `output_size` to the desired size of the output.\n",
        "- Set `embedding_dim` to the embedding dimension; smaller than the vocab_size.\n",
        "- Set `hidden_dim` to the hidden dimension of your RNN.\n",
        "- Set `n_layers` to the number of layers/cells in your RNN.\n",
        "- Set `show_every_n_batches` to the number of batches at which the neural network should print progress.\n",
        "\n",
        "If the network isn't getting the desired results, tweak these parameters and/or the layers in the `RNN` class."
      ]
    },
    {
      "cell_type": "code",
      "metadata": {
        "id": "rmL8FbMVofDe",
        "colab_type": "code",
        "colab": {}
      },
      "source": [
        "# Data params\n",
        "# Sequence Length\n",
        "sequence_length = 10  # of words in a sequence\n",
        "# Batch Size\n",
        "batch_size = 128\n",
        " \n",
        "# data loader - do not change\n",
        "train_loader, valid_loader = batch_data(int_text, sequence_length, batch_size)"
      ],
      "execution_count": null,
      "outputs": []
    },
    {
      "cell_type": "code",
      "metadata": {
        "id": "E01Czd8aofDp",
        "colab_type": "code",
        "colab": {}
      },
      "source": [
        "# Training parameters\n",
        "# Number of Epochs\n",
        "num_epochs = 10\n",
        "# Learning Rate\n",
        "learning_rate = 0.001\n",
        "\n",
        "# Model parameters\n",
        "# Vocab size\n",
        "vocab_size = len(vocab_to_int)\n",
        "# Output size\n",
        "output_size = len(vocab_to_int)\n",
        "# Embedding Dimension\n",
        "embedding_dim = 256\n",
        "# Hidden Dimension\n",
        "hidden_dim = 512\n",
        "# Number of RNN Layers\n",
        "n_layers = 2\n",
        " \n",
        "# Show stats for every n number of batches\n",
        "show_every_n_batches = 2000"
      ],
      "execution_count": null,
      "outputs": []
    },
    {
      "cell_type": "markdown",
      "metadata": {
        "id": "IxrBzETGofDz",
        "colab_type": "text"
      },
      "source": [
        "### Train\n",
        "In the next cell, you'll train the neural network on the pre-processed data.  If you have a hard time getting a good loss, you may consider changing your hyperparameters. In general, you may get better results with larger hidden and n_layer dimensions, but larger models take a longer time to train. \n",
        "> **You should aim for a loss less than 3.5.** \n",
        "\n",
        "You should also experiment with different sequence lengths, which determine the size of the long range dependencies that a model can learn."
      ]
    },
    {
      "cell_type": "code",
      "metadata": {
        "id": "NliqBUvlRd-K",
        "colab_type": "code",
        "colab": {
          "base_uri": "https://localhost:8080/",
          "height": 34
        },
        "outputId": "a34bd715-8b83-442b-c317-811fb8a10404"
      },
      "source": [
        "%%file ./workspace_utils.py\n",
        "\n",
        "import signal\n",
        "\n",
        "from contextlib import contextmanager\n",
        "\n",
        "import requests\n",
        "\n",
        "\n",
        "DELAY = INTERVAL = 4 * 60  # interval time in seconds\n",
        "MIN_DELAY = MIN_INTERVAL = 2 * 60\n",
        "KEEPALIVE_URL = \"https://nebula.udacity.com/api/v1/remote/keep-alive\"\n",
        "TOKEN_URL = \"http://metadata.google.internal/computeMetadata/v1/instance/attributes/keep_alive_token\"\n",
        "TOKEN_HEADERS = {\"Metadata-Flavor\":\"Google\"}\n",
        "\n",
        "\n",
        "def _request_handler(headers):\n",
        "    def _handler(signum, frame):\n",
        "        requests.request(\"POST\", KEEPALIVE_URL, headers=headers)\n",
        "    return _handler\n",
        "\n",
        "\n",
        "@contextmanager\n",
        "def active_session(delay=DELAY, interval=INTERVAL):\n",
        "    \"\"\"\n",
        "    Example:\n",
        "\n",
        "    from workspace_utils import active session\n",
        "\n",
        "    with active_session():\n",
        "        # do long-running work here\n",
        "    \"\"\"\n",
        "    token = requests.request(\"GET\", TOKEN_URL, headers=TOKEN_HEADERS).text\n",
        "    headers = {'Authorization': \"STAR \" + token}\n",
        "    delay = max(delay, MIN_DELAY)\n",
        "    interval = max(interval, MIN_INTERVAL)\n",
        "    original_handler = signal.getsignal(signal.SIGALRM)\n",
        "    try:\n",
        "        signal.signal(signal.SIGALRM, _request_handler(headers))\n",
        "        signal.setitimer(signal.ITIMER_REAL, delay, interval)\n",
        "        yield\n",
        "    finally:\n",
        "        signal.signal(signal.SIGALRM, original_handler)\n",
        "        signal.setitimer(signal.ITIMER_REAL, 0)\n",
        "\n",
        "\n",
        "def keep_awake(iterable, delay=DELAY, interval=INTERVAL):\n",
        "    \"\"\"\n",
        "    Example:\n",
        "\n",
        "    from workspace_utils import keep_awake\n",
        "\n",
        "    for i in keep_awake(range(5)):\n",
        "        # do iteration with lots of work here\n",
        "    \"\"\"\n",
        "    with active_session(delay, interval): yield from iterable"
      ],
      "execution_count": null,
      "outputs": [
        {
          "output_type": "stream",
          "text": [
            "Writing ./workspace_utils.py\n"
          ],
          "name": "stdout"
        }
      ]
    },
    {
      "cell_type": "code",
      "metadata": {
        "id": "FsS7bqseofD0",
        "colab_type": "code",
        "colab": {
          "base_uri": "https://localhost:8080/",
          "height": 408
        },
        "outputId": "00a332b7-5c2d-48d3-cdf5-2b619317decc"
      },
      "source": [
        "\"\"\"\n",
        "DON'T MODIFY ANYTHING IN THIS CELL\n",
        "\"\"\"\n",
        " \n",
        "# Keeping connection alive during long processes\n",
        "# from workspace_utils import active_session\n",
        " \n",
        "# with active_session():\n",
        " \n",
        "# create model and move to gpu if available\n",
        "rnn = RNN(vocab_size, output_size, embedding_dim, \n",
        "          hidden_dim, n_layers, dropout=0.5)\n",
        "if train_on_gpu:\n",
        "    rnn.cuda()\n",
        "# number of parameters except the embedding layer\n",
        "print(\"Total trainable parameters: {}\".format(\n",
        "    sum(m.numel() for m in rnn.parameters())-embedding_dim*46367))\n",
        " \n",
        "# defining loss and optimization functions for training\n",
        "optimizer = torch.optim.Adam(rnn.parameters(), lr=learning_rate)\n",
        "criterion = nn.CrossEntropyLoss()\n",
        " \n",
        "# training the model\n",
        "trained_rnn, train_losses, valid_losses = train_rnn(\n",
        "    rnn, batch_size, optimizer, criterion, num_epochs, show_every_n_batches)\n",
        " \n",
        "# saving the trained model\n",
        "helper.save_model('./save/trained_rnn', trained_rnn)\n",
        "print('Model Trained and Saved')\n",
        " \n",
        "# Visualize the train/valid loss per epoch\n",
        "%matplotlib inline\n",
        "import matplotlib.pyplot as plt\n",
        " \n",
        "plt.title(\"Loss vs Epoch\")\n",
        "plt.plot(train_losses, label='Train loss')\n",
        "plt.plot(valid_losses, label='Valid loss')\n",
        "plt.legend(frameon=False)\n",
        "plt.xlabel(\"Epoch\")\n",
        "plt.ylabel(\"Loss\")\n",
        "plt.show()"
      ],
      "execution_count": null,
      "outputs": [
        {
          "output_type": "stream",
          "text": [
            "Total trainable parameters: 8255628\n",
            "Training for 10 epoch(s)...\n"
          ],
          "name": "stdout"
        },
        {
          "output_type": "error",
          "ename": "KeyboardInterrupt",
          "evalue": "ignored",
          "traceback": [
            "\u001b[0;31m---------------------------------------------------------------------------\u001b[0m",
            "\u001b[0;31mKeyboardInterrupt\u001b[0m                         Traceback (most recent call last)",
            "\u001b[0;32m<ipython-input-20-c1b7c912f91f>\u001b[0m in \u001b[0;36m<module>\u001b[0;34m()\u001b[0m\n\u001b[1;32m     23\u001b[0m \u001b[0;31m# training the model\u001b[0m\u001b[0;34m\u001b[0m\u001b[0;34m\u001b[0m\u001b[0;34m\u001b[0m\u001b[0m\n\u001b[1;32m     24\u001b[0m trained_rnn, train_losses, valid_losses = train_rnn(\n\u001b[0;32m---> 25\u001b[0;31m     rnn, batch_size, optimizer, criterion, num_epochs, show_every_n_batches)\n\u001b[0m\u001b[1;32m     26\u001b[0m \u001b[0;34m\u001b[0m\u001b[0m\n\u001b[1;32m     27\u001b[0m \u001b[0;31m# saving the trained model\u001b[0m\u001b[0;34m\u001b[0m\u001b[0;34m\u001b[0m\u001b[0;34m\u001b[0m\u001b[0m\n",
            "\u001b[0;32m<ipython-input-16-22c146ebf901>\u001b[0m in \u001b[0;36mtrain_rnn\u001b[0;34m(rnn, batch_size, optimizer, criterion, n_epochs, show_every_n_batches)\u001b[0m\n\u001b[1;32m     31\u001b[0m \u001b[0;34m\u001b[0m\u001b[0m\n\u001b[1;32m     32\u001b[0m             \u001b[0;31m# forward, back prop\u001b[0m\u001b[0;34m\u001b[0m\u001b[0;34m\u001b[0m\u001b[0;34m\u001b[0m\u001b[0m\n\u001b[0;32m---> 33\u001b[0;31m             \u001b[0mloss\u001b[0m\u001b[0;34m,\u001b[0m \u001b[0mhidden\u001b[0m \u001b[0;34m=\u001b[0m \u001b[0mforward_back_prop\u001b[0m\u001b[0;34m(\u001b[0m\u001b[0mrnn\u001b[0m\u001b[0;34m,\u001b[0m \u001b[0moptimizer\u001b[0m\u001b[0;34m,\u001b[0m \u001b[0mcriterion\u001b[0m\u001b[0;34m,\u001b[0m \u001b[0minputs\u001b[0m\u001b[0;34m,\u001b[0m \u001b[0mlabels\u001b[0m\u001b[0;34m,\u001b[0m \u001b[0mhidden\u001b[0m\u001b[0;34m)\u001b[0m\u001b[0;34m\u001b[0m\u001b[0;34m\u001b[0m\u001b[0m\n\u001b[0m\u001b[1;32m     34\u001b[0m \u001b[0;34m\u001b[0m\u001b[0m\n\u001b[1;32m     35\u001b[0m             \u001b[0;31m# record batch loss\u001b[0m\u001b[0;34m\u001b[0m\u001b[0;34m\u001b[0m\u001b[0;34m\u001b[0m\u001b[0m\n",
            "\u001b[0;32m<ipython-input-15-3fb2e41fca17>\u001b[0m in \u001b[0;36mforward_back_prop\u001b[0;34m(rnn, optimizer, criterion, inp, target, hidden)\u001b[0m\n\u001b[1;32m     30\u001b[0m \u001b[0;34m\u001b[0m\u001b[0m\n\u001b[1;32m     31\u001b[0m     \u001b[0;31m# perform backpropagation and optimization\u001b[0m\u001b[0;34m\u001b[0m\u001b[0;34m\u001b[0m\u001b[0;34m\u001b[0m\u001b[0m\n\u001b[0;32m---> 32\u001b[0;31m     \u001b[0mloss\u001b[0m\u001b[0;34m.\u001b[0m\u001b[0mbackward\u001b[0m\u001b[0;34m(\u001b[0m\u001b[0;34m)\u001b[0m\u001b[0;34m\u001b[0m\u001b[0;34m\u001b[0m\u001b[0m\n\u001b[0m\u001b[1;32m     33\u001b[0m     \u001b[0;31m# `clip_grad_norm` helps prevent the exploding gradient problem in LSTMs.\u001b[0m\u001b[0;34m\u001b[0m\u001b[0;34m\u001b[0m\u001b[0;34m\u001b[0m\u001b[0m\n\u001b[1;32m     34\u001b[0m     \u001b[0mnn\u001b[0m\u001b[0;34m.\u001b[0m\u001b[0mutils\u001b[0m\u001b[0;34m.\u001b[0m\u001b[0mclip_grad_norm_\u001b[0m\u001b[0;34m(\u001b[0m\u001b[0mrnn\u001b[0m\u001b[0;34m.\u001b[0m\u001b[0mparameters\u001b[0m\u001b[0;34m(\u001b[0m\u001b[0;34m)\u001b[0m\u001b[0;34m,\u001b[0m \u001b[0;36m5\u001b[0m\u001b[0;34m)\u001b[0m\u001b[0;34m\u001b[0m\u001b[0;34m\u001b[0m\u001b[0m\n",
            "\u001b[0;32m/usr/local/lib/python3.6/dist-packages/torch/tensor.py\u001b[0m in \u001b[0;36mbackward\u001b[0;34m(self, gradient, retain_graph, create_graph)\u001b[0m\n\u001b[1;32m    183\u001b[0m                 \u001b[0mproducts\u001b[0m\u001b[0;34m.\u001b[0m \u001b[0mDefaults\u001b[0m \u001b[0mto\u001b[0m\u001b[0;31m \u001b[0m\u001b[0;31m`\u001b[0m\u001b[0;31m`\u001b[0m\u001b[0;32mFalse\u001b[0m\u001b[0;31m`\u001b[0m\u001b[0;31m`\u001b[0m\u001b[0;34m.\u001b[0m\u001b[0;34m\u001b[0m\u001b[0;34m\u001b[0m\u001b[0m\n\u001b[1;32m    184\u001b[0m         \"\"\"\n\u001b[0;32m--> 185\u001b[0;31m         \u001b[0mtorch\u001b[0m\u001b[0;34m.\u001b[0m\u001b[0mautograd\u001b[0m\u001b[0;34m.\u001b[0m\u001b[0mbackward\u001b[0m\u001b[0;34m(\u001b[0m\u001b[0mself\u001b[0m\u001b[0;34m,\u001b[0m \u001b[0mgradient\u001b[0m\u001b[0;34m,\u001b[0m \u001b[0mretain_graph\u001b[0m\u001b[0;34m,\u001b[0m \u001b[0mcreate_graph\u001b[0m\u001b[0;34m)\u001b[0m\u001b[0;34m\u001b[0m\u001b[0;34m\u001b[0m\u001b[0m\n\u001b[0m\u001b[1;32m    186\u001b[0m \u001b[0;34m\u001b[0m\u001b[0m\n\u001b[1;32m    187\u001b[0m     \u001b[0;32mdef\u001b[0m \u001b[0mregister_hook\u001b[0m\u001b[0;34m(\u001b[0m\u001b[0mself\u001b[0m\u001b[0;34m,\u001b[0m \u001b[0mhook\u001b[0m\u001b[0;34m)\u001b[0m\u001b[0;34m:\u001b[0m\u001b[0;34m\u001b[0m\u001b[0;34m\u001b[0m\u001b[0m\n",
            "\u001b[0;32m/usr/local/lib/python3.6/dist-packages/torch/autograd/__init__.py\u001b[0m in \u001b[0;36mbackward\u001b[0;34m(tensors, grad_tensors, retain_graph, create_graph, grad_variables)\u001b[0m\n\u001b[1;32m    125\u001b[0m     Variable._execution_engine.run_backward(\n\u001b[1;32m    126\u001b[0m         \u001b[0mtensors\u001b[0m\u001b[0;34m,\u001b[0m \u001b[0mgrad_tensors\u001b[0m\u001b[0;34m,\u001b[0m \u001b[0mretain_graph\u001b[0m\u001b[0;34m,\u001b[0m \u001b[0mcreate_graph\u001b[0m\u001b[0;34m,\u001b[0m\u001b[0;34m\u001b[0m\u001b[0;34m\u001b[0m\u001b[0m\n\u001b[0;32m--> 127\u001b[0;31m         allow_unreachable=True)  # allow_unreachable flag\n\u001b[0m\u001b[1;32m    128\u001b[0m \u001b[0;34m\u001b[0m\u001b[0m\n\u001b[1;32m    129\u001b[0m \u001b[0;34m\u001b[0m\u001b[0m\n",
            "\u001b[0;31mKeyboardInterrupt\u001b[0m: "
          ]
        }
      ]
    },
    {
      "cell_type": "markdown",
      "metadata": {
        "id": "nR_QfGzQofEE",
        "colab_type": "text"
      },
      "source": [
        "### Question: How did you decide on your model hyperparameters? \n",
        "For example, did you try different sequence_lengths and find that one size made the model converge faster? What about your hidden_dim and n_layers; how did you decide on those?"
      ]
    },
    {
      "cell_type": "markdown",
      "metadata": {
        "id": "Z7ONRBg7ofEF",
        "colab_type": "text"
      },
      "source": [
        "**Answer:** \n",
        "\n",
        "To set the hyperparameters for getting the best performance, I evaluated both training and validation losses. I also referenced the course materials and different sources, such as [Nils Reimers et. al](https://arxiv.org/pdf/1707.06799.pdf), etc. If the training loss is much lower than the validation loss due to overfitting, then decrease the network size, either n_layers or hidden_dim. If both training and validation losses are similar due to underfitting, then increase the network size. The strategy to obtain the best model is to make the network larger, then try different dropout values to avoid overfitting. Whatever the model has the best validation performance, it is written in the checkpoint filename. The following are parameters that I tweak:\n",
        "\n",
        "1.   sequence_length: 10 vs 100\n",
        "     \n",
        "     The sequence_length determines the size of long-range dependencies that a model can learn. Usually, larger sequence_length is better, the network will learn more long-range dependencies, but it takes longer to train. Here, sequence_length=10 would be sufficient to make the model converges faster since the average number of words in each line is around 5.5.\n",
        "\n",
        "2.   hidden_dim: 256 vs 512\n",
        "     \n",
        "     The Seinfeld dataset is about 3.4 MB, which is approximately 3.4 million characters. The hidden_dim can be adjusted to create 3.4 million models' parameters. Usually, larger hidden_dim is better performance-wise. I take 512, which is optimal in this case.\n",
        "\n",
        "3.   n_layers: 2 vs 3\n",
        "\n",
        "     The network will have better performance with more n_layers, either 2 or 3. Adding more n_layers allows the network to learn a complex relationship, but it tends to overfit. If the above hidden_dim=512 is chosen, n_layers = 2 resulted in better performance."
      ]
    },
    {
      "cell_type": "markdown",
      "metadata": {
        "id": "sKjCrjXsofEG",
        "colab_type": "text"
      },
      "source": [
        "---\n",
        "# Checkpoint\n",
        "\n",
        "After running the above training cell, your model will be saved by name, `trained_rnn`, and if you save your notebook progress, **you can pause here and come back to this code at another time**. You can resume your progress by running the next cell, which will load in our word:id dictionaries _and_ load in your saved model by name!"
      ]
    },
    {
      "cell_type": "code",
      "metadata": {
        "id": "SApTqeEKofEJ",
        "colab_type": "code",
        "colab": {}
      },
      "source": [
        "\"\"\"\n",
        "DON'T MODIFY ANYTHING IN THIS CELL\n",
        "\"\"\"\n",
        "import torch\n",
        "import helper\n",
        "import problem_unittests as tests\n",
        "\n",
        "_, vocab_to_int, int_to_vocab, token_dict = helper.load_preprocess()\n",
        "trained_rnn = helper.load_model('./save/trained_rnn')"
      ],
      "execution_count": null,
      "outputs": []
    },
    {
      "cell_type": "markdown",
      "metadata": {
        "id": "kQE-TaUwofEP",
        "colab_type": "text"
      },
      "source": [
        "## Generate TV Script\n",
        "With the network trained and saved, you'll use it to generate a new, \"fake\" Seinfeld TV script in this section.\n",
        "\n",
        "### Generate Text\n",
        "To generate the text, the network needs to start with a single word and repeat its predictions until it reaches a set length. You'll be using the `generate` function to do this. It takes a word id to start with, `prime_id`, and generates a set length of text, `predict_len`. Also note that it uses topk sampling to introduce some randomness in choosing the most likely next word, given an output set of word scores!"
      ]
    },
    {
      "cell_type": "code",
      "metadata": {
        "id": "MD_K0IbGofEQ",
        "colab_type": "code",
        "colab": {}
      },
      "source": [
        "\"\"\"\n",
        "DON'T MODIFY ANYTHING IN THIS CELL THAT IS BELOW THIS LINE\n",
        "\"\"\"\n",
        "import torch.nn.functional as F\n",
        "\n",
        "def generate(rnn, prime_id, int_to_vocab, token_dict, pad_value, predict_len=100):\n",
        "    \"\"\"\n",
        "    Generate text using the neural network\n",
        "    :param decoder: The PyTorch Module that holds the trained neural network\n",
        "    :param prime_id: The word id to start the first prediction\n",
        "    :param int_to_vocab: Dict of word id keys to word values\n",
        "    :param token_dict: Dict of puncuation tokens keys to puncuation values\n",
        "    :param pad_value: The value used to pad a sequence\n",
        "    :param predict_len: The length of text to generate\n",
        "    :return: The generated text\n",
        "    \"\"\"\n",
        "    rnn.eval()\n",
        "    \n",
        "    # create a sequence (batch_size=1) with the prime_id\n",
        "    current_seq = np.full((1, sequence_length), pad_value)\n",
        "    current_seq[-1][-1] = prime_id\n",
        "    predicted = [int_to_vocab[prime_id]]\n",
        "    \n",
        "    for _ in range(predict_len):\n",
        "        if train_on_gpu:\n",
        "            current_seq = torch.LongTensor(current_seq).cuda()\n",
        "        else:\n",
        "            current_seq = torch.LongTensor(current_seq)\n",
        "        \n",
        "        # initialize the hidden state\n",
        "        hidden = rnn.init_hidden(current_seq.size(0))\n",
        "        \n",
        "        # get the output of the rnn\n",
        "        output, _ = rnn(current_seq, hidden)\n",
        "        \n",
        "        # get the next word probabilities\n",
        "        p = F.softmax(output, dim=1).data\n",
        "        if(train_on_gpu):\n",
        "            p = p.cpu() # move to cpu\n",
        "         \n",
        "        # use top_k sampling to get the index of the next word\n",
        "        top_k = 5\n",
        "        p, top_i = p.topk(top_k)\n",
        "        top_i = top_i.numpy().squeeze()\n",
        "        \n",
        "        # select the likely next word index with some element of randomness\n",
        "        p = p.numpy().squeeze()\n",
        "        word_i = np.random.choice(top_i, p=p/p.sum())\n",
        "        \n",
        "        # retrieve that word from the dictionary\n",
        "        word = int_to_vocab[word_i]\n",
        "        predicted.append(word)     \n",
        "        \n",
        "        if(train_on_gpu):\n",
        "            current_seq = current_seq.cpu() # move to cpu\n",
        "        # the generated word becomes the next \"current sequence\" and the cycle can continue\n",
        "        if train_on_gpu:\n",
        "            current_seq = current_seq.cpu()\n",
        "        current_seq = np.roll(current_seq, -1, 1)\n",
        "        current_seq[-1][-1] = word_i\n",
        "    \n",
        "    gen_sentences = ' '.join(predicted)\n",
        "    \n",
        "    # Replace punctuation tokens\n",
        "    for key, token in token_dict.items():\n",
        "        ending = ' ' if key in ['\\n', '(', '\"'] else ''\n",
        "        gen_sentences = gen_sentences.replace(' ' + token.lower(), key)\n",
        "    gen_sentences = gen_sentences.replace('\\n ', '\\n')\n",
        "    gen_sentences = gen_sentences.replace('( ', '(')\n",
        "    \n",
        "    # return all the sentences\n",
        "    return gen_sentences"
      ],
      "execution_count": null,
      "outputs": []
    },
    {
      "cell_type": "markdown",
      "metadata": {
        "id": "VC6snqybofEc",
        "colab_type": "text"
      },
      "source": [
        "### Generate a New Script\n",
        "It's time to generate the text. Set `gen_length` to the length of TV script you want to generate and set `prime_word` to one of the following to start the prediction:\n",
        "- \"jerry\"\n",
        "- \"elaine\"\n",
        "- \"george\"\n",
        "- \"kramer\"\n",
        "\n",
        "You can set the prime word to _any word_ in our dictionary, but it's best to start with a name for generating a TV script. (You can also start with any other names you find in the original text file!)"
      ]
    },
    {
      "cell_type": "code",
      "metadata": {
        "id": "l6So9v41ofEd",
        "colab_type": "code",
        "colab": {}
      },
      "source": [
        "# run the cell multiple times to get different results!\n",
        "gen_length = 400 # modify the length to your preference\n",
        "prime_word = 'jerry' # name for starting the script\n",
        "\n",
        "\"\"\"\n",
        "DON'T MODIFY ANYTHING IN THIS CELL THAT IS BELOW THIS LINE\n",
        "\"\"\"\n",
        "pad_word = helper.SPECIAL_WORDS['PADDING']\n",
        "generated_script = generate(trained_rnn, vocab_to_int[prime_word + ':'], int_to_vocab, token_dict, vocab_to_int[pad_word], gen_length)\n",
        "print(generated_script)"
      ],
      "execution_count": null,
      "outputs": []
    },
    {
      "cell_type": "markdown",
      "metadata": {
        "id": "KOqRTNFAofEi",
        "colab_type": "text"
      },
      "source": [
        "#### Save your favorite scripts\n",
        "\n",
        "Once you have a script that you like (or find interesting), save it to a text file!"
      ]
    },
    {
      "cell_type": "code",
      "metadata": {
        "id": "2U0dTQ6PofEl",
        "colab_type": "code",
        "colab": {}
      },
      "source": [
        "# save script to a text file\n",
        "f =  open(\"generated_script_1.txt\",\"w\")\n",
        "f.write(generated_script)\n",
        "f.close()"
      ],
      "execution_count": null,
      "outputs": []
    },
    {
      "cell_type": "markdown",
      "metadata": {
        "id": "X-vhEbI5ofEu",
        "colab_type": "text"
      },
      "source": [
        "# The TV Script is Not Perfect\n",
        "It's ok if the TV script doesn't make perfect sense. It should look like alternating lines of dialogue, here is one such example of a few generated lines.\n",
        "\n",
        "### Example generated script\n",
        "\n",
        ">jerry: what about me?\n",
        ">\n",
        ">jerry: i don't have to wait.\n",
        ">\n",
        ">kramer:(to the sales table)\n",
        ">\n",
        ">elaine:(to jerry) hey, look at this, i'm a good doctor.\n",
        ">\n",
        ">newman:(to elaine) you think i have no idea of this...\n",
        ">\n",
        ">elaine: oh, you better take the phone, and he was a little nervous.\n",
        ">\n",
        ">kramer:(to the phone) hey, hey, jerry, i don't want to be a little bit.(to kramer and jerry) you can't.\n",
        ">\n",
        ">jerry: oh, yeah. i don't even know, i know.\n",
        ">\n",
        ">jerry:(to the phone) oh, i know.\n",
        ">\n",
        ">kramer:(laughing) you know...(to jerry) you don't know.\n",
        "\n",
        "You can see that there are multiple characters that say (somewhat) complete sentences, but it doesn't have to be perfect! It takes quite a while to get good results, and often, you'll have to use a smaller vocabulary (and discard uncommon words), or get more data.  The Seinfeld dataset is about 3.4 MB, which is big enough for our purposes; for script generation you'll want more than 1 MB of text, generally. \n",
        "\n",
        "# Submitting This Project\n",
        "When submitting this project, make sure to run all the cells before saving the notebook. Save the notebook file as \"dlnd_tv_script_generation.ipynb\" and save another copy as an HTML file by clicking \"File\" -> \"Download as..\"->\"html\". Include the \"helper.py\" and \"problem_unittests.py\" files in your submission. Once you download these files, compress them into one zip file for submission."
      ]
    }
  ]
}