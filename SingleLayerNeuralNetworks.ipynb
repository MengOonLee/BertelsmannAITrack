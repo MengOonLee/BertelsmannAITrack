{
  "nbformat": 4,
  "nbformat_minor": 0,
  "metadata": {
    "colab": {
      "name": "Untitled0.ipynb",
      "provenance": [],
      "include_colab_link": true
    },
    "kernelspec": {
      "name": "python3",
      "display_name": "Python 3"
    },
    "accelerator": "GPU"
  },
  "cells": [
    {
      "cell_type": "markdown",
      "metadata": {
        "id": "view-in-github",
        "colab_type": "text"
      },
      "source": [
        "<a href=\"https://colab.research.google.com/github/MengOonLee/BertelsmannAITrack/blob/Lesson05/SingleLayerNeuralNetworks.ipynb\" target=\"_parent\"><img src=\"https://colab.research.google.com/assets/colab-badge.svg\" alt=\"Open In Colab\"/></a>"
      ]
    },
    {
      "cell_type": "code",
      "metadata": {
        "id": "aJdsGizSqTZq",
        "colab_type": "code",
        "outputId": "ee7806b1-53e4-41a0-90d6-b653ac65f508",
        "colab": {
          "base_uri": "https://localhost:8080/",
          "height": 34
        }
      },
      "source": [
        "# First import PyTorch\n",
        "import torch\n",
        "torch.cuda.is_available()"
      ],
      "execution_count": 0,
      "outputs": [
        {
          "output_type": "execute_result",
          "data": {
            "text/plain": [
              "True"
            ]
          },
          "metadata": {
            "tags": []
          },
          "execution_count": 1
        }
      ]
    },
    {
      "cell_type": "code",
      "metadata": {
        "id": "FVByHTgysPH7",
        "colab_type": "code",
        "colab": {}
      },
      "source": [
        "def activation(x):\n",
        "  \"\"\" Sigmoid activation function\n",
        "    Arguments\n",
        "    x: torch.Tensor\n",
        "  \"\"\"\n",
        "  return 1/(1+torch.exp(-x)) "
      ],
      "execution_count": 0,
      "outputs": []
    },
    {
      "cell_type": "code",
      "metadata": {
        "id": "2lA1h8wR09T4",
        "colab_type": "code",
        "outputId": "f0f9a24e-a40f-4eb5-fd57-5d48ce7e1717",
        "colab": {
          "base_uri": "https://localhost:8080/",
          "height": 106
        }
      },
      "source": [
        "# Generate some data\n",
        "torch.manual_seed(7)\n",
        "\n",
        "# Features are 5 random normal variables\n",
        "features = torch.randn((1, 5))\n",
        "print(\"features = \", features)\n",
        "\n",
        "# True weights for random normal variables again\n",
        "weights = torch.randn_like(features)\n",
        "print(\"weights = \", weights)\n",
        "\n",
        "# and a true bias term\n",
        "bias = torch.randn((1, 1))\n",
        "print(\"bias = \", bias)"
      ],
      "execution_count": 0,
      "outputs": [
        {
          "output_type": "stream",
          "text": [
            "features =  tensor([[-0.1468,  0.7861,  0.9468, -1.1143,  1.6908]])\n",
            "weights =  tensor([[-0.8948, -0.3556,  1.2324,  0.1382, -1.6822]])\n",
            "bias =  tensor([[0.3177]])\n",
            "tensor([[-0.1468,  0.7861,  0.9468, -1.1143,  1.6908]]) tensor([[-0.8948, -0.3556,  1.2324,  0.1382, -1.6822]]) tensor([[0.3177]])\n"
          ],
          "name": "stdout"
        }
      ]
    },
    {
      "cell_type": "code",
      "metadata": {
        "id": "PTOi0W7G2BzV",
        "colab_type": "code",
        "colab": {}
      },
      "source": [
        ""
      ],
      "execution_count": 0,
      "outputs": []
    }
  ]
}