{
  "nbformat": 4,
  "nbformat_minor": 0,
  "metadata": {
    "colab": {
      "name": "Untitled0.ipynb",
      "provenance": [],
      "include_colab_link": true
    },
    "kernelspec": {
      "name": "python3",
      "display_name": "Python 3"
    },
    "accelerator": "GPU"
  },
  "cells": [
    {
      "cell_type": "markdown",
      "metadata": {
        "id": "view-in-github",
        "colab_type": "text"
      },
      "source": [
        "<a href=\"https://colab.research.google.com/github/MengOonLee/BertelsmannAITrack/blob/Lesson05/SingleLayerNeuralNetworks.ipynb\" target=\"_parent\"><img src=\"https://colab.research.google.com/assets/colab-badge.svg\" alt=\"Open In Colab\"/></a>"
      ]
    },
    {
      "cell_type": "code",
      "metadata": {
        "id": "aJdsGizSqTZq",
        "colab_type": "code",
        "outputId": "3f53e85a-6758-461d-fb08-02a2479b8a52",
        "colab": {
          "base_uri": "https://localhost:8080/",
          "height": 34
        }
      },
      "source": [
        "# First import PyTorch\n",
        "import torch\n",
        "torch.cuda.is_available()"
      ],
      "execution_count": 1,
      "outputs": [
        {
          "output_type": "execute_result",
          "data": {
            "text/plain": [
              "True"
            ]
          },
          "metadata": {
            "tags": []
          },
          "execution_count": 1
        }
      ]
    },
    {
      "cell_type": "code",
      "metadata": {
        "id": "FVByHTgysPH7",
        "colab_type": "code",
        "colab": {}
      },
      "source": [
        "def activation(x):\n",
        "  \"\"\" Sigmoid activation function\n",
        "    Arguments\n",
        "    x: torch.Tensor\n",
        "  \"\"\"\n",
        "  return 1/(1+torch.exp(-x)) "
      ],
      "execution_count": 0,
      "outputs": []
    },
    {
      "cell_type": "code",
      "metadata": {
        "id": "2lA1h8wR09T4",
        "colab_type": "code",
        "outputId": "600beaec-6598-4412-d5bb-09d3aa9eeb3c",
        "colab": {
          "base_uri": "https://localhost:8080/",
          "height": 69
        }
      },
      "source": [
        "# Generate some data\n",
        "torch.manual_seed(7)\n",
        "\n",
        "# Features are 5 random normal variables\n",
        "features = torch.randn((1, 5))\n",
        "print(\"features = \", features)\n",
        "\n",
        "# True weights for random normal variables again\n",
        "weights = torch.randn_like(features)\n",
        "print(\"weights = \", weights)\n",
        "\n",
        "# and a true bias term\n",
        "bias = torch.randn((1, 1))\n",
        "print(\"bias = \", bias)"
      ],
      "execution_count": 3,
      "outputs": [
        {
          "output_type": "stream",
          "text": [
            "features =  tensor([[-0.1468,  0.7861,  0.9468, -1.1143,  1.6908]])\n",
            "weights =  tensor([[-0.8948, -0.3556,  1.2324,  0.1382, -1.6822]])\n",
            "bias =  tensor([[0.3177]])\n"
          ],
          "name": "stdout"
        }
      ]
    },
    {
      "cell_type": "code",
      "metadata": {
        "id": "IbsDF4SBhFRt",
        "colab_type": "code",
        "colab": {
          "base_uri": "https://localhost:8080/",
          "height": 69
        },
        "outputId": "a6763b30-94d5-4c21-9455-7d830f85285d"
      },
      "source": [
        "# Make labels from data and true weights\n",
        "y = activation(torch.sum(features * weights) + bias)\n",
        "print(\"y =\", y)\n",
        "\n",
        "y = activation((features * weights).sum() + bias)\n",
        "print(\"y =\", y)\n",
        "\n",
        "y = activation(torch.mm(features, weights.view(5,1)) + bias)\n",
        "print(\"y =\", y)"
      ],
      "execution_count": 4,
      "outputs": [
        {
          "output_type": "stream",
          "text": [
            "y = tensor([[0.1595]])\n",
            "y = tensor([[0.1595]])\n",
            "y = tensor([[0.1595]])\n"
          ],
          "name": "stdout"
        }
      ]
    },
    {
      "cell_type": "code",
      "metadata": {
        "id": "eWI0WytTh2hD",
        "colab_type": "code",
        "colab": {
          "base_uri": "https://localhost:8080/",
          "height": 295
        },
        "outputId": "b98db635-5e23-4d53-d1a3-88310758cedd"
      },
      "source": [
        "# Generate some data\n",
        "torch.manual_seed(7)\n",
        "\n",
        "# Features are 3 random normal variables\n",
        "features = torch.randn((1,3))\n",
        "print(\"features =\", features)\n",
        "print(\"features shape =\", features.shape)\n",
        "\n",
        "# Define the size of each layer in network\n",
        "n_input = features.shape[1]\n",
        "n_hidden = 2\n",
        "n_output = 1\n",
        "print(\"Number of input =\", n_input, \"\\nNumber of hidden units =\", n_hidden, \"\\nNumber of output =\", n_output)\n",
        "\n",
        "# Weights for inputs to hidden layer\n",
        "W1 = torch.randn(n_input, n_hidden)\n",
        "print(\"Weights for H1 =\", W1)\n",
        "print(\"W1 shape =\", W1.shape)\n",
        "\n",
        "# Weights for hidden layer to output layer\n",
        "W2 = torch.randn(n_hidden, n_output)\n",
        "print(\"Weights for H2 =\", W2)\n",
        "print(\"W2 shape =\", W2.shape)\n",
        "\n",
        "# and bias teams for hidden and output layers\n",
        "B1 = torch.randn((1, n_hidden))\n",
        "B2 = torch.randn((1, n_output))\n",
        "print(\"Bias for H1 =\", B1)\n",
        "print(\"B1 shape =\", B1.shape)\n",
        "print(\"Bias for H2 =\", B2)\n",
        "print(\"B2 shape =\", B2.shape)"
      ],
      "execution_count": 11,
      "outputs": [
        {
          "output_type": "stream",
          "text": [
            "features = tensor([[-0.1468,  0.7861,  0.9468]])\n",
            "features shape = torch.Size([1, 3])\n",
            "Number of input = 3 \n",
            "Number of hidden units = 2 \n",
            "Number of output = 1\n",
            "Weights for H1 = tensor([[-1.1143,  1.6908],\n",
            "        [-0.8948, -0.3556],\n",
            "        [ 1.2324,  0.1382]])\n",
            "W1 shape = torch.Size([3, 2])\n",
            "Weights for H2 = tensor([[-1.6822],\n",
            "        [ 0.3177]])\n",
            "W2 shape = torch.Size([2, 1])\n",
            "Bias for H1 = tensor([[0.1328, 0.1373]])\n",
            "B1 shape = torch.Size([1, 2])\n",
            "Bias for H2 = tensor([[0.2405]])\n",
            "B2 shape = torch.Size([1, 1])\n"
          ],
          "name": "stdout"
        }
      ]
    },
    {
      "cell_type": "code",
      "metadata": {
        "id": "Dzh9gR535a6X",
        "colab_type": "code",
        "colab": {}
      },
      "source": [
        ""
      ],
      "execution_count": 0,
      "outputs": []
    }
  ]
}