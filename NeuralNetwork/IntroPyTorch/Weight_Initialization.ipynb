{
  "nbformat": 4,
  "nbformat_minor": 0,
  "metadata": {
    "anaconda-cloud": {},
    "kernelspec": {
      "display_name": "Python [default]",
      "language": "python",
      "name": "python3"
    },
    "language_info": {
      "codemirror_mode": {
        "name": "ipython",
        "version": 3
      },
      "file_extension": ".py",
      "mimetype": "text/x-python",
      "name": "python",
      "nbconvert_exporter": "python",
      "pygments_lexer": "ipython3",
      "version": "3.6.4"
    },
    "colab": {
      "name": "weight_initialization_solution.ipynb",
      "provenance": [],
      "include_colab_link": true
    }
  },
  "cells": [
    {
      "cell_type": "markdown",
      "metadata": {
        "id": "view-in-github",
        "colab_type": "text"
      },
      "source": [
        "<a href=\"https://colab.research.google.com/github/MengOonLee/BertelsmannAITrack/blob/master/NeuralNetwork/IntroPyTorch/Weight_Initialization.ipynb\" target=\"_parent\"><img src=\"https://colab.research.google.com/assets/colab-badge.svg\" alt=\"Open In Colab\"/></a>"
      ]
    },
    {
      "cell_type": "markdown",
      "metadata": {
        "id": "XCfMGkh_walw",
        "colab_type": "text"
      },
      "source": [
        "# Weight Initialization\n",
        "In this lesson, you'll learn how to find good initial weights for a neural network. Weight initialization happens once, when a model is created and before it trains. Having good initial weights can place the neural network close to the optimal solution. This allows the neural network to come to the best solution quicker. \n",
        "\n",
        "![neuron_weights](https://raw.githubusercontent.com/udacity/deep-learning-v2-pytorch/master/weight-initialization/notebook_ims/neuron_weights.png)\n",
        "\n",
        "## Initial Weights and Observing Training Loss\n",
        "\n",
        "To see how different weights perform, we'll test on the same dataset and neural network. That way, we know that any changes in model behavior are due to the weights and not any changing data or model structure. \n",
        "> We'll instantiate at least two of the same models, with _different_ initial weights and see how the training loss decreases over time, such as in the example below. \n",
        "\n",
        "![loss_comparison_ex](https://raw.githubusercontent.com/udacity/deep-learning-v2-pytorch/master/weight-initialization/notebook_ims/loss_comparison_ex.png)\n",
        "\n",
        "Sometimes the differences in training loss, over time, will be large and other times, certain weights offer only small improvements.\n",
        "\n",
        "### Dataset and Model\n",
        "\n",
        "We'll train an MLP to classify images from the [Fashion-MNIST database](https://github.com/zalandoresearch/fashion-mnist) to demonstrate the effect of different initial weights. As a reminder, the FashionMNIST dataset contains images of clothing types; `classes = ['T-shirt/top', 'Trouser', 'Pullover', 'Dress', 'Coat', 'Sandal', 'Shirt', 'Sneaker', 'Bag', 'Ankle boot']`. The images are normalized so that their pixel values are in a range [0.0 - 1.0).  Run the cell below to download and load the dataset.\n",
        "\n",
        "---"
      ]
    },
    {
      "cell_type": "markdown",
      "metadata": {
        "id": "lGi2tcKawalz",
        "colab_type": "text"
      },
      "source": [
        "### Import Libraries and Load [Data](http://pytorch.org/docs/stable/torchvision/datasets.html)"
      ]
    },
    {
      "cell_type": "code",
      "metadata": {
        "id": "HLm6KMEdwal1",
        "colab_type": "code",
        "colab": {}
      },
      "source": [
        "import torch\n",
        "import numpy as np\n",
        "from torchvision import datasets\n",
        "import torchvision.transforms as transforms\n",
        "from torch.utils.data.sampler import SubsetRandomSampler\n",
        "\n",
        "# number of subprocesses to use for data loading\n",
        "num_workers = 5\n",
        "# how many samples per batch to load\n",
        "batch_size = 100\n",
        "# percentage of training set to use as validation\n",
        "valid_size = 0.2\n",
        "\n",
        "# convert data to torch.FloatTensor\n",
        "transform = transforms.ToTensor()\n",
        "\n",
        "# choose the training and test datasets\n",
        "train_data = datasets.FashionMNIST(root='data', train=True,\n",
        "                                   download=True, transform=transform)\n",
        "test_data = datasets.FashionMNIST(root='data', train=False,\n",
        "                                  download=True, transform=transform)\n",
        "\n",
        "# obtain training indices that will be used for validation\n",
        "num_train = len(train_data)\n",
        "indices = list(range(num_train))\n",
        "np.random.shuffle(indices)\n",
        "split = int(np.floor(valid_size * num_train))\n",
        "train_idx, valid_idx = indices[split:], indices[:split]\n",
        "\n",
        "# define samplers for obtaining training and validation batches\n",
        "train_sampler = SubsetRandomSampler(train_idx)\n",
        "valid_sampler = SubsetRandomSampler(valid_idx)\n",
        "\n",
        "# prepare data loaders (combine dataset and sampler)\n",
        "train_loader = torch.utils.data.DataLoader(train_data, batch_size=batch_size,\n",
        "    sampler=train_sampler, num_workers=num_workers)\n",
        "valid_loader = torch.utils.data.DataLoader(train_data, batch_size=batch_size, \n",
        "    sampler=valid_sampler, num_workers=num_workers)\n",
        "test_loader = torch.utils.data.DataLoader(test_data, batch_size=batch_size, \n",
        "    num_workers=num_workers)\n",
        "\n",
        "# specify the image classes\n",
        "classes = ['T-shirt/top', 'Trouser', 'Pullover', 'Dress', 'Coat', \n",
        "    'Sandal', 'Shirt', 'Sneaker', 'Bag', 'Ankle boot']"
      ],
      "execution_count": 0,
      "outputs": []
    },
    {
      "cell_type": "markdown",
      "metadata": {
        "id": "x_U5xtLxwamE",
        "colab_type": "text"
      },
      "source": [
        "### Visualize Some Training Data"
      ]
    },
    {
      "cell_type": "code",
      "metadata": {
        "id": "D4CORBzUwamG",
        "colab_type": "code",
        "outputId": "29ceb807-8a9e-482e-a192-86d80868c9af",
        "colab": {
          "base_uri": "https://localhost:8080/",
          "height": 166
        }
      },
      "source": [
        "import matplotlib.pyplot as plt\n",
        "%matplotlib inline\n",
        "    \n",
        "# obtain one batch of training images\n",
        "dataiter = iter(train_loader)\n",
        "images, labels = dataiter.next()\n",
        "images = images.numpy()\n",
        "\n",
        "# plot the images in the batch, along with the corresponding labels\n",
        "fig = plt.figure(figsize=(25, 4))\n",
        "for idx in np.arange(20):\n",
        "    ax = fig.add_subplot(2, 20/2, idx+1, xticks=[], yticks=[])\n",
        "    ax.imshow(np.squeeze(images[idx]), cmap='gray')\n",
        "    ax.set_title(classes[labels[idx]])"
      ],
      "execution_count": 2,
      "outputs": [
        {
          "output_type": "display_data",
          "data": {
            "image/png": "[encoded data removed]",
            "text/plain": [
              "<Figure size 1800x288 with 20 Axes>"
            ]
          },
          "metadata": {
            "tags": []
          }
        }
      ]
    },
    {
      "cell_type": "markdown",
      "metadata": {
        "id": "8L0k-AqRwamP",
        "colab_type": "text"
      },
      "source": [
        "## Define the Model Architecture\n",
        "\n",
        "We've defined the MLP that we'll use for classifying the dataset.\n",
        "\n",
        "### Neural Network\n",
        "![neural_net](https://raw.githubusercontent.com/udacity/deep-learning-v2-pytorch/master/weight-initialization/notebook_ims/neural_net.png)\n",
        "\n",
        "* A 3 layer MLP with hidden dimensions of 256 and 128. \n",
        "\n",
        "* This MLP accepts a flattened image (784-value long vector) as input and produces 10 class scores as output.\n",
        "---\n",
        "We'll test the effect of different initial weights on this 3 layer neural network with ReLU activations and an Adam optimizer.  \n",
        "\n",
        "The lessons you learn apply to other neural networks, including different activations and optimizers."
      ]
    },
    {
      "cell_type": "markdown",
      "metadata": {
        "id": "ozaq-XOiwamQ",
        "colab_type": "text"
      },
      "source": [
        "---\n",
        "## Initialize Weights\n",
        "Let's start looking at some initial weights.\n",
        "### All Zeros or Ones\n",
        "If you follow the principle of [Occam's razor](https://en.wikipedia.org/wiki/Occam's_razor), you might think setting all the weights to 0 or 1 would be the best solution.  This is not the case.\n",
        "\n",
        "With every weight the same, all the neurons at each layer are producing the same output.  This makes it hard to decide which weights to adjust.\n",
        "\n",
        "Let's compare the loss with all ones and all zero weights by defining two models with those constant weights.\n",
        "\n",
        "Below, we are using PyTorch's [nn.init](https://pytorch.org/docs/stable/nn.html#torch-nn-init) to initialize each Linear layer with a constant weight. The init library provides a number of weight initialization functions that give you the ability to initialize the weights of each layer according to layer type.\n",
        "\n",
        "In the case below, we look at every layer/module in our model. If it is a Linear layer (as all three layers are for this MLP), then we initialize those layer weights to be a `constant_weight` with bias=0 using the following code:\n",
        ">```\n",
        "if isinstance(m, nn.Linear):\n",
        "    nn.init.constant_(m.weight, constant_weight)\n",
        "    nn.init.constant_(m.bias, 0)\n",
        "```\n",
        "\n",
        "The `constant_weight` is a value that you can pass in when you instantiate the model."
      ]
    },
    {
      "cell_type": "code",
      "metadata": {
        "id": "6XDyR543wamR",
        "colab_type": "code",
        "colab": {}
      },
      "source": [
        "import torch.nn as nn\n",
        "import torch.nn.functional as F\n",
        "\n",
        "# define the NN architecture\n",
        "class Net(nn.Module):\n",
        "    def __init__(self, hidden_1=256, hidden_2=128, constant_weight=None):\n",
        "        super(Net, self).__init__()\n",
        "        # linear layer (784 -> hidden_1)\n",
        "        self.fc1 = nn.Linear(28 * 28, hidden_1)\n",
        "        # linear layer (hidden_1 -> hidden_2)\n",
        "        self.fc2 = nn.Linear(hidden_1, hidden_2)\n",
        "        # linear layer (hidden_2 -> 10)\n",
        "        self.fc3 = nn.Linear(hidden_2, 10)\n",
        "        # dropout layer (p=0.2)\n",
        "        self.dropout = nn.Dropout(0.2)\n",
        "        \n",
        "        # initialize the weights to a specified, constant value\n",
        "        if(constant_weight is not None):\n",
        "            for m in self.modules():\n",
        "                if isinstance(m, nn.Linear):\n",
        "                    nn.init.constant_(m.weight, constant_weight)\n",
        "                    nn.init.constant_(m.bias, 0)\n",
        "    \n",
        "            \n",
        "    def forward(self, x):\n",
        "        # flatten image input\n",
        "        x = x.view(-1, 28 * 28)\n",
        "        # add hidden layer, with relu activation function\n",
        "        x = F.relu(self.fc1(x))\n",
        "        # add dropout layer\n",
        "        x = self.dropout(x)\n",
        "        # add hidden layer, with relu activation function\n",
        "        x = F.relu(self.fc2(x))\n",
        "        # add dropout layer\n",
        "        x = self.dropout(x)\n",
        "        # add output layer\n",
        "        x = self.fc3(x)\n",
        "        return x"
      ],
      "execution_count": 0,
      "outputs": []
    },
    {
      "cell_type": "markdown",
      "metadata": {
        "id": "4CbXELnVwamY",
        "colab_type": "text"
      },
      "source": [
        "### Compare Model Behavior\n",
        "\n",
        "Below, we are using `helpers.compare_init_weights` to compare the training and validation loss for the two models we defined above, `model_0` and `model_1`.  This function takes in a list of models (each with different initial weights), the name of the plot to produce, and the training and validation dataset loaders. For each given model, it will plot the training loss for the first 100 batches and print out the validation accuracy after 2 training epochs. *Note: if you've used a small batch_size, you may want to increase the number of epochs here to better compare how models behave after seeing a few hundred images.* \n",
        "\n",
        "We plot the loss over the first 100 batches to better judge which model weights performed better at the start of training. **I recommend that you take a look at the code in `helpers.py` to look at the details behind how the models are trained, validated, and compared.**\n",
        "\n",
        "Run the cell below to see the difference between weights of all zeros against all ones."
      ]
    },
    {
      "cell_type": "code",
      "metadata": {
        "id": "_uRGwKUlwamZ",
        "colab_type": "code",
        "colab": {}
      },
      "source": [
        "# initialize two NN's with 0 and 1 constant weights\n",
        "model_0 = Net(constant_weight=0)\n",
        "model_1 = Net(constant_weight=1)"
      ],
      "execution_count": 0,
      "outputs": []
    },
    {
      "cell_type": "code",
      "metadata": {
        "id": "mn35W5uX89Gm",
        "colab_type": "code",
        "outputId": "74b536d7-0456-4daa-ee59-9648894911c2",
        "colab": {
          "base_uri": "https://localhost:8080/",
          "height": 34
        }
      },
      "source": [
        "%%file ./helpers.py\n",
        "\n",
        "import numpy as np\n",
        "import matplotlib.pyplot as plt\n",
        "\n",
        "import torch\n",
        "import torch.nn as nn\n",
        "import torch.optim\n",
        "\n",
        "\n",
        "def _get_loss_acc(model, train_loader, valid_loader):\n",
        "    \"\"\"\n",
        "    Get losses and validation accuracy of example neural network\n",
        "    \"\"\"\n",
        "    n_epochs = 2\n",
        "    learning_rate = 0.001\n",
        "    \n",
        "    # Training loss\n",
        "    criterion = nn.CrossEntropyLoss()\n",
        "\n",
        "    # Optimizer\n",
        "    optimizer = torch.optim.Adam(model.parameters(), learning_rate)\n",
        "\n",
        "    # Measurements used for graphing loss\n",
        "    loss_batch = []\n",
        "\n",
        "    for epoch in range(1, n_epochs+1):\n",
        "        # initialize var to monitor training loss\n",
        "        train_loss = 0.0\n",
        "        ###################\n",
        "        # train the model #\n",
        "        ###################\n",
        "        for data, target in train_loader:\n",
        "            # clear the gradients of all optimized variables\n",
        "            optimizer.zero_grad()\n",
        "            # forward pass: compute predicted outputs by passing inputs to the model\n",
        "            output = model(data)\n",
        "            # calculate the batch loss\n",
        "            loss = criterion(output, target)\n",
        "            # backward pass: compute gradient of the loss with respect to model parameters\n",
        "            loss.backward()\n",
        "            # perform a single optimization step (parameter update)\n",
        "            optimizer.step()\n",
        "            # record average batch loss \n",
        "            loss_batch.append(loss.item())\n",
        "             \n",
        "    # after training for 2 epochs, check validation accuracy \n",
        "    correct = 0\n",
        "    total = 0\n",
        "    for data, target in valid_loader:\n",
        "        # forward pass: compute predicted outputs by passing inputs to the model\n",
        "        output = model(data)\n",
        "        # get the predicted class from the maximum class score\n",
        "        _, predicted = torch.max(output.data, 1)\n",
        "        # count up total number of correct labels\n",
        "        # for which the predicted and true labels are equal\n",
        "        total += target.size(0)\n",
        "        correct += (predicted == target).sum()\n",
        "      \n",
        "    # calculate the accuracy\n",
        "    # to convert `correct` from a Tensor into a scalar, use .item()\n",
        "    valid_acc = correct.item() / total\n",
        "\n",
        "    # return model stats\n",
        "    return loss_batch, valid_acc\n",
        "\n",
        "\n",
        "def compare_init_weights(\n",
        "        model_list,\n",
        "        plot_title,\n",
        "        train_loader,\n",
        "        valid_loader,\n",
        "        plot_n_batches=100):\n",
        "    \"\"\"\n",
        "    Plot loss and print stats of weights using an example neural network\n",
        "    \"\"\"\n",
        "    colors = ['r', 'b', 'g', 'c', 'y', 'k']\n",
        "    label_accs = []\n",
        "    label_loss = []\n",
        "\n",
        "    assert len(model_list) <= len(colors), 'Too many initial weights to plot'\n",
        "\n",
        "    for i, (model, label) in enumerate(model_list):\n",
        "        loss, val_acc = _get_loss_acc(model, train_loader, valid_loader)\n",
        "\n",
        "        plt.plot(loss[:plot_n_batches], colors[i], label=label)\n",
        "        label_accs.append((label, val_acc))\n",
        "        label_loss.append((label, loss[-1]))\n",
        "\n",
        "    plt.title(plot_title)\n",
        "    plt.xlabel('Batches')\n",
        "    plt.ylabel('Loss')\n",
        "    plt.legend(bbox_to_anchor=(1.05, 1), loc=2, borderaxespad=0.)\n",
        "    plt.show()\n",
        "\n",
        "    print('After 2 Epochs:')\n",
        "    print('Validation Accuracy')\n",
        "    for label, val_acc in label_accs:\n",
        "        print('  {:7.3f}% -- {}'.format(val_acc*100, label))\n",
        "    print('Training Loss')\n",
        "    for label, loss in label_loss:\n",
        "        print('  {:7.3f}  -- {}'.format(loss, label))\n",
        "        \n",
        "\n",
        "def hist_dist(title, distribution_tensor, hist_range=(-4, 4)):\n",
        "    \"\"\"\n",
        "    Display histogram of values in a given distribution tensor\n",
        "    \"\"\"\n",
        "    plt.title(title)\n",
        "    plt.hist(distribution_tensor, np.linspace(*hist_range, num=len(distribution_tensor)//2))\n",
        "    plt.show()"
      ],
      "execution_count": 5,
      "outputs": [
        {
          "output_type": "stream",
          "text": [
            "Overwriting ./helpers.py\n"
          ],
          "name": "stdout"
        }
      ]
    },
    {
      "cell_type": "code",
      "metadata": {
        "id": "rQex8-qewamg",
        "colab_type": "code",
        "outputId": "7ecbf197-eb5f-4bb5-88fe-253e1bffa4e4",
        "colab": {
          "base_uri": "https://localhost:8080/",
          "height": 417
        }
      },
      "source": [
        "import helpers\n",
        "\n",
        "# put them in list form to compare\n",
        "model_list = [(model_0, 'All Zeros'),\n",
        "              (model_1, 'All Ones')]\n",
        "\n",
        "\n",
        "# plot the loss over the first 100 batches\n",
        "helpers.compare_init_weights(model_list, \n",
        "                             'All Zeros vs All Ones', \n",
        "                             train_loader,\n",
        "                             valid_loader)"
      ],
      "execution_count": 6,
      "outputs": [
        {
          "output_type": "display_data",
          "data": {
            "image/png": "[encoded data removed]",
            "text/plain": [
              "<Figure size 432x288 with 1 Axes>"
            ]
          },
          "metadata": {
            "tags": [],
            "needs_background": "light"
          }
        },
        {
          "output_type": "stream",
          "text": [
            "After 2 Epochs:\n",
            "Validation Accuracy\n",
            "    9.850% -- All Zeros\n",
            "   10.175% -- All Ones\n",
            "Training Loss\n",
            "    2.304  -- All Zeros\n",
            "  677.526  -- All Ones\n"
          ],
          "name": "stdout"
        }
      ]
    },
    {
      "cell_type": "markdown",
      "metadata": {
        "id": "LnQO3oSOwamn",
        "colab_type": "text"
      },
      "source": [
        "As you can see the accuracy is close to guessing for both zeros and ones, around 10%.\n",
        "\n",
        "The neural network is having a hard time determining which weights need to be changed, since the neurons have the same output for each layer.  To avoid neurons with the same output, let's use unique weights.  We can also randomly select these weights to avoid being stuck in a local minimum for each run.\n",
        "\n",
        "A good solution for getting these random weights is to sample from a uniform distribution."
      ]
    },
    {
      "cell_type": "markdown",
      "metadata": {
        "collapsed": true,
        "id": "G2m7rhmhwamo",
        "colab_type": "text"
      },
      "source": [
        "### Uniform Distribution\n",
        "A [uniform distribution](https://en.wikipedia.org/wiki/Uniform_distribution) has the equal probability of picking any number from a set of numbers. We'll be picking from a continuous distribution, so the chance of picking the same number is low. We'll use NumPy's `np.random.uniform` function to pick random numbers from a uniform distribution.\n",
        "\n",
        ">#### [`np.random_uniform(low=0.0, high=1.0, size=None)`](https://docs.scipy.org/doc/numpy/reference/generated/numpy.random.uniform.html)\n",
        ">Outputs random values from a uniform distribution.\n",
        "\n",
        ">The generated values follow a uniform distribution in the range [low, high). The lower bound minval is included in the range, while the upper bound maxval is excluded.\n",
        "\n",
        ">- **low:** The lower bound on the range of random values to generate. Defaults to 0.\n",
        "- **high:** The upper bound on the range of random values to generate. Defaults to 1.\n",
        "- **size:** An int or tuple of ints that specify the shape of the output array.\n",
        "\n",
        "We can visualize the uniform distribution by using a histogram. Let's map the values from `np.random_uniform(-3, 3, [1000])` to a histogram using the `helper.hist_dist` function. This will be `1000` random float values from `-3` to `3`, excluding the value `3`."
      ]
    },
    {
      "cell_type": "code",
      "metadata": {
        "id": "CP8azMnBwamp",
        "colab_type": "code",
        "outputId": "cb646423-512c-4be4-b460-2bf11f533de9",
        "colab": {
          "base_uri": "https://localhost:8080/",
          "height": 281
        }
      },
      "source": [
        "helpers.hist_dist('Random Uniform (low=-3, high=3)', np.random.uniform(-3, 3, [1000]))"
      ],
      "execution_count": 7,
      "outputs": [
        {
          "output_type": "display_data",
          "data": {
            "image/png": "[encoded data removed]",
            "text/plain": [
              "<Figure size 432x288 with 1 Axes>"
            ]
          },
          "metadata": {
            "tags": [],
            "needs_background": "light"
          }
        }
      ]
    },
    {
      "cell_type": "markdown",
      "metadata": {
        "id": "icefNCK5wamv",
        "colab_type": "text"
      },
      "source": [
        "The histogram used 500 buckets for the 1000 values.  Since the chance for any single bucket is the same, there should be around 2 values for each bucket. That's exactly what we see with the histogram.  Some buckets have more and some have less, but they trend around 2.\n",
        "\n",
        "Now that you understand the uniform function, let's use PyTorch's `nn.init` to apply it to a model's initial weights.\n",
        "\n",
        "### Uniform Initialization, Baseline\n",
        "\n",
        "\n",
        "Let's see how well the neural network trains using a uniform weight initialization, where `low=0.0` and `high=1.0`. Below, I'll show you another way (besides in the Net class code) to initialize the weights of a network. To define weights outside of the model definition, you can:\n",
        ">1. Define a function that assigns weights by the type of network layer, *then* \n",
        "2. Apply those weights to an initialized model using `model.apply(fn)`, which applies a function to each model layer.\n",
        "\n",
        "This time, we'll use `weight.data.uniform_` to initialize the weights of our model, directly."
      ]
    },
    {
      "cell_type": "code",
      "metadata": {
        "id": "CfD1SPv4wamw",
        "colab_type": "code",
        "colab": {}
      },
      "source": [
        "# takes in a module and applies the specified weight initialization\n",
        "def weights_init_uniform(m):\n",
        "    classname = m.__class__.__name__\n",
        "    # for every Linear layer in a model..\n",
        "    if classname.find('Linear') != -1:\n",
        "        # apply a uniform distribution to the weights and a bias=0\n",
        "        m.weight.data.uniform_(0.0, 1.0)\n",
        "        m.bias.data.fill_(0)"
      ],
      "execution_count": 0,
      "outputs": []
    },
    {
      "cell_type": "code",
      "metadata": {
        "id": "CHLIzcBuwam2",
        "colab_type": "code",
        "outputId": "f020cd8e-4328-4f51-fae8-8c1399a6d01e",
        "colab": {
          "base_uri": "https://localhost:8080/",
          "height": 121
        }
      },
      "source": [
        "# create a new model with these weights\n",
        "model_uniform = Net()\n",
        "model_uniform.apply(weights_init_uniform)"
      ],
      "execution_count": 9,
      "outputs": [
        {
          "output_type": "execute_result",
          "data": {
            "text/plain": [
              "Net(\n",
              "  (fc1): Linear(in_features=784, out_features=256, bias=True)\n",
              "  (fc2): Linear(in_features=256, out_features=128, bias=True)\n",
              "  (fc3): Linear(in_features=128, out_features=10, bias=True)\n",
              "  (dropout): Dropout(p=0.2, inplace=False)\n",
              ")"
            ]
          },
          "metadata": {
            "tags": []
          },
          "execution_count": 9
        }
      ]
    },
    {
      "cell_type": "code",
      "metadata": {
        "id": "Z5EUN0yVwam7",
        "colab_type": "code",
        "outputId": "7a7a1ebf-6e99-47f5-eaf4-c0c4bc8c3511",
        "colab": {
          "base_uri": "https://localhost:8080/",
          "height": 382
        }
      },
      "source": [
        "# evaluate behavior \n",
        "helpers.compare_init_weights([(model_uniform, 'Uniform Weights')], \n",
        "                             'Uniform Baseline', \n",
        "                             train_loader,\n",
        "                             valid_loader)"
      ],
      "execution_count": 10,
      "outputs": [
        {
          "output_type": "display_data",
          "data": {
            "image/png": "[encoded data removed]",
            "text/plain": [
              "<Figure size 432x288 with 1 Axes>"
            ]
          },
          "metadata": {
            "tags": [],
            "needs_background": "light"
          }
        },
        {
          "output_type": "stream",
          "text": [
            "After 2 Epochs:\n",
            "Validation Accuracy\n",
            "   31.100% -- Uniform Weights\n",
            "Training Loss\n",
            "    3.135  -- Uniform Weights\n"
          ],
          "name": "stdout"
        }
      ]
    },
    {
      "cell_type": "markdown",
      "metadata": {
        "id": "Zrvrpi3QwanB",
        "colab_type": "text"
      },
      "source": [
        "---\n",
        "The loss graph is showing the neural network is learning, which it didn't with all zeros or all ones. We're headed in the right direction!\n",
        "\n",
        "## General rule for setting weights\n",
        "The general rule for setting the weights in a neural network is to set them to be close to zero without being too small. \n",
        ">Good practice is to start your weights in the range of $[-y, y]$ where $y=1/\\sqrt{n}$  \n",
        "($n$ is the number of inputs to a given neuron).\n",
        "\n",
        "Let's see if this holds true; let's create a baseline to compare with and center our uniform range over zero by shifting it over by 0.5.  This will give us the range [-0.5, 0.5)."
      ]
    },
    {
      "cell_type": "code",
      "metadata": {
        "id": "YqJ9f1zWwanC",
        "colab_type": "code",
        "outputId": "68790d3b-feb7-44b5-bc1f-cf792b3223cd",
        "colab": {
          "base_uri": "https://localhost:8080/",
          "height": 121
        }
      },
      "source": [
        "# takes in a module and applies the specified weight initialization\n",
        "def weights_init_uniform_center(m):\n",
        "    classname = m.__class__.__name__\n",
        "    # for every Linear layer in a model..\n",
        "    if classname.find('Linear') != -1:\n",
        "        # apply a centered, uniform distribution to the weights\n",
        "        m.weight.data.uniform_(-0.5, 0.5)\n",
        "        m.bias.data.fill_(0)\n",
        "\n",
        "# create a new model with these weights\n",
        "model_centered = Net()\n",
        "model_centered.apply(weights_init_uniform_center)"
      ],
      "execution_count": 11,
      "outputs": [
        {
          "output_type": "execute_result",
          "data": {
            "text/plain": [
              "Net(\n",
              "  (fc1): Linear(in_features=784, out_features=256, bias=True)\n",
              "  (fc2): Linear(in_features=256, out_features=128, bias=True)\n",
              "  (fc3): Linear(in_features=128, out_features=10, bias=True)\n",
              "  (dropout): Dropout(p=0.2, inplace=False)\n",
              ")"
            ]
          },
          "metadata": {
            "tags": []
          },
          "execution_count": 11
        }
      ]
    },
    {
      "cell_type": "markdown",
      "metadata": {
        "id": "GCYGIHFcwanI",
        "colab_type": "text"
      },
      "source": [
        "Then let's create a distribution and model that uses the **general rule** for weight initialization; using the range $[-y, y]$, where $y=1/\\sqrt{n}$ .\n",
        "\n",
        "And finally, we'll compare the two models."
      ]
    },
    {
      "cell_type": "code",
      "metadata": {
        "id": "pq9-iYrqwanK",
        "colab_type": "code",
        "outputId": "cbd79c49-50b9-4449-cbe4-f50393ab828b",
        "colab": {
          "base_uri": "https://localhost:8080/",
          "height": 121
        }
      },
      "source": [
        "# takes in a module and applies the specified weight initialization\n",
        "def weights_init_uniform_rule(m):\n",
        "    classname = m.__class__.__name__\n",
        "    # for every Linear layer in a model..\n",
        "    if classname.find('Linear') != -1:\n",
        "        # get the number of the inputs\n",
        "        n = m.in_features\n",
        "        y = 1.0/np.sqrt(n)\n",
        "        m.weight.data.uniform_(-y, y)\n",
        "        m.bias.data.fill_(0)\n",
        "\n",
        "# create a new model with these weights\n",
        "model_rule = Net()\n",
        "model_rule.apply(weights_init_uniform_rule)"
      ],
      "execution_count": 12,
      "outputs": [
        {
          "output_type": "execute_result",
          "data": {
            "text/plain": [
              "Net(\n",
              "  (fc1): Linear(in_features=784, out_features=256, bias=True)\n",
              "  (fc2): Linear(in_features=256, out_features=128, bias=True)\n",
              "  (fc3): Linear(in_features=128, out_features=10, bias=True)\n",
              "  (dropout): Dropout(p=0.2, inplace=False)\n",
              ")"
            ]
          },
          "metadata": {
            "tags": []
          },
          "execution_count": 12
        }
      ]
    },
    {
      "cell_type": "code",
      "metadata": {
        "id": "2QHAdfwEwanQ",
        "colab_type": "code",
        "outputId": "f2caf526-32af-41f8-b38b-3ee9dd6ee547",
        "colab": {
          "base_uri": "https://localhost:8080/",
          "height": 417
        }
      },
      "source": [
        "# compare these two models\n",
        "model_list = [(model_centered, 'Centered Weights [-0.5, 0.5)'), \n",
        "              (model_rule, 'General Rule [-y, y)')]\n",
        "\n",
        "# evaluate behavior \n",
        "helpers.compare_init_weights(model_list, \n",
        "                             '[-0.5, 0.5) vs [-y, y)', \n",
        "                             train_loader,\n",
        "                             valid_loader)"
      ],
      "execution_count": 13,
      "outputs": [
        {
          "output_type": "display_data",
          "data": {
            "image/png": "[encoded data removed]",
            "text/plain": [
              "<Figure size 432x288 with 1 Axes>"
            ]
          },
          "metadata": {
            "tags": [],
            "needs_background": "light"
          }
        },
        {
          "output_type": "stream",
          "text": [
            "After 2 Epochs:\n",
            "Validation Accuracy\n",
            "   76.500% -- Centered Weights [-0.5, 0.5)\n",
            "   85.733% -- General Rule [-y, y)\n",
            "Training Loss\n",
            "    0.519  -- Centered Weights [-0.5, 0.5)\n",
            "    0.419  -- General Rule [-y, y)\n"
          ],
          "name": "stdout"
        }
      ]
    },
    {
      "cell_type": "markdown",
      "metadata": {
        "id": "K5sl8s8_wanU",
        "colab_type": "text"
      },
      "source": [
        "This behavior is really promising! Not only is the loss decreasing, but it seems to do so very quickly for our uniform weights that follow the general rule; after only two epochs we get a fairly high validation accuracy and this should give you some intuition for why starting out with the right initial weights can really help your training process!\n",
        "\n",
        "---\n",
        "\n",
        "Since the uniform distribution has the same chance to pick *any value* in a range, what if we used a distribution that had a higher chance of picking numbers closer to 0?  Let's look at the normal distribution.\n",
        "\n",
        "### Normal Distribution\n",
        "Unlike the uniform distribution, the [normal distribution](https://en.wikipedia.org/wiki/Normal_distribution) has a higher likelihood of picking number close to it's mean. To visualize it, let's plot values from NumPy's `np.random.normal` function to a histogram.\n",
        "\n",
        ">[np.random.normal(loc=0.0, scale=1.0, size=None)](https://docs.scipy.org/doc/numpy/reference/generated/numpy.random.normal.html)\n",
        "\n",
        ">Outputs random values from a normal distribution.\n",
        "\n",
        ">- **loc:** The mean of the normal distribution.\n",
        "- **scale:** The standard deviation of the normal distribution.\n",
        "- **shape:** The shape of the output array."
      ]
    },
    {
      "cell_type": "code",
      "metadata": {
        "id": "HEF0JyV3wanV",
        "colab_type": "code",
        "outputId": "3928cd07-7a7d-4c70-ecac-c29c76f8535e",
        "colab": {
          "base_uri": "https://localhost:8080/",
          "height": 281
        }
      },
      "source": [
        "helpers.hist_dist('Random Normal (mean=0.0, stddev=1.0)', np.random.normal(size=[1000]))"
      ],
      "execution_count": 14,
      "outputs": [
        {
          "output_type": "display_data",
          "data": {
            "image/png": "[encoded data removed]",
            "text/plain": [
              "<Figure size 432x288 with 1 Axes>"
            ]
          },
          "metadata": {
            "tags": [],
            "needs_background": "light"
          }
        }
      ]
    },
    {
      "cell_type": "markdown",
      "metadata": {
        "id": "jmjvEK2cwanb",
        "colab_type": "text"
      },
      "source": [
        "Let's compare the normal distribution against the previous, rule-based, uniform distribution.\n",
        "\n",
        "Below, we define a normal distribution that has a mean of 0 and a standard deviation of $y=1/\\sqrt{n}$."
      ]
    },
    {
      "cell_type": "code",
      "metadata": {
        "id": "T5oldw1Nwanc",
        "colab_type": "code",
        "colab": {}
      },
      "source": [
        "# takes in a module and applies the specified weight initialization\n",
        "def weights_init_normal(m):\n",
        "    classname = m.__class__.__name__\n",
        "    # for every Linear layer in a model..\n",
        "    if classname.find('Linear') != -1:\n",
        "        # get the number of the inputs\n",
        "        n = m.in_features\n",
        "        y = (1.0/np.sqrt(n))\n",
        "        m.weight.data.normal_(0, y)\n",
        "        m.bias.data.fill_(0)"
      ],
      "execution_count": 0,
      "outputs": []
    },
    {
      "cell_type": "code",
      "metadata": {
        "id": "4mk2Fd6kwang",
        "colab_type": "code",
        "outputId": "5f348956-9156-47ea-f9b2-e73aea8bbbb6",
        "colab": {
          "base_uri": "https://localhost:8080/",
          "height": 121
        }
      },
      "source": [
        "# create a new model with the rule-based, uniform weights\n",
        "model_uniform_rule = Net()\n",
        "model_uniform_rule.apply(weights_init_uniform_rule)\n",
        "\n",
        "# create a new model with the rule-based, NORMAL weights\n",
        "model_normal_rule = Net()\n",
        "model_normal_rule.apply(weights_init_normal)"
      ],
      "execution_count": 16,
      "outputs": [
        {
          "output_type": "execute_result",
          "data": {
            "text/plain": [
              "Net(\n",
              "  (fc1): Linear(in_features=784, out_features=256, bias=True)\n",
              "  (fc2): Linear(in_features=256, out_features=128, bias=True)\n",
              "  (fc3): Linear(in_features=128, out_features=10, bias=True)\n",
              "  (dropout): Dropout(p=0.2, inplace=False)\n",
              ")"
            ]
          },
          "metadata": {
            "tags": []
          },
          "execution_count": 16
        }
      ]
    },
    {
      "cell_type": "code",
      "metadata": {
        "id": "egrvWnZpwanl",
        "colab_type": "code",
        "outputId": "9cd18d2e-6dc9-4598-edf2-cb38e8ccfe55",
        "colab": {
          "base_uri": "https://localhost:8080/",
          "height": 417
        }
      },
      "source": [
        "# compare the two models\n",
        "model_list = [(model_uniform_rule, 'Uniform Rule [-y, y)'), \n",
        "              (model_normal_rule, 'Normal Distribution')]\n",
        "\n",
        "# evaluate behavior \n",
        "helpers.compare_init_weights(model_list, \n",
        "                             'Uniform vs Normal', \n",
        "                             train_loader,\n",
        "                             valid_loader)"
      ],
      "execution_count": 17,
      "outputs": [
        {
          "output_type": "display_data",
          "data": {
            "image/png": "[encoded data removed]",
            "text/plain": [
              "<Figure size 432x288 with 1 Axes>"
            ]
          },
          "metadata": {
            "tags": [],
            "needs_background": "light"
          }
        },
        {
          "output_type": "stream",
          "text": [
            "After 2 Epochs:\n",
            "Validation Accuracy\n",
            "   85.533% -- Uniform Rule [-y, y)\n",
            "   85.275% -- Normal Distribution\n",
            "Training Loss\n",
            "    0.299  -- Uniform Rule [-y, y)\n",
            "    0.403  -- Normal Distribution\n"
          ],
          "name": "stdout"
        }
      ]
    },
    {
      "cell_type": "markdown",
      "metadata": {
        "id": "fX4iOFBiwanq",
        "colab_type": "text"
      },
      "source": [
        "The normal distribution gives us pretty similar behavior compared to the uniform distribution, in this case. This is likely because our network is so small; a larger neural network will pick more weight values from each of these distributions, magnifying the effect of both initialization styles. In general, a normal distribution will result in better performance for a model.\n"
      ]
    },
    {
      "cell_type": "markdown",
      "metadata": {
        "id": "lAeMdhV7wanv",
        "colab_type": "text"
      },
      "source": [
        "---\n",
        "\n",
        "### Automatic Initialization\n",
        "\n",
        "Let's quickly take a look at what happens *without any explicit weight initialization*."
      ]
    },
    {
      "cell_type": "code",
      "metadata": {
        "id": "nQxu-6Fawanw",
        "colab_type": "code",
        "colab": {}
      },
      "source": [
        "model_no_initialization = Net()"
      ],
      "execution_count": 0,
      "outputs": []
    },
    {
      "cell_type": "code",
      "metadata": {
        "id": "ZuQ2_2jlwan1",
        "colab_type": "code",
        "outputId": "634a98ca-f720-4f5b-fefe-2c97a9397bd0",
        "colab": {
          "base_uri": "https://localhost:8080/",
          "height": 382
        }
      },
      "source": [
        "model_list = [(model_no_initialization, 'No Weights')]\n",
        "\n",
        "# evaluate behavior \n",
        "helpers.compare_init_weights(model_list, \n",
        "                             'No Weight Initialization', \n",
        "                             train_loader,\n",
        "                             valid_loader)"
      ],
      "execution_count": 19,
      "outputs": [
        {
          "output_type": "display_data",
          "data": {
            "image/png": "[encoded data removed]",
            "text/plain": [
              "<Figure size 432x288 with 1 Axes>"
            ]
          },
          "metadata": {
            "tags": [],
            "needs_background": "light"
          }
        },
        {
          "output_type": "stream",
          "text": [
            "After 2 Epochs:\n",
            "Validation Accuracy\n",
            "   84.883% -- No Weights\n",
            "Training Loss\n",
            "    0.520  -- No Weights\n"
          ],
          "name": "stdout"
        }
      ]
    },
    {
      "cell_type": "markdown",
      "metadata": {
        "id": "DKRcC94cwan4",
        "colab_type": "text"
      },
      "source": [
        "### Default initialization\n",
        "\n",
        "Something really interesting is happening here. You may notice that the red line \"no weights\" looks a lot like our uniformly initialized weights. It turns out that PyTorch has default weight initialization behavior for every kind of layer. You can see that **linear layers are initialized with a uniform distribution** (uniform weights _and_ biases) in [the module source code](https://pytorch.org/docs/stable/_modules/torch/nn/modules/linear.html).\n",
        "\n",
        "---\n",
        "\n",
        "However, you can also see that the weights taken from a normal distribution are comparable, perhaps even a little better! So, it may still be useful, especially if you are trying to train the best models, to initialize the weights of a model according to rules that *you* define.\n",
        "\n",
        "And, this is not the end of your learning path! You're encouraged to look at the different types of [common initialization distributions](https://pytorch.org/docs/stable/nn.html#torch-nn-init). As you continue to learn in the classroom, you'll also see more resources for learning about and practicing weight initialization!"
      ]
    }
  ]
}