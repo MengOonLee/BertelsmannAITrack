{
  "nbformat": 4,
  "nbformat_minor": 0,
  "metadata": {
    "colab": {
      "name": "Untitled1.ipynb",
      "provenance": [],
      "include_colab_link": true
    },
    "kernelspec": {
      "name": "python3",
      "display_name": "Python 3"
    }
  },
  "cells": [
    {
      "cell_type": "markdown",
      "metadata": {
        "id": "view-in-github",
        "colab_type": "text"
      },
      "source": [
        "<a href=\"https://colab.research.google.com/github/MengOonLee/BertelsmannAITrack/blob/master/NeuralNetwork/MiniFlow/Fundamental.ipynb\" target=\"_parent\"><img src=\"https://colab.research.google.com/assets/colab-badge.svg\" alt=\"Open In Colab\"/></a>"
      ]
    },
    {
      "cell_type": "code",
      "metadata": {
        "id": "_SnKVyduNYs6",
        "colab_type": "code",
        "outputId": "6f33e1c9-845e-4be9-de19-8b73e1087478",
        "colab": {
          "base_uri": "https://localhost:8080/",
          "height": 34
        }
      },
      "source": [
        "%%file ./miniflow.py\n",
        "\n",
        "class Node(object):\n",
        "  def __init__(self, inbound_nodes=[]):\n",
        "    # Node(s) from which this Node receives values\n",
        "    self.inbound_nodes = inbound_nodes\n",
        "    # Node(s) to which this Node passes values\n",
        "    self.outbound_nodes = []\n",
        "    # For each inbound_node, add the current Node as outbound_node on its inputs.\n",
        "    for n in self.inbound_nodes:\n",
        "      n.outbound_nodes.append(self)\n",
        "    # A calculated value\n",
        "    self.value = None\n",
        "\n",
        "  # These will be implemented in a subclass.\n",
        "  def forward(self):\n",
        "    \"\"\"\n",
        "    Forward propagation.\n",
        "    \n",
        "    Compute the output value based on `inbound_nodes` \n",
        "    and store the result in self.value.\n",
        "    \"\"\"\n",
        "    raise NotImplemented\n",
        "\n",
        "class Input(Node):\n",
        "  def __init__(self):\n",
        "    # An Input node has no inbound nodes,\n",
        "    # so no need to pass anything to the Node instantiator\n",
        "    Node.__init__(self)\n",
        "\n",
        "  # Note: Input node is the only node where the value\n",
        "  # may be passed as an argument to forward().\n",
        "  #\n",
        "  # All other node implementations should calculate their\n",
        "  # values from the value of previous node, using self.inbound_nodes\n",
        "  #\n",
        "  # Example:\n",
        "  # val0 = self.inbound_nodes[0].value\n",
        "  def forward(self, value=None):\n",
        "    # Overwrite the value if one is passed in.\n",
        "    if value is not None:\n",
        "      self.value = value\n",
        "\n",
        "class Add(Node):\n",
        "  def __init__(self, x, y):\n",
        "    # You could access `x` and `y` in forward with\n",
        "    # self.inbound_nodes[0] (`x`) and self.inbound_nodes[1](`y`)\n",
        "    Node.__init__(self, [x, y]) # calls Node's constructor\n",
        "\n",
        "  def forward(self):\n",
        "    \"\"\"\n",
        "    Set the value of this node (`self.value`) to the sum of its inbound nodes.\n",
        "    Sum the value of each inbound_node to sum.\n",
        "    \"\"\"\n",
        "    x_value = self.inbound_nodes[0].value\n",
        "    y_value = self.inbound_nodes[1].value\n",
        "    self.value = x_value + y_value\n",
        "\n",
        "def topological_sort(feed_dict):\n",
        "  \"\"\"\n",
        "  Sort generic nodes in topological order using Kahn's Algorithm.\n",
        "  `feed_dict`: A dictionary where the key is a `Input` node \n",
        "  and the value is the respective value feed to that node.\n",
        "  Returns a list of sorted nodes.\n",
        "  \"\"\"\n",
        "\n",
        "  input_nodes = [n for n in feed_dict.keys()]\n",
        "\n",
        "  G = {}\n",
        "  nodes = [n for n in input_nodes]\n",
        "  while len(nodes) > 0:\n",
        "    n = nodes.pop(0)\n",
        "    if n not in G:\n",
        "      G[n] = {'in': set(), 'out': set()}\n",
        "    for m in n.outbound_nodes:\n",
        "      if m not in G:\n",
        "        G[m] = {'in': set(), 'out': set()}\n",
        "      G[n]['out'].add(m)\n",
        "      G[m]['in'].add(n)\n",
        "      nodes.append(m)\n",
        "\n",
        "  L = []\n",
        "  S = set(input_nodes)\n",
        "  while len(S) > 0:\n",
        "    n = S.pop()\n",
        "\n",
        "    if isinstance(n, Input):\n",
        "        n.value = feed_dict[n]\n",
        "\n",
        "    L.append(n)\n",
        "    for m in n.outbound_nodes:\n",
        "        G[n]['out'].remove(m)\n",
        "        G[m]['in'].remove(n)\n",
        "        # if no other incoming edges add to S\n",
        "        if len(G[m]['in'])==0:\n",
        "            S.add(m)\n",
        "  return L\n",
        "\n",
        "def forward_pass(output_node, sorted_nodes):\n",
        "  \"\"\"\n",
        "  Performs a forward pass through a list of sorted nodes.\n",
        "  Arguments:\n",
        "    `output_node`: A node in the graph, should be the output node \n",
        "      (have no outgoing edges).\n",
        "    `sorted_nodes`: A topologically sorted list of nodes.\n",
        "  Returns the output Node's value\n",
        "  \"\"\"\n",
        "\n",
        "  for n in sorted_nodes:\n",
        "    n.forward()\n",
        "\n",
        "  return output_node.value"
      ],
      "execution_count": 1,
      "outputs": [
        {
          "output_type": "stream",
          "text": [
            "Overwriting ./miniflow.py\n"
          ],
          "name": "stdout"
        }
      ]
    },
    {
      "cell_type": "markdown",
      "metadata": {
        "id": "gKnhTzPbHSRI",
        "colab_type": "text"
      },
      "source": [
        "## This script builds and runs a graph with miniflow."
      ]
    },
    {
      "cell_type": "code",
      "metadata": {
        "id": "qC8ocTTOPVc7",
        "colab_type": "code",
        "outputId": "6fd0db44-8efd-474c-af09-2381f359f811",
        "colab": {
          "base_uri": "https://localhost:8080/",
          "height": 34
        }
      },
      "source": [
        "\"\"\"\n",
        "This script builds and runs a graph with miniflow.\n",
        "\"\"\"\n",
        "\n",
        "from miniflow import *\n",
        "\n",
        "# Define 2 `Input` nodes.\n",
        "x, y = Input(), Input()\n",
        "\n",
        "# Define and `Add` node, the two above `Input` nodes being the input.\n",
        "f = Add(x, y)\n",
        "\n",
        "# The value of `x` and `y` will be set to 10 and 20 respectively.\n",
        "feed_dict = {x: 10, y: 5}\n",
        "\n",
        "# Sort the nodes with topological sort.\n",
        "sorted_nodes = topological_sort(feed_dict=feed_dict)\n",
        "\n",
        "output = forward_pass(f, sorted_nodes)\n",
        "\n",
        "# NOTE: because topological_sort sets the values for the `Input` nodes we could also access\n",
        "# the value for x with x.value (same goes for y).\n",
        "print(\"{} + {} = {} (according to miniflow)\".format(feed_dict[x], feed_dict[y], output))"
      ],
      "execution_count": 2,
      "outputs": [
        {
          "output_type": "stream",
          "text": [
            "10 + 5 = 15 (according to miniflow)\n"
          ],
          "name": "stdout"
        }
      ]
    }
  ]
}