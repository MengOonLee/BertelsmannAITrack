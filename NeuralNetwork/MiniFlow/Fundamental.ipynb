{
  "nbformat": 4,
  "nbformat_minor": 0,
  "metadata": {
    "colab": {
      "name": "Untitled1.ipynb",
      "provenance": [],
      "include_colab_link": true
    },
    "kernelspec": {
      "name": "python3",
      "display_name": "Python 3"
    }
  },
  "cells": [
    {
      "cell_type": "markdown",
      "metadata": {
        "id": "view-in-github",
        "colab_type": "text"
      },
      "source": [
        "<a href=\"https://colab.research.google.com/github/MengOonLee/BertelsmannAITrack/blob/master/NeuralNetwork/MiniFlow/Fundamental.ipynb\" target=\"_parent\"><img src=\"https://colab.research.google.com/assets/colab-badge.svg\" alt=\"Open In Colab\"/></a>"
      ]
    },
    {
      "cell_type": "code",
      "metadata": {
        "id": "_SnKVyduNYs6",
        "colab_type": "code",
        "outputId": "36af78d5-8996-4e69-f06f-515f18255322",
        "colab": {
          "base_uri": "https://localhost:8080/",
          "height": 34
        }
      },
      "source": [
        "%%file ./miniflow.py\n",
        "\n",
        "import numpy as np\n",
        "\n",
        "class Node(object):\n",
        "  def __init__(self, inbound_nodes=[]):\n",
        "    # Node(s) from which this Node receives values\n",
        "    self.inbound_nodes = inbound_nodes\n",
        "    # Node(s) to which this Node passes values\n",
        "    self.outbound_nodes = []\n",
        "    # For each inbound_node, add the current Node as outbound_node on its inputs.\n",
        "    for node in self.inbound_nodes:\n",
        "      node.outbound_nodes.append(self)\n",
        "    # A calculated value\n",
        "    self.value = None\n",
        "\n",
        "  # These will be implemented in a subclass.\n",
        "  def forward(self):\n",
        "    \"\"\"\n",
        "    Forward propagation.\n",
        "    \n",
        "    Compute the output value based on `inbound_nodes` \n",
        "    and store the result in self.value.\n",
        "    \"\"\"\n",
        "    raise NotImplementedError\n",
        "\n",
        "class Input(Node):\n",
        "  \"\"\"\n",
        "  While it may be strange to consider an input a node when\n",
        "  an input is only an individual node in a node, for the sake\n",
        "  of simpler code we'll still use Node as the base class.\n",
        "\n",
        "  Think of Input as collating many individual input nodes into\n",
        "  a Node.\n",
        "  \"\"\"\n",
        "  def __init__(self):\n",
        "    # An Input node has no inbound nodes,\n",
        "    # so no need to pass anything to the Node instantiator\n",
        "    Node.__init__(self)\n",
        "\n",
        "  # Note: Input node is the only node where the value\n",
        "  # may be passed as an argument to forward().\n",
        "  #\n",
        "  # All other node implementations should calculate their\n",
        "  # values from the value of previous node, using self.inbound_nodes\n",
        "  #\n",
        "  # Example:\n",
        "  # val0 = self.inbound_nodes[0].value\n",
        "  def forward(self, value=None):\n",
        "    # Overwrite the value if one is passed in.\n",
        "    if value is not None:\n",
        "      self.value = value\n",
        "\n",
        "class Linear(Node):\n",
        "  def __init__(self, X, W, b):\n",
        "    # Notice the ordering of the input nodes passed to the\n",
        "    # Node constructor.\n",
        "    Node.__init__(self, [X, W, b]) # calls Node's constructor\n",
        "\n",
        "    # NOTE: The weights and bias properties here are not\n",
        "    # numbers, but rather references to other nodes.\n",
        "    # The weight and bias values are stored within the \n",
        "    # respective nodes.\n",
        "\n",
        "  def forward(self):\n",
        "    \"\"\"\n",
        "    You could access the value in forward with self.inbound_nodes[i].value\n",
        "    Set self.value to the value of the linear transform output.\n",
        "    \"\"\"\n",
        "    X = self.inbound_nodes[0].value\n",
        "    W = self.inbound_nodes[1].value\n",
        "    b = self.inbound_nodes[2].value\n",
        "    self.value = np.dot(X, W) + b\n",
        "\n",
        "class Sigmoid(Node):\n",
        "  \"\"\"\n",
        "  Computes the sigmoid function on the forward pass.\n",
        "  \"\"\"\n",
        "  def __init__(self, node):\n",
        "    Node.__init__(self, [node])\n",
        "\n",
        "  def _sigmoid(self, x):\n",
        "    \"\"\"\n",
        "    This method is separate from `forward` because it \n",
        "    will be used later with `backward` as well.\n",
        "    `x`: A numpy array-like object.\n",
        "    Return the result of the sigmoid function.\n",
        "    \"\"\"\n",
        "    return 1. / (1. + np.exp(-x)) # the `.` ensures that `1` is a float\n",
        "\n",
        "  def forward(self):\n",
        "    \"\"\"\n",
        "    Set the value of this node to the result of the\n",
        "    sigmoid function, `_sigmoid`.\n",
        "    \"\"\"\n",
        "    input_value = self.inbound_nodes[0].value\n",
        "    self.value = self._sigmoid(input_value)\n",
        "\n",
        "def topological_sort(feed_dict):\n",
        "  \"\"\"\n",
        "  Sort generic nodes in topological order using Kahn's Algorithm.\n",
        "  `feed_dict`: A dictionary where the key is a `Input` node \n",
        "  and the value is the respective value feed to that node.\n",
        "  Returns a list of sorted nodes.\n",
        "  \"\"\"\n",
        "\n",
        "  input_nodes = [n for n in feed_dict.keys()]\n",
        "\n",
        "  G = {}\n",
        "  nodes = [n for n in input_nodes]\n",
        "  while len(nodes) > 0:\n",
        "    n = nodes.pop(0)\n",
        "    if n not in G:\n",
        "      G[n] = {'in': set(), 'out': set()}\n",
        "    for m in n.outbound_nodes:\n",
        "      if m not in G:\n",
        "        G[m] = {'in': set(), 'out': set()}\n",
        "      G[n]['out'].add(m)\n",
        "      G[m]['in'].add(n)\n",
        "      nodes.append(m)\n",
        "\n",
        "  L = []\n",
        "  S = set(input_nodes)\n",
        "  while len(S) > 0:\n",
        "    n = S.pop()\n",
        "\n",
        "    if isinstance(n, Input):\n",
        "        n.value = feed_dict[n]\n",
        "\n",
        "    L.append(n)\n",
        "    for m in n.outbound_nodes:\n",
        "        G[n]['out'].remove(m)\n",
        "        G[m]['in'].remove(n)\n",
        "        # if no other incoming edges add to S\n",
        "        if len(G[m]['in'])==0:\n",
        "            S.add(m)\n",
        "  return L\n",
        "\n",
        "def forward_pass(output_node, sorted_nodes):\n",
        "  \"\"\"\n",
        "  Performs a forward pass through a list of sorted nodes.\n",
        "  Arguments:\n",
        "    `output_node`: A node in the graph, should be the output node \n",
        "      (have no outgoing edges).\n",
        "    `sorted_nodes`: A topologically sorted list of nodes.\n",
        "  Returns the output Node's value\n",
        "  \"\"\"\n",
        "\n",
        "  for n in sorted_nodes:\n",
        "    n.forward()\n",
        "\n",
        "  return output_node.value"
      ],
      "execution_count": 1,
      "outputs": [
        {
          "output_type": "stream",
          "text": [
            "Overwriting ./miniflow.py\n"
          ],
          "name": "stdout"
        }
      ]
    },
    {
      "cell_type": "markdown",
      "metadata": {
        "id": "gKnhTzPbHSRI",
        "colab_type": "text"
      },
      "source": [
        "## This script builds and runs a graph with miniflow."
      ]
    },
    {
      "cell_type": "code",
      "metadata": {
        "id": "qC8ocTTOPVc7",
        "colab_type": "code",
        "outputId": "26f358ab-8ce6-4576-dd4f-9be989eb4c87",
        "colab": {
          "base_uri": "https://localhost:8080/",
          "height": 52
        }
      },
      "source": [
        "\"\"\"\n",
        "This network feeds the output of a linear transform\n",
        "to the sigmoid function.\n",
        "NOTE: The value of the Input node is NumPy arrays!\n",
        "\n",
        "In general, there's no restriction on the values that \n",
        "can be passed to an Input node.\n",
        "\"\"\"\n",
        "\n",
        "import numpy as np\n",
        "from miniflow import *\n",
        "\n",
        "# Define `Input` nodes.\n",
        "X, W, b = Input(), Input(), Input()\n",
        "\n",
        "# The above `Input` nodes being the input.\n",
        "f = Linear(X, W, b)\n",
        "g = Sigmoid(f)\n",
        "\n",
        "# The value of `Input` nodes will be set to values respectively.\n",
        "X_ = np.array([[-1., -2.], [-1, -2]])\n",
        "W_ = np.array([[2., -3], [2., -3]])\n",
        "b_ = np.array([-3., -5])\n",
        "\n",
        "feed_dict = {X: X_, W: W_, b: b_}\n",
        "\n",
        "# Sort the nodes with topological sort.\n",
        "graph = topological_sort(feed_dict)\n",
        "\n",
        "output = forward_pass(g, graph)\n",
        "\n",
        "# NOTE: because topological_sort sets the values for the `Input` nodes we could also access\n",
        "# the value for x with x.value.\n",
        "print(\"output = {} \".format(output))"
      ],
      "execution_count": 2,
      "outputs": [
        {
          "output_type": "stream",
          "text": [
            "output = [[1.23394576e-04 9.82013790e-01]\n",
            " [1.23394576e-04 9.82013790e-01]] \n"
          ],
          "name": "stdout"
        }
      ]
    },
    {
      "cell_type": "code",
      "metadata": {
        "id": "iWaCUQhFNkBX",
        "colab_type": "code",
        "colab": {}
      },
      "source": [
        ""
      ],
      "execution_count": 0,
      "outputs": []
    }
  ]
}