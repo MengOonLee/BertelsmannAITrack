{
  "nbformat": 4,
  "nbformat_minor": 0,
  "metadata": {
    "colab": {
      "name": "Untitled1.ipynb",
      "provenance": [],
      "authorship_tag": "ABX9TyPgOx/Xy7ueawLnlVqEcXHd",
      "include_colab_link": true
    },
    "kernelspec": {
      "name": "python3",
      "display_name": "Python 3"
    }
  },
  "cells": [
    {
      "cell_type": "markdown",
      "metadata": {
        "id": "view-in-github",
        "colab_type": "text"
      },
      "source": [
        "<a href=\"https://colab.research.google.com/github/MengOonLee/BertelsmannAITrack/blob/master/NeuralNetwork/MiniFlow/Fundamental.ipynb\" target=\"_parent\"><img src=\"https://colab.research.google.com/assets/colab-badge.svg\" alt=\"Open In Colab\"/></a>"
      ]
    },
    {
      "cell_type": "code",
      "metadata": {
        "id": "_SnKVyduNYs6",
        "colab_type": "code",
        "colab": {
          "base_uri": "https://localhost:8080/",
          "height": 34
        },
        "outputId": "c6c543a3-59a5-4519-f698-5b21a38e7e2c"
      },
      "source": [
        "%%file ./miniflow.py\n",
        "\n",
        "class Node(object):\n",
        "  def __init__(self, inbound_nodes=[]):\n",
        "    # Node(s) from which this Node receives values\n",
        "    self.inbound_nodes = inbound_nodes\n",
        "    # Node(s) to which this Node passes values\n",
        "    self.outbound_nodes = []\n",
        "    # For each inbound_node, add the current Node as outbound_node.\n",
        "    for n in self.inbound_nodes:\n",
        "      n.outbound_nodes.append(self)\n",
        "    # A calculated value\n",
        "    self.value = None\n",
        "\n",
        "  def forward(self):\n",
        "    \"\"\"\n",
        "    Forward propagation.\n",
        "    Compute the output value based on `inbound_nodes` and store the result in self.value.\n",
        "    \"\"\"\n",
        "    raise NotImplemented"
      ],
      "execution_count": 3,
      "outputs": [
        {
          "output_type": "stream",
          "text": [
            "Overwriting ./miniflow.py\n"
          ],
          "name": "stdout"
        }
      ]
    },
    {
      "cell_type": "code",
      "metadata": {
        "id": "qC8ocTTOPVc7",
        "colab_type": "code",
        "colab": {}
      },
      "source": [
        ""
      ],
      "execution_count": 0,
      "outputs": []
    }
  ]
}