{
  "nbformat": 4,
  "nbformat_minor": 0,
  "metadata": {
    "anaconda-cloud": {},
    "kernelspec": {
      "display_name": "Python [default]",
      "language": "python",
      "name": "python3"
    },
    "language_info": {
      "codemirror_mode": {
        "name": "ipython",
        "version": 3
      },
      "file_extension": ".py",
      "mimetype": "text/x-python",
      "name": "python",
      "nbconvert_exporter": "python",
      "pygments_lexer": "ipython3",
      "version": "3.6.4"
    },
    "colab": {
      "name": "Sentiment_Classification_Solutions_2_Better_Weight_Initialization.ipynb",
      "provenance": [],
      "include_colab_link": true
    }
  },
  "cells": [
    {
      "cell_type": "markdown",
      "metadata": {
        "id": "view-in-github",
        "colab_type": "text"
      },
      "source": [
        "<a href=\"https://colab.research.google.com/github/MengOonLee/BertelsmannAITrack/blob/master/NeuralNetwork/GradientDescent/Sentiment_Classification.ipynb\" target=\"_parent\"><img src=\"https://colab.research.google.com/assets/colab-badge.svg\" alt=\"Open In Colab\"/></a>"
      ]
    },
    {
      "cell_type": "markdown",
      "metadata": {
        "id": "o1d8abqaPqe3",
        "colab_type": "text"
      },
      "source": [
        "# Sentiment Classification & How To \"Frame Problems\" for a Neural Network\n",
        "\n",
        "by Andrew Trask\n",
        "\n",
        "- **Twitter**: @iamtrask\n",
        "- **Blog**: http://iamtrask.github.io"
      ]
    },
    {
      "cell_type": "markdown",
      "metadata": {
        "id": "D6R8r8_iPqe5",
        "colab_type": "text"
      },
      "source": [
        "### What You Should Already Know\n",
        "\n",
        "- neural networks, forward and back-propagation\n",
        "- stochastic gradient descent\n",
        "- mean squared error\n",
        "- and train/test splits\n",
        "\n",
        "### Where to Get Help if You Need it\n",
        "- Re-watch previous Udacity Lectures\n",
        "- Leverage the recommended Course Reading Material - [Grokking Deep Learning](https://www.manning.com/books/grokking-deep-learning) (Check inside your classroom for a discount code)\n",
        "- Shoot me a tweet @iamtrask\n",
        "\n",
        "\n",
        "### Tutorial Outline:\n",
        "\n",
        "- Intro: The Importance of \"Framing a Problem\" (this lesson)\n",
        "\n",
        "\n",
        "- [Curate a Dataset](#lesson_1)\n",
        "- [Developing a \"Predictive Theory\"](#lesson_2)\n",
        "- [**PROJECT 1**: Quick Theory Validation](#project_1)\n",
        "\n",
        "\n",
        "- [Transforming Text to Numbers](#lesson_3)\n",
        "- [**PROJECT 2**: Creating the Input/Output Data](#project_2)\n",
        "\n",
        "\n",
        "- Putting it all together in a Neural Network (video only - nothing in notebook)\n",
        "- [**PROJECT 3**: Building our Neural Network](#project_3)\n",
        "\n",
        "\n",
        "- [Understanding Neural Noise](#lesson_4)\n",
        "- [**PROJECT 4**: Making Learning Faster by Reducing Noise](#project_4)\n",
        "\n",
        "\n",
        "- [Analyzing Inefficiencies in our Network](#lesson_5)\n",
        "- [**PROJECT 5**: Making our Network Train and Run Faster](#project_5)\n",
        "\n",
        "\n",
        "- [Further Noise Reduction](#lesson_6)\n",
        "- [**PROJECT 6**: Reducing Noise by Strategically Reducing the Vocabulary](#project_6)\n",
        "\n",
        "\n",
        "- [Analysis: What's going on in the weights?](#lesson_7)"
      ]
    },
    {
      "cell_type": "markdown",
      "metadata": {
        "nbpresent": {
          "id": "56bb3cba-260c-4ebe-9ed6-b995b4c72aa3"
        },
        "id": "QMJqd3eHPqe8",
        "colab_type": "text"
      },
      "source": [
        "# Lesson: Curate a Dataset<a id='lesson_1'></a>"
      ]
    },
    {
      "cell_type": "code",
      "metadata": {
        "id": "AycbvSCHQFsv",
        "colab_type": "code",
        "colab": {}
      },
      "source": [
        "%%bash\n",
        "\n",
        "wget -qO reviews.txt \"https://raw.githubusercontent.com/udacity/deep-learning-v2-pytorch/master/sentiment-analysis-network/reviews.txt\"\n",
        "wget -qO labels.txt \"https://raw.githubusercontent.com/udacity/deep-learning-v2-pytorch/master/sentiment-analysis-network/labels.txt\""
      ],
      "execution_count": 0,
      "outputs": []
    },
    {
      "cell_type": "code",
      "metadata": {
        "nbpresent": {
          "id": "eba2b193-0419-431e-8db9-60f34dd3fe83"
        },
        "id": "IKGRYWCoPqe9",
        "colab_type": "code",
        "colab": {}
      },
      "source": [
        "def pretty_print_review_and_label(i):\n",
        "    print(labels[i] + \"\\t:\\t\" + reviews[i][:80] + \"...\")\n",
        "\n",
        "g = open('reviews.txt','r') # What we know!\n",
        "reviews = list(map(lambda x: x[:-1], g.readlines()))\n",
        "g.close()\n",
        "\n",
        "g = open('labels.txt','r') # What we WANT to know!\n",
        "labels = list(map(lambda x: x[:-1].upper(), g.readlines()))\n",
        "g.close()"
      ],
      "execution_count": 0,
      "outputs": []
    },
    {
      "cell_type": "markdown",
      "metadata": {
        "id": "rxAzRA-MPqfM",
        "colab_type": "text"
      },
      "source": [
        "**Note:** The data in `reviews.txt` we're using has already been preprocessed a bit and contains only lower case characters. If we were working from raw data, where we didn't know it was all lower case, we would want to add a step here to convert it. That's so we treat different variations of the same word, like `The`, `the`, and `THE`, all the same way."
      ]
    },
    {
      "cell_type": "code",
      "metadata": {
        "id": "Z_-2wRAUPqfN",
        "colab_type": "code",
        "outputId": "1876e286-2076-4526-b7e7-b1935cc0389b",
        "colab": {
          "base_uri": "https://localhost:8080/",
          "height": 34
        }
      },
      "source": [
        "len(reviews)"
      ],
      "execution_count": 3,
      "outputs": [
        {
          "output_type": "execute_result",
          "data": {
            "text/plain": [
              "25000"
            ]
          },
          "metadata": {
            "tags": []
          },
          "execution_count": 3
        }
      ]
    },
    {
      "cell_type": "code",
      "metadata": {
        "nbpresent": {
          "id": "bb95574b-21a0-4213-ae50-34363cf4f87f"
        },
        "id": "yHYwprpzPqfW",
        "colab_type": "code",
        "outputId": "b851b3b6-b8d3-4824-ff9c-2f1b5a799f30",
        "colab": {
          "base_uri": "https://localhost:8080/",
          "height": 54
        }
      },
      "source": [
        "print(labels[0], \"\\t:\", reviews[0])"
      ],
      "execution_count": 7,
      "outputs": [
        {
          "output_type": "stream",
          "text": [
            "POSITIVE \t: bromwell high is a cartoon comedy . it ran at the same time as some other programs about school life  such as  teachers  . my   years in the teaching profession lead me to believe that bromwell high  s satire is much closer to reality than is  teachers  . the scramble to survive financially  the insightful students who can see right through their pathetic teachers  pomp  the pettiness of the whole situation  all remind me of the schools i knew and their students . when i saw the episode in which a student repeatedly tried to burn down the school  i immediately recalled . . . . . . . . . at . . . . . . . . . . high . a classic line inspector i  m here to sack one of your teachers . student welcome to bromwell high . i expect that many adults of my age think that bromwell high is far fetched . what a pity that it isn  t   \n"
          ],
          "name": "stdout"
        }
      ]
    },
    {
      "cell_type": "markdown",
      "metadata": {
        "id": "lng0pVniPqfj",
        "colab_type": "text"
      },
      "source": [
        "# Lesson: Develop a Predictive Theory<a id='lesson_2'></a>"
      ]
    },
    {
      "cell_type": "code",
      "metadata": {
        "nbpresent": {
          "id": "e67a709f-234f-4493-bae6-4fb192141ee0"
        },
        "id": "fYNAMPYSPqfk",
        "colab_type": "code",
        "outputId": "2da411e2-00f0-4725-a198-4e9ff0637658",
        "colab": {
          "base_uri": "https://localhost:8080/",
          "height": 176
        }
      },
      "source": [
        "print(\"labels.txt \\t : \\t reviews.txt\\n\")\n",
        "pretty_print_review_and_label(2137)\n",
        "pretty_print_review_and_label(12816)\n",
        "pretty_print_review_and_label(6267)\n",
        "pretty_print_review_and_label(21934)\n",
        "pretty_print_review_and_label(5297)\n",
        "pretty_print_review_and_label(4998)"
      ],
      "execution_count": 8,
      "outputs": [
        {
          "output_type": "stream",
          "text": [
            "labels.txt \t : \t reviews.txt\n",
            "\n",
            "NEGATIVE\t:\tthis movie is terrible but it has some good effects .  ...\n",
            "POSITIVE\t:\tadrian pasdar is excellent is this film . he makes a fascinating woman .  ...\n",
            "NEGATIVE\t:\tcomment this movie is impossible . is terrible  very improbable  bad interpretat...\n",
            "POSITIVE\t:\texcellent episode movie ala pulp fiction .  days   suicides . it doesnt get more...\n",
            "NEGATIVE\t:\tif you haven  t seen this  it  s terrible . it is pure trash . i saw this about ...\n",
            "POSITIVE\t:\tthis schiffer guy is a real genius  the movie is of excellent quality and both e...\n"
          ],
          "name": "stdout"
        }
      ]
    },
    {
      "cell_type": "markdown",
      "metadata": {
        "id": "uNZir8AXPqfs",
        "colab_type": "text"
      },
      "source": [
        "# Project 1: Quick Theory Validation<a id='project_1'></a>\n",
        "\n",
        "There are multiple ways to implement these projects, but in order to get your code closer to what Andrew shows in his solutions, we've provided some hints and starter code throughout this notebook.\n",
        "\n",
        "You'll find the [Counter](https://docs.python.org/2/library/collections.html#collections.Counter) class to be useful in this exercise, as well as the [numpy](https://docs.scipy.org/doc/numpy/reference/) library."
      ]
    },
    {
      "cell_type": "code",
      "metadata": {
        "id": "WL1amSmSPqft",
        "colab_type": "code",
        "colab": {}
      },
      "source": [
        "from collections import Counter\n",
        "import numpy as np"
      ],
      "execution_count": 0,
      "outputs": []
    },
    {
      "cell_type": "markdown",
      "metadata": {
        "id": "cJDgLG4IPqfz",
        "colab_type": "text"
      },
      "source": [
        "We'll create three `Counter` objects, one for words from postive reviews, one for words from negative reviews, and one for all the words."
      ]
    },
    {
      "cell_type": "code",
      "metadata": {
        "id": "1PmjTyrQPqf0",
        "colab_type": "code",
        "colab": {}
      },
      "source": [
        "# Create three Counter objects to store positive, negative and total counts\n",
        "positive_counts = Counter()\n",
        "negative_counts = Counter()\n",
        "total_counts = Counter()"
      ],
      "execution_count": 0,
      "outputs": []
    },
    {
      "cell_type": "markdown",
      "metadata": {
        "id": "W9ArrU5QPqf6",
        "colab_type": "text"
      },
      "source": [
        "**TODO:** Examine all the reviews. For each word in a positive review, increase the count for that word in both your positive counter and the total words counter; likewise, for each word in a negative review, increase the count for that word in both your negative counter and the total words counter.\n",
        "\n",
        "**Note:** Throughout these projects, you should use `split(' ')` to divide a piece of text (such as a review) into individual words. If you use `split()` instead, you'll get slightly different results than what the videos and solutions show."
      ]
    },
    {
      "cell_type": "code",
      "metadata": {
        "id": "7tMAYKLKPqf6",
        "colab_type": "code",
        "colab": {}
      },
      "source": [
        "# Loop over all the words in all the reviews and increment the counts in the appropriate counter objects\n",
        "for i in range(len(reviews)):\n",
        "    if(labels[i] == 'POSITIVE'):\n",
        "        for word in reviews[i].split(\" \"):\n",
        "            positive_counts[word] += 1\n",
        "            total_counts[word] += 1\n",
        "    else:\n",
        "        for word in reviews[i].split(\" \"):\n",
        "            negative_counts[word] += 1\n",
        "            total_counts[word] += 1"
      ],
      "execution_count": 0,
      "outputs": []
    },
    {
      "cell_type": "markdown",
      "metadata": {
        "id": "t-3ppciQPqgA",
        "colab_type": "text"
      },
      "source": [
        "Run the following two cells to list the words used in positive reviews and negative reviews, respectively, ordered from most to least commonly used. "
      ]
    },
    {
      "cell_type": "code",
      "metadata": {
        "id": "qVZuMYEmPqgB",
        "colab_type": "code",
        "outputId": "badff714-c023-43a1-a380-05bd99c331c5",
        "colab": {
          "base_uri": "https://localhost:8080/",
          "height": 191
        }
      },
      "source": [
        "# Examine the counts of the most common words in positive reviews\n",
        "positive_counts.most_common()[:10]"
      ],
      "execution_count": 12,
      "outputs": [
        {
          "output_type": "execute_result",
          "data": {
            "text/plain": [
              "[('', 550468),\n",
              " ('the', 173324),\n",
              " ('.', 159654),\n",
              " ('and', 89722),\n",
              " ('a', 83688),\n",
              " ('of', 76855),\n",
              " ('to', 66746),\n",
              " ('is', 57245),\n",
              " ('in', 50215),\n",
              " ('br', 49235)]"
            ]
          },
          "metadata": {
            "tags": []
          },
          "execution_count": 12
        }
      ]
    },
    {
      "cell_type": "code",
      "metadata": {
        "id": "nlZlivJLPqgH",
        "colab_type": "code",
        "outputId": "632bc893-c5a3-46f9-c960-ecdbcc785294",
        "colab": {
          "base_uri": "https://localhost:8080/",
          "height": 191
        }
      },
      "source": [
        "# Examine the counts of the most common words in negative reviews\n",
        "negative_counts.most_common()[:10]"
      ],
      "execution_count": 13,
      "outputs": [
        {
          "output_type": "execute_result",
          "data": {
            "text/plain": [
              "[('', 561462),\n",
              " ('.', 167538),\n",
              " ('the', 163389),\n",
              " ('a', 79321),\n",
              " ('and', 74385),\n",
              " ('of', 69009),\n",
              " ('to', 68974),\n",
              " ('br', 52637),\n",
              " ('is', 50083),\n",
              " ('it', 48327)]"
            ]
          },
          "metadata": {
            "tags": []
          },
          "execution_count": 13
        }
      ]
    },
    {
      "cell_type": "markdown",
      "metadata": {
        "id": "QO9xwi0cPqgL",
        "colab_type": "text"
      },
      "source": [
        "As you can see, common words like \"the\" appear very often in both positive and negative reviews. Instead of finding the most common words in positive or negative reviews, what you really want are the words found in positive reviews more often than in negative reviews, and vice versa. To accomplish this, you'll need to calculate the **ratios** of word usage between positive and negative reviews.\n",
        "\n",
        "**TODO:** Check all the words you've seen and calculate the ratio of postive to negative uses and store that ratio in `pos_neg_ratios`. \n",
        ">Hint: the positive-to-negative ratio for a given word can be calculated with `positive_counts[word] / float(negative_counts[word]+1)`. Notice the `+1` in the denominator – that ensures we don't divide by zero for words that are only seen in positive reviews."
      ]
    },
    {
      "cell_type": "code",
      "metadata": {
        "id": "0FaINE8FPqgN",
        "colab_type": "code",
        "colab": {}
      },
      "source": [
        "pos_neg_ratios = Counter()\n",
        "\n",
        "# Calculate the ratios of positive and negative uses of the most common words\n",
        "# Consider words to be \"common\" if they've been used at least 100 times\n",
        "for term, cnt in list(total_counts.most_common()):\n",
        "    if(cnt > 100):\n",
        "        pos_neg_ratio = positive_counts[term] / float(negative_counts[term]+1)\n",
        "        pos_neg_ratios[term] = pos_neg_ratio"
      ],
      "execution_count": 0,
      "outputs": []
    },
    {
      "cell_type": "markdown",
      "metadata": {
        "id": "s8doP6-kPqgT",
        "colab_type": "text"
      },
      "source": [
        "Examine the ratios you've calculated for a few words:"
      ]
    },
    {
      "cell_type": "code",
      "metadata": {
        "id": "9i6Zyw8PPqgU",
        "colab_type": "code",
        "outputId": "6de14e6d-abc7-4353-b846-50e667464c50",
        "colab": {
          "base_uri": "https://localhost:8080/",
          "height": 69
        }
      },
      "source": [
        "print(\"Pos-to-neg ratio for 'the' = {}\".format(pos_neg_ratios[\"the\"]))\n",
        "print(\"Pos-to-neg ratio for 'amazing' = {}\".format(pos_neg_ratios[\"amazing\"]))\n",
        "print(\"Pos-to-neg ratio for 'terrible' = {}\".format(pos_neg_ratios[\"terrible\"]))"
      ],
      "execution_count": 17,
      "outputs": [
        {
          "output_type": "stream",
          "text": [
            "Pos-to-neg ratio for 'the' = 1.0607993145235326\n",
            "Pos-to-neg ratio for 'amazing' = 4.022813688212928\n",
            "Pos-to-neg ratio for 'terrible' = 0.17744252873563218\n"
          ],
          "name": "stdout"
        }
      ]
    },
    {
      "cell_type": "markdown",
      "metadata": {
        "id": "uBkKY0aNPqgg",
        "colab_type": "text"
      },
      "source": [
        "Looking closely at the values you just calculated, we see the following: \n",
        "\n",
        "* Words that you would expect to see more often in positive reviews – like \"amazing\" – have a ratio greater than 1. The more skewed a word is toward postive, the farther from 1 its positive-to-negative ratio  will be.\n",
        "* Words that you would expect to see more often in negative reviews – like \"terrible\" – have positive values that are less than 1. The more skewed a word is toward negative, the closer to zero its positive-to-negative ratio will be.\n",
        "* Neutral words, which don't really convey any sentiment because you would expect to see them in all sorts of reviews – like \"the\" – have values very close to 1. A perfectly neutral word – one that was used in exactly the same number of positive reviews as negative reviews – would be almost exactly 1. The `+1` we suggested you add to the denominator slightly biases words toward negative, but it won't matter because it will be a tiny bias and later we'll be ignoring words that are too close to neutral anyway.\n",
        "\n",
        "Ok, the ratios tell us which words are used more often in postive or negative reviews, but the specific values we've calculated are a bit difficult to work with. A very positive word like \"amazing\" has a value above 4, whereas a very negative word like \"terrible\" has a value around 0.18. Those values aren't easy to compare for a couple of reasons:\n",
        "\n",
        "* Right now, 1 is considered neutral, but the absolute value of the postive-to-negative rations of very postive words is larger than the absolute value of the ratios for the very negative words. So there is no way to directly compare two numbers and see if one word conveys the same magnitude of positive sentiment as another word conveys negative sentiment. So we should center all the values around netural so the absolute value from neutral of the postive-to-negative ratio for a word would indicate how much sentiment (positive or negative) that word conveys.\n",
        "* When comparing absolute values it's easier to do that around zero than one. \n",
        "\n",
        "To fix these issues, we'll convert all of our ratios to new values using logarithms.\n",
        "\n",
        "**TODO:** Go through all the ratios you calculated and convert them to logarithms. (i.e. use `np.log(ratio)`)\n",
        "\n",
        "In the end, extremely positive and extremely negative words will have positive-to-negative ratios with similar magnitudes but opposite signs."
      ]
    },
    {
      "cell_type": "code",
      "metadata": {
        "id": "xdFgFRiNPqgh",
        "colab_type": "code",
        "colab": {}
      },
      "source": [
        "# Convert ratios to logs\n",
        "for word, ratio in pos_neg_ratios.most_common():\n",
        "    pos_neg_ratios[word] = np.log(ratio)"
      ],
      "execution_count": 0,
      "outputs": []
    },
    {
      "cell_type": "markdown",
      "metadata": {
        "id": "l2194bjIPqgn",
        "colab_type": "text"
      },
      "source": [
        "**NOTE:** In the video, Andrew uses the following formulas for the previous cell:\n",
        "> * For any postive words, convert the ratio using `np.log(ratio)`\n",
        "> * For any negative words, convert the ratio using `-np.log(1/(ratio + 0.01))`\n",
        "\n",
        "These won't give you the exact same results as the simpler code we show in this notebook, but the values will be similar. In case that second equation looks strange, here's what it's doing: First, it divides one by a very small number, which will produce a larger positive number. Then, it takes the `log` of that, which produces numbers similar to the ones for the postive words. Finally, it negates the values by adding that minus sign up front. The results are extremely positive and extremely negative words having positive-to-negative ratios with similar magnitudes but oppositite signs, just like when we use `np.log(ratio)`."
      ]
    },
    {
      "cell_type": "markdown",
      "metadata": {
        "id": "FYbzWveYPqgn",
        "colab_type": "text"
      },
      "source": [
        "Examine the new ratios you've calculated for the same words from before:"
      ]
    },
    {
      "cell_type": "code",
      "metadata": {
        "id": "l9zpnNz-Pqgo",
        "colab_type": "code",
        "outputId": "d8a566dd-ed7c-4f1e-ea4b-4b8c1cf1308d",
        "colab": {
          "base_uri": "https://localhost:8080/",
          "height": 69
        }
      },
      "source": [
        "print(\"Pos-to-neg ratio for 'the' = {}\".format(pos_neg_ratios[\"the\"]))\n",
        "print(\"Pos-to-neg ratio for 'amazing' = {}\".format(pos_neg_ratios[\"amazing\"]))\n",
        "print(\"Pos-to-neg ratio for 'terrible' = {}\".format(pos_neg_ratios[\"terrible\"]))"
      ],
      "execution_count": 19,
      "outputs": [
        {
          "output_type": "stream",
          "text": [
            "Pos-to-neg ratio for 'the' = 0.05902269426102881\n",
            "Pos-to-neg ratio for 'amazing' = 1.3919815802404802\n",
            "Pos-to-neg ratio for 'terrible' = -1.7291085042663878\n"
          ],
          "name": "stdout"
        }
      ]
    },
    {
      "cell_type": "markdown",
      "metadata": {
        "id": "IbLtWDXoPqgs",
        "colab_type": "text"
      },
      "source": [
        "If everything worked, now you should see neutral words with values close to zero. In this case, \"the\" is near zero but slightly positive, so it was probably used in more positive reviews than negative reviews. But look at \"amazing\"'s ratio - it's above `1`, showing it is clearly a word with positive sentiment. And \"terrible\" has a similar score, but in the opposite direction, so it's below `-1`. It's now clear that both of these words are associated with specific, opposing sentiments.\n",
        "\n",
        "Now run the following cells to see more ratios. \n",
        "\n",
        "The first cell displays all the words, ordered by how associated they are with postive reviews. (Your notebook will most likely truncate the output so you won't actually see *all* the words in the list.)\n",
        "\n",
        "The second cell displays the 30 words most associated with negative reviews by reversing the order of the first list and then looking at the first 30 words. (If you want the second cell to display all the words, ordered by how associated they are with negative reviews, you could just write `reversed(pos_neg_ratios.most_common())`.)\n",
        "\n",
        "You should continue to see values similar to the earlier ones we checked – neutral words will be close to `0`, words will get more positive as their ratios approach and go above `1`, and words will get more negative as their ratios approach and go below `-1`. That's why we decided to use the logs instead of the raw ratios."
      ]
    },
    {
      "cell_type": "code",
      "metadata": {
        "id": "NNf24vH0Pqgt",
        "colab_type": "code",
        "outputId": "f486389c-5d66-4a6e-eb0e-d59f68b3c2d3",
        "colab": {
          "base_uri": "https://localhost:8080/",
          "height": 191
        }
      },
      "source": [
        "# words most frequently seen in a review with a \"POSITIVE\" label\n",
        "pos_neg_ratios.most_common()[:10]"
      ],
      "execution_count": 20,
      "outputs": [
        {
          "output_type": "execute_result",
          "data": {
            "text/plain": [
              "[('edie', 4.6913478822291435),\n",
              " ('paulie', 4.07753744390572),\n",
              " ('felix', 3.152736022363656),\n",
              " ('polanski', 2.8233610476132043),\n",
              " ('matthau', 2.80672172860924),\n",
              " ('victoria', 2.681021528714291),\n",
              " ('mildred', 2.6026896854443837),\n",
              " ('gandhi', 2.538973871058276),\n",
              " ('flawless', 2.451005098112319),\n",
              " ('superbly', 2.26002547857525)]"
            ]
          },
          "metadata": {
            "tags": []
          },
          "execution_count": 20
        }
      ]
    },
    {
      "cell_type": "code",
      "metadata": {
        "scrolled": true,
        "id": "kTaBuF4VPqgy",
        "colab_type": "code",
        "outputId": "70889f29-8e31-426b-fd5c-90bfff005e75",
        "colab": {
          "base_uri": "https://localhost:8080/",
          "height": 191
        }
      },
      "source": [
        "# words most frequently seen in a review with a \"NEGATIVE\" label\n",
        "list(reversed(pos_neg_ratios.most_common()))[:10]\n",
        "\n",
        "# Note: Above is the code Andrew uses in his solution video, \n",
        "#       so we've included it here to avoid confusion.\n",
        "#       If you explore the documentation for the Counter class, \n",
        "#       you will see you could also find the 30 least common\n",
        "#       words like this: pos_neg_ratios.most_common()[:-31:-1]"
      ],
      "execution_count": 21,
      "outputs": [
        {
          "output_type": "execute_result",
          "data": {
            "text/plain": [
              "[('boll', -4.969813299576001),\n",
              " ('uwe', -4.624972813284271),\n",
              " ('seagal', -3.644143560272545),\n",
              " ('unwatchable', -3.258096538021482),\n",
              " ('stinker', -3.2088254890146994),\n",
              " ('mst', -2.9502698994772336),\n",
              " ('incoherent', -2.9368917735310576),\n",
              " ('unfunny', -2.6922395950755678),\n",
              " ('waste', -2.6193845640165536),\n",
              " ('blah', -2.5704288232261625)]"
            ]
          },
          "metadata": {
            "tags": []
          },
          "execution_count": 21
        }
      ]
    },
    {
      "cell_type": "markdown",
      "metadata": {
        "id": "OU_KacI1Pqg2",
        "colab_type": "text"
      },
      "source": [
        "# End of Project 1. \n",
        "## Watch the next video to continue with Andrew's next lesson.\n",
        "\n",
        "# Transforming Text into Numbers<a id='lesson_3'></a>\n",
        "\n",
        "  1. \"This was a horrible, terrible movie.\"\n",
        "<img src='https://raw.githubusercontent.com/udacity/deep-learning-v2-pytorch/master/sentiment-analysis-network/sentiment_network.png'>\n",
        "\n",
        "  2. \"The movie was excellent.\"\n",
        "<img src='https://raw.githubusercontent.com/udacity/deep-learning-v2-pytorch/master/sentiment-analysis-network/sentiment_network_pos.png'>\n"
      ]
    },
    {
      "cell_type": "markdown",
      "metadata": {
        "collapsed": true,
        "id": "mtV6gTsjPqg_",
        "colab_type": "text"
      },
      "source": [
        "# Project 2: Creating the Input/Output Data<a id='project_2'></a>\n",
        "\n",
        "**TODO:** Create a [set](https://docs.python.org/3/tutorial/datastructures.html#sets) named `vocab` that contains every word in the vocabulary."
      ]
    },
    {
      "cell_type": "code",
      "metadata": {
        "id": "t7SMXuEMPqhA",
        "colab_type": "code",
        "colab": {}
      },
      "source": [
        "vocab = set(total_counts.keys())"
      ],
      "execution_count": 0,
      "outputs": []
    },
    {
      "cell_type": "markdown",
      "metadata": {
        "id": "l0ira29VPqhF",
        "colab_type": "text"
      },
      "source": [
        "Run the following cell to check your vocabulary size. If everything worked correctly, it should print **74074**"
      ]
    },
    {
      "cell_type": "code",
      "metadata": {
        "id": "IK_RThA3PqhG",
        "colab_type": "code",
        "outputId": "03794f20-72a2-4518-c8e2-0d7dffbd9c18",
        "colab": {
          "base_uri": "https://localhost:8080/",
          "height": 34
        }
      },
      "source": [
        "vocab_size = len(vocab)\n",
        "print(vocab_size)"
      ],
      "execution_count": 23,
      "outputs": [
        {
          "output_type": "stream",
          "text": [
            "74074\n"
          ],
          "name": "stdout"
        }
      ]
    },
    {
      "cell_type": "markdown",
      "metadata": {
        "id": "DGLTb5uZPqhK",
        "colab_type": "text"
      },
      "source": [
        "Take a look at the following image. It represents the layers of the neural network you'll be building throughout this notebook. `layer_0` is the input layer, `layer_1` is a hidden layer, and `layer_2` is the output layer.\n",
        "\n",
        "<img src='https://raw.githubusercontent.com/udacity/deep-learning-v2-pytorch/master/sentiment-analysis-network/sentiment_network_2.png'>"
      ]
    },
    {
      "cell_type": "markdown",
      "metadata": {
        "id": "KaKCL4q5PqhQ",
        "colab_type": "text"
      },
      "source": [
        "**TODO:** Create a numpy array called `layer_0` and initialize it to all zeros. You will find the [zeros](https://docs.scipy.org/doc/numpy/reference/generated/numpy.zeros.html) function particularly helpful here. Be sure you create `layer_0` as a 2-dimensional matrix with 1 row and `vocab_size` columns. "
      ]
    },
    {
      "cell_type": "markdown",
      "metadata": {
        "id": "zn0ttrCnPqhV",
        "colab_type": "text"
      },
      "source": [
        "Run the following cell. It should display `(1, 74074)`"
      ]
    },
    {
      "cell_type": "code",
      "metadata": {
        "id": "w-wBPQBUPqhQ",
        "colab_type": "code",
        "outputId": "c3be207b-3888-4d82-8d1b-d3e71a7dc86e",
        "colab": {
          "base_uri": "https://localhost:8080/",
          "height": 34
        }
      },
      "source": [
        "layer_0 = np.zeros((1, vocab_size))\n",
        "layer_0.shape"
      ],
      "execution_count": 24,
      "outputs": [
        {
          "output_type": "execute_result",
          "data": {
            "text/plain": [
              "(1, 74074)"
            ]
          },
          "metadata": {
            "tags": []
          },
          "execution_count": 24
        }
      ]
    },
    {
      "cell_type": "markdown",
      "metadata": {
        "id": "5Vmq0OePPqhg",
        "colab_type": "text"
      },
      "source": [
        "`layer_0` contains one entry for every word in the vocabulary, as shown in the above image. We need to make sure we know the index of each word, so run the following cell to create a lookup table that stores the index of every word.\n",
        "\n",
        "<img src='https://raw.githubusercontent.com/udacity/deep-learning-v2-pytorch/master/sentiment-analysis-network/sentiment_network.png'>"
      ]
    },
    {
      "cell_type": "code",
      "metadata": {
        "id": "FGULwsdQPqhh",
        "colab_type": "code",
        "outputId": "f8a9662f-3d1f-4524-ea80-d659dffd7208",
        "colab": {
          "base_uri": "https://localhost:8080/",
          "height": 191
        }
      },
      "source": [
        "# Create a dictionary of words in the vocabulary mapped to index positions \n",
        "# (to be used in layer_0)\n",
        "word2index = {}\n",
        "for i, word in enumerate(vocab):\n",
        "    word2index[word] = i\n",
        "    \n",
        "# display the map of words to indices\n",
        "list(word2index.items())[:10]"
      ],
      "execution_count": 25,
      "outputs": [
        {
          "output_type": "execute_result",
          "data": {
            "text/plain": [
              "[('', 0),\n",
              " ('severn', 1),\n",
              " ('deanna', 2),\n",
              " ('christan', 3),\n",
              " ('jory', 4),\n",
              " ('stopping', 5),\n",
              " ('haunts', 6),\n",
              " ('blasted', 7),\n",
              " ('carty', 8),\n",
              " ('fmvs', 9)]"
            ]
          },
          "metadata": {
            "tags": []
          },
          "execution_count": 25
        }
      ]
    },
    {
      "cell_type": "markdown",
      "metadata": {
        "id": "0_NK1xz5Pqhm",
        "colab_type": "text"
      },
      "source": [
        "**TODO:**  Complete the implementation of `update_input_layer`. It should count \n",
        "          how many times each word is used in the given review, and then store\n",
        "          those counts at the appropriate indices inside `layer_0`."
      ]
    },
    {
      "cell_type": "code",
      "metadata": {
        "id": "iEaEeYMzPqhn",
        "colab_type": "code",
        "colab": {}
      },
      "source": [
        "def update_input_layer(review):\n",
        "    \"\"\" Modify the global layer_0 to represent the vector form of review.\n",
        "    The element at a given index of layer_0 should represent\n",
        "    how many times the given word occurs in the review.\n",
        "    Args:\n",
        "        review(string) - the string of the review\n",
        "    Returns:\n",
        "        None\n",
        "    \"\"\"\n",
        "     \n",
        "    global layer_0\n",
        "    \n",
        "    # clear out previous state, reset the layer to be all 0s\n",
        "    layer_0 *= 0\n",
        "    \n",
        "    # count how many times each word is used in the given review and store the results in layer_0 \n",
        "    for word in review.split(\" \"):\n",
        "        layer_0[0][word2index[word]] += 1"
      ],
      "execution_count": 0,
      "outputs": []
    },
    {
      "cell_type": "markdown",
      "metadata": {
        "id": "Oo4bB6C9Pqhq",
        "colab_type": "text"
      },
      "source": [
        "Run the following cell to test updating the input layer with the first review. The indices assigned may not be the same as in the solution, but hopefully you'll see some non-zero values in `layer_0`.  "
      ]
    },
    {
      "cell_type": "code",
      "metadata": {
        "id": "tiPD0bedPqhr",
        "colab_type": "code",
        "outputId": "f7e5b2d0-c8aa-4ad6-ff0f-4f732972ef57",
        "colab": {
          "base_uri": "https://localhost:8080/",
          "height": 34
        }
      },
      "source": [
        "update_input_layer(reviews[0])\n",
        "layer_0"
      ],
      "execution_count": 27,
      "outputs": [
        {
          "output_type": "execute_result",
          "data": {
            "text/plain": [
              "array([[18.,  0.,  0., ...,  0.,  0.,  0.]])"
            ]
          },
          "metadata": {
            "tags": []
          },
          "execution_count": 27
        }
      ]
    },
    {
      "cell_type": "markdown",
      "metadata": {
        "id": "qm9MebP_Pqht",
        "colab_type": "text"
      },
      "source": [
        "**TODO:** Complete the implementation of `get_target_for_labels`. It should return `0` or `1`, \n",
        "          depending on whether the given label is `NEGATIVE` or `POSITIVE`, respectively."
      ]
    },
    {
      "cell_type": "code",
      "metadata": {
        "id": "5MMYk00qPqhu",
        "colab_type": "code",
        "colab": {}
      },
      "source": [
        "def get_target_for_label(label):\n",
        "    \"\"\"Convert a label to `0` or `1`.\n",
        "    Args:\n",
        "        label(string) - Either \"POSITIVE\" or \"NEGATIVE\".\n",
        "    Returns:\n",
        "        `0` or `1`.\n",
        "    \"\"\"\n",
        "    if(label == 'POSITIVE'):\n",
        "        return 1\n",
        "    else:\n",
        "        return 0"
      ],
      "execution_count": 0,
      "outputs": []
    },
    {
      "cell_type": "markdown",
      "metadata": {
        "id": "uKR4uTrAPqhx",
        "colab_type": "text"
      },
      "source": [
        "Run the following two cells. They should print out`'POSITIVE'` and `1`, respectively."
      ]
    },
    {
      "cell_type": "code",
      "metadata": {
        "id": "8tMv5wriPqh3",
        "colab_type": "code",
        "outputId": "14d2afbf-f6df-426e-e16f-ca0d68f1de79",
        "colab": {
          "base_uri": "https://localhost:8080/",
          "height": 34
        }
      },
      "source": [
        "print(labels[0], \"\\t:\", get_target_for_label(labels[0]))"
      ],
      "execution_count": 38,
      "outputs": [
        {
          "output_type": "stream",
          "text": [
            "POSITIVE \t: 1\n"
          ],
          "name": "stdout"
        }
      ]
    },
    {
      "cell_type": "markdown",
      "metadata": {
        "id": "3lYEhWSHPqh7",
        "colab_type": "text"
      },
      "source": [
        "Run the following two cells. They should print out `'NEGATIVE'` and `0`, respectively."
      ]
    },
    {
      "cell_type": "code",
      "metadata": {
        "id": "RJDwtvKKPqh-",
        "colab_type": "code",
        "outputId": "63dc6c5d-ae44-44c3-d394-128876df3535",
        "colab": {
          "base_uri": "https://localhost:8080/",
          "height": 34
        }
      },
      "source": [
        "print(labels[1], \"\\t:\", get_target_for_label(labels[1]))"
      ],
      "execution_count": 39,
      "outputs": [
        {
          "output_type": "stream",
          "text": [
            "NEGATIVE \t: 0\n"
          ],
          "name": "stdout"
        }
      ]
    },
    {
      "cell_type": "markdown",
      "metadata": {
        "id": "SUQ9dHmJPqiB",
        "colab_type": "text"
      },
      "source": [
        "# End of Project 2 solution. \n",
        "## Watch the next video to continue with Andrew's next lesson."
      ]
    },
    {
      "cell_type": "markdown",
      "metadata": {
        "id": "AYHAek_NPqiC",
        "colab_type": "text"
      },
      "source": [
        "# Project 3: Building a Neural Network<a id='project_3'></a>"
      ]
    },
    {
      "cell_type": "markdown",
      "metadata": {
        "collapsed": true,
        "id": "WwMjNfwoPqiC",
        "colab_type": "text"
      },
      "source": [
        "**TODO:** We've included the framework of a class called `SentimentNetork`. Implement all of the items marked `TODO` in the code. These include doing the following:\n",
        "- Create a basic neural network much like the networks you've seen in earlier lessons and in Project 1, with an input layer, a hidden layer, and an output layer. \n",
        "- Do **not** add a non-linearity in the hidden layer. That is, do not use an activation function when calculating the hidden layer outputs.\n",
        "- Re-use the code from earlier in this notebook to create the training data (see `TODO`s in the code)\n",
        "- Implement the `pre_process_data` function to create the vocabulary for our training data generating functions\n",
        "- Ensure `train` trains over the entire corpus"
      ]
    },
    {
      "cell_type": "markdown",
      "metadata": {
        "id": "4wuigS0WPqiD",
        "colab_type": "text"
      },
      "source": [
        "### Where to Get Help if You Need it\n",
        "- Re-watch previous week's Udacity Lectures\n",
        "- Chapters 3-5 - [Grokking Deep Learning](https://www.manning.com/books/grokking-deep-learning) - (Check inside your classroom for a discount code)"
      ]
    },
    {
      "cell_type": "code",
      "metadata": {
        "id": "ZfIFtNnvPqiD",
        "colab_type": "code",
        "colab": {}
      },
      "source": [
        "import time\n",
        "import sys\n",
        "import numpy as np\n",
        "\n",
        "# Encapsulate our neural network in a class\n",
        "class SentimentNetwork:\n",
        "    def __init__(self, reviews, labels, hidden_nodes = 10, learning_rate = 0.1):\n",
        "        \"\"\"Create a SentimenNetwork with the given settings\n",
        "        Args:\n",
        "            reviews(list) - List of reviews used for training\n",
        "            labels(list) - List of POSITIVE/NEGATIVE labels associated with the given reviews\n",
        "            hidden_nodes(int) - Number of nodes to create in the hidden layer\n",
        "            learning_rate(float) - Learning rate to use while training\n",
        "        \n",
        "        \"\"\"\n",
        "        # Assign a seed to our random number generator to ensure we get\n",
        "        # reproducable results during development \n",
        "        np.random.seed(1)\n",
        "\n",
        "        # process the reviews and their associated labels so that everything\n",
        "        # is ready for training\n",
        "        self.pre_process_data(reviews, labels)\n",
        "        \n",
        "        # Build the network to have the number of hidden nodes and the learning rate that\n",
        "        # were passed into this initializer. Make the same number of input nodes as\n",
        "        # there are vocabulary words and create a single output node.\n",
        "        self.init_network(len(self.review_vocab), hidden_nodes, 1, learning_rate)\n",
        "\n",
        "    def pre_process_data(self, reviews, labels):\n",
        "        \n",
        "        # populate review_vocab with all of the words in the given reviews\n",
        "        review_vocab = set()\n",
        "        for review in reviews:\n",
        "            for word in review.split(\" \"):\n",
        "                review_vocab.add(word)\n",
        "\n",
        "        # Convert the vocabulary set to a list so we can access words via indices\n",
        "        self.review_vocab = list(review_vocab)\n",
        "        \n",
        "        # populate label_vocab with all of the words in the given labels.\n",
        "        label_vocab = set()\n",
        "        for label in labels:\n",
        "            label_vocab.add(label)\n",
        "        \n",
        "        # Convert the label vocabulary set to a list so we can access labels via indices\n",
        "        self.label_vocab = list(label_vocab)\n",
        "        \n",
        "        # Store the sizes of the review and label vocabularies.\n",
        "        self.review_vocab_size = len(self.review_vocab)\n",
        "        self.label_vocab_size = len(self.label_vocab)\n",
        "        \n",
        "        # Create a dictionary of words in the vocabulary mapped to index positions\n",
        "        self.word2index = {}\n",
        "        for i, word in enumerate(self.review_vocab):\n",
        "            self.word2index[word] = i\n",
        "        \n",
        "        # Create a dictionary of labels mapped to index positions\n",
        "        self.label2index = {}\n",
        "        for i, label in enumerate(self.label_vocab):\n",
        "            self.label2index[label] = i\n",
        "        \n",
        "    def init_network(self, input_nodes, hidden_nodes, output_nodes, learning_rate):\n",
        "        # Set number of nodes in input, hidden and output layers.\n",
        "        self.input_nodes = input_nodes\n",
        "        self.hidden_nodes = hidden_nodes\n",
        "        self.output_nodes = output_nodes\n",
        "\n",
        "        # Store the learning rate\n",
        "        self.learning_rate = learning_rate\n",
        "\n",
        "        # Initialize weights\n",
        "\n",
        "        # These are the weights between the input layer and the hidden layer.\n",
        "        self.weights_0_1 = np.zeros((self.input_nodes, self.hidden_nodes))\n",
        "    \n",
        "        # These are the weights between the hidden layer and the output layer.\n",
        "        ## NOTE: the difference in the standard deviation of the normal weights\n",
        "        ## This has been changed from `self.output_nodes**-0.5` to `self.hidden_nodes**-0.5`\n",
        "        self.weights_1_2 = np.random.normal(0.0, self.hidden_nodes**-0.5, \n",
        "                                                (self.hidden_nodes, self.output_nodes))\n",
        "        \n",
        "        # The input layer, a two-dimensional matrix with shape 1 x input_nodes\n",
        "        self.layer_0 = np.zeros((1, input_nodes))\n",
        "    \n",
        "    def update_input_layer(self, review):\n",
        "\n",
        "        # clear out previous state, reset the layer to be all 0s\n",
        "        self.layer_0 *= 0\n",
        "        \n",
        "        for word in review.split(\" \"):\n",
        "            # NOTE: This if-check was not in the version of this method created in Project 2,\n",
        "            #       and it appears in Andrew's Project 3 solution without explanation. \n",
        "            #       It simply ensures the word is actually a key in word2index before\n",
        "            #       accessing it, which is important because accessing an invalid key\n",
        "            #       with raise an exception in Python. This allows us to iged from `self.output_nodes**-0.5` to `self.hidden_nodes**-0.5`\n",
        "        self.weights_1_2 = npgnore unknown\n",
        "            #       words encountered in new reviews.\n",
        "            if(word in self.word2index.keys()):\n",
        "                self.layer_0[0][self.word2index[word]] += 1\n",
        "                \n",
        "    def get_target_for_label(self, label):\n",
        "        if(label == 'POSITIVE'):\n",
        "            return 1\n",
        "        else:\n",
        "            return 0\n",
        "        \n",
        "    def sigmoid(self, x):\n",
        "        return 1 / (1 + np.exp(-x))\n",
        "    \n",
        "    def sigmoid_output_2_derivative(self, output):\n",
        "        return output * (1 - output)\n",
        "    \n",
        "    def train(self, training_reviews, training_labels):\n",
        "        \n",
        "        # make sure out we have a matching number of reviews and labels\n",
        "        assert(len(training_reviews) == len(training_labels))\n",
        "        \n",
        "        # Keep track of correct predictions to display accuracy during training \n",
        "        correct_so_far = 0\n",
        "\n",
        "        # Remember when we started for printing time statistics\n",
        "        start = time.time()\n",
        "        \n",
        "        # loop through all the given reviews and run a forward and backward pass,\n",
        "        # updating weights for every item\n",
        "        for i in range(len(training_reviews)):\n",
        "            \n",
        "            # Get the next review and its correct label\n",
        "            review = training_reviews[i]\n",
        "            label = training_labels[i]\n",
        "            \n",
        "            #### Implement the forward pass here ####\n",
        "            ### Forward pass ###\n",
        "\n",
        "            # Input Layer\n",
        "            self.update_input_layer(review)\n",
        "\n",
        "            # Hidden layer\n",
        "            layer_1 = self.layer_0.dot(self.weights_0_1)\n",
        "\n",
        "            # Output layer\n",
        "            layer_2 = self.sigmoid(layer_1.dot(self.weights_1_2))\n",
        "            \n",
        "            #### Implement the backward pass here ####\n",
        "            ### Backward pass ###\n",
        "\n",
        "            # Output error\n",
        "            layer_2_error = layer_2 - self.get_target_for_label(label) # Output layer error is the difference between desired target and actual output.\n",
        "            layer_2_delta = layer_2_error * self.sigmoid_output_2_derivative(layer_2)\n",
        "\n",
        "            # Backpropagated error\n",
        "            layer_1_error = layer_2_delta.dot(self.weights_1_2.T) # errors propagated to the hidden layer\n",
        "            layer_1_delta = layer_1_error # hidden layer gradients - no nonlinearity so it's the same as the error\n",
        "\n",
        "            # Update the weights\n",
        "            self.weights_1_2 -= layer_1.T.dot(layer_2_delta) * self.learning_rate # update hidden-to-output weights with gradient descent step\n",
        "            self.weights_0_1 -= self.layer_0.T.dot(layer_1_delta) * self.learning_rate # update input-to-hidden weights with gradient descent step\n",
        "\n",
        "            # Keep track of correct predictions.\n",
        "            if(layer_2 >= 0.5 and label == 'POSITIVE'):\n",
        "                correct_so_far += 1\n",
        "            elif(layer_2 < 0.5 and label == 'NEGATIVE'):\n",
        "                correct_so_far += 1\n",
        "            \n",
        "            # For debug purposes, print out our prediction accuracy and speed \n",
        "            # throughout the training process. \n",
        "            elapsed_time = float(time.time() - start)\n",
        "            reviews_per_second = i / elapsed_time if elapsed_time > 0 else 0\n",
        "            \n",
        "            sys.stdout.write(\"\\rProgress:\" + str(100 * i/float(len(training_reviews)))[:4] \\\n",
        "                             + \"% Speed(reviews/sec):\" + str(reviews_per_second)[0:5] \\\n",
        "                             + \" #Correct:\" + str(correct_so_far) + \" #Trained:\" + str(i+1) \\\n",
        "                             + \" Training Accuracy:\" + str(correct_so_far * 100 / float(i+1))[:4] + \"%\")\n",
        "            if(i % 2500 == 0):\n",
        "                print(\"\")\n",
        "    \n",
        "    def test(self, testing_reviews, testing_labels):\n",
        "        \"\"\"\n",
        "        Attempts to predict the labels for the given testing_reviews,\n",
        "        and uses the test_labels to calculate the accuracy of those predictions.\n",
        "        \"\"\"\n",
        "        \n",
        "        # keep track of how many correct predictions we make\n",
        "        correct = 0\n",
        "\n",
        "        # we'll time how many predictions per second we make\n",
        "        start = time.time()\n",
        "\n",
        "        # Loop through each of the given reviews and call run to predict\n",
        "        # its label. \n",
        "        for i in range(len(testing_reviews)):\n",
        "            pred = self.run(testing_reviews[i])\n",
        "            if(pred == testing_labels[i]):\n",
        "                correct += 1\n",
        "            \n",
        "            # For debug purposes, print out our prediction accuracy and speed \n",
        "            # throughout the prediction process. \n",
        "\n",
        "            elapsed_time = float(time.time() - start)\n",
        "            reviews_per_second = i / elapsed_time if elapsed_time > 0 else 0\n",
        "            \n",
        "            sys.stdout.write(\"\\rProgress:\" + str(100 * i/float(len(testing_reviews)))[:4] \\\n",
        "                             + \"% Speed(reviews/sec):\" + str(reviews_per_second)[0:5] \\\n",
        "                             + \" #Correct:\" + str(correct) + \" #Tested:\" + str(i+1) \\\n",
        "                             + \" Testing Accuracy:\" + str(correct * 100 / float(i+1))[:4] + \"%\")\n",
        "    \n",
        "    def run(self, review):\n",
        "        \"\"\"\n",
        "        Returns a POSITIVE or NEGATIVE prediction for the given review.\n",
        "        \"\"\"\n",
        "        # Run a forward pass through the network, like in the \"train\" function.\n",
        "        \n",
        "        # Input Layer\n",
        "        self.update_input_layer(review.lower())\n",
        "\n",
        "        # Hidden layer\n",
        "        layer_1 = self.layer_0.dot(self.weights_0_1)\n",
        "\n",
        "        # Output layer\n",
        "        layer_2 = self.sigmoid(layer_1.dot(self.weights_1_2))\n",
        "        \n",
        "        # Return POSITIVE for values above greater-than-or-equal-to 0.5 in the output layer;\n",
        "        # return NEGATIVE for other values\n",
        "        if(layer_2[0] >= 0.5):\n",
        "            return \"POSITIVE\"\n",
        "        else:\n",
        "            return \"NEGATIVE\"\n",
        "        "
      ],
      "execution_count": 0,
      "outputs": []
    },
    {
      "cell_type": "markdown",
      "metadata": {
        "id": "dqhce0R4PqiF",
        "colab_type": "text"
      },
      "source": [
        "Run the following cell to create a `SentimentNetwork` that will train on all but the last 1000 reviews (we're saving those for testing). Here we use a learning rate of `0.1`."
      ]
    },
    {
      "cell_type": "code",
      "metadata": {
        "id": "Q8GI8IT4PqiH",
        "colab_type": "code",
        "colab": {}
      },
      "source": [
        "mlp = SentimentNetwork(reviews[:-1000],labels[:-1000], learning_rate=0.1)"
      ],
      "execution_count": 0,
      "outputs": []
    },
    {
      "cell_type": "markdown",
      "metadata": {
        "id": "wW5NkeNlPqiJ",
        "colab_type": "text"
      },
      "source": [
        "Run the following cell to test the network's performance against the last 1000 reviews (the ones we held out from our training set). \n",
        "\n",
        "**We have not trained the model yet, so the results should be about 50% as it will just be guessing and there are only two possible values to choose from.**"
      ]
    },
    {
      "cell_type": "code",
      "metadata": {
        "scrolled": true,
        "id": "2nve6IrAPqiK",
        "colab_type": "code",
        "outputId": "eab569bc-8548-4011-8e59-f0bbd2131949",
        "colab": {
          "base_uri": "https://localhost:8080/",
          "height": 34
        }
      },
      "source": [
        "mlp.test(reviews[-1000:],labels[-1000:])"
      ],
      "execution_count": 43,
      "outputs": [
        {
          "output_type": "stream",
          "text": [
            "Progress:99.9% Speed(reviews/sec):594.1 #Correct:500 #Tested:1000 Testing Accuracy:50.0%"
          ],
          "name": "stdout"
        }
      ]
    },
    {
      "cell_type": "markdown",
      "metadata": {
        "id": "LuTMh6A1PqiN",
        "colab_type": "text"
      },
      "source": [
        "Run the following cell to actually train the network. During training, it will display the model's accuracy repeatedly as it trains so you can see how well it's doing."
      ]
    },
    {
      "cell_type": "code",
      "metadata": {
        "id": "K8Anxd8rPqiO",
        "colab_type": "code",
        "outputId": "fe5eb6b8-1161-43c7-d4bf-06ed0cffb891",
        "colab": {
          "base_uri": "https://localhost:8080/",
          "height": 208
        }
      },
      "source": [
        "mlp.train(reviews[:-1000],labels[:-1000])"
      ],
      "execution_count": 44,
      "outputs": [
        {
          "output_type": "stream",
          "text": [
            "Progress:0.0% Speed(reviews/sec):0.0 #Correct:1 #Trained:1 Training Accuracy:100.%\n",
            "Progress:10.4% Speed(reviews/sec):219.2 #Correct:1247 #Trained:2501 Training Accuracy:49.8%\n",
            "Progress:20.8% Speed(reviews/sec):217.4 #Correct:2347 #Trained:5001 Training Accuracy:46.9%\n",
            "Progress:31.2% Speed(reviews/sec):218.9 #Correct:3616 #Trained:7501 Training Accuracy:48.2%\n",
            "Progress:41.6% Speed(reviews/sec):219.4 #Correct:5036 #Trained:10001 Training Accuracy:50.3%\n",
            "Progress:52.0% Speed(reviews/sec):219.2 #Correct:6464 #Trained:12501 Training Accuracy:51.7%\n",
            "Progress:62.5% Speed(reviews/sec):220.2 #Correct:7892 #Trained:15001 Training Accuracy:52.6%\n",
            "Progress:72.9% Speed(reviews/sec):220.4 #Correct:9270 #Trained:17501 Training Accuracy:52.9%\n",
            "Progress:83.3% Speed(reviews/sec):220.2 #Correct:10587 #Trained:20001 Training Accuracy:52.9%\n",
            "Progress:93.7% Speed(reviews/sec):220.3 #Correct:11868 #Trained:22501 Training Accuracy:52.7%\n",
            "Progress:99.9% Speed(reviews/sec):220.4 #Correct:12841 #Trained:24000 Training Accuracy:53.5%"
          ],
          "name": "stdout"
        }
      ]
    },
    {
      "cell_type": "markdown",
      "metadata": {
        "id": "AFzCZzUzPqiQ",
        "colab_type": "text"
      },
      "source": [
        "That most likely didn't train very well. Part of the reason may be because the learning rate is too high. Run the following cell to recreate the network with a smaller learning rate, `0.01`, and then train the new network."
      ]
    },
    {
      "cell_type": "code",
      "metadata": {
        "id": "nX5Blt4wPqiQ",
        "colab_type": "code",
        "outputId": "397e2248-42dd-4478-b303-34de05cb41e3",
        "colab": {
          "base_uri": "https://localhost:8080/",
          "height": 208
        }
      },
      "source": [
        "mlp = SentimentNetwork(reviews[:-1000],labels[:-1000], learning_rate=0.01)\n",
        "mlp.train(reviews[:-1000],labels[:-1000])"
      ],
      "execution_count": 45,
      "outputs": [
        {
          "output_type": "stream",
          "text": [
            "Progress:0.0% Speed(reviews/sec):0.0 #Correct:1 #Trained:1 Training Accuracy:100.%\n",
            "Progress:10.4% Speed(reviews/sec):191.1 #Correct:1411 #Trained:2501 Training Accuracy:56.4%\n",
            "Progress:20.8% Speed(reviews/sec):192.2 #Correct:3003 #Trained:5001 Training Accuracy:60.0%\n",
            "Progress:31.2% Speed(reviews/sec):193.5 #Correct:4670 #Trained:7501 Training Accuracy:62.2%\n",
            "Progress:41.6% Speed(reviews/sec):195.8 #Correct:6417 #Trained:10001 Training Accuracy:64.1%\n",
            "Progress:52.0% Speed(reviews/sec):196.9 #Correct:8199 #Trained:12501 Training Accuracy:65.5%\n",
            "Progress:62.5% Speed(reviews/sec):197.2 #Correct:9990 #Trained:15001 Training Accuracy:66.5%\n",
            "Progress:72.9% Speed(reviews/sec):198.7 #Correct:11770 #Trained:17501 Training Accuracy:67.2%\n",
            "Progress:83.3% Speed(reviews/sec):198.9 #Correct:13635 #Trained:20001 Training Accuracy:68.1%\n",
            "Progress:93.7% Speed(reviews/sec):199.7 #Correct:15492 #Trained:22501 Training Accuracy:68.8%\n",
            "Progress:99.9% Speed(reviews/sec):200.3 #Correct:16643 #Trained:24000 Training Accuracy:69.3%"
          ],
          "name": "stdout"
        }
      ]
    },
    {
      "cell_type": "markdown",
      "metadata": {
        "id": "SiZXoi3oPqiU",
        "colab_type": "text"
      },
      "source": [
        "### Different Initialization, Different Results\n",
        "\n",
        "With slightly better initialization code (using `hidden_nodes**-0.5` rather than `output_nodes**-0.5`), we actually see an improvement with a learning rate = 0.01! This solution isn't perfect, but it certainly shows potential and we will improve upon it later in this lesson.\n",
        "\n",
        "Why is this a better initialization strategy? We'll get into the details of weight initialization later in this progam, but suffice to say that the best weights are a function of the $1/\\sqrt(n)$ where n is the number of nodes in that layer. In this case, the weights between the hidden and output layer should be a function of the *hidden* layer size. So, using `hidden_nodes**-0.5` rather than `output_nodes**-0.5` is a better initialization strategy!"
      ]
    },
    {
      "cell_type": "markdown",
      "metadata": {
        "id": "9QaS_nmkPqiU",
        "colab_type": "text"
      },
      "source": [
        "# End of Project 3. \n",
        "## Watch the next video to continue with Andrew's next lesson."
      ]
    },
    {
      "cell_type": "markdown",
      "metadata": {
        "id": "ZjZP-GXWPqiV",
        "colab_type": "text"
      },
      "source": [
        "# Understanding Neural Noise<a id='lesson_4'></a>\n",
        "\n",
        "<img src='https://raw.githubusercontent.com/udacity/deep-learning-v2-pytorch/master/sentiment-analysis-network/sentiment_network.png'>"
      ]
    },
    {
      "cell_type": "code",
      "metadata": {
        "id": "ALKkSyFQPqiZ",
        "colab_type": "code",
        "colab": {
          "base_uri": "https://localhost:8080/",
          "height": 34
        },
        "outputId": "348259e5-aa3d-49cb-b43d-65f6562e61b7"
      },
      "source": [
        "def update_input_layer(review):\n",
        "    \n",
        "    global layer_0\n",
        "    \n",
        "    # clear out previous state, reset the layer to be all 0s\n",
        "    layer_0 *= 0\n",
        "    for word in review.split(\" \"):\n",
        "        layer_0[0][word2index[word]] += 1\n",
        "\n",
        "update_input_layer(reviews[0])\n",
        "layer_0"
      ],
      "execution_count": 48,
      "outputs": [
        {
          "output_type": "execute_result",
          "data": {
            "text/plain": [
              "array([[18.,  0.,  0., ...,  0.,  0.,  0.]])"
            ]
          },
          "metadata": {
            "tags": []
          },
          "execution_count": 48
        }
      ]
    },
    {
      "cell_type": "code",
      "metadata": {
        "id": "bRcTIEEk92oi",
        "colab_type": "code",
        "colab": {
          "base_uri": "https://localhost:8080/",
          "height": 1000
        },
        "outputId": "79c54713-8164-4f6d-937b-71434de5ea62"
      },
      "source": [
        "reviews[0].split(\" \")"
      ],
      "execution_count": 58,
      "outputs": [
        {
          "output_type": "execute_result",
          "data": {
            "text/plain": [
              "['bromwell',\n",
              " 'high',\n",
              " 'is',\n",
              " 'a',\n",
              " 'cartoon',\n",
              " 'comedy',\n",
              " '.',\n",
              " 'it',\n",
              " 'ran',\n",
              " 'at',\n",
              " 'the',\n",
              " 'same',\n",
              " 'time',\n",
              " 'as',\n",
              " 'some',\n",
              " 'other',\n",
              " 'programs',\n",
              " 'about',\n",
              " 'school',\n",
              " 'life',\n",
              " '',\n",
              " 'such',\n",
              " 'as',\n",
              " '',\n",
              " 'teachers',\n",
              " '',\n",
              " '.',\n",
              " 'my',\n",
              " '',\n",
              " '',\n",
              " 'years',\n",
              " 'in',\n",
              " 'the',\n",
              " 'teaching',\n",
              " 'profession',\n",
              " 'lead',\n",
              " 'me',\n",
              " 'to',\n",
              " 'believe',\n",
              " 'that',\n",
              " 'bromwell',\n",
              " 'high',\n",
              " '',\n",
              " 's',\n",
              " 'satire',\n",
              " 'is',\n",
              " 'much',\n",
              " 'closer',\n",
              " 'to',\n",
              " 'reality',\n",
              " 'than',\n",
              " 'is',\n",
              " '',\n",
              " 'teachers',\n",
              " '',\n",
              " '.',\n",
              " 'the',\n",
              " 'scramble',\n",
              " 'to',\n",
              " 'survive',\n",
              " 'financially',\n",
              " '',\n",
              " 'the',\n",
              " 'insightful',\n",
              " 'students',\n",
              " 'who',\n",
              " 'can',\n",
              " 'see',\n",
              " 'right',\n",
              " 'through',\n",
              " 'their',\n",
              " 'pathetic',\n",
              " 'teachers',\n",
              " '',\n",
              " 'pomp',\n",
              " '',\n",
              " 'the',\n",
              " 'pettiness',\n",
              " 'of',\n",
              " 'the',\n",
              " 'whole',\n",
              " 'situation',\n",
              " '',\n",
              " 'all',\n",
              " 'remind',\n",
              " 'me',\n",
              " 'of',\n",
              " 'the',\n",
              " 'schools',\n",
              " 'i',\n",
              " 'knew',\n",
              " 'and',\n",
              " 'their',\n",
              " 'students',\n",
              " '.',\n",
              " 'when',\n",
              " 'i',\n",
              " 'saw',\n",
              " 'the',\n",
              " 'episode',\n",
              " 'in',\n",
              " 'which',\n",
              " 'a',\n",
              " 'student',\n",
              " 'repeatedly',\n",
              " 'tried',\n",
              " 'to',\n",
              " 'burn',\n",
              " 'down',\n",
              " 'the',\n",
              " 'school',\n",
              " '',\n",
              " 'i',\n",
              " 'immediately',\n",
              " 'recalled',\n",
              " '.',\n",
              " '.',\n",
              " '.',\n",
              " '.',\n",
              " '.',\n",
              " '.',\n",
              " '.',\n",
              " '.',\n",
              " '.',\n",
              " 'at',\n",
              " '.',\n",
              " '.',\n",
              " '.',\n",
              " '.',\n",
              " '.',\n",
              " '.',\n",
              " '.',\n",
              " '.',\n",
              " '.',\n",
              " '.',\n",
              " 'high',\n",
              " '.',\n",
              " 'a',\n",
              " 'classic',\n",
              " 'line',\n",
              " 'inspector',\n",
              " 'i',\n",
              " '',\n",
              " 'm',\n",
              " 'here',\n",
              " 'to',\n",
              " 'sack',\n",
              " 'one',\n",
              " 'of',\n",
              " 'your',\n",
              " 'teachers',\n",
              " '.',\n",
              " 'student',\n",
              " 'welcome',\n",
              " 'to',\n",
              " 'bromwell',\n",
              " 'high',\n",
              " '.',\n",
              " 'i',\n",
              " 'expect',\n",
              " 'that',\n",
              " 'many',\n",
              " 'adults',\n",
              " 'of',\n",
              " 'my',\n",
              " 'age',\n",
              " 'think',\n",
              " 'that',\n",
              " 'bromwell',\n",
              " 'high',\n",
              " 'is',\n",
              " 'far',\n",
              " 'fetched',\n",
              " '.',\n",
              " 'what',\n",
              " 'a',\n",
              " 'pity',\n",
              " 'that',\n",
              " 'it',\n",
              " 'isn',\n",
              " '',\n",
              " 't',\n",
              " '',\n",
              " '',\n",
              " '']"
            ]
          },
          "metadata": {
            "tags": []
          },
          "execution_count": 58
        }
      ]
    },
    {
      "cell_type": "code",
      "metadata": {
        "id": "uRfCStR9Pqii",
        "colab_type": "code",
        "colab": {
          "base_uri": "https://localhost:8080/",
          "height": 1000
        },
        "outputId": "6671a7b6-bfa5-4434-c7c1-e73dcae2f5a9"
      },
      "source": [
        "review_counter = Counter()\n",
        "\n",
        "for word in reviews[0].split(\" \"):\n",
        "    review_counter[word] += 1\n",
        "\n",
        "review_counter.most_common()"
      ],
      "execution_count": 49,
      "outputs": [
        {
          "output_type": "execute_result",
          "data": {
            "text/plain": [
              "[('.', 27),\n",
              " ('', 18),\n",
              " ('the', 9),\n",
              " ('to', 6),\n",
              " ('high', 5),\n",
              " ('i', 5),\n",
              " ('bromwell', 4),\n",
              " ('is', 4),\n",
              " ('a', 4),\n",
              " ('teachers', 4),\n",
              " ('that', 4),\n",
              " ('of', 4),\n",
              " ('it', 2),\n",
              " ('at', 2),\n",
              " ('as', 2),\n",
              " ('school', 2),\n",
              " ('my', 2),\n",
              " ('in', 2),\n",
              " ('me', 2),\n",
              " ('students', 2),\n",
              " ('their', 2),\n",
              " ('student', 2),\n",
              " ('cartoon', 1),\n",
              " ('comedy', 1),\n",
              " ('ran', 1),\n",
              " ('same', 1),\n",
              " ('time', 1),\n",
              " ('some', 1),\n",
              " ('other', 1),\n",
              " ('programs', 1),\n",
              " ('about', 1),\n",
              " ('life', 1),\n",
              " ('such', 1),\n",
              " ('years', 1),\n",
              " ('teaching', 1),\n",
              " ('profession', 1),\n",
              " ('lead', 1),\n",
              " ('believe', 1),\n",
              " ('s', 1),\n",
              " ('satire', 1),\n",
              " ('much', 1),\n",
              " ('closer', 1),\n",
              " ('reality', 1),\n",
              " ('than', 1),\n",
              " ('scramble', 1),\n",
              " ('survive', 1),\n",
              " ('financially', 1),\n",
              " ('insightful', 1),\n",
              " ('who', 1),\n",
              " ('can', 1),\n",
              " ('see', 1),\n",
              " ('right', 1),\n",
              " ('through', 1),\n",
              " ('pathetic', 1),\n",
              " ('pomp', 1),\n",
              " ('pettiness', 1),\n",
              " ('whole', 1),\n",
              " ('situation', 1),\n",
              " ('all', 1),\n",
              " ('remind', 1),\n",
              " ('schools', 1),\n",
              " ('knew', 1),\n",
              " ('and', 1),\n",
              " ('when', 1),\n",
              " ('saw', 1),\n",
              " ('episode', 1),\n",
              " ('which', 1),\n",
              " ('repeatedly', 1),\n",
              " ('tried', 1),\n",
              " ('burn', 1),\n",
              " ('down', 1),\n",
              " ('immediately', 1),\n",
              " ('recalled', 1),\n",
              " ('classic', 1),\n",
              " ('line', 1),\n",
              " ('inspector', 1),\n",
              " ('m', 1),\n",
              " ('here', 1),\n",
              " ('sack', 1),\n",
              " ('one', 1),\n",
              " ('your', 1),\n",
              " ('welcome', 1),\n",
              " ('expect', 1),\n",
              " ('many', 1),\n",
              " ('adults', 1),\n",
              " ('age', 1),\n",
              " ('think', 1),\n",
              " ('far', 1),\n",
              " ('fetched', 1),\n",
              " ('what', 1),\n",
              " ('pity', 1),\n",
              " ('isn', 1),\n",
              " ('t', 1)]"
            ]
          },
          "metadata": {
            "tags": []
          },
          "execution_count": 49
        }
      ]
    },
    {
      "cell_type": "markdown",
      "metadata": {
        "id": "Gn6em2noPqiq",
        "colab_type": "text"
      },
      "source": [
        "# Project 4: Reducing Noise in Our Input Data<a id='project_4'></a>\n",
        "\n",
        "**TODO:** Attempt to reduce the noise in the input data like Andrew did in the previous video. Specifically, do the following:\n",
        "* Copy the `SentimentNetwork` class you created earlier into the following cell.\n",
        "* Modify `update_input_layer` so it does not count how many times each word is used, but rather just stores whether or not a word was used. "
      ]
    },
    {
      "cell_type": "markdown",
      "metadata": {
        "id": "UO-EI7rnPqiq",
        "colab_type": "text"
      },
      "source": [
        "The following code is the same as the previous project, with project-specific changes marked with `\"New for Project 4\"`"
      ]
    },
    {
      "cell_type": "code",
      "metadata": {
        "id": "Tb0p4Ng0Pqir",
        "colab_type": "code",
        "colab": {}
      },
      "source": [
        "import time\n",
        "import sys\n",
        "import numpy as np\n",
        "\n",
        "# Encapsulate our neural network in a class\n",
        "class SentimentNetwork:\n",
        "    def __init__(self, reviews, labels, hidden_nodes = 10, learning_rate = 0.1):\n",
        "        \"\"\"Create a SentimenNetwork with the given settings\n",
        "        Args:\n",
        "            reviews(list) - List of reviews used for training\n",
        "            labels(list) - List of POSITIVE/NEGATIVE labels associated with the given reviews\n",
        "            hidden_nodes(int) - Number of nodes to create in the hidden layer\n",
        "            learning_rate(float) - Learning rate to use while training\n",
        "        \n",
        "        \"\"\"\n",
        "        # Assign a seed to our random number generator to ensure we get\n",
        "        # reproducable results during development \n",
        "        np.random.seed(1)\n",
        "\n",
        "        # process the reviews and their associated labels so that everything\n",
        "        # is ready for training\n",
        "        self.pre_process_data(reviews, labels)\n",
        "        \n",
        "        # Build the network to have the number of hidden nodes and the learning rate that\n",
        "        # were passed into this initializer. Make the same number of input nodes as\n",
        "        # there are vocabulary words and create a single output node.\n",
        "        self.init_network(len(self.review_vocab), hidden_nodes, 1, learning_rate)\n",
        "\n",
        "    def pre_process_data(self, reviews, labels):\n",
        "        \n",
        "        # populate review_vocab with all of the words in the given reviews\n",
        "        review_vocab = set()\n",
        "        for review in reviews:\n",
        "            for word in review.split(\" \"):\n",
        "                review_vocab.add(word)\n",
        "\n",
        "        # Convert the vocabulary set to a list so we can access words via indices\n",
        "        self.review_vocab = list(review_vocab)\n",
        "        \n",
        "        # populate label_vocab with all of the words in the given labels.\n",
        "        label_vocab = set()\n",
        "        for label in labels:\n",
        "            label_vocab.add(label)\n",
        "        \n",
        "        # Convert the label vocabulary set to a list so we can access labels via indices\n",
        "        self.label_vocab = list(label_vocab)\n",
        "        \n",
        "        # Store the sizes of the review and label vocabularies.\n",
        "        self.review_vocab_size = len(self.review_vocab)\n",
        "        self.label_vocab_size = len(self.label_vocab)\n",
        "        \n",
        "        # Create a dictionary of words in the vocabulary mapped to index positions\n",
        "        self.word2index = {}\n",
        "        for i, word in enumerate(self.review_vocab):\n",
        "            self.word2index[word] = i\n",
        "        \n",
        "        # Create a dictionary of labels mapped to index positions\n",
        "        self.label2index = {}\n",
        "        for i, label in enumerate(self.label_vocab):\n",
        "            self.label2index[label] = i\n",
        "        \n",
        "    def init_network(self, input_nodes, hidden_nodes, output_nodes, learning_rate):\n",
        "        # Set number of nodes in input, hidden and output layers.\n",
        "        self.input_nodes = input_nodes\n",
        "        self.hidden_nodes = hidden_nodes\n",
        "        self.output_nodes = output_nodes\n",
        "\n",
        "        # Store the learning rate\n",
        "        self.learning_rate = learning_rate\n",
        "\n",
        "        # Initialize weights\n",
        "\n",
        "        # These are the weights between the input layer and the hidden layer.\n",
        "        self.weights_0_1 = np.zeros((self.input_nodes, self.hidden_nodes))\n",
        "    \n",
        "        # These are the weights between the hidden layer and the output layer.\n",
        "        self.weights_1_2 = np.random.normal(0.0, self.hidden_nodes**-0.5, \n",
        "                                                (self.hidden_nodes, self.output_nodes))\n",
        "        \n",
        "        # The input layer, a two-dimensional matrix with shape 1 x input_nodes\n",
        "        self.layer_0 = np.zeros((1, input_nodes))\n",
        "    \n",
        "        \n",
        "    def update_input_layer(self, review):\n",
        "\n",
        "        # clear out previous state, reset the layer to be all 0s\n",
        "        self.layer_0 *= 0\n",
        "        \n",
        "        for word in review.split(\" \"):\n",
        "            # NOTE: This if-check was not in the version of this method created in Project 2,\n",
        "            #       and it appears in Andrew's Project 3 solution without explanation. \n",
        "            #       It simply ensures the word is actually a key in word2index before\n",
        "            #       accessing it, which is important because accessing an invalid key\n",
        "            #       with raise an exception in Python. This allows us to ignore unknown\n",
        "            #       words encountered in new reviews.\n",
        "            if(word in self.word2index.keys()):\n",
        "                ## New for Project 4: changed to set to 1 instead of add 1\n",
        "                self.layer_0[0][self.word2index[word]] = 1\n",
        "                \n",
        "    def get_target_for_label(self,label):\n",
        "        if(label == 'POSITIVE'):\n",
        "            return 1\n",
        "        else:\n",
        "            return 0\n",
        "        \n",
        "    def sigmoid(self,x):\n",
        "        return 1 / (1 + np.exp(-x))\n",
        "    \n",
        "    def sigmoid_output_2_derivative(self,output):\n",
        "        return output * (1 - output)\n",
        "    \n",
        "    def train(self, training_reviews, training_labels):\n",
        "        \n",
        "        # make sure out we have a matching number of reviews and labels\n",
        "        assert(len(training_reviews) == len(training_labels))\n",
        "        \n",
        "        # Keep track of correct predictions to display accuracy during training \n",
        "        correct_so_far = 0\n",
        "\n",
        "        # Remember when we started for printing time statistics\n",
        "        start = time.time()\n",
        "        \n",
        "        # loop through all the given reviews and run a forward and backward pass,\n",
        "        # updating weights for every item\n",
        "        for i in range(len(training_reviews)):\n",
        "            \n",
        "            # Get the next review and its correct label\n",
        "            review = training_reviews[i]\n",
        "            label = training_labels[i]\n",
        "            \n",
        "            #### Implement the forward pass here ####\n",
        "            ### Forward pass ###\n",
        "\n",
        "            # Input Layer\n",
        "            self.update_input_layer(review)\n",
        "\n",
        "            # Hidden layer\n",
        "            layer_1 = self.layer_0.dot(self.weights_0_1)\n",
        "\n",
        "            # Output layer\n",
        "            layer_2 = self.sigmoid(layer_1.dot(self.weights_1_2))\n",
        "            \n",
        "            #### Implement the backward pass here ####\n",
        "            ### Backward pass ###\n",
        "\n",
        "            # Output error\n",
        "            layer_2_error = layer_2 - self.get_target_for_label(label) # Output layer error is the difference between desired target and actual output.\n",
        "            layer_2_delta = layer_2_error * self.sigmoid_output_2_derivative(layer_2)\n",
        "\n",
        "            # Backpropagated error\n",
        "            layer_1_error = layer_2_delta.dot(self.weights_1_2.T) # errors propagated to the hidden layer\n",
        "            layer_1_delta = layer_1_error # hidden layer gradients - no nonlinearity so it's the same as the error\n",
        "\n",
        "            # Update the weights\n",
        "            self.weights_1_2 -= layer_1.T.dot(layer_2_delta) * self.learning_rate # update hidden-to-output weights with gradient descent step\n",
        "            self.weights_0_1 -= self.layer_0.T.dot(layer_1_delta) * self.learning_rate # update input-to-hidden weights with gradient descent step\n",
        "\n",
        "            # Keep track of correct predictions.\n",
        "            if(layer_2 >= 0.5 and label == 'POSITIVE'):\n",
        "                correct_so_far += 1\n",
        "            elif(layer_2 < 0.5 and label == 'NEGATIVE'):\n",
        "                correct_so_far += 1\n",
        "            \n",
        "            # For debug purposes, print out our prediction accuracy and speed \n",
        "            # throughout the training process. \n",
        "            elapsed_time = float(time.time() - start)\n",
        "            reviews_per_second = i / elapsed_time if elapsed_time > 0 else 0\n",
        "            \n",
        "            sys.stdout.write(\"\\rProgress:\" + str(100 * i/float(len(training_reviews)))[:4] \\\n",
        "                             + \"% Speed(reviews/sec):\" + str(reviews_per_second)[0:5] \\\n",
        "                             + \" #Correct:\" + str(correct_so_far) + \" #Trained:\" + str(i+1) \\\n",
        "                             + \" Training Accuracy:\" + str(correct_so_far * 100 / float(i+1))[:4] + \"%\")\n",
        "            if(i % 2500 == 0):\n",
        "                print(\"\")\n",
        "    \n",
        "    def test(self, testing_reviews, testing_labels):\n",
        "        \"\"\"\n",
        "        Attempts to predict the labels for the given testing_reviews,\n",
        "        and uses the test_labels to calculate the accuracy of those predictions.\n",
        "        \"\"\"\n",
        "        \n",
        "        # keep track of how many correct predictions we make\n",
        "        correct = 0\n",
        "\n",
        "        # we'll time how many predictions per second we make\n",
        "        start = time.time()\n",
        "\n",
        "        # Loop through each of the given reviews and call run to predict\n",
        "        # its label. \n",
        "        for i in range(len(testing_reviews)):\n",
        "            pred = self.run(testing_reviews[i])\n",
        "            if(pred == testing_labels[i]):\n",
        "                correct += 1\n",
        "            \n",
        "            # For debug purposes, print out our prediction accuracy and speed \n",
        "            # throughout the prediction process. \n",
        "\n",
        "            elapsed_time = float(time.time() - start)\n",
        "            reviews_per_second = i / elapsed_time if elapsed_time > 0 else 0\n",
        "            \n",
        "            sys.stdout.write(\"\\rProgress:\" + str(100 * i/float(len(testing_reviews)))[:4] \\\n",
        "                             + \"% Speed(reviews/sec):\" + str(reviews_per_second)[0:5] \\\n",
        "                             + \" #Correct:\" + str(correct) + \" #Tested:\" + str(i+1) \\\n",
        "                             + \" Testing Accuracy:\" + str(correct * 100 / float(i+1))[:4] + \"%\")\n",
        "    \n",
        "    def run(self, review):\n",
        "        \"\"\"\n",
        "        Returns a POSITIVE or NEGATIVE prediction for the given review.\n",
        "        \"\"\"\n",
        "        # Run a forward pass through the network, like in the \"train\" function.\n",
        "        \n",
        "        # Input Layer\n",
        "        self.update_input_layer(review.lower())\n",
        "\n",
        "        # Hidden layer\n",
        "        layer_1 = self.layer_0.dot(self.weights_0_1)\n",
        "\n",
        "        # Output layer\n",
        "        layer_2 = self.sigmoid(layer_1.dot(self.weights_1_2))\n",
        "        \n",
        "        # Return POSITIVE for values above greater-than-or-equal-to 0.5 in the output layer;\n",
        "        # return NEGATIVE for other values\n",
        "        if(layer_2[0] >= 0.5):\n",
        "            return \"POSITIVE\"\n",
        "        else:\n",
        "            return \"NEGATIVE\"\n",
        "        "
      ],
      "execution_count": 0,
      "outputs": []
    },
    {
      "cell_type": "markdown",
      "metadata": {
        "id": "Lj4RCef9Pqiu",
        "colab_type": "text"
      },
      "source": [
        "Run the following cell to recreate the network and train it. Notice we've gone back to the higher learning rate of `0.1`."
      ]
    },
    {
      "cell_type": "code",
      "metadata": {
        "scrolled": true,
        "id": "BC_lWJhWPqiv",
        "colab_type": "code",
        "outputId": "a413545c-3061-4a99-fe38-d0e96c9c38b3",
        "colab": {
          "base_uri": "https://localhost:8080/",
          "height": 208
        }
      },
      "source": [
        "mlp = SentimentNetwork(reviews[:-1000],labels[:-1000], learning_rate=0.1)\n",
        "mlp.train(reviews[:-1000],labels[:-1000])"
      ],
      "execution_count": 51,
      "outputs": [
        {
          "output_type": "stream",
          "text": [
            "Progress:0.0% Speed(reviews/sec):0.0 #Correct:1 #Trained:1 Training Accuracy:100.%\n",
            "Progress:10.4% Speed(reviews/sec):219.4 #Correct:1949 #Trained:2501 Training Accuracy:77.9%\n",
            "Progress:20.8% Speed(reviews/sec):224.9 #Correct:3994 #Trained:5001 Training Accuracy:79.8%\n",
            "Progress:31.2% Speed(reviews/sec):222.8 #Correct:6121 #Trained:7501 Training Accuracy:81.6%\n",
            "Progress:41.6% Speed(reviews/sec):223.6 #Correct:8278 #Trained:10001 Training Accuracy:82.7%\n",
            "Progress:52.0% Speed(reviews/sec):226.6 #Correct:10439 #Trained:12501 Training Accuracy:83.5%\n",
            "Progress:62.5% Speed(reviews/sec):228.1 #Correct:12580 #Trained:15001 Training Accuracy:83.8%\n",
            "Progress:72.9% Speed(reviews/sec):230.1 #Correct:14694 #Trained:17501 Training Accuracy:83.9%\n",
            "Progress:83.3% Speed(reviews/sec):231.1 #Correct:16868 #Trained:20001 Training Accuracy:84.3%\n",
            "Progress:93.7% Speed(reviews/sec):231.7 #Correct:19055 #Trained:22501 Training Accuracy:84.6%\n",
            "Progress:99.9% Speed(reviews/sec):231.7 #Correct:20375 #Trained:24000 Training Accuracy:84.8%"
          ],
          "name": "stdout"
        }
      ]
    },
    {
      "cell_type": "code",
      "metadata": {
        "id": "TFUgC7gsPqiy",
        "colab_type": "code",
        "outputId": "3f9abfce-9c08-44a4-d8d6-f8a1afbafd47",
        "colab": {
          "base_uri": "https://localhost:8080/",
          "height": 34
        }
      },
      "source": [
        "mlp.test(reviews[-1000:],labels[-1000:])"
      ],
      "execution_count": 52,
      "outputs": [
        {
          "output_type": "stream",
          "text": [
            "Progress:99.9% Speed(reviews/sec):684.0 #Correct:860 #Tested:1000 Testing Accuracy:86.0%"
          ],
          "name": "stdout"
        }
      ]
    },
    {
      "cell_type": "markdown",
      "metadata": {
        "id": "j1u0BXpDPqi1",
        "colab_type": "text"
      },
      "source": [
        "# End of Project 4 solution. \n",
        "## Watch the next video to continue with Andrew's next lesson.\n",
        "# Analyzing Inefficiencies in our Network<a id='lesson_5'></a>\n",
        "\n",
        "<img src='https://raw.githubusercontent.com/udacity/deep-learning-v2-pytorch/master/sentiment-analysis-network/sentiment_network_sparse.png'>"
      ]
    },
    {
      "cell_type": "code",
      "metadata": {
        "id": "cq2CKRx9Pqi5",
        "colab_type": "code",
        "colab": {
          "base_uri": "https://localhost:8080/",
          "height": 34
        },
        "outputId": "d105c86b-0da6-4eb6-b417-aca063961d23"
      },
      "source": [
        "layer_0 = np.zeros(10)\n",
        "layer_0"
      ],
      "execution_count": 53,
      "outputs": [
        {
          "output_type": "execute_result",
          "data": {
            "text/plain": [
              "array([0., 0., 0., 0., 0., 0., 0., 0., 0., 0.])"
            ]
          },
          "metadata": {
            "tags": []
          },
          "execution_count": 53
        }
      ]
    },
    {
      "cell_type": "code",
      "metadata": {
        "id": "Ulc_XrkiPqi_",
        "colab_type": "code",
        "colab": {
          "base_uri": "https://localhost:8080/",
          "height": 34
        },
        "outputId": "a876a312-d021-4a70-f138-2f6b8fcbd1be"
      },
      "source": [
        "layer_0[4] = 1\n",
        "layer_0[9] = 1\n",
        "layer_0"
      ],
      "execution_count": 54,
      "outputs": [
        {
          "output_type": "execute_result",
          "data": {
            "text/plain": [
              "array([0., 0., 0., 0., 1., 0., 0., 0., 0., 1.])"
            ]
          },
          "metadata": {
            "tags": []
          },
          "execution_count": 54
        }
      ]
    },
    {
      "cell_type": "code",
      "metadata": {
        "id": "LkjrXdxePqjE",
        "colab_type": "code",
        "colab": {
          "base_uri": "https://localhost:8080/",
          "height": 34
        },
        "outputId": "be688393-f67a-4261-8bb2-4d283141b560"
      },
      "source": [
        "weights_0_1 = np.random.randn(10, 5)\n",
        "layer_0.dot(weights_0_1)"
      ],
      "execution_count": 55,
      "outputs": [
        {
          "output_type": "execute_result",
          "data": {
            "text/plain": [
              "array([-0.10503756,  0.44222989,  0.24392938, -0.55961832,  0.21389503])"
            ]
          },
          "metadata": {
            "tags": []
          },
          "execution_count": 55
        }
      ]
    },
    {
      "cell_type": "code",
      "metadata": {
        "id": "V9ABo1LqPqjK",
        "colab_type": "code",
        "colab": {
          "base_uri": "https://localhost:8080/",
          "height": 34
        },
        "outputId": "04e754a8-9849-45d0-e266-7f0fa7ef2a54"
      },
      "source": [
        "indices = [4, 9]\n",
        "\n",
        "layer_1 = np.zeros(5)\n",
        "\n",
        "for index in indices:\n",
        "    layer_1 += (1 * weights_0_1[index])\n",
        "\n",
        "layer_1"
      ],
      "execution_count": 56,
      "outputs": [
        {
          "output_type": "execute_result",
          "data": {
            "text/plain": [
              "array([-0.10503756,  0.44222989,  0.24392938, -0.55961832,  0.21389503])"
            ]
          },
          "metadata": {
            "tags": []
          },
          "execution_count": 56
        }
      ]
    },
    {
      "cell_type": "markdown",
      "metadata": {
        "id": "zPEjxfZV7APY",
        "colab_type": "text"
      },
      "source": [
        "<img src='https://raw.githubusercontent.com/udacity/deep-learning-v2-pytorch/master/sentiment-analysis-network/sentiment_network_sparse_2.png'>"
      ]
    },
    {
      "cell_type": "code",
      "metadata": {
        "id": "yeVtYhGAPqjX",
        "colab_type": "code",
        "colab": {
          "base_uri": "https://localhost:8080/",
          "height": 34
        },
        "outputId": "239c97d7-df26-42ba-b868-b4405600e8c1"
      },
      "source": [
        "layer_1 = np.zeros(5)\n",
        "\n",
        "for index in indices:\n",
        "    layer_1 += (weights_0_1[index])\n",
        "\n",
        "layer_1"
      ],
      "execution_count": 57,
      "outputs": [
        {
          "output_type": "execute_result",
          "data": {
            "text/plain": [
              "array([-0.10503756,  0.44222989,  0.24392938, -0.55961832,  0.21389503])"
            ]
          },
          "metadata": {
            "tags": []
          },
          "execution_count": 57
        }
      ]
    },
    {
      "cell_type": "markdown",
      "metadata": {
        "id": "j0GQB127Pqjj",
        "colab_type": "text"
      },
      "source": [
        "# Project 5: Making our Network More Efficient<a id='project_5'></a>\n",
        "**TODO:** Make the `SentimentNetwork` class more efficient by eliminating unnecessary multiplications and additions that occur during forward and backward propagation. To do that, you can do the following:\n",
        "* Copy the `SentimentNetwork` class from the previous project into the following cell.\n",
        "* Remove the `update_input_layer` function - you will not need it in this version.\n",
        "* Modify `init_network`:\n",
        ">* You no longer need a separate input layer, so remove any mention of `self.layer_0`\n",
        ">* You will be dealing with the old hidden layer more directly, so create `self.layer_1`, a two-dimensional matrix with shape 1 x hidden_nodes, with all values initialized to zero\n",
        "* Modify `train`:\n",
        ">* Change the name of the input parameter `training_reviews` to `training_reviews_raw`. This will help with the next step.\n",
        ">* At the beginning of the function, you'll want to preprocess your reviews to convert them to a list of indices (from `word2index`) that are actually used in the review. This is equivalent to what you saw in the video when Andrew set specific indices to 1. Your code should create a local `list` variable named `training_reviews` that should contain a `list` for each review in `training_reviews_raw`. Those lists should contain the indices for words found in the review.\n",
        ">* Remove call to `update_input_layer`\n",
        ">* Use `self`'s  `layer_1` instead of a local `layer_1` object.\n",
        ">* In the forward pass, replace the code that updates `layer_1` with new logic that only adds the weights for the indices used in the review.\n",
        ">* When updating `weights_0_1`, only update the individual weights that were used in the forward pass.\n",
        "* Modify `run`:\n",
        ">* Remove call to `update_input_layer` \n",
        ">* Use `self`'s  `layer_1` instead of a local `layer_1` object.\n",
        ">* Much like you did in `train`, you will need to pre-process the `review` so you can work with word indices, then update `layer_1` by adding weights for the indices used in the review."
      ]
    },
    {
      "cell_type": "markdown",
      "metadata": {
        "id": "eChQpbdBPqjk",
        "colab_type": "text"
      },
      "source": [
        "The following code is the same as the previous project, with project-specific changes marked with `\"New for Project 5\"`"
      ]
    },
    {
      "cell_type": "code",
      "metadata": {
        "id": "tyE5AQ64Pqjk",
        "colab_type": "code",
        "colab": {}
      },
      "source": [
        "import time\n",
        "import sys\n",
        "import numpy as np\n",
        "\n",
        "# Encapsulate our neural network in a class\n",
        "class SentimentNetwork:\n",
        "    def __init__(self, reviews, labels, hidden_nodes = 10, learning_rate = 0.1):\n",
        "        \"\"\"Create a SentimenNetwork with the given settings\n",
        "        Args:\n",
        "            reviews(list) - List of reviews used for training\n",
        "            labels(list) - List of POSITIVE/NEGATIVE labels associated with the given reviews\n",
        "            hidden_nodes(int) - Number of nodes to create in the hidden layer\n",
        "            learning_rate(float) - Learning rate to use while training\n",
        "        \n",
        "        \"\"\"\n",
        "        # Assign a seed to our random number generator to ensure we get\n",
        "        # reproducable results during development \n",
        "        np.random.seed(1)\n",
        "\n",
        "        # process the reviews and their associated labels so that everything\n",
        "        # is ready for training\n",
        "        self.pre_process_data(reviews, labels)\n",
        "        \n",
        "        # Build the network to have the number of hidden nodes and the learning rate that\n",
        "        # were passed into this initializer. Make the same number of input nodes as\n",
        "        # there are vocabulary words and create a single output node.\n",
        "        self.init_network(len(self.review_vocab), hidden_nodes, 1, learning_rate)\n",
        "\n",
        "    def pre_process_data(self, reviews, labels):\n",
        "        \n",
        "        # populate review_vocab with all of the words in the given reviews\n",
        "        review_vocab = set()\n",
        "        for review in reviews:\n",
        "            for word in review.split(\" \"):\n",
        "                review_vocab.add(word)\n",
        "\n",
        "        # Convert the vocabulary set to a list so we can access words via indices\n",
        "        self.review_vocab = list(review_vocab)\n",
        "        \n",
        "        # populate label_vocab with all of the words in the given labels.\n",
        "        label_vocab = set()\n",
        "        for label in labels:\n",
        "            label_vocab.add(label)\n",
        "        \n",
        "        # Convert the label vocabulary set to a list so we can access labels via indices\n",
        "        self.label_vocab = list(label_vocab)\n",
        "        \n",
        "        # Store the sizes of the review and label vocabularies.\n",
        "        self.review_vocab_size = len(self.review_vocab)\n",
        "        self.label_vocab_size = len(self.label_vocab)\n",
        "        \n",
        "        # Create a dictionary of words in the vocabulary mapped to index positions\n",
        "        self.word2index = {}\n",
        "        for i, word in enumerate(self.review_vocab):\n",
        "            self.word2index[word] = i\n",
        "        \n",
        "        # Create a dictionary of labels mapped to index positions\n",
        "        self.label2index = {}\n",
        "        for i, label in enumerate(self.label_vocab):\n",
        "            self.label2index[label] = i\n",
        "\n",
        "    def init_network(self, input_nodes, hidden_nodes, output_nodes, learning_rate):\n",
        "        # Set number of nodes in input, hidden and output layers.\n",
        "        self.input_nodes = input_nodes\n",
        "        self.hidden_nodes = hidden_nodes\n",
        "        self.output_nodes = output_nodes\n",
        "\n",
        "        # Store the learning rate\n",
        "        self.learning_rate = learning_rate\n",
        "\n",
        "        # Initialize weights\n",
        "\n",
        "        # These are the weights between the input layer and the hidden layer.\n",
        "        self.weights_0_1 = np.zeros((self.input_nodes, self.hidden_nodes))\n",
        "\n",
        "        # These are the weights between the hidden layer and the output layer.\n",
        "        self.weights_1_2 = np.random.normal(0.0, self.hidden_nodes**-0.5, \n",
        "                                                (self.hidden_nodes, self.output_nodes))\n",
        "        \n",
        "        ## New for Project 5: Removed self.layer_0; added self.layer_1\n",
        "        # The input layer, a two-dimensional matrix with shape 1 x hidden_nodes\n",
        "        self.layer_1 = np.zeros((1, hidden_nodes))\n",
        "    \n",
        "    ## New for Project 5: Removed update_input_layer function\n",
        "    \n",
        "    def get_target_for_label(self,label):\n",
        "        if(label == 'POSITIVE'):\n",
        "            return 1\n",
        "        else:\n",
        "            return 0\n",
        "        \n",
        "    def sigmoid(self,x):\n",
        "        return 1 / (1 + np.exp(-x))\n",
        "    \n",
        "    def sigmoid_output_2_derivative(self,output):\n",
        "        return output * (1 - output)\n",
        "    \n",
        "    ## New for Project 5: changed name of first parameter form 'training_reviews' \n",
        "    #                     to 'training_reviews_raw'\n",
        "    def train(self, training_reviews_raw, training_labels):\n",
        "\n",
        "        ## New for Project 5: pre-process training reviews so we can deal \n",
        "        #                     directly with the indices of non-zero inputs\n",
        "        training_reviews = list()\n",
        "        for review in training_reviews_raw:\n",
        "            indices = set()\n",
        "            for word in review.split(\" \"):\n",
        "                if(word in self.word2index.keys()):\n",
        "                    indices.add(self.word2index[word])\n",
        "            training_reviews.append(list(indices))\n",
        "\n",
        "        # make sure out we have a matching number of reviews and labels\n",
        "        assert(len(training_reviews) == len(training_labels))\n",
        "        \n",
        "        # Keep track of correct predictions to display accuracy during training \n",
        "        correct_so_far = 0\n",
        "\n",
        "        # Remember when we started for printing time statistics\n",
        "        start = time.time()\n",
        "        \n",
        "        # loop through all the given reviews and run a forward and backward pass,\n",
        "        # updating weights for every item\n",
        "        for i in range(len(training_reviews)):\n",
        "            \n",
        "            # Get the next review and its correct label\n",
        "            review = training_reviews[i]\n",
        "            label = training_labels[i]\n",
        "            \n",
        "            #### Implement the forward pass here ####\n",
        "            ### Forward pass ###\n",
        "\n",
        "            ## New for Project 5: Removed call to 'update_input_layer' function\n",
        "            #                     because 'layer_0' is no longer used\n",
        "\n",
        "            # Hidden layer\n",
        "            ## New for Project 5: Add in only the weights for non-zero items\n",
        "            self.layer_1 *= 0\n",
        "            for index in review:\n",
        "                self.layer_1 += self.weights_0_1[index]\n",
        "\n",
        "            # Output layer\n",
        "            ## New for Project 5: changed to use 'self.layer_1' instead of 'local layer_1'\n",
        "            layer_2 = self.sigmoid(self.layer_1.dot(self.weights_1_2))            \n",
        "            \n",
        "            #### Implement the backward pass here ####\n",
        "            ### Backward pass ###\n",
        "\n",
        "            # Output error\n",
        "            layer_2_error = layer_2 - self.get_target_for_label(label) # Output layer error is the difference between desired target and actual output.\n",
        "            layer_2_delta = layer_2_error * self.sigmoid_output_2_derivative(layer_2)\n",
        "\n",
        "            # Backpropagated error\n",
        "            layer_1_error = layer_2_delta.dot(self.weights_1_2.T) # errors propagated to the hidden layer\n",
        "            layer_1_delta = layer_1_error # hidden layer gradients - no nonlinearity so it's the same as the error\n",
        "\n",
        "            # Update the weights\n",
        "            ## New for Project 5: changed to use 'self.layer_1' instead of local 'layer_1'\n",
        "            self.weights_1_2 -= self.layer_1.T.dot(layer_2_delta) * self.learning_rate # update hidden-to-output weights with gradient descent step\n",
        "            \n",
        "            ## New for Project 5: Only update the weights that were used in the forward pass\n",
        "            for index in review:\n",
        "                self.weights_0_1[index] -= layer_1_delta[0] * self.learning_rate # update input-to-hidden weights with gradient descent step\n",
        "\n",
        "            # Keep track of correct predictions.\n",
        "            if(layer_2 >= 0.5 and label == 'POSITIVE'):\n",
        "                correct_so_far += 1\n",
        "            elif(layer_2 < 0.5 and label == 'NEGATIVE'):\n",
        "                correct_so_far += 1\n",
        "            \n",
        "            # For debug purposes, print out our prediction accuracy and speed \n",
        "            # throughout the training process. \n",
        "            elapsed_time = float(time.time() - start)\n",
        "            reviews_per_second = i / elapsed_time if elapsed_time > 0 else 0\n",
        "            \n",
        "            sys.stdout.write(\"\\rProgress:\" + str(100 * i/float(len(training_reviews)))[:4] \\\n",
        "                             + \"% Speed(reviews/sec):\" + str(reviews_per_second)[0:5] \\\n",
        "                             + \" #Correct:\" + str(correct_so_far) + \" #Trained:\" + str(i+1) \\\n",
        "                             + \" Training Accuracy:\" + str(correct_so_far * 100 / float(i+1))[:4] + \"%\")\n",
        "            if(i % 2500 == 0):\n",
        "                print(\"\")\n",
        "    \n",
        "    def test(self, testing_reviews, testing_labels):\n",
        "        \"\"\"\n",
        "        Attempts to predict the labels for the given testing_reviews,\n",
        "        and uses the test_labels to calculate the accuracy of those predictions.\n",
        "        \"\"\"\n",
        "        \n",
        "        # keep track of how many correct predictions we make\n",
        "        correct = 0\n",
        "\n",
        "        # we'll time how many predictions per second we make\n",
        "        start = time.time()\n",
        "\n",
        "        # Loop through each of the given reviews and call run to predict\n",
        "        # its label. \n",
        "        for i in range(len(testing_reviews)):\n",
        "            pred = self.run(testing_reviews[i])\n",
        "            if(pred == testing_labels[i]):\n",
        "                correct += 1\n",
        "            \n",
        "            # For debug purposes, print out our prediction accuracy and speed \n",
        "            # throughout the prediction process. \n",
        "\n",
        "            elapsed_time = float(time.time() - start)\n",
        "            reviews_per_second = i / elapsed_time if elapsed_time > 0 else 0\n",
        "            \n",
        "            sys.stdout.write(\"\\rProgress:\" + str(100 * i/float(len(testing_reviews)))[:4] \\\n",
        "                             + \"% Speed(reviews/sec):\" + str(reviews_per_second)[0:5] \\\n",
        "                             + \" #Correct:\" + str(correct) + \" #Tested:\" + str(i+1) \\\n",
        "                             + \" Testing Accuracy:\" + str(correct * 100 / float(i+1))[:4] + \"%\")\n",
        "    \n",
        "    def run(self, review):\n",
        "        \"\"\"\n",
        "        Returns a POSITIVE or NEGATIVE prediction for the given review.\n",
        "        \"\"\"\n",
        "        # Run a forward pass through the network, like in the \"train\" function.\n",
        "        \n",
        "        ## New for Project 5: Removed call to update_input_layer function\n",
        "        #                     because layer_0 is no longer used\n",
        "\n",
        "        # Hidden layer\n",
        "        ## New for Project 5: Identify the indices used in the review and then add\n",
        "        #                     just those weights to layer_1 \n",
        "        self.layer_1 *= 0\n",
        "        unique_indices = set()\n",
        "        for word in review.lower().split(\" \"):\n",
        "            if word in self.word2index.keys():\n",
        "                unique_indices.add(self.word2index[word])\n",
        "        for index in unique_indices:\n",
        "            self.layer_1 += self.weights_0_1[index]\n",
        "        \n",
        "        # Output layer\n",
        "        ## New for Project 5: changed to use self.layer_1 instead of local layer_1\n",
        "        layer_2 = self.sigmoid(self.layer_1.dot(self.weights_1_2))\n",
        "        \n",
        "        # Return POSITIVE for values above greater-than-or-equal-to 0.5 in the output layer;\n",
        "        # return NEGATIVE for other values\n",
        "        if(layer_2[0] >= 0.5):\n",
        "            return \"POSITIVE\"\n",
        "        else:\n",
        "            return \"NEGATIVE\"\n"
      ],
      "execution_count": 0,
      "outputs": []
    },
    {
      "cell_type": "markdown",
      "metadata": {
        "id": "-rl1ZhwdPqjn",
        "colab_type": "text"
      },
      "source": [
        "Run the following cell to recreate the network and train it once again."
      ]
    },
    {
      "cell_type": "code",
      "metadata": {
        "id": "lXlqx-vaPqjn",
        "colab_type": "code",
        "outputId": "eff6994d-5516-4fc5-e258-dfe49c54379a",
        "colab": {
          "base_uri": "https://localhost:8080/",
          "height": 208
        }
      },
      "source": [
        "mlp = SentimentNetwork(reviews[:-1000],labels[:-1000], learning_rate=0.1)\n",
        "mlp.train(reviews[:-1000],labels[:-1000])"
      ],
      "execution_count": 60,
      "outputs": [
        {
          "output_type": "stream",
          "text": [
            "Progress:0.0% Speed(reviews/sec):0.0 #Correct:1 #Trained:1 Training Accuracy:100.%\n",
            "Progress:10.4% Speed(reviews/sec):1307. #Correct:1949 #Trained:2501 Training Accuracy:77.9%\n",
            "Progress:20.8% Speed(reviews/sec):1273. #Correct:3994 #Trained:5001 Training Accuracy:79.8%\n",
            "Progress:31.2% Speed(reviews/sec):1275. #Correct:6121 #Trained:7501 Training Accuracy:81.6%\n",
            "Progress:41.6% Speed(reviews/sec):1280. #Correct:8278 #Trained:10001 Training Accuracy:82.7%\n",
            "Progress:52.0% Speed(reviews/sec):1281. #Correct:10439 #Trained:12501 Training Accuracy:83.5%\n",
            "Progress:62.5% Speed(reviews/sec):1275. #Correct:12580 #Trained:15001 Training Accuracy:83.8%\n",
            "Progress:72.9% Speed(reviews/sec):1275. #Correct:14694 #Trained:17501 Training Accuracy:83.9%\n",
            "Progress:83.3% Speed(reviews/sec):1271. #Correct:16868 #Trained:20001 Training Accuracy:84.3%\n",
            "Progress:93.7% Speed(reviews/sec):1271. #Correct:19055 #Trained:22501 Training Accuracy:84.6%\n",
            "Progress:99.9% Speed(reviews/sec):1273. #Correct:20375 #Trained:24000 Training Accuracy:84.8%"
          ],
          "name": "stdout"
        }
      ]
    },
    {
      "cell_type": "markdown",
      "metadata": {
        "id": "yVO3rsY5Pqjp",
        "colab_type": "text"
      },
      "source": [
        "That should have trained much better than the earlier attempts. Run the following cell to test your model with 1000 predictions."
      ]
    },
    {
      "cell_type": "code",
      "metadata": {
        "id": "WoSygbVDPqjp",
        "colab_type": "code",
        "outputId": "c758ce5c-c00e-45bb-f256-c9d77a3c3d7b",
        "colab": {
          "base_uri": "https://localhost:8080/",
          "height": 34
        }
      },
      "source": [
        "mlp.test(reviews[-1000:],labels[-1000:])"
      ],
      "execution_count": 61,
      "outputs": [
        {
          "output_type": "stream",
          "text": [
            "\rProgress:0.0% Speed(reviews/sec):0.0 #Correct:1 #Tested:1 Testing Accuracy:100.%\rProgress:0.1% Speed(reviews/sec):866.5 #Correct:1 #Tested:2 Testing Accuracy:50.0%\rProgress:0.2% Speed(reviews/sec):1443. #Correct:2 #Tested:3 Testing Accuracy:66.6%\rProgress:0.3% Speed(reviews/sec):1759. #Correct:3 #Tested:4 Testing Accuracy:75.0%\rProgress:0.4% Speed(reviews/sec):2144. #Correct:4 #Tested:5 Testing Accuracy:80.0%\rProgress:0.5% Speed(reviews/sec):2104. #Correct:5 #Tested:6 Testing Accuracy:83.3%\rProgress:0.6% Speed(reviews/sec):2073. #Correct:6 #Tested:7 Testing Accuracy:85.7%\rProgress:0.7% Speed(reviews/sec):2106. #Correct:7 #Tested:8 Testing Accuracy:87.5%\rProgress:0.8% Speed(reviews/sec):2179. #Correct:8 #Tested:9 Testing Accuracy:88.8%\rProgress:0.9% Speed(reviews/sec):1811. #Correct:9 #Tested:10 Testing Accuracy:90.0%\rProgress:1.0% Speed(reviews/sec):1856. #Correct:10 #Tested:11 Testing Accuracy:90.9%\rProgress:1.1% Speed(reviews/sec):1946. #Correct:11 #Tested:12 Testing Accuracy:91.6%\rProgress:1.2% Speed(reviews/sec):1990. #Correct:12 #Tested:13 Testing Accuracy:92.3%\rProgress:1.3% Speed(reviews/sec):2051. #Correct:13 #Tested:14 Testing Accuracy:92.8%\rProgress:1.4% Speed(reviews/sec):2096. #Correct:14 #Tested:15 Testing Accuracy:93.3%\rProgress:1.5% Speed(reviews/sec):2144. #Correct:15 #Tested:16 Testing Accuracy:93.7%\rProgress:1.6% Speed(reviews/sec):2019. #Correct:16 #Tested:17 Testing Accuracy:94.1%\rProgress:1.7% Speed(reviews/sec):2017. #Correct:17 #Tested:18 Testing Accuracy:94.4%\rProgress:1.8% Speed(reviews/sec):2089. #Correct:18 #Tested:19 Testing Accuracy:94.7%\rProgress:1.9% Speed(reviews/sec):2088. #Correct:18 #Tested:20 Testing Accuracy:90.0%\rProgress:2.0% Speed(reviews/sec):2045. #Correct:19 #Tested:21 Testing Accuracy:90.4%\rProgress:2.1% Speed(reviews/sec):2078. #Correct:20 #Tested:22 Testing Accuracy:90.9%\rProgress:2.2% Speed(reviews/sec):2093. #Correct:21 #Tested:23 Testing Accuracy:91.3%\rProgress:2.3% Speed(reviews/sec):2081. #Correct:22 #Tested:24 Testing Accuracy:91.6%\rProgress:2.4% Speed(reviews/sec):2005. #Correct:23 #Tested:25 Testing Accuracy:92.0%\rProgress:2.5% Speed(reviews/sec):2036. #Correct:24 #Tested:26 Testing Accuracy:92.3%\rProgress:2.6% Speed(reviews/sec):2068. #Correct:25 #Tested:27 Testing Accuracy:92.5%\rProgress:2.7% Speed(reviews/sec):1944. #Correct:26 #Tested:28 Testing Accuracy:92.8%\rProgress:2.8% Speed(reviews/sec):1963. #Correct:27 #Tested:29 Testing Accuracy:93.1%\rProgress:2.9% Speed(reviews/sec):1967. #Correct:28 #Tested:30 Testing Accuracy:93.3%\rProgress:3.0% Speed(reviews/sec):1948. #Correct:29 #Tested:31 Testing Accuracy:93.5%\rProgress:3.1% Speed(reviews/sec):1977. #Correct:30 #Tested:32 Testing Accuracy:93.7%\rProgress:3.2% Speed(reviews/sec):1984. #Correct:31 #Tested:33 Testing Accuracy:93.9%\rProgress:3.3% Speed(reviews/sec):2003. #Correct:32 #Tested:34 Testing Accuracy:94.1%\rProgress:3.4% Speed(reviews/sec):1995. #Correct:33 #Tested:35 Testing Accuracy:94.2%\rProgress:3.5% Speed(reviews/sec):2011. #Correct:34 #Tested:36 Testing Accuracy:94.4%\rProgress:3.6% Speed(reviews/sec):1994. #Correct:35 #Tested:37 Testing Accuracy:94.5%\rProgress:3.7% Speed(reviews/sec):2031. #Correct:36 #Tested:38 Testing Accuracy:94.7%\rProgress:3.8% Speed(reviews/sec):2019. #Correct:37 #Tested:39 Testing Accuracy:94.8%\rProgress:3.9% Speed(reviews/sec):1994. #Correct:38 #Tested:40 Testing Accuracy:95.0%\rProgress:4.0% Speed(reviews/sec):2002. #Correct:39 #Tested:41 Testing Accuracy:95.1%\rProgress:4.1% Speed(reviews/sec):2020. #Correct:40 #Tested:42 Testing Accuracy:95.2%\rProgress:4.2% Speed(reviews/sec):1973. #Correct:41 #Tested:43 Testing Accuracy:95.3%\rProgress:4.3% Speed(reviews/sec):1961. #Correct:42 #Tested:44 Testing Accuracy:95.4%\rProgress:4.4% Speed(reviews/sec):1927. #Correct:43 #Tested:45 Testing Accuracy:95.5%\rProgress:4.5% Speed(reviews/sec):1862. #Correct:43 #Tested:46 Testing Accuracy:93.4%\rProgress:4.6% Speed(reviews/sec):1842. #Correct:44 #Tested:47 Testing Accuracy:93.6%\rProgress:4.7% Speed(reviews/sec):1868. #Correct:45 #Tested:48 Testing Accuracy:93.7%\rProgress:4.8% Speed(reviews/sec):1859. #Correct:46 #Tested:49 Testing Accuracy:93.8%\rProgress:4.9% Speed(reviews/sec):1876. #Correct:47 #Tested:50 Testing Accuracy:94.0%\rProgress:5.0% Speed(reviews/sec):1893. #Correct:48 #Tested:51 Testing Accuracy:94.1%\rProgress:5.1% Speed(reviews/sec):1916. #Correct:49 #Tested:52 Testing Accuracy:94.2%\rProgress:5.2% Speed(reviews/sec):1889. #Correct:50 #Tested:53 Testing Accuracy:94.3%\rProgress:5.3% Speed(reviews/sec):1900. #Correct:51 #Tested:54 Testing Accuracy:94.4%\rProgress:5.4% Speed(reviews/sec):1916. #Correct:52 #Tested:55 Testing Accuracy:94.5%\rProgress:5.5% Speed(reviews/sec):1939. #Correct:53 #Tested:56 Testing Accuracy:94.6%\rProgress:5.6% Speed(reviews/sec):1877. #Correct:54 #Tested:57 Testing Accuracy:94.7%\rProgress:5.7% Speed(reviews/sec):1897. #Correct:55 #Tested:58 Testing Accuracy:94.8%\rProgress:5.8% Speed(reviews/sec):1915. #Correct:56 #Tested:59 Testing Accuracy:94.9%\rProgress:5.9% Speed(reviews/sec):1933. #Correct:57 #Tested:60 Testing Accuracy:95.0%\rProgress:6.0% Speed(reviews/sec):1922. #Correct:58 #Tested:61 Testing Accuracy:95.0%\rProgress:6.1% Speed(reviews/sec):1920. #Correct:59 #Tested:62 Testing Accuracy:95.1%\rProgress:6.2% Speed(reviews/sec):1940. #Correct:60 #Tested:63 Testing Accuracy:95.2%\rProgress:6.3% Speed(reviews/sec):1954. #Correct:61 #Tested:64 Testing Accuracy:95.3%\rProgress:6.4% Speed(reviews/sec):1939. #Correct:61 #Tested:65 Testing Accuracy:93.8%\rProgress:6.5% Speed(reviews/sec):1952. #Correct:61 #Tested:66 Testing Accuracy:92.4%\rProgress:6.6% Speed(reviews/sec):1967. #Correct:62 #Tested:67 Testing Accuracy:92.5%\rProgress:6.7% Speed(reviews/sec):1975. #Correct:63 #Tested:68 Testing Accuracy:92.6%\rProgress:6.8% Speed(reviews/sec):1982. #Correct:64 #Tested:69 Testing Accuracy:92.7%\rProgress:6.9% Speed(reviews/sec):1983. #Correct:65 #Tested:70 Testing Accuracy:92.8%\rProgress:7.0% Speed(reviews/sec):1977. #Correct:65 #Tested:71 Testing Accuracy:91.5%\rProgress:7.1% Speed(reviews/sec):1996. #Correct:66 #Tested:72 Testing Accuracy:91.6%\rProgress:7.2% Speed(reviews/sec):2008. #Correct:67 #Tested:73 Testing Accuracy:91.7%\rProgress:7.3% Speed(reviews/sec):2026. #Correct:68 #Tested:74 Testing Accuracy:91.8%\rProgress:7.4% Speed(reviews/sec):2036. #Correct:68 #Tested:75 Testing Accuracy:90.6%\rProgress:7.5% Speed(reviews/sec):2045. #Correct:69 #Tested:76 Testing Accuracy:90.7%\rProgress:7.6% Speed(reviews/sec):2054. #Correct:70 #Tested:77 Testing Accuracy:90.9%\rProgress:7.7% Speed(reviews/sec):2063. #Correct:71 #Tested:78 Testing Accuracy:91.0%\rProgress:7.8% Speed(reviews/sec):2072. #Correct:72 #Tested:79 Testing Accuracy:91.1%\rProgress:7.9% Speed(reviews/sec):2077. #Correct:73 #Tested:80 Testing Accuracy:91.2%\rProgress:8.0% Speed(reviews/sec):2086. #Correct:74 #Tested:81 Testing Accuracy:91.3%\rProgress:8.1% Speed(reviews/sec):2042. #Correct:74 #Tested:82 Testing Accuracy:90.2%\rProgress:8.2% Speed(reviews/sec):2041. #Correct:75 #Tested:83 Testing Accuracy:90.3%\rProgress:8.3% Speed(reviews/sec):2044. #Correct:76 #Tested:84 Testing Accuracy:90.4%\rProgress:8.4% Speed(reviews/sec):2058. #Correct:77 #Tested:85 Testing Accuracy:90.5%\rProgress:8.5% Speed(reviews/sec):2063. #Correct:78 #Tested:86 Testing Accuracy:90.6%\rProgress:8.6% Speed(reviews/sec):2059. #Correct:79 #Tested:87 Testing Accuracy:90.8%\rProgress:8.7% Speed(reviews/sec):2068. #Correct:79 #Tested:88 Testing Accuracy:89.7%\rProgress:8.8% Speed(reviews/sec):2079. #Correct:80 #Tested:89 Testing Accuracy:89.8%\rProgress:8.9% Speed(reviews/sec):2049. #Correct:81 #Tested:90 Testing Accuracy:90.0%\rProgress:9.0% Speed(reviews/sec):2048. #Correct:82 #Tested:91 Testing Accuracy:90.1%\rProgress:9.1% Speed(reviews/sec):2056. #Correct:83 #Tested:92 Testing Accuracy:90.2%\rProgress:9.2% Speed(reviews/sec):2066. #Correct:84 #Tested:93 Testing Accuracy:90.3%\rProgress:9.3% Speed(reviews/sec):2072. #Correct:85 #Tested:94 Testing Accuracy:90.4%\rProgress:9.4% Speed(reviews/sec):2080. #Correct:86 #Tested:95 Testing Accuracy:90.5%\rProgress:9.5% Speed(reviews/sec):2081. #Correct:87 #Tested:96 Testing Accuracy:90.6%\rProgress:9.6% Speed(reviews/sec):2082. #Correct:88 #Tested:97 Testing Accuracy:90.7%\rProgress:9.7% Speed(reviews/sec):2077. #Correct:89 #Tested:98 Testing Accuracy:90.8%\rProgress:9.8% Speed(reviews/sec):2086. #Correct:90 #Tested:99 Testing Accuracy:90.9%\rProgress:9.9% Speed(reviews/sec):2094. #Correct:91 #Tested:100 Testing Accuracy:91.0%\rProgress:10.0% Speed(reviews/sec):2101. #Correct:92 #Tested:101 Testing Accuracy:91.0%\rProgress:10.1% Speed(reviews/sec):2106. #Correct:93 #Tested:102 Testing Accuracy:91.1%\rProgress:10.2% Speed(reviews/sec):2111. #Correct:94 #Tested:103 Testing Accuracy:91.2%\rProgress:10.3% Speed(reviews/sec):2096. #Correct:94 #Tested:104 Testing Accuracy:90.3%\rProgress:10.4% Speed(reviews/sec):2093. #Correct:95 #Tested:105 Testing Accuracy:90.4%\rProgress:10.5% Speed(reviews/sec):2105. #Correct:96 #Tested:106 Testing Accuracy:90.5%\rProgress:10.6% Speed(reviews/sec):2087. #Correct:97 #Tested:107 Testing Accuracy:90.6%\rProgress:10.7% Speed(reviews/sec):2090. #Correct:98 #Tested:108 Testing Accuracy:90.7%\rProgress:10.8% Speed(reviews/sec):2098. #Correct:99 #Tested:109 Testing Accuracy:90.8%\rProgress:10.9% Speed(reviews/sec):2099. #Correct:99 #Tested:110 Testing Accuracy:90.0%\rProgress:11.0% Speed(reviews/sec):2089. #Correct:100 #Tested:111 Testing Accuracy:90.0%\rProgress:11.1% Speed(reviews/sec):2087. #Correct:101 #Tested:112 Testing Accuracy:90.1%\rProgress:11.2% Speed(reviews/sec):2089. #Correct:102 #Tested:113 Testing Accuracy:90.2%\rProgress:11.3% Speed(reviews/sec):2076. #Correct:103 #Tested:114 Testing Accuracy:90.3%\rProgress:11.4% Speed(reviews/sec):2076. #Correct:104 #Tested:115 Testing Accuracy:90.4%\rProgress:11.5% Speed(reviews/sec):2076. #Correct:104 #Tested:116 Testing Accuracy:89.6%\rProgress:11.6% Speed(reviews/sec):2083. #Correct:105 #Tested:117 Testing Accuracy:89.7%\rProgress:11.7% Speed(reviews/sec):2072. #Correct:106 #Tested:118 Testing Accuracy:89.8%\rProgress:11.8% Speed(reviews/sec):2074. #Correct:107 #Tested:119 Testing Accuracy:89.9%\rProgress:11.9% Speed(reviews/sec):2063. #Correct:108 #Tested:120 Testing Accuracy:90.0%\rProgress:12.0% Speed(reviews/sec):2062. #Correct:109 #Tested:121 Testing Accuracy:90.0%\rProgress:12.1% Speed(reviews/sec):2065. #Correct:110 #Tested:122 Testing Accuracy:90.1%\rProgress:12.2% Speed(reviews/sec):2072. #Correct:111 #Tested:123 Testing Accuracy:90.2%\rProgress:12.3% Speed(reviews/sec):2062. #Correct:112 #Tested:124 Testing Accuracy:90.3%\rProgress:12.4% Speed(reviews/sec):2059. #Correct:113 #Tested:125 Testing Accuracy:90.4%\rProgress:12.5% Speed(reviews/sec):2059. #Correct:114 #Tested:126 Testing Accuracy:90.4%\rProgress:12.6% Speed(reviews/sec):2070. #Correct:115 #Tested:127 Testing Accuracy:90.5%\rProgress:12.7% Speed(reviews/sec):2066. #Correct:116 #Tested:128 Testing Accuracy:90.6%\rProgress:12.8% Speed(reviews/sec):2073. #Correct:117 #Tested:129 Testing Accuracy:90.6%\rProgress:12.9% Speed(reviews/sec):2079. #Correct:118 #Tested:130 Testing Accuracy:90.7%\rProgress:13.0% Speed(reviews/sec):2084. #Correct:118 #Tested:131 Testing Accuracy:90.0%\rProgress:13.1% Speed(reviews/sec):2091. #Correct:119 #Tested:132 Testing Accuracy:90.1%\rProgress:13.2% Speed(reviews/sec):2098. #Correct:120 #Tested:133 Testing Accuracy:90.2%\rProgress:13.3% Speed(reviews/sec):2103. #Correct:121 #Tested:134 Testing Accuracy:90.2%\rProgress:13.4% Speed(reviews/sec):2101. #Correct:122 #Tested:135 Testing Accuracy:90.3%\rProgress:13.5% Speed(reviews/sec):2100. #Correct:122 #Tested:136 Testing Accuracy:89.7%\rProgress:13.6% Speed(reviews/sec):2107. #Correct:123 #Tested:137 Testing Accuracy:89.7%\rProgress:13.7% Speed(reviews/sec):2113. #Correct:124 #Tested:138 Testing Accuracy:89.8%\rProgress:13.8% Speed(reviews/sec):2117. #Correct:125 #Tested:139 Testing Accuracy:89.9%\rProgress:13.9% Speed(reviews/sec):2111. #Correct:126 #Tested:140 Testing Accuracy:90.0%\rProgress:14.0% Speed(reviews/sec):2120. #Correct:127 #Tested:141 Testing Accuracy:90.0%\rProgress:14.1% Speed(reviews/sec):2121. #Correct:128 #Tested:142 Testing Accuracy:90.1%\rProgress:14.2% Speed(reviews/sec):2127. #Correct:129 #Tested:143 Testing Accuracy:90.2%\rProgress:14.3% Speed(reviews/sec):2133. #Correct:130 #Tested:144 Testing Accuracy:90.2%\rProgress:14.4% Speed(reviews/sec):2129. #Correct:131 #Tested:145 Testing Accuracy:90.3%\rProgress:14.5% Speed(reviews/sec):2135. #Correct:132 #Tested:146 Testing Accuracy:90.4%\rProgress:14.6% Speed(reviews/sec):2129. #Correct:133 #Tested:147 Testing Accuracy:90.4%\rProgress:14.7% Speed(reviews/sec):2131. #Correct:134 #Tested:148 Testing Accuracy:90.5%\rProgress:14.8% Speed(reviews/sec):2136. #Correct:135 #Tested:149 Testing Accuracy:90.6%\rProgress:14.9% Speed(reviews/sec):2141. #Correct:136 #Tested:150 Testing Accuracy:90.6%\rProgress:15.0% Speed(reviews/sec):2147. #Correct:137 #Tested:151 Testing Accuracy:90.7%\rProgress:15.1% Speed(reviews/sec):2151. #Correct:138 #Tested:152 Testing Accuracy:90.7%\rProgress:15.2% Speed(reviews/sec):2144. #Correct:139 #Tested:153 Testing Accuracy:90.8%\rProgress:15.3% Speed(reviews/sec):2138. #Correct:140 #Tested:154 Testing Accuracy:90.9%\rProgress:15.4% Speed(reviews/sec):2143. #Correct:141 #Tested:155 Testing Accuracy:90.9%\rProgress:15.5% Speed(reviews/sec):2148. #Correct:142 #Tested:156 Testing Accuracy:91.0%\rProgress:15.6% Speed(reviews/sec):2143. #Correct:143 #Tested:157 Testing Accuracy:91.0%\rProgress:15.7% Speed(reviews/sec):2141. #Correct:143 #Tested:158 Testing Accuracy:90.5%\rProgress:15.8% Speed(reviews/sec):2147. #Correct:144 #Tested:159 Testing Accuracy:90.5%\rProgress:15.9% Speed(reviews/sec):2150. #Correct:145 #Tested:160 Testing Accuracy:90.6%\rProgress:16.0% Speed(reviews/sec):2149. #Correct:145 #Tested:161 Testing Accuracy:90.0%\rProgress:16.1% Speed(reviews/sec):2147. #Correct:145 #Tested:162 Testing Accuracy:89.5%\rProgress:16.2% Speed(reviews/sec):2152. #Correct:146 #Tested:163 Testing Accuracy:89.5%\rProgress:16.3% Speed(reviews/sec):2158. #Correct:147 #Tested:164 Testing Accuracy:89.6%\rProgress:16.4% Speed(reviews/sec):2164. #Correct:148 #Tested:165 Testing Accuracy:89.6%\rProgress:16.5% Speed(reviews/sec):2158. #Correct:149 #Tested:166 Testing Accuracy:89.7%\rProgress:16.6% Speed(reviews/sec):2161. #Correct:150 #Tested:167 Testing Accuracy:89.8%\rProgress:16.7% Speed(reviews/sec):2159. #Correct:151 #Tested:168 Testing Accuracy:89.8%\rProgress:16.8% Speed(reviews/sec):2166. #Correct:152 #Tested:169 Testing Accuracy:89.9%\rProgress:16.9% Speed(reviews/sec):2171. #Correct:153 #Tested:170 Testing Accuracy:90.0%\rProgress:17.0% Speed(reviews/sec):2171. #Correct:153 #Tested:171 Testing Accuracy:89.4%\rProgress:17.1% Speed(reviews/sec):2176. #Correct:154 #Tested:172 Testing Accuracy:89.5%\rProgress:17.2% Speed(reviews/sec):2171. #Correct:155 #Tested:173 Testing Accuracy:89.5%\rProgress:17.3% Speed(reviews/sec):2172. #Correct:155 #Tested:174 Testing Accuracy:89.0%\rProgress:17.4% Speed(reviews/sec):2171. #Correct:156 #Tested:175 Testing Accuracy:89.1%\rProgress:17.5% Speed(reviews/sec):2176. #Correct:157 #Tested:176 Testing Accuracy:89.2%\rProgress:17.6% Speed(reviews/sec):2180. #Correct:158 #Tested:177 Testing Accuracy:89.2%\rProgress:17.7% Speed(reviews/sec):2179. #Correct:159 #Tested:178 Testing Accuracy:89.3%\rProgress:17.8% Speed(reviews/sec):2185. #Correct:160 #Tested:179 Testing Accuracy:89.3%\rProgress:17.9% Speed(reviews/sec):2189. #Correct:161 #Tested:180 Testing Accuracy:89.4%\rProgress:18.0% Speed(reviews/sec):2192. #Correct:162 #Tested:181 Testing Accuracy:89.5%\rProgress:18.1% Speed(reviews/sec):2196. #Correct:163 #Tested:182 Testing Accuracy:89.5%\rProgress:18.2% Speed(reviews/sec):2199. #Correct:164 #Tested:183 Testing Accuracy:89.6%\rProgress:18.3% Speed(reviews/sec):2200. #Correct:165 #Tested:184 Testing Accuracy:89.6%\rProgress:18.4% Speed(reviews/sec):2191. #Correct:166 #Tested:185 Testing Accuracy:89.7%\rProgress:18.5% Speed(reviews/sec):2192. #Correct:167 #Tested:186 Testing Accuracy:89.7%\rProgress:18.6% Speed(reviews/sec):2199. #Correct:167 #Tested:187 Testing Accuracy:89.3%\rProgress:18.7% Speed(reviews/sec):2197. #Correct:168 #Tested:188 Testing Accuracy:89.3%\rProgress:18.8% Speed(reviews/sec):2195. #Correct:169 #Tested:189 Testing Accuracy:89.4%\rProgress:18.9% Speed(reviews/sec):2197. #Correct:170 #Tested:190 Testing Accuracy:89.4%\rProgress:19.0% Speed(reviews/sec):2200. #Correct:171 #Tested:191 Testing Accuracy:89.5%\rProgress:19.1% Speed(reviews/sec):2203. #Correct:172 #Tested:192 Testing Accuracy:89.5%\rProgress:19.2% Speed(reviews/sec):2206. #Correct:172 #Tested:193 Testing Accuracy:89.1%\rProgress:19.3% Speed(reviews/sec):2199. #Correct:172 #Tested:194 Testing Accuracy:88.6%\rProgress:19.4% Speed(reviews/sec):2204. #Correct:173 #Tested:195 Testing Accuracy:88.7%\rProgress:19.5% Speed(reviews/sec):2204. #Correct:173 #Tested:196 Testing Accuracy:88.2%\rProgress:19.6% Speed(reviews/sec):2203. #Correct:174 #Tested:197 Testing Accuracy:88.3%\rProgress:19.7% Speed(reviews/sec):2205. #Correct:175 #Tested:198 Testing Accuracy:88.3%\rProgress:19.8% Speed(reviews/sec):2211. #Correct:176 #Tested:199 Testing Accuracy:88.4%\rProgress:19.9% Speed(reviews/sec):2210. #Correct:177 #Tested:200 Testing Accuracy:88.5%\rProgress:20.0% Speed(reviews/sec):2217. #Correct:178 #Tested:201 Testing Accuracy:88.5%\rProgress:20.1% Speed(reviews/sec):2216. #Correct:179 #Tested:202 Testing Accuracy:88.6%\rProgress:20.2% Speed(reviews/sec):2221. #Correct:180 #Tested:203 Testing Accuracy:88.6%\rProgress:20.3% Speed(reviews/sec):2219. #Correct:181 #Tested:204 Testing Accuracy:88.7%\rProgress:20.4% Speed(reviews/sec):2223. #Correct:182 #Tested:205 Testing Accuracy:88.7%\rProgress:20.5% Speed(reviews/sec):2226. #Correct:183 #Tested:206 Testing Accuracy:88.8%\rProgress:20.6% Speed(reviews/sec):2229. #Correct:184 #Tested:207 Testing Accuracy:88.8%\rProgress:20.7% Speed(reviews/sec):2233. #Correct:185 #Tested:208 Testing Accuracy:88.9%\rProgress:20.8% Speed(reviews/sec):2237. #Correct:186 #Tested:209 Testing Accuracy:88.9%\rProgress:20.9% Speed(reviews/sec):2232. #Correct:186 #Tested:210 Testing Accuracy:88.5%\rProgress:21.0% Speed(reviews/sec):2235. #Correct:186 #Tested:211 Testing Accuracy:88.1%\rProgress:21.1% Speed(reviews/sec):2238. #Correct:187 #Tested:212 Testing Accuracy:88.2%\rProgress:21.2% Speed(reviews/sec):2244. #Correct:188 #Tested:213 Testing Accuracy:88.2%\rProgress:21.3% Speed(reviews/sec):2230. #Correct:189 #Tested:214 Testing Accuracy:88.3%\rProgress:21.4% Speed(reviews/sec):2235. #Correct:190 #Tested:215 Testing Accuracy:88.3%\rProgress:21.5% Speed(reviews/sec):2231. #Correct:191 #Tested:216 Testing Accuracy:88.4%\rProgress:21.6% Speed(reviews/sec):2234. #Correct:192 #Tested:217 Testing Accuracy:88.4%\rProgress:21.7% Speed(reviews/sec):2228. #Correct:193 #Tested:218 Testing Accuracy:88.5%\rProgress:21.8% Speed(reviews/sec):2224. #Correct:194 #Tested:219 Testing Accuracy:88.5%\rProgress:21.9% Speed(reviews/sec):2231. #Correct:195 #Tested:220 Testing Accuracy:88.6%\rProgress:22.0% Speed(reviews/sec):2227. #Correct:196 #Tested:221 Testing Accuracy:88.6%\rProgress:22.1% Speed(reviews/sec):2230. #Correct:197 #Tested:222 Testing Accuracy:88.7%\rProgress:22.2% Speed(reviews/sec):2230. #Correct:198 #Tested:223 Testing Accuracy:88.7%\rProgress:22.3% Speed(reviews/sec):2231. #Correct:199 #Tested:224 Testing Accuracy:88.8%\rProgress:22.4% Speed(reviews/sec):2218. #Correct:200 #Tested:225 Testing Accuracy:88.8%\rProgress:22.5% Speed(reviews/sec):2218. #Correct:201 #Tested:226 Testing Accuracy:88.9%\rProgress:22.6% Speed(reviews/sec):2208. #Correct:202 #Tested:227 Testing Accuracy:88.9%\rProgress:22.7% Speed(reviews/sec):2210. #Correct:203 #Tested:228 Testing Accuracy:89.0%\rProgress:22.8% Speed(reviews/sec):2211. #Correct:204 #Tested:229 Testing Accuracy:89.0%\rProgress:22.9% Speed(reviews/sec):2212. #Correct:205 #Tested:230 Testing Accuracy:89.1%\rProgress:23.0% Speed(reviews/sec):2208. #Correct:206 #Tested:231 Testing Accuracy:89.1%\rProgress:23.1% Speed(reviews/sec):2208. #Correct:207 #Tested:232 Testing Accuracy:89.2%\rProgress:23.2% Speed(reviews/sec):2214. #Correct:208 #Tested:233 Testing Accuracy:89.2%\rProgress:23.3% Speed(reviews/sec):2215. #Correct:209 #Tested:234 Testing Accuracy:89.3%\rProgress:23.4% Speed(reviews/sec):2205. #Correct:210 #Tested:235 Testing Accuracy:89.3%\rProgress:23.5% Speed(reviews/sec):2207. #Correct:211 #Tested:236 Testing Accuracy:89.4%\rProgress:23.6% Speed(reviews/sec):2200. #Correct:212 #Tested:237 Testing Accuracy:89.4%\rProgress:23.7% Speed(reviews/sec):2200. #Correct:213 #Tested:238 Testing Accuracy:89.4%\rProgress:23.8% Speed(reviews/sec):2202. #Correct:214 #Tested:239 Testing Accuracy:89.5%\rProgress:23.9% Speed(reviews/sec):2203. #Correct:215 #Tested:240 Testing Accuracy:89.5%\rProgress:24.0% Speed(reviews/sec):2199. #Correct:216 #Tested:241 Testing Accuracy:89.6%\rProgress:24.1% Speed(reviews/sec):2199. #Correct:216 #Tested:242 Testing Accuracy:89.2%\rProgress:24.2% Speed(reviews/sec):2199. #Correct:217 #Tested:243 Testing Accuracy:89.3%\rProgress:24.3% Speed(reviews/sec):2194. #Correct:218 #Tested:244 Testing Accuracy:89.3%\rProgress:24.4% Speed(reviews/sec):2194. #Correct:219 #Tested:245 Testing Accuracy:89.3%\rProgress:24.5% Speed(reviews/sec):2196. #Correct:220 #Tested:246 Testing Accuracy:89.4%\rProgress:24.6% Speed(reviews/sec):2201. #Correct:221 #Tested:247 Testing Accuracy:89.4%\rProgress:24.7% Speed(reviews/sec):2201. #Correct:222 #Tested:248 Testing Accuracy:89.5%\rProgress:24.8% Speed(reviews/sec):2207. #Correct:223 #Tested:249 Testing Accuracy:89.5%\rProgress:24.9% Speed(reviews/sec):2209. #Correct:223 #Tested:250 Testing Accuracy:89.2%\rProgress:25.0% Speed(reviews/sec):2212. #Correct:224 #Tested:251 Testing Accuracy:89.2%\rProgress:25.1% Speed(reviews/sec):2216. #Correct:225 #Tested:252 Testing Accuracy:89.2%\rProgress:25.2% Speed(reviews/sec):2219. #Correct:226 #Tested:253 Testing Accuracy:89.3%\rProgress:25.3% Speed(reviews/sec):2221. #Correct:227 #Tested:254 Testing Accuracy:89.3%\rProgress:25.4% Speed(reviews/sec):2224. #Correct:228 #Tested:255 Testing Accuracy:89.4%\rProgress:25.5% Speed(reviews/sec):2228. #Correct:229 #Tested:256 Testing Accuracy:89.4%\rProgress:25.6% Speed(reviews/sec):2233. #Correct:230 #Tested:257 Testing Accuracy:89.4%\rProgress:25.7% Speed(reviews/sec):2237. #Correct:231 #Tested:258 Testing Accuracy:89.5%\rProgress:25.8% Speed(reviews/sec):2241. #Correct:232 #Tested:259 Testing Accuracy:89.5%\rProgress:25.9% Speed(reviews/sec):2244. #Correct:232 #Tested:260 Testing Accuracy:89.2%\rProgress:26.0% Speed(reviews/sec):2248. #Correct:233 #Tested:261 Testing Accuracy:89.2%\rProgress:26.1% Speed(reviews/sec):2253. #Correct:234 #Tested:262 Testing Accuracy:89.3%\rProgress:26.2% Speed(reviews/sec):2252. #Correct:235 #Tested:263 Testing Accuracy:89.3%\rProgress:26.3% Speed(reviews/sec):2247. #Correct:236 #Tested:264 Testing Accuracy:89.3%\rProgress:26.4% Speed(reviews/sec):2249. #Correct:237 #Tested:265 Testing Accuracy:89.4%\rProgress:26.5% Speed(reviews/sec):2240. #Correct:238 #Tested:266 Testing Accuracy:89.4%\rProgress:26.6% Speed(reviews/sec):2242. #Correct:239 #Tested:267 Testing Accuracy:89.5%\rProgress:26.7% Speed(reviews/sec):2241. #Correct:239 #Tested:268 Testing Accuracy:89.1%\rProgress:26.8% Speed(reviews/sec):2244. #Correct:240 #Tested:269 Testing Accuracy:89.2%\rProgress:26.9% Speed(reviews/sec):2248. #Correct:240 #Tested:270 Testing Accuracy:88.8%\rProgress:27.0% Speed(reviews/sec):2247. #Correct:240 #Tested:271 Testing Accuracy:88.5%\rProgress:27.1% Speed(reviews/sec):2247. #Correct:241 #Tested:272 Testing Accuracy:88.6%\rProgress:27.2% Speed(reviews/sec):2242. #Correct:242 #Tested:273 Testing Accuracy:88.6%\rProgress:27.3% Speed(reviews/sec):2247. #Correct:243 #Tested:274 Testing Accuracy:88.6%\rProgress:27.4% Speed(reviews/sec):2244. #Correct:243 #Tested:275 Testing Accuracy:88.3%\rProgress:27.5% Speed(reviews/sec):2236. #Correct:244 #Tested:276 Testing Accuracy:88.4%\rProgress:27.6% Speed(reviews/sec):2238. #Correct:245 #Tested:277 Testing Accuracy:88.4%\rProgress:27.7% Speed(reviews/sec):2242. #Correct:246 #Tested:278 Testing Accuracy:88.4%\rProgress:27.8% Speed(reviews/sec):2245. #Correct:247 #Tested:279 Testing Accuracy:88.5%\rProgress:27.9% Speed(reviews/sec):2248. #Correct:248 #Tested:280 Testing Accuracy:88.5%\rProgress:28.0% Speed(reviews/sec):2250. #Correct:249 #Tested:281 Testing Accuracy:88.6%\rProgress:28.1% Speed(reviews/sec):2254. #Correct:250 #Tested:282 Testing Accuracy:88.6%\rProgress:28.2% Speed(reviews/sec):2258. #Correct:251 #Tested:283 Testing Accuracy:88.6%\rProgress:28.3% Speed(reviews/sec):2262. #Correct:252 #Tested:284 Testing Accuracy:88.7%\rProgress:28.4% Speed(reviews/sec):2248. #Correct:253 #Tested:285 Testing Accuracy:88.7%\rProgress:28.5% Speed(reviews/sec):2249. #Correct:254 #Tested:286 Testing Accuracy:88.8%\rProgress:28.6% Speed(reviews/sec):2254. #Correct:255 #Tested:287 Testing Accuracy:88.8%\rProgress:28.7% Speed(reviews/sec):2258. #Correct:256 #Tested:288 Testing Accuracy:88.8%\rProgress:28.8% Speed(reviews/sec):2262. #Correct:257 #Tested:289 Testing Accuracy:88.9%\rProgress:28.9% Speed(reviews/sec):2267. #Correct:258 #Tested:290 Testing Accuracy:88.9%\rProgress:29.0% Speed(reviews/sec):2269. #Correct:259 #Tested:291 Testing Accuracy:89.0%\rProgress:29.1% Speed(reviews/sec):2271. #Correct:260 #Tested:292 Testing Accuracy:89.0%\rProgress:29.2% Speed(reviews/sec):2275. #Correct:261 #Tested:293 Testing Accuracy:89.0%\rProgress:29.3% Speed(reviews/sec):2279. #Correct:262 #Tested:294 Testing Accuracy:89.1%\rProgress:29.4% Speed(reviews/sec):2282. #Correct:263 #Tested:295 Testing Accuracy:89.1%\rProgress:29.5% Speed(reviews/sec):2285. #Correct:264 #Tested:296 Testing Accuracy:89.1%\rProgress:29.6% Speed(reviews/sec):2290. #Correct:265 #Tested:297 Testing Accuracy:89.2%\rProgress:29.7% Speed(reviews/sec):2286. #Correct:265 #Tested:298 Testing Accuracy:88.9%\rProgress:29.8% Speed(reviews/sec):2286. #Correct:266 #Tested:299 Testing Accuracy:88.9%\rProgress:29.9% Speed(reviews/sec):2286. #Correct:267 #Tested:300 Testing Accuracy:89.0%\rProgress:30.0% Speed(reviews/sec):2287. #Correct:268 #Tested:301 Testing Accuracy:89.0%\rProgress:30.1% Speed(reviews/sec):2282. #Correct:268 #Tested:302 Testing Accuracy:88.7%\rProgress:30.2% Speed(reviews/sec):2268. #Correct:269 #Tested:303 Testing Accuracy:88.7%\rProgress:30.3% Speed(reviews/sec):2267. #Correct:270 #Tested:304 Testing Accuracy:88.8%\rProgress:30.4% Speed(reviews/sec):2272. #Correct:271 #Tested:305 Testing Accuracy:88.8%\rProgress:30.5% Speed(reviews/sec):2275. #Correct:271 #Tested:306 Testing Accuracy:88.5%\rProgress:30.6% Speed(reviews/sec):2260. #Correct:272 #Tested:307 Testing Accuracy:88.5%\rProgress:30.7% Speed(reviews/sec):2264. #Correct:272 #Tested:308 Testing Accuracy:88.3%\rProgress:30.8% Speed(reviews/sec):2263. #Correct:273 #Tested:309 Testing Accuracy:88.3%\rProgress:30.9% Speed(reviews/sec):2255. #Correct:273 #Tested:310 Testing Accuracy:88.0%\rProgress:31.0% Speed(reviews/sec):2259. #Correct:274 #Tested:311 Testing Accuracy:88.1%\rProgress:31.1% Speed(reviews/sec):2259. #Correct:275 #Tested:312 Testing Accuracy:88.1%\rProgress:31.2% Speed(reviews/sec):2263. #Correct:276 #Tested:313 Testing Accuracy:88.1%\rProgress:31.3% Speed(reviews/sec):2261. #Correct:277 #Tested:314 Testing Accuracy:88.2%\rProgress:31.4% Speed(reviews/sec):2264. #Correct:278 #Tested:315 Testing Accuracy:88.2%\rProgress:31.5% Speed(reviews/sec):2263. #Correct:278 #Tested:316 Testing Accuracy:87.9%\rProgress:31.6% Speed(reviews/sec):2266. #Correct:279 #Tested:317 Testing Accuracy:88.0%\rProgress:31.7% Speed(reviews/sec):2265. #Correct:279 #Tested:318 Testing Accuracy:87.7%\rProgress:31.8% Speed(reviews/sec):2266. #Correct:280 #Tested:319 Testing Accuracy:87.7%\rProgress:31.9% Speed(reviews/sec):2268. #Correct:281 #Tested:320 Testing Accuracy:87.8%\rProgress:32.0% Speed(reviews/sec):2271. #Correct:282 #Tested:321 Testing Accuracy:87.8%\rProgress:32.1% Speed(reviews/sec):2273. #Correct:282 #Tested:322 Testing Accuracy:87.5%\rProgress:32.2% Speed(reviews/sec):2275. #Correct:283 #Tested:323 Testing Accuracy:87.6%\rProgress:32.3% Speed(reviews/sec):2271. #Correct:284 #Tested:324 Testing Accuracy:87.6%\rProgress:32.4% Speed(reviews/sec):2257. #Correct:285 #Tested:325 Testing Accuracy:87.6%\rProgress:32.5% Speed(reviews/sec):2256. #Correct:286 #Tested:326 Testing Accuracy:87.7%\rProgress:32.6% Speed(reviews/sec):2254. #Correct:287 #Tested:327 Testing Accuracy:87.7%\rProgress:32.7% Speed(reviews/sec):2246. #Correct:288 #Tested:328 Testing Accuracy:87.8%\rProgress:32.8% Speed(reviews/sec):2240. #Correct:289 #Tested:329 Testing Accuracy:87.8%\rProgress:32.9% Speed(reviews/sec):2238. #Correct:290 #Tested:330 Testing Accuracy:87.8%\rProgress:33.0% Speed(reviews/sec):2240. #Correct:291 #Tested:331 Testing Accuracy:87.9%\rProgress:33.1% Speed(reviews/sec):2242. #Correct:292 #Tested:332 Testing Accuracy:87.9%\rProgress:33.2% Speed(reviews/sec):2240. #Correct:293 #Tested:333 Testing Accuracy:87.9%\rProgress:33.3% Speed(reviews/sec):2242. #Correct:294 #Tested:334 Testing Accuracy:88.0%\rProgress:33.4% Speed(reviews/sec):2231. #Correct:295 #Tested:335 Testing Accuracy:88.0%\rProgress:33.5% Speed(reviews/sec):2233. #Correct:296 #Tested:336 Testing Accuracy:88.0%\rProgress:33.6% Speed(reviews/sec):2234. #Correct:297 #Tested:337 Testing Accuracy:88.1%\rProgress:33.7% Speed(reviews/sec):2237. #Correct:298 #Tested:338 Testing Accuracy:88.1%\rProgress:33.8% Speed(reviews/sec):2238. #Correct:299 #Tested:339 Testing Accuracy:88.2%\rProgress:33.9% Speed(reviews/sec):2239. #Correct:300 #Tested:340 Testing Accuracy:88.2%\rProgress:34.0% Speed(reviews/sec):2236. #Correct:301 #Tested:341 Testing Accuracy:88.2%\rProgress:34.1% Speed(reviews/sec):2238. #Correct:302 #Tested:342 Testing Accuracy:88.3%\rProgress:34.2% Speed(reviews/sec):2227. #Correct:303 #Tested:343 Testing Accuracy:88.3%\rProgress:34.3% Speed(reviews/sec):2230. #Correct:304 #Tested:344 Testing Accuracy:88.3%\rProgress:34.4% Speed(reviews/sec):2227. #Correct:305 #Tested:345 Testing Accuracy:88.4%\rProgress:34.5% Speed(reviews/sec):2229. #Correct:306 #Tested:346 Testing Accuracy:88.4%\rProgress:34.6% Speed(reviews/sec):2231. #Correct:306 #Tested:347 Testing Accuracy:88.1%\rProgress:34.7% Speed(reviews/sec):2233. #Correct:307 #Tested:348 Testing Accuracy:88.2%\rProgress:34.8% Speed(reviews/sec):2233. #Correct:308 #Tested:349 Testing Accuracy:88.2%\rProgress:34.9% Speed(reviews/sec):2234. #Correct:309 #Tested:350 Testing Accuracy:88.2%\rProgress:35.0% Speed(reviews/sec):2236. #Correct:310 #Tested:351 Testing Accuracy:88.3%\rProgress:35.1% Speed(reviews/sec):2238. #Correct:311 #Tested:352 Testing Accuracy:88.3%\rProgress:35.2% Speed(reviews/sec):2236. #Correct:312 #Tested:353 Testing Accuracy:88.3%\rProgress:35.3% Speed(reviews/sec):2239. #Correct:312 #Tested:354 Testing Accuracy:88.1%\rProgress:35.4% Speed(reviews/sec):2242. #Correct:313 #Tested:355 Testing Accuracy:88.1%\rProgress:35.5% Speed(reviews/sec):2236. #Correct:314 #Tested:356 Testing Accuracy:88.2%\rProgress:35.6% Speed(reviews/sec):2236. #Correct:315 #Tested:357 Testing Accuracy:88.2%\rProgress:35.7% Speed(reviews/sec):2233. #Correct:315 #Tested:358 Testing Accuracy:87.9%\rProgress:35.8% Speed(reviews/sec):2235. #Correct:316 #Tested:359 Testing Accuracy:88.0%\rProgress:35.9% Speed(reviews/sec):2237. #Correct:317 #Tested:360 Testing Accuracy:88.0%\rProgress:36.0% Speed(reviews/sec):2236. #Correct:318 #Tested:361 Testing Accuracy:88.0%\rProgress:36.1% Speed(reviews/sec):2237. #Correct:319 #Tested:362 Testing Accuracy:88.1%\rProgress:36.2% Speed(reviews/sec):2231. #Correct:320 #Tested:363 Testing Accuracy:88.1%\rProgress:36.3% Speed(reviews/sec):2232. #Correct:321 #Tested:364 Testing Accuracy:88.1%\rProgress:36.4% Speed(reviews/sec):2234. #Correct:322 #Tested:365 Testing Accuracy:88.2%\rProgress:36.5% Speed(reviews/sec):2234. #Correct:323 #Tested:366 Testing Accuracy:88.2%\rProgress:36.6% Speed(reviews/sec):2235. #Correct:324 #Tested:367 Testing Accuracy:88.2%\rProgress:36.7% Speed(reviews/sec):2237. #Correct:325 #Tested:368 Testing Accuracy:88.3%\rProgress:36.8% Speed(reviews/sec):2237. #Correct:326 #Tested:369 Testing Accuracy:88.3%\rProgress:36.9% Speed(reviews/sec):2238. #Correct:327 #Tested:370 Testing Accuracy:88.3%\rProgress:37.0% Speed(reviews/sec):2237. #Correct:328 #Tested:371 Testing Accuracy:88.4%\rProgress:37.1% Speed(reviews/sec):2231. #Correct:328 #Tested:372 Testing Accuracy:88.1%\rProgress:37.2% Speed(reviews/sec):2232. #Correct:328 #Tested:373 Testing Accuracy:87.9%\rProgress:37.3% Speed(reviews/sec):2234. #Correct:329 #Tested:374 Testing Accuracy:87.9%\rProgress:37.4% Speed(reviews/sec):2232. #Correct:330 #Tested:375 Testing Accuracy:88.0%\rProgress:37.5% Speed(reviews/sec):2231. #Correct:330 #Tested:376 Testing Accuracy:87.7%\rProgress:37.6% Speed(reviews/sec):2234. #Correct:331 #Tested:377 Testing Accuracy:87.7%\rProgress:37.7% Speed(reviews/sec):2235. #Correct:332 #Tested:378 Testing Accuracy:87.8%\rProgress:37.8% Speed(reviews/sec):2236. #Correct:333 #Tested:379 Testing Accuracy:87.8%\rProgress:37.9% Speed(reviews/sec):2240. #Correct:334 #Tested:380 Testing Accuracy:87.8%\rProgress:38.0% Speed(reviews/sec):2232. #Correct:335 #Tested:381 Testing Accuracy:87.9%\rProgress:38.1% Speed(reviews/sec):2235. #Correct:336 #Tested:382 Testing Accuracy:87.9%\rProgress:38.2% Speed(reviews/sec):2233. #Correct:337 #Tested:383 Testing Accuracy:87.9%\rProgress:38.3% Speed(reviews/sec):2234. #Correct:338 #Tested:384 Testing Accuracy:88.0%\rProgress:38.4% Speed(reviews/sec):2236. #Correct:338 #Tested:385 Testing Accuracy:87.7%\rProgress:38.5% Speed(reviews/sec):2238. #Correct:339 #Tested:386 Testing Accuracy:87.8%\rProgress:38.6% Speed(reviews/sec):2237. #Correct:340 #Tested:387 Testing Accuracy:87.8%\rProgress:38.7% Speed(reviews/sec):2241. #Correct:340 #Tested:388 Testing Accuracy:87.6%\rProgress:38.8% Speed(reviews/sec):2242. #Correct:340 #Tested:389 Testing Accuracy:87.4%\rProgress:38.9% Speed(reviews/sec):2244. #Correct:341 #Tested:390 Testing Accuracy:87.4%\rProgress:39.0% Speed(reviews/sec):2246. #Correct:342 #Tested:391 Testing Accuracy:87.4%\rProgress:39.1% Speed(reviews/sec):2247. #Correct:342 #Tested:392 Testing Accuracy:87.2%\rProgress:39.2% Speed(reviews/sec):2249. #Correct:343 #Tested:393 Testing Accuracy:87.2%\rProgress:39.3% Speed(reviews/sec):2248. #Correct:344 #Tested:394 Testing Accuracy:87.3%\rProgress:39.4% Speed(reviews/sec):2247. #Correct:345 #Tested:395 Testing Accuracy:87.3%\rProgress:39.5% Speed(reviews/sec):2248. #Correct:346 #Tested:396 Testing Accuracy:87.3%\rProgress:39.6% Speed(reviews/sec):2249. #Correct:347 #Tested:397 Testing Accuracy:87.4%\rProgress:39.7% Speed(reviews/sec):2250. #Correct:348 #Tested:398 Testing Accuracy:87.4%\rProgress:39.8% Speed(reviews/sec):2247. #Correct:349 #Tested:399 Testing Accuracy:87.4%\rProgress:39.9% Speed(reviews/sec):2250. #Correct:350 #Tested:400 Testing Accuracy:87.5%\rProgress:40.0% Speed(reviews/sec):2246. #Correct:351 #Tested:401 Testing Accuracy:87.5%\rProgress:40.1% Speed(reviews/sec):2249. #Correct:352 #Tested:402 Testing Accuracy:87.5%\rProgress:40.2% Speed(reviews/sec):2249. #Correct:353 #Tested:403 Testing Accuracy:87.5%\rProgress:40.3% Speed(reviews/sec):2250. #Correct:353 #Tested:404 Testing Accuracy:87.3%\rProgress:40.4% Speed(reviews/sec):2252. #Correct:354 #Tested:405 Testing Accuracy:87.4%\rProgress:40.5% Speed(reviews/sec):2253. #Correct:355 #Tested:406 Testing Accuracy:87.4%\rProgress:40.6% Speed(reviews/sec):2252. #Correct:356 #Tested:407 Testing Accuracy:87.4%\rProgress:40.7% Speed(reviews/sec):2254. #Correct:357 #Tested:408 Testing Accuracy:87.5%\rProgress:40.8% Speed(reviews/sec):2253. #Correct:358 #Tested:409 Testing Accuracy:87.5%\rProgress:40.9% Speed(reviews/sec):2256. #Correct:359 #Tested:410 Testing Accuracy:87.5%\rProgress:41.0% Speed(reviews/sec):2257. #Correct:360 #Tested:411 Testing Accuracy:87.5%\rProgress:41.1% Speed(reviews/sec):2255. #Correct:361 #Tested:412 Testing Accuracy:87.6%\rProgress:41.2% Speed(reviews/sec):2256. #Correct:362 #Tested:413 Testing Accuracy:87.6%\rProgress:41.3% Speed(reviews/sec):2253. #Correct:363 #Tested:414 Testing Accuracy:87.6%\rProgress:41.4% Speed(reviews/sec):2255. #Correct:364 #Tested:415 Testing Accuracy:87.7%\rProgress:41.5% Speed(reviews/sec):2254. #Correct:365 #Tested:416 Testing Accuracy:87.7%\rProgress:41.6% Speed(reviews/sec):2255. #Correct:366 #Tested:417 Testing Accuracy:87.7%\rProgress:41.7% Speed(reviews/sec):2255. #Correct:367 #Tested:418 Testing Accuracy:87.7%\rProgress:41.8% Speed(reviews/sec):2255. #Correct:368 #Tested:419 Testing Accuracy:87.8%\rProgress:41.9% Speed(reviews/sec):2257. #Correct:369 #Tested:420 Testing Accuracy:87.8%\rProgress:42.0% Speed(reviews/sec):2253. #Correct:370 #Tested:421 Testing Accuracy:87.8%\rProgress:42.1% Speed(reviews/sec):2255. #Correct:371 #Tested:422 Testing Accuracy:87.9%\rProgress:42.2% Speed(reviews/sec):2255. #Correct:372 #Tested:423 Testing Accuracy:87.9%\rProgress:42.3% Speed(reviews/sec):2256. #Correct:373 #Tested:424 Testing Accuracy:87.9%\rProgress:42.4% Speed(reviews/sec):2256. #Correct:374 #Tested:425 Testing Accuracy:88.0%\rProgress:42.5% Speed(reviews/sec):2258. #Correct:375 #Tested:426 Testing Accuracy:88.0%\rProgress:42.6% Speed(reviews/sec):2252. #Correct:376 #Tested:427 Testing Accuracy:88.0%\rProgress:42.7% Speed(reviews/sec):2252. #Correct:377 #Tested:428 Testing Accuracy:88.0%\rProgress:42.8% Speed(reviews/sec):2250. #Correct:378 #Tested:429 Testing Accuracy:88.1%\rProgress:42.9% Speed(reviews/sec):2250. #Correct:379 #Tested:430 Testing Accuracy:88.1%\rProgress:43.0% Speed(reviews/sec):2252. #Correct:380 #Tested:431 Testing Accuracy:88.1%\rProgress:43.1% Speed(reviews/sec):2254. #Correct:381 #Tested:432 Testing Accuracy:88.1%\rProgress:43.2% Speed(reviews/sec):2253. #Correct:382 #Tested:433 Testing Accuracy:88.2%\rProgress:43.3% Speed(reviews/sec):2254. #Correct:383 #Tested:434 Testing Accuracy:88.2%\rProgress:43.4% Speed(reviews/sec):2252. #Correct:384 #Tested:435 Testing Accuracy:88.2%\rProgress:43.5% Speed(reviews/sec):2250. #Correct:385 #Tested:436 Testing Accuracy:88.3%\rProgress:43.6% Speed(reviews/sec):2252. #Correct:386 #Tested:437 Testing Accuracy:88.3%\rProgress:43.7% Speed(reviews/sec):2246. #Correct:387 #Tested:438 Testing Accuracy:88.3%\rProgress:43.8% Speed(reviews/sec):2248. #Correct:388 #Tested:439 Testing Accuracy:88.3%\rProgress:43.9% Speed(reviews/sec):2245. #Correct:389 #Tested:440 Testing Accuracy:88.4%\rProgress:44.0% Speed(reviews/sec):2242. #Correct:390 #Tested:441 Testing Accuracy:88.4%\rProgress:44.1% Speed(reviews/sec):2243. #Correct:391 #Tested:442 Testing Accuracy:88.4%\rProgress:44.2% Speed(reviews/sec):2246. #Correct:392 #Tested:443 Testing Accuracy:88.4%\rProgress:44.3% Speed(reviews/sec):2245. #Correct:393 #Tested:444 Testing Accuracy:88.5%\rProgress:44.4% Speed(reviews/sec):2239. #Correct:394 #Tested:445 Testing Accuracy:88.5%\rProgress:44.5% Speed(reviews/sec):2240. #Correct:395 #Tested:446 Testing Accuracy:88.5%\rProgress:44.6% Speed(reviews/sec):2241. #Correct:396 #Tested:447 Testing Accuracy:88.5%\rProgress:44.7% Speed(reviews/sec):2240. #Correct:397 #Tested:448 Testing Accuracy:88.6%\rProgress:44.8% Speed(reviews/sec):2241. #Correct:398 #Tested:449 Testing Accuracy:88.6%\rProgress:44.9% Speed(reviews/sec):2239. #Correct:399 #Tested:450 Testing Accuracy:88.6%\rProgress:45.0% Speed(reviews/sec):2241. #Correct:400 #Tested:451 Testing Accuracy:88.6%\rProgress:45.1% Speed(reviews/sec):2233. #Correct:401 #Tested:452 Testing Accuracy:88.7%\rProgress:45.2% Speed(reviews/sec):2235. #Correct:401 #Tested:453 Testing Accuracy:88.5%\rProgress:45.3% Speed(reviews/sec):2237. #Correct:402 #Tested:454 Testing Accuracy:88.5%\rProgress:45.4% Speed(reviews/sec):2240. #Correct:403 #Tested:455 Testing Accuracy:88.5%\rProgress:45.5% Speed(reviews/sec):2241. #Correct:404 #Tested:456 Testing Accuracy:88.5%\rProgress:45.6% Speed(reviews/sec):2243. #Correct:405 #Tested:457 Testing Accuracy:88.6%\rProgress:45.7% Speed(reviews/sec):2245. #Correct:406 #Tested:458 Testing Accuracy:88.6%\rProgress:45.8% Speed(reviews/sec):2247. #Correct:407 #Tested:459 Testing Accuracy:88.6%\rProgress:45.9% Speed(reviews/sec):2244. #Correct:407 #Tested:460 Testing Accuracy:88.4%\rProgress:46.0% Speed(reviews/sec):2246. #Correct:408 #Tested:461 Testing Accuracy:88.5%\rProgress:46.1% Speed(reviews/sec):2245. #Correct:409 #Tested:462 Testing Accuracy:88.5%\rProgress:46.2% Speed(reviews/sec):2236. #Correct:410 #Tested:463 Testing Accuracy:88.5%\rProgress:46.3% Speed(reviews/sec):2238. #Correct:410 #Tested:464 Testing Accuracy:88.3%\rProgress:46.4% Speed(reviews/sec):2239. #Correct:411 #Tested:465 Testing Accuracy:88.3%\rProgress:46.5% Speed(reviews/sec):2241. #Correct:412 #Tested:466 Testing Accuracy:88.4%\rProgress:46.6% Speed(reviews/sec):2243. #Correct:413 #Tested:467 Testing Accuracy:88.4%\rProgress:46.7% Speed(reviews/sec):2239. #Correct:414 #Tested:468 Testing Accuracy:88.4%\rProgress:46.8% Speed(reviews/sec):2237. #Correct:415 #Tested:469 Testing Accuracy:88.4%\rProgress:46.9% Speed(reviews/sec):2238. #Correct:415 #Tested:470 Testing Accuracy:88.2%\rProgress:47.0% Speed(reviews/sec):2240. #Correct:416 #Tested:471 Testing Accuracy:88.3%\rProgress:47.1% Speed(reviews/sec):2242. #Correct:416 #Tested:472 Testing Accuracy:88.1%\rProgress:47.2% Speed(reviews/sec):2244. #Correct:417 #Tested:473 Testing Accuracy:88.1%\rProgress:47.3% Speed(reviews/sec):2243. #Correct:418 #Tested:474 Testing Accuracy:88.1%\rProgress:47.4% Speed(reviews/sec):2244. #Correct:419 #Tested:475 Testing Accuracy:88.2%\rProgress:47.5% Speed(reviews/sec):2243. #Correct:420 #Tested:476 Testing Accuracy:88.2%\rProgress:47.6% Speed(reviews/sec):2237. #Correct:421 #Tested:477 Testing Accuracy:88.2%\rProgress:47.7% Speed(reviews/sec):2235. #Correct:422 #Tested:478 Testing Accuracy:88.2%\rProgress:47.8% Speed(reviews/sec):2231. #Correct:423 #Tested:479 Testing Accuracy:88.3%\rProgress:47.9% Speed(reviews/sec):2232. #Correct:424 #Tested:480 Testing Accuracy:88.3%\rProgress:48.0% Speed(reviews/sec):2234. #Correct:425 #Tested:481 Testing Accuracy:88.3%\rProgress:48.1% Speed(reviews/sec):2226. #Correct:426 #Tested:482 Testing Accuracy:88.3%\rProgress:48.2% Speed(reviews/sec):2228. #Correct:427 #Tested:483 Testing Accuracy:88.4%\rProgress:48.3% Speed(reviews/sec):2228. #Correct:428 #Tested:484 Testing Accuracy:88.4%\rProgress:48.4% Speed(reviews/sec):2229. #Correct:429 #Tested:485 Testing Accuracy:88.4%\rProgress:48.5% Speed(reviews/sec):2228. #Correct:430 #Tested:486 Testing Accuracy:88.4%\rProgress:48.6% Speed(reviews/sec):2229. #Correct:431 #Tested:487 Testing Accuracy:88.5%\rProgress:48.7% Speed(reviews/sec):2231. #Correct:431 #Tested:488 Testing Accuracy:88.3%\rProgress:48.8% Speed(reviews/sec):2232. #Correct:432 #Tested:489 Testing Accuracy:88.3%\rProgress:48.9% Speed(reviews/sec):2227. #Correct:432 #Tested:490 Testing Accuracy:88.1%\rProgress:49.0% Speed(reviews/sec):2228. #Correct:433 #Tested:491 Testing Accuracy:88.1%\rProgress:49.1% Speed(reviews/sec):2229. #Correct:434 #Tested:492 Testing Accuracy:88.2%\rProgress:49.2% Speed(reviews/sec):2229. #Correct:435 #Tested:493 Testing Accuracy:88.2%\rProgress:49.3% Speed(reviews/sec):2228. #Correct:436 #Tested:494 Testing Accuracy:88.2%\rProgress:49.4% Speed(reviews/sec):2230. #Correct:437 #Tested:495 Testing Accuracy:88.2%\rProgress:49.5% Speed(reviews/sec):2229. #Correct:438 #Tested:496 Testing Accuracy:88.3%\rProgress:49.6% Speed(reviews/sec):2230. #Correct:439 #Tested:497 Testing Accuracy:88.3%\rProgress:49.7% Speed(reviews/sec):2232. #Correct:439 #Tested:498 Testing Accuracy:88.1%\rProgress:49.8% Speed(reviews/sec):2229. #Correct:440 #Tested:499 Testing Accuracy:88.1%\rProgress:49.9% Speed(reviews/sec):2227. #Correct:441 #Tested:500 Testing Accuracy:88.2%\rProgress:50.0% Speed(reviews/sec):2230. #Correct:442 #Tested:501 Testing Accuracy:88.2%\rProgress:50.1% Speed(reviews/sec):2226. #Correct:443 #Tested:502 Testing Accuracy:88.2%\rProgress:50.2% Speed(reviews/sec):2225. #Correct:444 #Tested:503 Testing Accuracy:88.2%\rProgress:50.3% Speed(reviews/sec):2223. #Correct:445 #Tested:504 Testing Accuracy:88.2%\rProgress:50.4% Speed(reviews/sec):2218. #Correct:446 #Tested:505 Testing Accuracy:88.3%\rProgress:50.5% Speed(reviews/sec):2218. #Correct:447 #Tested:506 Testing Accuracy:88.3%\rProgress:50.6% Speed(reviews/sec):2209. #Correct:448 #Tested:507 Testing Accuracy:88.3%\rProgress:50.7% Speed(reviews/sec):2192. #Correct:449 #Tested:508 Testing Accuracy:88.3%\rProgress:50.8% Speed(reviews/sec):2192. #Correct:450 #Tested:509 Testing Accuracy:88.4%\rProgress:50.9% Speed(reviews/sec):2192. #Correct:451 #Tested:510 Testing Accuracy:88.4%\rProgress:51.0% Speed(reviews/sec):2181. #Correct:452 #Tested:511 Testing Accuracy:88.4%\rProgress:51.1% Speed(reviews/sec):2181. #Correct:453 #Tested:512 Testing Accuracy:88.4%\rProgress:51.2% Speed(reviews/sec):2177. #Correct:454 #Tested:513 Testing Accuracy:88.4%\rProgress:51.3% Speed(reviews/sec):2178. #Correct:455 #Tested:514 Testing Accuracy:88.5%\rProgress:51.4% Speed(reviews/sec):2174. #Correct:456 #Tested:515 Testing Accuracy:88.5%\rProgress:51.5% Speed(reviews/sec):2171. #Correct:457 #Tested:516 Testing Accuracy:88.5%\rProgress:51.6% Speed(reviews/sec):2163. #Correct:458 #Tested:517 Testing Accuracy:88.5%\rProgress:51.7% Speed(reviews/sec):2164. #Correct:459 #Tested:518 Testing Accuracy:88.6%\rProgress:51.8% Speed(reviews/sec):2164. #Correct:459 #Tested:519 Testing Accuracy:88.4%\rProgress:51.9% Speed(reviews/sec):2165. #Correct:460 #Tested:520 Testing Accuracy:88.4%\rProgress:52.0% Speed(reviews/sec):2167. #Correct:461 #Tested:521 Testing Accuracy:88.4%\rProgress:52.1% Speed(reviews/sec):2167. #Correct:462 #Tested:522 Testing Accuracy:88.5%\rProgress:52.2% Speed(reviews/sec):2168. #Correct:463 #Tested:523 Testing Accuracy:88.5%\rProgress:52.3% Speed(reviews/sec):2168. #Correct:464 #Tested:524 Testing Accuracy:88.5%\rProgress:52.4% Speed(reviews/sec):2169. #Correct:465 #Tested:525 Testing Accuracy:88.5%\rProgress:52.5% Speed(reviews/sec):2171. #Correct:466 #Tested:526 Testing Accuracy:88.5%\rProgress:52.6% Speed(reviews/sec):2173. #Correct:467 #Tested:527 Testing Accuracy:88.6%\rProgress:52.7% Speed(reviews/sec):2173. #Correct:468 #Tested:528 Testing Accuracy:88.6%\rProgress:52.8% Speed(reviews/sec):2171. #Correct:469 #Tested:529 Testing Accuracy:88.6%\rProgress:52.9% Speed(reviews/sec):2172. #Correct:470 #Tested:530 Testing Accuracy:88.6%\rProgress:53.0% Speed(reviews/sec):2170. #Correct:471 #Tested:531 Testing Accuracy:88.7%\rProgress:53.1% Speed(reviews/sec):2171. #Correct:471 #Tested:532 Testing Accuracy:88.5%\rProgress:53.2% Speed(reviews/sec):2172. #Correct:472 #Tested:533 Testing Accuracy:88.5%\rProgress:53.3% Speed(reviews/sec):2172. #Correct:473 #Tested:534 Testing Accuracy:88.5%\rProgress:53.4% Speed(reviews/sec):2174. #Correct:474 #Tested:535 Testing Accuracy:88.5%\rProgress:53.5% Speed(reviews/sec):2175. #Correct:475 #Tested:536 Testing Accuracy:88.6%\rProgress:53.6% Speed(reviews/sec):2177. #Correct:475 #Tested:537 Testing Accuracy:88.4%\rProgress:53.7% Speed(reviews/sec):2179. #Correct:476 #Tested:538 Testing Accuracy:88.4%\rProgress:53.8% Speed(reviews/sec):2179. #Correct:477 #Tested:539 Testing Accuracy:88.4%\rProgress:53.9% Speed(reviews/sec):2181. #Correct:478 #Tested:540 Testing Accuracy:88.5%\rProgress:54.0% Speed(reviews/sec):2181. #Correct:479 #Tested:541 Testing Accuracy:88.5%\rProgress:54.1% Speed(reviews/sec):2182. #Correct:480 #Tested:542 Testing Accuracy:88.5%\rProgress:54.2% Speed(reviews/sec):2180. #Correct:481 #Tested:543 Testing Accuracy:88.5%\rProgress:54.3% Speed(reviews/sec):2181. #Correct:482 #Tested:544 Testing Accuracy:88.6%\rProgress:54.4% Speed(reviews/sec):2179. #Correct:483 #Tested:545 Testing Accuracy:88.6%\rProgress:54.5% Speed(reviews/sec):2179. #Correct:484 #Tested:546 Testing Accuracy:88.6%\rProgress:54.6% Speed(reviews/sec):2176. #Correct:485 #Tested:547 Testing Accuracy:88.6%\rProgress:54.7% Speed(reviews/sec):2176. #Correct:485 #Tested:548 Testing Accuracy:88.5%\rProgress:54.8% Speed(reviews/sec):2178. #Correct:486 #Tested:549 Testing Accuracy:88.5%\rProgress:54.9% Speed(reviews/sec):2180. #Correct:487 #Tested:550 Testing Accuracy:88.5%\rProgress:55.0% Speed(reviews/sec):2181. #Correct:488 #Tested:551 Testing Accuracy:88.5%\rProgress:55.1% Speed(reviews/sec):2181. #Correct:488 #Tested:552 Testing Accuracy:88.4%\rProgress:55.2% Speed(reviews/sec):2183. #Correct:489 #Tested:553 Testing Accuracy:88.4%\rProgress:55.3% Speed(reviews/sec):2183. #Correct:490 #Tested:554 Testing Accuracy:88.4%\rProgress:55.4% Speed(reviews/sec):2180. #Correct:491 #Tested:555 Testing Accuracy:88.4%\rProgress:55.5% Speed(reviews/sec):2181. #Correct:492 #Tested:556 Testing Accuracy:88.4%\rProgress:55.6% Speed(reviews/sec):2180. #Correct:493 #Tested:557 Testing Accuracy:88.5%\rProgress:55.7% Speed(reviews/sec):2180. #Correct:494 #Tested:558 Testing Accuracy:88.5%\rProgress:55.8% Speed(reviews/sec):2177. #Correct:495 #Tested:559 Testing Accuracy:88.5%\rProgress:55.9% Speed(reviews/sec):2178. #Correct:496 #Tested:560 Testing Accuracy:88.5%\rProgress:56.0% Speed(reviews/sec):2180. #Correct:497 #Tested:561 Testing Accuracy:88.5%\rProgress:56.1% Speed(reviews/sec):2181. #Correct:498 #Tested:562 Testing Accuracy:88.6%\rProgress:56.2% Speed(reviews/sec):2181. #Correct:499 #Tested:563 Testing Accuracy:88.6%\rProgress:56.3% Speed(reviews/sec):2183. #Correct:500 #Tested:564 Testing Accuracy:88.6%\rProgress:56.4% Speed(reviews/sec):2182. #Correct:501 #Tested:565 Testing Accuracy:88.6%\rProgress:56.5% Speed(reviews/sec):2183. #Correct:502 #Tested:566 Testing Accuracy:88.6%\rProgress:56.6% Speed(reviews/sec):2184. #Correct:503 #Tested:567 Testing Accuracy:88.7%\rProgress:56.7% Speed(reviews/sec):2184. #Correct:504 #Tested:568 Testing Accuracy:88.7%\rProgress:56.8% Speed(reviews/sec):2186. #Correct:505 #Tested:569 Testing Accuracy:88.7%\rProgress:56.9% Speed(reviews/sec):2186. #Correct:506 #Tested:570 Testing Accuracy:88.7%\rProgress:57.0% Speed(reviews/sec):2178. #Correct:506 #Tested:571 Testing Accuracy:88.6%\rProgress:57.1% Speed(reviews/sec):2177. #Correct:507 #Tested:572 Testing Accuracy:88.6%\rProgress:57.2% Speed(reviews/sec):2175. #Correct:508 #Tested:573 Testing Accuracy:88.6%\rProgress:57.3% Speed(reviews/sec):2176. #Correct:509 #Tested:574 Testing Accuracy:88.6%\rProgress:57.4% Speed(reviews/sec):2174. #Correct:510 #Tested:575 Testing Accuracy:88.6%\rProgress:57.5% Speed(reviews/sec):2174. #Correct:510 #Tested:576 Testing Accuracy:88.5%\rProgress:57.6% Speed(reviews/sec):2174. #Correct:511 #Tested:577 Testing Accuracy:88.5%\rProgress:57.7% Speed(reviews/sec):2175. #Correct:512 #Tested:578 Testing Accuracy:88.5%\rProgress:57.8% Speed(reviews/sec):2173. #Correct:513 #Tested:579 Testing Accuracy:88.6%\rProgress:57.9% Speed(reviews/sec):2175. #Correct:514 #Tested:580 Testing Accuracy:88.6%\rProgress:58.0% Speed(reviews/sec):2173. #Correct:515 #Tested:581 Testing Accuracy:88.6%\rProgress:58.1% Speed(reviews/sec):2174. #Correct:516 #Tested:582 Testing Accuracy:88.6%\rProgress:58.2% Speed(reviews/sec):2176. #Correct:517 #Tested:583 Testing Accuracy:88.6%\rProgress:58.3% Speed(reviews/sec):2177. #Correct:518 #Tested:584 Testing Accuracy:88.6%\rProgress:58.4% Speed(reviews/sec):2178. #Correct:519 #Tested:585 Testing Accuracy:88.7%\rProgress:58.5% Speed(reviews/sec):2179. #Correct:520 #Tested:586 Testing Accuracy:88.7%\rProgress:58.6% Speed(reviews/sec):2181. #Correct:521 #Tested:587 Testing Accuracy:88.7%\rProgress:58.7% Speed(reviews/sec):2181. #Correct:522 #Tested:588 Testing Accuracy:88.7%\rProgress:58.8% Speed(reviews/sec):2183. #Correct:523 #Tested:589 Testing Accuracy:88.7%\rProgress:58.9% Speed(reviews/sec):2184. #Correct:524 #Tested:590 Testing Accuracy:88.8%\rProgress:59.0% Speed(reviews/sec):2185. #Correct:525 #Tested:591 Testing Accuracy:88.8%\rProgress:59.1% Speed(reviews/sec):2186. #Correct:526 #Tested:592 Testing Accuracy:88.8%\rProgress:59.2% Speed(reviews/sec):2184. #Correct:526 #Tested:593 Testing Accuracy:88.7%\rProgress:59.3% Speed(reviews/sec):2184. #Correct:527 #Tested:594 Testing Accuracy:88.7%\rProgress:59.4% Speed(reviews/sec):2185. #Correct:528 #Tested:595 Testing Accuracy:88.7%\rProgress:59.5% Speed(reviews/sec):2186. #Correct:529 #Tested:596 Testing Accuracy:88.7%\rProgress:59.6% Speed(reviews/sec):2188. #Correct:530 #Tested:597 Testing Accuracy:88.7%\rProgress:59.7% Speed(reviews/sec):2189. #Correct:531 #Tested:598 Testing Accuracy:88.7%\rProgress:59.8% Speed(reviews/sec):2189. #Correct:531 #Tested:599 Testing Accuracy:88.6%\rProgress:59.9% Speed(reviews/sec):2191. #Correct:532 #Tested:600 Testing Accuracy:88.6%\rProgress:60.0% Speed(reviews/sec):2190. #Correct:533 #Tested:601 Testing Accuracy:88.6%\rProgress:60.1% Speed(reviews/sec):2192. #Correct:534 #Tested:602 Testing Accuracy:88.7%\rProgress:60.2% Speed(reviews/sec):2193. #Correct:534 #Tested:603 Testing Accuracy:88.5%\rProgress:60.3% Speed(reviews/sec):2194. #Correct:535 #Tested:604 Testing Accuracy:88.5%\rProgress:60.4% Speed(reviews/sec):2195. #Correct:536 #Tested:605 Testing Accuracy:88.5%\rProgress:60.5% Speed(reviews/sec):2191. #Correct:536 #Tested:606 Testing Accuracy:88.4%\rProgress:60.6% Speed(reviews/sec):2192. #Correct:536 #Tested:607 Testing Accuracy:88.3%\rProgress:60.7% Speed(reviews/sec):2193. #Correct:537 #Tested:608 Testing Accuracy:88.3%\rProgress:60.8% Speed(reviews/sec):2194. #Correct:538 #Tested:609 Testing Accuracy:88.3%\rProgress:60.9% Speed(reviews/sec):2196. #Correct:539 #Tested:610 Testing Accuracy:88.3%\rProgress:61.0% Speed(reviews/sec):2195. #Correct:539 #Tested:611 Testing Accuracy:88.2%\rProgress:61.1% Speed(reviews/sec):2196. #Correct:540 #Tested:612 Testing Accuracy:88.2%\rProgress:61.2% Speed(reviews/sec):2198. #Correct:541 #Tested:613 Testing Accuracy:88.2%\rProgress:61.3% Speed(reviews/sec):2199. #Correct:542 #Tested:614 Testing Accuracy:88.2%\rProgress:61.4% Speed(reviews/sec):2201. #Correct:543 #Tested:615 Testing Accuracy:88.2%\rProgress:61.5% Speed(reviews/sec):2201. #Correct:543 #Tested:616 Testing Accuracy:88.1%\rProgress:61.6% Speed(reviews/sec):2202. #Correct:544 #Tested:617 Testing Accuracy:88.1%\rProgress:61.7% Speed(reviews/sec):2203. #Correct:545 #Tested:618 Testing Accuracy:88.1%\rProgress:61.8% Speed(reviews/sec):2204. #Correct:546 #Tested:619 Testing Accuracy:88.2%\rProgress:61.9% Speed(reviews/sec):2205. #Correct:546 #Tested:620 Testing Accuracy:88.0%\rProgress:62.0% Speed(reviews/sec):2204. #Correct:546 #Tested:621 Testing Accuracy:87.9%\rProgress:62.1% Speed(reviews/sec):2205. #Correct:547 #Tested:622 Testing Accuracy:87.9%\rProgress:62.2% Speed(reviews/sec):2206. #Correct:547 #Tested:623 Testing Accuracy:87.8%\rProgress:62.3% Speed(reviews/sec):2207. #Correct:547 #Tested:624 Testing Accuracy:87.6%\rProgress:62.4% Speed(reviews/sec):2208. #Correct:548 #Tested:625 Testing Accuracy:87.6%\rProgress:62.5% Speed(reviews/sec):2201. #Correct:549 #Tested:626 Testing Accuracy:87.6%\rProgress:62.6% Speed(reviews/sec):2200. #Correct:549 #Tested:627 Testing Accuracy:87.5%\rProgress:62.7% Speed(reviews/sec):2201. #Correct:550 #Tested:628 Testing Accuracy:87.5%\rProgress:62.8% Speed(reviews/sec):2202. #Correct:551 #Tested:629 Testing Accuracy:87.5%\rProgress:62.9% Speed(reviews/sec):2201. #Correct:552 #Tested:630 Testing Accuracy:87.6%\rProgress:63.0% Speed(reviews/sec):2201. #Correct:552 #Tested:631 Testing Accuracy:87.4%\rProgress:63.1% Speed(reviews/sec):2197. #Correct:553 #Tested:632 Testing Accuracy:87.5%\rProgress:63.2% Speed(reviews/sec):2198. #Correct:554 #Tested:633 Testing Accuracy:87.5%\rProgress:63.3% Speed(reviews/sec):2197. #Correct:554 #Tested:634 Testing Accuracy:87.3%\rProgress:63.4% Speed(reviews/sec):2194. #Correct:554 #Tested:635 Testing Accuracy:87.2%\rProgress:63.5% Speed(reviews/sec):2193. #Correct:554 #Tested:636 Testing Accuracy:87.1%\rProgress:63.6% Speed(reviews/sec):2194. #Correct:555 #Tested:637 Testing Accuracy:87.1%\rProgress:63.7% Speed(reviews/sec):2194. #Correct:556 #Tested:638 Testing Accuracy:87.1%\rProgress:63.8% Speed(reviews/sec):2195. #Correct:557 #Tested:639 Testing Accuracy:87.1%\rProgress:63.9% Speed(reviews/sec):2197. #Correct:557 #Tested:640 Testing Accuracy:87.0%\rProgress:64.0% Speed(reviews/sec):2198. #Correct:558 #Tested:641 Testing Accuracy:87.0%\rProgress:64.1% Speed(reviews/sec):2197. #Correct:558 #Tested:642 Testing Accuracy:86.9%\rProgress:64.2% Speed(reviews/sec):2196. #Correct:559 #Tested:643 Testing Accuracy:86.9%\rProgress:64.3% Speed(reviews/sec):2197. #Correct:560 #Tested:644 Testing Accuracy:86.9%\rProgress:64.4% Speed(reviews/sec):2196. #Correct:561 #Tested:645 Testing Accuracy:86.9%\rProgress:64.5% Speed(reviews/sec):2195. #Correct:562 #Tested:646 Testing Accuracy:86.9%\rProgress:64.6% Speed(reviews/sec):2193. #Correct:563 #Tested:647 Testing Accuracy:87.0%\rProgress:64.7% Speed(reviews/sec):2194. #Correct:564 #Tested:648 Testing Accuracy:87.0%\rProgress:64.8% Speed(reviews/sec):2195. #Correct:565 #Tested:649 Testing Accuracy:87.0%\rProgress:64.9% Speed(reviews/sec):2196. #Correct:566 #Tested:650 Testing Accuracy:87.0%\rProgress:65.0% Speed(reviews/sec):2198. #Correct:567 #Tested:651 Testing Accuracy:87.0%\rProgress:65.1% Speed(reviews/sec):2198. #Correct:568 #Tested:652 Testing Accuracy:87.1%\rProgress:65.2% Speed(reviews/sec):2200. #Correct:569 #Tested:653 Testing Accuracy:87.1%\rProgress:65.3% Speed(reviews/sec):2201. #Correct:569 #Tested:654 Testing Accuracy:87.0%\rProgress:65.4% Speed(reviews/sec):2201. #Correct:569 #Tested:655 Testing Accuracy:86.8%\rProgress:65.5% Speed(reviews/sec):2202. #Correct:570 #Tested:656 Testing Accuracy:86.8%\rProgress:65.6% Speed(reviews/sec):2204. #Correct:571 #Tested:657 Testing Accuracy:86.9%\rProgress:65.7% Speed(reviews/sec):2203. #Correct:572 #Tested:658 Testing Accuracy:86.9%\rProgress:65.8% Speed(reviews/sec):2205. #Correct:573 #Tested:659 Testing Accuracy:86.9%\rProgress:65.9% Speed(reviews/sec):2205. #Correct:574 #Tested:660 Testing Accuracy:86.9%\rProgress:66.0% Speed(reviews/sec):2206. #Correct:575 #Tested:661 Testing Accuracy:86.9%\rProgress:66.1% Speed(reviews/sec):2207. #Correct:576 #Tested:662 Testing Accuracy:87.0%\rProgress:66.2% Speed(reviews/sec):2207. #Correct:577 #Tested:663 Testing Accuracy:87.0%\rProgress:66.3% Speed(reviews/sec):2207. #Correct:578 #Tested:664 Testing Accuracy:87.0%\rProgress:66.4% Speed(reviews/sec):2208. #Correct:579 #Tested:665 Testing Accuracy:87.0%\rProgress:66.5% Speed(reviews/sec):2210. #Correct:580 #Tested:666 Testing Accuracy:87.0%\rProgress:66.6% Speed(reviews/sec):2211. #Correct:581 #Tested:667 Testing Accuracy:87.1%\rProgress:66.7% Speed(reviews/sec):2212. #Correct:582 #Tested:668 Testing Accuracy:87.1%\rProgress:66.8% Speed(reviews/sec):2212. #Correct:583 #Tested:669 Testing Accuracy:87.1%\rProgress:66.9% Speed(reviews/sec):2212. #Correct:583 #Tested:670 Testing Accuracy:87.0%\rProgress:67.0% Speed(reviews/sec):2215. #Correct:584 #Tested:671 Testing Accuracy:87.0%\rProgress:67.1% Speed(reviews/sec):2216. #Correct:585 #Tested:672 Testing Accuracy:87.0%\rProgress:67.2% Speed(reviews/sec):2218. #Correct:585 #Tested:673 Testing Accuracy:86.9%\rProgress:67.3% Speed(reviews/sec):2218. #Correct:586 #Tested:674 Testing Accuracy:86.9%\rProgress:67.4% Speed(reviews/sec):2219. #Correct:587 #Tested:675 Testing Accuracy:86.9%\rProgress:67.5% Speed(reviews/sec):2220. #Correct:588 #Tested:676 Testing Accuracy:86.9%\rProgress:67.6% Speed(reviews/sec):2221. #Correct:589 #Tested:677 Testing Accuracy:87.0%\rProgress:67.7% Speed(reviews/sec):2221. #Correct:589 #Tested:678 Testing Accuracy:86.8%\rProgress:67.8% Speed(reviews/sec):2223. #Correct:590 #Tested:679 Testing Accuracy:86.8%\rProgress:67.9% Speed(reviews/sec):2224. #Correct:591 #Tested:680 Testing Accuracy:86.9%\rProgress:68.0% Speed(reviews/sec):2224. #Correct:591 #Tested:681 Testing Accuracy:86.7%\rProgress:68.1% Speed(reviews/sec):2225. #Correct:592 #Tested:682 Testing Accuracy:86.8%\rProgress:68.2% Speed(reviews/sec):2226. #Correct:593 #Tested:683 Testing Accuracy:86.8%\rProgress:68.3% Speed(reviews/sec):2227. #Correct:594 #Tested:684 Testing Accuracy:86.8%\rProgress:68.4% Speed(reviews/sec):2227. #Correct:595 #Tested:685 Testing Accuracy:86.8%\rProgress:68.5% Speed(reviews/sec):2228. #Correct:596 #Tested:686 Testing Accuracy:86.8%\rProgress:68.6% Speed(reviews/sec):2230. #Correct:596 #Tested:687 Testing Accuracy:86.7%\rProgress:68.7% Speed(reviews/sec):2231. #Correct:597 #Tested:688 Testing Accuracy:86.7%\rProgress:68.8% Speed(reviews/sec):2228. #Correct:598 #Tested:689 Testing Accuracy:86.7%\rProgress:68.9% Speed(reviews/sec):2229. #Correct:599 #Tested:690 Testing Accuracy:86.8%\rProgress:69.0% Speed(reviews/sec):2228. #Correct:600 #Tested:691 Testing Accuracy:86.8%\rProgress:69.1% Speed(reviews/sec):2230. #Correct:601 #Tested:692 Testing Accuracy:86.8%\rProgress:69.2% Speed(reviews/sec):2230. #Correct:602 #Tested:693 Testing Accuracy:86.8%\rProgress:69.3% Speed(reviews/sec):2230. #Correct:603 #Tested:694 Testing Accuracy:86.8%\rProgress:69.4% Speed(reviews/sec):2230. #Correct:604 #Tested:695 Testing Accuracy:86.9%\rProgress:69.5% Speed(reviews/sec):2230. #Correct:605 #Tested:696 Testing Accuracy:86.9%\rProgress:69.6% Speed(reviews/sec):2231. #Correct:606 #Tested:697 Testing Accuracy:86.9%\rProgress:69.7% Speed(reviews/sec):2231. #Correct:607 #Tested:698 Testing Accuracy:86.9%\rProgress:69.8% Speed(reviews/sec):2231. #Correct:608 #Tested:699 Testing Accuracy:86.9%\rProgress:69.9% Speed(reviews/sec):2231. #Correct:609 #Tested:700 Testing Accuracy:87.0%\rProgress:70.0% Speed(reviews/sec):2230. #Correct:610 #Tested:701 Testing Accuracy:87.0%\rProgress:70.1% Speed(reviews/sec):2230. #Correct:611 #Tested:702 Testing Accuracy:87.0%\rProgress:70.2% Speed(reviews/sec):2230. #Correct:612 #Tested:703 Testing Accuracy:87.0%\rProgress:70.3% Speed(reviews/sec):2230. #Correct:613 #Tested:704 Testing Accuracy:87.0%\rProgress:70.4% Speed(reviews/sec):2230. #Correct:614 #Tested:705 Testing Accuracy:87.0%\rProgress:70.5% Speed(reviews/sec):2231. #Correct:615 #Tested:706 Testing Accuracy:87.1%\rProgress:70.6% Speed(reviews/sec):2232. #Correct:616 #Tested:707 Testing Accuracy:87.1%\rProgress:70.7% Speed(reviews/sec):2233. #Correct:617 #Tested:708 Testing Accuracy:87.1%\rProgress:70.8% Speed(reviews/sec):2232. #Correct:618 #Tested:709 Testing Accuracy:87.1%\rProgress:70.9% Speed(reviews/sec):2233. #Correct:619 #Tested:710 Testing Accuracy:87.1%\rProgress:71.0% Speed(reviews/sec):2234. #Correct:619 #Tested:711 Testing Accuracy:87.0%\rProgress:71.1% Speed(reviews/sec):2235. #Correct:620 #Tested:712 Testing Accuracy:87.0%\rProgress:71.2% Speed(reviews/sec):2236. #Correct:621 #Tested:713 Testing Accuracy:87.0%\rProgress:71.3% Speed(reviews/sec):2236. #Correct:622 #Tested:714 Testing Accuracy:87.1%\rProgress:71.4% Speed(reviews/sec):2236. #Correct:623 #Tested:715 Testing Accuracy:87.1%\rProgress:71.5% Speed(reviews/sec):2237. #Correct:624 #Tested:716 Testing Accuracy:87.1%\rProgress:71.6% Speed(reviews/sec):2238. #Correct:625 #Tested:717 Testing Accuracy:87.1%\rProgress:71.7% Speed(reviews/sec):2239. #Correct:626 #Tested:718 Testing Accuracy:87.1%\rProgress:71.8% Speed(reviews/sec):2239. #Correct:626 #Tested:719 Testing Accuracy:87.0%\rProgress:71.9% Speed(reviews/sec):2241. #Correct:627 #Tested:720 Testing Accuracy:87.0%\rProgress:72.0% Speed(reviews/sec):2242. #Correct:628 #Tested:721 Testing Accuracy:87.1%\rProgress:72.1% Speed(reviews/sec):2243. #Correct:629 #Tested:722 Testing Accuracy:87.1%\rProgress:72.2% Speed(reviews/sec):2243. #Correct:630 #Tested:723 Testing Accuracy:87.1%\rProgress:72.3% Speed(reviews/sec):2243. #Correct:630 #Tested:724 Testing Accuracy:87.0%\rProgress:72.4% Speed(reviews/sec):2245. #Correct:630 #Tested:725 Testing Accuracy:86.8%\rProgress:72.5% Speed(reviews/sec):2245. #Correct:631 #Tested:726 Testing Accuracy:86.9%\rProgress:72.6% Speed(reviews/sec):2243. #Correct:632 #Tested:727 Testing Accuracy:86.9%\rProgress:72.7% Speed(reviews/sec):2241. #Correct:633 #Tested:728 Testing Accuracy:86.9%\rProgress:72.8% Speed(reviews/sec):2243. #Correct:634 #Tested:729 Testing Accuracy:86.9%\rProgress:72.9% Speed(reviews/sec):2240. #Correct:635 #Tested:730 Testing Accuracy:86.9%\rProgress:73.0% Speed(reviews/sec):2240. #Correct:636 #Tested:731 Testing Accuracy:87.0%\rProgress:73.1% Speed(reviews/sec):2241. #Correct:637 #Tested:732 Testing Accuracy:87.0%\rProgress:73.2% Speed(reviews/sec):2240. #Correct:638 #Tested:733 Testing Accuracy:87.0%\rProgress:73.3% Speed(reviews/sec):2239. #Correct:639 #Tested:734 Testing Accuracy:87.0%\rProgress:73.4% Speed(reviews/sec):2238. #Correct:640 #Tested:735 Testing Accuracy:87.0%\rProgress:73.5% Speed(reviews/sec):2238. #Correct:641 #Tested:736 Testing Accuracy:87.0%\rProgress:73.6% Speed(reviews/sec):2239. #Correct:642 #Tested:737 Testing Accuracy:87.1%\rProgress:73.7% Speed(reviews/sec):2240. #Correct:642 #Tested:738 Testing Accuracy:86.9%\rProgress:73.8% Speed(reviews/sec):2239. #Correct:643 #Tested:739 Testing Accuracy:87.0%\rProgress:73.9% Speed(reviews/sec):2240. #Correct:644 #Tested:740 Testing Accuracy:87.0%\rProgress:74.0% Speed(reviews/sec):2242. #Correct:645 #Tested:741 Testing Accuracy:87.0%\rProgress:74.1% Speed(reviews/sec):2243. #Correct:646 #Tested:742 Testing Accuracy:87.0%\rProgress:74.2% Speed(reviews/sec):2244. #Correct:647 #Tested:743 Testing Accuracy:87.0%\rProgress:74.3% Speed(reviews/sec):2244. #Correct:647 #Tested:744 Testing Accuracy:86.9%\rProgress:74.4% Speed(reviews/sec):2244. #Correct:648 #Tested:745 Testing Accuracy:86.9%\rProgress:74.5% Speed(reviews/sec):2241. #Correct:648 #Tested:746 Testing Accuracy:86.8%\rProgress:74.6% Speed(reviews/sec):2242. #Correct:649 #Tested:747 Testing Accuracy:86.8%\rProgress:74.7% Speed(reviews/sec):2238. #Correct:649 #Tested:748 Testing Accuracy:86.7%\rProgress:74.8% Speed(reviews/sec):2238. #Correct:650 #Tested:749 Testing Accuracy:86.7%\rProgress:74.9% Speed(reviews/sec):2237. #Correct:651 #Tested:750 Testing Accuracy:86.8%\rProgress:75.0% Speed(reviews/sec):2238. #Correct:652 #Tested:751 Testing Accuracy:86.8%\rProgress:75.1% Speed(reviews/sec):2239. #Correct:653 #Tested:752 Testing Accuracy:86.8%\rProgress:75.2% Speed(reviews/sec):2240. #Correct:654 #Tested:753 Testing Accuracy:86.8%\rProgress:75.3% Speed(reviews/sec):2241. #Correct:655 #Tested:754 Testing Accuracy:86.8%\rProgress:75.4% Speed(reviews/sec):2239. #Correct:656 #Tested:755 Testing Accuracy:86.8%\rProgress:75.5% Speed(reviews/sec):2241. #Correct:656 #Tested:756 Testing Accuracy:86.7%\rProgress:75.6% Speed(reviews/sec):2241. #Correct:656 #Tested:757 Testing Accuracy:86.6%\rProgress:75.7% Speed(reviews/sec):2242. #Correct:657 #Tested:758 Testing Accuracy:86.6%\rProgress:75.8% Speed(reviews/sec):2242. #Correct:657 #Tested:759 Testing Accuracy:86.5%\rProgress:75.9% Speed(reviews/sec):2243. #Correct:658 #Tested:760 Testing Accuracy:86.5%\rProgress:76.0% Speed(reviews/sec):2243. #Correct:658 #Tested:761 Testing Accuracy:86.4%\rProgress:76.1% Speed(reviews/sec):2243. #Correct:659 #Tested:762 Testing Accuracy:86.4%\rProgress:76.2% Speed(reviews/sec):2242. #Correct:659 #Tested:763 Testing Accuracy:86.3%\rProgress:76.3% Speed(reviews/sec):2243. #Correct:660 #Tested:764 Testing Accuracy:86.3%\rProgress:76.4% Speed(reviews/sec):2243. #Correct:661 #Tested:765 Testing Accuracy:86.4%\rProgress:76.5% Speed(reviews/sec):2243. #Correct:661 #Tested:766 Testing Accuracy:86.2%\rProgress:76.6% Speed(reviews/sec):2243. #Correct:662 #Tested:767 Testing Accuracy:86.3%\rProgress:76.7% Speed(reviews/sec):2244. #Correct:663 #Tested:768 Testing Accuracy:86.3%\rProgress:76.8% Speed(reviews/sec):2244. #Correct:663 #Tested:769 Testing Accuracy:86.2%\rProgress:76.9% Speed(reviews/sec):2245. #Correct:664 #Tested:770 Testing Accuracy:86.2%\rProgress:77.0% Speed(reviews/sec):2242. #Correct:665 #Tested:771 Testing Accuracy:86.2%\rProgress:77.1% Speed(reviews/sec):2243. #Correct:665 #Tested:772 Testing Accuracy:86.1%\rProgress:77.2% Speed(reviews/sec):2244. #Correct:666 #Tested:773 Testing Accuracy:86.1%\rProgress:77.3% Speed(reviews/sec):2244. #Correct:667 #Tested:774 Testing Accuracy:86.1%\rProgress:77.4% Speed(reviews/sec):2245. #Correct:668 #Tested:775 Testing Accuracy:86.1%\rProgress:77.5% Speed(reviews/sec):2244. #Correct:669 #Tested:776 Testing Accuracy:86.2%\rProgress:77.6% Speed(reviews/sec):2243. #Correct:670 #Tested:777 Testing Accuracy:86.2%\rProgress:77.7% Speed(reviews/sec):2243. #Correct:670 #Tested:778 Testing Accuracy:86.1%\rProgress:77.8% Speed(reviews/sec):2239. #Correct:671 #Tested:779 Testing Accuracy:86.1%\rProgress:77.9% Speed(reviews/sec):2240. #Correct:672 #Tested:780 Testing Accuracy:86.1%\rProgress:78.0% Speed(reviews/sec):2234. #Correct:673 #Tested:781 Testing Accuracy:86.1%\rProgress:78.1% Speed(reviews/sec):2236. #Correct:673 #Tested:782 Testing Accuracy:86.0%\rProgress:78.2% Speed(reviews/sec):2232. #Correct:673 #Tested:783 Testing Accuracy:85.9%\rProgress:78.3% Speed(reviews/sec):2233. #Correct:674 #Tested:784 Testing Accuracy:85.9%\rProgress:78.4% Speed(reviews/sec):2230. #Correct:675 #Tested:785 Testing Accuracy:85.9%\rProgress:78.5% Speed(reviews/sec):2230. #Correct:675 #Tested:786 Testing Accuracy:85.8%\rProgress:78.6% Speed(reviews/sec):2228. #Correct:676 #Tested:787 Testing Accuracy:85.8%\rProgress:78.7% Speed(reviews/sec):2223. #Correct:677 #Tested:788 Testing Accuracy:85.9%\rProgress:78.8% Speed(reviews/sec):2224. #Correct:677 #Tested:789 Testing Accuracy:85.8%\rProgress:78.9% Speed(reviews/sec):2221. #Correct:678 #Tested:790 Testing Accuracy:85.8%\rProgress:79.0% Speed(reviews/sec):2221. #Correct:679 #Tested:791 Testing Accuracy:85.8%\rProgress:79.1% Speed(reviews/sec):2218. #Correct:680 #Tested:792 Testing Accuracy:85.8%\rProgress:79.2% Speed(reviews/sec):2217. #Correct:681 #Tested:793 Testing Accuracy:85.8%\rProgress:79.3% Speed(reviews/sec):2217. #Correct:682 #Tested:794 Testing Accuracy:85.8%\rProgress:79.4% Speed(reviews/sec):2217. #Correct:683 #Tested:795 Testing Accuracy:85.9%\rProgress:79.5% Speed(reviews/sec):2218. #Correct:684 #Tested:796 Testing Accuracy:85.9%\rProgress:79.6% Speed(reviews/sec):2219. #Correct:685 #Tested:797 Testing Accuracy:85.9%\rProgress:79.7% Speed(reviews/sec):2219. #Correct:686 #Tested:798 Testing Accuracy:85.9%\rProgress:79.8% Speed(reviews/sec):2221. #Correct:687 #Tested:799 Testing Accuracy:85.9%\rProgress:79.9% Speed(reviews/sec):2222. #Correct:688 #Tested:800 Testing Accuracy:86.0%\rProgress:80.0% Speed(reviews/sec):2224. #Correct:689 #Tested:801 Testing Accuracy:86.0%\rProgress:80.1% Speed(reviews/sec):2225. #Correct:690 #Tested:802 Testing Accuracy:86.0%\rProgress:80.2% Speed(reviews/sec):2226. #Correct:691 #Tested:803 Testing Accuracy:86.0%\rProgress:80.3% Speed(reviews/sec):2226. #Correct:692 #Tested:804 Testing Accuracy:86.0%\rProgress:80.4% Speed(reviews/sec):2227. #Correct:693 #Tested:805 Testing Accuracy:86.0%\rProgress:80.5% Speed(reviews/sec):2229. #Correct:694 #Tested:806 Testing Accuracy:86.1%\rProgress:80.6% Speed(reviews/sec):2229. #Correct:695 #Tested:807 Testing Accuracy:86.1%\rProgress:80.7% Speed(reviews/sec):2228. #Correct:695 #Tested:808 Testing Accuracy:86.0%\rProgress:80.8% Speed(reviews/sec):2229. #Correct:696 #Tested:809 Testing Accuracy:86.0%\rProgress:80.9% Speed(reviews/sec):2227. #Correct:697 #Tested:810 Testing Accuracy:86.0%\rProgress:81.0% Speed(reviews/sec):2226. #Correct:698 #Tested:811 Testing Accuracy:86.0%\rProgress:81.1% Speed(reviews/sec):2226. #Correct:699 #Tested:812 Testing Accuracy:86.0%\rProgress:81.2% Speed(reviews/sec):2226. #Correct:700 #Tested:813 Testing Accuracy:86.1%\rProgress:81.3% Speed(reviews/sec):2227. #Correct:701 #Tested:814 Testing Accuracy:86.1%\rProgress:81.4% Speed(reviews/sec):2225. #Correct:702 #Tested:815 Testing Accuracy:86.1%\rProgress:81.5% Speed(reviews/sec):2225. #Correct:703 #Tested:816 Testing Accuracy:86.1%\rProgress:81.6% Speed(reviews/sec):2226. #Correct:704 #Tested:817 Testing Accuracy:86.1%\rProgress:81.7% Speed(reviews/sec):2226. #Correct:705 #Tested:818 Testing Accuracy:86.1%\rProgress:81.8% Speed(reviews/sec):2225. #Correct:706 #Tested:819 Testing Accuracy:86.2%\rProgress:81.9% Speed(reviews/sec):2227. #Correct:707 #Tested:820 Testing Accuracy:86.2%\rProgress:82.0% Speed(reviews/sec):2223. #Correct:708 #Tested:821 Testing Accuracy:86.2%\rProgress:82.1% Speed(reviews/sec):2223. #Correct:708 #Tested:822 Testing Accuracy:86.1%\rProgress:82.2% Speed(reviews/sec):2223. #Correct:708 #Tested:823 Testing Accuracy:86.0%\rProgress:82.3% Speed(reviews/sec):2222. #Correct:709 #Tested:824 Testing Accuracy:86.0%\rProgress:82.4% Speed(reviews/sec):2222. #Correct:710 #Tested:825 Testing Accuracy:86.0%\rProgress:82.5% Speed(reviews/sec):2222. #Correct:710 #Tested:826 Testing Accuracy:85.9%\rProgress:82.6% Speed(reviews/sec):2217. #Correct:711 #Tested:827 Testing Accuracy:85.9%\rProgress:82.7% Speed(reviews/sec):2218. #Correct:712 #Tested:828 Testing Accuracy:85.9%\rProgress:82.8% Speed(reviews/sec):2217. #Correct:713 #Tested:829 Testing Accuracy:86.0%\rProgress:82.9% Speed(reviews/sec):2217. #Correct:714 #Tested:830 Testing Accuracy:86.0%\rProgress:83.0% Speed(reviews/sec):2218. #Correct:715 #Tested:831 Testing Accuracy:86.0%\rProgress:83.1% Speed(reviews/sec):2219. #Correct:716 #Tested:832 Testing Accuracy:86.0%\rProgress:83.2% Speed(reviews/sec):2219. #Correct:717 #Tested:833 Testing Accuracy:86.0%\rProgress:83.3% Speed(reviews/sec):2220. #Correct:718 #Tested:834 Testing Accuracy:86.0%\rProgress:83.4% Speed(reviews/sec):2220. #Correct:719 #Tested:835 Testing Accuracy:86.1%\rProgress:83.5% Speed(reviews/sec):2220. #Correct:720 #Tested:836 Testing Accuracy:86.1%\rProgress:83.6% Speed(reviews/sec):2219. #Correct:721 #Tested:837 Testing Accuracy:86.1%\rProgress:83.7% Speed(reviews/sec):2214. #Correct:722 #Tested:838 Testing Accuracy:86.1%\rProgress:83.8% Speed(reviews/sec):2214. #Correct:722 #Tested:839 Testing Accuracy:86.0%\rProgress:83.9% Speed(reviews/sec):2215. #Correct:723 #Tested:840 Testing Accuracy:86.0%\rProgress:84.0% Speed(reviews/sec):2216. #Correct:724 #Tested:841 Testing Accuracy:86.0%\rProgress:84.1% Speed(reviews/sec):2217. #Correct:725 #Tested:842 Testing Accuracy:86.1%\rProgress:84.2% Speed(reviews/sec):2217. #Correct:726 #Tested:843 Testing Accuracy:86.1%\rProgress:84.3% Speed(reviews/sec):2218. #Correct:727 #Tested:844 Testing Accuracy:86.1%\rProgress:84.4% Speed(reviews/sec):2219. #Correct:728 #Tested:845 Testing Accuracy:86.1%\rProgress:84.5% Speed(reviews/sec):2220. #Correct:729 #Tested:846 Testing Accuracy:86.1%\rProgress:84.6% Speed(reviews/sec):2219. #Correct:730 #Tested:847 Testing Accuracy:86.1%\rProgress:84.7% Speed(reviews/sec):2220. #Correct:730 #Tested:848 Testing Accuracy:86.0%\rProgress:84.8% Speed(reviews/sec):2221. #Correct:731 #Tested:849 Testing Accuracy:86.1%\rProgress:84.9% Speed(reviews/sec):2219. #Correct:732 #Tested:850 Testing Accuracy:86.1%\rProgress:85.0% Speed(reviews/sec):2217. #Correct:733 #Tested:851 Testing Accuracy:86.1%\rProgress:85.1% Speed(reviews/sec):2217. #Correct:734 #Tested:852 Testing Accuracy:86.1%\rProgress:85.2% Speed(reviews/sec):2216. #Correct:735 #Tested:853 Testing Accuracy:86.1%\rProgress:85.3% Speed(reviews/sec):2216. #Correct:736 #Tested:854 Testing Accuracy:86.1%\rProgress:85.4% Speed(reviews/sec):2217. #Correct:737 #Tested:855 Testing Accuracy:86.1%\rProgress:85.5% Speed(reviews/sec):2217. #Correct:738 #Tested:856 Testing Accuracy:86.2%\rProgress:85.6% Speed(reviews/sec):2218. #Correct:739 #Tested:857 Testing Accuracy:86.2%\rProgress:85.7% Speed(reviews/sec):2217. #Correct:739 #Tested:858 Testing Accuracy:86.1%\rProgress:85.8% Speed(reviews/sec):2217. #Correct:740 #Tested:859 Testing Accuracy:86.1%\rProgress:85.9% Speed(reviews/sec):2217. #Correct:741 #Tested:860 Testing Accuracy:86.1%\rProgress:86.0% Speed(reviews/sec):2218. #Correct:742 #Tested:861 Testing Accuracy:86.1%\rProgress:86.1% Speed(reviews/sec):2218. #Correct:743 #Tested:862 Testing Accuracy:86.1%\rProgress:86.2% Speed(reviews/sec):2219. #Correct:744 #Tested:863 Testing Accuracy:86.2%\rProgress:86.3% Speed(reviews/sec):2214. #Correct:745 #Tested:864 Testing Accuracy:86.2%\rProgress:86.4% Speed(reviews/sec):2215. #Correct:746 #Tested:865 Testing Accuracy:86.2%\rProgress:86.5% Speed(reviews/sec):2216. #Correct:747 #Tested:866 Testing Accuracy:86.2%\rProgress:86.6% Speed(reviews/sec):2216. #Correct:748 #Tested:867 Testing Accuracy:86.2%\rProgress:86.7% Speed(reviews/sec):2218. #Correct:749 #Tested:868 Testing Accuracy:86.2%\rProgress:86.8% Speed(reviews/sec):2215. #Correct:750 #Tested:869 Testing Accuracy:86.3%\rProgress:86.9% Speed(reviews/sec):2216. #Correct:751 #Tested:870 Testing Accuracy:86.3%\rProgress:87.0% Speed(reviews/sec):2217. #Correct:752 #Tested:871 Testing Accuracy:86.3%\rProgress:87.1% Speed(reviews/sec):2217. #Correct:753 #Tested:872 Testing Accuracy:86.3%\rProgress:87.2% Speed(reviews/sec):2217. #Correct:754 #Tested:873 Testing Accuracy:86.3%\rProgress:87.3% Speed(reviews/sec):2219. #Correct:755 #Tested:874 Testing Accuracy:86.3%\rProgress:87.4% Speed(reviews/sec):2219. #Correct:756 #Tested:875 Testing Accuracy:86.4%\rProgress:87.5% Speed(reviews/sec):2221. #Correct:757 #Tested:876 Testing Accuracy:86.4%\rProgress:87.6% Speed(reviews/sec):2222. #Correct:757 #Tested:877 Testing Accuracy:86.3%\rProgress:87.7% Speed(reviews/sec):2217. #Correct:757 #Tested:878 Testing Accuracy:86.2%\rProgress:87.8% Speed(reviews/sec):2218. #Correct:758 #Tested:879 Testing Accuracy:86.2%\rProgress:87.9% Speed(reviews/sec):2219. #Correct:759 #Tested:880 Testing Accuracy:86.2%\rProgress:88.0% Speed(reviews/sec):2219. #Correct:760 #Tested:881 Testing Accuracy:86.2%\rProgress:88.1% Speed(reviews/sec):2221. #Correct:761 #Tested:882 Testing Accuracy:86.2%\rProgress:88.2% Speed(reviews/sec):2221. #Correct:762 #Tested:883 Testing Accuracy:86.2%\rProgress:88.3% Speed(reviews/sec):2222. #Correct:763 #Tested:884 Testing Accuracy:86.3%\rProgress:88.4% Speed(reviews/sec):2223. #Correct:764 #Tested:885 Testing Accuracy:86.3%\rProgress:88.5% Speed(reviews/sec):2224. #Correct:765 #Tested:886 Testing Accuracy:86.3%\rProgress:88.6% Speed(reviews/sec):2225. #Correct:766 #Tested:887 Testing Accuracy:86.3%\rProgress:88.7% Speed(reviews/sec):2225. #Correct:767 #Tested:888 Testing Accuracy:86.3%\rProgress:88.8% Speed(reviews/sec):2226. #Correct:767 #Tested:889 Testing Accuracy:86.2%\rProgress:88.9% Speed(reviews/sec):2225. #Correct:767 #Tested:890 Testing Accuracy:86.1%\rProgress:89.0% Speed(reviews/sec):2226. #Correct:768 #Tested:891 Testing Accuracy:86.1%\rProgress:89.1% Speed(reviews/sec):2225. #Correct:769 #Tested:892 Testing Accuracy:86.2%\rProgress:89.2% Speed(reviews/sec):2227. #Correct:770 #Tested:893 Testing Accuracy:86.2%\rProgress:89.3% Speed(reviews/sec):2228. #Correct:771 #Tested:894 Testing Accuracy:86.2%\rProgress:89.4% Speed(reviews/sec):2229. #Correct:772 #Tested:895 Testing Accuracy:86.2%\rProgress:89.5% Speed(reviews/sec):2230. #Correct:773 #Tested:896 Testing Accuracy:86.2%\rProgress:89.6% Speed(reviews/sec):2231. #Correct:774 #Tested:897 Testing Accuracy:86.2%\rProgress:89.7% Speed(reviews/sec):2231. #Correct:775 #Tested:898 Testing Accuracy:86.3%\rProgress:89.8% Speed(reviews/sec):2228. #Correct:776 #Tested:899 Testing Accuracy:86.3%\rProgress:89.9% Speed(reviews/sec):2229. #Correct:777 #Tested:900 Testing Accuracy:86.3%\rProgress:90.0% Speed(reviews/sec):2229. #Correct:777 #Tested:901 Testing Accuracy:86.2%\rProgress:90.1% Speed(reviews/sec):2227. #Correct:778 #Tested:902 Testing Accuracy:86.2%\rProgress:90.2% Speed(reviews/sec):2227. #Correct:779 #Tested:903 Testing Accuracy:86.2%\rProgress:90.3% Speed(reviews/sec):2227. #Correct:780 #Tested:904 Testing Accuracy:86.2%\rProgress:90.4% Speed(reviews/sec):2228. #Correct:781 #Tested:905 Testing Accuracy:86.2%\rProgress:90.5% Speed(reviews/sec):2229. #Correct:782 #Tested:906 Testing Accuracy:86.3%\rProgress:90.6% Speed(reviews/sec):2230. #Correct:783 #Tested:907 Testing Accuracy:86.3%\rProgress:90.7% Speed(reviews/sec):2230. #Correct:784 #Tested:908 Testing Accuracy:86.3%\rProgress:90.8% Speed(reviews/sec):2230. #Correct:785 #Tested:909 Testing Accuracy:86.3%\rProgress:90.9% Speed(reviews/sec):2231. #Correct:785 #Tested:910 Testing Accuracy:86.2%\rProgress:91.0% Speed(reviews/sec):2231. #Correct:786 #Tested:911 Testing Accuracy:86.2%\rProgress:91.1% Speed(reviews/sec):2231. #Correct:786 #Tested:912 Testing Accuracy:86.1%\rProgress:91.2% Speed(reviews/sec):2232. #Correct:787 #Tested:913 Testing Accuracy:86.1%\rProgress:91.3% Speed(reviews/sec):2230. #Correct:787 #Tested:914 Testing Accuracy:86.1%\rProgress:91.4% Speed(reviews/sec):2231. #Correct:788 #Tested:915 Testing Accuracy:86.1%\rProgress:91.5% Speed(reviews/sec):2231. #Correct:788 #Tested:916 Testing Accuracy:86.0%\rProgress:91.6% Speed(reviews/sec):2230. #Correct:788 #Tested:917 Testing Accuracy:85.9%\rProgress:91.7% Speed(reviews/sec):2231. #Correct:789 #Tested:918 Testing Accuracy:85.9%\rProgress:91.8% Speed(reviews/sec):2231. #Correct:790 #Tested:919 Testing Accuracy:85.9%\rProgress:91.9% Speed(reviews/sec):2231. #Correct:791 #Tested:920 Testing Accuracy:85.9%\rProgress:92.0% Speed(reviews/sec):2231. #Correct:791 #Tested:921 Testing Accuracy:85.8%\rProgress:92.1% Speed(reviews/sec):2232. #Correct:792 #Tested:922 Testing Accuracy:85.9%\rProgress:92.2% Speed(reviews/sec):2232. #Correct:793 #Tested:923 Testing Accuracy:85.9%\rProgress:92.3% Speed(reviews/sec):2233. #Correct:793 #Tested:924 Testing Accuracy:85.8%\rProgress:92.4% Speed(reviews/sec):2234. #Correct:794 #Tested:925 Testing Accuracy:85.8%\rProgress:92.5% Speed(reviews/sec):2235. #Correct:795 #Tested:926 Testing Accuracy:85.8%\rProgress:92.6% Speed(reviews/sec):2235. #Correct:796 #Tested:927 Testing Accuracy:85.8%\rProgress:92.7% Speed(reviews/sec):2236. #Correct:797 #Tested:928 Testing Accuracy:85.8%\rProgress:92.8% Speed(reviews/sec):2237. #Correct:798 #Tested:929 Testing Accuracy:85.8%\rProgress:92.9% Speed(reviews/sec):2237. #Correct:799 #Tested:930 Testing Accuracy:85.9%\rProgress:93.0% Speed(reviews/sec):2239. #Correct:800 #Tested:931 Testing Accuracy:85.9%\rProgress:93.1% Speed(reviews/sec):2237. #Correct:800 #Tested:932 Testing Accuracy:85.8%\rProgress:93.2% Speed(reviews/sec):2238. #Correct:801 #Tested:933 Testing Accuracy:85.8%\rProgress:93.3% Speed(reviews/sec):2237. #Correct:802 #Tested:934 Testing Accuracy:85.8%\rProgress:93.4% Speed(reviews/sec):2237. #Correct:803 #Tested:935 Testing Accuracy:85.8%\rProgress:93.5% Speed(reviews/sec):2238. #Correct:804 #Tested:936 Testing Accuracy:85.8%\rProgress:93.6% Speed(reviews/sec):2239. #Correct:804 #Tested:937 Testing Accuracy:85.8%\rProgress:93.7% Speed(reviews/sec):2240. #Correct:805 #Tested:938 Testing Accuracy:85.8%\rProgress:93.8% Speed(reviews/sec):2240. #Correct:805 #Tested:939 Testing Accuracy:85.7%\rProgress:93.9% Speed(reviews/sec):2242. #Correct:806 #Tested:940 Testing Accuracy:85.7%\rProgress:94.0% Speed(reviews/sec):2243. #Correct:807 #Tested:941 Testing Accuracy:85.7%\rProgress:94.1% Speed(reviews/sec):2243. #Correct:807 #Tested:942 Testing Accuracy:85.6%\rProgress:94.2% Speed(reviews/sec):2244. #Correct:808 #Tested:943 Testing Accuracy:85.6%\rProgress:94.3% Speed(reviews/sec):2245. #Correct:809 #Tested:944 Testing Accuracy:85.6%\rProgress:94.4% Speed(reviews/sec):2243. #Correct:810 #Tested:945 Testing Accuracy:85.7%\rProgress:94.5% Speed(reviews/sec):2243. #Correct:810 #Tested:946 Testing Accuracy:85.6%\rProgress:94.6% Speed(reviews/sec):2244. #Correct:811 #Tested:947 Testing Accuracy:85.6%\rProgress:94.7% Speed(reviews/sec):2244. #Correct:812 #Tested:948 Testing Accuracy:85.6%\rProgress:94.8% Speed(reviews/sec):2245. #Correct:812 #Tested:949 Testing Accuracy:85.5%\rProgress:94.9% Speed(reviews/sec):2246. #Correct:813 #Tested:950 Testing Accuracy:85.5%\rProgress:95.0% Speed(reviews/sec):2247. #Correct:814 #Tested:951 Testing Accuracy:85.5%\rProgress:95.1% Speed(reviews/sec):2245. #Correct:815 #Tested:952 Testing Accuracy:85.6%\rProgress:95.2% Speed(reviews/sec):2245. #Correct:816 #Tested:953 Testing Accuracy:85.6%\rProgress:95.3% Speed(reviews/sec):2236. #Correct:817 #Tested:954 Testing Accuracy:85.6%\rProgress:95.4% Speed(reviews/sec):2233. #Correct:818 #Tested:955 Testing Accuracy:85.6%\rProgress:95.5% Speed(reviews/sec):2234. #Correct:819 #Tested:956 Testing Accuracy:85.6%\rProgress:95.6% Speed(reviews/sec):2235. #Correct:820 #Tested:957 Testing Accuracy:85.6%\rProgress:95.7% Speed(reviews/sec):2236. #Correct:821 #Tested:958 Testing Accuracy:85.6%\rProgress:95.8% Speed(reviews/sec):2237. #Correct:822 #Tested:959 Testing Accuracy:85.7%\rProgress:95.9% Speed(reviews/sec):2238. #Correct:822 #Tested:960 Testing Accuracy:85.6%\rProgress:96.0% Speed(reviews/sec):2237. #Correct:823 #Tested:961 Testing Accuracy:85.6%\rProgress:96.1% Speed(reviews/sec):2238. #Correct:824 #Tested:962 Testing Accuracy:85.6%\rProgress:96.2% Speed(reviews/sec):2239. #Correct:825 #Tested:963 Testing Accuracy:85.6%\rProgress:96.3% Speed(reviews/sec):2240. #Correct:826 #Tested:964 Testing Accuracy:85.6%\rProgress:96.4% Speed(reviews/sec):2240. #Correct:827 #Tested:965 Testing Accuracy:85.6%\rProgress:96.5% Speed(reviews/sec):2241. #Correct:828 #Tested:966 Testing Accuracy:85.7%\rProgress:96.6% Speed(reviews/sec):2242. #Correct:829 #Tested:967 Testing Accuracy:85.7%\rProgress:96.7% Speed(reviews/sec):2243. #Correct:830 #Tested:968 Testing Accuracy:85.7%\rProgress:96.8% Speed(reviews/sec):2244. #Correct:831 #Tested:969 Testing Accuracy:85.7%\rProgress:96.9% Speed(reviews/sec):2245. #Correct:832 #Tested:970 Testing Accuracy:85.7%\rProgress:97.0% Speed(reviews/sec):2244. #Correct:833 #Tested:971 Testing Accuracy:85.7%\rProgress:97.1% Speed(reviews/sec):2245. #Correct:834 #Tested:972 Testing Accuracy:85.8%\rProgress:97.2% Speed(reviews/sec):2246. #Correct:835 #Tested:973 Testing Accuracy:85.8%\rProgress:97.3% Speed(reviews/sec):2245. #Correct:836 #Tested:974 Testing Accuracy:85.8%\rProgress:97.4% Speed(reviews/sec):2245. #Correct:837 #Tested:975 Testing Accuracy:85.8%\rProgress:97.5% Speed(reviews/sec):2245. #Correct:838 #Tested:976 Testing Accuracy:85.8%\rProgress:97.6% Speed(reviews/sec):2246. #Correct:839 #Tested:977 Testing Accuracy:85.8%\rProgress:97.7% Speed(reviews/sec):2244. #Correct:839 #Tested:978 Testing Accuracy:85.7%\rProgress:97.8% Speed(reviews/sec):2245. #Correct:840 #Tested:979 Testing Accuracy:85.8%\rProgress:97.9% Speed(reviews/sec):2245. #Correct:841 #Tested:980 Testing Accuracy:85.8%\rProgress:98.0% Speed(reviews/sec):2246. #Correct:842 #Tested:981 Testing Accuracy:85.8%\rProgress:98.1% Speed(reviews/sec):2243. #Correct:843 #Tested:982 Testing Accuracy:85.8%\rProgress:98.2% Speed(reviews/sec):2243. #Correct:844 #Tested:983 Testing Accuracy:85.8%\rProgress:98.3% Speed(reviews/sec):2241. #Correct:845 #Tested:984 Testing Accuracy:85.8%\rProgress:98.4% Speed(reviews/sec):2242. #Correct:846 #Tested:985 Testing Accuracy:85.8%\rProgress:98.5% Speed(reviews/sec):2243. #Correct:847 #Tested:986 Testing Accuracy:85.9%\rProgress:98.6% Speed(reviews/sec):2244. #Correct:848 #Tested:987 Testing Accuracy:85.9%\rProgress:98.7% Speed(reviews/sec):2244. #Correct:849 #Tested:988 Testing Accuracy:85.9%\rProgress:98.8% Speed(reviews/sec):2244. #Correct:850 #Tested:989 Testing Accuracy:85.9%\rProgress:98.9% Speed(reviews/sec):2244. #Correct:851 #Tested:990 Testing Accuracy:85.9%\rProgress:99.0% Speed(reviews/sec):2245. #Correct:852 #Tested:991 Testing Accuracy:85.9%\rProgress:99.1% Speed(reviews/sec):2244. #Correct:852 #Tested:992 Testing Accuracy:85.8%\rProgress:99.2% Speed(reviews/sec):2246. #Correct:853 #Tested:993 Testing Accuracy:85.9%\rProgress:99.3% Speed(reviews/sec):2246. #Correct:854 #Tested:994 Testing Accuracy:85.9%\rProgress:99.4% Speed(reviews/sec):2245. #Correct:855 #Tested:995 Testing Accuracy:85.9%\rProgress:99.5% Speed(reviews/sec):2245. #Correct:856 #Tested:996 Testing Accuracy:85.9%\rProgress:99.6% Speed(reviews/sec):2245. #Correct:857 #Tested:997 Testing Accuracy:85.9%\rProgress:99.7% Speed(reviews/sec):2245. #Correct:858 #Tested:998 Testing Accuracy:85.9%\rProgress:99.8% Speed(reviews/sec):2245. #Correct:859 #Tested:999 Testing Accuracy:85.9%\rProgress:99.9% Speed(reviews/sec):2246. #Correct:860 #Tested:1000 Testing Accuracy:86.0%"
          ],
          "name": "stdout"
        }
      ]
    },
    {
      "cell_type": "markdown",
      "metadata": {
        "id": "81c5ceg4Pqj4",
        "colab_type": "text"
      },
      "source": [
        "# End of Project 5 solution. \n",
        "## Watch the next video to continue with Andrew's next lesson.\n",
        "# Further Noise Reduction<a id='lesson_6'></a>\n",
        "\n",
        "<img src='https://raw.githubusercontent.com/udacity/deep-learning-v2-pytorch/master/sentiment-analysis-network/sentiment_network_sparse_2.png'>"
      ]
    },
    {
      "cell_type": "code",
      "metadata": {
        "id": "deCueLATPqj7",
        "colab_type": "code",
        "outputId": "e8cb6818-e857-41a8-ac3c-987a38f83ffb",
        "colab": {
          "base_uri": "https://localhost:8080/",
          "height": 191
        }
      },
      "source": [
        "# words most frequently seen in a review with a \"POSITIVE\" label\n",
        "pos_neg_ratios.most_common()[:10]"
      ],
      "execution_count": 62,
      "outputs": [
        {
          "output_type": "execute_result",
          "data": {
            "text/plain": [
              "[('edie', 4.6913478822291435),\n",
              " ('paulie', 4.07753744390572),\n",
              " ('felix', 3.152736022363656),\n",
              " ('polanski', 2.8233610476132043),\n",
              " ('matthau', 2.80672172860924),\n",
              " ('victoria', 2.681021528714291),\n",
              " ('mildred', 2.6026896854443837),\n",
              " ('gandhi', 2.538973871058276),\n",
              " ('flawless', 2.451005098112319),\n",
              " ('superbly', 2.26002547857525)]"
            ]
          },
          "metadata": {
            "tags": []
          },
          "execution_count": 62
        }
      ]
    },
    {
      "cell_type": "code",
      "metadata": {
        "id": "oR6iJJnTPqj9",
        "colab_type": "code",
        "outputId": "a697653b-5d46-4551-a44b-0217bdee7c81",
        "colab": {
          "base_uri": "https://localhost:8080/",
          "height": 191
        }
      },
      "source": [
        "# words most frequently seen in a review with a \"NEGATIVE\" label\n",
        "list(reversed(pos_neg_ratios.most_common()))[0:10]"
      ],
      "execution_count": 63,
      "outputs": [
        {
          "output_type": "execute_result",
          "data": {
            "text/plain": [
              "[('boll', -4.969813299576001),\n",
              " ('uwe', -4.624972813284271),\n",
              " ('seagal', -3.644143560272545),\n",
              " ('unwatchable', -3.258096538021482),\n",
              " ('stinker', -3.2088254890146994),\n",
              " ('mst', -2.9502698994772336),\n",
              " ('incoherent', -2.9368917735310576),\n",
              " ('unfunny', -2.6922395950755678),\n",
              " ('waste', -2.6193845640165536),\n",
              " ('blah', -2.5704288232261625)]"
            ]
          },
          "metadata": {
            "tags": []
          },
          "execution_count": 63
        }
      ]
    },
    {
      "cell_type": "code",
      "metadata": {
        "id": "fqSNzX3KPqj_",
        "colab_type": "code",
        "colab": {}
      },
      "source": [
        "from bokeh.models import ColumnDataSource, LabelSet\n",
        "from bokeh.plotting import figure, show, output_file\n",
        "from bokeh.io import output_notebook\n",
        "output_notebook()"
      ],
      "execution_count": 0,
      "outputs": []
    },
    {
      "cell_type": "code",
      "metadata": {
        "id": "K6o_WbIEPqkB",
        "colab_type": "code",
        "outputId": "fcbc3d6d-1b49-4e6f-ff37-a7d27c44a29c",
        "colab": {
          "base_uri": "https://localhost:8080/",
          "height": 672
        }
      },
      "source": [
        "hist, edges = np.histogram(list(map(lambda x:x[1], pos_neg_ratios.most_common())), density=True, bins=100, normed=True)\n",
        "\n",
        "p = figure(tools=\"pan,wheel_zoom, reset, save\",\n",
        "           toolbar_location=\"above\",\n",
        "           title=\"Word Positive/Negative Affinity Distribution\")\n",
        "p.quad(top=hist, bottom=0, left=edges[:-1], right=edges[1:], line_color=\"#555555\")\n",
        "show(p)"
      ],
      "execution_count": 65,
      "outputs": [
        {
          "output_type": "stream",
          "text": [
            "/usr/local/lib/python3.6/dist-packages/ipykernel_launcher.py:1: DeprecationWarning: The normed argument is ignored when density is provided. In future passing both will result in an error.\n",
            "  \"\"\"Entry point for launching an IPython kernel.\n"
          ],
          "name": "stderr"
        },
        {
          "output_type": "display_data",
          "data": {
            "application/javascript": [
              "\n",
              "(function(root) {\n",
              "  function now() {\n",
              "    return new Date();\n",
              "  }\n",
              "\n",
              "  var force = true;\n",
              "\n",
              "  if (typeof root._bokeh_onload_callbacks === \"undefined\" || force === true) {\n",
              "    root._bokeh_onload_callbacks = [];\n",
              "    root._bokeh_is_loading = undefined;\n",
              "  }\n",
              "\n",
              "  var JS_MIME_TYPE = 'application/javascript';\n",
              "  var HTML_MIME_TYPE = 'text/html';\n",
              "  var EXEC_MIME_TYPE = 'application/vnd.bokehjs_exec.v0+json';\n",
              "  var CLASS_NAME = 'output_bokeh rendered_html';\n",
              "\n",
              "  /**\n",
              "   * Render data to the DOM node\n",
              "   */\n",
              "  function render(props, node) {\n",
              "    var script = document.createElement(\"script\");\n",
              "    node.appendChild(script);\n",
              "  }\n",
              "\n",
              "  /**\n",
              "   * Handle when an output is cleared or removed\n",
              "   */\n",
              "  function handleClearOutput(event, handle) {\n",
              "    var cell = handle.cell;\n",
              "\n",
              "    var id = cell.output_area._bokeh_element_id;\n",
              "    var server_id = cell.output_area._bokeh_server_id;\n",
              "    // Clean up Bokeh references\n",
              "    if (id != null && id in Bokeh.index) {\n",
              "      Bokeh.index[id].model.document.clear();\n",
              "      delete Bokeh.index[id];\n",
              "    }\n",
              "\n",
              "    if (server_id !== undefined) {\n",
              "      // Clean up Bokeh references\n",
              "      var cmd = \"from bokeh.io.state import curstate; print(curstate().uuid_to_server['\" + server_id + \"'].get_sessions()[0].document.roots[0]._id)\";\n",
              "      cell.notebook.kernel.execute(cmd, {\n",
              "        iopub: {\n",
              "          output: function(msg) {\n",
              "            var id = msg.content.text.trim();\n",
              "            if (id in Bokeh.index) {\n",
              "              Bokeh.index[id].model.document.clear();\n",
              "              delete Bokeh.index[id];\n",
              "            }\n",
              "          }\n",
              "        }\n",
              "      });\n",
              "      // Destroy server and session\n",
              "      var cmd = \"import bokeh.io.notebook as ion; ion.destroy_server('\" + server_id + \"')\";\n",
              "      cell.notebook.kernel.execute(cmd);\n",
              "    }\n",
              "  }\n",
              "\n",
              "  /**\n",
              "   * Handle when a new output is added\n",
              "   */\n",
              "  function handleAddOutput(event, handle) {\n",
              "    var output_area = handle.output_area;\n",
              "    var output = handle.output;\n",
              "\n",
              "    // limit handleAddOutput to display_data with EXEC_MIME_TYPE content only\n",
              "    if ((output.output_type != \"display_data\") || (!output.data.hasOwnProperty(EXEC_MIME_TYPE))) {\n",
              "      return\n",
              "    }\n",
              "\n",
              "    var toinsert = output_area.element.find(\".\" + CLASS_NAME.split(' ')[0]);\n",
              "\n",
              "    if (output.metadata[EXEC_MIME_TYPE][\"id\"] !== undefined) {\n",
              "      toinsert[toinsert.length - 1].firstChild.textContent = output.data[JS_MIME_TYPE];\n",
              "      // store reference to embed id on output_area\n",
              "      output_area._bokeh_element_id = output.metadata[EXEC_MIME_TYPE][\"id\"];\n",
              "    }\n",
              "    if (output.metadata[EXEC_MIME_TYPE][\"server_id\"] !== undefined) {\n",
              "      var bk_div = document.createElement(\"div\");\n",
              "      bk_div.innerHTML = output.data[HTML_MIME_TYPE];\n",
              "      var script_attrs = bk_div.children[0].attributes;\n",
              "      for (var i = 0; i < script_attrs.length; i++) {\n",
              "        toinsert[toinsert.length - 1].firstChild.setAttribute(script_attrs[i].name, script_attrs[i].value);\n",
              "      }\n",
              "      // store reference to server id on output_area\n",
              "      output_area._bokeh_server_id = output.metadata[EXEC_MIME_TYPE][\"server_id\"];\n",
              "    }\n",
              "  }\n",
              "\n",
              "  function register_renderer(events, OutputArea) {\n",
              "\n",
              "    function append_mime(data, metadata, element) {\n",
              "      // create a DOM node to render to\n",
              "      var toinsert = this.create_output_subarea(\n",
              "        metadata,\n",
              "        CLASS_NAME,\n",
              "        EXEC_MIME_TYPE\n",
              "      );\n",
              "      this.keyboard_manager.register_events(toinsert);\n",
              "      // Render to node\n",
              "      var props = {data: data, metadata: metadata[EXEC_MIME_TYPE]};\n",
              "      render(props, toinsert[toinsert.length - 1]);\n",
              "      element.append(toinsert);\n",
              "      return toinsert\n",
              "    }\n",
              "\n",
              "    /* Handle when an output is cleared or removed */\n",
              "    events.on('clear_output.CodeCell', handleClearOutput);\n",
              "    events.on('delete.Cell', handleClearOutput);\n",
              "\n",
              "    /* Handle when a new output is added */\n",
              "    events.on('output_added.OutputArea', handleAddOutput);\n",
              "\n",
              "    /**\n",
              "     * Register the mime type and append_mime function with output_area\n",
              "     */\n",
              "    OutputArea.prototype.register_mime_type(EXEC_MIME_TYPE, append_mime, {\n",
              "      /* Is output safe? */\n",
              "      safe: true,\n",
              "      /* Index of renderer in `output_area.display_order` */\n",
              "      index: 0\n",
              "    });\n",
              "  }\n",
              "\n",
              "  // register the mime type if in Jupyter Notebook environment and previously unregistered\n",
              "  if (root.Jupyter !== undefined) {\n",
              "    var events = require('base/js/events');\n",
              "    var OutputArea = require('notebook/js/outputarea').OutputArea;\n",
              "\n",
              "    if (OutputArea.prototype.mime_types().indexOf(EXEC_MIME_TYPE) == -1) {\n",
              "      register_renderer(events, OutputArea);\n",
              "    }\n",
              "  }\n",
              "\n",
              "  \n",
              "  if (typeof (root._bokeh_timeout) === \"undefined\" || force === true) {\n",
              "    root._bokeh_timeout = Date.now() + 5000;\n",
              "    root._bokeh_failed_load = false;\n",
              "  }\n",
              "\n",
              "  var NB_LOAD_WARNING = {'data': {'text/html':\n",
              "     \"<div style='background-color: #fdd'>\\n\"+\n",
              "     \"<p>\\n\"+\n",
              "     \"BokehJS does not appear to have successfully loaded. If loading BokehJS from CDN, this \\n\"+\n",
              "     \"may be due to a slow or bad network connection. Possible fixes:\\n\"+\n",
              "     \"</p>\\n\"+\n",
              "     \"<ul>\\n\"+\n",
              "     \"<li>re-rerun `output_notebook()` to attempt to load from CDN again, or</li>\\n\"+\n",
              "     \"<li>use INLINE resources instead, as so:</li>\\n\"+\n",
              "     \"</ul>\\n\"+\n",
              "     \"<code>\\n\"+\n",
              "     \"from bokeh.resources import INLINE\\n\"+\n",
              "     \"output_notebook(resources=INLINE)\\n\"+\n",
              "     \"</code>\\n\"+\n",
              "     \"</div>\"}};\n",
              "\n",
              "  function display_loaded() {\n",
              "    var el = document.getElementById(null);\n",
              "    if (el != null) {\n",
              "      el.textContent = \"BokehJS is loading...\";\n",
              "    }\n",
              "    if (root.Bokeh !== undefined) {\n",
              "      if (el != null) {\n",
              "        el.textContent = \"BokehJS \" + root.Bokeh.version + \" successfully loaded.\";\n",
              "      }\n",
              "    } else if (Date.now() < root._bokeh_timeout) {\n",
              "      setTimeout(display_loaded, 100)\n",
              "    }\n",
              "  }\n",
              "\n",
              "\n",
              "  function run_callbacks() {\n",
              "    try {\n",
              "      root._bokeh_onload_callbacks.forEach(function(callback) {\n",
              "        if (callback != null)\n",
              "          callback();\n",
              "      });\n",
              "    } finally {\n",
              "      delete root._bokeh_onload_callbacks\n",
              "    }\n",
              "    console.debug(\"Bokeh: all callbacks have finished\");\n",
              "  }\n",
              "\n",
              "  function load_libs(css_urls, js_urls, callback) {\n",
              "    if (css_urls == null) css_urls = [];\n",
              "    if (js_urls == null) js_urls = [];\n",
              "\n",
              "    root._bokeh_onload_callbacks.push(callback);\n",
              "    if (root._bokeh_is_loading > 0) {\n",
              "      console.debug(\"Bokeh: BokehJS is being loaded, scheduling callback at\", now());\n",
              "      return null;\n",
              "    }\n",
              "    if (js_urls == null || js_urls.length === 0) {\n",
              "      run_callbacks();\n",
              "      return null;\n",
              "    }\n",
              "    console.debug(\"Bokeh: BokehJS not loaded, scheduling load and callback at\", now());\n",
              "    root._bokeh_is_loading = css_urls.length + js_urls.length;\n",
              "\n",
              "    function on_load() {\n",
              "      root._bokeh_is_loading--;\n",
              "      if (root._bokeh_is_loading === 0) {\n",
              "        console.debug(\"Bokeh: all BokehJS libraries/stylesheets loaded\");\n",
              "        run_callbacks()\n",
              "      }\n",
              "    }\n",
              "\n",
              "    function on_error() {\n",
              "      console.error(\"failed to load \" + url);\n",
              "    }\n",
              "\n",
              "    for (var i = 0; i < css_urls.length; i++) {\n",
              "      var url = css_urls[i];\n",
              "      const element = document.createElement(\"link\");\n",
              "      element.onload = on_load;\n",
              "      element.onerror = on_error;\n",
              "      element.rel = \"stylesheet\";\n",
              "      element.type = \"text/css\";\n",
              "      element.href = url;\n",
              "      console.debug(\"Bokeh: injecting link tag for BokehJS stylesheet: \", url);\n",
              "      document.body.appendChild(element);\n",
              "    }\n",
              "\n",
              "    for (var i = 0; i < js_urls.length; i++) {\n",
              "      var url = js_urls[i];\n",
              "      var element = document.createElement('script');\n",
              "      element.onload = on_load;\n",
              "      element.onerror = on_error;\n",
              "      element.async = false;\n",
              "      element.src = url;\n",
              "      console.debug(\"Bokeh: injecting script tag for BokehJS library: \", url);\n",
              "      document.head.appendChild(element);\n",
              "    }\n",
              "  };\n",
              "\n",
              "  function inject_raw_css(css) {\n",
              "    const element = document.createElement(\"style\");\n",
              "    element.appendChild(document.createTextNode(css));\n",
              "    document.body.appendChild(element);\n",
              "  }\n",
              "\n",
              "  \n",
              "  var js_urls = [\"https://cdn.pydata.org/bokeh/release/bokeh-1.4.0.min.js\", \"https://cdn.pydata.org/bokeh/release/bokeh-widgets-1.4.0.min.js\", \"https://cdn.pydata.org/bokeh/release/bokeh-tables-1.4.0.min.js\", \"https://cdn.pydata.org/bokeh/release/bokeh-gl-1.4.0.min.js\"];\n",
              "  var css_urls = [];\n",
              "  \n",
              "\n",
              "  var inline_js = [\n",
              "    function(Bokeh) {\n",
              "      Bokeh.set_log_level(\"info\");\n",
              "    },\n",
              "    function(Bokeh) {\n",
              "    \n",
              "    \n",
              "    }\n",
              "  ];\n",
              "\n",
              "  function run_inline_js() {\n",
              "    \n",
              "    if (root.Bokeh !== undefined || force === true) {\n",
              "      \n",
              "    for (var i = 0; i < inline_js.length; i++) {\n",
              "      inline_js[i].call(root, root.Bokeh);\n",
              "    }\n",
              "    } else if (Date.now() < root._bokeh_timeout) {\n",
              "      setTimeout(run_inline_js, 100);\n",
              "    } else if (!root._bokeh_failed_load) {\n",
              "      console.log(\"Bokeh: BokehJS failed to load within specified timeout.\");\n",
              "      root._bokeh_failed_load = true;\n",
              "    } else if (force !== true) {\n",
              "      var cell = $(document.getElementById(null)).parents('.cell').data().cell;\n",
              "      cell.output_area.append_execute_result(NB_LOAD_WARNING)\n",
              "    }\n",
              "\n",
              "  }\n",
              "\n",
              "  if (root._bokeh_is_loading === 0) {\n",
              "    console.debug(\"Bokeh: BokehJS loaded, going straight to plotting\");\n",
              "    run_inline_js();\n",
              "  } else {\n",
              "    load_libs(css_urls, js_urls, function() {\n",
              "      console.debug(\"Bokeh: BokehJS plotting callback run at\", now());\n",
              "      run_inline_js();\n",
              "    });\n",
              "  }\n",
              "}(window));"
            ],
            "application/vnd.bokehjs_load.v0+json": "\n(function(root) {\n  function now() {\n    return new Date();\n  }\n\n  var force = true;\n\n  if (typeof root._bokeh_onload_callbacks === \"undefined\" || force === true) {\n    root._bokeh_onload_callbacks = [];\n    root._bokeh_is_loading = undefined;\n  }\n\n  \n\n  \n  if (typeof (root._bokeh_timeout) === \"undefined\" || force === true) {\n    root._bokeh_timeout = Date.now() + 5000;\n    root._bokeh_failed_load = false;\n  }\n\n  var NB_LOAD_WARNING = {'data': {'text/html':\n     \"<div style='background-color: #fdd'>\\n\"+\n     \"<p>\\n\"+\n     \"BokehJS does not appear to have successfully loaded. If loading BokehJS from CDN, this \\n\"+\n     \"may be due to a slow or bad network connection. Possible fixes:\\n\"+\n     \"</p>\\n\"+\n     \"<ul>\\n\"+\n     \"<li>re-rerun `output_notebook()` to attempt to load from CDN again, or</li>\\n\"+\n     \"<li>use INLINE resources instead, as so:</li>\\n\"+\n     \"</ul>\\n\"+\n     \"<code>\\n\"+\n     \"from bokeh.resources import INLINE\\n\"+\n     \"output_notebook(resources=INLINE)\\n\"+\n     \"</code>\\n\"+\n     \"</div>\"}};\n\n  function display_loaded() {\n    var el = document.getElementById(null);\n    if (el != null) {\n      el.textContent = \"BokehJS is loading...\";\n    }\n    if (root.Bokeh !== undefined) {\n      if (el != null) {\n        el.textContent = \"BokehJS \" + root.Bokeh.version + \" successfully loaded.\";\n      }\n    } else if (Date.now() < root._bokeh_timeout) {\n      setTimeout(display_loaded, 100)\n    }\n  }\n\n\n  function run_callbacks() {\n    try {\n      root._bokeh_onload_callbacks.forEach(function(callback) {\n        if (callback != null)\n          callback();\n      });\n    } finally {\n      delete root._bokeh_onload_callbacks\n    }\n    console.debug(\"Bokeh: all callbacks have finished\");\n  }\n\n  function load_libs(css_urls, js_urls, callback) {\n    if (css_urls == null) css_urls = [];\n    if (js_urls == null) js_urls = [];\n\n    root._bokeh_onload_callbacks.push(callback);\n    if (root._bokeh_is_loading > 0) {\n      console.debug(\"Bokeh: BokehJS is being loaded, scheduling callback at\", now());\n      return null;\n    }\n    if (js_urls == null || js_urls.length === 0) {\n      run_callbacks();\n      return null;\n    }\n    console.debug(\"Bokeh: BokehJS not loaded, scheduling load and callback at\", now());\n    root._bokeh_is_loading = css_urls.length + js_urls.length;\n\n    function on_load() {\n      root._bokeh_is_loading--;\n      if (root._bokeh_is_loading === 0) {\n        console.debug(\"Bokeh: all BokehJS libraries/stylesheets loaded\");\n        run_callbacks()\n      }\n    }\n\n    function on_error() {\n      console.error(\"failed to load \" + url);\n    }\n\n    for (var i = 0; i < css_urls.length; i++) {\n      var url = css_urls[i];\n      const element = document.createElement(\"link\");\n      element.onload = on_load;\n      element.onerror = on_error;\n      element.rel = \"stylesheet\";\n      element.type = \"text/css\";\n      element.href = url;\n      console.debug(\"Bokeh: injecting link tag for BokehJS stylesheet: \", url);\n      document.body.appendChild(element);\n    }\n\n    for (var i = 0; i < js_urls.length; i++) {\n      var url = js_urls[i];\n      var element = document.createElement('script');\n      element.onload = on_load;\n      element.onerror = on_error;\n      element.async = false;\n      element.src = url;\n      console.debug(\"Bokeh: injecting script tag for BokehJS library: \", url);\n      document.head.appendChild(element);\n    }\n  };\n\n  function inject_raw_css(css) {\n    const element = document.createElement(\"style\");\n    element.appendChild(document.createTextNode(css));\n    document.body.appendChild(element);\n  }\n\n  \n  var js_urls = [\"https://cdn.pydata.org/bokeh/release/bokeh-1.4.0.min.js\", \"https://cdn.pydata.org/bokeh/release/bokeh-widgets-1.4.0.min.js\", \"https://cdn.pydata.org/bokeh/release/bokeh-tables-1.4.0.min.js\", \"https://cdn.pydata.org/bokeh/release/bokeh-gl-1.4.0.min.js\"];\n  var css_urls = [];\n  \n\n  var inline_js = [\n    function(Bokeh) {\n      Bokeh.set_log_level(\"info\");\n    },\n    function(Bokeh) {\n    \n    \n    }\n  ];\n\n  function run_inline_js() {\n    \n    if (root.Bokeh !== undefined || force === true) {\n      \n    for (var i = 0; i < inline_js.length; i++) {\n      inline_js[i].call(root, root.Bokeh);\n    }\n    } else if (Date.now() < root._bokeh_timeout) {\n      setTimeout(run_inline_js, 100);\n    } else if (!root._bokeh_failed_load) {\n      console.log(\"Bokeh: BokehJS failed to load within specified timeout.\");\n      root._bokeh_failed_load = true;\n    } else if (force !== true) {\n      var cell = $(document.getElementById(null)).parents('.cell').data().cell;\n      cell.output_area.append_execute_result(NB_LOAD_WARNING)\n    }\n\n  }\n\n  if (root._bokeh_is_loading === 0) {\n    console.debug(\"Bokeh: BokehJS loaded, going straight to plotting\");\n    run_inline_js();\n  } else {\n    load_libs(css_urls, js_urls, function() {\n      console.debug(\"Bokeh: BokehJS plotting callback run at\", now());\n      run_inline_js();\n    });\n  }\n}(window));"
          },
          "metadata": {
            "tags": []
          }
        },
        {
          "output_type": "display_data",
          "data": {
            "text/html": [
              "\n",
              "\n",
              "\n",
              "\n",
              "\n",
              "\n",
              "  <div class=\"bk-root\" id=\"2c43042c-9303-4333-8b2d-e828b3079751\" data-root-id=\"1001\"></div>\n"
            ]
          },
          "metadata": {
            "tags": []
          }
        },
        {
          "output_type": "display_data",
          "data": {
            "application/javascript": [
              "(function(root) {\n",
              "  function embed_document(root) {\n",
              "    \n",
              "  var docs_json = {\"b3cf7ad9-226a-48cd-88d8-7acf58297e8a\":{\"roots\":{\"references\":[{\"attributes\":{\"below\":[{\"id\":\"1012\",\"type\":\"LinearAxis\"}],\"center\":[{\"id\":\"1016\",\"type\":\"Grid\"},{\"id\":\"1021\",\"type\":\"Grid\"}],\"left\":[{\"id\":\"1017\",\"type\":\"LinearAxis\"}],\"renderers\":[{\"id\":\"1034\",\"type\":\"GlyphRenderer\"}],\"title\":{\"id\":\"1002\",\"type\":\"Title\"},\"toolbar\":{\"id\":\"1026\",\"type\":\"Toolbar\"},\"toolbar_location\":\"above\",\"x_range\":{\"id\":\"1004\",\"type\":\"DataRange1d\"},\"x_scale\":{\"id\":\"1008\",\"type\":\"LinearScale\"},\"y_range\":{\"id\":\"1006\",\"type\":\"DataRange1d\"},\"y_scale\":{\"id\":\"1010\",\"type\":\"LinearScale\"}},\"id\":\"1001\",\"subtype\":\"Figure\",\"type\":\"Plot\"},{\"attributes\":{},\"id\":\"1022\",\"type\":\"PanTool\"},{\"attributes\":{},\"id\":\"1023\",\"type\":\"WheelZoomTool\"},{\"attributes\":{\"bottom\":{\"value\":0},\"fill_color\":{\"value\":\"#1f77b4\"},\"left\":{\"field\":\"left\"},\"line_color\":{\"value\":\"#555555\"},\"right\":{\"field\":\"right\"},\"top\":{\"field\":\"top\"}},\"id\":\"1032\",\"type\":\"Quad\"},{\"attributes\":{},\"id\":\"1024\",\"type\":\"ResetTool\"},{\"attributes\":{},\"id\":\"1025\",\"type\":\"SaveTool\"},{\"attributes\":{\"callback\":null,\"data\":{\"left\":{\"__ndarray__\":\"fZ7TvBbhE8D57U6VKH4TwHU9ym06GxPA8YxFRky4EsBu3MAeXlUSwOorPPdv8hHAZnu3z4GPEcDiyjKokywRwF4aroClyRDA2mkpWbdmEMBWuaQxyQMQwKURQBS2QQ/AnbA2xdl7DsCVTy12/bUNwI7uIych8AzAho0a2EQqDMB+LBGJaGQLwHbLBzqMngrAbmr+6q/YCcBnCfWb0xIJwF+o60z3TAjAV0fi/RqHB8BQ5tiuPsEGwEiFz19i+wXAQCTGEIY1BcA4w7zBqW8EwDBis3LNqQPAKQGqI/HjAsAhoKDUFB4CwBk/l4U4WAHAEt6NNlySAMAU+gjP/5j/vwQ49jBHDf6/9HXjko6B/L/ks9D01fX6v9bxvVYdavm/xi+ruGTe97+2bZgarFL2v6irhXzzxvS/mOly3jo787+IJ2BAgq/xv3hlTaLJI/C/0EZ1CCIw7b+wwk/MsBjqv5g+KpA/Aee/eLoEVM7p479YNt8XXdLgv3Bkc7fXddu/MFwoP/VG1b/gp7qNJTDOv2CXJJ1g0sG/gBs6sm7Spb+AJh4QpaSrPwCanTTuRsM/gKozJbOkzz+A3eQKPAHWP8DlL4MeMNw/AHe9fYAv4T8g++K58UbkP0B/CPZiXuc/WAMuMtR16j94h1NuRY3tP8yFPFVbUvA/3EdP8xPe8T/sCWKRzGnzP/zLdC+F9fQ/DI6HzT2B9j8cUJpr9gz4PywSrQmvmPk/ONS/p2ck+z9IltJFILD8P1hY5ePYO/4/aBr4gZHH/z88bgUQpakAQETPDl+BbwFATDAYrl01AkBSkSH9OfsCQFryKkwWwQNAYlM0m/KGBEBqtD3qzkwFQHIVRzmrEgZAenZQiIfYBkCC11nXY54HQIo4YyZAZAhAkplsdRwqCUCa+nXE+O8JQKJbfxPVtQpAqryIYrF7C0CuHZKxjUEMQLZ+mwBqBw1Avt+kT0bNDUDGQK6eIpMOQM6ht+3+WA9Aa4Fgnm0PEEDvMeXFW3IQQHPiae1J1RBA95LuFDg4EUB7Q3M8JpsRQP/z92MU/hFAg6R8iwJhEkA=\",\"dtype\":\"float64\",\"shape\":[100]},\"right\":{\"__ndarray__\":\"+e1OlSh+E8B1PcptOhsTwPGMRUZMuBLAbtzAHl5VEsDqKzz3b/IRwGZ7t8+BjxHA4soyqJMsEcBeGq6ApckQwNppKVm3ZhDAVrmkMckDEMClEUAUtkEPwJ2wNsXZew7AlU8tdv21DcCO7iMnIfAMwIaNGthEKgzAfiwRiWhkC8B2ywc6jJ4KwG5q/uqv2AnAZwn1m9MSCcBfqOtM90wIwFdH4v0ahwfAUObYrj7BBsBIhc9fYvsFwEAkxhCGNQXAOMO8walvBMAwYrNyzakDwCkBqiPx4wLAIaCg1BQeAsAZP5eFOFgBwBLejTZckgDAFPoIz/+Y/78EOPYwRw3+v/R145KOgfy/5LPQ9NX1+r/W8b1WHWr5v8Yvq7hk3ve/tm2YGqxS9r+oq4V888b0v5jpct46O/O/iCdgQIKv8b94ZU2iySPwv9BGdQgiMO2/sMJPzLAY6r+YPiqQPwHnv3i6BFTO6eO/WDbfF13S4L9wZHO313XbvzBcKD/1RtW/4Ke6jSUwzr9glySdYNLBv4AbOrJu0qW/gCYeEKWkqz8Amp007kbDP4CqMyWzpM8/gN3kCjwB1j/A5S+DHjDcPwB3vX2AL+E/IPviufFG5D9Afwj2Yl7nP1gDLjLUdeo/eIdTbkWN7T/MhTxVW1LwP9xHT/MT3vE/7Alikcxp8z/8y3QvhfX0PwyOh809gfY/HFCaa/YM+D8sEq0Jr5j5PzjUv6dnJPs/SJbSRSCw/D9YWOXj2Dv+P2ga+IGRx/8/PG4FEKWpAEBEzw5fgW8BQEwwGK5dNQJAUpEh/Tn7AkBa8ipMFsEDQGJTNJvyhgRAarQ96s5MBUByFUc5qxIGQHp2UIiH2AZAgtdZ12OeB0CKOGMmQGQIQJKZbHUcKglAmvp1xPjvCUCiW38T1bUKQKq8iGKxewtArh2SsY1BDEC2fpsAagcNQL7fpE9GzQ1AxkCuniKTDkDOobft/lgPQGuBYJ5tDxBA7zHlxVtyEEBz4mntSdUQQPeS7hQ4OBFAe0NzPCabEUD/8/djFP4RQIOkfIsCYRJABlUBs/DDEkA=\",\"dtype\":\"float64\",\"shape\":[100]},\"top\":{\"__ndarray__\":\"fU9HZ7zuYz8AAAAAAAAAAAAAAAAAAAAAsE9HZ7zuYz8AAAAAAAAAAAAAAAAAAAAAAAAAAAAAAAAAAAAAAAAAAAAAAAAAAAAAAAAAAAAAAAAAAAAAAAAAAAAAAAAAAAAAAAAAAAAAAACWT0dnvO5jPwAAAAAAAAAAAAAAAAAAAAAAAAAAAAAAAH1PR2e87mM/lk9HZ7zuYz8AAAAAAAAAAH1PR2e87mM/lk9HZ7zuYz8AAAAAAAAAAH1PR2e87mM/fU9HZ7zucz99T0dnvO5jP2L36poa5n0/fU9HZ7zugz9cIxmBa+qIP5ZPR2e87mM/O/fqmhrmjT9MDQIOQ2ibP1wjGYFr6og/bDkw9JNslj99IxmBa+qIP4Xa0qDQr6I/VJiNR1cpqj+JOTD0k2ymP0wNAg5DaKs/CaCYvVoQsj+NZV7a5HCxP+hzatcJDLc/RIJ21C6nvD/vbORYdz7EP4GfE8bp9sw/92EbmxsK0D+F2tKg0K/SP3fsId2+sdk/y4L7y5/A4T+G7oX42/HkP72USgiOwug/TA0CDkNo6z+qS38wgm7tP8YziZmtxek/6HNq1wkM5z9J5ZteLOTmP/d1zvImTOI/mkC2ciY62T90xLstqC3VPyBiG5sbCtA/dMS7LagtxT+6bORYdz7EP1SYjUdXKbo/CaCYvVoQsj90xLstqC21P31PR2e87qM/bDkw9JNspj9MDQIOQ2ibP8Dw6RP5MaA/fU9HZ7zukz879+qaGuaNP1wjGYFr6og/O/fqmhrmfT99T0dnvO5zP31PR2e87mM/AAAAAAAAAAB9T0dnvO5jP31PR2e87mM/fU9HZ7zuYz99T0dnvO5jP31PR2e87nM/AAAAAAAAAAAAAAAAAAAAAAAAAAAAAAAAfU9HZ7zuYz8AAAAAAAAAAAAAAAAAAAAAAAAAAAAAAAAAAAAAAAAAAAAAAAAAAAAAAAAAAAAAAAAAAAAAAAAAAAAAAAAAAAAAfU9HZ7zuYz8AAAAAAAAAAAAAAAAAAAAAAAAAAAAAAAAAAAAAAAAAAAAAAAAAAAAAsE9HZ7zuYz8=\",\"dtype\":\"float64\",\"shape\":[100]}},\"selected\":{\"id\":\"1042\",\"type\":\"Selection\"},\"selection_policy\":{\"id\":\"1041\",\"type\":\"UnionRenderers\"}},\"id\":\"1031\",\"type\":\"ColumnDataSource\"},{\"attributes\":{\"text\":\"Word Positive/Negative Affinity Distribution\"},\"id\":\"1002\",\"type\":\"Title\"},{\"attributes\":{\"active_drag\":\"auto\",\"active_inspect\":\"auto\",\"active_multi\":null,\"active_scroll\":\"auto\",\"active_tap\":\"auto\",\"tools\":[{\"id\":\"1022\",\"type\":\"PanTool\"},{\"id\":\"1023\",\"type\":\"WheelZoomTool\"},{\"id\":\"1024\",\"type\":\"ResetTool\"},{\"id\":\"1025\",\"type\":\"SaveTool\"}]},\"id\":\"1026\",\"type\":\"Toolbar\"},{\"attributes\":{\"bottom\":{\"value\":0},\"fill_alpha\":{\"value\":0.1},\"fill_color\":{\"value\":\"#1f77b4\"},\"left\":{\"field\":\"left\"},\"line_alpha\":{\"value\":0.1},\"line_color\":{\"value\":\"#1f77b4\"},\"right\":{\"field\":\"right\"},\"top\":{\"field\":\"top\"}},\"id\":\"1033\",\"type\":\"Quad\"},{\"attributes\":{\"data_source\":{\"id\":\"1031\",\"type\":\"ColumnDataSource\"},\"glyph\":{\"id\":\"1032\",\"type\":\"Quad\"},\"hover_glyph\":null,\"muted_glyph\":null,\"nonselection_glyph\":{\"id\":\"1033\",\"type\":\"Quad\"},\"selection_glyph\":null,\"view\":{\"id\":\"1035\",\"type\":\"CDSView\"}},\"id\":\"1034\",\"type\":\"GlyphRenderer\"},{\"attributes\":{\"source\":{\"id\":\"1031\",\"type\":\"ColumnDataSource\"}},\"id\":\"1035\",\"type\":\"CDSView\"},{\"attributes\":{\"callback\":null},\"id\":\"1004\",\"type\":\"DataRange1d\"},{\"attributes\":{},\"id\":\"1040\",\"type\":\"BasicTickFormatter\"},{\"attributes\":{\"callback\":null},\"id\":\"1006\",\"type\":\"DataRange1d\"},{\"attributes\":{},\"id\":\"1008\",\"type\":\"LinearScale\"},{\"attributes\":{},\"id\":\"1038\",\"type\":\"BasicTickFormatter\"},{\"attributes\":{},\"id\":\"1010\",\"type\":\"LinearScale\"},{\"attributes\":{},\"id\":\"1042\",\"type\":\"Selection\"},{\"attributes\":{\"formatter\":{\"id\":\"1038\",\"type\":\"BasicTickFormatter\"},\"ticker\":{\"id\":\"1013\",\"type\":\"BasicTicker\"}},\"id\":\"1012\",\"type\":\"LinearAxis\"},{\"attributes\":{},\"id\":\"1013\",\"type\":\"BasicTicker\"},{\"attributes\":{},\"id\":\"1041\",\"type\":\"UnionRenderers\"},{\"attributes\":{\"ticker\":{\"id\":\"1013\",\"type\":\"BasicTicker\"}},\"id\":\"1016\",\"type\":\"Grid\"},{\"attributes\":{\"formatter\":{\"id\":\"1040\",\"type\":\"BasicTickFormatter\"},\"ticker\":{\"id\":\"1018\",\"type\":\"BasicTicker\"}},\"id\":\"1017\",\"type\":\"LinearAxis\"},{\"attributes\":{},\"id\":\"1018\",\"type\":\"BasicTicker\"},{\"attributes\":{\"dimension\":1,\"ticker\":{\"id\":\"1018\",\"type\":\"BasicTicker\"}},\"id\":\"1021\",\"type\":\"Grid\"}],\"root_ids\":[\"1001\"]},\"title\":\"Bokeh Application\",\"version\":\"1.4.0\"}};\n",
              "  var render_items = [{\"docid\":\"b3cf7ad9-226a-48cd-88d8-7acf58297e8a\",\"roots\":{\"1001\":\"2c43042c-9303-4333-8b2d-e828b3079751\"}}];\n",
              "  root.Bokeh.embed.embed_items_notebook(docs_json, render_items);\n",
              "\n",
              "  }\n",
              "  if (root.Bokeh !== undefined) {\n",
              "    embed_document(root);\n",
              "  } else {\n",
              "    var attempts = 0;\n",
              "    var timer = setInterval(function(root) {\n",
              "      if (root.Bokeh !== undefined) {\n",
              "        clearInterval(timer);\n",
              "        embed_document(root);\n",
              "      } else {\n",
              "        attempts++;\n",
              "        if (attempts > 100) {\n",
              "          clearInterval(timer);\n",
              "          console.log(\"Bokeh: ERROR: Unable to run BokehJS code because BokehJS library is missing\");\n",
              "        }\n",
              "      }\n",
              "    }, 10, root)\n",
              "  }\n",
              "})(window);"
            ],
            "application/vnd.bokehjs_exec.v0+json": ""
          },
          "metadata": {
            "tags": [],
            "application/vnd.bokehjs_exec.v0+json": {
              "id": "1001"
            }
          }
        }
      ]
    },
    {
      "cell_type": "code",
      "metadata": {
        "id": "t58-OJfHPqkE",
        "colab_type": "code",
        "colab": {}
      },
      "source": [
        "frequency_frequency = Counter()\n",
        "\n",
        "for word, cnt in total_counts.most_common():\n",
        "    frequency_frequency[cnt] += 1"
      ],
      "execution_count": 0,
      "outputs": []
    },
    {
      "cell_type": "code",
      "metadata": {
        "id": "VCYwIVSqPqkG",
        "colab_type": "code",
        "outputId": "1cddf928-1340-404e-c8d2-f25028a1f7b3",
        "colab": {
          "base_uri": "https://localhost:8080/",
          "height": 672
        }
      },
      "source": [
        "hist, edges = np.histogram(list(map(lambda x:x[1], frequency_frequency.most_common())), density=True, bins=100, normed=True)\n",
        "\n",
        "p = figure(tools=\"pan, wheel_zoom, reset, save\",\n",
        "           toolbar_location=\"above\",\n",
        "           title=\"The frequency distribution of the words in our corpus\")\n",
        "p.quad(top=hist, bottom=0, left=edges[:-1], right=edges[1:], line_color=\"#555555\")\n",
        "show(p)"
      ],
      "execution_count": 67,
      "outputs": [
        {
          "output_type": "stream",
          "text": [
            "/usr/local/lib/python3.6/dist-packages/ipykernel_launcher.py:1: DeprecationWarning: The normed argument is ignored when density is provided. In future passing both will result in an error.\n",
            "  \"\"\"Entry point for launching an IPython kernel.\n"
          ],
          "name": "stderr"
        },
        {
          "output_type": "display_data",
          "data": {
            "application/javascript": [
              "\n",
              "(function(root) {\n",
              "  function now() {\n",
              "    return new Date();\n",
              "  }\n",
              "\n",
              "  var force = true;\n",
              "\n",
              "  if (typeof root._bokeh_onload_callbacks === \"undefined\" || force === true) {\n",
              "    root._bokeh_onload_callbacks = [];\n",
              "    root._bokeh_is_loading = undefined;\n",
              "  }\n",
              "\n",
              "  var JS_MIME_TYPE = 'application/javascript';\n",
              "  var HTML_MIME_TYPE = 'text/html';\n",
              "  var EXEC_MIME_TYPE = 'application/vnd.bokehjs_exec.v0+json';\n",
              "  var CLASS_NAME = 'output_bokeh rendered_html';\n",
              "\n",
              "  /**\n",
              "   * Render data to the DOM node\n",
              "   */\n",
              "  function render(props, node) {\n",
              "    var script = document.createElement(\"script\");\n",
              "    node.appendChild(script);\n",
              "  }\n",
              "\n",
              "  /**\n",
              "   * Handle when an output is cleared or removed\n",
              "   */\n",
              "  function handleClearOutput(event, handle) {\n",
              "    var cell = handle.cell;\n",
              "\n",
              "    var id = cell.output_area._bokeh_element_id;\n",
              "    var server_id = cell.output_area._bokeh_server_id;\n",
              "    // Clean up Bokeh references\n",
              "    if (id != null && id in Bokeh.index) {\n",
              "      Bokeh.index[id].model.document.clear();\n",
              "      delete Bokeh.index[id];\n",
              "    }\n",
              "\n",
              "    if (server_id !== undefined) {\n",
              "      // Clean up Bokeh references\n",
              "      var cmd = \"from bokeh.io.state import curstate; print(curstate().uuid_to_server['\" + server_id + \"'].get_sessions()[0].document.roots[0]._id)\";\n",
              "      cell.notebook.kernel.execute(cmd, {\n",
              "        iopub: {\n",
              "          output: function(msg) {\n",
              "            var id = msg.content.text.trim();\n",
              "            if (id in Bokeh.index) {\n",
              "              Bokeh.index[id].model.document.clear();\n",
              "              delete Bokeh.index[id];\n",
              "            }\n",
              "          }\n",
              "        }\n",
              "      });\n",
              "      // Destroy server and session\n",
              "      var cmd = \"import bokeh.io.notebook as ion; ion.destroy_server('\" + server_id + \"')\";\n",
              "      cell.notebook.kernel.execute(cmd);\n",
              "    }\n",
              "  }\n",
              "\n",
              "  /**\n",
              "   * Handle when a new output is added\n",
              "   */\n",
              "  function handleAddOutput(event, handle) {\n",
              "    var output_area = handle.output_area;\n",
              "    var output = handle.output;\n",
              "\n",
              "    // limit handleAddOutput to display_data with EXEC_MIME_TYPE content only\n",
              "    if ((output.output_type != \"display_data\") || (!output.data.hasOwnProperty(EXEC_MIME_TYPE))) {\n",
              "      return\n",
              "    }\n",
              "\n",
              "    var toinsert = output_area.element.find(\".\" + CLASS_NAME.split(' ')[0]);\n",
              "\n",
              "    if (output.metadata[EXEC_MIME_TYPE][\"id\"] !== undefined) {\n",
              "      toinsert[toinsert.length - 1].firstChild.textContent = output.data[JS_MIME_TYPE];\n",
              "      // store reference to embed id on output_area\n",
              "      output_area._bokeh_element_id = output.metadata[EXEC_MIME_TYPE][\"id\"];\n",
              "    }\n",
              "    if (output.metadata[EXEC_MIME_TYPE][\"server_id\"] !== undefined) {\n",
              "      var bk_div = document.createElement(\"div\");\n",
              "      bk_div.innerHTML = output.data[HTML_MIME_TYPE];\n",
              "      var script_attrs = bk_div.children[0].attributes;\n",
              "      for (var i = 0; i < script_attrs.length; i++) {\n",
              "        toinsert[toinsert.length - 1].firstChild.setAttribute(script_attrs[i].name, script_attrs[i].value);\n",
              "      }\n",
              "      // store reference to server id on output_area\n",
              "      output_area._bokeh_server_id = output.metadata[EXEC_MIME_TYPE][\"server_id\"];\n",
              "    }\n",
              "  }\n",
              "\n",
              "  function register_renderer(events, OutputArea) {\n",
              "\n",
              "    function append_mime(data, metadata, element) {\n",
              "      // create a DOM node to render to\n",
              "      var toinsert = this.create_output_subarea(\n",
              "        metadata,\n",
              "        CLASS_NAME,\n",
              "        EXEC_MIME_TYPE\n",
              "      );\n",
              "      this.keyboard_manager.register_events(toinsert);\n",
              "      // Render to node\n",
              "      var props = {data: data, metadata: metadata[EXEC_MIME_TYPE]};\n",
              "      render(props, toinsert[toinsert.length - 1]);\n",
              "      element.append(toinsert);\n",
              "      return toinsert\n",
              "    }\n",
              "\n",
              "    /* Handle when an output is cleared or removed */\n",
              "    events.on('clear_output.CodeCell', handleClearOutput);\n",
              "    events.on('delete.Cell', handleClearOutput);\n",
              "\n",
              "    /* Handle when a new output is added */\n",
              "    events.on('output_added.OutputArea', handleAddOutput);\n",
              "\n",
              "    /**\n",
              "     * Register the mime type and append_mime function with output_area\n",
              "     */\n",
              "    OutputArea.prototype.register_mime_type(EXEC_MIME_TYPE, append_mime, {\n",
              "      /* Is output safe? */\n",
              "      safe: true,\n",
              "      /* Index of renderer in `output_area.display_order` */\n",
              "      index: 0\n",
              "    });\n",
              "  }\n",
              "\n",
              "  // register the mime type if in Jupyter Notebook environment and previously unregistered\n",
              "  if (root.Jupyter !== undefined) {\n",
              "    var events = require('base/js/events');\n",
              "    var OutputArea = require('notebook/js/outputarea').OutputArea;\n",
              "\n",
              "    if (OutputArea.prototype.mime_types().indexOf(EXEC_MIME_TYPE) == -1) {\n",
              "      register_renderer(events, OutputArea);\n",
              "    }\n",
              "  }\n",
              "\n",
              "  \n",
              "  if (typeof (root._bokeh_timeout) === \"undefined\" || force === true) {\n",
              "    root._bokeh_timeout = Date.now() + 5000;\n",
              "    root._bokeh_failed_load = false;\n",
              "  }\n",
              "\n",
              "  var NB_LOAD_WARNING = {'data': {'text/html':\n",
              "     \"<div style='background-color: #fdd'>\\n\"+\n",
              "     \"<p>\\n\"+\n",
              "     \"BokehJS does not appear to have successfully loaded. If loading BokehJS from CDN, this \\n\"+\n",
              "     \"may be due to a slow or bad network connection. Possible fixes:\\n\"+\n",
              "     \"</p>\\n\"+\n",
              "     \"<ul>\\n\"+\n",
              "     \"<li>re-rerun `output_notebook()` to attempt to load from CDN again, or</li>\\n\"+\n",
              "     \"<li>use INLINE resources instead, as so:</li>\\n\"+\n",
              "     \"</ul>\\n\"+\n",
              "     \"<code>\\n\"+\n",
              "     \"from bokeh.resources import INLINE\\n\"+\n",
              "     \"output_notebook(resources=INLINE)\\n\"+\n",
              "     \"</code>\\n\"+\n",
              "     \"</div>\"}};\n",
              "\n",
              "  function display_loaded() {\n",
              "    var el = document.getElementById(null);\n",
              "    if (el != null) {\n",
              "      el.textContent = \"BokehJS is loading...\";\n",
              "    }\n",
              "    if (root.Bokeh !== undefined) {\n",
              "      if (el != null) {\n",
              "        el.textContent = \"BokehJS \" + root.Bokeh.version + \" successfully loaded.\";\n",
              "      }\n",
              "    } else if (Date.now() < root._bokeh_timeout) {\n",
              "      setTimeout(display_loaded, 100)\n",
              "    }\n",
              "  }\n",
              "\n",
              "\n",
              "  function run_callbacks() {\n",
              "    try {\n",
              "      root._bokeh_onload_callbacks.forEach(function(callback) {\n",
              "        if (callback != null)\n",
              "          callback();\n",
              "      });\n",
              "    } finally {\n",
              "      delete root._bokeh_onload_callbacks\n",
              "    }\n",
              "    console.debug(\"Bokeh: all callbacks have finished\");\n",
              "  }\n",
              "\n",
              "  function load_libs(css_urls, js_urls, callback) {\n",
              "    if (css_urls == null) css_urls = [];\n",
              "    if (js_urls == null) js_urls = [];\n",
              "\n",
              "    root._bokeh_onload_callbacks.push(callback);\n",
              "    if (root._bokeh_is_loading > 0) {\n",
              "      console.debug(\"Bokeh: BokehJS is being loaded, scheduling callback at\", now());\n",
              "      return null;\n",
              "    }\n",
              "    if (js_urls == null || js_urls.length === 0) {\n",
              "      run_callbacks();\n",
              "      return null;\n",
              "    }\n",
              "    console.debug(\"Bokeh: BokehJS not loaded, scheduling load and callback at\", now());\n",
              "    root._bokeh_is_loading = css_urls.length + js_urls.length;\n",
              "\n",
              "    function on_load() {\n",
              "      root._bokeh_is_loading--;\n",
              "      if (root._bokeh_is_loading === 0) {\n",
              "        console.debug(\"Bokeh: all BokehJS libraries/stylesheets loaded\");\n",
              "        run_callbacks()\n",
              "      }\n",
              "    }\n",
              "\n",
              "    function on_error() {\n",
              "      console.error(\"failed to load \" + url);\n",
              "    }\n",
              "\n",
              "    for (var i = 0; i < css_urls.length; i++) {\n",
              "      var url = css_urls[i];\n",
              "      const element = document.createElement(\"link\");\n",
              "      element.onload = on_load;\n",
              "      element.onerror = on_error;\n",
              "      element.rel = \"stylesheet\";\n",
              "      element.type = \"text/css\";\n",
              "      element.href = url;\n",
              "      console.debug(\"Bokeh: injecting link tag for BokehJS stylesheet: \", url);\n",
              "      document.body.appendChild(element);\n",
              "    }\n",
              "\n",
              "    for (var i = 0; i < js_urls.length; i++) {\n",
              "      var url = js_urls[i];\n",
              "      var element = document.createElement('script');\n",
              "      element.onload = on_load;\n",
              "      element.onerror = on_error;\n",
              "      element.async = false;\n",
              "      element.src = url;\n",
              "      console.debug(\"Bokeh: injecting script tag for BokehJS library: \", url);\n",
              "      document.head.appendChild(element);\n",
              "    }\n",
              "  };\n",
              "\n",
              "  function inject_raw_css(css) {\n",
              "    const element = document.createElement(\"style\");\n",
              "    element.appendChild(document.createTextNode(css));\n",
              "    document.body.appendChild(element);\n",
              "  }\n",
              "\n",
              "  \n",
              "  var js_urls = [\"https://cdn.pydata.org/bokeh/release/bokeh-1.4.0.min.js\", \"https://cdn.pydata.org/bokeh/release/bokeh-widgets-1.4.0.min.js\", \"https://cdn.pydata.org/bokeh/release/bokeh-tables-1.4.0.min.js\", \"https://cdn.pydata.org/bokeh/release/bokeh-gl-1.4.0.min.js\"];\n",
              "  var css_urls = [];\n",
              "  \n",
              "\n",
              "  var inline_js = [\n",
              "    function(Bokeh) {\n",
              "      Bokeh.set_log_level(\"info\");\n",
              "    },\n",
              "    function(Bokeh) {\n",
              "    \n",
              "    \n",
              "    }\n",
              "  ];\n",
              "\n",
              "  function run_inline_js() {\n",
              "    \n",
              "    if (root.Bokeh !== undefined || force === true) {\n",
              "      \n",
              "    for (var i = 0; i < inline_js.length; i++) {\n",
              "      inline_js[i].call(root, root.Bokeh);\n",
              "    }\n",
              "    } else if (Date.now() < root._bokeh_timeout) {\n",
              "      setTimeout(run_inline_js, 100);\n",
              "    } else if (!root._bokeh_failed_load) {\n",
              "      console.log(\"Bokeh: BokehJS failed to load within specified timeout.\");\n",
              "      root._bokeh_failed_load = true;\n",
              "    } else if (force !== true) {\n",
              "      var cell = $(document.getElementById(null)).parents('.cell').data().cell;\n",
              "      cell.output_area.append_execute_result(NB_LOAD_WARNING)\n",
              "    }\n",
              "\n",
              "  }\n",
              "\n",
              "  if (root._bokeh_is_loading === 0) {\n",
              "    console.debug(\"Bokeh: BokehJS loaded, going straight to plotting\");\n",
              "    run_inline_js();\n",
              "  } else {\n",
              "    load_libs(css_urls, js_urls, function() {\n",
              "      console.debug(\"Bokeh: BokehJS plotting callback run at\", now());\n",
              "      run_inline_js();\n",
              "    });\n",
              "  }\n",
              "}(window));"
            ],
            "application/vnd.bokehjs_load.v0+json": "\n(function(root) {\n  function now() {\n    return new Date();\n  }\n\n  var force = true;\n\n  if (typeof root._bokeh_onload_callbacks === \"undefined\" || force === true) {\n    root._bokeh_onload_callbacks = [];\n    root._bokeh_is_loading = undefined;\n  }\n\n  \n\n  \n  if (typeof (root._bokeh_timeout) === \"undefined\" || force === true) {\n    root._bokeh_timeout = Date.now() + 5000;\n    root._bokeh_failed_load = false;\n  }\n\n  var NB_LOAD_WARNING = {'data': {'text/html':\n     \"<div style='background-color: #fdd'>\\n\"+\n     \"<p>\\n\"+\n     \"BokehJS does not appear to have successfully loaded. If loading BokehJS from CDN, this \\n\"+\n     \"may be due to a slow or bad network connection. Possible fixes:\\n\"+\n     \"</p>\\n\"+\n     \"<ul>\\n\"+\n     \"<li>re-rerun `output_notebook()` to attempt to load from CDN again, or</li>\\n\"+\n     \"<li>use INLINE resources instead, as so:</li>\\n\"+\n     \"</ul>\\n\"+\n     \"<code>\\n\"+\n     \"from bokeh.resources import INLINE\\n\"+\n     \"output_notebook(resources=INLINE)\\n\"+\n     \"</code>\\n\"+\n     \"</div>\"}};\n\n  function display_loaded() {\n    var el = document.getElementById(null);\n    if (el != null) {\n      el.textContent = \"BokehJS is loading...\";\n    }\n    if (root.Bokeh !== undefined) {\n      if (el != null) {\n        el.textContent = \"BokehJS \" + root.Bokeh.version + \" successfully loaded.\";\n      }\n    } else if (Date.now() < root._bokeh_timeout) {\n      setTimeout(display_loaded, 100)\n    }\n  }\n\n\n  function run_callbacks() {\n    try {\n      root._bokeh_onload_callbacks.forEach(function(callback) {\n        if (callback != null)\n          callback();\n      });\n    } finally {\n      delete root._bokeh_onload_callbacks\n    }\n    console.debug(\"Bokeh: all callbacks have finished\");\n  }\n\n  function load_libs(css_urls, js_urls, callback) {\n    if (css_urls == null) css_urls = [];\n    if (js_urls == null) js_urls = [];\n\n    root._bokeh_onload_callbacks.push(callback);\n    if (root._bokeh_is_loading > 0) {\n      console.debug(\"Bokeh: BokehJS is being loaded, scheduling callback at\", now());\n      return null;\n    }\n    if (js_urls == null || js_urls.length === 0) {\n      run_callbacks();\n      return null;\n    }\n    console.debug(\"Bokeh: BokehJS not loaded, scheduling load and callback at\", now());\n    root._bokeh_is_loading = css_urls.length + js_urls.length;\n\n    function on_load() {\n      root._bokeh_is_loading--;\n      if (root._bokeh_is_loading === 0) {\n        console.debug(\"Bokeh: all BokehJS libraries/stylesheets loaded\");\n        run_callbacks()\n      }\n    }\n\n    function on_error() {\n      console.error(\"failed to load \" + url);\n    }\n\n    for (var i = 0; i < css_urls.length; i++) {\n      var url = css_urls[i];\n      const element = document.createElement(\"link\");\n      element.onload = on_load;\n      element.onerror = on_error;\n      element.rel = \"stylesheet\";\n      element.type = \"text/css\";\n      element.href = url;\n      console.debug(\"Bokeh: injecting link tag for BokehJS stylesheet: \", url);\n      document.body.appendChild(element);\n    }\n\n    for (var i = 0; i < js_urls.length; i++) {\n      var url = js_urls[i];\n      var element = document.createElement('script');\n      element.onload = on_load;\n      element.onerror = on_error;\n      element.async = false;\n      element.src = url;\n      console.debug(\"Bokeh: injecting script tag for BokehJS library: \", url);\n      document.head.appendChild(element);\n    }\n  };\n\n  function inject_raw_css(css) {\n    const element = document.createElement(\"style\");\n    element.appendChild(document.createTextNode(css));\n    document.body.appendChild(element);\n  }\n\n  \n  var js_urls = [\"https://cdn.pydata.org/bokeh/release/bokeh-1.4.0.min.js\", \"https://cdn.pydata.org/bokeh/release/bokeh-widgets-1.4.0.min.js\", \"https://cdn.pydata.org/bokeh/release/bokeh-tables-1.4.0.min.js\", \"https://cdn.pydata.org/bokeh/release/bokeh-gl-1.4.0.min.js\"];\n  var css_urls = [];\n  \n\n  var inline_js = [\n    function(Bokeh) {\n      Bokeh.set_log_level(\"info\");\n    },\n    function(Bokeh) {\n    \n    \n    }\n  ];\n\n  function run_inline_js() {\n    \n    if (root.Bokeh !== undefined || force === true) {\n      \n    for (var i = 0; i < inline_js.length; i++) {\n      inline_js[i].call(root, root.Bokeh);\n    }\n    } else if (Date.now() < root._bokeh_timeout) {\n      setTimeout(run_inline_js, 100);\n    } else if (!root._bokeh_failed_load) {\n      console.log(\"Bokeh: BokehJS failed to load within specified timeout.\");\n      root._bokeh_failed_load = true;\n    } else if (force !== true) {\n      var cell = $(document.getElementById(null)).parents('.cell').data().cell;\n      cell.output_area.append_execute_result(NB_LOAD_WARNING)\n    }\n\n  }\n\n  if (root._bokeh_is_loading === 0) {\n    console.debug(\"Bokeh: BokehJS loaded, going straight to plotting\");\n    run_inline_js();\n  } else {\n    load_libs(css_urls, js_urls, function() {\n      console.debug(\"Bokeh: BokehJS plotting callback run at\", now());\n      run_inline_js();\n    });\n  }\n}(window));"
          },
          "metadata": {
            "tags": []
          }
        },
        {
          "output_type": "display_data",
          "data": {
            "text/html": [
              "\n",
              "\n",
              "\n",
              "\n",
              "\n",
              "\n",
              "  <div class=\"bk-root\" id=\"80068f70-838f-4e84-a246-6534763792ab\" data-root-id=\"1085\"></div>\n"
            ]
          },
          "metadata": {
            "tags": []
          }
        },
        {
          "output_type": "display_data",
          "data": {
            "application/javascript": [
              "(function(root) {\n",
              "  function embed_document(root) {\n",
              "    \n",
              "  var docs_json = {\"b90bfe4a-d527-46fc-90e6-77f01d89ef78\":{\"roots\":{\"references\":[{\"attributes\":{\"below\":[{\"id\":\"1096\",\"type\":\"LinearAxis\"}],\"center\":[{\"id\":\"1100\",\"type\":\"Grid\"},{\"id\":\"1105\",\"type\":\"Grid\"}],\"left\":[{\"id\":\"1101\",\"type\":\"LinearAxis\"}],\"renderers\":[{\"id\":\"1118\",\"type\":\"GlyphRenderer\"}],\"title\":{\"id\":\"1086\",\"type\":\"Title\"},\"toolbar\":{\"id\":\"1110\",\"type\":\"Toolbar\"},\"toolbar_location\":\"above\",\"x_range\":{\"id\":\"1088\",\"type\":\"DataRange1d\"},\"x_scale\":{\"id\":\"1092\",\"type\":\"LinearScale\"},\"y_range\":{\"id\":\"1090\",\"type\":\"DataRange1d\"},\"y_scale\":{\"id\":\"1094\",\"type\":\"LinearScale\"}},\"id\":\"1085\",\"subtype\":\"Figure\",\"type\":\"Plot\"},{\"attributes\":{\"callback\":null,\"data\":{\"left\":{\"__ndarray__\":\"AAAAAAAA8D/NzMzMzFhxQM3MzMzMUIFANDMzMzP1iUDNzMzMzEyRQAAAAAAAn5VANDMzMzPxmUBnZmZmZkOeQM3MzMzMSqFAZ2ZmZuZzo0AAAAAAAJ2lQJqZmZkZxqdANDMzMzPvqUDNzMzMTBisQGdmZmZmQa5AAAAAAEA1sEDNzMzMzEmxQJqZmZlZXrJAZ2ZmZuZys0AzMzMzc4e0QAAAAAAAnLVAzczMzIywtkCamZmZGcW3QGdmZmam2bhANDMzMzPuuUAAAAAAwAK7QM3MzMxMF7xAmpmZmdkrvUBnZmZmZkC+QDQzMzPzVL9AAAAAAMA0wEBnZmZmBr/AQM3MzMxMScFAMzMzM5PTwUCamZmZ2V3CQAAAAAAg6MJAZ2ZmZmZyw0DNzMzMrPzDQDMzMzPzhsRAmpmZmTkRxUAAAAAAgJvFQGdmZmbGJcZAzczMzAywxkAzMzMzUzrHQJqZmZmZxMdAAAAAAOBOyEBnZmZmJtnIQM3MzMxsY8lANDMzM7PtyUCamZmZ+XfKQAAAAABAAstAZ2ZmZoaMy0DNzMzMzBbMQDQzMzMTocxAmpmZmVkrzUAAAAAAoLXNQGdmZmbmP85AzczMzCzKzkA0MzMzc1TPQJqZmZm53s9AAAAAAIA00EAzMzMzo3nQQGdmZmbGvtBAmpmZmekD0UDNzMzMDEnRQAAAAAAwjtFAMzMzM1PT0UBnZmZmdhjSQJqZmZmZXdJAzczMzLyi0kAAAAAA4OfSQDMzMzMDLdNAZ2ZmZiZy00CamZmZSbfTQM3MzMxs/NNAAAAAAJBB1EAzMzMzs4bUQGdmZmbWy9RAmpmZmfkQ1UDNzMzMHFbVQAAAAABAm9VAMzMzM2Pg1UBnZmZmhiXWQJqZmZmpatZAzczMzMyv1kAAAAAA8PTWQDMzMzMTOtdAZ2ZmZjZ/10CamZmZWcTXQM3MzMx8CdhAAAAAAKBO2EAzMzMzw5PYQGdmZmbm2NhAmpmZmQke2UDNzMzMLGPZQAAAAABQqNlANDMzM3Pt2UBnZmZmljLaQJqZmZm5d9pAzczMzNy82kA=\",\"dtype\":\"float64\",\"shape\":[100]},\"right\":{\"__ndarray__\":\"zczMzMxYcUDNzMzMzFCBQDQzMzMz9YlAzczMzMxMkUAAAAAAAJ+VQDQzMzMz8ZlAZ2ZmZmZDnkDNzMzMzEqhQGdmZmbmc6NAAAAAAACdpUCamZmZGcanQDQzMzMz76lAzczMzEwYrEBnZmZmZkGuQAAAAABANbBAzczMzMxJsUCamZmZWV6yQGdmZmbmcrNAMzMzM3OHtEAAAAAAAJy1QM3MzMyMsLZAmpmZmRnFt0BnZmZmptm4QDQzMzMz7rlAAAAAAMACu0DNzMzMTBe8QJqZmZnZK71AZ2ZmZmZAvkA0MzMz81S/QAAAAADANMBAZ2ZmZga/wEDNzMzMTEnBQDMzMzOT08FAmpmZmdldwkAAAAAAIOjCQGdmZmZmcsNAzczMzKz8w0AzMzMz84bEQJqZmZk5EcVAAAAAAICbxUBnZmZmxiXGQM3MzMwMsMZAMzMzM1M6x0CamZmZmcTHQAAAAADgTshAZ2ZmZibZyEDNzMzMbGPJQDQzMzOz7clAmpmZmfl3ykAAAAAAQALLQGdmZmaGjMtAzczMzMwWzEA0MzMzE6HMQJqZmZlZK81AAAAAAKC1zUBnZmZm5j/OQM3MzMwsys5ANDMzM3NUz0CamZmZud7PQAAAAACANNBAMzMzM6N50EBnZmZmxr7QQJqZmZnpA9FAzczMzAxJ0UAAAAAAMI7RQDMzMzNT09FAZ2ZmZnYY0kCamZmZmV3SQM3MzMy8otJAAAAAAODn0kAzMzMzAy3TQGdmZmYmctNAmpmZmUm300DNzMzMbPzTQAAAAACQQdRAMzMzM7OG1EBnZmZm1svUQJqZmZn5ENVAzczMzBxW1UAAAAAAQJvVQDMzMzNj4NVAZ2ZmZoYl1kCamZmZqWrWQM3MzMzMr9ZAAAAAAPD01kAzMzMzEzrXQGdmZmY2f9dAmpmZmVnE10DNzMzMfAnYQAAAAACgTthAMzMzM8OT2EBnZmZm5tjYQJqZmZkJHtlAzczMzCxj2UAAAAAAUKjZQDQzMzNz7dlAZ2ZmZpYy2kCamZmZuXfaQM3MzMzcvNpAAAAAAAAC20A=\",\"dtype\":\"float64\",\"shape\":[100]},\"top\":{\"__ndarray__\":\"TDhFg5YVbT+JTZDME4n7PtMKDQpDB+Y+1QoNCkMH1j7VCg0KQwfWPgAAAAAAAAAA1QoNCkMHxj7VCg0KQwfGPgAAAAAAAAAA2goNCkMHxj4AAAAAAAAAAAAAAAAAAAAA2goNCkMHxj4AAAAAAAAAAAAAAAAAAAAAAAAAAAAAAAAAAAAAAAAAAAAAAAAAAAAA5QoNCkMHxj4AAAAAAAAAAAAAAAAAAAAAAAAAAAAAAAAAAAAAAAAAAAAAAAAAAAAAAAAAAAAAAAAAAAAAAAAAAAAAAAAAAAAAAAAAAAAAAAAAAAAAAAAAAAAAAAAAAAAAAAAAAAAAAAAAAAAAAAAAAOUKDQpDB8Y+AAAAAAAAAAAAAAAAAAAAAAAAAAAAAAAAAAAAAAAAAAAAAAAAAAAAAAAAAAAAAAAAAAAAAAAAAAAAAAAAAAAAAAAAAAAAAAAAAAAAAAAAAAAAAAAAAAAAAAAAAAAAAAAAAAAAAAAAAAAAAAAAAAAAAAAAAAAAAAAAAAAAAAAAAAAAAAAAAAAAAAAAAAAAAAAAAAAAAAAAAAAAAAAAAAAAAAAAAAAAAAAAAAAAAAAAAAAAAAAAAAAAAAAAAAAAAAAAAAAAAAAAAAAAAAAAAAAAAAAAAAAAAAAAAAAAAAAAAAAAAAAAAAAAAAAAAAAAAAAAAAAAAAAAAAAAAAAAAAAAAAAAAAAAAAAAAAAAAAAAAAAAAAAAAAAAAAAAAAAAAAAAAAAAAAAAAAAAAAAAAAAAAAAAAAAAAAAAAAAAAAAAAAAAAAAAAAAAAAAAAAAAAAAAAAAAAAAAAAAAAAAAAAAAAAAAAAAAAAAAAAAAAAAAAAAAAAAAAAAAAAAAAAAAAAAAAAAAAAAAAAAAAAAAAAAAAAAAAAAAAAAAAAAAAAAAAAAAAAAAAAAAAAAAAAAAAAAAAAAAAAAAAAAAAAAAAAAAAAAAAAAAAAAAAAAAAAAAAAAAAAAAAAAAAAAAAAAAAAAAAAAAAAAAAAAAAAAAAAAAAAAAAAAAAAAAAAAAAAAAAAAAAAAAAAAAAAAAAAAAAAAA5QoNCkMHxj4=\",\"dtype\":\"float64\",\"shape\":[100]}},\"selected\":{\"id\":\"1133\",\"type\":\"Selection\"},\"selection_policy\":{\"id\":\"1132\",\"type\":\"UnionRenderers\"}},\"id\":\"1115\",\"type\":\"ColumnDataSource\"},{\"attributes\":{\"data_source\":{\"id\":\"1115\",\"type\":\"ColumnDataSource\"},\"glyph\":{\"id\":\"1116\",\"type\":\"Quad\"},\"hover_glyph\":null,\"muted_glyph\":null,\"nonselection_glyph\":{\"id\":\"1117\",\"type\":\"Quad\"},\"selection_glyph\":null,\"view\":{\"id\":\"1119\",\"type\":\"CDSView\"}},\"id\":\"1118\",\"type\":\"GlyphRenderer\"},{\"attributes\":{\"source\":{\"id\":\"1115\",\"type\":\"ColumnDataSource\"}},\"id\":\"1119\",\"type\":\"CDSView\"},{\"attributes\":{},\"id\":\"1109\",\"type\":\"SaveTool\"},{\"attributes\":{},\"id\":\"1131\",\"type\":\"BasicTickFormatter\"},{\"attributes\":{},\"id\":\"1102\",\"type\":\"BasicTicker\"},{\"attributes\":{},\"id\":\"1132\",\"type\":\"UnionRenderers\"},{\"attributes\":{},\"id\":\"1106\",\"type\":\"PanTool\"},{\"attributes\":{},\"id\":\"1107\",\"type\":\"WheelZoomTool\"},{\"attributes\":{\"bottom\":{\"value\":0},\"fill_alpha\":{\"value\":0.1},\"fill_color\":{\"value\":\"#1f77b4\"},\"left\":{\"field\":\"left\"},\"line_alpha\":{\"value\":0.1},\"line_color\":{\"value\":\"#1f77b4\"},\"right\":{\"field\":\"right\"},\"top\":{\"field\":\"top\"}},\"id\":\"1117\",\"type\":\"Quad\"},{\"attributes\":{\"text\":\"The frequency distribution of the words in our corpus\"},\"id\":\"1086\",\"type\":\"Title\"},{\"attributes\":{\"dimension\":1,\"ticker\":{\"id\":\"1102\",\"type\":\"BasicTicker\"}},\"id\":\"1105\",\"type\":\"Grid\"},{\"attributes\":{},\"id\":\"1133\",\"type\":\"Selection\"},{\"attributes\":{\"bottom\":{\"value\":0},\"fill_color\":{\"value\":\"#1f77b4\"},\"left\":{\"field\":\"left\"},\"line_color\":{\"value\":\"#555555\"},\"right\":{\"field\":\"right\"},\"top\":{\"field\":\"top\"}},\"id\":\"1116\",\"type\":\"Quad\"},{\"attributes\":{\"formatter\":{\"id\":\"1131\",\"type\":\"BasicTickFormatter\"},\"ticker\":{\"id\":\"1102\",\"type\":\"BasicTicker\"}},\"id\":\"1101\",\"type\":\"LinearAxis\"},{\"attributes\":{\"ticker\":{\"id\":\"1097\",\"type\":\"BasicTicker\"}},\"id\":\"1100\",\"type\":\"Grid\"},{\"attributes\":{},\"id\":\"1129\",\"type\":\"BasicTickFormatter\"},{\"attributes\":{},\"id\":\"1097\",\"type\":\"BasicTicker\"},{\"attributes\":{\"formatter\":{\"id\":\"1129\",\"type\":\"BasicTickFormatter\"},\"ticker\":{\"id\":\"1097\",\"type\":\"BasicTicker\"}},\"id\":\"1096\",\"type\":\"LinearAxis\"},{\"attributes\":{},\"id\":\"1094\",\"type\":\"LinearScale\"},{\"attributes\":{},\"id\":\"1108\",\"type\":\"ResetTool\"},{\"attributes\":{\"callback\":null},\"id\":\"1090\",\"type\":\"DataRange1d\"},{\"attributes\":{},\"id\":\"1092\",\"type\":\"LinearScale\"},{\"attributes\":{\"callback\":null},\"id\":\"1088\",\"type\":\"DataRange1d\"},{\"attributes\":{\"active_drag\":\"auto\",\"active_inspect\":\"auto\",\"active_multi\":null,\"active_scroll\":\"auto\",\"active_tap\":\"auto\",\"tools\":[{\"id\":\"1106\",\"type\":\"PanTool\"},{\"id\":\"1107\",\"type\":\"WheelZoomTool\"},{\"id\":\"1108\",\"type\":\"ResetTool\"},{\"id\":\"1109\",\"type\":\"SaveTool\"}]},\"id\":\"1110\",\"type\":\"Toolbar\"}],\"root_ids\":[\"1085\"]},\"title\":\"Bokeh Application\",\"version\":\"1.4.0\"}};\n",
              "  var render_items = [{\"docid\":\"b90bfe4a-d527-46fc-90e6-77f01d89ef78\",\"roots\":{\"1085\":\"80068f70-838f-4e84-a246-6534763792ab\"}}];\n",
              "  root.Bokeh.embed.embed_items_notebook(docs_json, render_items);\n",
              "\n",
              "  }\n",
              "  if (root.Bokeh !== undefined) {\n",
              "    embed_document(root);\n",
              "  } else {\n",
              "    var attempts = 0;\n",
              "    var timer = setInterval(function(root) {\n",
              "      if (root.Bokeh !== undefined) {\n",
              "        clearInterval(timer);\n",
              "        embed_document(root);\n",
              "      } else {\n",
              "        attempts++;\n",
              "        if (attempts > 100) {\n",
              "          clearInterval(timer);\n",
              "          console.log(\"Bokeh: ERROR: Unable to run BokehJS code because BokehJS library is missing\");\n",
              "        }\n",
              "      }\n",
              "    }, 10, root)\n",
              "  }\n",
              "})(window);"
            ],
            "application/vnd.bokehjs_exec.v0+json": ""
          },
          "metadata": {
            "tags": [],
            "application/vnd.bokehjs_exec.v0+json": {
              "id": "1085"
            }
          }
        }
      ]
    },
    {
      "cell_type": "markdown",
      "metadata": {
        "id": "w6Ifn19HPqkK",
        "colab_type": "text"
      },
      "source": [
        "# Project 6: Reducing Noise by Strategically Reducing the Vocabulary<a id='project_6'></a>\n",
        "\n",
        "**TODO:** Improve `SentimentNetwork`'s performance by reducing more noise in the vocabulary. Specifically, do the following:\n",
        "* Copy the `SentimentNetwork` class from the previous project into the following cell.\n",
        "* Modify `pre_process_data`:\n",
        ">* Add two additional parameters: `min_count` and `polarity_cutoff`\n",
        ">* Calculate the positive-to-negative ratios of words used in the reviews. (You can use code you've written elsewhere in the notebook, but we are moving it into the class like we did with other helper code earlier.)\n",
        ">* Andrew's solution only calculates a postive-to-negative ratio for words that occur at least 50 times. This keeps the network from attributing too much sentiment to rarer words. You can choose to add this to your solution if you would like.  \n",
        ">* Change so words are only added to the vocabulary if they occur in the vocabulary more than `min_count` times.\n",
        ">* Change so words are only added to the vocabulary if the absolute value of their postive-to-negative ratio is at least `polarity_cutoff`\n",
        "* Modify `__init__`:\n",
        ">* Add the same two parameters (`min_count` and `polarity_cutoff`) and use them when you call `pre_process_data`"
      ]
    },
    {
      "cell_type": "markdown",
      "metadata": {
        "id": "td93DlmwPqkL",
        "colab_type": "text"
      },
      "source": [
        "The following code is the same as the previous project, with project-specific changes marked with `\"New for Project 6\"`"
      ]
    },
    {
      "cell_type": "code",
      "metadata": {
        "id": "lpTFEvVRPqkM",
        "colab_type": "code",
        "colab": {}
      },
      "source": [
        "import time\n",
        "import sys\n",
        "import numpy as np\n",
        "\n",
        "# Encapsulate our neural network in a class\n",
        "class SentimentNetwork:\n",
        "    ## New for Project 6: added min_count and polarity_cutoff parameters\n",
        "    def __init__(self, reviews, labels, min_count = 10, polarity_cutoff = 0.1, hidden_nodes = 10, learning_rate = 0.1):\n",
        "        \"\"\"Create a SentimenNetwork with the given settings\n",
        "        Args:\n",
        "            reviews(list) - List of reviews used for training\n",
        "            labels(list) - List of POSITIVE/NEGATIVE labels associated with the given reviews\n",
        "            min_count(int) - Words should only be added to the vocabulary \n",
        "                             if they occur more than this many times\n",
        "            polarity_cutoff(float) - The absolute value of a word's positive-to-negative\n",
        "                                     ratio must be at least this big to be considered.\n",
        "            hidden_nodes(int) - Number of nodes to create in the hidden layer\n",
        "            learning_rate(float) - Learning rate to use while training\n",
        "        \n",
        "        \"\"\"\n",
        "        # Assign a seed to our random number generator to ensure we get\n",
        "        # reproducable results during development \n",
        "        np.random.seed(1)\n",
        "\n",
        "        # process the reviews and their associated labels so that everything\n",
        "        # is ready for training\n",
        "        ## New for Project 6: added min_count and polarity_cutoff arguments to pre_process_data call\n",
        "        self.pre_process_data(reviews, labels, polarity_cutoff, min_count)\n",
        "        \n",
        "        # Build the network to have the number of hidden nodes and the learning rate that\n",
        "        # were passed into this initializer. Make the same number of input nodes as\n",
        "        # there are vocabulary words and create a single output node.\n",
        "        self.init_network(len(self.review_vocab),hidden_nodes, 1, learning_rate)\n",
        "\n",
        "    ## New for Project 6: added min_count and polarity_cutoff parameters\n",
        "    def pre_process_data(self, reviews, labels, polarity_cutoff, min_count):\n",
        "        \n",
        "        ## ----------------------------------------\n",
        "        ## New for Project 6: Calculate positive-to-negative ratios for words before\n",
        "        #                     building vocabulary\n",
        "        #\n",
        "        positive_counts = Counter()\n",
        "        negative_counts = Counter()\n",
        "        total_counts = Counter()\n",
        "\n",
        "        for i in range(len(reviews)):\n",
        "            if(labels[i] == 'POSITIVE'):\n",
        "                for word in reviews[i].split(\" \"):\n",
        "                    positive_counts[word] += 1\n",
        "                    total_counts[word] += 1\n",
        "            else:\n",
        "                for word in reviews[i].split(\" \"):\n",
        "                    negative_counts[word] += 1\n",
        "                    total_counts[word] += 1\n",
        "\n",
        "        pos_neg_ratios = Counter()\n",
        "\n",
        "        for term, cnt in list(total_counts.most_common()):\n",
        "            if(cnt >= 50):\n",
        "                pos_neg_ratio = positive_counts[term] / float(negative_counts[term]+1)\n",
        "                pos_neg_ratios[term] = pos_neg_ratio\n",
        "\n",
        "        for word, ratio in pos_neg_ratios.most_common():\n",
        "            if(ratio > 1):\n",
        "                pos_neg_ratios[word] = np.log(ratio)\n",
        "            else:\n",
        "                pos_neg_ratios[word] = -np.log((1 / (ratio + 0.01)))\n",
        "        #\n",
        "        ## end New for Project 6\n",
        "        ## ----------------------------------------\n",
        "\n",
        "        # populate review_vocab with all of the words in the given reviews\n",
        "        review_vocab = set()\n",
        "        for review in reviews:\n",
        "            for word in review.split(\" \"):\n",
        "                ## New for Project 6: only add words that occur at least min_count times\n",
        "                #                     and for words with pos/neg ratios, only add words\n",
        "                #                     that meet the polarity_cutoff\n",
        "                if(total_counts[word] > min_count):\n",
        "                    if(word in pos_neg_ratios.keys()):\n",
        "                        if((pos_neg_ratios[word] >= polarity_cutoff) or (pos_neg_ratios[word] <= -polarity_cutoff)):\n",
        "                            review_vocab.add(word)\n",
        "                    else:\n",
        "                        review_vocab.add(word)\n",
        "\n",
        "        # Convert the vocabulary set to a list so we can access words via indices\n",
        "        self.review_vocab = list(review_vocab)\n",
        "        \n",
        "        # populate label_vocab with all of the words in the given labels.\n",
        "        label_vocab = set()\n",
        "        for label in labels:\n",
        "            label_vocab.add(label)\n",
        "        \n",
        "        # Convert the label vocabulary set to a list so we can access labels via indices\n",
        "        self.label_vocab = list(label_vocab)\n",
        "        \n",
        "        # Store the sizes of the review and label vocabularies.\n",
        "        self.review_vocab_size = len(self.review_vocab)\n",
        "        self.label_vocab_size = len(self.label_vocab)\n",
        "        \n",
        "        # Create a dictionary of words in the vocabulary mapped to index positions\n",
        "        self.word2index = {}\n",
        "        for i, word in enumerate(self.review_vocab):\n",
        "            self.word2index[word] = i\n",
        "        \n",
        "        # Create a dictionary of labels mapped to index positions\n",
        "        self.label2index = {}\n",
        "        for i, label in enumerate(self.label_vocab):\n",
        "            self.label2index[label] = i\n",
        "\n",
        "    def init_network(self, input_nodes, hidden_nodes, output_nodes, learning_rate):\n",
        "        # Set number of nodes in input, hidden and output layers.\n",
        "        self.input_nodes = input_nodes\n",
        "        self.hidden_nodes = hidden_nodes\n",
        "        self.output_nodes = output_nodes\n",
        "\n",
        "        # Store the learning rate\n",
        "        self.learning_rate = learning_rate\n",
        "\n",
        "        # Initialize weights\n",
        "\n",
        "        # These are the weights between the input layer and the hidden layer.\n",
        "        self.weights_0_1 = np.zeros((self.input_nodes,self.hidden_nodes))\n",
        "\n",
        "        # These are the weights between the hidden layer and the output layer.\n",
        "        self.weights_1_2 = np.random.normal(0.0, self.hidden_nodes**-0.5, \n",
        "                                                (self.hidden_nodes, self.output_nodes))\n",
        "        \n",
        "        ## New for Project 5: Removed self.layer_0; added self.layer_1\n",
        "        # The input layer, a two-dimensional matrix with shape 1 x hidden_nodes\n",
        "        self.layer_1 = np.zeros((1,hidden_nodes))\n",
        "    \n",
        "    ## New for Project 5: Removed update_input_layer function\n",
        "    \n",
        "    def get_target_for_label(self,label):\n",
        "        if(label == 'POSITIVE'):\n",
        "            return 1\n",
        "        else:\n",
        "            return 0\n",
        "        \n",
        "    def sigmoid(self,x):\n",
        "        return 1 / (1 + np.exp(-x))\n",
        "    \n",
        "    def sigmoid_output_2_derivative(self,output):\n",
        "        return output * (1 - output)\n",
        "    \n",
        "    ## New for Project 5: changed name of first parameter form 'training_reviews' \n",
        "    #                     to 'training_reviews_raw'\n",
        "    def train(self, training_reviews_raw, training_labels):\n",
        "\n",
        "        ## New for Project 5: pre-process training reviews so we can deal \n",
        "        #                     directly with the indices of non-zero inputs\n",
        "        training_reviews = list()\n",
        "        for review in training_reviews_raw:\n",
        "            indices = set()\n",
        "            for word in review.split(\" \"):\n",
        "                if(word in self.word2index.keys()):\n",
        "                    indices.add(self.word2index[word])\n",
        "            training_reviews.append(list(indices))\n",
        "\n",
        "        # make sure out we have a matching number of reviews and labels\n",
        "        assert(len(training_reviews) == len(training_labels))\n",
        "        \n",
        "        # Keep track of correct predictions to display accuracy during training \n",
        "        correct_so_far = 0\n",
        "\n",
        "        # Remember when we started for printing time statistics\n",
        "        start = time.time()\n",
        "        \n",
        "        # loop through all the given reviews and run a forward and backward pass,\n",
        "        # updating weights for every item\n",
        "        for i in range(len(training_reviews)):\n",
        "            \n",
        "            # Get the next review and its correct label\n",
        "            review = training_reviews[i]\n",
        "            label = training_labels[i]\n",
        "            \n",
        "            #### Implement the forward pass here ####\n",
        "            ### Forward pass ###\n",
        "\n",
        "            ## New for Project 5: Removed call to 'update_input_layer' function\n",
        "            #                     because 'layer_0' is no longer used\n",
        "\n",
        "            # Hidden layer\n",
        "            ## New for Project 5: Add in only the weights for non-zero items\n",
        "            self.layer_1 *= 0\n",
        "            for index in review:\n",
        "                self.layer_1 += self.weights_0_1[index]\n",
        "\n",
        "            # Output layer\n",
        "            ## New for Project 5: changed to use 'self.layer_1' instead of 'local layer_1'\n",
        "            layer_2 = self.sigmoid(self.layer_1.dot(self.weights_1_2))            \n",
        "            \n",
        "            #### Implement the backward pass here ####\n",
        "            ### Backward pass ###\n",
        "\n",
        "            # Output error\n",
        "            layer_2_error = layer_2 - self.get_target_for_label(label) # Output layer error is the difference between desired target and actual output.\n",
        "            layer_2_delta = layer_2_error * self.sigmoid_output_2_derivative(layer_2)\n",
        "\n",
        "            # Backpropagated error\n",
        "            layer_1_error = layer_2_delta.dot(self.weights_1_2.T) # errors propagated to the hidden layer\n",
        "            layer_1_delta = layer_1_error # hidden layer gradients - no nonlinearity so it's the same as the error\n",
        "\n",
        "            # Update the weights\n",
        "            ## New for Project 5: changed to use 'self.layer_1' instead of local 'layer_1'\n",
        "            self.weights_1_2 -= self.layer_1.T.dot(layer_2_delta) * self.learning_rate # update hidden-to-output weights with gradient descent step\n",
        "            \n",
        "            ## New for Project 5: Only update the weights that were used in the forward pass\n",
        "            for index in review:\n",
        "                self.weights_0_1[index] -= layer_1_delta[0] * self.learning_rate # update input-to-hidden weights with gradient descent step\n",
        "\n",
        "            # Keep track of correct predictions.\n",
        "            if(layer_2 >= 0.5 and label == 'POSITIVE'):\n",
        "                correct_so_far += 1\n",
        "            elif(layer_2 < 0.5 and label == 'NEGATIVE'):\n",
        "                correct_so_far += 1\n",
        "            \n",
        "            # For debug purposes, print out our prediction accuracy and speed \n",
        "            # throughout the training process. \n",
        "            elapsed_time = float(time.time() - start)\n",
        "            reviews_per_second = i / elapsed_time if elapsed_time > 0 else 0\n",
        "            \n",
        "            sys.stdout.write(\"\\rProgress:\" + str(100 * i/float(len(training_reviews)))[:4] \\\n",
        "                             + \"% Speed(reviews/sec):\" + str(reviews_per_second)[0:5] \\\n",
        "                             + \" #Correct:\" + str(correct_so_far) + \" #Trained:\" + str(i+1) \\\n",
        "                             + \" Training Accuracy:\" + str(correct_so_far * 100 / float(i+1))[:4] + \"%\")\n",
        "            if(i % 2500 == 0):\n",
        "                print(\"\")\n",
        "    \n",
        "    def test(self, testing_reviews, testing_labels):\n",
        "        \"\"\"\n",
        "        Attempts to predict the labels for the given testing_reviews,\n",
        "        and uses the test_labels to calculate the accuracy of those predictions.\n",
        "        \"\"\"\n",
        "        \n",
        "        # keep track of how many correct predictions we make\n",
        "        correct = 0\n",
        "\n",
        "        # we'll time how many predictions per second we make\n",
        "        start = time.time()\n",
        "\n",
        "        # Loop through each of the given reviews and call run to predict\n",
        "        # its label. \n",
        "        for i in range(len(testing_reviews)):\n",
        "            pred = self.run(testing_reviews[i])\n",
        "            if(pred == testing_labels[i]):\n",
        "                correct += 1\n",
        "            \n",
        "            # For debug purposes, print out our prediction accuracy and speed \n",
        "            # throughout the prediction process. \n",
        "\n",
        "            elapsed_time = float(time.time() - start)\n",
        "            reviews_per_second = i / elapsed_time if elapsed_time > 0 else 0\n",
        "            \n",
        "            sys.stdout.write(\"\\rProgress:\" + str(100 * i/float(len(testing_reviews)))[:4] \\\n",
        "                             + \"% Speed(reviews/sec):\" + str(reviews_per_second)[0:5] \\\n",
        "                             + \" #Correct:\" + str(correct) + \" #Tested:\" + str(i+1) \\\n",
        "                             + \" Testing Accuracy:\" + str(correct * 100 / float(i+1))[:4] + \"%\")\n",
        "    \n",
        "    def run(self, review):\n",
        "        \"\"\"\n",
        "        Returns a POSITIVE or NEGATIVE prediction for the given review.\n",
        "        \"\"\"\n",
        "        # Run a forward pass through the network, like in the \"train\" function.\n",
        "        \n",
        "        ## New for Project 5: Removed call to update_input_layer function\n",
        "        #                     because layer_0 is no longer used\n",
        "\n",
        "        # Hidden layer\n",
        "        ## New for Project 5: Identify the indices used in the review and then add\n",
        "        #                     just those weights to layer_1 \n",
        "        self.layer_1 *= 0\n",
        "        unique_indices = set()\n",
        "        for word in review.lower().split(\" \"):\n",
        "            if word in self.word2index.keys():\n",
        "                unique_indices.add(self.word2index[word])\n",
        "        for index in unique_indices:\n",
        "            self.layer_1 += self.weights_0_1[index]\n",
        "        \n",
        "        # Output layer\n",
        "        ## New for Project 5: changed to use self.layer_1 instead of local layer_1\n",
        "        layer_2 = self.sigmoid(self.layer_1.dot(self.weights_1_2))\n",
        "         \n",
        "        # Return POSITIVE for values above greater-than-or-equal-to 0.5 in the output layer;\n",
        "        # return NEGATIVE for other values\n",
        "        if(layer_2[0] >= 0.5):\n",
        "            return \"POSITIVE\"\n",
        "        else:\n",
        "            return \"NEGATIVE\"\n"
      ],
      "execution_count": 0,
      "outputs": []
    },
    {
      "cell_type": "markdown",
      "metadata": {
        "id": "44oDlPbqPqkO",
        "colab_type": "text"
      },
      "source": [
        "Run the following cell to train your network with a small polarity cutoff."
      ]
    },
    {
      "cell_type": "code",
      "metadata": {
        "id": "yAD0IQUOPqkO",
        "colab_type": "code",
        "outputId": "6374feef-a0b6-4aa8-9ea5-e1a9d50eedd4",
        "colab": {
          "base_uri": "https://localhost:8080/",
          "height": 208
        }
      },
      "source": [
        "mlp = SentimentNetwork(reviews[:-1000],labels[:-1000],min_count=20,polarity_cutoff=0.05,learning_rate=0.01)\n",
        "mlp.train(reviews[:-1000],labels[:-1000])"
      ],
      "execution_count": 69,
      "outputs": [
        {
          "output_type": "stream",
          "text": [
            "Progress:0.0% Speed(reviews/sec):0.0 #Correct:1 #Trained:1 Training Accuracy:100.%\n",
            "Progress:10.4% Speed(reviews/sec):1586. #Correct:1970 #Trained:2501 Training Accuracy:78.7%\n",
            "Progress:20.8% Speed(reviews/sec):1551. #Correct:4034 #Trained:5001 Training Accuracy:80.6%\n",
            "Progress:31.2% Speed(reviews/sec):1532. #Correct:6158 #Trained:7501 Training Accuracy:82.0%\n",
            "Progress:41.6% Speed(reviews/sec):1537. #Correct:8312 #Trained:10001 Training Accuracy:83.1%\n",
            "Progress:52.0% Speed(reviews/sec):1531. #Correct:10467 #Trained:12501 Training Accuracy:83.7%\n",
            "Progress:62.5% Speed(reviews/sec):1521. #Correct:12596 #Trained:15001 Training Accuracy:83.9%\n",
            "Progress:72.9% Speed(reviews/sec):1521. #Correct:14744 #Trained:17501 Training Accuracy:84.2%\n",
            "Progress:83.3% Speed(reviews/sec):1518. #Correct:16933 #Trained:20001 Training Accuracy:84.6%\n",
            "Progress:93.7% Speed(reviews/sec):1513. #Correct:19122 #Trained:22501 Training Accuracy:84.9%\n",
            "Progress:99.9% Speed(reviews/sec):1513. #Correct:20451 #Trained:24000 Training Accuracy:85.2%"
          ],
          "name": "stdout"
        }
      ]
    },
    {
      "cell_type": "markdown",
      "metadata": {
        "id": "8H93pe3MPqkR",
        "colab_type": "text"
      },
      "source": [
        "And run the following cell to test it's performance."
      ]
    },
    {
      "cell_type": "code",
      "metadata": {
        "id": "WkEmqowWPqkS",
        "colab_type": "code",
        "outputId": "0ff93a1d-165b-463c-f984-96d48f4eff5a",
        "colab": {
          "base_uri": "https://localhost:8080/",
          "height": 34
        }
      },
      "source": [
        "mlp.test(reviews[-1000:],labels[-1000:])"
      ],
      "execution_count": 70,
      "outputs": [
        {
          "output_type": "stream",
          "text": [
            "Progress:99.9% Speed(reviews/sec):2529. #Correct:855 #Tested:1000 Testing Accuracy:85.5%"
          ],
          "name": "stdout"
        }
      ]
    },
    {
      "cell_type": "markdown",
      "metadata": {
        "id": "BU8TIKQ2PqkU",
        "colab_type": "text"
      },
      "source": [
        "Run the following cell to train your network with a much larger polarity cutoff."
      ]
    },
    {
      "cell_type": "code",
      "metadata": {
        "id": "j_cFJlT5PqkV",
        "colab_type": "code",
        "outputId": "3b408b46-604f-41ec-de24-00639808c437",
        "colab": {
          "base_uri": "https://localhost:8080/",
          "height": 208
        }
      },
      "source": [
        "mlp = SentimentNetwork(reviews[:-1000],labels[:-1000],min_count=20,polarity_cutoff=0.8,learning_rate=0.01)\n",
        "mlp.train(reviews[:-1000],labels[:-1000])"
      ],
      "execution_count": 71,
      "outputs": [
        {
          "output_type": "stream",
          "text": [
            "Progress:0.0% Speed(reviews/sec):0.0 #Correct:1 #Trained:1 Training Accuracy:100.%\n",
            "Progress:10.4% Speed(reviews/sec):4639. #Correct:2068 #Trained:2501 Training Accuracy:82.6%\n",
            "Progress:20.8% Speed(reviews/sec):4427. #Correct:4119 #Trained:5001 Training Accuracy:82.3%\n",
            "Progress:31.2% Speed(reviews/sec):4391. #Correct:6179 #Trained:7501 Training Accuracy:82.3%\n",
            "Progress:41.6% Speed(reviews/sec):4414. #Correct:8281 #Trained:10001 Training Accuracy:82.8%\n",
            "Progress:52.0% Speed(reviews/sec):4417. #Correct:10380 #Trained:12501 Training Accuracy:83.0%\n",
            "Progress:62.5% Speed(reviews/sec):4419. #Correct:12489 #Trained:15001 Training Accuracy:83.2%\n",
            "Progress:72.9% Speed(reviews/sec):4388. #Correct:14582 #Trained:17501 Training Accuracy:83.3%\n",
            "Progress:83.3% Speed(reviews/sec):4400. #Correct:16734 #Trained:20001 Training Accuracy:83.6%\n",
            "Progress:93.7% Speed(reviews/sec):4397. #Correct:18893 #Trained:22501 Training Accuracy:83.9%\n",
            "Progress:99.9% Speed(reviews/sec):4396. #Correct:20176 #Trained:24000 Training Accuracy:84.0%"
          ],
          "name": "stdout"
        }
      ]
    },
    {
      "cell_type": "markdown",
      "metadata": {
        "id": "SgGQbHApPqka",
        "colab_type": "text"
      },
      "source": [
        "And run the following cell to test it's performance."
      ]
    },
    {
      "cell_type": "code",
      "metadata": {
        "id": "i2vL6VvhPqka",
        "colab_type": "code",
        "outputId": "baf62253-32aa-4c2c-cb71-badfa2f70b7a",
        "colab": {
          "base_uri": "https://localhost:8080/",
          "height": 34
        }
      },
      "source": [
        "mlp.test(reviews[-1000:],labels[-1000:])"
      ],
      "execution_count": 72,
      "outputs": [
        {
          "output_type": "stream",
          "text": [
            "\rProgress:0.0% Speed(reviews/sec):0.0 #Correct:0 #Tested:1 Testing Accuracy:0.0%\rProgress:0.1% Speed(reviews/sec):2785. #Correct:1 #Tested:2 Testing Accuracy:50.0%\rProgress:0.2% Speed(reviews/sec):4080. #Correct:2 #Tested:3 Testing Accuracy:66.6%\rProgress:0.3% Speed(reviews/sec):4733. #Correct:3 #Tested:4 Testing Accuracy:75.0%\rProgress:0.4% Speed(reviews/sec):5560. #Correct:4 #Tested:5 Testing Accuracy:80.0%\rProgress:0.5% Speed(reviews/sec):5935. #Correct:5 #Tested:6 Testing Accuracy:83.3%\rProgress:0.6% Speed(reviews/sec):5882. #Correct:6 #Tested:7 Testing Accuracy:85.7%\rProgress:0.7% Speed(reviews/sec):5908. #Correct:7 #Tested:8 Testing Accuracy:87.5%\rProgress:0.8% Speed(reviews/sec):6057. #Correct:8 #Tested:9 Testing Accuracy:88.8%\rProgress:0.9% Speed(reviews/sec):5303. #Correct:9 #Tested:10 Testing Accuracy:90.0%\rProgress:1.0% Speed(reviews/sec):5409. #Correct:10 #Tested:11 Testing Accuracy:90.9%\rProgress:1.1% Speed(reviews/sec):5578. #Correct:11 #Tested:12 Testing Accuracy:91.6%\rProgress:1.2% Speed(reviews/sec):5687. #Correct:11 #Tested:13 Testing Accuracy:84.6%\rProgress:1.3% Speed(reviews/sec):5738. #Correct:12 #Tested:14 Testing Accuracy:85.7%\rProgress:1.4% Speed(reviews/sec):5795. #Correct:12 #Tested:15 Testing Accuracy:80.0%\rProgress:1.5% Speed(reviews/sec):5868. #Correct:13 #Tested:16 Testing Accuracy:81.2%\rProgress:1.6% Speed(reviews/sec):5597. #Correct:14 #Tested:17 Testing Accuracy:82.3%\rProgress:1.7% Speed(reviews/sec):5632. #Correct:15 #Tested:18 Testing Accuracy:83.3%\rProgress:1.8% Speed(reviews/sec):5764. #Correct:16 #Tested:19 Testing Accuracy:84.2%\rProgress:1.9% Speed(reviews/sec):5784. #Correct:16 #Tested:20 Testing Accuracy:80.0%\rProgress:2.0% Speed(reviews/sec):5591. #Correct:17 #Tested:21 Testing Accuracy:80.9%\rProgress:2.1% Speed(reviews/sec):5635. #Correct:18 #Tested:22 Testing Accuracy:81.8%\rProgress:2.2% Speed(reviews/sec):5656. #Correct:19 #Tested:23 Testing Accuracy:82.6%\rProgress:2.3% Speed(reviews/sec):5637. #Correct:20 #Tested:24 Testing Accuracy:83.3%\rProgress:2.4% Speed(reviews/sec):5487. #Correct:21 #Tested:25 Testing Accuracy:84.0%\rProgress:2.5% Speed(reviews/sec):5534. #Correct:22 #Tested:26 Testing Accuracy:84.6%\rProgress:2.6% Speed(reviews/sec):5619. #Correct:23 #Tested:27 Testing Accuracy:85.1%\rProgress:2.7% Speed(reviews/sec):5343. #Correct:24 #Tested:28 Testing Accuracy:85.7%\rProgress:2.8% Speed(reviews/sec):5371. #Correct:25 #Tested:29 Testing Accuracy:86.2%\rProgress:2.9% Speed(reviews/sec):5367. #Correct:26 #Tested:30 Testing Accuracy:86.6%\rProgress:3.0% Speed(reviews/sec):5333. #Correct:26 #Tested:31 Testing Accuracy:83.8%\rProgress:3.1% Speed(reviews/sec):5390. #Correct:27 #Tested:32 Testing Accuracy:84.3%\rProgress:3.2% Speed(reviews/sec):5401. #Correct:28 #Tested:33 Testing Accuracy:84.8%\rProgress:3.3% Speed(reviews/sec):5435. #Correct:29 #Tested:34 Testing Accuracy:85.2%\rProgress:3.4% Speed(reviews/sec):5425. #Correct:30 #Tested:35 Testing Accuracy:85.7%\rProgress:3.5% Speed(reviews/sec):5447. #Correct:31 #Tested:36 Testing Accuracy:86.1%\rProgress:3.6% Speed(reviews/sec):5413. #Correct:32 #Tested:37 Testing Accuracy:86.4%\rProgress:3.7% Speed(reviews/sec):5491. #Correct:33 #Tested:38 Testing Accuracy:86.8%\rProgress:3.8% Speed(reviews/sec):5463. #Correct:34 #Tested:39 Testing Accuracy:87.1%\rProgress:3.9% Speed(reviews/sec):5420. #Correct:34 #Tested:40 Testing Accuracy:85.0%\rProgress:4.0% Speed(reviews/sec):5444. #Correct:35 #Tested:41 Testing Accuracy:85.3%\rProgress:4.1% Speed(reviews/sec):5469. #Correct:36 #Tested:42 Testing Accuracy:85.7%\rProgress:4.2% Speed(reviews/sec):5363. #Correct:37 #Tested:43 Testing Accuracy:86.0%\rProgress:4.3% Speed(reviews/sec):5333. #Correct:38 #Tested:44 Testing Accuracy:86.3%\rProgress:4.4% Speed(reviews/sec):5266. #Correct:39 #Tested:45 Testing Accuracy:86.6%\rProgress:4.5% Speed(reviews/sec):5134. #Correct:40 #Tested:46 Testing Accuracy:86.9%\rProgress:4.6% Speed(reviews/sec):5106. #Correct:41 #Tested:47 Testing Accuracy:87.2%\rProgress:4.7% Speed(reviews/sec):5149. #Correct:42 #Tested:48 Testing Accuracy:87.5%\rProgress:4.8% Speed(reviews/sec):5130. #Correct:43 #Tested:49 Testing Accuracy:87.7%\rProgress:4.9% Speed(reviews/sec):5151. #Correct:44 #Tested:50 Testing Accuracy:88.0%\rProgress:5.0% Speed(reviews/sec):5187. #Correct:45 #Tested:51 Testing Accuracy:88.2%\rProgress:5.1% Speed(reviews/sec):5229. #Correct:46 #Tested:52 Testing Accuracy:88.4%\rProgress:5.2% Speed(reviews/sec):5175. #Correct:47 #Tested:53 Testing Accuracy:88.6%\rProgress:5.3% Speed(reviews/sec):5199. #Correct:48 #Tested:54 Testing Accuracy:88.8%\rProgress:5.4% Speed(reviews/sec):5235. #Correct:49 #Tested:55 Testing Accuracy:89.0%\rProgress:5.5% Speed(reviews/sec):5275. #Correct:50 #Tested:56 Testing Accuracy:89.2%\rProgress:5.6% Speed(reviews/sec):5145. #Correct:51 #Tested:57 Testing Accuracy:89.4%\rProgress:5.7% Speed(reviews/sec):5191. #Correct:52 #Tested:58 Testing Accuracy:89.6%\rProgress:5.8% Speed(reviews/sec):5233. #Correct:53 #Tested:59 Testing Accuracy:89.8%\rProgress:5.9% Speed(reviews/sec):5273. #Correct:54 #Tested:60 Testing Accuracy:90.0%\rProgress:6.0% Speed(reviews/sec):5252. #Correct:54 #Tested:61 Testing Accuracy:88.5%\rProgress:6.1% Speed(reviews/sec):5248. #Correct:55 #Tested:62 Testing Accuracy:88.7%\rProgress:6.2% Speed(reviews/sec):5291. #Correct:56 #Tested:63 Testing Accuracy:88.8%\rProgress:6.3% Speed(reviews/sec):5322. #Correct:56 #Tested:64 Testing Accuracy:87.5%\rProgress:6.4% Speed(reviews/sec):5295. #Correct:56 #Tested:65 Testing Accuracy:86.1%\rProgress:6.5% Speed(reviews/sec):5325. #Correct:56 #Tested:66 Testing Accuracy:84.8%\rProgress:6.6% Speed(reviews/sec):5357. #Correct:57 #Tested:67 Testing Accuracy:85.0%\rProgress:6.7% Speed(reviews/sec):5371. #Correct:58 #Tested:68 Testing Accuracy:85.2%\rProgress:6.8% Speed(reviews/sec):5381. #Correct:59 #Tested:69 Testing Accuracy:85.5%\rProgress:6.9% Speed(reviews/sec):5379. #Correct:60 #Tested:70 Testing Accuracy:85.7%\rProgress:7.0% Speed(reviews/sec):5378. #Correct:60 #Tested:71 Testing Accuracy:84.5%\rProgress:7.1% Speed(reviews/sec):5410. #Correct:61 #Tested:72 Testing Accuracy:84.7%\rProgress:7.2% Speed(reviews/sec):5433. #Correct:62 #Tested:73 Testing Accuracy:84.9%\rProgress:7.3% Speed(reviews/sec):5473. #Correct:63 #Tested:74 Testing Accuracy:85.1%\rProgress:7.4% Speed(reviews/sec):5492. #Correct:64 #Tested:75 Testing Accuracy:85.3%\rProgress:7.5% Speed(reviews/sec):5507. #Correct:65 #Tested:76 Testing Accuracy:85.5%\rProgress:7.6% Speed(reviews/sec):5532. #Correct:66 #Tested:77 Testing Accuracy:85.7%\rProgress:7.7% Speed(reviews/sec):5551. #Correct:67 #Tested:78 Testing Accuracy:85.8%\rProgress:7.8% Speed(reviews/sec):5571. #Correct:68 #Tested:79 Testing Accuracy:86.0%\rProgress:7.9% Speed(reviews/sec):5529. #Correct:69 #Tested:80 Testing Accuracy:86.2%\rProgress:8.0% Speed(reviews/sec):5535. #Correct:70 #Tested:81 Testing Accuracy:86.4%\rProgress:8.1% Speed(reviews/sec):5391. #Correct:70 #Tested:82 Testing Accuracy:85.3%\rProgress:8.2% Speed(reviews/sec):5378. #Correct:71 #Tested:83 Testing Accuracy:85.5%\rProgress:8.3% Speed(reviews/sec):5378. #Correct:72 #Tested:84 Testing Accuracy:85.7%\rProgress:8.4% Speed(reviews/sec):5395. #Correct:73 #Tested:85 Testing Accuracy:85.8%\rProgress:8.5% Speed(reviews/sec):5409. #Correct:74 #Tested:86 Testing Accuracy:86.0%\rProgress:8.6% Speed(reviews/sec):5399. #Correct:75 #Tested:87 Testing Accuracy:86.2%\rProgress:8.7% Speed(reviews/sec):5396. #Correct:75 #Tested:88 Testing Accuracy:85.2%\rProgress:8.8% Speed(reviews/sec):5405. #Correct:76 #Tested:89 Testing Accuracy:85.3%\rProgress:8.9% Speed(reviews/sec):5250. #Correct:77 #Tested:90 Testing Accuracy:85.5%\rProgress:9.0% Speed(reviews/sec):5059. #Correct:78 #Tested:91 Testing Accuracy:85.7%\rProgress:9.1% Speed(reviews/sec):4100. #Correct:79 #Tested:92 Testing Accuracy:85.8%\rProgress:9.2% Speed(reviews/sec):4112. #Correct:80 #Tested:93 Testing Accuracy:86.0%\rProgress:9.3% Speed(reviews/sec):4114. #Correct:81 #Tested:94 Testing Accuracy:86.1%\rProgress:9.4% Speed(reviews/sec):4129. #Correct:82 #Tested:95 Testing Accuracy:86.3%\rProgress:9.5% Speed(reviews/sec):4133. #Correct:83 #Tested:96 Testing Accuracy:86.4%\rProgress:9.6% Speed(reviews/sec):4134. #Correct:83 #Tested:97 Testing Accuracy:85.5%\rProgress:9.7% Speed(reviews/sec):4119. #Correct:84 #Tested:98 Testing Accuracy:85.7%\rProgress:9.8% Speed(reviews/sec):3994. #Correct:85 #Tested:99 Testing Accuracy:85.8%\rProgress:9.9% Speed(reviews/sec):4005. #Correct:86 #Tested:100 Testing Accuracy:86.0%\rProgress:10.0% Speed(reviews/sec):4015. #Correct:87 #Tested:101 Testing Accuracy:86.1%\rProgress:10.1% Speed(reviews/sec):4014. #Correct:88 #Tested:102 Testing Accuracy:86.2%\rProgress:10.2% Speed(reviews/sec):4014. #Correct:89 #Tested:103 Testing Accuracy:86.4%\rProgress:10.3% Speed(reviews/sec):3987. #Correct:89 #Tested:104 Testing Accuracy:85.5%\rProgress:10.4% Speed(reviews/sec):4002. #Correct:90 #Tested:105 Testing Accuracy:85.7%\rProgress:10.5% Speed(reviews/sec):4022. #Correct:91 #Tested:106 Testing Accuracy:85.8%\rProgress:10.6% Speed(reviews/sec):3980. #Correct:92 #Tested:107 Testing Accuracy:85.9%\rProgress:10.7% Speed(reviews/sec):3982. #Correct:93 #Tested:108 Testing Accuracy:86.1%\rProgress:10.8% Speed(reviews/sec):3994. #Correct:94 #Tested:109 Testing Accuracy:86.2%\rProgress:10.9% Speed(reviews/sec):4007. #Correct:94 #Tested:110 Testing Accuracy:85.4%\rProgress:11.0% Speed(reviews/sec):4009. #Correct:95 #Tested:111 Testing Accuracy:85.5%\rProgress:11.1% Speed(reviews/sec):4013. #Correct:96 #Tested:112 Testing Accuracy:85.7%\rProgress:11.2% Speed(reviews/sec):4013. #Correct:97 #Tested:113 Testing Accuracy:85.8%\rProgress:11.3% Speed(reviews/sec):3528. #Correct:98 #Tested:114 Testing Accuracy:85.9%\rProgress:11.4% Speed(reviews/sec):3533. #Correct:99 #Tested:115 Testing Accuracy:86.0%\rProgress:11.5% Speed(reviews/sec):3544. #Correct:100 #Tested:116 Testing Accuracy:86.2%\rProgress:11.6% Speed(reviews/sec):3560. #Correct:101 #Tested:117 Testing Accuracy:86.3%\rProgress:11.7% Speed(reviews/sec):3570. #Correct:101 #Tested:118 Testing Accuracy:85.5%\rProgress:11.8% Speed(reviews/sec):3586. #Correct:102 #Tested:119 Testing Accuracy:85.7%\rProgress:11.9% Speed(reviews/sec):3597. #Correct:103 #Tested:120 Testing Accuracy:85.8%\rProgress:12.0% Speed(reviews/sec):3611. #Correct:104 #Tested:121 Testing Accuracy:85.9%\rProgress:12.1% Speed(reviews/sec):3620. #Correct:105 #Tested:122 Testing Accuracy:86.0%\rProgress:12.2% Speed(reviews/sec):3588. #Correct:106 #Tested:123 Testing Accuracy:86.1%\rProgress:12.3% Speed(reviews/sec):3585. #Correct:107 #Tested:124 Testing Accuracy:86.2%\rProgress:12.4% Speed(reviews/sec):3589. #Correct:108 #Tested:125 Testing Accuracy:86.4%\rProgress:12.5% Speed(reviews/sec):3594. #Correct:109 #Tested:126 Testing Accuracy:86.5%\rProgress:12.6% Speed(reviews/sec):3588. #Correct:110 #Tested:127 Testing Accuracy:86.6%\rProgress:12.7% Speed(reviews/sec):3586. #Correct:111 #Tested:128 Testing Accuracy:86.7%\rProgress:12.8% Speed(reviews/sec):3600. #Correct:112 #Tested:129 Testing Accuracy:86.8%\rProgress:12.9% Speed(reviews/sec):3614. #Correct:113 #Tested:130 Testing Accuracy:86.9%\rProgress:13.0% Speed(reviews/sec):3627. #Correct:113 #Tested:131 Testing Accuracy:86.2%\rProgress:13.1% Speed(reviews/sec):3643. #Correct:113 #Tested:132 Testing Accuracy:85.6%\rProgress:13.2% Speed(reviews/sec):3657. #Correct:114 #Tested:133 Testing Accuracy:85.7%\rProgress:13.3% Speed(reviews/sec):3672. #Correct:115 #Tested:134 Testing Accuracy:85.8%\rProgress:13.4% Speed(reviews/sec):3623. #Correct:116 #Tested:135 Testing Accuracy:85.9%\rProgress:13.5% Speed(reviews/sec):3623. #Correct:116 #Tested:136 Testing Accuracy:85.2%\rProgress:13.6% Speed(reviews/sec):3639. #Correct:117 #Tested:137 Testing Accuracy:85.4%\rProgress:13.7% Speed(reviews/sec):3649. #Correct:118 #Tested:138 Testing Accuracy:85.5%\rProgress:13.8% Speed(reviews/sec):3634. #Correct:119 #Tested:139 Testing Accuracy:85.6%\rProgress:13.9% Speed(reviews/sec):3634. #Correct:120 #Tested:140 Testing Accuracy:85.7%\rProgress:14.0% Speed(reviews/sec):3648. #Correct:121 #Tested:141 Testing Accuracy:85.8%\rProgress:14.1% Speed(reviews/sec):3655. #Correct:122 #Tested:142 Testing Accuracy:85.9%\rProgress:14.2% Speed(reviews/sec):3669. #Correct:123 #Tested:143 Testing Accuracy:86.0%\rProgress:14.3% Speed(reviews/sec):3681. #Correct:124 #Tested:144 Testing Accuracy:86.1%\rProgress:14.4% Speed(reviews/sec):3686. #Correct:125 #Tested:145 Testing Accuracy:86.2%\rProgress:14.5% Speed(reviews/sec):3659. #Correct:126 #Tested:146 Testing Accuracy:86.3%\rProgress:14.6% Speed(reviews/sec):3656. #Correct:127 #Tested:147 Testing Accuracy:86.3%\rProgress:14.7% Speed(reviews/sec):3665. #Correct:128 #Tested:148 Testing Accuracy:86.4%\rProgress:14.8% Speed(reviews/sec):3678. #Correct:129 #Tested:149 Testing Accuracy:86.5%\rProgress:14.9% Speed(reviews/sec):3690. #Correct:130 #Tested:150 Testing Accuracy:86.6%\rProgress:15.0% Speed(reviews/sec):3699. #Correct:131 #Tested:151 Testing Accuracy:86.7%\rProgress:15.1% Speed(reviews/sec):3711. #Correct:132 #Tested:152 Testing Accuracy:86.8%\rProgress:15.2% Speed(reviews/sec):3714. #Correct:133 #Tested:153 Testing Accuracy:86.9%\rProgress:15.3% Speed(reviews/sec):3711. #Correct:134 #Tested:154 Testing Accuracy:87.0%\rProgress:15.4% Speed(reviews/sec):3722. #Correct:135 #Tested:155 Testing Accuracy:87.0%\rProgress:15.5% Speed(reviews/sec):3730. #Correct:136 #Tested:156 Testing Accuracy:87.1%\rProgress:15.6% Speed(reviews/sec):3726. #Correct:137 #Tested:157 Testing Accuracy:87.2%\rProgress:15.7% Speed(reviews/sec):3674. #Correct:138 #Tested:158 Testing Accuracy:87.3%\rProgress:15.8% Speed(reviews/sec):3684. #Correct:139 #Tested:159 Testing Accuracy:87.4%\rProgress:15.9% Speed(reviews/sec):3693. #Correct:140 #Tested:160 Testing Accuracy:87.5%\rProgress:16.0% Speed(reviews/sec):3698. #Correct:141 #Tested:161 Testing Accuracy:87.5%\rProgress:16.1% Speed(reviews/sec):3679. #Correct:141 #Tested:162 Testing Accuracy:87.0%\rProgress:16.2% Speed(reviews/sec):3691. #Correct:142 #Tested:163 Testing Accuracy:87.1%\rProgress:16.3% Speed(reviews/sec):3697. #Correct:143 #Tested:164 Testing Accuracy:87.1%\rProgress:16.4% Speed(reviews/sec):3706. #Correct:144 #Tested:165 Testing Accuracy:87.2%\rProgress:16.5% Speed(reviews/sec):3703. #Correct:145 #Tested:166 Testing Accuracy:87.3%\rProgress:16.6% Speed(reviews/sec):3711. #Correct:145 #Tested:167 Testing Accuracy:86.8%\rProgress:16.7% Speed(reviews/sec):3689. #Correct:146 #Tested:168 Testing Accuracy:86.9%\rProgress:16.8% Speed(reviews/sec):3697. #Correct:147 #Tested:169 Testing Accuracy:86.9%\rProgress:16.9% Speed(reviews/sec):3708. #Correct:148 #Tested:170 Testing Accuracy:87.0%\rProgress:17.0% Speed(reviews/sec):3717. #Correct:149 #Tested:171 Testing Accuracy:87.1%\rProgress:17.1% Speed(reviews/sec):3727. #Correct:150 #Tested:172 Testing Accuracy:87.2%\rProgress:17.2% Speed(reviews/sec):3729. #Correct:150 #Tested:173 Testing Accuracy:86.7%\rProgress:17.3% Speed(reviews/sec):3705. #Correct:150 #Tested:174 Testing Accuracy:86.2%\rProgress:17.4% Speed(reviews/sec):3710. #Correct:151 #Tested:175 Testing Accuracy:86.2%\rProgress:17.5% Speed(reviews/sec):3720. #Correct:152 #Tested:176 Testing Accuracy:86.3%\rProgress:17.6% Speed(reviews/sec):3731. #Correct:153 #Tested:177 Testing Accuracy:86.4%\rProgress:17.7% Speed(reviews/sec):3734. #Correct:154 #Tested:178 Testing Accuracy:86.5%\rProgress:17.8% Speed(reviews/sec):3744. #Correct:155 #Tested:179 Testing Accuracy:86.5%\rProgress:17.9% Speed(reviews/sec):3723. #Correct:156 #Tested:180 Testing Accuracy:86.6%\rProgress:18.0% Speed(reviews/sec):3728. #Correct:157 #Tested:181 Testing Accuracy:86.7%\rProgress:18.1% Speed(reviews/sec):3733. #Correct:158 #Tested:182 Testing Accuracy:86.8%\rProgress:18.2% Speed(reviews/sec):3742. #Correct:158 #Tested:183 Testing Accuracy:86.3%\rProgress:18.3% Speed(reviews/sec):3751. #Correct:159 #Tested:184 Testing Accuracy:86.4%\rProgress:18.4% Speed(reviews/sec):3745. #Correct:160 #Tested:185 Testing Accuracy:86.4%\rProgress:18.5% Speed(reviews/sec):3723. #Correct:161 #Tested:186 Testing Accuracy:86.5%\rProgress:18.6% Speed(reviews/sec):3734. #Correct:161 #Tested:187 Testing Accuracy:86.0%\rProgress:18.7% Speed(reviews/sec):3737. #Correct:162 #Tested:188 Testing Accuracy:86.1%\rProgress:18.8% Speed(reviews/sec):3738. #Correct:163 #Tested:189 Testing Accuracy:86.2%\rProgress:18.9% Speed(reviews/sec):3743. #Correct:164 #Tested:190 Testing Accuracy:86.3%\rProgress:19.0% Speed(reviews/sec):3729. #Correct:165 #Tested:191 Testing Accuracy:86.3%\rProgress:19.1% Speed(reviews/sec):3737. #Correct:166 #Tested:192 Testing Accuracy:86.4%\rProgress:19.2% Speed(reviews/sec):3747. #Correct:167 #Tested:193 Testing Accuracy:86.5%\rProgress:19.3% Speed(reviews/sec):3741. #Correct:168 #Tested:194 Testing Accuracy:86.5%\rProgress:19.4% Speed(reviews/sec):3751. #Correct:169 #Tested:195 Testing Accuracy:86.6%\rProgress:19.5% Speed(reviews/sec):3757. #Correct:169 #Tested:196 Testing Accuracy:86.2%\rProgress:19.6% Speed(reviews/sec):3736. #Correct:170 #Tested:197 Testing Accuracy:86.2%\rProgress:19.7% Speed(reviews/sec):3740. #Correct:171 #Tested:198 Testing Accuracy:86.3%\rProgress:19.8% Speed(reviews/sec):3751. #Correct:172 #Tested:199 Testing Accuracy:86.4%\rProgress:19.9% Speed(reviews/sec):3758. #Correct:173 #Tested:200 Testing Accuracy:86.5%\rProgress:20.0% Speed(reviews/sec):3770. #Correct:174 #Tested:201 Testing Accuracy:86.5%\rProgress:20.1% Speed(reviews/sec):3773. #Correct:175 #Tested:202 Testing Accuracy:86.6%\rProgress:20.2% Speed(reviews/sec):3782. #Correct:176 #Tested:203 Testing Accuracy:86.6%\rProgress:20.3% Speed(reviews/sec):3787. #Correct:177 #Tested:204 Testing Accuracy:86.7%\rProgress:20.4% Speed(reviews/sec):3795. #Correct:178 #Tested:205 Testing Accuracy:86.8%\rProgress:20.5% Speed(reviews/sec):3803. #Correct:179 #Tested:206 Testing Accuracy:86.8%\rProgress:20.6% Speed(reviews/sec):3811. #Correct:180 #Tested:207 Testing Accuracy:86.9%\rProgress:20.7% Speed(reviews/sec):3820. #Correct:181 #Tested:208 Testing Accuracy:87.0%\rProgress:20.8% Speed(reviews/sec):3830. #Correct:182 #Tested:209 Testing Accuracy:87.0%\rProgress:20.9% Speed(reviews/sec):3828. #Correct:183 #Tested:210 Testing Accuracy:87.1%\rProgress:21.0% Speed(reviews/sec):3789. #Correct:183 #Tested:211 Testing Accuracy:86.7%\rProgress:21.1% Speed(reviews/sec):3796. #Correct:184 #Tested:212 Testing Accuracy:86.7%\rProgress:21.2% Speed(reviews/sec):3806. #Correct:185 #Tested:213 Testing Accuracy:86.8%\rProgress:21.3% Speed(reviews/sec):3793. #Correct:186 #Tested:214 Testing Accuracy:86.9%\rProgress:21.4% Speed(reviews/sec):3802. #Correct:187 #Tested:215 Testing Accuracy:86.9%\rProgress:21.5% Speed(reviews/sec):3804. #Correct:188 #Tested:216 Testing Accuracy:87.0%\rProgress:21.6% Speed(reviews/sec):3812. #Correct:189 #Tested:217 Testing Accuracy:87.0%\rProgress:21.7% Speed(reviews/sec):3817. #Correct:189 #Tested:218 Testing Accuracy:86.6%\rProgress:21.8% Speed(reviews/sec):3822. #Correct:190 #Tested:219 Testing Accuracy:86.7%\rProgress:21.9% Speed(reviews/sec):3833. #Correct:191 #Tested:220 Testing Accuracy:86.8%\rProgress:22.0% Speed(reviews/sec):3831. #Correct:192 #Tested:221 Testing Accuracy:86.8%\rProgress:22.1% Speed(reviews/sec):3838. #Correct:193 #Tested:222 Testing Accuracy:86.9%\rProgress:22.2% Speed(reviews/sec):3805. #Correct:194 #Tested:223 Testing Accuracy:86.9%\rProgress:22.3% Speed(reviews/sec):3805. #Correct:195 #Tested:224 Testing Accuracy:87.0%\rProgress:22.4% Speed(reviews/sec):3801. #Correct:196 #Tested:225 Testing Accuracy:87.1%\rProgress:22.5% Speed(reviews/sec):3802. #Correct:197 #Tested:226 Testing Accuracy:87.1%\rProgress:22.6% Speed(reviews/sec):3798. #Correct:198 #Tested:227 Testing Accuracy:87.2%\rProgress:22.7% Speed(reviews/sec):3804. #Correct:199 #Tested:228 Testing Accuracy:87.2%\rProgress:22.8% Speed(reviews/sec):3809. #Correct:200 #Tested:229 Testing Accuracy:87.3%\rProgress:22.9% Speed(reviews/sec):3814. #Correct:201 #Tested:230 Testing Accuracy:87.3%\rProgress:23.0% Speed(reviews/sec):3814. #Correct:202 #Tested:231 Testing Accuracy:87.4%\rProgress:23.1% Speed(reviews/sec):3817. #Correct:203 #Tested:232 Testing Accuracy:87.5%\rProgress:23.2% Speed(reviews/sec):3827. #Correct:204 #Tested:233 Testing Accuracy:87.5%\rProgress:23.3% Speed(reviews/sec):3833. #Correct:205 #Tested:234 Testing Accuracy:87.6%\rProgress:23.4% Speed(reviews/sec):3821. #Correct:206 #Tested:235 Testing Accuracy:87.6%\rProgress:23.5% Speed(reviews/sec):3826. #Correct:207 #Tested:236 Testing Accuracy:87.7%\rProgress:23.6% Speed(reviews/sec):3821. #Correct:208 #Tested:237 Testing Accuracy:87.7%\rProgress:23.7% Speed(reviews/sec):3788. #Correct:209 #Tested:238 Testing Accuracy:87.8%\rProgress:23.8% Speed(reviews/sec):3795. #Correct:210 #Tested:239 Testing Accuracy:87.8%\rProgress:23.9% Speed(reviews/sec):3801. #Correct:211 #Tested:240 Testing Accuracy:87.9%\rProgress:24.0% Speed(reviews/sec):3803. #Correct:212 #Tested:241 Testing Accuracy:87.9%\rProgress:24.1% Speed(reviews/sec):3782. #Correct:212 #Tested:242 Testing Accuracy:87.6%\rProgress:24.2% Speed(reviews/sec):3787. #Correct:213 #Tested:243 Testing Accuracy:87.6%\rProgress:24.3% Speed(reviews/sec):3788. #Correct:214 #Tested:244 Testing Accuracy:87.7%\rProgress:24.4% Speed(reviews/sec):3785. #Correct:215 #Tested:245 Testing Accuracy:87.7%\rProgress:24.5% Speed(reviews/sec):3779. #Correct:216 #Tested:246 Testing Accuracy:87.8%\rProgress:24.6% Speed(reviews/sec):3785. #Correct:217 #Tested:247 Testing Accuracy:87.8%\rProgress:24.7% Speed(reviews/sec):3784. #Correct:217 #Tested:248 Testing Accuracy:87.5%\rProgress:24.8% Speed(reviews/sec):3794. #Correct:218 #Tested:249 Testing Accuracy:87.5%\rProgress:24.9% Speed(reviews/sec):3799. #Correct:219 #Tested:250 Testing Accuracy:87.6%\rProgress:25.0% Speed(reviews/sec):3805. #Correct:220 #Tested:251 Testing Accuracy:87.6%\rProgress:25.1% Speed(reviews/sec):3813. #Correct:221 #Tested:252 Testing Accuracy:87.6%\rProgress:25.2% Speed(reviews/sec):3801. #Correct:222 #Tested:253 Testing Accuracy:87.7%\rProgress:25.3% Speed(reviews/sec):3804. #Correct:223 #Tested:254 Testing Accuracy:87.7%\rProgress:25.4% Speed(reviews/sec):3811. #Correct:224 #Tested:255 Testing Accuracy:87.8%\rProgress:25.5% Speed(reviews/sec):3818. #Correct:225 #Tested:256 Testing Accuracy:87.8%\rProgress:25.6% Speed(reviews/sec):3827. #Correct:226 #Tested:257 Testing Accuracy:87.9%\rProgress:25.7% Speed(reviews/sec):3835. #Correct:227 #Tested:258 Testing Accuracy:87.9%\rProgress:25.8% Speed(reviews/sec):3842. #Correct:228 #Tested:259 Testing Accuracy:88.0%\rProgress:25.9% Speed(reviews/sec):3849. #Correct:228 #Tested:260 Testing Accuracy:87.6%\rProgress:26.0% Speed(reviews/sec):3856. #Correct:229 #Tested:261 Testing Accuracy:87.7%\rProgress:26.1% Speed(reviews/sec):3865. #Correct:230 #Tested:262 Testing Accuracy:87.7%\rProgress:26.2% Speed(reviews/sec):3865. #Correct:231 #Tested:263 Testing Accuracy:87.8%\rProgress:26.3% Speed(reviews/sec):3866. #Correct:232 #Tested:264 Testing Accuracy:87.8%\rProgress:26.4% Speed(reviews/sec):3872. #Correct:233 #Tested:265 Testing Accuracy:87.9%\rProgress:26.5% Speed(reviews/sec):3869. #Correct:233 #Tested:266 Testing Accuracy:87.5%\rProgress:26.6% Speed(reviews/sec):3875. #Correct:234 #Tested:267 Testing Accuracy:87.6%\rProgress:26.7% Speed(reviews/sec):3876. #Correct:234 #Tested:268 Testing Accuracy:87.3%\rProgress:26.8% Speed(reviews/sec):3882. #Correct:235 #Tested:269 Testing Accuracy:87.3%\rProgress:26.9% Speed(reviews/sec):3890. #Correct:235 #Tested:270 Testing Accuracy:87.0%\rProgress:27.0% Speed(reviews/sec):3894. #Correct:235 #Tested:271 Testing Accuracy:86.7%\rProgress:27.1% Speed(reviews/sec):3845. #Correct:236 #Tested:272 Testing Accuracy:86.7%\rProgress:27.2% Speed(reviews/sec):3844. #Correct:237 #Tested:273 Testing Accuracy:86.8%\rProgress:27.3% Speed(reviews/sec):3844. #Correct:238 #Tested:274 Testing Accuracy:86.8%\rProgress:27.4% Speed(reviews/sec):3845. #Correct:239 #Tested:275 Testing Accuracy:86.9%\rProgress:27.5% Speed(reviews/sec):3842. #Correct:240 #Tested:276 Testing Accuracy:86.9%\rProgress:27.6% Speed(reviews/sec):3848. #Correct:241 #Tested:277 Testing Accuracy:87.0%\rProgress:27.7% Speed(reviews/sec):3855. #Correct:242 #Tested:278 Testing Accuracy:87.0%\rProgress:27.8% Speed(reviews/sec):3847. #Correct:243 #Tested:279 Testing Accuracy:87.0%\rProgress:27.9% Speed(reviews/sec):3851. #Correct:244 #Tested:280 Testing Accuracy:87.1%\rProgress:28.0% Speed(reviews/sec):3857. #Correct:245 #Tested:281 Testing Accuracy:87.1%\rProgress:28.1% Speed(reviews/sec):3864. #Correct:246 #Tested:282 Testing Accuracy:87.2%\rProgress:28.2% Speed(reviews/sec):3873. #Correct:247 #Tested:283 Testing Accuracy:87.2%\rProgress:28.3% Speed(reviews/sec):3866. #Correct:248 #Tested:284 Testing Accuracy:87.3%\rProgress:28.4% Speed(reviews/sec):3851. #Correct:249 #Tested:285 Testing Accuracy:87.3%\rProgress:28.5% Speed(reviews/sec):3857. #Correct:250 #Tested:286 Testing Accuracy:87.4%\rProgress:28.6% Speed(reviews/sec):3865. #Correct:251 #Tested:287 Testing Accuracy:87.4%\rProgress:28.7% Speed(reviews/sec):3873. #Correct:252 #Tested:288 Testing Accuracy:87.5%\rProgress:28.8% Speed(reviews/sec):3880. #Correct:253 #Tested:289 Testing Accuracy:87.5%\rProgress:28.9% Speed(reviews/sec):3887. #Correct:254 #Tested:290 Testing Accuracy:87.5%\rProgress:29.0% Speed(reviews/sec):3893. #Correct:255 #Tested:291 Testing Accuracy:87.6%\rProgress:29.1% Speed(reviews/sec):3899. #Correct:256 #Tested:292 Testing Accuracy:87.6%\rProgress:29.2% Speed(reviews/sec):3883. #Correct:257 #Tested:293 Testing Accuracy:87.7%\rProgress:29.3% Speed(reviews/sec):3889. #Correct:258 #Tested:294 Testing Accuracy:87.7%\rProgress:29.4% Speed(reviews/sec):3895. #Correct:259 #Tested:295 Testing Accuracy:87.7%\rProgress:29.5% Speed(reviews/sec):3902. #Correct:260 #Tested:296 Testing Accuracy:87.8%\rProgress:29.6% Speed(reviews/sec):3910. #Correct:261 #Tested:297 Testing Accuracy:87.8%\rProgress:29.7% Speed(reviews/sec):3896. #Correct:262 #Tested:298 Testing Accuracy:87.9%\rProgress:29.8% Speed(reviews/sec):3896. #Correct:263 #Tested:299 Testing Accuracy:87.9%\rProgress:29.9% Speed(reviews/sec):3899. #Correct:264 #Tested:300 Testing Accuracy:88.0%\rProgress:30.0% Speed(reviews/sec):3905. #Correct:265 #Tested:301 Testing Accuracy:88.0%\rProgress:30.1% Speed(reviews/sec):3898. #Correct:265 #Tested:302 Testing Accuracy:87.7%\rProgress:30.2% Speed(reviews/sec):3882. #Correct:266 #Tested:303 Testing Accuracy:87.7%\rProgress:30.3% Speed(reviews/sec):3866. #Correct:267 #Tested:304 Testing Accuracy:87.8%\rProgress:30.4% Speed(reviews/sec):3871. #Correct:268 #Tested:305 Testing Accuracy:87.8%\rProgress:30.5% Speed(reviews/sec):3878. #Correct:268 #Tested:306 Testing Accuracy:87.5%\rProgress:30.6% Speed(reviews/sec):3867. #Correct:269 #Tested:307 Testing Accuracy:87.6%\rProgress:30.7% Speed(reviews/sec):3874. #Correct:269 #Tested:308 Testing Accuracy:87.3%\rProgress:30.8% Speed(reviews/sec):3876. #Correct:270 #Tested:309 Testing Accuracy:87.3%\rProgress:30.9% Speed(reviews/sec):3870. #Correct:271 #Tested:310 Testing Accuracy:87.4%\rProgress:31.0% Speed(reviews/sec):3878. #Correct:272 #Tested:311 Testing Accuracy:87.4%\rProgress:31.1% Speed(reviews/sec):3879. #Correct:273 #Tested:312 Testing Accuracy:87.5%\rProgress:31.2% Speed(reviews/sec):3886. #Correct:274 #Tested:313 Testing Accuracy:87.5%\rProgress:31.3% Speed(reviews/sec):3887. #Correct:275 #Tested:314 Testing Accuracy:87.5%\rProgress:31.4% Speed(reviews/sec):3867. #Correct:276 #Tested:315 Testing Accuracy:87.6%\rProgress:31.5% Speed(reviews/sec):3866. #Correct:276 #Tested:316 Testing Accuracy:87.3%\rProgress:31.6% Speed(reviews/sec):3873. #Correct:277 #Tested:317 Testing Accuracy:87.3%\rProgress:31.7% Speed(reviews/sec):3875. #Correct:277 #Tested:318 Testing Accuracy:87.1%\rProgress:31.8% Speed(reviews/sec):3880. #Correct:278 #Tested:319 Testing Accuracy:87.1%\rProgress:31.9% Speed(reviews/sec):3884. #Correct:279 #Tested:320 Testing Accuracy:87.1%\rProgress:32.0% Speed(reviews/sec):3885. #Correct:280 #Tested:321 Testing Accuracy:87.2%\rProgress:32.1% Speed(reviews/sec):3887. #Correct:281 #Tested:322 Testing Accuracy:87.2%\rProgress:32.2% Speed(reviews/sec):3893. #Correct:282 #Tested:323 Testing Accuracy:87.3%\rProgress:32.3% Speed(reviews/sec):3896. #Correct:283 #Tested:324 Testing Accuracy:87.3%\rProgress:32.4% Speed(reviews/sec):3898. #Correct:284 #Tested:325 Testing Accuracy:87.3%\rProgress:32.5% Speed(reviews/sec):3902. #Correct:285 #Tested:326 Testing Accuracy:87.4%\rProgress:32.6% Speed(reviews/sec):3906. #Correct:286 #Tested:327 Testing Accuracy:87.4%\rProgress:32.7% Speed(reviews/sec):3906. #Correct:286 #Tested:328 Testing Accuracy:87.1%\rProgress:32.8% Speed(reviews/sec):3905. #Correct:287 #Tested:329 Testing Accuracy:87.2%\rProgress:32.9% Speed(reviews/sec):3909. #Correct:288 #Tested:330 Testing Accuracy:87.2%\rProgress:33.0% Speed(reviews/sec):3915. #Correct:289 #Tested:331 Testing Accuracy:87.3%\rProgress:33.1% Speed(reviews/sec):3919. #Correct:290 #Tested:332 Testing Accuracy:87.3%\rProgress:33.2% Speed(reviews/sec):3915. #Correct:291 #Tested:333 Testing Accuracy:87.3%\rProgress:33.3% Speed(reviews/sec):3918. #Correct:292 #Tested:334 Testing Accuracy:87.4%\rProgress:33.4% Speed(reviews/sec):3911. #Correct:293 #Tested:335 Testing Accuracy:87.4%\rProgress:33.5% Speed(reviews/sec):3915. #Correct:294 #Tested:336 Testing Accuracy:87.5%\rProgress:33.6% Speed(reviews/sec):3918. #Correct:295 #Tested:337 Testing Accuracy:87.5%\rProgress:33.7% Speed(reviews/sec):3924. #Correct:296 #Tested:338 Testing Accuracy:87.5%\rProgress:33.8% Speed(reviews/sec):3879. #Correct:296 #Tested:339 Testing Accuracy:87.3%\rProgress:33.9% Speed(reviews/sec):3882. #Correct:297 #Tested:340 Testing Accuracy:87.3%\rProgress:34.0% Speed(reviews/sec):3881. #Correct:297 #Tested:341 Testing Accuracy:87.0%\rProgress:34.1% Speed(reviews/sec):3885. #Correct:298 #Tested:342 Testing Accuracy:87.1%\rProgress:34.2% Speed(reviews/sec):3878. #Correct:299 #Tested:343 Testing Accuracy:87.1%\rProgress:34.3% Speed(reviews/sec):3885. #Correct:300 #Tested:344 Testing Accuracy:87.2%\rProgress:34.4% Speed(reviews/sec):3884. #Correct:301 #Tested:345 Testing Accuracy:87.2%\rProgress:34.5% Speed(reviews/sec):3872. #Correct:302 #Tested:346 Testing Accuracy:87.2%\rProgress:34.6% Speed(reviews/sec):3876. #Correct:302 #Tested:347 Testing Accuracy:87.0%\rProgress:34.7% Speed(reviews/sec):3880. #Correct:303 #Tested:348 Testing Accuracy:87.0%\rProgress:34.8% Speed(reviews/sec):3883. #Correct:304 #Tested:349 Testing Accuracy:87.1%\rProgress:34.9% Speed(reviews/sec):3887. #Correct:305 #Tested:350 Testing Accuracy:87.1%\rProgress:35.0% Speed(reviews/sec):3893. #Correct:306 #Tested:351 Testing Accuracy:87.1%\rProgress:35.1% Speed(reviews/sec):3897. #Correct:307 #Tested:352 Testing Accuracy:87.2%\rProgress:35.2% Speed(reviews/sec):3900. #Correct:308 #Tested:353 Testing Accuracy:87.2%\rProgress:35.3% Speed(reviews/sec):3906. #Correct:308 #Tested:354 Testing Accuracy:87.0%\rProgress:35.4% Speed(reviews/sec):3910. #Correct:309 #Tested:355 Testing Accuracy:87.0%\rProgress:35.5% Speed(reviews/sec):3909. #Correct:310 #Tested:356 Testing Accuracy:87.0%\rProgress:35.6% Speed(reviews/sec):3914. #Correct:310 #Tested:357 Testing Accuracy:86.8%\rProgress:35.7% Speed(reviews/sec):3916. #Correct:310 #Tested:358 Testing Accuracy:86.5%\rProgress:35.8% Speed(reviews/sec):3922. #Correct:311 #Tested:359 Testing Accuracy:86.6%\rProgress:35.9% Speed(reviews/sec):3926. #Correct:312 #Tested:360 Testing Accuracy:86.6%\rProgress:36.0% Speed(reviews/sec):3929. #Correct:313 #Tested:361 Testing Accuracy:86.7%\rProgress:36.1% Speed(reviews/sec):3933. #Correct:314 #Tested:362 Testing Accuracy:86.7%\rProgress:36.2% Speed(reviews/sec):3932. #Correct:315 #Tested:363 Testing Accuracy:86.7%\rProgress:36.3% Speed(reviews/sec):3937. #Correct:316 #Tested:364 Testing Accuracy:86.8%\rProgress:36.4% Speed(reviews/sec):3943. #Correct:316 #Tested:365 Testing Accuracy:86.5%\rProgress:36.5% Speed(reviews/sec):3946. #Correct:317 #Tested:366 Testing Accuracy:86.6%\rProgress:36.6% Speed(reviews/sec):3911. #Correct:318 #Tested:367 Testing Accuracy:86.6%\rProgress:36.7% Speed(reviews/sec):3915. #Correct:319 #Tested:368 Testing Accuracy:86.6%\rProgress:36.8% Speed(reviews/sec):3918. #Correct:320 #Tested:369 Testing Accuracy:86.7%\rProgress:36.9% Speed(reviews/sec):3923. #Correct:321 #Tested:370 Testing Accuracy:86.7%\rProgress:37.0% Speed(reviews/sec):3926. #Correct:322 #Tested:371 Testing Accuracy:86.7%\rProgress:37.1% Speed(reviews/sec):3923. #Correct:323 #Tested:372 Testing Accuracy:86.8%\rProgress:37.2% Speed(reviews/sec):3929. #Correct:323 #Tested:373 Testing Accuracy:86.5%\rProgress:37.3% Speed(reviews/sec):3935. #Correct:323 #Tested:374 Testing Accuracy:86.3%\rProgress:37.4% Speed(reviews/sec):3935. #Correct:324 #Tested:375 Testing Accuracy:86.4%\rProgress:37.5% Speed(reviews/sec):3939. #Correct:325 #Tested:376 Testing Accuracy:86.4%\rProgress:37.6% Speed(reviews/sec):3944. #Correct:326 #Tested:377 Testing Accuracy:86.4%\rProgress:37.7% Speed(reviews/sec):3947. #Correct:327 #Tested:378 Testing Accuracy:86.5%\rProgress:37.8% Speed(reviews/sec):3952. #Correct:327 #Tested:379 Testing Accuracy:86.2%\rProgress:37.9% Speed(reviews/sec):3958. #Correct:328 #Tested:380 Testing Accuracy:86.3%\rProgress:38.0% Speed(reviews/sec):3955. #Correct:329 #Tested:381 Testing Accuracy:86.3%\rProgress:38.1% Speed(reviews/sec):3961. #Correct:330 #Tested:382 Testing Accuracy:86.3%\rProgress:38.2% Speed(reviews/sec):3963. #Correct:331 #Tested:383 Testing Accuracy:86.4%\rProgress:38.3% Speed(reviews/sec):3967. #Correct:332 #Tested:384 Testing Accuracy:86.4%\rProgress:38.4% Speed(reviews/sec):3972. #Correct:333 #Tested:385 Testing Accuracy:86.4%\rProgress:38.5% Speed(reviews/sec):3977. #Correct:334 #Tested:386 Testing Accuracy:86.5%\rProgress:38.6% Speed(reviews/sec):3973. #Correct:335 #Tested:387 Testing Accuracy:86.5%\rProgress:38.7% Speed(reviews/sec):3978. #Correct:336 #Tested:388 Testing Accuracy:86.5%\rProgress:38.8% Speed(reviews/sec):3981. #Correct:336 #Tested:389 Testing Accuracy:86.3%\rProgress:38.9% Speed(reviews/sec):3985. #Correct:337 #Tested:390 Testing Accuracy:86.4%\rProgress:39.0% Speed(reviews/sec):3989. #Correct:337 #Tested:391 Testing Accuracy:86.1%\rProgress:39.1% Speed(reviews/sec):3993. #Correct:338 #Tested:392 Testing Accuracy:86.2%\rProgress:39.2% Speed(reviews/sec):3998. #Correct:338 #Tested:393 Testing Accuracy:86.0%\rProgress:39.3% Speed(reviews/sec):3999. #Correct:339 #Tested:394 Testing Accuracy:86.0%\rProgress:39.4% Speed(reviews/sec):4000. #Correct:339 #Tested:395 Testing Accuracy:85.8%\rProgress:39.5% Speed(reviews/sec):4004. #Correct:340 #Tested:396 Testing Accuracy:85.8%\rProgress:39.6% Speed(reviews/sec):4008. #Correct:341 #Tested:397 Testing Accuracy:85.8%\rProgress:39.7% Speed(reviews/sec):4012. #Correct:342 #Tested:398 Testing Accuracy:85.9%\rProgress:39.8% Speed(reviews/sec):4013. #Correct:342 #Tested:399 Testing Accuracy:85.7%\rProgress:39.9% Speed(reviews/sec):4017. #Correct:343 #Tested:400 Testing Accuracy:85.7%\rProgress:40.0% Speed(reviews/sec):4016. #Correct:344 #Tested:401 Testing Accuracy:85.7%\rProgress:40.1% Speed(reviews/sec):4021. #Correct:345 #Tested:402 Testing Accuracy:85.8%\rProgress:40.2% Speed(reviews/sec):4020. #Correct:346 #Tested:403 Testing Accuracy:85.8%\rProgress:40.3% Speed(reviews/sec):4024. #Correct:346 #Tested:404 Testing Accuracy:85.6%\rProgress:40.4% Speed(reviews/sec):4028. #Correct:347 #Tested:405 Testing Accuracy:85.6%\rProgress:40.5% Speed(reviews/sec):4032. #Correct:348 #Tested:406 Testing Accuracy:85.7%\rProgress:40.6% Speed(reviews/sec):4034. #Correct:349 #Tested:407 Testing Accuracy:85.7%\rProgress:40.7% Speed(reviews/sec):3971. #Correct:350 #Tested:408 Testing Accuracy:85.7%\rProgress:40.8% Speed(reviews/sec):3972. #Correct:351 #Tested:409 Testing Accuracy:85.8%\rProgress:40.9% Speed(reviews/sec):3977. #Correct:352 #Tested:410 Testing Accuracy:85.8%\rProgress:41.0% Speed(reviews/sec):3981. #Correct:353 #Tested:411 Testing Accuracy:85.8%\rProgress:41.1% Speed(reviews/sec):3982. #Correct:354 #Tested:412 Testing Accuracy:85.9%\rProgress:41.2% Speed(reviews/sec):3987. #Correct:355 #Tested:413 Testing Accuracy:85.9%\rProgress:41.3% Speed(reviews/sec):3987. #Correct:356 #Tested:414 Testing Accuracy:85.9%\rProgress:41.4% Speed(reviews/sec):3991. #Correct:357 #Tested:415 Testing Accuracy:86.0%\rProgress:41.5% Speed(reviews/sec):3995. #Correct:358 #Tested:416 Testing Accuracy:86.0%\rProgress:41.6% Speed(reviews/sec):3999. #Correct:359 #Tested:417 Testing Accuracy:86.0%\rProgress:41.7% Speed(reviews/sec):4002. #Correct:360 #Tested:418 Testing Accuracy:86.1%\rProgress:41.8% Speed(reviews/sec):4006. #Correct:361 #Tested:419 Testing Accuracy:86.1%\rProgress:41.9% Speed(reviews/sec):4010. #Correct:361 #Tested:420 Testing Accuracy:85.9%\rProgress:42.0% Speed(reviews/sec):4010. #Correct:362 #Tested:421 Testing Accuracy:85.9%\rProgress:42.1% Speed(reviews/sec):4013. #Correct:363 #Tested:422 Testing Accuracy:86.0%\rProgress:42.2% Speed(reviews/sec):4017. #Correct:364 #Tested:423 Testing Accuracy:86.0%\rProgress:42.3% Speed(reviews/sec):4021. #Correct:365 #Tested:424 Testing Accuracy:86.0%\rProgress:42.4% Speed(reviews/sec):4024. #Correct:366 #Tested:425 Testing Accuracy:86.1%\rProgress:42.5% Speed(reviews/sec):4027. #Correct:367 #Tested:426 Testing Accuracy:86.1%\rProgress:42.6% Speed(reviews/sec):4025. #Correct:368 #Tested:427 Testing Accuracy:86.1%\rProgress:42.7% Speed(reviews/sec):4029. #Correct:369 #Tested:428 Testing Accuracy:86.2%\rProgress:42.8% Speed(reviews/sec):4032. #Correct:370 #Tested:429 Testing Accuracy:86.2%\rProgress:42.9% Speed(reviews/sec):4036. #Correct:371 #Tested:430 Testing Accuracy:86.2%\rProgress:43.0% Speed(reviews/sec):4040. #Correct:372 #Tested:431 Testing Accuracy:86.3%\rProgress:43.1% Speed(reviews/sec):4044. #Correct:373 #Tested:432 Testing Accuracy:86.3%\rProgress:43.2% Speed(reviews/sec):4047. #Correct:373 #Tested:433 Testing Accuracy:86.1%\rProgress:43.3% Speed(reviews/sec):4051. #Correct:374 #Tested:434 Testing Accuracy:86.1%\rProgress:43.4% Speed(reviews/sec):4054. #Correct:375 #Tested:435 Testing Accuracy:86.2%\rProgress:43.5% Speed(reviews/sec):4057. #Correct:376 #Tested:436 Testing Accuracy:86.2%\rProgress:43.6% Speed(reviews/sec):4061. #Correct:377 #Tested:437 Testing Accuracy:86.2%\rProgress:43.7% Speed(reviews/sec):4059. #Correct:378 #Tested:438 Testing Accuracy:86.3%\rProgress:43.8% Speed(reviews/sec):4064. #Correct:379 #Tested:439 Testing Accuracy:86.3%\rProgress:43.9% Speed(reviews/sec):4065. #Correct:380 #Tested:440 Testing Accuracy:86.3%\rProgress:44.0% Speed(reviews/sec):4066. #Correct:381 #Tested:441 Testing Accuracy:86.3%\rProgress:44.1% Speed(reviews/sec):4070. #Correct:382 #Tested:442 Testing Accuracy:86.4%\rProgress:44.2% Speed(reviews/sec):4074. #Correct:383 #Tested:443 Testing Accuracy:86.4%\rProgress:44.3% Speed(reviews/sec):4077. #Correct:384 #Tested:444 Testing Accuracy:86.4%\rProgress:44.4% Speed(reviews/sec):4074. #Correct:385 #Tested:445 Testing Accuracy:86.5%\rProgress:44.5% Speed(reviews/sec):4079. #Correct:386 #Tested:446 Testing Accuracy:86.5%\rProgress:44.6% Speed(reviews/sec):4083. #Correct:387 #Tested:447 Testing Accuracy:86.5%\rProgress:44.7% Speed(reviews/sec):4084. #Correct:388 #Tested:448 Testing Accuracy:86.6%\rProgress:44.8% Speed(reviews/sec):4087. #Correct:389 #Tested:449 Testing Accuracy:86.6%\rProgress:44.9% Speed(reviews/sec):4088. #Correct:390 #Tested:450 Testing Accuracy:86.6%\rProgress:45.0% Speed(reviews/sec):4093. #Correct:391 #Tested:451 Testing Accuracy:86.6%\rProgress:45.1% Speed(reviews/sec):4088. #Correct:391 #Tested:452 Testing Accuracy:86.5%\rProgress:45.2% Speed(reviews/sec):4093. #Correct:392 #Tested:453 Testing Accuracy:86.5%\rProgress:45.3% Speed(reviews/sec):4098. #Correct:393 #Tested:454 Testing Accuracy:86.5%\rProgress:45.4% Speed(reviews/sec):4104. #Correct:394 #Tested:455 Testing Accuracy:86.5%\rProgress:45.5% Speed(reviews/sec):4107. #Correct:395 #Tested:456 Testing Accuracy:86.6%\rProgress:45.6% Speed(reviews/sec):4112. #Correct:396 #Tested:457 Testing Accuracy:86.6%\rProgress:45.7% Speed(reviews/sec):4117. #Correct:397 #Tested:458 Testing Accuracy:86.6%\rProgress:45.8% Speed(reviews/sec):4120. #Correct:398 #Tested:459 Testing Accuracy:86.7%\rProgress:45.9% Speed(reviews/sec):4120. #Correct:399 #Tested:460 Testing Accuracy:86.7%\rProgress:46.0% Speed(reviews/sec):4124. #Correct:400 #Tested:461 Testing Accuracy:86.7%\rProgress:46.1% Speed(reviews/sec):4125. #Correct:400 #Tested:462 Testing Accuracy:86.5%\rProgress:46.2% Speed(reviews/sec):4119. #Correct:401 #Tested:463 Testing Accuracy:86.6%\rProgress:46.3% Speed(reviews/sec):4124. #Correct:402 #Tested:464 Testing Accuracy:86.6%\rProgress:46.4% Speed(reviews/sec):4128. #Correct:403 #Tested:465 Testing Accuracy:86.6%\rProgress:46.5% Speed(reviews/sec):4131. #Correct:404 #Tested:466 Testing Accuracy:86.6%\rProgress:46.6% Speed(reviews/sec):4136. #Correct:405 #Tested:467 Testing Accuracy:86.7%\rProgress:46.7% Speed(reviews/sec):4134. #Correct:406 #Tested:468 Testing Accuracy:86.7%\rProgress:46.8% Speed(reviews/sec):4135. #Correct:407 #Tested:469 Testing Accuracy:86.7%\rProgress:46.9% Speed(reviews/sec):4140. #Correct:407 #Tested:470 Testing Accuracy:86.5%\rProgress:47.0% Speed(reviews/sec):4143. #Correct:408 #Tested:471 Testing Accuracy:86.6%\rProgress:47.1% Speed(reviews/sec):4147. #Correct:408 #Tested:472 Testing Accuracy:86.4%\rProgress:47.2% Speed(reviews/sec):4151. #Correct:409 #Tested:473 Testing Accuracy:86.4%\rProgress:47.3% Speed(reviews/sec):4153. #Correct:410 #Tested:474 Testing Accuracy:86.4%\rProgress:47.4% Speed(reviews/sec):4156. #Correct:411 #Tested:475 Testing Accuracy:86.5%\rProgress:47.5% Speed(reviews/sec):4157. #Correct:412 #Tested:476 Testing Accuracy:86.5%\rProgress:47.6% Speed(reviews/sec):4153. #Correct:413 #Tested:477 Testing Accuracy:86.5%\rProgress:47.7% Speed(reviews/sec):4155. #Correct:413 #Tested:478 Testing Accuracy:86.4%\rProgress:47.8% Speed(reviews/sec):4154. #Correct:414 #Tested:479 Testing Accuracy:86.4%\rProgress:47.9% Speed(reviews/sec):4158. #Correct:415 #Tested:480 Testing Accuracy:86.4%\rProgress:48.0% Speed(reviews/sec):4162. #Correct:416 #Tested:481 Testing Accuracy:86.4%\rProgress:48.1% Speed(reviews/sec):4155. #Correct:417 #Tested:482 Testing Accuracy:86.5%\rProgress:48.2% Speed(reviews/sec):4159. #Correct:418 #Tested:483 Testing Accuracy:86.5%\rProgress:48.3% Speed(reviews/sec):4162. #Correct:419 #Tested:484 Testing Accuracy:86.5%\rProgress:48.4% Speed(reviews/sec):4165. #Correct:420 #Tested:485 Testing Accuracy:86.5%\rProgress:48.5% Speed(reviews/sec):4166. #Correct:421 #Tested:486 Testing Accuracy:86.6%\rProgress:48.6% Speed(reviews/sec):4169. #Correct:422 #Tested:487 Testing Accuracy:86.6%\rProgress:48.7% Speed(reviews/sec):4174. #Correct:422 #Tested:488 Testing Accuracy:86.4%\rProgress:48.8% Speed(reviews/sec):4177. #Correct:423 #Tested:489 Testing Accuracy:86.5%\rProgress:48.9% Speed(reviews/sec):4174. #Correct:424 #Tested:490 Testing Accuracy:86.5%\rProgress:49.0% Speed(reviews/sec):4177. #Correct:425 #Tested:491 Testing Accuracy:86.5%\rProgress:49.1% Speed(reviews/sec):4180. #Correct:426 #Tested:492 Testing Accuracy:86.5%\rProgress:49.2% Speed(reviews/sec):4182. #Correct:427 #Tested:493 Testing Accuracy:86.6%\rProgress:49.3% Speed(reviews/sec):4183. #Correct:428 #Tested:494 Testing Accuracy:86.6%\rProgress:49.4% Speed(reviews/sec):4064. #Correct:429 #Tested:495 Testing Accuracy:86.6%\rProgress:49.5% Speed(reviews/sec):4064. #Correct:430 #Tested:496 Testing Accuracy:86.6%\rProgress:49.6% Speed(reviews/sec):4067. #Correct:431 #Tested:497 Testing Accuracy:86.7%\rProgress:49.7% Speed(reviews/sec):4071. #Correct:431 #Tested:498 Testing Accuracy:86.5%\rProgress:49.8% Speed(reviews/sec):4071. #Correct:432 #Tested:499 Testing Accuracy:86.5%\rProgress:49.9% Speed(reviews/sec):4071. #Correct:433 #Tested:500 Testing Accuracy:86.6%\rProgress:50.0% Speed(reviews/sec):4075. #Correct:434 #Tested:501 Testing Accuracy:86.6%\rProgress:50.1% Speed(reviews/sec):4074. #Correct:435 #Tested:502 Testing Accuracy:86.6%\rProgress:50.2% Speed(reviews/sec):4076. #Correct:436 #Tested:503 Testing Accuracy:86.6%\rProgress:50.3% Speed(reviews/sec):4079. #Correct:437 #Tested:504 Testing Accuracy:86.7%\rProgress:50.4% Speed(reviews/sec):4081. #Correct:437 #Tested:505 Testing Accuracy:86.5%\rProgress:50.5% Speed(reviews/sec):4084. #Correct:438 #Tested:506 Testing Accuracy:86.5%\rProgress:50.6% Speed(reviews/sec):4082. #Correct:439 #Tested:507 Testing Accuracy:86.5%\rProgress:50.7% Speed(reviews/sec):4073. #Correct:440 #Tested:508 Testing Accuracy:86.6%\rProgress:50.8% Speed(reviews/sec):4077. #Correct:441 #Tested:509 Testing Accuracy:86.6%\rProgress:50.9% Speed(reviews/sec):4081. #Correct:442 #Tested:510 Testing Accuracy:86.6%\rProgress:51.0% Speed(reviews/sec):4079. #Correct:443 #Tested:511 Testing Accuracy:86.6%\rProgress:51.1% Speed(reviews/sec):4083. #Correct:444 #Tested:512 Testing Accuracy:86.7%\rProgress:51.2% Speed(reviews/sec):4085. #Correct:445 #Tested:513 Testing Accuracy:86.7%\rProgress:51.3% Speed(reviews/sec):4089. #Correct:446 #Tested:514 Testing Accuracy:86.7%\rProgress:51.4% Speed(reviews/sec):4090. #Correct:447 #Tested:515 Testing Accuracy:86.7%\rProgress:51.5% Speed(reviews/sec):4092. #Correct:448 #Tested:516 Testing Accuracy:86.8%\rProgress:51.6% Speed(reviews/sec):4092. #Correct:449 #Tested:517 Testing Accuracy:86.8%\rProgress:51.7% Speed(reviews/sec):4096. #Correct:450 #Tested:518 Testing Accuracy:86.8%\rProgress:51.8% Speed(reviews/sec):4099. #Correct:450 #Tested:519 Testing Accuracy:86.7%\rProgress:51.9% Speed(reviews/sec):4102. #Correct:451 #Tested:520 Testing Accuracy:86.7%\rProgress:52.0% Speed(reviews/sec):4106. #Correct:452 #Tested:521 Testing Accuracy:86.7%\rProgress:52.1% Speed(reviews/sec):4108. #Correct:453 #Tested:522 Testing Accuracy:86.7%\rProgress:52.2% Speed(reviews/sec):4111. #Correct:454 #Tested:523 Testing Accuracy:86.8%\rProgress:52.3% Speed(reviews/sec):4114. #Correct:455 #Tested:524 Testing Accuracy:86.8%\rProgress:52.4% Speed(reviews/sec):4117. #Correct:456 #Tested:525 Testing Accuracy:86.8%\rProgress:52.5% Speed(reviews/sec):4120. #Correct:457 #Tested:526 Testing Accuracy:86.8%\rProgress:52.6% Speed(reviews/sec):4124. #Correct:458 #Tested:527 Testing Accuracy:86.9%\rProgress:52.7% Speed(reviews/sec):4127. #Correct:458 #Tested:528 Testing Accuracy:86.7%\rProgress:52.8% Speed(reviews/sec):4128. #Correct:458 #Tested:529 Testing Accuracy:86.5%\rProgress:52.9% Speed(reviews/sec):4130. #Correct:459 #Tested:530 Testing Accuracy:86.6%\rProgress:53.0% Speed(reviews/sec):4131. #Correct:460 #Tested:531 Testing Accuracy:86.6%\rProgress:53.1% Speed(reviews/sec):4134. #Correct:460 #Tested:532 Testing Accuracy:86.4%\rProgress:53.2% Speed(reviews/sec):4138. #Correct:461 #Tested:533 Testing Accuracy:86.4%\rProgress:53.3% Speed(reviews/sec):4140. #Correct:462 #Tested:534 Testing Accuracy:86.5%\rProgress:53.4% Speed(reviews/sec):4144. #Correct:463 #Tested:535 Testing Accuracy:86.5%\rProgress:53.5% Speed(reviews/sec):4147. #Correct:464 #Tested:536 Testing Accuracy:86.5%\rProgress:53.6% Speed(reviews/sec):4151. #Correct:464 #Tested:537 Testing Accuracy:86.4%\rProgress:53.7% Speed(reviews/sec):4155. #Correct:465 #Tested:538 Testing Accuracy:86.4%\rProgress:53.8% Speed(reviews/sec):4157. #Correct:466 #Tested:539 Testing Accuracy:86.4%\rProgress:53.9% Speed(reviews/sec):4160. #Correct:467 #Tested:540 Testing Accuracy:86.4%\rProgress:54.0% Speed(reviews/sec):4162. #Correct:468 #Tested:541 Testing Accuracy:86.5%\rProgress:54.1% Speed(reviews/sec):4165. #Correct:469 #Tested:542 Testing Accuracy:86.5%\rProgress:54.2% Speed(reviews/sec):4166. #Correct:470 #Tested:543 Testing Accuracy:86.5%\rProgress:54.3% Speed(reviews/sec):4168. #Correct:471 #Tested:544 Testing Accuracy:86.5%\rProgress:54.4% Speed(reviews/sec):4170. #Correct:471 #Tested:545 Testing Accuracy:86.4%\rProgress:54.5% Speed(reviews/sec):4171. #Correct:472 #Tested:546 Testing Accuracy:86.4%\rProgress:54.6% Speed(reviews/sec):4170. #Correct:472 #Tested:547 Testing Accuracy:86.2%\rProgress:54.7% Speed(reviews/sec):4173. #Correct:472 #Tested:548 Testing Accuracy:86.1%\rProgress:54.8% Speed(reviews/sec):4177. #Correct:473 #Tested:549 Testing Accuracy:86.1%\rProgress:54.9% Speed(reviews/sec):4181. #Correct:474 #Tested:550 Testing Accuracy:86.1%\rProgress:55.0% Speed(reviews/sec):4184. #Correct:475 #Tested:551 Testing Accuracy:86.2%\rProgress:55.1% Speed(reviews/sec):4186. #Correct:476 #Tested:552 Testing Accuracy:86.2%\rProgress:55.2% Speed(reviews/sec):4189. #Correct:477 #Tested:553 Testing Accuracy:86.2%\rProgress:55.3% Speed(reviews/sec):4193. #Correct:478 #Tested:554 Testing Accuracy:86.2%\rProgress:55.4% Speed(reviews/sec):4192. #Correct:479 #Tested:555 Testing Accuracy:86.3%\rProgress:55.5% Speed(reviews/sec):4195. #Correct:480 #Tested:556 Testing Accuracy:86.3%\rProgress:55.6% Speed(reviews/sec):4196. #Correct:481 #Tested:557 Testing Accuracy:86.3%\rProgress:55.7% Speed(reviews/sec):4198. #Correct:482 #Tested:558 Testing Accuracy:86.3%\rProgress:55.8% Speed(reviews/sec):4198. #Correct:482 #Tested:559 Testing Accuracy:86.2%\rProgress:55.9% Speed(reviews/sec):4201. #Correct:483 #Tested:560 Testing Accuracy:86.2%\rProgress:56.0% Speed(reviews/sec):4204. #Correct:484 #Tested:561 Testing Accuracy:86.2%\rProgress:56.1% Speed(reviews/sec):4208. #Correct:485 #Tested:562 Testing Accuracy:86.2%\rProgress:56.2% Speed(reviews/sec):4208. #Correct:486 #Tested:563 Testing Accuracy:86.3%\rProgress:56.3% Speed(reviews/sec):4211. #Correct:487 #Tested:564 Testing Accuracy:86.3%\rProgress:56.4% Speed(reviews/sec):4212. #Correct:488 #Tested:565 Testing Accuracy:86.3%\rProgress:56.5% Speed(reviews/sec):4216. #Correct:489 #Tested:566 Testing Accuracy:86.3%\rProgress:56.6% Speed(reviews/sec):4218. #Correct:490 #Tested:567 Testing Accuracy:86.4%\rProgress:56.7% Speed(reviews/sec):4221. #Correct:491 #Tested:568 Testing Accuracy:86.4%\rProgress:56.8% Speed(reviews/sec):4224. #Correct:492 #Tested:569 Testing Accuracy:86.4%\rProgress:56.9% Speed(reviews/sec):4226. #Correct:493 #Tested:570 Testing Accuracy:86.4%\rProgress:57.0% Speed(reviews/sec):4223. #Correct:494 #Tested:571 Testing Accuracy:86.5%\rProgress:57.1% Speed(reviews/sec):4224. #Correct:495 #Tested:572 Testing Accuracy:86.5%\rProgress:57.2% Speed(reviews/sec):4225. #Correct:495 #Tested:573 Testing Accuracy:86.3%\rProgress:57.3% Speed(reviews/sec):4227. #Correct:495 #Tested:574 Testing Accuracy:86.2%\rProgress:57.4% Speed(reviews/sec):4228. #Correct:495 #Tested:575 Testing Accuracy:86.0%\rProgress:57.5% Speed(reviews/sec):4231. #Correct:495 #Tested:576 Testing Accuracy:85.9%\rProgress:57.6% Speed(reviews/sec):4235. #Correct:496 #Tested:577 Testing Accuracy:85.9%\rProgress:57.7% Speed(reviews/sec):4238. #Correct:497 #Tested:578 Testing Accuracy:85.9%\rProgress:57.8% Speed(reviews/sec):4238. #Correct:498 #Tested:579 Testing Accuracy:86.0%\rProgress:57.9% Speed(reviews/sec):4241. #Correct:499 #Tested:580 Testing Accuracy:86.0%\rProgress:58.0% Speed(reviews/sec):4241. #Correct:500 #Tested:581 Testing Accuracy:86.0%\rProgress:58.1% Speed(reviews/sec):4245. #Correct:501 #Tested:582 Testing Accuracy:86.0%\rProgress:58.2% Speed(reviews/sec):4248. #Correct:502 #Tested:583 Testing Accuracy:86.1%\rProgress:58.3% Speed(reviews/sec):4251. #Correct:503 #Tested:584 Testing Accuracy:86.1%\rProgress:58.4% Speed(reviews/sec):4253. #Correct:504 #Tested:585 Testing Accuracy:86.1%\rProgress:58.5% Speed(reviews/sec):4256. #Correct:505 #Tested:586 Testing Accuracy:86.1%\rProgress:58.6% Speed(reviews/sec):4260. #Correct:506 #Tested:587 Testing Accuracy:86.2%\rProgress:58.7% Speed(reviews/sec):4262. #Correct:507 #Tested:588 Testing Accuracy:86.2%\rProgress:58.8% Speed(reviews/sec):4267. #Correct:508 #Tested:589 Testing Accuracy:86.2%\rProgress:58.9% Speed(reviews/sec):4270. #Correct:509 #Tested:590 Testing Accuracy:86.2%\rProgress:59.0% Speed(reviews/sec):4273. #Correct:510 #Tested:591 Testing Accuracy:86.2%\rProgress:59.1% Speed(reviews/sec):4276. #Correct:511 #Tested:592 Testing Accuracy:86.3%\rProgress:59.2% Speed(reviews/sec):4275. #Correct:511 #Tested:593 Testing Accuracy:86.1%\rProgress:59.3% Speed(reviews/sec):4277. #Correct:512 #Tested:594 Testing Accuracy:86.1%\rProgress:59.4% Speed(reviews/sec):4280. #Correct:513 #Tested:595 Testing Accuracy:86.2%\rProgress:59.5% Speed(reviews/sec):4284. #Correct:514 #Tested:596 Testing Accuracy:86.2%\rProgress:59.6% Speed(reviews/sec):4288. #Correct:515 #Tested:597 Testing Accuracy:86.2%\rProgress:59.7% Speed(reviews/sec):4290. #Correct:516 #Tested:598 Testing Accuracy:86.2%\rProgress:59.8% Speed(reviews/sec):4293. #Correct:516 #Tested:599 Testing Accuracy:86.1%\rProgress:59.9% Speed(reviews/sec):4295. #Correct:517 #Tested:600 Testing Accuracy:86.1%\rProgress:60.0% Speed(reviews/sec):4296. #Correct:518 #Tested:601 Testing Accuracy:86.1%\rProgress:60.1% Speed(reviews/sec):4299. #Correct:519 #Tested:602 Testing Accuracy:86.2%\rProgress:60.2% Speed(reviews/sec):4302. #Correct:520 #Tested:603 Testing Accuracy:86.2%\rProgress:60.3% Speed(reviews/sec):4306. #Correct:521 #Tested:604 Testing Accuracy:86.2%\rProgress:60.4% Speed(reviews/sec):4308. #Correct:522 #Tested:605 Testing Accuracy:86.2%\rProgress:60.5% Speed(reviews/sec):4305. #Correct:523 #Tested:606 Testing Accuracy:86.3%\rProgress:60.6% Speed(reviews/sec):4308. #Correct:523 #Tested:607 Testing Accuracy:86.1%\rProgress:60.7% Speed(reviews/sec):4311. #Correct:524 #Tested:608 Testing Accuracy:86.1%\rProgress:60.8% Speed(reviews/sec):4315. #Correct:525 #Tested:609 Testing Accuracy:86.2%\rProgress:60.9% Speed(reviews/sec):4319. #Correct:526 #Tested:610 Testing Accuracy:86.2%\rProgress:61.0% Speed(reviews/sec):4320. #Correct:526 #Tested:611 Testing Accuracy:86.0%\rProgress:61.1% Speed(reviews/sec):4322. #Correct:527 #Tested:612 Testing Accuracy:86.1%\rProgress:61.2% Speed(reviews/sec):4326. #Correct:528 #Tested:613 Testing Accuracy:86.1%\rProgress:61.3% Speed(reviews/sec):4329. #Correct:529 #Tested:614 Testing Accuracy:86.1%\rProgress:61.4% Speed(reviews/sec):4332. #Correct:530 #Tested:615 Testing Accuracy:86.1%\rProgress:61.5% Speed(reviews/sec):4335. #Correct:530 #Tested:616 Testing Accuracy:86.0%\rProgress:61.6% Speed(reviews/sec):4337. #Correct:531 #Tested:617 Testing Accuracy:86.0%\rProgress:61.7% Speed(reviews/sec):4340. #Correct:532 #Tested:618 Testing Accuracy:86.0%\rProgress:61.8% Speed(reviews/sec):4343. #Correct:533 #Tested:619 Testing Accuracy:86.1%\rProgress:61.9% Speed(reviews/sec):4345. #Correct:533 #Tested:620 Testing Accuracy:85.9%\rProgress:62.0% Speed(reviews/sec):4345. #Correct:533 #Tested:621 Testing Accuracy:85.8%\rProgress:62.1% Speed(reviews/sec):4348. #Correct:534 #Tested:622 Testing Accuracy:85.8%\rProgress:62.2% Speed(reviews/sec):4350. #Correct:534 #Tested:623 Testing Accuracy:85.7%\rProgress:62.3% Speed(reviews/sec):4354. #Correct:535 #Tested:624 Testing Accuracy:85.7%\rProgress:62.4% Speed(reviews/sec):4356. #Correct:536 #Tested:625 Testing Accuracy:85.7%\rProgress:62.5% Speed(reviews/sec):4351. #Correct:536 #Tested:626 Testing Accuracy:85.6%\rProgress:62.6% Speed(reviews/sec):4352. #Correct:536 #Tested:627 Testing Accuracy:85.4%\rProgress:62.7% Speed(reviews/sec):4355. #Correct:536 #Tested:628 Testing Accuracy:85.3%\rProgress:62.8% Speed(reviews/sec):4359. #Correct:536 #Tested:629 Testing Accuracy:85.2%\rProgress:62.9% Speed(reviews/sec):4359. #Correct:537 #Tested:630 Testing Accuracy:85.2%\rProgress:63.0% Speed(reviews/sec):4360. #Correct:537 #Tested:631 Testing Accuracy:85.1%\rProgress:63.1% Speed(reviews/sec):4358. #Correct:538 #Tested:632 Testing Accuracy:85.1%\rProgress:63.2% Speed(reviews/sec):4361. #Correct:538 #Tested:633 Testing Accuracy:84.9%\rProgress:63.3% Speed(reviews/sec):4362. #Correct:539 #Tested:634 Testing Accuracy:85.0%\rProgress:63.4% Speed(reviews/sec):4362. #Correct:539 #Tested:635 Testing Accuracy:84.8%\rProgress:63.5% Speed(reviews/sec):4361. #Correct:540 #Tested:636 Testing Accuracy:84.9%\rProgress:63.6% Speed(reviews/sec):4364. #Correct:540 #Tested:637 Testing Accuracy:84.7%\rProgress:63.7% Speed(reviews/sec):4366. #Correct:541 #Tested:638 Testing Accuracy:84.7%\rProgress:63.8% Speed(reviews/sec):4368. #Correct:542 #Tested:639 Testing Accuracy:84.8%\rProgress:63.9% Speed(reviews/sec):4372. #Correct:543 #Tested:640 Testing Accuracy:84.8%\rProgress:64.0% Speed(reviews/sec):4376. #Correct:543 #Tested:641 Testing Accuracy:84.7%\rProgress:64.1% Speed(reviews/sec):4375. #Correct:543 #Tested:642 Testing Accuracy:84.5%\rProgress:64.2% Speed(reviews/sec):4377. #Correct:544 #Tested:643 Testing Accuracy:84.6%\rProgress:64.3% Speed(reviews/sec):4379. #Correct:545 #Tested:644 Testing Accuracy:84.6%\rProgress:64.4% Speed(reviews/sec):4381. #Correct:546 #Tested:645 Testing Accuracy:84.6%\rProgress:64.5% Speed(reviews/sec):4369. #Correct:546 #Tested:646 Testing Accuracy:84.5%\rProgress:64.6% Speed(reviews/sec):4368. #Correct:547 #Tested:647 Testing Accuracy:84.5%\rProgress:64.7% Speed(reviews/sec):4370. #Correct:548 #Tested:648 Testing Accuracy:84.5%\rProgress:64.8% Speed(reviews/sec):4373. #Correct:549 #Tested:649 Testing Accuracy:84.5%\rProgress:64.9% Speed(reviews/sec):4376. #Correct:550 #Tested:650 Testing Accuracy:84.6%\rProgress:65.0% Speed(reviews/sec):4262. #Correct:550 #Tested:651 Testing Accuracy:84.4%\rProgress:65.1% Speed(reviews/sec):4236. #Correct:551 #Tested:652 Testing Accuracy:84.5%\rProgress:65.2% Speed(reviews/sec):4239. #Correct:552 #Tested:653 Testing Accuracy:84.5%\rProgress:65.3% Speed(reviews/sec):4241. #Correct:553 #Tested:654 Testing Accuracy:84.5%\rProgress:65.4% Speed(reviews/sec):4217. #Correct:553 #Tested:655 Testing Accuracy:84.4%\rProgress:65.5% Speed(reviews/sec):4219. #Correct:554 #Tested:656 Testing Accuracy:84.4%\rProgress:65.6% Speed(reviews/sec):4222. #Correct:554 #Tested:657 Testing Accuracy:84.3%\rProgress:65.7% Speed(reviews/sec):4222. #Correct:555 #Tested:658 Testing Accuracy:84.3%\rProgress:65.8% Speed(reviews/sec):4225. #Correct:556 #Tested:659 Testing Accuracy:84.3%\rProgress:65.9% Speed(reviews/sec):4227. #Correct:557 #Tested:660 Testing Accuracy:84.3%\rProgress:66.0% Speed(reviews/sec):4231. #Correct:558 #Tested:661 Testing Accuracy:84.4%\rProgress:66.1% Speed(reviews/sec):4233. #Correct:559 #Tested:662 Testing Accuracy:84.4%\rProgress:66.2% Speed(reviews/sec):4235. #Correct:560 #Tested:663 Testing Accuracy:84.4%\rProgress:66.3% Speed(reviews/sec):4236. #Correct:560 #Tested:664 Testing Accuracy:84.3%\rProgress:66.4% Speed(reviews/sec):4239. #Correct:561 #Tested:665 Testing Accuracy:84.3%\rProgress:66.5% Speed(reviews/sec):4241. #Correct:562 #Tested:666 Testing Accuracy:84.3%\rProgress:66.6% Speed(reviews/sec):4245. #Correct:563 #Tested:667 Testing Accuracy:84.4%\rProgress:66.7% Speed(reviews/sec):4247. #Correct:564 #Tested:668 Testing Accuracy:84.4%\rProgress:66.8% Speed(reviews/sec):4249. #Correct:565 #Tested:669 Testing Accuracy:84.4%\rProgress:66.9% Speed(reviews/sec):4252. #Correct:565 #Tested:670 Testing Accuracy:84.3%\rProgress:67.0% Speed(reviews/sec):4255. #Correct:566 #Tested:671 Testing Accuracy:84.3%\rProgress:67.1% Speed(reviews/sec):4258. #Correct:567 #Tested:672 Testing Accuracy:84.3%\rProgress:67.2% Speed(reviews/sec):4262. #Correct:568 #Tested:673 Testing Accuracy:84.3%\rProgress:67.3% Speed(reviews/sec):4263. #Correct:569 #Tested:674 Testing Accuracy:84.4%\rProgress:67.4% Speed(reviews/sec):4267. #Correct:570 #Tested:675 Testing Accuracy:84.4%\rProgress:67.5% Speed(reviews/sec):4269. #Correct:571 #Tested:676 Testing Accuracy:84.4%\rProgress:67.6% Speed(reviews/sec):4272. #Correct:571 #Tested:677 Testing Accuracy:84.3%\rProgress:67.7% Speed(reviews/sec):4273. #Correct:571 #Tested:678 Testing Accuracy:84.2%\rProgress:67.8% Speed(reviews/sec):4277. #Correct:572 #Tested:679 Testing Accuracy:84.2%\rProgress:67.9% Speed(reviews/sec):4279. #Correct:573 #Tested:680 Testing Accuracy:84.2%\rProgress:68.0% Speed(reviews/sec):4282. #Correct:573 #Tested:681 Testing Accuracy:84.1%\rProgress:68.1% Speed(reviews/sec):4284. #Correct:574 #Tested:682 Testing Accuracy:84.1%\rProgress:68.2% Speed(reviews/sec):4286. #Correct:575 #Tested:683 Testing Accuracy:84.1%\rProgress:68.3% Speed(reviews/sec):4289. #Correct:576 #Tested:684 Testing Accuracy:84.2%\rProgress:68.4% Speed(reviews/sec):4291. #Correct:577 #Tested:685 Testing Accuracy:84.2%\rProgress:68.5% Speed(reviews/sec):4255. #Correct:578 #Tested:686 Testing Accuracy:84.2%\rProgress:68.6% Speed(reviews/sec):4257. #Correct:578 #Tested:687 Testing Accuracy:84.1%\rProgress:68.7% Speed(reviews/sec):4260. #Correct:579 #Tested:688 Testing Accuracy:84.1%\rProgress:68.8% Speed(reviews/sec):4257. #Correct:580 #Tested:689 Testing Accuracy:84.1%\rProgress:68.9% Speed(reviews/sec):4260. #Correct:581 #Tested:690 Testing Accuracy:84.2%\rProgress:69.0% Speed(reviews/sec):4262. #Correct:582 #Tested:691 Testing Accuracy:84.2%\rProgress:69.1% Speed(reviews/sec):4264. #Correct:583 #Tested:692 Testing Accuracy:84.2%\rProgress:69.2% Speed(reviews/sec):4267. #Correct:584 #Tested:693 Testing Accuracy:84.2%\rProgress:69.3% Speed(reviews/sec):4269. #Correct:585 #Tested:694 Testing Accuracy:84.2%\rProgress:69.4% Speed(reviews/sec):4270. #Correct:585 #Tested:695 Testing Accuracy:84.1%\rProgress:69.5% Speed(reviews/sec):4271. #Correct:586 #Tested:696 Testing Accuracy:84.1%\rProgress:69.6% Speed(reviews/sec):4274. #Correct:587 #Tested:697 Testing Accuracy:84.2%\rProgress:69.7% Speed(reviews/sec):4277. #Correct:588 #Tested:698 Testing Accuracy:84.2%\rProgress:69.8% Speed(reviews/sec):4279. #Correct:589 #Tested:699 Testing Accuracy:84.2%\rProgress:69.9% Speed(reviews/sec):4282. #Correct:590 #Tested:700 Testing Accuracy:84.2%\rProgress:70.0% Speed(reviews/sec):4283. #Correct:590 #Tested:701 Testing Accuracy:84.1%\rProgress:70.1% Speed(reviews/sec):4285. #Correct:591 #Tested:702 Testing Accuracy:84.1%\rProgress:70.2% Speed(reviews/sec):4287. #Correct:592 #Tested:703 Testing Accuracy:84.2%\rProgress:70.3% Speed(reviews/sec):4288. #Correct:593 #Tested:704 Testing Accuracy:84.2%\rProgress:70.4% Speed(reviews/sec):4290. #Correct:594 #Tested:705 Testing Accuracy:84.2%\rProgress:70.5% Speed(reviews/sec):4292. #Correct:595 #Tested:706 Testing Accuracy:84.2%\rProgress:70.6% Speed(reviews/sec):4294. #Correct:596 #Tested:707 Testing Accuracy:84.2%\rProgress:70.7% Speed(reviews/sec):4296. #Correct:597 #Tested:708 Testing Accuracy:84.3%\rProgress:70.8% Speed(reviews/sec):4297. #Correct:598 #Tested:709 Testing Accuracy:84.3%\rProgress:70.9% Speed(reviews/sec):4299. #Correct:599 #Tested:710 Testing Accuracy:84.3%\rProgress:71.0% Speed(reviews/sec):4301. #Correct:599 #Tested:711 Testing Accuracy:84.2%\rProgress:71.1% Speed(reviews/sec):4304. #Correct:600 #Tested:712 Testing Accuracy:84.2%\rProgress:71.2% Speed(reviews/sec):4307. #Correct:600 #Tested:713 Testing Accuracy:84.1%\rProgress:71.3% Speed(reviews/sec):4308. #Correct:601 #Tested:714 Testing Accuracy:84.1%\rProgress:71.4% Speed(reviews/sec):4310. #Correct:602 #Tested:715 Testing Accuracy:84.1%\rProgress:71.5% Speed(reviews/sec):4312. #Correct:603 #Tested:716 Testing Accuracy:84.2%\rProgress:71.6% Speed(reviews/sec):4315. #Correct:604 #Tested:717 Testing Accuracy:84.2%\rProgress:71.7% Speed(reviews/sec):4318. #Correct:605 #Tested:718 Testing Accuracy:84.2%\rProgress:71.8% Speed(reviews/sec):4320. #Correct:606 #Tested:719 Testing Accuracy:84.2%\rProgress:71.9% Speed(reviews/sec):4322. #Correct:607 #Tested:720 Testing Accuracy:84.3%\rProgress:72.0% Speed(reviews/sec):4325. #Correct:607 #Tested:721 Testing Accuracy:84.1%\rProgress:72.1% Speed(reviews/sec):4328. #Correct:608 #Tested:722 Testing Accuracy:84.2%\rProgress:72.2% Speed(reviews/sec):4330. #Correct:609 #Tested:723 Testing Accuracy:84.2%\rProgress:72.3% Speed(reviews/sec):4332. #Correct:610 #Tested:724 Testing Accuracy:84.2%\rProgress:72.4% Speed(reviews/sec):4335. #Correct:610 #Tested:725 Testing Accuracy:84.1%\rProgress:72.5% Speed(reviews/sec):4336. #Correct:611 #Tested:726 Testing Accuracy:84.1%\rProgress:72.6% Speed(reviews/sec):4336. #Correct:612 #Tested:727 Testing Accuracy:84.1%\rProgress:72.7% Speed(reviews/sec):4335. #Correct:613 #Tested:728 Testing Accuracy:84.2%\rProgress:72.8% Speed(reviews/sec):4338. #Correct:614 #Tested:729 Testing Accuracy:84.2%\rProgress:72.9% Speed(reviews/sec):4337. #Correct:615 #Tested:730 Testing Accuracy:84.2%\rProgress:73.0% Speed(reviews/sec):4340. #Correct:616 #Tested:731 Testing Accuracy:84.2%\rProgress:73.1% Speed(reviews/sec):4343. #Correct:617 #Tested:732 Testing Accuracy:84.2%\rProgress:73.2% Speed(reviews/sec):4343. #Correct:618 #Tested:733 Testing Accuracy:84.3%\rProgress:73.3% Speed(reviews/sec):4344. #Correct:619 #Tested:734 Testing Accuracy:84.3%\rProgress:73.4% Speed(reviews/sec):4344. #Correct:620 #Tested:735 Testing Accuracy:84.3%\rProgress:73.5% Speed(reviews/sec):4346. #Correct:621 #Tested:736 Testing Accuracy:84.3%\rProgress:73.6% Speed(reviews/sec):4348. #Correct:622 #Tested:737 Testing Accuracy:84.3%\rProgress:73.7% Speed(reviews/sec):4350. #Correct:622 #Tested:738 Testing Accuracy:84.2%\rProgress:73.8% Speed(reviews/sec):4351. #Correct:623 #Tested:739 Testing Accuracy:84.3%\rProgress:73.9% Speed(reviews/sec):4353. #Correct:624 #Tested:740 Testing Accuracy:84.3%\rProgress:74.0% Speed(reviews/sec):4356. #Correct:625 #Tested:741 Testing Accuracy:84.3%\rProgress:74.1% Speed(reviews/sec):4359. #Correct:626 #Tested:742 Testing Accuracy:84.3%\rProgress:74.2% Speed(reviews/sec):4361. #Correct:627 #Tested:743 Testing Accuracy:84.3%\rProgress:74.3% Speed(reviews/sec):4362. #Correct:627 #Tested:744 Testing Accuracy:84.2%\rProgress:74.4% Speed(reviews/sec):4364. #Correct:628 #Tested:745 Testing Accuracy:84.2%\rProgress:74.5% Speed(reviews/sec):4362. #Correct:628 #Tested:746 Testing Accuracy:84.1%\rProgress:74.6% Speed(reviews/sec):4364. #Correct:629 #Tested:747 Testing Accuracy:84.2%\rProgress:74.7% Speed(reviews/sec):4363. #Correct:629 #Tested:748 Testing Accuracy:84.0%\rProgress:74.8% Speed(reviews/sec):4365. #Correct:630 #Tested:749 Testing Accuracy:84.1%\rProgress:74.9% Speed(reviews/sec):4300. #Correct:631 #Tested:750 Testing Accuracy:84.1%\rProgress:75.0% Speed(reviews/sec):4302. #Correct:632 #Tested:751 Testing Accuracy:84.1%\rProgress:75.1% Speed(reviews/sec):4304. #Correct:633 #Tested:752 Testing Accuracy:84.1%\rProgress:75.2% Speed(reviews/sec):4306. #Correct:634 #Tested:753 Testing Accuracy:84.1%\rProgress:75.3% Speed(reviews/sec):4308. #Correct:635 #Tested:754 Testing Accuracy:84.2%\rProgress:75.4% Speed(reviews/sec):4308. #Correct:636 #Tested:755 Testing Accuracy:84.2%\rProgress:75.5% Speed(reviews/sec):4311. #Correct:636 #Tested:756 Testing Accuracy:84.1%\rProgress:75.6% Speed(reviews/sec):4313. #Correct:636 #Tested:757 Testing Accuracy:84.0%\rProgress:75.7% Speed(reviews/sec):4316. #Correct:637 #Tested:758 Testing Accuracy:84.0%\rProgress:75.8% Speed(reviews/sec):4317. #Correct:637 #Tested:759 Testing Accuracy:83.9%\rProgress:75.9% Speed(reviews/sec):4319. #Correct:638 #Tested:760 Testing Accuracy:83.9%\rProgress:76.0% Speed(reviews/sec):4320. #Correct:638 #Tested:761 Testing Accuracy:83.8%\rProgress:76.1% Speed(reviews/sec):4321. #Correct:639 #Tested:762 Testing Accuracy:83.8%\rProgress:76.2% Speed(reviews/sec):4322. #Correct:639 #Tested:763 Testing Accuracy:83.7%\rProgress:76.3% Speed(reviews/sec):4324. #Correct:640 #Tested:764 Testing Accuracy:83.7%\rProgress:76.4% Speed(reviews/sec):4325. #Correct:640 #Tested:765 Testing Accuracy:83.6%\rProgress:76.5% Speed(reviews/sec):4326. #Correct:640 #Tested:766 Testing Accuracy:83.5%\rProgress:76.6% Speed(reviews/sec):4328. #Correct:640 #Tested:767 Testing Accuracy:83.4%\rProgress:76.7% Speed(reviews/sec):4330. #Correct:640 #Tested:768 Testing Accuracy:83.3%\rProgress:76.8% Speed(reviews/sec):4332. #Correct:640 #Tested:769 Testing Accuracy:83.2%\rProgress:76.9% Speed(reviews/sec):4335. #Correct:640 #Tested:770 Testing Accuracy:83.1%\rProgress:77.0% Speed(reviews/sec):4333. #Correct:640 #Tested:771 Testing Accuracy:83.0%\rProgress:77.1% Speed(reviews/sec):4336. #Correct:641 #Tested:772 Testing Accuracy:83.0%\rProgress:77.2% Speed(reviews/sec):4339. #Correct:642 #Tested:773 Testing Accuracy:83.0%\rProgress:77.3% Speed(reviews/sec):4340. #Correct:643 #Tested:774 Testing Accuracy:83.0%\rProgress:77.4% Speed(reviews/sec):4342. #Correct:644 #Tested:775 Testing Accuracy:83.0%\rProgress:77.5% Speed(reviews/sec):4342. #Correct:645 #Tested:776 Testing Accuracy:83.1%\rProgress:77.6% Speed(reviews/sec):4343. #Correct:645 #Tested:777 Testing Accuracy:83.0%\rProgress:77.7% Speed(reviews/sec):4344. #Correct:645 #Tested:778 Testing Accuracy:82.9%\rProgress:77.8% Speed(reviews/sec):4342. #Correct:646 #Tested:779 Testing Accuracy:82.9%\rProgress:77.9% Speed(reviews/sec):4344. #Correct:647 #Tested:780 Testing Accuracy:82.9%\rProgress:78.0% Speed(reviews/sec):4340. #Correct:647 #Tested:781 Testing Accuracy:82.8%\rProgress:78.1% Speed(reviews/sec):4343. #Correct:648 #Tested:782 Testing Accuracy:82.8%\rProgress:78.2% Speed(reviews/sec):4344. #Correct:649 #Tested:783 Testing Accuracy:82.8%\rProgress:78.3% Speed(reviews/sec):4347. #Correct:650 #Tested:784 Testing Accuracy:82.9%\rProgress:78.4% Speed(reviews/sec):4347. #Correct:650 #Tested:785 Testing Accuracy:82.8%\rProgress:78.5% Speed(reviews/sec):4350. #Correct:651 #Tested:786 Testing Accuracy:82.8%\rProgress:78.6% Speed(reviews/sec):4351. #Correct:651 #Tested:787 Testing Accuracy:82.7%\rProgress:78.7% Speed(reviews/sec):4351. #Correct:652 #Tested:788 Testing Accuracy:82.7%\rProgress:78.8% Speed(reviews/sec):4353. #Correct:652 #Tested:789 Testing Accuracy:82.6%\rProgress:78.9% Speed(reviews/sec):4353. #Correct:653 #Tested:790 Testing Accuracy:82.6%\rProgress:79.0% Speed(reviews/sec):4353. #Correct:653 #Tested:791 Testing Accuracy:82.5%\rProgress:79.1% Speed(reviews/sec):4353. #Correct:654 #Tested:792 Testing Accuracy:82.5%\rProgress:79.2% Speed(reviews/sec):4353. #Correct:654 #Tested:793 Testing Accuracy:82.4%\rProgress:79.3% Speed(reviews/sec):4354. #Correct:654 #Tested:794 Testing Accuracy:82.3%\rProgress:79.4% Speed(reviews/sec):4356. #Correct:655 #Tested:795 Testing Accuracy:82.3%\rProgress:79.5% Speed(reviews/sec):4358. #Correct:656 #Tested:796 Testing Accuracy:82.4%\rProgress:79.6% Speed(reviews/sec):4360. #Correct:657 #Tested:797 Testing Accuracy:82.4%\rProgress:79.7% Speed(reviews/sec):4362. #Correct:658 #Tested:798 Testing Accuracy:82.4%\rProgress:79.8% Speed(reviews/sec):4366. #Correct:659 #Tested:799 Testing Accuracy:82.4%\rProgress:79.9% Speed(reviews/sec):4368. #Correct:660 #Tested:800 Testing Accuracy:82.5%\rProgress:80.0% Speed(reviews/sec):4371. #Correct:661 #Tested:801 Testing Accuracy:82.5%\rProgress:80.1% Speed(reviews/sec):4374. #Correct:662 #Tested:802 Testing Accuracy:82.5%\rProgress:80.2% Speed(reviews/sec):4376. #Correct:663 #Tested:803 Testing Accuracy:82.5%\rProgress:80.3% Speed(reviews/sec):4379. #Correct:664 #Tested:804 Testing Accuracy:82.5%\rProgress:80.4% Speed(reviews/sec):4381. #Correct:665 #Tested:805 Testing Accuracy:82.6%\rProgress:80.5% Speed(reviews/sec):4384. #Correct:665 #Tested:806 Testing Accuracy:82.5%\rProgress:80.6% Speed(reviews/sec):4385. #Correct:666 #Tested:807 Testing Accuracy:82.5%\rProgress:80.7% Speed(reviews/sec):4386. #Correct:667 #Tested:808 Testing Accuracy:82.5%\rProgress:80.8% Speed(reviews/sec):4385. #Correct:668 #Tested:809 Testing Accuracy:82.5%\rProgress:80.9% Speed(reviews/sec):4384. #Correct:669 #Tested:810 Testing Accuracy:82.5%\rProgress:81.0% Speed(reviews/sec):4383. #Correct:670 #Tested:811 Testing Accuracy:82.6%\rProgress:81.1% Speed(reviews/sec):4384. #Correct:671 #Tested:812 Testing Accuracy:82.6%\rProgress:81.2% Speed(reviews/sec):4385. #Correct:672 #Tested:813 Testing Accuracy:82.6%\rProgress:81.3% Speed(reviews/sec):4384. #Correct:672 #Tested:814 Testing Accuracy:82.5%\rProgress:81.4% Speed(reviews/sec):4382. #Correct:673 #Tested:815 Testing Accuracy:82.5%\rProgress:81.5% Speed(reviews/sec):4384. #Correct:674 #Tested:816 Testing Accuracy:82.5%\rProgress:81.6% Speed(reviews/sec):4386. #Correct:675 #Tested:817 Testing Accuracy:82.6%\rProgress:81.7% Speed(reviews/sec):4387. #Correct:676 #Tested:818 Testing Accuracy:82.6%\rProgress:81.8% Speed(reviews/sec):4387. #Correct:677 #Tested:819 Testing Accuracy:82.6%\rProgress:81.9% Speed(reviews/sec):4390. #Correct:677 #Tested:820 Testing Accuracy:82.5%\rProgress:82.0% Speed(reviews/sec):4387. #Correct:678 #Tested:821 Testing Accuracy:82.5%\rProgress:82.1% Speed(reviews/sec):4388. #Correct:678 #Tested:822 Testing Accuracy:82.4%\rProgress:82.2% Speed(reviews/sec):4390. #Correct:678 #Tested:823 Testing Accuracy:82.3%\rProgress:82.3% Speed(reviews/sec):4392. #Correct:679 #Tested:824 Testing Accuracy:82.4%\rProgress:82.4% Speed(reviews/sec):4393. #Correct:680 #Tested:825 Testing Accuracy:82.4%\rProgress:82.5% Speed(reviews/sec):4394. #Correct:681 #Tested:826 Testing Accuracy:82.4%\rProgress:82.6% Speed(reviews/sec):4390. #Correct:682 #Tested:827 Testing Accuracy:82.4%\rProgress:82.7% Speed(reviews/sec):4392. #Correct:683 #Tested:828 Testing Accuracy:82.4%\rProgress:82.8% Speed(reviews/sec):4392. #Correct:684 #Tested:829 Testing Accuracy:82.5%\rProgress:82.9% Speed(reviews/sec):4393. #Correct:685 #Tested:830 Testing Accuracy:82.5%\rProgress:83.0% Speed(reviews/sec):4395. #Correct:686 #Tested:831 Testing Accuracy:82.5%\rProgress:83.1% Speed(reviews/sec):4397. #Correct:687 #Tested:832 Testing Accuracy:82.5%\rProgress:83.2% Speed(reviews/sec):4399. #Correct:688 #Tested:833 Testing Accuracy:82.5%\rProgress:83.3% Speed(reviews/sec):4400. #Correct:688 #Tested:834 Testing Accuracy:82.4%\rProgress:83.4% Speed(reviews/sec):4400. #Correct:689 #Tested:835 Testing Accuracy:82.5%\rProgress:83.5% Speed(reviews/sec):4402. #Correct:690 #Tested:836 Testing Accuracy:82.5%\rProgress:83.6% Speed(reviews/sec):4401. #Correct:691 #Tested:837 Testing Accuracy:82.5%\rProgress:83.7% Speed(reviews/sec):4397. #Correct:692 #Tested:838 Testing Accuracy:82.5%\rProgress:83.8% Speed(reviews/sec):4397. #Correct:692 #Tested:839 Testing Accuracy:82.4%\rProgress:83.9% Speed(reviews/sec):4400. #Correct:693 #Tested:840 Testing Accuracy:82.5%\rProgress:84.0% Speed(reviews/sec):4403. #Correct:694 #Tested:841 Testing Accuracy:82.5%\rProgress:84.1% Speed(reviews/sec):4405. #Correct:695 #Tested:842 Testing Accuracy:82.5%\rProgress:84.2% Speed(reviews/sec):4406. #Correct:696 #Tested:843 Testing Accuracy:82.5%\rProgress:84.3% Speed(reviews/sec):4408. #Correct:697 #Tested:844 Testing Accuracy:82.5%\rProgress:84.4% Speed(reviews/sec):4410. #Correct:698 #Tested:845 Testing Accuracy:82.6%\rProgress:84.5% Speed(reviews/sec):4411. #Correct:699 #Tested:846 Testing Accuracy:82.6%\rProgress:84.6% Speed(reviews/sec):4412. #Correct:699 #Tested:847 Testing Accuracy:82.5%\rProgress:84.7% Speed(reviews/sec):4414. #Correct:699 #Tested:848 Testing Accuracy:82.4%\rProgress:84.8% Speed(reviews/sec):4417. #Correct:700 #Tested:849 Testing Accuracy:82.4%\rProgress:84.9% Speed(reviews/sec):4414. #Correct:701 #Tested:850 Testing Accuracy:82.4%\rProgress:85.0% Speed(reviews/sec):4413. #Correct:702 #Tested:851 Testing Accuracy:82.4%\rProgress:85.1% Speed(reviews/sec):4415. #Correct:703 #Tested:852 Testing Accuracy:82.5%\rProgress:85.2% Speed(reviews/sec):4415. #Correct:703 #Tested:853 Testing Accuracy:82.4%\rProgress:85.3% Speed(reviews/sec):4416. #Correct:704 #Tested:854 Testing Accuracy:82.4%\rProgress:85.4% Speed(reviews/sec):4418. #Correct:705 #Tested:855 Testing Accuracy:82.4%\rProgress:85.5% Speed(reviews/sec):4420. #Correct:706 #Tested:856 Testing Accuracy:82.4%\rProgress:85.6% Speed(reviews/sec):4421. #Correct:707 #Tested:857 Testing Accuracy:82.4%\rProgress:85.7% Speed(reviews/sec):4422. #Correct:708 #Tested:858 Testing Accuracy:82.5%\rProgress:85.8% Speed(reviews/sec):4423. #Correct:709 #Tested:859 Testing Accuracy:82.5%\rProgress:85.9% Speed(reviews/sec):4424. #Correct:710 #Tested:860 Testing Accuracy:82.5%\rProgress:86.0% Speed(reviews/sec):4426. #Correct:711 #Tested:861 Testing Accuracy:82.5%\rProgress:86.1% Speed(reviews/sec):4427. #Correct:712 #Tested:862 Testing Accuracy:82.5%\rProgress:86.2% Speed(reviews/sec):4429. #Correct:712 #Tested:863 Testing Accuracy:82.5%\rProgress:86.3% Speed(reviews/sec):4424. #Correct:713 #Tested:864 Testing Accuracy:82.5%\rProgress:86.4% Speed(reviews/sec):4427. #Correct:713 #Tested:865 Testing Accuracy:82.4%\rProgress:86.5% Speed(reviews/sec):4428. #Correct:714 #Tested:866 Testing Accuracy:82.4%\rProgress:86.6% Speed(reviews/sec):4430. #Correct:714 #Tested:867 Testing Accuracy:82.3%\rProgress:86.7% Speed(reviews/sec):4432. #Correct:714 #Tested:868 Testing Accuracy:82.2%\rProgress:86.8% Speed(reviews/sec):4435. #Correct:715 #Tested:869 Testing Accuracy:82.2%\rProgress:86.9% Speed(reviews/sec):4437. #Correct:716 #Tested:870 Testing Accuracy:82.2%\rProgress:87.0% Speed(reviews/sec):4439. #Correct:717 #Tested:871 Testing Accuracy:82.3%\rProgress:87.1% Speed(reviews/sec):4440. #Correct:718 #Tested:872 Testing Accuracy:82.3%\rProgress:87.2% Speed(reviews/sec):4442. #Correct:719 #Tested:873 Testing Accuracy:82.3%\rProgress:87.3% Speed(reviews/sec):4445. #Correct:720 #Tested:874 Testing Accuracy:82.3%\rProgress:87.4% Speed(reviews/sec):4446. #Correct:721 #Tested:875 Testing Accuracy:82.4%\rProgress:87.5% Speed(reviews/sec):4449. #Correct:722 #Tested:876 Testing Accuracy:82.4%\rProgress:87.6% Speed(reviews/sec):4452. #Correct:722 #Tested:877 Testing Accuracy:82.3%\rProgress:87.7% Speed(reviews/sec):4447. #Correct:723 #Tested:878 Testing Accuracy:82.3%\rProgress:87.8% Speed(reviews/sec):4449. #Correct:724 #Tested:879 Testing Accuracy:82.3%\rProgress:87.9% Speed(reviews/sec):4451. #Correct:725 #Tested:880 Testing Accuracy:82.3%\rProgress:88.0% Speed(reviews/sec):4453. #Correct:726 #Tested:881 Testing Accuracy:82.4%\rProgress:88.1% Speed(reviews/sec):4455. #Correct:727 #Tested:882 Testing Accuracy:82.4%\rProgress:88.2% Speed(reviews/sec):4457. #Correct:728 #Tested:883 Testing Accuracy:82.4%\rProgress:88.3% Speed(reviews/sec):4459. #Correct:729 #Tested:884 Testing Accuracy:82.4%\rProgress:88.4% Speed(reviews/sec):4461. #Correct:730 #Tested:885 Testing Accuracy:82.4%\rProgress:88.5% Speed(reviews/sec):4463. #Correct:731 #Tested:886 Testing Accuracy:82.5%\rProgress:88.6% Speed(reviews/sec):4466. #Correct:732 #Tested:887 Testing Accuracy:82.5%\rProgress:88.7% Speed(reviews/sec):4467. #Correct:733 #Tested:888 Testing Accuracy:82.5%\rProgress:88.8% Speed(reviews/sec):4345. #Correct:733 #Tested:889 Testing Accuracy:82.4%\rProgress:88.9% Speed(reviews/sec):4344. #Correct:734 #Tested:890 Testing Accuracy:82.4%\rProgress:89.0% Speed(reviews/sec):4346. #Correct:735 #Tested:891 Testing Accuracy:82.4%\rProgress:89.1% Speed(reviews/sec):4346. #Correct:736 #Tested:892 Testing Accuracy:82.5%\rProgress:89.2% Speed(reviews/sec):4349. #Correct:736 #Tested:893 Testing Accuracy:82.4%\rProgress:89.3% Speed(reviews/sec):4351. #Correct:737 #Tested:894 Testing Accuracy:82.4%\rProgress:89.4% Speed(reviews/sec):4353. #Correct:738 #Tested:895 Testing Accuracy:82.4%\rProgress:89.5% Speed(reviews/sec):4355. #Correct:739 #Tested:896 Testing Accuracy:82.4%\rProgress:89.6% Speed(reviews/sec):4357. #Correct:740 #Tested:897 Testing Accuracy:82.4%\rProgress:89.7% Speed(reviews/sec):4359. #Correct:741 #Tested:898 Testing Accuracy:82.5%\rProgress:89.8% Speed(reviews/sec):4357. #Correct:742 #Tested:899 Testing Accuracy:82.5%\rProgress:89.9% Speed(reviews/sec):4359. #Correct:743 #Tested:900 Testing Accuracy:82.5%\rProgress:90.0% Speed(reviews/sec):4360. #Correct:744 #Tested:901 Testing Accuracy:82.5%\rProgress:90.1% Speed(reviews/sec):4359. #Correct:745 #Tested:902 Testing Accuracy:82.5%\rProgress:90.2% Speed(reviews/sec):4360. #Correct:746 #Tested:903 Testing Accuracy:82.6%\rProgress:90.3% Speed(reviews/sec):4363. #Correct:747 #Tested:904 Testing Accuracy:82.6%\rProgress:90.4% Speed(reviews/sec):4365. #Correct:748 #Tested:905 Testing Accuracy:82.6%\rProgress:90.5% Speed(reviews/sec):4366. #Correct:749 #Tested:906 Testing Accuracy:82.6%\rProgress:90.6% Speed(reviews/sec):4369. #Correct:749 #Tested:907 Testing Accuracy:82.5%\rProgress:90.7% Speed(reviews/sec):4370. #Correct:750 #Tested:908 Testing Accuracy:82.5%\rProgress:90.8% Speed(reviews/sec):4371. #Correct:750 #Tested:909 Testing Accuracy:82.5%\rProgress:90.9% Speed(reviews/sec):4373. #Correct:750 #Tested:910 Testing Accuracy:82.4%\rProgress:91.0% Speed(reviews/sec):4374. #Correct:751 #Tested:911 Testing Accuracy:82.4%\rProgress:91.1% Speed(reviews/sec):4376. #Correct:751 #Tested:912 Testing Accuracy:82.3%\rProgress:91.2% Speed(reviews/sec):4377. #Correct:752 #Tested:913 Testing Accuracy:82.3%\rProgress:91.3% Speed(reviews/sec):4377. #Correct:752 #Tested:914 Testing Accuracy:82.2%\rProgress:91.4% Speed(reviews/sec):4379. #Correct:753 #Tested:915 Testing Accuracy:82.2%\rProgress:91.5% Speed(reviews/sec):4380. #Correct:753 #Tested:916 Testing Accuracy:82.2%\rProgress:91.6% Speed(reviews/sec):4381. #Correct:753 #Tested:917 Testing Accuracy:82.1%\rProgress:91.7% Speed(reviews/sec):4382. #Correct:753 #Tested:918 Testing Accuracy:82.0%\rProgress:91.8% Speed(reviews/sec):4383. #Correct:754 #Tested:919 Testing Accuracy:82.0%\rProgress:91.9% Speed(reviews/sec):4385. #Correct:755 #Tested:920 Testing Accuracy:82.0%\rProgress:92.0% Speed(reviews/sec):4386. #Correct:755 #Tested:921 Testing Accuracy:81.9%\rProgress:92.1% Speed(reviews/sec):4388. #Correct:756 #Tested:922 Testing Accuracy:81.9%\rProgress:92.2% Speed(reviews/sec):4389. #Correct:757 #Tested:923 Testing Accuracy:82.0%\rProgress:92.3% Speed(reviews/sec):4391. #Correct:758 #Tested:924 Testing Accuracy:82.0%\rProgress:92.4% Speed(reviews/sec):4393. #Correct:759 #Tested:925 Testing Accuracy:82.0%\rProgress:92.5% Speed(reviews/sec):4395. #Correct:760 #Tested:926 Testing Accuracy:82.0%\rProgress:92.6% Speed(reviews/sec):4396. #Correct:761 #Tested:927 Testing Accuracy:82.0%\rProgress:92.7% Speed(reviews/sec):4398. #Correct:762 #Tested:928 Testing Accuracy:82.1%\rProgress:92.8% Speed(reviews/sec):4401. #Correct:762 #Tested:929 Testing Accuracy:82.0%\rProgress:92.9% Speed(reviews/sec):4402. #Correct:763 #Tested:930 Testing Accuracy:82.0%\rProgress:93.0% Speed(reviews/sec):4404. #Correct:764 #Tested:931 Testing Accuracy:82.0%\rProgress:93.1% Speed(reviews/sec):4403. #Correct:765 #Tested:932 Testing Accuracy:82.0%\rProgress:93.2% Speed(reviews/sec):4406. #Correct:766 #Tested:933 Testing Accuracy:82.1%\rProgress:93.3% Speed(reviews/sec):4406. #Correct:767 #Tested:934 Testing Accuracy:82.1%\rProgress:93.4% Speed(reviews/sec):4407. #Correct:768 #Tested:935 Testing Accuracy:82.1%\rProgress:93.5% Speed(reviews/sec):4409. #Correct:769 #Tested:936 Testing Accuracy:82.1%\rProgress:93.6% Speed(reviews/sec):4412. #Correct:769 #Tested:937 Testing Accuracy:82.0%\rProgress:93.7% Speed(reviews/sec):4413. #Correct:770 #Tested:938 Testing Accuracy:82.0%\rProgress:93.8% Speed(reviews/sec):4415. #Correct:770 #Tested:939 Testing Accuracy:82.0%\rProgress:93.9% Speed(reviews/sec):4418. #Correct:771 #Tested:940 Testing Accuracy:82.0%\rProgress:94.0% Speed(reviews/sec):4421. #Correct:772 #Tested:941 Testing Accuracy:82.0%\rProgress:94.1% Speed(reviews/sec):4422. #Correct:772 #Tested:942 Testing Accuracy:81.9%\rProgress:94.2% Speed(reviews/sec):4424. #Correct:772 #Tested:943 Testing Accuracy:81.8%\rProgress:94.3% Speed(reviews/sec):4425. #Correct:773 #Tested:944 Testing Accuracy:81.8%\rProgress:94.4% Speed(reviews/sec):4425. #Correct:774 #Tested:945 Testing Accuracy:81.9%\rProgress:94.5% Speed(reviews/sec):4426. #Correct:775 #Tested:946 Testing Accuracy:81.9%\rProgress:94.6% Speed(reviews/sec):4428. #Correct:776 #Tested:947 Testing Accuracy:81.9%\rProgress:94.7% Speed(reviews/sec):4429. #Correct:777 #Tested:948 Testing Accuracy:81.9%\rProgress:94.8% Speed(reviews/sec):4431. #Correct:778 #Tested:949 Testing Accuracy:81.9%\rProgress:94.9% Speed(reviews/sec):4433. #Correct:779 #Tested:950 Testing Accuracy:82.0%\rProgress:95.0% Speed(reviews/sec):4435. #Correct:780 #Tested:951 Testing Accuracy:82.0%\rProgress:95.1% Speed(reviews/sec):4434. #Correct:780 #Tested:952 Testing Accuracy:81.9%\rProgress:95.2% Speed(reviews/sec):4435. #Correct:780 #Tested:953 Testing Accuracy:81.8%\rProgress:95.3% Speed(reviews/sec):4437. #Correct:781 #Tested:954 Testing Accuracy:81.8%\rProgress:95.4% Speed(reviews/sec):4435. #Correct:782 #Tested:955 Testing Accuracy:81.8%\rProgress:95.5% Speed(reviews/sec):4438. #Correct:783 #Tested:956 Testing Accuracy:81.9%\rProgress:95.6% Speed(reviews/sec):4440. #Correct:784 #Tested:957 Testing Accuracy:81.9%\rProgress:95.7% Speed(reviews/sec):4442. #Correct:785 #Tested:958 Testing Accuracy:81.9%\rProgress:95.8% Speed(reviews/sec):4444. #Correct:786 #Tested:959 Testing Accuracy:81.9%\rProgress:95.9% Speed(reviews/sec):4446. #Correct:787 #Tested:960 Testing Accuracy:81.9%\rProgress:96.0% Speed(reviews/sec):4446. #Correct:788 #Tested:961 Testing Accuracy:81.9%\rProgress:96.1% Speed(reviews/sec):4448. #Correct:789 #Tested:962 Testing Accuracy:82.0%\rProgress:96.2% Speed(reviews/sec):4450. #Correct:790 #Tested:963 Testing Accuracy:82.0%\rProgress:96.3% Speed(reviews/sec):4452. #Correct:791 #Tested:964 Testing Accuracy:82.0%\rProgress:96.4% Speed(reviews/sec):4450. #Correct:792 #Tested:965 Testing Accuracy:82.0%\rProgress:96.5% Speed(reviews/sec):4452. #Correct:793 #Tested:966 Testing Accuracy:82.0%\rProgress:96.6% Speed(reviews/sec):4454. #Correct:794 #Tested:967 Testing Accuracy:82.1%\rProgress:96.7% Speed(reviews/sec):4456. #Correct:795 #Tested:968 Testing Accuracy:82.1%\rProgress:96.8% Speed(reviews/sec):4458. #Correct:796 #Tested:969 Testing Accuracy:82.1%\rProgress:96.9% Speed(reviews/sec):4460. #Correct:797 #Tested:970 Testing Accuracy:82.1%\rProgress:97.0% Speed(reviews/sec):4432. #Correct:798 #Tested:971 Testing Accuracy:82.1%\rProgress:97.1% Speed(reviews/sec):4433. #Correct:799 #Tested:972 Testing Accuracy:82.2%\rProgress:97.2% Speed(reviews/sec):4435. #Correct:799 #Tested:973 Testing Accuracy:82.1%\rProgress:97.3% Speed(reviews/sec):4433. #Correct:800 #Tested:974 Testing Accuracy:82.1%\rProgress:97.4% Speed(reviews/sec):4433. #Correct:801 #Tested:975 Testing Accuracy:82.1%\rProgress:97.5% Speed(reviews/sec):4434. #Correct:802 #Tested:976 Testing Accuracy:82.1%\rProgress:97.6% Speed(reviews/sec):4435. #Correct:803 #Tested:977 Testing Accuracy:82.1%\rProgress:97.7% Speed(reviews/sec):4432. #Correct:804 #Tested:978 Testing Accuracy:82.2%\rProgress:97.8% Speed(reviews/sec):4434. #Correct:805 #Tested:979 Testing Accuracy:82.2%\rProgress:97.9% Speed(reviews/sec):4433. #Correct:806 #Tested:980 Testing Accuracy:82.2%\rProgress:98.0% Speed(reviews/sec):4436. #Correct:806 #Tested:981 Testing Accuracy:82.1%\rProgress:98.1% Speed(reviews/sec):4430. #Correct:807 #Tested:982 Testing Accuracy:82.1%\rProgress:98.2% Speed(reviews/sec):4431. #Correct:808 #Tested:983 Testing Accuracy:82.1%\rProgress:98.3% Speed(reviews/sec):4427. #Correct:809 #Tested:984 Testing Accuracy:82.2%\rProgress:98.4% Speed(reviews/sec):4429. #Correct:809 #Tested:985 Testing Accuracy:82.1%\rProgress:98.5% Speed(reviews/sec):4432. #Correct:810 #Tested:986 Testing Accuracy:82.1%\rProgress:98.6% Speed(reviews/sec):4434. #Correct:811 #Tested:987 Testing Accuracy:82.1%\rProgress:98.7% Speed(reviews/sec):4434. #Correct:812 #Tested:988 Testing Accuracy:82.1%\rProgress:98.8% Speed(reviews/sec):4435. #Correct:813 #Tested:989 Testing Accuracy:82.2%\rProgress:98.9% Speed(reviews/sec):4435. #Correct:814 #Tested:990 Testing Accuracy:82.2%\rProgress:99.0% Speed(reviews/sec):4437. #Correct:815 #Tested:991 Testing Accuracy:82.2%\rProgress:99.1% Speed(reviews/sec):4437. #Correct:816 #Tested:992 Testing Accuracy:82.2%\rProgress:99.2% Speed(reviews/sec):4438. #Correct:817 #Tested:993 Testing Accuracy:82.2%\rProgress:99.3% Speed(reviews/sec):4440. #Correct:818 #Tested:994 Testing Accuracy:82.2%\rProgress:99.4% Speed(reviews/sec):4438. #Correct:818 #Tested:995 Testing Accuracy:82.2%\rProgress:99.5% Speed(reviews/sec):4437. #Correct:819 #Tested:996 Testing Accuracy:82.2%\rProgress:99.6% Speed(reviews/sec):4438. #Correct:820 #Tested:997 Testing Accuracy:82.2%\rProgress:99.7% Speed(reviews/sec):4438. #Correct:821 #Tested:998 Testing Accuracy:82.2%\rProgress:99.8% Speed(reviews/sec):4439. #Correct:821 #Tested:999 Testing Accuracy:82.1%\rProgress:99.9% Speed(reviews/sec):4440. #Correct:822 #Tested:1000 Testing Accuracy:82.2%"
          ],
          "name": "stdout"
        }
      ]
    },
    {
      "cell_type": "markdown",
      "metadata": {
        "id": "A7ylCWr4Pqkc",
        "colab_type": "text"
      },
      "source": [
        "# End of Project 6 solution. \n",
        "## Watch the next video to continue with Andrew's next lesson.\n",
        "# Analysis: What's Going on in the Weights?<a id='lesson_7'></a>"
      ]
    },
    {
      "cell_type": "code",
      "metadata": {
        "id": "49AXhJriPqkd",
        "colab_type": "code",
        "colab": {
          "base_uri": "https://localhost:8080/",
          "height": 208
        },
        "outputId": "30f350ec-a61b-4440-e8c9-1a0527a3f84b"
      },
      "source": [
        "mlp_full = SentimentNetwork(reviews[:-1000],labels[:-1000],min_count=0,polarity_cutoff=0,learning_rate=0.01)\n",
        "mlp_full.train(reviews[:-1000],labels[:-1000])"
      ],
      "execution_count": 89,
      "outputs": [
        {
          "output_type": "stream",
          "text": [
            "Progress:0.0% Speed(reviews/sec):0.0 #Correct:1 #Trained:1 Training Accuracy:100.%\n",
            "Progress:10.4% Speed(reviews/sec):1315. #Correct:1944 #Trained:2501 Training Accuracy:77.7%\n",
            "Progress:20.8% Speed(reviews/sec):1273. #Correct:4003 #Trained:5001 Training Accuracy:80.0%\n",
            "Progress:31.2% Speed(reviews/sec):1269. #Correct:6119 #Trained:7501 Training Accuracy:81.5%\n",
            "Progress:41.6% Speed(reviews/sec):1277. #Correct:8273 #Trained:10001 Training Accuracy:82.7%\n",
            "Progress:52.0% Speed(reviews/sec):1276. #Correct:10433 #Trained:12501 Training Accuracy:83.4%\n",
            "Progress:62.5% Speed(reviews/sec):1271. #Correct:12554 #Trained:15001 Training Accuracy:83.6%\n",
            "Progress:72.9% Speed(reviews/sec):1268. #Correct:14678 #Trained:17501 Training Accuracy:83.8%\n",
            "Progress:83.3% Speed(reviews/sec):1265. #Correct:16869 #Trained:20001 Training Accuracy:84.3%\n",
            "Progress:93.7% Speed(reviews/sec):1262. #Correct:19050 #Trained:22501 Training Accuracy:84.6%\n",
            "Progress:99.9% Speed(reviews/sec):1263. #Correct:20374 #Trained:24000 Training Accuracy:84.8%"
          ],
          "name": "stdout"
        }
      ]
    },
    {
      "cell_type": "markdown",
      "metadata": {
        "id": "hZh32uY8XI_M",
        "colab_type": "text"
      },
      "source": [
        "<img src='https://raw.githubusercontent.com/udacity/deep-learning-v2-pytorch/master/sentiment-analysis-network/sentiment_network_sparse.png'>"
      ]
    },
    {
      "cell_type": "code",
      "metadata": {
        "id": "OAcr8nGJX2nT",
        "colab_type": "code",
        "colab": {
          "base_uri": "https://localhost:8080/",
          "height": 52
        },
        "outputId": "03d8bdfb-bd7a-4d00-cb1e-398e795fe913"
      },
      "source": [
        "mlp_full.weights_0_1[mlp_full.word2index[\"horrible\"]]"
      ],
      "execution_count": 90,
      "outputs": [
        {
          "output_type": "execute_result",
          "data": {
            "text/plain": [
              "array([-0.09246574,  0.03482419,  0.03006614,  0.06107866, -0.04926327,\n",
              "        0.13101493, -0.09932328,  0.04333165, -0.01816128,  0.01419539])"
            ]
          },
          "metadata": {
            "tags": []
          },
          "execution_count": 90
        }
      ]
    },
    {
      "cell_type": "code",
      "metadata": {
        "id": "HPBBB5n6Yj8X",
        "colab_type": "code",
        "colab": {
          "base_uri": "https://localhost:8080/",
          "height": 52
        },
        "outputId": "0cc09310-bc1b-4170-de5f-5ef680bb0f96"
      },
      "source": [
        "mlp_full.weights_0_1[mlp_full.word2index[\"excellent\"]]"
      ],
      "execution_count": 91,
      "outputs": [
        {
          "output_type": "execute_result",
          "data": {
            "text/plain": [
              "array([ 0.16460482, -0.06199301, -0.05352287, -0.10873045,  0.08769703,\n",
              "       -0.23322895,  0.17681242, -0.07713774,  0.03233018, -0.02527022])"
            ]
          },
          "metadata": {
            "tags": []
          },
          "execution_count": 91
        }
      ]
    },
    {
      "cell_type": "code",
      "metadata": {
        "id": "-1njewldPqkn",
        "colab_type": "code",
        "colab": {}
      },
      "source": [
        "def get_most_similar_words(focus = \"horrible\"):\n",
        "    most_similar = Counter()\n",
        "\n",
        "    for word in mlp_full.word2index.keys():\n",
        "        most_similar[word] = np.dot(mlp_full.weights_0_1[mlp_full.word2index[word]], mlp_full.weights_0_1[mlp_full.word2index[focus]])\n",
        "    \n",
        "    return most_similar.most_common()"
      ],
      "execution_count": 0,
      "outputs": []
    },
    {
      "cell_type": "code",
      "metadata": {
        "id": "i8wqNirnPqkp",
        "colab_type": "code",
        "outputId": "0f310072-278d-4e4e-a5cb-c739f3409808",
        "colab": {
          "base_uri": "https://localhost:8080/",
          "height": 191
        }
      },
      "source": [
        "get_most_similar_words(\"excellent\")[:10]"
      ],
      "execution_count": 93,
      "outputs": [
        {
          "output_type": "execute_result",
          "data": {
            "text/plain": [
              "[('excellent', 0.14660809065567865),\n",
              " ('perfect', 0.1252662735844794),\n",
              " ('great', 0.10713868923526688),\n",
              " ('amazing', 0.101656193454165),\n",
              " ('wonderful', 0.09706521876360932),\n",
              " ('best', 0.09633584659210818),\n",
              " ('today', 0.09062129241360577),\n",
              " ('fun', 0.08856844988594424),\n",
              " ('loved', 0.079106386972062),\n",
              " ('definitely', 0.07691091698161268)]"
            ]
          },
          "metadata": {
            "tags": []
          },
          "execution_count": 93
        }
      ]
    },
    {
      "cell_type": "code",
      "metadata": {
        "id": "7OFExlA9Pqkr",
        "colab_type": "code",
        "outputId": "26d041a2-5efa-4869-d92d-7475ed82a0e5",
        "colab": {
          "base_uri": "https://localhost:8080/",
          "height": 191
        }
      },
      "source": [
        "get_most_similar_words(\"terrible\")[:10]"
      ],
      "execution_count": 94,
      "outputs": [
        {
          "output_type": "execute_result",
          "data": {
            "text/plain": [
              "[('worst', 0.17615579852418914),\n",
              " ('awful', 0.12575196125185903),\n",
              " ('waste', 0.11991666736024724),\n",
              " ('poor', 0.10184592068658212),\n",
              " ('boring', 0.09740082138736943),\n",
              " ('terrible', 0.09719201719001994),\n",
              " ('bad', 0.08194195157424215),\n",
              " ('dull', 0.08128798681883027),\n",
              " ('worse', 0.07505502158320541),\n",
              " ('poorly', 0.07495944377181994)]"
            ]
          },
          "metadata": {
            "tags": []
          },
          "execution_count": 94
        }
      ]
    },
    {
      "cell_type": "code",
      "metadata": {
        "id": "afonvOBqPqkt",
        "colab_type": "code",
        "colab": {}
      },
      "source": [
        "import matplotlib.colors as colors\n",
        "\n",
        "words_to_visualize = list()\n",
        "for word, ratio in pos_neg_ratios.most_common(500):\n",
        "    if(word in mlp_full.word2index.keys()):\n",
        "        words_to_visualize.append(word)\n",
        "    \n",
        "for word, ratio in list(reversed(pos_neg_ratios.most_common()))[0:500]:\n",
        "    if(word in mlp_full.word2index.keys()):\n",
        "        words_to_visualize.append(word)"
      ],
      "execution_count": 0,
      "outputs": []
    },
    {
      "cell_type": "code",
      "metadata": {
        "id": "cOMnoJszPqkv",
        "colab_type": "code",
        "colab": {}
      },
      "source": [
        "pos = 0\n",
        "neg = 0\n",
        "\n",
        "colors_list = list()\n",
        "vectors_list = list()\n",
        "for word in words_to_visualize:\n",
        "    if word in pos_neg_ratios.keys():\n",
        "        vectors_list.append(mlp_full.weights_0_1[mlp_full.word2index[word]])\n",
        "        if(pos_neg_ratios[word] > 0):\n",
        "            pos+=1\n",
        "            colors_list.append(\"#00ff00\")\n",
        "        else:\n",
        "            neg+=1\n",
        "            colors_list.append(\"#000000\")"
      ],
      "execution_count": 0,
      "outputs": []
    },
    {
      "cell_type": "code",
      "metadata": {
        "id": "st4q8dokPqkx",
        "colab_type": "code",
        "colab": {}
      },
      "source": [
        "from sklearn.manifold import TSNE\n",
        "tsne = TSNE(n_components=2, random_state=0)\n",
        "words_top_ted_tsne = tsne.fit_transform(vectors_list)"
      ],
      "execution_count": 0,
      "outputs": []
    },
    {
      "cell_type": "code",
      "metadata": {
        "id": "TAVhtANhPqkz",
        "colab_type": "code",
        "outputId": "07572a99-be1b-4761-975a-2d1bb243e805",
        "colab": {
          "base_uri": "https://localhost:8080/",
          "height": 617
        }
      },
      "source": [
        "p = figure(tools=\"pan, wheel_zoom, reset, save\",\n",
        "           toolbar_location=\"above\",\n",
        "           title=\"vector T-SNE for most polarized words\")\n",
        "\n",
        "source = ColumnDataSource(data=dict(x1=words_top_ted_tsne[:,0],\n",
        "                                    x2=words_top_ted_tsne[:,1],\n",
        "                                    names=words_to_visualize,\n",
        "                                    color=colors_list))\n",
        "\n",
        "p.scatter(x=\"x1\", y=\"x2\", size=8, source=source, fill_color=\"color\")\n",
        "\n",
        "word_labels = LabelSet(x=\"x1\", y=\"x2\", text=\"names\", y_offset=6,\n",
        "                  text_font_size=\"8pt\", text_color=\"#555555\",\n",
        "                  source=source, text_align='center')\n",
        "p.add_layout(word_labels)\n",
        "\n",
        "show(p)\n",
        "\n",
        "# green indicates positive words, black indicates negative words"
      ],
      "execution_count": 98,
      "outputs": [
        {
          "output_type": "display_data",
          "data": {
            "application/javascript": [
              "\n",
              "(function(root) {\n",
              "  function now() {\n",
              "    return new Date();\n",
              "  }\n",
              "\n",
              "  var force = true;\n",
              "\n",
              "  if (typeof root._bokeh_onload_callbacks === \"undefined\" || force === true) {\n",
              "    root._bokeh_onload_callbacks = [];\n",
              "    root._bokeh_is_loading = undefined;\n",
              "  }\n",
              "\n",
              "  var JS_MIME_TYPE = 'application/javascript';\n",
              "  var HTML_MIME_TYPE = 'text/html';\n",
              "  var EXEC_MIME_TYPE = 'application/vnd.bokehjs_exec.v0+json';\n",
              "  var CLASS_NAME = 'output_bokeh rendered_html';\n",
              "\n",
              "  /**\n",
              "   * Render data to the DOM node\n",
              "   */\n",
              "  function render(props, node) {\n",
              "    var script = document.createElement(\"script\");\n",
              "    node.appendChild(script);\n",
              "  }\n",
              "\n",
              "  /**\n",
              "   * Handle when an output is cleared or removed\n",
              "   */\n",
              "  function handleClearOutput(event, handle) {\n",
              "    var cell = handle.cell;\n",
              "\n",
              "    var id = cell.output_area._bokeh_element_id;\n",
              "    var server_id = cell.output_area._bokeh_server_id;\n",
              "    // Clean up Bokeh references\n",
              "    if (id != null && id in Bokeh.index) {\n",
              "      Bokeh.index[id].model.document.clear();\n",
              "      delete Bokeh.index[id];\n",
              "    }\n",
              "\n",
              "    if (server_id !== undefined) {\n",
              "      // Clean up Bokeh references\n",
              "      var cmd = \"from bokeh.io.state import curstate; print(curstate().uuid_to_server['\" + server_id + \"'].get_sessions()[0].document.roots[0]._id)\";\n",
              "      cell.notebook.kernel.execute(cmd, {\n",
              "        iopub: {\n",
              "          output: function(msg) {\n",
              "            var id = msg.content.text.trim();\n",
              "            if (id in Bokeh.index) {\n",
              "              Bokeh.index[id].model.document.clear();\n",
              "              delete Bokeh.index[id];\n",
              "            }\n",
              "          }\n",
              "        }\n",
              "      });\n",
              "      // Destroy server and session\n",
              "      var cmd = \"import bokeh.io.notebook as ion; ion.destroy_server('\" + server_id + \"')\";\n",
              "      cell.notebook.kernel.execute(cmd);\n",
              "    }\n",
              "  }\n",
              "\n",
              "  /**\n",
              "   * Handle when a new output is added\n",
              "   */\n",
              "  function handleAddOutput(event, handle) {\n",
              "    var output_area = handle.output_area;\n",
              "    var output = handle.output;\n",
              "\n",
              "    // limit handleAddOutput to display_data with EXEC_MIME_TYPE content only\n",
              "    if ((output.output_type != \"display_data\") || (!output.data.hasOwnProperty(EXEC_MIME_TYPE))) {\n",
              "      return\n",
              "    }\n",
              "\n",
              "    var toinsert = output_area.element.find(\".\" + CLASS_NAME.split(' ')[0]);\n",
              "\n",
              "    if (output.metadata[EXEC_MIME_TYPE][\"id\"] !== undefined) {\n",
              "      toinsert[toinsert.length - 1].firstChild.textContent = output.data[JS_MIME_TYPE];\n",
              "      // store reference to embed id on output_area\n",
              "      output_area._bokeh_element_id = output.metadata[EXEC_MIME_TYPE][\"id\"];\n",
              "    }\n",
              "    if (output.metadata[EXEC_MIME_TYPE][\"server_id\"] !== undefined) {\n",
              "      var bk_div = document.createElement(\"div\");\n",
              "      bk_div.innerHTML = output.data[HTML_MIME_TYPE];\n",
              "      var script_attrs = bk_div.children[0].attributes;\n",
              "      for (var i = 0; i < script_attrs.length; i++) {\n",
              "        toinsert[toinsert.length - 1].firstChild.setAttribute(script_attrs[i].name, script_attrs[i].value);\n",
              "      }\n",
              "      // store reference to server id on output_area\n",
              "      output_area._bokeh_server_id = output.metadata[EXEC_MIME_TYPE][\"server_id\"];\n",
              "    }\n",
              "  }\n",
              "\n",
              "  function register_renderer(events, OutputArea) {\n",
              "\n",
              "    function append_mime(data, metadata, element) {\n",
              "      // create a DOM node to render to\n",
              "      var toinsert = this.create_output_subarea(\n",
              "        metadata,\n",
              "        CLASS_NAME,\n",
              "        EXEC_MIME_TYPE\n",
              "      );\n",
              "      this.keyboard_manager.register_events(toinsert);\n",
              "      // Render to node\n",
              "      var props = {data: data, metadata: metadata[EXEC_MIME_TYPE]};\n",
              "      render(props, toinsert[toinsert.length - 1]);\n",
              "      element.append(toinsert);\n",
              "      return toinsert\n",
              "    }\n",
              "\n",
              "    /* Handle when an output is cleared or removed */\n",
              "    events.on('clear_output.CodeCell', handleClearOutput);\n",
              "    events.on('delete.Cell', handleClearOutput);\n",
              "\n",
              "    /* Handle when a new output is added */\n",
              "    events.on('output_added.OutputArea', handleAddOutput);\n",
              "\n",
              "    /**\n",
              "     * Register the mime type and append_mime function with output_area\n",
              "     */\n",
              "    OutputArea.prototype.register_mime_type(EXEC_MIME_TYPE, append_mime, {\n",
              "      /* Is output safe? */\n",
              "      safe: true,\n",
              "      /* Index of renderer in `output_area.display_order` */\n",
              "      index: 0\n",
              "    });\n",
              "  }\n",
              "\n",
              "  // register the mime type if in Jupyter Notebook environment and previously unregistered\n",
              "  if (root.Jupyter !== undefined) {\n",
              "    var events = require('base/js/events');\n",
              "    var OutputArea = require('notebook/js/outputarea').OutputArea;\n",
              "\n",
              "    if (OutputArea.prototype.mime_types().indexOf(EXEC_MIME_TYPE) == -1) {\n",
              "      register_renderer(events, OutputArea);\n",
              "    }\n",
              "  }\n",
              "\n",
              "  \n",
              "  if (typeof (root._bokeh_timeout) === \"undefined\" || force === true) {\n",
              "    root._bokeh_timeout = Date.now() + 5000;\n",
              "    root._bokeh_failed_load = false;\n",
              "  }\n",
              "\n",
              "  var NB_LOAD_WARNING = {'data': {'text/html':\n",
              "     \"<div style='background-color: #fdd'>\\n\"+\n",
              "     \"<p>\\n\"+\n",
              "     \"BokehJS does not appear to have successfully loaded. If loading BokehJS from CDN, this \\n\"+\n",
              "     \"may be due to a slow or bad network connection. Possible fixes:\\n\"+\n",
              "     \"</p>\\n\"+\n",
              "     \"<ul>\\n\"+\n",
              "     \"<li>re-rerun `output_notebook()` to attempt to load from CDN again, or</li>\\n\"+\n",
              "     \"<li>use INLINE resources instead, as so:</li>\\n\"+\n",
              "     \"</ul>\\n\"+\n",
              "     \"<code>\\n\"+\n",
              "     \"from bokeh.resources import INLINE\\n\"+\n",
              "     \"output_notebook(resources=INLINE)\\n\"+\n",
              "     \"</code>\\n\"+\n",
              "     \"</div>\"}};\n",
              "\n",
              "  function display_loaded() {\n",
              "    var el = document.getElementById(null);\n",
              "    if (el != null) {\n",
              "      el.textContent = \"BokehJS is loading...\";\n",
              "    }\n",
              "    if (root.Bokeh !== undefined) {\n",
              "      if (el != null) {\n",
              "        el.textContent = \"BokehJS \" + root.Bokeh.version + \" successfully loaded.\";\n",
              "      }\n",
              "    } else if (Date.now() < root._bokeh_timeout) {\n",
              "      setTimeout(display_loaded, 100)\n",
              "    }\n",
              "  }\n",
              "\n",
              "\n",
              "  function run_callbacks() {\n",
              "    try {\n",
              "      root._bokeh_onload_callbacks.forEach(function(callback) {\n",
              "        if (callback != null)\n",
              "          callback();\n",
              "      });\n",
              "    } finally {\n",
              "      delete root._bokeh_onload_callbacks\n",
              "    }\n",
              "    console.debug(\"Bokeh: all callbacks have finished\");\n",
              "  }\n",
              "\n",
              "  function load_libs(css_urls, js_urls, callback) {\n",
              "    if (css_urls == null) css_urls = [];\n",
              "    if (js_urls == null) js_urls = [];\n",
              "\n",
              "    root._bokeh_onload_callbacks.push(callback);\n",
              "    if (root._bokeh_is_loading > 0) {\n",
              "      console.debug(\"Bokeh: BokehJS is being loaded, scheduling callback at\", now());\n",
              "      return null;\n",
              "    }\n",
              "    if (js_urls == null || js_urls.length === 0) {\n",
              "      run_callbacks();\n",
              "      return null;\n",
              "    }\n",
              "    console.debug(\"Bokeh: BokehJS not loaded, scheduling load and callback at\", now());\n",
              "    root._bokeh_is_loading = css_urls.length + js_urls.length;\n",
              "\n",
              "    function on_load() {\n",
              "      root._bokeh_is_loading--;\n",
              "      if (root._bokeh_is_loading === 0) {\n",
              "        console.debug(\"Bokeh: all BokehJS libraries/stylesheets loaded\");\n",
              "        run_callbacks()\n",
              "      }\n",
              "    }\n",
              "\n",
              "    function on_error() {\n",
              "      console.error(\"failed to load \" + url);\n",
              "    }\n",
              "\n",
              "    for (var i = 0; i < css_urls.length; i++) {\n",
              "      var url = css_urls[i];\n",
              "      const element = document.createElement(\"link\");\n",
              "      element.onload = on_load;\n",
              "      element.onerror = on_error;\n",
              "      element.rel = \"stylesheet\";\n",
              "      element.type = \"text/css\";\n",
              "      element.href = url;\n",
              "      console.debug(\"Bokeh: injecting link tag for BokehJS stylesheet: \", url);\n",
              "      document.body.appendChild(element);\n",
              "    }\n",
              "\n",
              "    for (var i = 0; i < js_urls.length; i++) {\n",
              "      var url = js_urls[i];\n",
              "      var element = document.createElement('script');\n",
              "      element.onload = on_load;\n",
              "      element.onerror = on_error;\n",
              "      element.async = false;\n",
              "      element.src = url;\n",
              "      console.debug(\"Bokeh: injecting script tag for BokehJS library: \", url);\n",
              "      document.head.appendChild(element);\n",
              "    }\n",
              "  };\n",
              "\n",
              "  function inject_raw_css(css) {\n",
              "    const element = document.createElement(\"style\");\n",
              "    element.appendChild(document.createTextNode(css));\n",
              "    document.body.appendChild(element);\n",
              "  }\n",
              "\n",
              "  \n",
              "  var js_urls = [\"https://cdn.pydata.org/bokeh/release/bokeh-1.4.0.min.js\", \"https://cdn.pydata.org/bokeh/release/bokeh-widgets-1.4.0.min.js\", \"https://cdn.pydata.org/bokeh/release/bokeh-tables-1.4.0.min.js\", \"https://cdn.pydata.org/bokeh/release/bokeh-gl-1.4.0.min.js\"];\n",
              "  var css_urls = [];\n",
              "  \n",
              "\n",
              "  var inline_js = [\n",
              "    function(Bokeh) {\n",
              "      Bokeh.set_log_level(\"info\");\n",
              "    },\n",
              "    function(Bokeh) {\n",
              "    \n",
              "    \n",
              "    }\n",
              "  ];\n",
              "\n",
              "  function run_inline_js() {\n",
              "    \n",
              "    if (root.Bokeh !== undefined || force === true) {\n",
              "      \n",
              "    for (var i = 0; i < inline_js.length; i++) {\n",
              "      inline_js[i].call(root, root.Bokeh);\n",
              "    }\n",
              "    } else if (Date.now() < root._bokeh_timeout) {\n",
              "      setTimeout(run_inline_js, 100);\n",
              "    } else if (!root._bokeh_failed_load) {\n",
              "      console.log(\"Bokeh: BokehJS failed to load within specified timeout.\");\n",
              "      root._bokeh_failed_load = true;\n",
              "    } else if (force !== true) {\n",
              "      var cell = $(document.getElementById(null)).parents('.cell').data().cell;\n",
              "      cell.output_area.append_execute_result(NB_LOAD_WARNING)\n",
              "    }\n",
              "\n",
              "  }\n",
              "\n",
              "  if (root._bokeh_is_loading === 0) {\n",
              "    console.debug(\"Bokeh: BokehJS loaded, going straight to plotting\");\n",
              "    run_inline_js();\n",
              "  } else {\n",
              "    load_libs(css_urls, js_urls, function() {\n",
              "      console.debug(\"Bokeh: BokehJS plotting callback run at\", now());\n",
              "      run_inline_js();\n",
              "    });\n",
              "  }\n",
              "}(window));"
            ],
            "application/vnd.bokehjs_load.v0+json": "\n(function(root) {\n  function now() {\n    return new Date();\n  }\n\n  var force = true;\n\n  if (typeof root._bokeh_onload_callbacks === \"undefined\" || force === true) {\n    root._bokeh_onload_callbacks = [];\n    root._bokeh_is_loading = undefined;\n  }\n\n  \n\n  \n  if (typeof (root._bokeh_timeout) === \"undefined\" || force === true) {\n    root._bokeh_timeout = Date.now() + 5000;\n    root._bokeh_failed_load = false;\n  }\n\n  var NB_LOAD_WARNING = {'data': {'text/html':\n     \"<div style='background-color: #fdd'>\\n\"+\n     \"<p>\\n\"+\n     \"BokehJS does not appear to have successfully loaded. If loading BokehJS from CDN, this \\n\"+\n     \"may be due to a slow or bad network connection. Possible fixes:\\n\"+\n     \"</p>\\n\"+\n     \"<ul>\\n\"+\n     \"<li>re-rerun `output_notebook()` to attempt to load from CDN again, or</li>\\n\"+\n     \"<li>use INLINE resources instead, as so:</li>\\n\"+\n     \"</ul>\\n\"+\n     \"<code>\\n\"+\n     \"from bokeh.resources import INLINE\\n\"+\n     \"output_notebook(resources=INLINE)\\n\"+\n     \"</code>\\n\"+\n     \"</div>\"}};\n\n  function display_loaded() {\n    var el = document.getElementById(null);\n    if (el != null) {\n      el.textContent = \"BokehJS is loading...\";\n    }\n    if (root.Bokeh !== undefined) {\n      if (el != null) {\n        el.textContent = \"BokehJS \" + root.Bokeh.version + \" successfully loaded.\";\n      }\n    } else if (Date.now() < root._bokeh_timeout) {\n      setTimeout(display_loaded, 100)\n    }\n  }\n\n\n  function run_callbacks() {\n    try {\n      root._bokeh_onload_callbacks.forEach(function(callback) {\n        if (callback != null)\n          callback();\n      });\n    } finally {\n      delete root._bokeh_onload_callbacks\n    }\n    console.debug(\"Bokeh: all callbacks have finished\");\n  }\n\n  function load_libs(css_urls, js_urls, callback) {\n    if (css_urls == null) css_urls = [];\n    if (js_urls == null) js_urls = [];\n\n    root._bokeh_onload_callbacks.push(callback);\n    if (root._bokeh_is_loading > 0) {\n      console.debug(\"Bokeh: BokehJS is being loaded, scheduling callback at\", now());\n      return null;\n    }\n    if (js_urls == null || js_urls.length === 0) {\n      run_callbacks();\n      return null;\n    }\n    console.debug(\"Bokeh: BokehJS not loaded, scheduling load and callback at\", now());\n    root._bokeh_is_loading = css_urls.length + js_urls.length;\n\n    function on_load() {\n      root._bokeh_is_loading--;\n      if (root._bokeh_is_loading === 0) {\n        console.debug(\"Bokeh: all BokehJS libraries/stylesheets loaded\");\n        run_callbacks()\n      }\n    }\n\n    function on_error() {\n      console.error(\"failed to load \" + url);\n    }\n\n    for (var i = 0; i < css_urls.length; i++) {\n      var url = css_urls[i];\n      const element = document.createElement(\"link\");\n      element.onload = on_load;\n      element.onerror = on_error;\n      element.rel = \"stylesheet\";\n      element.type = \"text/css\";\n      element.href = url;\n      console.debug(\"Bokeh: injecting link tag for BokehJS stylesheet: \", url);\n      document.body.appendChild(element);\n    }\n\n    for (var i = 0; i < js_urls.length; i++) {\n      var url = js_urls[i];\n      var element = document.createElement('script');\n      element.onload = on_load;\n      element.onerror = on_error;\n      element.async = false;\n      element.src = url;\n      console.debug(\"Bokeh: injecting script tag for BokehJS library: \", url);\n      document.head.appendChild(element);\n    }\n  };\n\n  function inject_raw_css(css) {\n    const element = document.createElement(\"style\");\n    element.appendChild(document.createTextNode(css));\n    document.body.appendChild(element);\n  }\n\n  \n  var js_urls = [\"https://cdn.pydata.org/bokeh/release/bokeh-1.4.0.min.js\", \"https://cdn.pydata.org/bokeh/release/bokeh-widgets-1.4.0.min.js\", \"https://cdn.pydata.org/bokeh/release/bokeh-tables-1.4.0.min.js\", \"https://cdn.pydata.org/bokeh/release/bokeh-gl-1.4.0.min.js\"];\n  var css_urls = [];\n  \n\n  var inline_js = [\n    function(Bokeh) {\n      Bokeh.set_log_level(\"info\");\n    },\n    function(Bokeh) {\n    \n    \n    }\n  ];\n\n  function run_inline_js() {\n    \n    if (root.Bokeh !== undefined || force === true) {\n      \n    for (var i = 0; i < inline_js.length; i++) {\n      inline_js[i].call(root, root.Bokeh);\n    }\n    } else if (Date.now() < root._bokeh_timeout) {\n      setTimeout(run_inline_js, 100);\n    } else if (!root._bokeh_failed_load) {\n      console.log(\"Bokeh: BokehJS failed to load within specified timeout.\");\n      root._bokeh_failed_load = true;\n    } else if (force !== true) {\n      var cell = $(document.getElementById(null)).parents('.cell').data().cell;\n      cell.output_area.append_execute_result(NB_LOAD_WARNING)\n    }\n\n  }\n\n  if (root._bokeh_is_loading === 0) {\n    console.debug(\"Bokeh: BokehJS loaded, going straight to plotting\");\n    run_inline_js();\n  } else {\n    load_libs(css_urls, js_urls, function() {\n      console.debug(\"Bokeh: BokehJS plotting callback run at\", now());\n      run_inline_js();\n    });\n  }\n}(window));"
          },
          "metadata": {
            "tags": []
          }
        },
        {
          "output_type": "display_data",
          "data": {
            "text/html": [
              "\n",
              "\n",
              "\n",
              "\n",
              "\n",
              "\n",
              "  <div class=\"bk-root\" id=\"a53cc499-219f-49f7-8e1d-39555a8a0a63\" data-root-id=\"1500\"></div>\n"
            ]
          },
          "metadata": {
            "tags": []
          }
        },
        {
          "output_type": "display_data",
          "data": {
            "application/javascript": [
              "(function(root) {\n",
              "  function embed_document(root) {\n",
              "    \n",
              "  var docs_json = {\"83311722-4e7a-44f0-9ee8-3660607ff1c8\":{\"roots\":{\"references\":[{\"attributes\":{\"below\":[{\"id\":\"1511\",\"type\":\"LinearAxis\"}],\"center\":[{\"id\":\"1515\",\"type\":\"Grid\"},{\"id\":\"1520\",\"type\":\"Grid\"},{\"id\":\"1536\",\"type\":\"LabelSet\"}],\"left\":[{\"id\":\"1516\",\"type\":\"LinearAxis\"}],\"renderers\":[{\"id\":\"1534\",\"type\":\"GlyphRenderer\"}],\"title\":{\"id\":\"1501\",\"type\":\"Title\"},\"toolbar\":{\"id\":\"1525\",\"type\":\"Toolbar\"},\"toolbar_location\":\"above\",\"x_range\":{\"id\":\"1503\",\"type\":\"DataRange1d\"},\"x_scale\":{\"id\":\"1507\",\"type\":\"LinearScale\"},\"y_range\":{\"id\":\"1505\",\"type\":\"DataRange1d\"},\"y_scale\":{\"id\":\"1509\",\"type\":\"LinearScale\"}},\"id\":\"1500\",\"subtype\":\"Figure\",\"type\":\"Plot\"},{\"attributes\":{\"formatter\":{\"id\":\"1577\",\"type\":\"BasicTickFormatter\"},\"ticker\":{\"id\":\"1517\",\"type\":\"BasicTicker\"}},\"id\":\"1516\",\"type\":\"LinearAxis\"},{\"attributes\":{},\"id\":\"1517\",\"type\":\"BasicTicker\"},{\"attributes\":{\"data_source\":{\"id\":\"1530\",\"type\":\"ColumnDataSource\"},\"glyph\":{\"id\":\"1532\",\"type\":\"Scatter\"},\"hover_glyph\":null,\"muted_glyph\":null,\"nonselection_glyph\":{\"id\":\"1533\",\"type\":\"Scatter\"},\"selection_glyph\":null,\"view\":{\"id\":\"1535\",\"type\":\"CDSView\"}},\"id\":\"1534\",\"type\":\"GlyphRenderer\"},{\"attributes\":{},\"id\":\"1512\",\"type\":\"BasicTicker\"},{\"attributes\":{},\"id\":\"1579\",\"type\":\"Selection\"},{\"attributes\":{\"active_drag\":\"auto\",\"active_inspect\":\"auto\",\"active_multi\":null,\"active_scroll\":\"auto\",\"active_tap\":\"auto\",\"tools\":[{\"id\":\"1521\",\"type\":\"PanTool\"},{\"id\":\"1522\",\"type\":\"WheelZoomTool\"},{\"id\":\"1523\",\"type\":\"ResetTool\"},{\"id\":\"1524\",\"type\":\"SaveTool\"}]},\"id\":\"1525\",\"type\":\"Toolbar\"},{\"attributes\":{\"text\":\"vector T-SNE for most polarized words\"},\"id\":\"1501\",\"type\":\"Title\"},{\"attributes\":{\"source\":{\"id\":\"1530\",\"type\":\"ColumnDataSource\"}},\"id\":\"1535\",\"type\":\"CDSView\"},{\"attributes\":{},\"id\":\"1575\",\"type\":\"BasicTickFormatter\"},{\"attributes\":{},\"id\":\"1507\",\"type\":\"LinearScale\"},{\"attributes\":{},\"id\":\"1523\",\"type\":\"ResetTool\"},{\"attributes\":{},\"id\":\"1524\",\"type\":\"SaveTool\"},{\"attributes\":{\"formatter\":{\"id\":\"1575\",\"type\":\"BasicTickFormatter\"},\"ticker\":{\"id\":\"1512\",\"type\":\"BasicTicker\"}},\"id\":\"1511\",\"type\":\"LinearAxis\"},{\"attributes\":{\"fill_color\":{\"field\":\"color\"},\"line_color\":{\"value\":\"#1f77b4\"},\"size\":{\"units\":\"screen\",\"value\":8},\"x\":{\"field\":\"x1\"},\"y\":{\"field\":\"x2\"}},\"id\":\"1532\",\"type\":\"Scatter\"},{\"attributes\":{\"callback\":null,\"data\":{\"color\":[\"#00ff00\",\"#00ff00\",\"#00ff00\",\"#00ff00\",\"#00ff00\",\"#00ff00\",\"#00ff00\",\"#00ff00\",\"#00ff00\",\"#00ff00\",\"#00ff00\",\"#00ff00\",\"#00ff00\",\"#00ff00\",\"#00ff00\",\"#00ff00\",\"#00ff00\",\"#00ff00\",\"#00ff00\",\"#00ff00\",\"#00ff00\",\"#00ff00\",\"#00ff00\",\"#00ff00\",\"#00ff00\",\"#00ff00\",\"#00ff00\",\"#00ff00\",\"#00ff00\",\"#00ff00\",\"#00ff00\",\"#00ff00\",\"#00ff00\",\"#00ff00\",\"#00ff00\",\"#00ff00\",\"#00ff00\",\"#00ff00\",\"#00ff00\",\"#00ff00\",\"#00ff00\",\"#00ff00\",\"#00ff00\",\"#00ff00\",\"#00ff00\",\"#00ff00\",\"#00ff00\",\"#00ff00\",\"#00ff00\",\"#00ff00\",\"#00ff00\",\"#00ff00\",\"#00ff00\",\"#00ff00\",\"#00ff00\",\"#00ff00\",\"#00ff00\",\"#00ff00\",\"#00ff00\",\"#00ff00\",\"#00ff00\",\"#00ff00\",\"#00ff00\",\"#00ff00\",\"#00ff00\",\"#00ff00\",\"#00ff00\",\"#00ff00\",\"#00ff00\",\"#00ff00\",\"#00ff00\",\"#00ff00\",\"#00ff00\",\"#00ff00\",\"#00ff00\",\"#00ff00\",\"#00ff00\",\"#00ff00\",\"#00ff00\",\"#00ff00\",\"#00ff00\",\"#00ff00\",\"#00ff00\",\"#00ff00\",\"#00ff00\",\"#00ff00\",\"#00ff00\",\"#00ff00\",\"#00ff00\",\"#00ff00\",\"#00ff00\",\"#00ff00\",\"#00ff00\",\"#00ff00\",\"#00ff00\",\"#00ff00\",\"#00ff00\",\"#00ff00\",\"#00ff00\",\"#00ff00\",\"#00ff00\",\"#00ff00\",\"#00ff00\",\"#00ff00\",\"#00ff00\",\"#00ff00\",\"#00ff00\",\"#00ff00\",\"#00ff00\",\"#00ff00\",\"#00ff00\",\"#00ff00\",\"#00ff00\",\"#00ff00\",\"#00ff00\",\"#00ff00\",\"#00ff00\",\"#00ff00\",\"#00ff00\",\"#00ff00\",\"#00ff00\",\"#00ff00\",\"#00ff00\",\"#00ff00\",\"#00ff00\",\"#00ff00\",\"#00ff00\",\"#00ff00\",\"#00ff00\",\"#00ff00\",\"#00ff00\",\"#00ff00\",\"#00ff00\",\"#00ff00\",\"#00ff00\",\"#00ff00\",\"#00ff00\",\"#00ff00\",\"#00ff00\",\"#00ff00\",\"#00ff00\",\"#00ff00\",\"#00ff00\",\"#00ff00\",\"#00ff00\",\"#00ff00\",\"#00ff00\",\"#00ff00\",\"#00ff00\",\"#00ff00\",\"#00ff00\",\"#00ff00\",\"#00ff00\",\"#00ff00\",\"#00ff00\",\"#00ff00\",\"#00ff00\",\"#00ff00\",\"#00ff00\",\"#00ff00\",\"#00ff00\",\"#00ff00\",\"#00ff00\",\"#00ff00\",\"#00ff00\",\"#00ff00\",\"#00ff00\",\"#00ff00\",\"#00ff00\",\"#00ff00\",\"#00ff00\",\"#00ff00\",\"#00ff00\",\"#00ff00\",\"#00ff00\",\"#00ff00\",\"#00ff00\",\"#00ff00\",\"#00ff00\",\"#00ff00\",\"#00ff00\",\"#00ff00\",\"#00ff00\",\"#00ff00\",\"#00ff00\",\"#00ff00\",\"#00ff00\",\"#00ff00\",\"#00ff00\",\"#00ff00\",\"#00ff00\",\"#00ff00\",\"#00ff00\",\"#00ff00\",\"#00ff00\",\"#00ff00\",\"#00ff00\",\"#00ff00\",\"#00ff00\",\"#00ff00\",\"#00ff00\",\"#00ff00\",\"#00ff00\",\"#00ff00\",\"#00ff00\",\"#00ff00\",\"#00ff00\",\"#00ff00\",\"#00ff00\",\"#00ff00\",\"#00ff00\",\"#00ff00\",\"#00ff00\",\"#00ff00\",\"#00ff00\",\"#00ff00\",\"#00ff00\",\"#00ff00\",\"#00ff00\",\"#00ff00\",\"#00ff00\",\"#00ff00\",\"#00ff00\",\"#00ff00\",\"#00ff00\",\"#00ff00\",\"#00ff00\",\"#00ff00\",\"#00ff00\",\"#00ff00\",\"#00ff00\",\"#00ff00\",\"#00ff00\",\"#00ff00\",\"#00ff00\",\"#00ff00\",\"#00ff00\",\"#00ff00\",\"#00ff00\",\"#00ff00\",\"#00ff00\",\"#00ff00\",\"#00ff00\",\"#00ff00\",\"#00ff00\",\"#00ff00\",\"#00ff00\",\"#00ff00\",\"#00ff00\",\"#00ff00\",\"#00ff00\",\"#00ff00\",\"#00ff00\",\"#00ff00\",\"#00ff00\",\"#00ff00\",\"#00ff00\",\"#00ff00\",\"#00ff00\",\"#00ff00\",\"#00ff00\",\"#00ff00\",\"#00ff00\",\"#00ff00\",\"#00ff00\",\"#00ff00\",\"#00ff00\",\"#00ff00\",\"#00ff00\",\"#00ff00\",\"#00ff00\",\"#00ff00\",\"#00ff00\",\"#00ff00\",\"#00ff00\",\"#00ff00\",\"#00ff00\",\"#00ff00\",\"#00ff00\",\"#00ff00\",\"#00ff00\",\"#00ff00\",\"#00ff00\",\"#00ff00\",\"#00ff00\",\"#00ff00\",\"#00ff00\",\"#00ff00\",\"#00ff00\",\"#00ff00\",\"#00ff00\",\"#00ff00\",\"#00ff00\",\"#00ff00\",\"#00ff00\",\"#00ff00\",\"#00ff00\",\"#00ff00\",\"#00ff00\",\"#00ff00\",\"#00ff00\",\"#00ff00\",\"#00ff00\",\"#00ff00\",\"#00ff00\",\"#00ff00\",\"#00ff00\",\"#00ff00\",\"#00ff00\",\"#00ff00\",\"#00ff00\",\"#00ff00\",\"#00ff00\",\"#00ff00\",\"#00ff00\",\"#00ff00\",\"#00ff00\",\"#00ff00\",\"#00ff00\",\"#00ff00\",\"#00ff00\",\"#00ff00\",\"#00ff00\",\"#00ff00\",\"#00ff00\",\"#00ff00\",\"#00ff00\",\"#00ff00\",\"#00ff00\",\"#00ff00\",\"#00ff00\",\"#00ff00\",\"#00ff00\",\"#00ff00\",\"#00ff00\",\"#00ff00\",\"#00ff00\",\"#00ff00\",\"#00ff00\",\"#00ff00\",\"#00ff00\",\"#00ff00\",\"#00ff00\",\"#00ff00\",\"#00ff00\",\"#00ff00\",\"#00ff00\",\"#00ff00\",\"#00ff00\",\"#00ff00\",\"#00ff00\",\"#00ff00\",\"#00ff00\",\"#00ff00\",\"#00ff00\",\"#00ff00\",\"#00ff00\",\"#00ff00\",\"#00ff00\",\"#00ff00\",\"#00ff00\",\"#00ff00\",\"#00ff00\",\"#00ff00\",\"#00ff00\",\"#00ff00\",\"#00ff00\",\"#00ff00\",\"#00ff00\",\"#00ff00\",\"#00ff00\",\"#00ff00\",\"#00ff00\",\"#00ff00\",\"#00ff00\",\"#00ff00\",\"#00ff00\",\"#00ff00\",\"#00ff00\",\"#00ff00\",\"#00ff00\",\"#00ff00\",\"#00ff00\",\"#00ff00\",\"#00ff00\",\"#00ff00\",\"#00ff00\",\"#00ff00\",\"#00ff00\",\"#00ff00\",\"#00ff00\",\"#00ff00\",\"#00ff00\",\"#00ff00\",\"#00ff00\",\"#00ff00\",\"#00ff00\",\"#00ff00\",\"#00ff00\",\"#00ff00\",\"#00ff00\",\"#00ff00\",\"#00ff00\",\"#00ff00\",\"#00ff00\",\"#00ff00\",\"#00ff00\",\"#00ff00\",\"#00ff00\",\"#00ff00\",\"#00ff00\",\"#00ff00\",\"#00ff00\",\"#00ff00\",\"#00ff00\",\"#00ff00\",\"#00ff00\",\"#00ff00\",\"#00ff00\",\"#00ff00\",\"#00ff00\",\"#00ff00\",\"#00ff00\",\"#00ff00\",\"#00ff00\",\"#00ff00\",\"#00ff00\",\"#00ff00\",\"#00ff00\",\"#00ff00\",\"#00ff00\",\"#00ff00\",\"#00ff00\",\"#00ff00\",\"#00ff00\",\"#00ff00\",\"#00ff00\",\"#00ff00\",\"#00ff00\",\"#00ff00\",\"#00ff00\",\"#00ff00\",\"#00ff00\",\"#00ff00\",\"#00ff00\",\"#00ff00\",\"#00ff00\",\"#00ff00\",\"#00ff00\",\"#00ff00\",\"#00ff00\",\"#00ff00\",\"#00ff00\",\"#00ff00\",\"#00ff00\",\"#00ff00\",\"#00ff00\",\"#00ff00\",\"#00ff00\",\"#00ff00\",\"#00ff00\",\"#00ff00\",\"#00ff00\",\"#00ff00\",\"#00ff00\",\"#00ff00\",\"#00ff00\",\"#00ff00\",\"#00ff00\",\"#00ff00\",\"#00ff00\",\"#00ff00\",\"#00ff00\",\"#00ff00\",\"#00ff00\",\"#00ff00\",\"#00ff00\",\"#00ff00\",\"#00ff00\",\"#00ff00\",\"#00ff00\",\"#00ff00\",\"#00ff00\",\"#00ff00\",\"#00ff00\",\"#00ff00\",\"#00ff00\",\"#00ff00\",\"#00ff00\",\"#00ff00\",\"#00ff00\",\"#00ff00\",\"#00ff00\",\"#00ff00\",\"#00ff00\",\"#00ff00\",\"#00ff00\",\"#00ff00\",\"#00ff00\",\"#00ff00\",\"#000000\",\"#000000\",\"#000000\",\"#000000\",\"#000000\",\"#000000\",\"#000000\",\"#000000\",\"#000000\",\"#000000\",\"#000000\",\"#000000\",\"#000000\",\"#000000\",\"#000000\",\"#000000\",\"#000000\",\"#000000\",\"#000000\",\"#000000\",\"#000000\",\"#000000\",\"#000000\",\"#000000\",\"#000000\",\"#000000\",\"#000000\",\"#000000\",\"#000000\",\"#000000\",\"#000000\",\"#000000\",\"#000000\",\"#000000\",\"#000000\",\"#000000\",\"#000000\",\"#000000\",\"#000000\",\"#000000\",\"#000000\",\"#000000\",\"#000000\",\"#000000\",\"#000000\",\"#000000\",\"#000000\",\"#000000\",\"#000000\",\"#000000\",\"#000000\",\"#000000\",\"#000000\",\"#000000\",\"#000000\",\"#000000\",\"#000000\",\"#000000\",\"#000000\",\"#000000\",\"#000000\",\"#000000\",\"#000000\",\"#000000\",\"#000000\",\"#000000\",\"#000000\",\"#000000\",\"#000000\",\"#000000\",\"#000000\",\"#000000\",\"#000000\",\"#000000\",\"#000000\",\"#000000\",\"#000000\",\"#000000\",\"#000000\",\"#000000\",\"#000000\",\"#000000\",\"#000000\",\"#000000\",\"#000000\",\"#000000\",\"#000000\",\"#000000\",\"#000000\",\"#000000\",\"#000000\",\"#000000\",\"#000000\",\"#000000\",\"#000000\",\"#000000\",\"#000000\",\"#000000\",\"#000000\",\"#000000\",\"#000000\",\"#000000\",\"#000000\",\"#000000\",\"#000000\",\"#000000\",\"#000000\",\"#000000\",\"#000000\",\"#000000\",\"#000000\",\"#000000\",\"#000000\",\"#000000\",\"#000000\",\"#000000\",\"#000000\",\"#000000\",\"#000000\",\"#000000\",\"#000000\",\"#000000\",\"#000000\",\"#000000\",\"#000000\",\"#000000\",\"#000000\",\"#000000\",\"#000000\",\"#000000\",\"#000000\",\"#000000\",\"#000000\",\"#000000\",\"#000000\",\"#000000\",\"#000000\",\"#000000\",\"#000000\",\"#000000\",\"#000000\",\"#000000\",\"#000000\",\"#000000\",\"#000000\",\"#000000\",\"#000000\",\"#000000\",\"#000000\",\"#000000\",\"#000000\",\"#000000\",\"#000000\",\"#000000\",\"#000000\",\"#000000\",\"#000000\",\"#000000\",\"#000000\",\"#000000\",\"#000000\",\"#000000\",\"#000000\",\"#000000\",\"#000000\",\"#000000\",\"#000000\",\"#000000\",\"#000000\",\"#000000\",\"#000000\",\"#000000\",\"#000000\",\"#000000\",\"#000000\",\"#000000\",\"#000000\",\"#000000\",\"#000000\",\"#000000\",\"#000000\",\"#000000\",\"#000000\",\"#000000\",\"#000000\",\"#000000\",\"#000000\",\"#000000\",\"#000000\",\"#000000\",\"#000000\",\"#000000\",\"#000000\",\"#000000\",\"#000000\",\"#000000\",\"#000000\",\"#000000\",\"#000000\",\"#000000\",\"#000000\",\"#000000\",\"#000000\",\"#000000\",\"#000000\",\"#000000\",\"#000000\",\"#000000\",\"#000000\",\"#000000\",\"#000000\",\"#000000\",\"#000000\",\"#000000\",\"#000000\",\"#000000\",\"#000000\",\"#000000\",\"#000000\",\"#000000\",\"#000000\",\"#000000\",\"#000000\",\"#000000\",\"#000000\",\"#000000\",\"#000000\",\"#000000\",\"#000000\",\"#000000\",\"#000000\",\"#000000\",\"#000000\",\"#000000\",\"#000000\",\"#000000\",\"#000000\",\"#000000\",\"#000000\",\"#000000\",\"#000000\",\"#000000\",\"#000000\",\"#000000\",\"#000000\",\"#000000\",\"#000000\",\"#000000\",\"#000000\",\"#000000\",\"#000000\",\"#000000\",\"#000000\",\"#000000\",\"#000000\",\"#000000\",\"#000000\",\"#000000\",\"#000000\",\"#000000\",\"#000000\",\"#000000\",\"#000000\",\"#000000\",\"#000000\",\"#000000\",\"#000000\",\"#000000\",\"#000000\",\"#000000\",\"#000000\",\"#000000\",\"#000000\",\"#000000\",\"#000000\",\"#000000\",\"#000000\",\"#000000\",\"#000000\",\"#000000\",\"#000000\",\"#000000\",\"#000000\",\"#000000\",\"#000000\",\"#000000\",\"#000000\",\"#000000\",\"#000000\",\"#000000\",\"#000000\",\"#000000\",\"#000000\",\"#000000\",\"#000000\",\"#000000\",\"#000000\",\"#000000\",\"#000000\",\"#000000\",\"#000000\",\"#000000\",\"#000000\",\"#000000\",\"#000000\",\"#000000\",\"#000000\",\"#000000\",\"#000000\",\"#000000\",\"#000000\",\"#000000\",\"#000000\",\"#000000\",\"#000000\",\"#000000\",\"#000000\",\"#000000\",\"#000000\",\"#000000\",\"#000000\",\"#000000\",\"#000000\",\"#000000\",\"#000000\",\"#000000\",\"#000000\",\"#000000\",\"#000000\",\"#000000\",\"#000000\",\"#000000\",\"#000000\",\"#000000\",\"#000000\",\"#000000\",\"#000000\",\"#000000\",\"#000000\",\"#000000\",\"#000000\",\"#000000\",\"#000000\",\"#000000\",\"#000000\",\"#000000\",\"#000000\",\"#000000\",\"#000000\",\"#000000\",\"#000000\",\"#000000\",\"#000000\",\"#000000\",\"#000000\",\"#000000\",\"#000000\",\"#000000\",\"#000000\",\"#000000\",\"#000000\",\"#000000\",\"#000000\",\"#000000\",\"#000000\",\"#000000\",\"#000000\",\"#000000\",\"#000000\",\"#000000\",\"#000000\",\"#000000\",\"#000000\",\"#000000\",\"#000000\",\"#000000\",\"#000000\",\"#000000\",\"#000000\",\"#000000\",\"#000000\",\"#000000\",\"#000000\",\"#000000\",\"#000000\",\"#000000\",\"#000000\",\"#000000\",\"#000000\",\"#000000\",\"#000000\",\"#000000\",\"#000000\",\"#000000\",\"#000000\",\"#000000\",\"#000000\",\"#000000\",\"#000000\",\"#000000\",\"#000000\",\"#000000\",\"#000000\",\"#000000\",\"#000000\",\"#000000\",\"#000000\",\"#000000\",\"#000000\",\"#000000\",\"#000000\",\"#000000\",\"#000000\",\"#000000\",\"#000000\",\"#000000\",\"#000000\",\"#000000\",\"#000000\",\"#000000\",\"#000000\",\"#000000\",\"#000000\",\"#000000\",\"#000000\",\"#000000\",\"#000000\",\"#000000\",\"#000000\",\"#000000\",\"#000000\",\"#000000\",\"#000000\",\"#000000\",\"#000000\",\"#000000\",\"#000000\",\"#000000\",\"#000000\",\"#000000\",\"#000000\",\"#000000\",\"#000000\",\"#000000\",\"#000000\",\"#000000\",\"#000000\",\"#000000\",\"#000000\",\"#000000\",\"#000000\",\"#000000\",\"#000000\",\"#000000\",\"#000000\",\"#000000\",\"#000000\",\"#000000\",\"#000000\",\"#000000\",\"#000000\",\"#000000\",\"#000000\",\"#000000\",\"#000000\",\"#000000\",\"#000000\",\"#000000\",\"#000000\",\"#000000\",\"#000000\",\"#000000\",\"#000000\",\"#000000\",\"#000000\",\"#000000\",\"#000000\",\"#000000\",\"#000000\",\"#000000\",\"#000000\",\"#000000\",\"#000000\",\"#000000\",\"#000000\",\"#000000\",\"#000000\",\"#000000\",\"#000000\",\"#000000\",\"#000000\",\"#000000\",\"#000000\",\"#000000\",\"#000000\",\"#000000\",\"#000000\",\"#000000\",\"#000000\",\"#000000\"],\"names\":[\"edie\",\"paulie\",\"felix\",\"polanski\",\"matthau\",\"victoria\",\"mildred\",\"gandhi\",\"flawless\",\"superbly\",\"perfection\",\"astaire\",\"captures\",\"voight\",\"wonderfully\",\"powell\",\"brosnan\",\"lily\",\"bakshi\",\"lincoln\",\"refreshing\",\"breathtaking\",\"bourne\",\"lemmon\",\"delightful\",\"flynn\",\"andrews\",\"homer\",\"beautifully\",\"soccer\",\"elvira\",\"underrated\",\"gripping\",\"superb\",\"delight\",\"welles\",\"sadness\",\"sinatra\",\"touching\",\"timeless\",\"macy\",\"unforgettable\",\"favorites\",\"stewart\",\"sullivan\",\"extraordinary\",\"hartley\",\"brilliantly\",\"friendship\",\"wonderful\",\"palma\",\"magnificent\",\"finest\",\"jackie\",\"ritter\",\"tremendous\",\"freedom\",\"fantastic\",\"terrific\",\"noir\",\"sidney\",\"outstanding\",\"pleasantly\",\"mann\",\"nancy\",\"marie\",\"marvelous\",\"excellent\",\"ruth\",\"stanwyck\",\"widmark\",\"splendid\",\"chan\",\"exceptional\",\"tender\",\"gentle\",\"poignant\",\"gem\",\"amazing\",\"chilling\",\"fisher\",\"davies\",\"captivating\",\"darker\",\"april\",\"kelly\",\"blake\",\"overlooked\",\"ralph\",\"bette\",\"hoffman\",\"cole\",\"shines\",\"powerful\",\"notch\",\"remarkable\",\"pitt\",\"winters\",\"vivid\",\"gritty\",\"giallo\",\"portrait\",\"innocence\",\"psychiatrist\",\"favorite\",\"ensemble\",\"stunning\",\"burns\",\"garbo\",\"barbara\",\"philip\",\"panic\",\"holly\",\"carol\",\"perfect\",\"appreciated\",\"favourite\",\"journey\",\"rural\",\"bond\",\"builds\",\"brilliant\",\"brooklyn\",\"von\",\"recommended\",\"unfolds\",\"daniel\",\"perfectly\",\"crafted\",\"prince\",\"troubled\",\"consequences\",\"haunting\",\"cinderella\",\"alexander\",\"emotions\",\"boxing\",\"subtle\",\"curtis\",\"rare\",\"loved\",\"daughters\",\"courage\",\"dentist\",\"highly\",\"nominated\",\"tony\",\"draws\",\"everyday\",\"contrast\",\"cried\",\"fabulous\",\"ned\",\"fay\",\"emma\",\"sensitive\",\"smooth\",\"dramas\",\"today\",\"helps\",\"inspiring\",\"jimmy\",\"awesome\",\"unique\",\"tragic\",\"intense\",\"stellar\",\"rival\",\"provides\",\"depression\",\"shy\",\"carrie\",\"blend\",\"hank\",\"diana\",\"adorable\",\"unexpected\",\"achievement\",\"bettie\",\"happiness\",\"glorious\",\"davis\",\"terrifying\",\"beauty\",\"ideal\",\"fears\",\"hong\",\"seasons\",\"fascinating\",\"carries\",\"satisfying\",\"definite\",\"touched\",\"greatest\",\"creates\",\"aunt\",\"walter\",\"spectacular\",\"portrayal\",\"ann\",\"enterprise\",\"musicals\",\"deeply\",\"incredible\",\"mature\",\"triumph\",\"margaret\",\"navy\",\"harry\",\"lucas\",\"sweet\",\"joey\",\"oscar\",\"balance\",\"warm\",\"ages\",\"guilt\",\"glover\",\"carrey\",\"learns\",\"unusual\",\"sons\",\"complex\",\"essence\",\"brazil\",\"widow\",\"solid\",\"beautiful\",\"holmes\",\"awe\",\"vhs\",\"eerie\",\"lonely\",\"grim\",\"sport\",\"debut\",\"destiny\",\"thrillers\",\"tears\",\"rose\",\"feelings\",\"ginger\",\"winning\",\"stanley\",\"cox\",\"paris\",\"heart\",\"hooked\",\"comfortable\",\"mgm\",\"masterpiece\",\"themes\",\"danny\",\"anime\",\"perry\",\"joy\",\"lovable\",\"mysteries\",\"hal\",\"louis\",\"charming\",\"urban\",\"allows\",\"impact\",\"italy\",\"gradually\",\"lifestyle\",\"spy\",\"treat\",\"subsequent\",\"kennedy\",\"loving\",\"surprising\",\"quiet\",\"winter\",\"reveals\",\"raw\",\"funniest\",\"pleased\",\"norman\",\"thief\",\"season\",\"secrets\",\"colorful\",\"highest\",\"compelling\",\"danes\",\"castle\",\"kudos\",\"great\",\"baseball\",\"subtitles\",\"bleak\",\"winner\",\"tragedy\",\"todd\",\"nicely\",\"arthur\",\"essential\",\"gorgeous\",\"fonda\",\"eastwood\",\"focuses\",\"enjoyed\",\"natural\",\"intensity\",\"witty\",\"rob\",\"worlds\",\"health\",\"magical\",\"deeper\",\"lucy\",\"moving\",\"lovely\",\"purple\",\"memorable\",\"sings\",\"craig\",\"modesty\",\"relate\",\"episodes\",\"strong\",\"smith\",\"tear\",\"apartment\",\"princess\",\"disagree\",\"kung\",\"adventure\",\"columbo\",\"jake\",\"adds\",\"hart\",\"strength\",\"realizes\",\"dave\",\"childhood\",\"forbidden\",\"tight\",\"surreal\",\"manager\",\"dancer\",\"studios\",\"con\",\"miike\",\"realistic\",\"explicit\",\"kurt\",\"traditional\",\"deals\",\"holds\",\"carl\",\"touches\",\"gene\",\"albert\",\"abc\",\"cry\",\"sides\",\"develops\",\"eyre\",\"dances\",\"oscars\",\"legendary\",\"hearted\",\"importance\",\"portraying\",\"impressed\",\"waters\",\"empire\",\"edge\",\"jean\",\"environment\",\"sentimental\",\"captured\",\"styles\",\"daring\",\"frank\",\"tense\",\"backgrounds\",\"matches\",\"gothic\",\"sharp\",\"achieved\",\"court\",\"steals\",\"rules\",\"colors\",\"reunion\",\"covers\",\"tale\",\"rain\",\"denzel\",\"stays\",\"blob\",\"maria\",\"conventional\",\"fresh\",\"midnight\",\"landscape\",\"animated\",\"titanic\",\"sunday\",\"spring\",\"cagney\",\"enjoyable\",\"immensely\",\"sir\",\"nevertheless\",\"driven\",\"performances\",\"memories\",\"nowadays\",\"simple\",\"golden\",\"leslie\",\"lovers\",\"relationship\",\"supporting\",\"che\",\"packed\",\"trek\",\"provoking\",\"strikes\",\"depiction\",\"emotional\",\"secretary\",\"influenced\",\"florida\",\"germany\",\"brings\",\"lewis\",\"elderly\",\"owner\",\"streets\",\"henry\",\"portrays\",\"bears\",\"china\",\"anger\",\"society\",\"available\",\"best\",\"bugs\",\"magic\",\"delivers\",\"verhoeven\",\"jim\",\"donald\",\"endearing\",\"relationships\",\"greatly\",\"charlie\",\"brad\",\"simon\",\"effectively\",\"march\",\"atmosphere\",\"influence\",\"genius\",\"emotionally\",\"ken\",\"identity\",\"sophisticated\",\"dan\",\"andrew\",\"india\",\"roy\",\"surprisingly\",\"sky\",\"romantic\",\"match\",\"meets\",\"cowboy\",\"wave\",\"bitter\",\"patient\",\"stylish\",\"britain\",\"affected\",\"beatty\",\"love\",\"paul\",\"andy\",\"performance\",\"patrick\",\"unlike\",\"brooks\",\"refuses\",\"award\",\"complaint\",\"ride\",\"dawson\",\"luke\",\"wells\",\"france\",\"sports\",\"handsome\",\"directs\",\"rebel\",\"boll\",\"uwe\",\"seagal\",\"unwatchable\",\"stinker\",\"mst\",\"incoherent\",\"unfunny\",\"waste\",\"blah\",\"horrid\",\"pointless\",\"atrocious\",\"redeeming\",\"prom\",\"drivel\",\"lousy\",\"worst\",\"laughable\",\"awful\",\"poorly\",\"wasting\",\"remotely\",\"existent\",\"boredom\",\"miserably\",\"sucks\",\"uninspired\",\"lame\",\"insult\",\"godzilla\",\"uninteresting\",\"gadget\",\"appalling\",\"unconvincing\",\"unintentional\",\"horrible\",\"amateurish\",\"pathetic\",\"idiotic\",\"stupidity\",\"cardboard\",\"wasted\",\"crap\",\"insulting\",\"tedious\",\"dreadful\",\"dire\",\"badly\",\"suck\",\"worse\",\"terrible\",\"embarrassing\",\"mess\",\"garbage\",\"pile\",\"stupid\",\"ashamed\",\"vampires\",\"worthless\",\"dull\",\"inept\",\"avoid\",\"wooden\",\"forgettable\",\"fulci\",\"crappy\",\"bat\",\"unbelievably\",\"whatsoever\",\"excuse\",\"rubbish\",\"ridiculous\",\"junk\",\"flop\",\"boring\",\"turkey\",\"shark\",\"topless\",\"ridiculously\",\"useless\",\"seed\",\"ripped\",\"embarrassed\",\"rambo\",\"costs\",\"hideous\",\"horrendous\",\"bother\",\"dumb\",\"disjointed\",\"plastic\",\"horribly\",\"fest\",\"ludicrous\",\"unintentionally\",\"obnoxious\",\"mildly\",\"bland\",\"mummy\",\"annoying\",\"amateur\",\"bad\",\"dinosaurs\",\"unless\",\"fails\",\"mediocre\",\"awake\",\"clichd\",\"clich\",\"meaningless\",\"disappointment\",\"zombies\",\"asleep\",\"miscast\",\"irritating\",\"utter\",\"disappointing\",\"screaming\",\"supposed\",\"kidding\",\"poor\",\"apes\",\"unbelievable\",\"fake\",\"dude\",\"dracula\",\"joke\",\"clumsy\",\"random\",\"cheap\",\"idiots\",\"devoid\",\"trite\",\"wannabe\",\"unbearable\",\"alright\",\"pretentious\",\"scooby\",\"sucked\",\"senseless\",\"bo\",\"bin\",\"coherent\",\"idiot\",\"toilet\",\"doo\",\"werewolf\",\"cabin\",\"generous\",\"offensive\",\"monkey\",\"painfully\",\"renting\",\"lazy\",\"disgusting\",\"blame\",\"walked\",\"seconds\",\"generic\",\"cheese\",\"sloppy\",\"huh\",\"retarded\",\"trash\",\"shelf\",\"ugly\",\"oh\",\"slightest\",\"explanation\",\"failed\",\"cringe\",\"blatant\",\"clue\",\"bored\",\"cgi\",\"sat\",\"paid\",\"warn\",\"painful\",\"nowhere\",\"bore\",\"absurd\",\"flies\",\"paint\",\"porn\",\"paper\",\"predictable\",\"pseudo\",\"repetitive\",\"outer\",\"brain\",\"sorry\",\"vampire\",\"motivation\",\"unrealistic\",\"wrestling\",\"overrated\",\"aliens\",\"halfway\",\"save\",\"santa\",\"security\",\"contrived\",\"lacks\",\"whale\",\"gore\",\"bunch\",\"hype\",\"flat\",\"noise\",\"below\",\"plain\",\"spending\",\"bothered\",\"annoyed\",\"sounded\",\"honestly\",\"minutes\",\"wreck\",\"lesbian\",\"chick\",\"dollar\",\"f\",\"secondly\",\"wanna\",\"rat\",\"errors\",\"shallow\",\"synopsis\",\"breasts\",\"gray\",\"yeah\",\"nonsense\",\"unnecessary\",\"swear\",\"grave\",\"ruined\",\"somebody\",\"elvis\",\"mindless\",\"terribly\",\"continuity\",\"hoping\",\"ha\",\"nudity\",\"endless\",\"decent\",\"torture\",\"rented\",\"disaster\",\"downright\",\"ok\",\"fat\",\"unpleasant\",\"figured\",\"rip\",\"throwing\",\"attempt\",\"weak\",\"slap\",\"jesus\",\"christian\",\"barely\",\"apparently\",\"implausible\",\"nothing\",\"clichs\",\"credibility\",\"bible\",\"explained\",\"presumably\",\"celluloid\",\"couldn\",\"money\",\"snake\",\"hollow\",\"load\",\"sake\",\"total\",\"priest\",\"supposedly\",\"consists\",\"zombie\",\"bomb\",\"ape\",\"bottom\",\"christ\",\"unfortunately\",\"bullets\",\"grade\",\"drags\",\"freak\",\"wolf\",\"fx\",\"offended\",\"script\",\"raped\",\"producers\",\"okay\",\"confusing\",\"stomach\",\"monster\",\"seriously\",\"alas\",\"promising\",\"knife\",\"substance\",\"premise\",\"threw\",\"k\",\"dear\",\"z\",\"write\",\"rental\",\"warned\",\"zero\",\"semi\",\"guess\",\"scientist\",\"logic\",\"vague\",\"slasher\",\"throw\",\"accents\",\"alien\",\"silly\",\"clown\",\"skip\",\"instead\",\"blank\",\"throat\",\"lab\",\"par\",\"gag\",\"execution\",\"nose\",\"hated\",\"effort\",\"shoot\",\"fill\",\"gratuitous\",\"burn\",\"none\",\"cameras\",\"assume\",\"stick\",\"reasonable\",\"failure\",\"pie\",\"rent\",\"dubbing\",\"weren\",\"truck\",\"stock\",\"thin\",\"daddy\",\"holy\",\"exercise\",\"pg\",\"arm\",\"tried\",\"suppose\",\"advice\",\"gonna\",\"disbelief\",\"derek\",\"mean\",\"merit\",\"looked\",\"channel\",\"gross\",\"stereotypical\",\"hoped\",\"lacking\",\"spent\",\"stiff\",\"overdone\",\"low\",\"romero\",\"hour\",\"blair\",\"saved\",\"damage\",\"reason\",\"intentions\",\"sentence\",\"hardcore\",\"makeup\",\"lack\",\"makers\",\"empty\",\"holes\",\"wouldn\",\"proof\",\"demon\",\"toys\",\"doll\",\"utterly\",\"originality\",\"bush\",\"saying\",\"cover\",\"meat\",\"forest\",\"deserve\",\"sum\",\"bucks\",\"hills\",\"watchable\",\"lacked\",\"handed\",\"mistake\",\"please\",\"whoever\",\"sadistic\",\"monsters\",\"screenwriter\",\"neither\",\"nuclear\",\"sequels\",\"flesh\",\"lying\",\"creature\",\"annie\",\"propaganda\",\"leonard\",\"thats\",\"racist\",\"convince\",\"asian\",\"why\",\"rex\",\"satan\",\"remake\",\"fail\",\"ah\",\"loser\",\"favor\",\"except\",\"flick\",\"freddy\",\"relies\",\"spare\",\"dialog\",\"lou\",\"dragged\",\"guy\",\"problem\",\"melting\",\"flash\",\"im\",\"least\",\"mouth\",\"sole\",\"hell\",\"jerk\",\"drink\",\"intent\",\"shower\",\"fifteen\",\"wasn\",\"thugs\",\"corpse\",\"virus\",\"idea\",\"budget\",\"minimal\",\"reasonably\",\"naked\",\"rick\",\"category\",\"cheesy\",\"judging\",\"half\",\"pregnant\",\"no\",\"millions\",\"stereotypes\",\"juvenile\",\"weekend\",\"convoluted\",\"laurel\",\"killings\",\"sequel\",\"hire\",\"somewhere\",\"frankly\",\"paying\",\"someone\",\"cant\",\"cash\",\"research\",\"dimensional\",\"walk\",\"editing\",\"conceived\",\"scare\",\"positive\",\"anything\"],\"x1\":{\"__ndarray__\":\"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\",\"dtype\":\"float32\",\"shape\":[1000]},\"x2\":{\"__ndarray__\":\"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\",\"dtype\":\"float32\",\"shape\":[1000]}},\"selected\":{\"id\":\"1579\",\"type\":\"Selection\"},\"selection_policy\":{\"id\":\"1578\",\"type\":\"UnionRenderers\"}},\"id\":\"1530\",\"type\":\"ColumnDataSource\"},{\"attributes\":{\"fill_alpha\":{\"value\":0.1},\"fill_color\":{\"value\":\"#1f77b4\"},\"line_alpha\":{\"value\":0.1},\"line_color\":{\"value\":\"#1f77b4\"},\"size\":{\"units\":\"screen\",\"value\":8},\"x\":{\"field\":\"x1\"},\"y\":{\"field\":\"x2\"}},\"id\":\"1533\",\"type\":\"Scatter\"},{\"attributes\":{\"callback\":null},\"id\":\"1505\",\"type\":\"DataRange1d\"},{\"attributes\":{\"dimension\":1,\"ticker\":{\"id\":\"1517\",\"type\":\"BasicTicker\"}},\"id\":\"1520\",\"type\":\"Grid\"},{\"attributes\":{\"ticker\":{\"id\":\"1512\",\"type\":\"BasicTicker\"}},\"id\":\"1515\",\"type\":\"Grid\"},{\"attributes\":{\"source\":{\"id\":\"1530\",\"type\":\"ColumnDataSource\"},\"text\":{\"field\":\"names\"},\"text_align\":\"center\",\"text_color\":{\"value\":\"#555555\"},\"text_font_size\":{\"value\":\"8pt\"},\"x\":{\"field\":\"x1\"},\"y\":{\"field\":\"x2\"},\"y_offset\":{\"value\":6}},\"id\":\"1536\",\"type\":\"LabelSet\"},{\"attributes\":{},\"id\":\"1509\",\"type\":\"LinearScale\"},{\"attributes\":{},\"id\":\"1577\",\"type\":\"BasicTickFormatter\"},{\"attributes\":{},\"id\":\"1521\",\"type\":\"PanTool\"},{\"attributes\":{},\"id\":\"1578\",\"type\":\"UnionRenderers\"},{\"attributes\":{\"callback\":null},\"id\":\"1503\",\"type\":\"DataRange1d\"},{\"attributes\":{},\"id\":\"1522\",\"type\":\"WheelZoomTool\"}],\"root_ids\":[\"1500\"]},\"title\":\"Bokeh Application\",\"version\":\"1.4.0\"}};\n",
              "  var render_items = [{\"docid\":\"83311722-4e7a-44f0-9ee8-3660607ff1c8\",\"roots\":{\"1500\":\"a53cc499-219f-49f7-8e1d-39555a8a0a63\"}}];\n",
              "  root.Bokeh.embed.embed_items_notebook(docs_json, render_items);\n",
              "\n",
              "  }\n",
              "  if (root.Bokeh !== undefined) {\n",
              "    embed_document(root);\n",
              "  } else {\n",
              "    var attempts = 0;\n",
              "    var timer = setInterval(function(root) {\n",
              "      if (root.Bokeh !== undefined) {\n",
              "        clearInterval(timer);\n",
              "        embed_document(root);\n",
              "      } else {\n",
              "        attempts++;\n",
              "        if (attempts > 100) {\n",
              "          clearInterval(timer);\n",
              "          console.log(\"Bokeh: ERROR: Unable to run BokehJS code because BokehJS library is missing\");\n",
              "        }\n",
              "      }\n",
              "    }, 10, root)\n",
              "  }\n",
              "})(window);"
            ],
            "application/vnd.bokehjs_exec.v0+json": ""
          },
          "metadata": {
            "tags": [],
            "application/vnd.bokehjs_exec.v0+json": {
              "id": "1500"
            }
          }
        }
      ]
    },
    {
      "cell_type": "code",
      "metadata": {
        "id": "Cjdr_FGfPqk1",
        "colab_type": "code",
        "colab": {}
      },
      "source": [
        ""
      ],
      "execution_count": 0,
      "outputs": []
    }
  ]
}