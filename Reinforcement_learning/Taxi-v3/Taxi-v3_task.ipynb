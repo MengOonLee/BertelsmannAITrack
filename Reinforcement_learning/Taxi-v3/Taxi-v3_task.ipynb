{
 "cells": [
  {
   "cell_type": "markdown",
   "id": "0e4e09e0-d650-4539-ac36-886a48a6a50d",
   "metadata": {},
   "source": [
    "# Taxi-v3"
   ]
  },
  {
   "cell_type": "code",
   "execution_count": 1,
   "id": "f37abb17-dbe1-4d7a-b9fe-3f6458982a4f",
   "metadata": {},
   "outputs": [],
   "source": [
    "import numpy as np\n",
    "from collections import defaultdict\n",
    "\n",
    "class Agent:\n",
    "    \n",
    "    def __init__(self, nA=6):\n",
    "        \"\"\" Initialize agent.\n",
    "        \n",
    "        Params\n",
    "        ======\n",
    "        - nA: number of actions available to the agent\n",
    "        \"\"\"\n",
    "        self.nA = nA\n",
    "        self.Q = defaultdict(lambda: np.zeros(self.nA))\n",
    "        \n",
    "    def select_action(self, state):\n",
    "        \"\"\" Given the state, select an action.\n",
    "        \n",
    "        Params\n",
    "        ======\n",
    "        - state: the current state of the environment\n",
    "        \n",
    "        Returns\n",
    "        =======\n",
    "        - action: an integer, compatible with the task's action space\n",
    "        \"\"\"       \n",
    "        return np.random.choice(self.nA)\n",
    "    \n",
    "    def step(self, state, action, reward, next_state, done):\n",
    "        \"\"\" Update the agent's knowledge, using the most recently sampled tuple.\n",
    "        \n",
    "        Params\n",
    "        ======\n",
    "        - state: the previous state of the environment\n",
    "        - action: the agent's previous choice of action\n",
    "        - reward: last reward received\n",
    "        - next_state: the current state of the environment\n",
    "        - done: whether the episode is complete (True or False)\n",
    "        \"\"\"\n",
    "        self.Q[state][action] += 1"
   ]
  },
  {
   "cell_type": "code",
   "execution_count": 2,
   "id": "956aa2cc-3b95-4ea5-a94d-32a1b01c22a7",
   "metadata": {},
   "outputs": [],
   "source": [
    "from collections import deque\n",
    "import sys\n",
    "import math\n",
    "import numpy as np\n",
    "\n",
    "def interact(env, agent, num_episodes=20000, window=100):\n",
    "    \"\"\" Monitor agent's performance.\n",
    "    \n",
    "    Params\n",
    "    ======\n",
    "    - env: instance of OpenAI Gym's Taxi-v3 environment\n",
    "    - agent: instance of class Agent (see Agent for details)\n",
    "    - num_episodes: number of episodes of agent-environment interaction\n",
    "    - window: number of episodes to consider when calculating average rewards\n",
    "    \n",
    "    Returns\n",
    "    =======\n",
    "    - avg_rewards: deque containing average rewards\n",
    "    - best_avg_reward: largest value in the avg_rewards deque\n",
    "    \"\"\"\n",
    "    # initialize average rewards\n",
    "    avg_rewards = deque(maxlen=num_episodes)\n",
    "    # initialize best average reward\n",
    "    best_avg_reward = -math.inf\n",
    "    # initialize monitor for most recent rewards\n",
    "    samp_rewards = deque(maxlen=window)\n",
    "    # for each episode\n",
    "    for i_episode in range(1, num_episodes + 1):\n",
    "        # begin the episode\n",
    "        state = env.reset()\n",
    "        # initialize the sampled reward\n",
    "        samp_reward = 0\n",
    "        while True:\n",
    "            # agent selects an action\n",
    "            action = agent.select_action(state)\n",
    "            # agent performs the selected action\n",
    "            next_state, reward, done, _ = env.step(action)\n",
    "            # agent performs internal updates based on sampled experience\n",
    "            agent.step(state, action, reward, next_state, done)\n",
    "            # update the sampled reward\n",
    "            samp_reward += reward\n",
    "            # update the state (s <- s') to next time step\n",
    "            state = next_state\n",
    "            if done:\n",
    "                # save final sampled reward\n",
    "                samp_rewards.append(samp_reward)\n",
    "                break\n",
    "        if (i_episode >= 100):\n",
    "            # get average reward from last 100 episodes\n",
    "            avg_reward = np.mean(samp_rewards)\n",
    "            # append to deque\n",
    "            avg_rewards.append(avg_reward)\n",
    "            # update best average reward\n",
    "            if avg_reward > best_avg_reward:\n",
    "                best_avg_reward = avg_reward\n",
    "        # monitor progress\n",
    "        print('\\rEpisode {}/{} || Best average reward {}'.format(\n",
    "            i_episode, num_episodes, best_avg_reward), end=\"\")\n",
    "        sys.stdout.flush()\n",
    "        # check if task is solved (according to OpenAI Gym)\n",
    "        if best_avg_reward >= 9.7:\n",
    "            print('\\nEnvironment solved in {} episodes.'.format(\n",
    "                i_episode), end=\"\")\n",
    "            break\n",
    "        if i_episode == num_episodes:\n",
    "            print('\\n')\n",
    "        if i_episode % 5000 == 0:\n",
    "            env.render()\n",
    "            print('Reward = {}'.format(reward))\n",
    "    return avg_rewards, best_avg_reward"
   ]
  },
  {
   "cell_type": "markdown",
   "id": "e4d079a6-4bd5-48af-bea8-cec9aeca87e1",
   "metadata": {},
   "source": [
    "## Specify the Environment, and explore the state and action spaces\n",
    "\n",
    "We'll use OpenAI Gym Taxi-v3 environments to test and develop our algorithms. Let use the environment that has a discrete state and action spaces."
   ]
  },
  {
   "cell_type": "code",
   "execution_count": 3,
   "id": "a2893910-74b9-4a2f-bc01-25169c05731d",
   "metadata": {},
   "outputs": [
    {
     "name": "stdout",
     "output_type": "stream",
     "text": [
      "State space: Discrete(500)\n",
      "Action space: Discrete(6)\n",
      "Episode 10000/20000 || Best average reward -743.06+---------+\n",
      "|R: | : :\u001b[34;1mG\u001b[0m|\n",
      "| : | : :\u001b[43m \u001b[0m|\n",
      "| : : : : |\n",
      "| | : | : |\n",
      "|Y| : |\u001b[35mB\u001b[0m: |\n",
      "+---------+\n",
      "  (North)\n",
      "Reward = -1\n",
      "Episode 20000/20000 || Best average reward -736.28\n",
      "\n",
      "+---------+\n",
      "|R: | : :\u001b[35mG\u001b[0m|\n",
      "| : | : : |\n",
      "| : : : : |\n",
      "|\u001b[43m \u001b[0m| : | : |\n",
      "|\u001b[34;1mY\u001b[0m| : |B: |\n",
      "+---------+\n",
      "  (Pickup)\n",
      "Reward = -10\n"
     ]
    }
   ],
   "source": [
    "import gym\n",
    "\n",
    "env = gym.make('Taxi-v3')\n",
    "print('State space:', env.observation_space)\n",
    "print('Action space:', env.action_space)\n",
    "\n",
    "agent = Agent()\n",
    "avg_rewards, best_avg_reward = interact(env, agent)"
   ]
  },
  {
   "cell_type": "markdown",
   "id": "b34f2744-772e-4100-b85b-36854f1307eb",
   "metadata": {},
   "source": [
    "Run the next code cell to watch a random agent"
   ]
  },
  {
   "cell_type": "code",
   "execution_count": 1,
   "id": "28ef6507-1663-41ce-b810-b2dd628091ff",
   "metadata": {},
   "outputs": [
    {
     "name": "stdout",
     "output_type": "stream",
     "text": [
      "Writing render.py\n"
     ]
    }
   ],
   "source": [
    "%%file render.py\n",
    "import gym\n",
    "import sys\n",
    "\n",
    "env = gym.make('Taxi-v3')\n",
    "env.seed(505)\n",
    "state = env.reset()\n",
    "score = 0\n",
    "for _ in range(200):\n",
    "    env.render()\n",
    "    action = env.action_space.sample()\n",
    "    state, reward, done, info = env.step(action)\n",
    "    score += reward\n",
    "    if done:\n",
    "        break\n",
    "        \n",
    "print('Final score:', score)\n",
    "env.close()"
   ]
  }
 ],
 "metadata": {
  "kernelspec": {
   "display_name": "Python 3",
   "language": "python",
   "name": "python3"
  },
  "language_info": {
   "codemirror_mode": {
    "name": "ipython",
    "version": 3
   },
   "file_extension": ".py",
   "mimetype": "text/x-python",
   "name": "python",
   "nbconvert_exporter": "python",
   "pygments_lexer": "ipython3",
   "version": "3.8.0"
  }
 },
 "nbformat": 4,
 "nbformat_minor": 5
}
